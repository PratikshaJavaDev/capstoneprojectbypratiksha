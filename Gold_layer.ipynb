{
 "cells": [
  {
   "cell_type": "markdown",
   "metadata": {
    "application/vnd.databricks.v1+cell": {
     "cellMetadata": {},
     "inputWidgets": {},
     "nuid": "4d9fd530-d870-4f2e-8481-04d42804b2af",
     "showTitle": false,
     "title": ""
    }
   },
   "source": [
    "## Read the table  from the \"silver\" database"
   ]
  },
  {
   "cell_type": "code",
   "execution_count": 0,
   "metadata": {
    "application/vnd.databricks.v1+cell": {
     "cellMetadata": {
      "byteLimit": 2048000,
      "rowLimit": 10000
     },
     "inputWidgets": {},
     "nuid": "496f1921-65c0-45e1-a725-fbbc0e85b7d0",
     "showTitle": false,
     "title": ""
    }
   },
   "outputs": [],
   "source": [
    "transaction_df=spark.read.table(\"hive_metastore.silver.cleaned_transaction\");\n",
    "customer_df=spark.read.table(\"hive_metastore.silver.cleaned_customer\");\n",
    "branch_df=spark.read.table(\"hive_metastore.silver.cleaned_branch\");\n",
    "merged_df=spark.read.table(\"hive_metastore.silver.cleaned_mereged\");"
   ]
  },
  {
   "cell_type": "markdown",
   "metadata": {
    "application/vnd.databricks.v1+cell": {
     "cellMetadata": {},
     "inputWidgets": {},
     "nuid": "285419ad-3020-4a28-843e-07296fff2c40",
     "showTitle": false,
     "title": ""
    }
   },
   "source": [
    "## Fraud_Flags_table"
   ]
  },
  {
   "cell_type": "code",
   "execution_count": 0,
   "metadata": {
    "application/vnd.databricks.v1+cell": {
     "cellMetadata": {
      "byteLimit": 2048000,
      "rowLimit": 10000
     },
     "inputWidgets": {},
     "nuid": "02487595-b3ed-4537-95d2-b6e7b9750fd2",
     "showTitle": false,
     "title": ""
    }
   },
   "outputs": [
    {
     "output_type": "display_data",
     "data": {
      "text/html": [
       "<style scoped>\n",
       "  .table-result-container {\n",
       "    max-height: 300px;\n",
       "    overflow: auto;\n",
       "  }\n",
       "  table, th, td {\n",
       "    border: 1px solid black;\n",
       "    border-collapse: collapse;\n",
       "  }\n",
       "  th, td {\n",
       "    padding: 5px;\n",
       "  }\n",
       "  th {\n",
       "    text-align: left;\n",
       "  }\n",
       "</style><div class='table-result-container'><table class='table-result'><thead style='background-color: white'><tr><th>flag_id</th><th>transaction_id</th><th>flag_type</th><th>confidence_score</th><th>timestamp</th></tr></thead><tbody><tr><td>F000</td><td>T6067</td><td>low_value_transaction</td><td>0.6</td><td>2023-01-22T16:15:00Z</td></tr><tr><td>F001</td><td>T6074</td><td>unusual_amount</td><td>0.9</td><td>2023-01-22T19:12:00Z</td></tr><tr><td>F002</td><td>T6082</td><td>low_value_transaction</td><td>0.6</td><td>2023-01-22T22:58:00Z</td></tr><tr><td>F003</td><td>T6086</td><td>watchlist_match</td><td>0.95</td><td>2023-01-23T01:11:00Z</td></tr><tr><td>F004</td><td>T6094</td><td>unusual_amount</td><td>0.9</td><td>2023-01-23T07:07:00Z</td></tr><tr><td>F005</td><td>T6099</td><td>low_value_transaction</td><td>0.6</td><td>2023-01-23T09:01:00Z</td></tr><tr><td>F006</td><td>T6102</td><td>unusual_amount</td><td>0.9</td><td>2023-01-23T10:30:00Z</td></tr><tr><td>F007</td><td>T6105</td><td>unusual_amount</td><td>0.9</td><td>2023-01-23T11:52:00Z</td></tr><tr><td>F008</td><td>T6111</td><td>low_value_transaction</td><td>0.6</td><td>2023-01-23T14:35:00Z</td></tr><tr><td>F009</td><td>T6113</td><td>unusual_amount</td><td>0.9</td><td>2023-01-23T15:37:00Z</td></tr><tr><td>F0010</td><td>T6115</td><td>low_value_transaction</td><td>0.6</td><td>2023-01-23T16:44:00Z</td></tr><tr><td>F0011</td><td>T6120</td><td>watchlist_match</td><td>0.95</td><td>2023-01-23T18:12:00Z</td></tr><tr><td>F0012</td><td>T6121</td><td>low_value_transaction</td><td>0.6</td><td>2023-01-23T18:45:00Z</td></tr><tr><td>F0013</td><td>T6122</td><td>unusual_amount</td><td>0.9</td><td>2023-01-23T19:17:00Z</td></tr><tr><td>F0014</td><td>T6125</td><td>unusual_amount</td><td>0.9</td><td>2023-01-23T20:55:00Z</td></tr><tr><td>F0015</td><td>T6146</td><td>low_value_transaction</td><td>0.6</td><td>2023-01-24T09:44:00Z</td></tr><tr><td>F0016</td><td>T6148</td><td>watchlist_match</td><td>0.95</td><td>2023-01-24T10:52:00Z</td></tr><tr><td>F0017</td><td>T5202</td><td>low_value_transaction</td><td>0.6</td><td>2023-01-05T06:04:00Z</td></tr><tr><td>F0018</td><td>T5203</td><td>unusual_amount</td><td>0.9</td><td>2023-01-05T06:06:00Z</td></tr><tr><td>F0019</td><td>T5205</td><td>unusual_amount</td><td>0.9</td><td>2023-01-05T06:59:00Z</td></tr><tr><td>F0020</td><td>T5207</td><td>unusual_amount</td><td>0.9</td><td>2023-01-05T07:43:00Z</td></tr><tr><td>F0021</td><td>T5215</td><td>low_value_transaction</td><td>0.6</td><td>2023-01-05T12:50:00Z</td></tr><tr><td>F0022</td><td>T5219</td><td>low_value_transaction</td><td>0.6</td><td>2023-01-05T15:30:00Z</td></tr><tr><td>F0023</td><td>T5222</td><td>low_value_transaction</td><td>0.6</td><td>2023-01-05T17:11:00Z</td></tr><tr><td>F0024</td><td>T5228</td><td>low_value_transaction</td><td>0.6</td><td>2023-01-05T19:36:00Z</td></tr><tr><td>F0025</td><td>T5231</td><td>low_value_transaction</td><td>0.6</td><td>2023-01-05T21:07:00Z</td></tr><tr><td>F0026</td><td>T5236</td><td>unusual_amount</td><td>0.9</td><td>2023-01-05T23:36:00Z</td></tr><tr><td>F0027</td><td>T5238</td><td>unusual_amount</td><td>0.9</td><td>2023-01-06T00:22:00Z</td></tr><tr><td>F0028</td><td>T5239</td><td>unusual_amount</td><td>0.9</td><td>2023-01-06T00:57:00Z</td></tr><tr><td>F0029</td><td>T5247</td><td>unusual_amount</td><td>0.9</td><td>2023-01-06T04:49:00Z</td></tr><tr><td>F0030</td><td>T5602</td><td>low_value_transaction</td><td>0.6</td><td>2023-01-13T08:25:00Z</td></tr><tr><td>F0031</td><td>T5608</td><td>low_value_transaction</td><td>0.6</td><td>2023-01-13T10:50:00Z</td></tr><tr><td>F0032</td><td>T5614</td><td>unusual_amount</td><td>0.9</td><td>2023-01-13T14:08:00Z</td></tr><tr><td>F0033</td><td>T5638</td><td>low_value_transaction</td><td>0.6</td><td>2023-01-13T23:11:00Z</td></tr><tr><td>F0034</td><td>T5640</td><td>low_value_transaction</td><td>0.6</td><td>2023-01-13T23:29:00Z</td></tr><tr><td>F0035</td><td>T5645</td><td>low_value_transaction</td><td>0.6</td><td>2023-01-14T03:03:00Z</td></tr><tr><td>F0036</td><td>T5646</td><td>low_value_transaction</td><td>0.6</td><td>2023-01-14T03:10:00Z</td></tr><tr><td>F0037</td><td>T5648</td><td>unusual_amount</td><td>0.9</td><td>2023-01-14T03:39:00Z</td></tr><tr><td>F0038</td><td>T5902</td><td>unusual_amount</td><td>0.9</td><td>2023-01-19T09:47:00Z</td></tr><tr><td>F0039</td><td>T5904</td><td>low_value_transaction</td><td>0.6</td><td>2023-01-19T11:18:00Z</td></tr><tr><td>F0040</td><td>T5912</td><td>unusual_amount</td><td>0.9</td><td>2023-01-19T15:49:00Z</td></tr><tr><td>F0041</td><td>T5922</td><td>low_value_transaction</td><td>0.6</td><td>2023-01-19T21:23:00Z</td></tr><tr><td>F0042</td><td>T5925</td><td>low_value_transaction</td><td>0.6</td><td>2023-01-19T22:30:00Z</td></tr><tr><td>F0043</td><td>T5929</td><td>unusual_amount</td><td>0.9</td><td>2023-01-20T00:18:00Z</td></tr><tr><td>F0044</td><td>T5946</td><td>low_value_transaction</td><td>0.6</td><td>2023-01-20T09:59:00Z</td></tr><tr><td>F0045</td><td>T6606</td><td>unusual_amount</td><td>0.9</td><td>2023-02-02T18:15:00Z</td></tr><tr><td>F0046</td><td>T6611</td><td>unusual_amount</td><td>0.9</td><td>2023-02-02T19:28:00Z</td></tr><tr><td>F0047</td><td>T6638</td><td>unusual_amount</td><td>0.9</td><td>2023-02-03T08:30:00Z</td></tr><tr><td>F0048</td><td>T6649</td><td>low_value_transaction</td><td>0.6</td><td>2023-02-03T16:38:00Z</td></tr><tr><td>F0049</td><td>T5107</td><td>low_value_transaction</td><td>0.6</td><td>2023-01-03T02:48:00Z</td></tr><tr><td>F0050</td><td>T5119</td><td>low_value_transaction</td><td>0.6</td><td>2023-01-03T08:20:00Z</td></tr><tr><td>F0051</td><td>T5954</td><td>low_value_transaction</td><td>0.6</td><td>2023-01-20T12:33:00Z</td></tr><tr><td>F0052</td><td>T5971</td><td>low_value_transaction</td><td>0.6</td><td>2023-01-20T18:56:00Z</td></tr><tr><td>F0053</td><td>T6151</td><td>low_value_transaction</td><td>0.6</td><td>2023-01-24T11:17:00Z</td></tr><tr><td>F0054</td><td>T6158</td><td>low_value_transaction</td><td>0.6</td><td>2023-01-24T14:55:00Z</td></tr><tr><td>F0055</td><td>T6168</td><td>low_value_transaction</td><td>0.6</td><td>2023-01-24T18:38:00Z</td></tr><tr><td>F0056</td><td>T6169</td><td>low_value_transaction</td><td>0.6</td><td>2023-01-24T18:55:00Z</td></tr><tr><td>F0057</td><td>T6172</td><td>low_value_transaction</td><td>0.6</td><td>2023-01-24T20:28:00Z</td></tr><tr><td>F0058</td><td>T6180</td><td>unusual_amount</td><td>0.9</td><td>2023-01-25T00:10:00Z</td></tr><tr><td>F0059</td><td>T6183</td><td>unusual_amount</td><td>0.9</td><td>2023-01-25T01:19:00Z</td></tr><tr><td>F0060</td><td>T6186</td><td>unusual_amount</td><td>0.9</td><td>2023-01-25T03:37:00Z</td></tr><tr><td>F0061</td><td>T5555</td><td>unusual_amount</td><td>0.9</td><td>2023-01-12T09:43:00Z</td></tr><tr><td>F0062</td><td>T5558</td><td>low_value_transaction</td><td>0.6</td><td>2023-01-12T10:47:00Z</td></tr><tr><td>F0063</td><td>T5560</td><td>low_value_transaction</td><td>0.6</td><td>2023-01-12T11:18:00Z</td></tr><tr><td>F0064</td><td>T5564</td><td>low_value_transaction</td><td>0.6</td><td>2023-01-12T13:57:00Z</td></tr><tr><td>F0065</td><td>T5567</td><td>low_value_transaction</td><td>0.6</td><td>2023-01-12T16:07:00Z</td></tr><tr><td>F0066</td><td>T5569</td><td>low_value_transaction</td><td>0.6</td><td>2023-01-12T17:44:00Z</td></tr><tr><td>F0067</td><td>T5576</td><td>low_value_transaction</td><td>0.6</td><td>2023-01-12T21:01:00Z</td></tr><tr><td>F0068</td><td>T5579</td><td>unusual_amount</td><td>0.9</td><td>2023-01-12T22:10:00Z</td></tr><tr><td>F0069</td><td>T5587</td><td>unusual_amount</td><td>0.9</td><td>2023-01-13T01:49:00Z</td></tr><tr><td>F0070</td><td>T5589</td><td>low_value_transaction</td><td>0.6</td><td>2023-01-13T02:13:00Z</td></tr><tr><td>F0071</td><td>T6305</td><td>low_value_transaction</td><td>0.6</td><td>2023-01-27T19:47:00Z</td></tr><tr><td>F0072</td><td>T6319</td><td>unusual_amount</td><td>0.9</td><td>2023-01-28T02:34:00Z</td></tr><tr><td>F0073</td><td>T6325</td><td>low_value_transaction</td><td>0.6</td><td>2023-01-28T06:09:00Z</td></tr><tr><td>F0074</td><td>T6326</td><td>unusual_amount</td><td>0.9</td><td>2023-01-28T06:59:00Z</td></tr><tr><td>F0075</td><td>T6331</td><td>low_value_transaction</td><td>0.6</td><td>2023-01-28T08:52:00Z</td></tr><tr><td>F0076</td><td>T6349</td><td>low_value_transaction</td><td>0.6</td><td>2023-01-28T18:41:00Z</td></tr><tr><td>F0077</td><td>T5656</td><td>unusual_amount</td><td>0.9</td><td>2023-01-14T06:07:00Z</td></tr><tr><td>F0078</td><td>T5665</td><td>unusual_amount</td><td>0.9</td><td>2023-01-14T10:48:00Z</td></tr><tr><td>F0079</td><td>T5666</td><td>unusual_amount</td><td>0.9</td><td>2023-01-14T11:39:00Z</td></tr><tr><td>F0080</td><td>T5669</td><td>unusual_amount</td><td>0.9</td><td>2023-01-14T13:40:00Z</td></tr><tr><td>F0081</td><td>T5684</td><td>unusual_amount</td><td>0.9</td><td>2023-01-14T20:48:00Z</td></tr><tr><td>F0082</td><td>T5685</td><td>low_value_transaction</td><td>0.6</td><td>2023-01-14T21:24:00Z</td></tr><tr><td>F0083</td><td>T5687</td><td>unusual_amount</td><td>0.9</td><td>2023-01-14T22:36:00Z</td></tr><tr><td>F0084</td><td>T5696</td><td>low_value_transaction</td><td>0.6</td><td>2023-01-15T03:34:00Z</td></tr><tr><td>F0085</td><td>T6403</td><td>low_value_transaction</td><td>0.6</td><td>2023-01-29T16:08:00Z</td></tr><tr><td>F0086</td><td>T6415</td><td>unusual_amount</td><td>0.9</td><td>2023-01-29T22:11:00Z</td></tr><tr><td>F0087</td><td>T6416</td><td>low_value_transaction</td><td>0.6</td><td>2023-01-29T22:33:00Z</td></tr><tr><td>F0088</td><td>T6425</td><td>low_value_transaction</td><td>0.6</td><td>2023-01-30T02:55:00Z</td></tr><tr><td>F0089</td><td>T6435</td><td>unusual_amount</td><td>0.9</td><td>2023-01-30T10:13:00Z</td></tr><tr><td>F0090</td><td>T6436</td><td>unusual_amount</td><td>0.9</td><td>2023-01-30T10:33:00Z</td></tr><tr><td>F0091</td><td>T6437</td><td>low_value_transaction</td><td>0.6</td><td>2023-01-30T11:26:00Z</td></tr><tr><td>F0092</td><td>T5800</td><td>unusual_amount</td><td>0.9</td><td>2023-01-17T05:07:00Z</td></tr><tr><td>F0093</td><td>T5802</td><td>unusual_amount</td><td>0.9</td><td>2023-01-17T06:31:00Z</td></tr><tr><td>F0094</td><td>T5810</td><td>low_value_transaction</td><td>0.6</td><td>2023-01-17T09:57:00Z</td></tr><tr><td>F0095</td><td>T5829</td><td>low_value_transaction</td><td>0.6</td><td>2023-01-17T21:00:00Z</td></tr><tr><td>F0096</td><td>T5831</td><td>low_value_transaction</td><td>0.6</td><td>2023-01-17T21:53:00Z</td></tr><tr><td>F0097</td><td>T5835</td><td>low_value_transaction</td><td>0.6</td><td>2023-01-17T23:36:00Z</td></tr><tr><td>F0098</td><td>T5837</td><td>unusual_amount</td><td>0.9</td><td>2023-01-18T00:50:00Z</td></tr><tr><td>F0099</td><td>T5840</td><td>low_value_transaction</td><td>0.6</td><td>2023-01-18T02:10:00Z</td></tr><tr><td>F00100</td><td>T5851</td><td>low_value_transaction</td><td>0.6</td><td>2023-01-18T07:38:00Z</td></tr><tr><td>F00101</td><td>T5858</td><td>low_value_transaction</td><td>0.6</td><td>2023-01-18T11:08:00Z</td></tr><tr><td>F00102</td><td>T5860</td><td>unusual_amount</td><td>0.9</td><td>2023-01-18T12:34:00Z</td></tr><tr><td>F00103</td><td>T5872</td><td>low_value_transaction</td><td>0.6</td><td>2023-01-18T18:43:00Z</td></tr><tr><td>F00104</td><td>T5880</td><td>unusual_amount</td><td>0.9</td><td>2023-01-18T21:15:00Z</td></tr><tr><td>F00105</td><td>T5893</td><td>unusual_amount</td><td>0.9</td><td>2023-01-19T03:30:00Z</td></tr><tr><td>F00106</td><td>T5896</td><td>low_value_transaction</td><td>0.6</td><td>2023-01-19T05:49:00Z</td></tr><tr><td>F00107</td><td>T6201</td><td>unusual_amount</td><td>0.9</td><td>2023-01-25T10:59:00Z</td></tr><tr><td>F00108</td><td>T6207</td><td>low_value_transaction</td><td>0.6</td><td>2023-01-25T14:36:00Z</td></tr><tr><td>F00109</td><td>T6208</td><td>unusual_amount</td><td>0.9</td><td>2023-01-25T15:05:00Z</td></tr><tr><td>F00110</td><td>T6209</td><td>unusual_amount</td><td>0.9</td><td>2023-01-25T15:06:00Z</td></tr><tr><td>F00111</td><td>T6213</td><td>low_value_transaction</td><td>0.6</td><td>2023-01-25T17:41:00Z</td></tr><tr><td>F00112</td><td>T6216</td><td>low_value_transaction</td><td>0.6</td><td>2023-01-25T19:21:00Z</td></tr><tr><td>F00113</td><td>T6221</td><td>low_value_transaction</td><td>0.6</td><td>2023-01-25T23:02:00Z</td></tr><tr><td>F00114</td><td>T6227</td><td>unusual_amount</td><td>0.9</td><td>2023-01-26T03:06:00Z</td></tr><tr><td>F00115</td><td>T6228</td><td>watchlist_match</td><td>0.95</td><td>2023-01-26T03:36:00Z</td></tr><tr><td>F00116</td><td>T6229</td><td>low_value_transaction</td><td>0.6</td><td>2023-01-26T03:58:00Z</td></tr><tr><td>F00117</td><td>T6248</td><td>low_value_transaction</td><td>0.6</td><td>2023-01-26T14:06:00Z</td></tr><tr><td>F00118</td><td>T6450</td><td>low_value_transaction</td><td>0.6</td><td>2023-01-30T16:56:00Z</td></tr><tr><td>F00119</td><td>T6451</td><td>unusual_amount</td><td>0.9</td><td>2023-01-30T17:00:00Z</td></tr><tr><td>F00120</td><td>T6467</td><td>low_value_transaction</td><td>0.6</td><td>2023-01-31T01:31:00Z</td></tr><tr><td>F00121</td><td>T6484</td><td>low_value_transaction</td><td>0.6</td><td>2023-01-31T09:20:00Z</td></tr><tr><td>F00122</td><td>T6496</td><td>unusual_amount</td><td>0.9</td><td>2023-01-31T14:08:00Z</td></tr><tr><td>F00123</td><td>T5161</td><td>low_value_transaction</td><td>0.6</td><td>2023-01-04T06:25:00Z</td></tr><tr><td>F00124</td><td>T5162</td><td>low_value_transaction</td><td>0.6</td><td>2023-01-04T06:38:00Z</td></tr><tr><td>F00125</td><td>T5186</td><td>low_value_transaction</td><td>0.6</td><td>2023-01-04T21:05:00Z</td></tr><tr><td>F00126</td><td>T5188</td><td>unusual_amount</td><td>0.9</td><td>2023-01-04T21:46:00Z</td></tr><tr><td>F00127</td><td>T5190</td><td>unusual_amount</td><td>0.9</td><td>2023-01-04T23:08:00Z</td></tr><tr><td>F00128</td><td>T5500</td><td>unusual_amount</td><td>0.9</td><td>2023-01-11T12:10:00Z</td></tr><tr><td>F00129</td><td>T5505</td><td>low_value_transaction</td><td>0.6</td><td>2023-01-11T13:43:00Z</td></tr><tr><td>F00130</td><td>T5522</td><td>low_value_transaction</td><td>0.6</td><td>2023-01-11T20:27:00Z</td></tr><tr><td>F00131</td><td>T5540</td><td>low_value_transaction</td><td>0.6</td><td>2023-01-12T03:54:00Z</td></tr><tr><td>F00132</td><td>T5544</td><td>unusual_amount</td><td>0.9</td><td>2023-01-12T05:07:00Z</td></tr><tr><td>F00133</td><td>T5545</td><td>low_value_transaction</td><td>0.6</td><td>2023-01-12T05:39:00Z</td></tr><tr><td>F00134</td><td>T5461</td><td>low_value_transaction</td><td>0.6</td><td>2023-01-10T16:29:00Z</td></tr><tr><td>F00135</td><td>T5466</td><td>watchlist_match</td><td>0.95</td><td>2023-01-10T20:21:00Z</td></tr><tr><td>F00136</td><td>T5468</td><td>low_value_transaction</td><td>0.6</td><td>2023-01-10T21:12:00Z</td></tr><tr><td>F00137</td><td>T5479</td><td>low_value_transaction</td><td>0.6</td><td>2023-01-11T00:41:00Z</td></tr><tr><td>F00138</td><td>T5484</td><td>unusual_amount</td><td>0.9</td><td>2023-01-11T03:36:00Z</td></tr><tr><td>F00139</td><td>T5485</td><td>low_value_transaction</td><td>0.6</td><td>2023-01-11T03:36:00Z</td></tr><tr><td>F00140</td><td>T5490</td><td>unusual_amount</td><td>0.9</td><td>2023-01-11T06:50:00Z</td></tr><tr><td>F00141</td><td>T5362</td><td>unusual_amount</td><td>0.9</td><td>2023-01-08T14:26:00Z</td></tr><tr><td>F00142</td><td>T5367</td><td>low_value_transaction</td><td>0.6</td><td>2023-01-08T16:13:00Z</td></tr><tr><td>F00143</td><td>T5379</td><td>unusual_amount</td><td>0.9</td><td>2023-01-08T21:58:00Z</td></tr><tr><td>F00144</td><td>T5385</td><td>low_value_transaction</td><td>0.6</td><td>2023-01-09T00:33:00Z</td></tr><tr><td>F00145</td><td>T5392</td><td>low_value_transaction</td><td>0.6</td><td>2023-01-09T05:25:00Z</td></tr><tr><td>F00146</td><td>T5394</td><td>unusual_amount</td><td>0.9</td><td>2023-01-09T06:46:00Z</td></tr><tr><td>F00147</td><td>T5009</td><td>low_value_transaction</td><td>0.6</td><td>2023-01-01T04:44:00Z</td></tr><tr><td>F00148</td><td>T5009</td><td>watchlist_match</td><td>0.95</td><td>2023-01-01T04:44:00Z</td></tr><tr><td>F00149</td><td>T5019</td><td>low_value_transaction</td><td>0.6</td><td>2023-01-01T09:59:00Z</td></tr><tr><td>F00150</td><td>T5026</td><td>low_value_transaction</td><td>0.6</td><td>2023-01-01T13:21:00Z</td></tr><tr><td>F00151</td><td>T5033</td><td>low_value_transaction</td><td>0.6</td><td>2023-01-01T16:45:00Z</td></tr><tr><td>F00152</td><td>T5406</td><td>unusual_amount</td><td>0.9</td><td>2023-01-09T12:19:00Z</td></tr><tr><td>F00153</td><td>T5425</td><td>low_value_transaction</td><td>0.6</td><td>2023-01-09T21:13:00Z</td></tr><tr><td>F00154</td><td>T5433</td><td>low_value_transaction</td><td>0.6</td><td>2023-01-10T01:42:00Z</td></tr><tr><td>F00155</td><td>T5443</td><td>low_value_transaction</td><td>0.6</td><td>2023-01-10T07:18:00Z</td></tr><tr><td>F00156</td><td>T6360</td><td>low_value_transaction</td><td>0.6</td><td>2023-01-28T23:10:00Z</td></tr><tr><td>F00157</td><td>T6368</td><td>low_value_transaction</td><td>0.6</td><td>2023-01-29T02:18:00Z</td></tr><tr><td>F00158</td><td>T6373</td><td>low_value_transaction</td><td>0.6</td><td>2023-01-29T03:22:00Z</td></tr><tr><td>F00159</td><td>T6381</td><td>unusual_amount</td><td>0.9</td><td>2023-01-29T07:57:00Z</td></tr><tr><td>F00160</td><td>T6383</td><td>unusual_amount</td><td>0.9</td><td>2023-01-29T08:55:00Z</td></tr><tr><td>F00161</td><td>T6394</td><td>low_value_transaction</td><td>0.6</td><td>2023-01-29T13:31:00Z</td></tr><tr><td>F00162</td><td>T6252</td><td>unusual_amount</td><td>0.9</td><td>2023-01-26T16:07:00Z</td></tr><tr><td>F00163</td><td>T6254</td><td>low_value_transaction</td><td>0.6</td><td>2023-01-26T17:02:00Z</td></tr><tr><td>F00164</td><td>T6258</td><td>low_value_transaction</td><td>0.6</td><td>2023-01-26T17:40:00Z</td></tr><tr><td>F00165</td><td>T6265</td><td>low_value_transaction</td><td>0.6</td><td>2023-01-26T20:16:00Z</td></tr><tr><td>F00166</td><td>T6266</td><td>low_value_transaction</td><td>0.6</td><td>2023-01-26T21:15:00Z</td></tr><tr><td>F00167</td><td>T6270</td><td>low_value_transaction</td><td>0.6</td><td>2023-01-26T23:55:00Z</td></tr><tr><td>F00168</td><td>T6285</td><td>low_value_transaction</td><td>0.6</td><td>2023-01-27T08:13:00Z</td></tr><tr><td>F00169</td><td>T6296</td><td>low_value_transaction</td><td>0.6</td><td>2023-01-27T14:33:00Z</td></tr><tr><td>F00170</td><td>T6299</td><td>low_value_transaction</td><td>0.6</td><td>2023-01-27T16:04:00Z</td></tr><tr><td>F00171</td><td>T6510</td><td>unusual_amount</td><td>0.9</td><td>2023-01-31T19:24:00Z</td></tr><tr><td>F00172</td><td>T6528</td><td>low_value_transaction</td><td>0.6</td><td>2023-02-01T02:56:00Z</td></tr><tr><td>F00173</td><td>T6534</td><td>low_value_transaction</td><td>0.6</td><td>2023-02-01T05:55:00Z</td></tr><tr><td>F00174</td><td>T6539</td><td>low_value_transaction</td><td>0.6</td><td>2023-02-01T07:59:00Z</td></tr><tr><td>F00175</td><td>T6543</td><td>low_value_transaction</td><td>0.6</td><td>2023-02-01T10:20:00Z</td></tr><tr><td>F00176</td><td>T6546</td><td>low_value_transaction</td><td>0.6</td><td>2023-02-01T11:58:00Z</td></tr><tr><td>F00177</td><td>T6548</td><td>low_value_transaction</td><td>0.6</td><td>2023-02-01T13:46:00Z</td></tr><tr><td>F00178</td><td>T5702</td><td>low_value_transaction</td><td>0.6</td><td>2023-01-15T05:39:00Z</td></tr><tr><td>F00179</td><td>T5711</td><td>low_value_transaction</td><td>0.6</td><td>2023-01-15T09:24:00Z</td></tr><tr><td>F00180</td><td>T5726</td><td>unusual_amount</td><td>0.9</td><td>2023-01-15T16:00:00Z</td></tr><tr><td>F00181</td><td>T5736</td><td>low_value_transaction</td><td>0.6</td><td>2023-01-15T21:52:00Z</td></tr><tr><td>F00182</td><td>T5744</td><td>watchlist_match</td><td>0.95</td><td>2023-01-16T01:41:00Z</td></tr><tr><td>F00183</td><td>T5750</td><td>low_value_transaction</td><td>0.6</td><td>2023-01-16T04:43:00Z</td></tr><tr><td>F00184</td><td>T5753</td><td>unusual_amount</td><td>0.9</td><td>2023-01-16T06:38:00Z</td></tr><tr><td>F00185</td><td>T5758</td><td>low_value_transaction</td><td>0.6</td><td>2023-01-16T08:20:00Z</td></tr><tr><td>F00186</td><td>T5773</td><td>unusual_amount</td><td>0.9</td><td>2023-01-16T15:37:00Z</td></tr><tr><td>F00187</td><td>T5777</td><td>unusual_amount</td><td>0.9</td><td>2023-01-16T17:26:00Z</td></tr><tr><td>F00188</td><td>T5782</td><td>low_value_transaction</td><td>0.6</td><td>2023-01-16T20:44:00Z</td></tr><tr><td>F00189</td><td>T5784</td><td>low_value_transaction</td><td>0.6</td><td>2023-01-16T21:28:00Z</td></tr><tr><td>F00190</td><td>T5785</td><td>unusual_amount</td><td>0.9</td><td>2023-01-16T21:43:00Z</td></tr><tr><td>F00191</td><td>T5789</td><td>low_value_transaction</td><td>0.6</td><td>2023-01-16T22:47:00Z</td></tr><tr><td>F00192</td><td>T5793</td><td>low_value_transaction</td><td>0.6</td><td>2023-01-17T00:42:00Z</td></tr><tr><td>F00193</td><td>T5795</td><td>low_value_transaction</td><td>0.6</td><td>2023-01-17T01:53:00Z</td></tr><tr><td>F00194</td><td>T5798</td><td>low_value_transaction</td><td>0.6</td><td>2023-01-17T03:28:00Z</td></tr><tr><td>F00195</td><td>T5068</td><td>low_value_transaction</td><td>0.6</td><td>2023-01-02T09:21:00Z</td></tr><tr><td>F00196</td><td>T5084</td><td>low_value_transaction</td><td>0.6</td><td>2023-01-02T16:06:00Z</td></tr><tr><td>F00197</td><td>T5093</td><td>unusual_amount</td><td>0.9</td><td>2023-01-02T20:31:00Z</td></tr><tr><td>F00198</td><td>T5250</td><td>low_value_transaction</td><td>0.6</td><td>2023-01-06T06:43:00Z</td></tr><tr><td>F00199</td><td>T5277</td><td>unusual_amount</td><td>0.9</td><td>2023-01-06T20:47:00Z</td></tr><tr><td>F00200</td><td>T5287</td><td>unusual_amount</td><td>0.9</td><td>2023-01-07T01:03:00Z</td></tr><tr><td>F00201</td><td>T5294</td><td>unusual_amount</td><td>0.9</td><td>2023-01-07T03:05:00Z</td></tr><tr><td>F00202</td><td>T6560</td><td>low_value_transaction</td><td>0.6</td><td>2023-02-01T18:58:00Z</td></tr><tr><td>F00203</td><td>T6564</td><td>low_value_transaction</td><td>0.6</td><td>2023-02-01T21:55:00Z</td></tr><tr><td>F00204</td><td>T6571</td><td>low_value_transaction</td><td>0.6</td><td>2023-02-02T00:21:00Z</td></tr><tr><td>F00205</td><td>T6572</td><td>unusual_amount</td><td>0.9</td><td>2023-02-02T00:43:00Z</td></tr><tr><td>F00206</td><td>T6573</td><td>low_value_transaction</td><td>0.6</td><td>2023-02-02T01:21:00Z</td></tr><tr><td>F00207</td><td>T6577</td><td>low_value_transaction</td><td>0.6</td><td>2023-02-02T03:26:00Z</td></tr><tr><td>F00208</td><td>T6587</td><td>low_value_transaction</td><td>0.6</td><td>2023-02-02T07:49:00Z</td></tr><tr><td>F00209</td><td>T6592</td><td>unusual_amount</td><td>0.9</td><td>2023-02-02T10:36:00Z</td></tr><tr><td>F00210</td><td>T6598</td><td>low_value_transaction</td><td>0.6</td><td>2023-02-02T13:39:00Z</td></tr><tr><td>F00211</td><td>T5301</td><td>low_value_transaction</td><td>0.6</td><td>2023-01-07T06:24:00Z</td></tr><tr><td>F00212</td><td>T5307</td><td>low_value_transaction</td><td>0.6</td><td>2023-01-07T09:35:00Z</td></tr><tr><td>F00213</td><td>T5312</td><td>low_value_transaction</td><td>0.6</td><td>2023-01-07T12:31:00Z</td></tr><tr><td>F00214</td><td>T5334</td><td>unusual_amount</td><td>0.9</td><td>2023-01-07T23:19:00Z</td></tr><tr><td>F00215</td><td>T6003</td><td>low_value_transaction</td><td>0.6</td><td>2023-01-21T09:53:00Z</td></tr><tr><td>F00216</td><td>T6007</td><td>low_value_transaction</td><td>0.6</td><td>2023-01-21T12:26:00Z</td></tr><tr><td>F00217</td><td>T6009</td><td>low_value_transaction</td><td>0.6</td><td>2023-01-21T13:19:00Z</td></tr><tr><td>F00218</td><td>T6012</td><td>low_value_transaction</td><td>0.6</td><td>2023-01-21T14:14:00Z</td></tr><tr><td>F00219</td><td>T6017</td><td>low_value_transaction</td><td>0.6</td><td>2023-01-21T16:39:00Z</td></tr><tr><td>F00220</td><td>T6029</td><td>unusual_amount</td><td>0.9</td><td>2023-01-21T21:56:00Z</td></tr><tr><td>F00221</td><td>T6035</td><td>unusual_amount</td><td>0.9</td><td>2023-01-22T00:48:00Z</td></tr><tr><td>F00222</td><td>T6039</td><td>low_value_transaction</td><td>0.6</td><td>2023-01-22T02:10:00Z</td></tr><tr><td>F00223</td><td>T6652</td><td>unusual_amount</td><td>0.9</td><td>2023-02-03T18:30:00Z</td></tr><tr><td>F00224</td><td>T6657</td><td>unusual_amount</td><td>0.9</td><td>2023-02-03T21:07:00Z</td></tr><tr><td>F00225</td><td>T6665</td><td>unusual_amount</td><td>0.9</td><td>2023-02-04T01:06:00Z</td></tr><tr><td>F00226</td><td>T6671</td><td>low_value_transaction</td><td>0.6</td><td>2023-02-04T04:29:00Z</td></tr><tr><td>F00227</td><td>T6675</td><td>unusual_amount</td><td>0.9</td><td>2023-02-04T06:44:00Z</td></tr><tr><td>F00228</td><td>T6676</td><td>unusual_amount</td><td>0.9</td><td>2023-02-04T07:26:00Z</td></tr><tr><td>F00229</td><td>T6684</td><td>low_value_transaction</td><td>0.6</td><td>2023-02-04T10:37:00Z</td></tr><tr><td>F00230</td><td>T6701</td><td>low_value_transaction</td><td>0.6</td><td>2023-02-04T19:50:00Z</td></tr><tr><td>F00231</td><td>T6713</td><td>unusual_amount</td><td>0.9</td><td>2023-02-05T00:43:00Z</td></tr><tr><td>F00232</td><td>T6716</td><td>low_value_transaction</td><td>0.6</td><td>2023-02-05T02:20:00Z</td></tr><tr><td>F00233</td><td>T6730</td><td>unusual_amount</td><td>0.9</td><td>2023-02-05T07:00:00Z</td></tr><tr><td>F00234</td><td>T6742</td><td>low_value_transaction</td><td>0.6</td><td>2023-02-05T13:46:00Z</td></tr><tr><td>F00235</td><td>T6756</td><td>low_value_transaction</td><td>0.6</td><td>2023-02-05T22:35:00Z</td></tr><tr><td>F00236</td><td>T6760</td><td>watchlist_match</td><td>0.95</td><td>2023-02-06T00:20:00Z</td></tr><tr><td>F00237</td><td>T6795</td><td>low_value_transaction</td><td>0.6</td><td>2023-02-06T17:12:00Z</td></tr><tr><td>F00238</td><td>T6797</td><td>low_value_transaction</td><td>0.6</td><td>2023-02-06T18:54:00Z</td></tr><tr><td>F00239</td><td>T6809</td><td>unusual_amount</td><td>0.9</td><td>2023-02-07T00:20:00Z</td></tr><tr><td>F00240</td><td>T6812</td><td>unusual_amount</td><td>0.9</td><td>2023-02-07T01:13:00Z</td></tr><tr><td>F00241</td><td>T6814</td><td>low_value_transaction</td><td>0.6</td><td>2023-02-07T01:25:00Z</td></tr><tr><td>F00242</td><td>T6815</td><td>low_value_transaction</td><td>0.6</td><td>2023-02-07T02:21:00Z</td></tr><tr><td>F00243</td><td>T6829</td><td>unusual_amount</td><td>0.9</td><td>2023-02-07T11:49:00Z</td></tr><tr><td>F00244</td><td>T6845</td><td>unusual_amount</td><td>0.9</td><td>2023-02-07T19:47:00Z</td></tr><tr><td>F008589934592</td><td>T6861</td><td>low_value_transaction</td><td>0.6</td><td>2023-02-08T03:15:00Z</td></tr><tr><td>F008589934593</td><td>T6871</td><td>unusual_amount</td><td>0.9</td><td>2023-02-08T08:47:00Z</td></tr><tr><td>F008589934594</td><td>T6876</td><td>low_value_transaction</td><td>0.6</td><td>2023-02-08T12:03:00Z</td></tr><tr><td>F008589934595</td><td>T6880</td><td>low_value_transaction</td><td>0.6</td><td>2023-02-08T14:02:00Z</td></tr><tr><td>F008589934596</td><td>T6885</td><td>unusual_amount</td><td>0.9</td><td>2023-02-08T16:30:00Z</td></tr><tr><td>F008589934597</td><td>T6888</td><td>unusual_amount</td><td>0.9</td><td>2023-02-08T17:21:00Z</td></tr><tr><td>F008589934598</td><td>T6892</td><td>low_value_transaction</td><td>0.6</td><td>2023-02-08T19:11:00Z</td></tr><tr><td>F008589934599</td><td>T6895</td><td>unusual_amount</td><td>0.9</td><td>2023-02-08T21:16:00Z</td></tr><tr><td>F008589934600</td><td>T6896</td><td>low_value_transaction</td><td>0.6</td><td>2023-02-08T21:25:00Z</td></tr><tr><td>F008589934601</td><td>T6897</td><td>low_value_transaction</td><td>0.6</td><td>2023-02-08T22:23:00Z</td></tr><tr><td>F008589934602</td><td>T6902</td><td>low_value_transaction</td><td>0.6</td><td>2023-02-09T01:17:00Z</td></tr><tr><td>F008589934603</td><td>T6913</td><td>low_value_transaction</td><td>0.6</td><td>2023-02-09T06:27:00Z</td></tr><tr><td>F008589934604</td><td>T6921</td><td>low_value_transaction</td><td>0.6</td><td>2023-02-09T10:31:00Z</td></tr><tr><td>F008589934605</td><td>T6929</td><td>low_value_transaction</td><td>0.6</td><td>2023-02-09T15:33:00Z</td></tr><tr><td>F008589934606</td><td>T6934</td><td>unusual_amount</td><td>0.9</td><td>2023-02-09T18:10:00Z</td></tr><tr><td>F008589934607</td><td>T6939</td><td>unusual_amount</td><td>0.9</td><td>2023-02-09T21:13:00Z</td></tr><tr><td>F008589934608</td><td>T6944</td><td>low_value_transaction</td><td>0.6</td><td>2023-02-09T23:49:00Z</td></tr><tr><td>F008589934609</td><td>T6966</td><td>unusual_amount</td><td>0.9</td><td>2023-02-10T11:04:00Z</td></tr><tr><td>F008589934610</td><td>T6995</td><td>low_value_transaction</td><td>0.6</td><td>2023-02-11T00:57:00Z</td></tr><tr><td>F008589934611</td><td>T6996</td><td>low_value_transaction</td><td>0.6</td><td>2023-02-11T01:08:00Z</td></tr><tr><td>F008589934612</td><td>T6997</td><td>low_value_transaction</td><td>0.6</td><td>2023-02-11T01:55:00Z</td></tr><tr><td>F008589934613</td><td>T7001</td><td>unusual_amount</td><td>0.9</td><td>2023-02-11T03:58:00Z</td></tr><tr><td>F008589934614</td><td>T7007</td><td>unusual_amount</td><td>0.9</td><td>2023-02-11T06:21:00Z</td></tr><tr><td>F008589934615</td><td>T7008</td><td>unusual_amount</td><td>0.9</td><td>2023-02-11T06:30:00Z</td></tr><tr><td>F008589934616</td><td>T7010</td><td>unusual_amount</td><td>0.9</td><td>2023-02-11T07:11:00Z</td></tr><tr><td>F008589934617</td><td>T7019</td><td>low_value_transaction</td><td>0.6</td><td>2023-02-11T11:05:00Z</td></tr><tr><td>F008589934618</td><td>T7022</td><td>low_value_transaction</td><td>0.6</td><td>2023-02-11T11:49:00Z</td></tr><tr><td>F008589934619</td><td>T7037</td><td>unusual_amount</td><td>0.9</td><td>2023-02-11T19:52:00Z</td></tr><tr><td>F008589934620</td><td>T7047</td><td>low_value_transaction</td><td>0.6</td><td>2023-02-12T00:51:00Z</td></tr><tr><td>F008589934621</td><td>T7078</td><td>unusual_amount</td><td>0.9</td><td>2023-02-12T15:27:00Z</td></tr><tr><td>F008589934622</td><td>T7083</td><td>low_value_transaction</td><td>0.6</td><td>2023-02-12T17:27:00Z</td></tr><tr><td>F008589934623</td><td>T7090</td><td>unusual_amount</td><td>0.9</td><td>2023-02-12T20:32:00Z</td></tr><tr><td>F008589934624</td><td>T7100</td><td>low_value_transaction</td><td>0.6</td><td>2023-02-13T01:11:00Z</td></tr><tr><td>F008589934625</td><td>T7108</td><td>low_value_transaction</td><td>0.6</td><td>2023-02-13T03:52:00Z</td></tr><tr><td>F008589934626</td><td>T7113</td><td>unusual_amount</td><td>0.9</td><td>2023-02-13T06:38:00Z</td></tr><tr><td>F008589934627</td><td>T7114</td><td>low_value_transaction</td><td>0.6</td><td>2023-02-13T07:05:00Z</td></tr><tr><td>F008589934628</td><td>T7119</td><td>low_value_transaction</td><td>0.6</td><td>2023-02-13T09:42:00Z</td></tr><tr><td>F008589934629</td><td>T7121</td><td>low_value_transaction</td><td>0.6</td><td>2023-02-13T10:17:00Z</td></tr><tr><td>F008589934630</td><td>T7124</td><td>low_value_transaction</td><td>0.6</td><td>2023-02-13T11:36:00Z</td></tr><tr><td>F008589934631</td><td>T7131</td><td>unusual_amount</td><td>0.9</td><td>2023-02-13T16:11:00Z</td></tr><tr><td>F008589934632</td><td>T7136</td><td>low_value_transaction</td><td>0.6</td><td>2023-02-13T18:18:00Z</td></tr><tr><td>F008589934633</td><td>T7142</td><td>watchlist_match</td><td>0.95</td><td>2023-02-13T22:31:00Z</td></tr><tr><td>F008589934634</td><td>T7145</td><td>unusual_amount</td><td>0.9</td><td>2023-02-14T00:28:00Z</td></tr><tr><td>F008589934635</td><td>T7154</td><td>low_value_transaction</td><td>0.6</td><td>2023-02-14T04:58:00Z</td></tr><tr><td>F008589934636</td><td>T7165</td><td>low_value_transaction</td><td>0.6</td><td>2023-02-14T10:10:00Z</td></tr><tr><td>F008589934637</td><td>T7181</td><td>low_value_transaction</td><td>0.6</td><td>2023-02-14T18:10:00Z</td></tr><tr><td>F008589934638</td><td>T7183</td><td>low_value_transaction</td><td>0.6</td><td>2023-02-14T19:26:00Z</td></tr><tr><td>F008589934639</td><td>T7186</td><td>low_value_transaction</td><td>0.6</td><td>2023-02-14T20:39:00Z</td></tr><tr><td>F008589934640</td><td>T7199</td><td>low_value_transaction</td><td>0.6</td><td>2023-02-15T02:34:00Z</td></tr><tr><td>F008589934641</td><td>T7200</td><td>unusual_amount</td><td>0.9</td><td>2023-02-15T03:07:00Z</td></tr><tr><td>F008589934642</td><td>T7226</td><td>low_value_transaction</td><td>0.6</td><td>2023-02-15T16:06:00Z</td></tr><tr><td>F008589934643</td><td>T7236</td><td>low_value_transaction</td><td>0.6</td><td>2023-02-15T20:23:00Z</td></tr><tr><td>F008589934644</td><td>T7242</td><td>low_value_transaction</td><td>0.6</td><td>2023-02-15T23:03:00Z</td></tr><tr><td>F0017179869184</td><td>T7258</td><td>low_value_transaction</td><td>0.6</td><td>2023-02-16T05:41:00Z</td></tr><tr><td>F0017179869185</td><td>T7263</td><td>unusual_amount</td><td>0.9</td><td>2023-02-16T08:07:00Z</td></tr><tr><td>F0017179869186</td><td>T7270</td><td>low_value_transaction</td><td>0.6</td><td>2023-02-16T11:00:00Z</td></tr><tr><td>F0017179869187</td><td>T7277</td><td>low_value_transaction</td><td>0.6</td><td>2023-02-16T14:26:00Z</td></tr><tr><td>F0017179869188</td><td>T7278</td><td>low_value_transaction</td><td>0.6</td><td>2023-02-16T14:32:00Z</td></tr><tr><td>F0017179869189</td><td>T7285</td><td>low_value_transaction</td><td>0.6</td><td>2023-02-16T17:07:00Z</td></tr><tr><td>F0017179869190</td><td>T7291</td><td>low_value_transaction</td><td>0.6</td><td>2023-02-16T21:06:00Z</td></tr><tr><td>F0017179869191</td><td>T7294</td><td>low_value_transaction</td><td>0.6</td><td>2023-02-16T21:50:00Z</td></tr><tr><td>F0017179869192</td><td>T7301</td><td>low_value_transaction</td><td>0.6</td><td>2023-02-17T01:28:00Z</td></tr><tr><td>F0017179869193</td><td>T7312</td><td>low_value_transaction</td><td>0.6</td><td>2023-02-17T06:09:00Z</td></tr><tr><td>F0017179869194</td><td>T7313</td><td>unusual_amount</td><td>0.9</td><td>2023-02-17T06:39:00Z</td></tr><tr><td>F0017179869195</td><td>T7320</td><td>low_value_transaction</td><td>0.6</td><td>2023-02-17T09:28:00Z</td></tr><tr><td>F0017179869196</td><td>T7322</td><td>unusual_amount</td><td>0.9</td><td>2023-02-17T10:21:00Z</td></tr><tr><td>F0017179869197</td><td>T7343</td><td>low_value_transaction</td><td>0.6</td><td>2023-02-17T20:05:00Z</td></tr><tr><td>F0017179869198</td><td>T7351</td><td>low_value_transaction</td><td>0.6</td><td>2023-02-17T23:20:00Z</td></tr><tr><td>F0017179869199</td><td>T7364</td><td>unusual_amount</td><td>0.9</td><td>2023-02-18T06:12:00Z</td></tr><tr><td>F0017179869200</td><td>T7383</td><td>unusual_amount</td><td>0.9</td><td>2023-02-18T15:49:00Z</td></tr><tr><td>F0017179869201</td><td>T7385</td><td>low_value_transaction</td><td>0.6</td><td>2023-02-18T16:56:00Z</td></tr><tr><td>F0017179869202</td><td>T7386</td><td>low_value_transaction</td><td>0.6</td><td>2023-02-18T17:43:00Z</td></tr><tr><td>F0017179869203</td><td>T7390</td><td>low_value_transaction</td><td>0.6</td><td>2023-02-18T18:35:00Z</td></tr><tr><td>F0017179869204</td><td>T7401</td><td>low_value_transaction</td><td>0.6</td><td>2023-02-18T22:23:00Z</td></tr><tr><td>F0017179869205</td><td>T7414</td><td>low_value_transaction</td><td>0.6</td><td>2023-02-19T04:13:00Z</td></tr><tr><td>F0017179869206</td><td>T7424</td><td>unusual_amount</td><td>0.9</td><td>2023-02-19T08:09:00Z</td></tr><tr><td>F0017179869207</td><td>T7446</td><td>low_value_transaction</td><td>0.6</td><td>2023-02-19T19:22:00Z</td></tr><tr><td>F0017179869208</td><td>T7448</td><td>low_value_transaction</td><td>0.6</td><td>2023-02-19T19:29:00Z</td></tr><tr><td>F0017179869209</td><td>T7450</td><td>low_value_transaction</td><td>0.6</td><td>2023-02-19T19:45:00Z</td></tr><tr><td>F0017179869210</td><td>T7463</td><td>low_value_transaction</td><td>0.6</td><td>2023-02-20T00:59:00Z</td></tr><tr><td>F0017179869211</td><td>T7468</td><td>watchlist_match</td><td>0.95</td><td>2023-02-20T03:28:00Z</td></tr><tr><td>F0017179869212</td><td>T7476</td><td>low_value_transaction</td><td>0.6</td><td>2023-02-20T06:48:00Z</td></tr><tr><td>F0017179869213</td><td>T7477</td><td>low_value_transaction</td><td>0.6</td><td>2023-02-20T07:39:00Z</td></tr><tr><td>F0017179869214</td><td>T7479</td><td>unusual_amount</td><td>0.9</td><td>2023-02-20T09:26:00Z</td></tr><tr><td>F0017179869215</td><td>T7494</td><td>unusual_amount</td><td>0.9</td><td>2023-02-20T17:57:00Z</td></tr><tr><td>F0017179869216</td><td>T7500</td><td>low_value_transaction</td><td>0.6</td><td>2023-02-20T20:19:00Z</td></tr><tr><td>F0017179869217</td><td>T7501</td><td>low_value_transaction</td><td>0.6</td><td>2023-02-20T21:16:00Z</td></tr><tr><td>F0017179869218</td><td>T7507</td><td>low_value_transaction</td><td>0.6</td><td>2023-02-21T00:40:00Z</td></tr><tr><td>F0017179869219</td><td>T7509</td><td>unusual_amount</td><td>0.9</td><td>2023-02-21T01:29:00Z</td></tr><tr><td>F0017179869220</td><td>T7522</td><td>low_value_transaction</td><td>0.6</td><td>2023-02-21T08:03:00Z</td></tr><tr><td>F0017179869221</td><td>T7523</td><td>unusual_amount</td><td>0.9</td><td>2023-02-21T08:27:00Z</td></tr><tr><td>F0017179869222</td><td>T7528</td><td>low_value_transaction</td><td>0.6</td><td>2023-02-21T10:34:00Z</td></tr><tr><td>F0017179869223</td><td>T7533</td><td>unusual_amount</td><td>0.9</td><td>2023-02-21T12:25:00Z</td></tr><tr><td>F0017179869224</td><td>T7534</td><td>low_value_transaction</td><td>0.6</td><td>2023-02-21T12:40:00Z</td></tr><tr><td>F0017179869225</td><td>T7539</td><td>low_value_transaction</td><td>0.6</td><td>2023-02-21T15:11:00Z</td></tr><tr><td>F0017179869226</td><td>T7541</td><td>low_value_transaction</td><td>0.6</td><td>2023-02-21T16:29:00Z</td></tr><tr><td>F0017179869227</td><td>T7542</td><td>unusual_amount</td><td>0.9</td><td>2023-02-21T17:23:00Z</td></tr><tr><td>F0017179869228</td><td>T7552</td><td>low_value_transaction</td><td>0.6</td><td>2023-02-21T20:52:00Z</td></tr><tr><td>F0017179869229</td><td>T7569</td><td>unusual_amount</td><td>0.9</td><td>2023-02-22T04:47:00Z</td></tr><tr><td>F0017179869230</td><td>T7576</td><td>unusual_amount</td><td>0.9</td><td>2023-02-22T07:32:00Z</td></tr><tr><td>F0017179869231</td><td>T7580</td><td>low_value_transaction</td><td>0.6</td><td>2023-02-22T09:32:00Z</td></tr><tr><td>F0017179869232</td><td>T7591</td><td>low_value_transaction</td><td>0.6</td><td>2023-02-22T14:00:00Z</td></tr><tr><td>F0017179869233</td><td>T7606</td><td>unusual_amount</td><td>0.9</td><td>2023-02-22T21:20:00Z</td></tr><tr><td>F0017179869234</td><td>T7607</td><td>low_value_transaction</td><td>0.6</td><td>2023-02-22T22:12:00Z</td></tr><tr><td>F0017179869235</td><td>T7609</td><td>unusual_amount</td><td>0.9</td><td>2023-02-22T23:28:00Z</td></tr><tr><td>F0017179869236</td><td>T7610</td><td>low_value_transaction</td><td>0.6</td><td>2023-02-23T00:07:00Z</td></tr><tr><td>F0017179869237</td><td>T7613</td><td>unusual_amount</td><td>0.9</td><td>2023-02-23T02:24:00Z</td></tr><tr><td>F0017179869238</td><td>T7621</td><td>unusual_amount</td><td>0.9</td><td>2023-02-23T05:15:00Z</td></tr><tr><td>F0017179869239</td><td>T7624</td><td>low_value_transaction</td><td>0.6</td><td>2023-02-23T05:58:00Z</td></tr><tr><td>F0017179869240</td><td>T7626</td><td>unusual_amount</td><td>0.9</td><td>2023-02-23T06:57:00Z</td></tr><tr><td>F0017179869241</td><td>T7628</td><td>unusual_amount</td><td>0.9</td><td>2023-02-23T07:23:00Z</td></tr><tr><td>F0017179869242</td><td>T7630</td><td>low_value_transaction</td><td>0.6</td><td>2023-02-23T08:23:00Z</td></tr><tr><td>F0017179869243</td><td>T7636</td><td>low_value_transaction</td><td>0.6</td><td>2023-02-23T11:20:00Z</td></tr><tr><td>F0017179869244</td><td>T7640</td><td>low_value_transaction</td><td>0.6</td><td>2023-02-23T13:47:00Z</td></tr><tr><td>F0017179869245</td><td>T7649</td><td>watchlist_match</td><td>0.95</td><td>2023-02-23T18:04:00Z</td></tr><tr><td>F0025769803776</td><td>T7660</td><td>unusual_amount</td><td>0.9</td><td>2023-02-23T23:39:00Z</td></tr><tr><td>F0025769803777</td><td>T7665</td><td>low_value_transaction</td><td>0.6</td><td>2023-02-24T03:45:00Z</td></tr><tr><td>F0025769803778</td><td>T7669</td><td>unusual_amount</td><td>0.9</td><td>2023-02-24T05:42:00Z</td></tr><tr><td>F0025769803779</td><td>T7676</td><td>low_value_transaction</td><td>0.6</td><td>2023-02-24T10:43:00Z</td></tr><tr><td>F0025769803780</td><td>T7695</td><td>low_value_transaction</td><td>0.6</td><td>2023-02-24T18:36:00Z</td></tr><tr><td>F0025769803781</td><td>T7714</td><td>low_value_transaction</td><td>0.6</td><td>2023-02-25T05:23:00Z</td></tr><tr><td>F0025769803782</td><td>T7720</td><td>unusual_amount</td><td>0.9</td><td>2023-02-25T08:56:00Z</td></tr><tr><td>F0025769803783</td><td>T7725</td><td>low_value_transaction</td><td>0.6</td><td>2023-02-25T12:11:00Z</td></tr><tr><td>F0025769803784</td><td>T7741</td><td>unusual_amount</td><td>0.9</td><td>2023-02-25T21:06:00Z</td></tr><tr><td>F0025769803785</td><td>T7747</td><td>low_value_transaction</td><td>0.6</td><td>2023-02-25T23:47:00Z</td></tr><tr><td>F0025769803786</td><td>T7760</td><td>low_value_transaction</td><td>0.6</td><td>2023-02-26T07:11:00Z</td></tr><tr><td>F0025769803787</td><td>T7763</td><td>unusual_amount</td><td>0.9</td><td>2023-02-26T08:02:00Z</td></tr><tr><td>F0025769803788</td><td>T7772</td><td>unusual_amount</td><td>0.9</td><td>2023-02-26T12:16:00Z</td></tr><tr><td>F0025769803789</td><td>T7776</td><td>unusual_amount</td><td>0.9</td><td>2023-02-26T13:18:00Z</td></tr><tr><td>F0025769803790</td><td>T7777</td><td>low_value_transaction</td><td>0.6</td><td>2023-02-26T13:19:00Z</td></tr><tr><td>F0025769803791</td><td>T7787</td><td>low_value_transaction</td><td>0.6</td><td>2023-02-26T19:52:00Z</td></tr><tr><td>F0025769803792</td><td>T7790</td><td>low_value_transaction</td><td>0.6</td><td>2023-02-26T21:21:00Z</td></tr><tr><td>F0025769803793</td><td>T7800</td><td>unusual_amount</td><td>0.9</td><td>2023-02-27T01:21:00Z</td></tr><tr><td>F0025769803794</td><td>T7805</td><td>unusual_amount</td><td>0.9</td><td>2023-02-27T02:45:00Z</td></tr><tr><td>F0025769803795</td><td>T7834</td><td>low_value_transaction</td><td>0.6</td><td>2023-02-27T17:25:00Z</td></tr><tr><td>F0025769803796</td><td>T7838</td><td>low_value_transaction</td><td>0.6</td><td>2023-02-27T19:49:00Z</td></tr><tr><td>F0025769803797</td><td>T7857</td><td>unusual_amount</td><td>0.9</td><td>2023-02-28T05:06:00Z</td></tr><tr><td>F0025769803798</td><td>T7862</td><td>unusual_amount</td><td>0.9</td><td>2023-02-28T08:02:00Z</td></tr><tr><td>F0025769803799</td><td>T7881</td><td>low_value_transaction</td><td>0.6</td><td>2023-02-28T16:36:00Z</td></tr><tr><td>F0025769803800</td><td>T7898</td><td>unusual_amount</td><td>0.9</td><td>2023-03-01T00:21:00Z</td></tr><tr><td>F0025769803801</td><td>T7907</td><td>low_value_transaction</td><td>0.6</td><td>2023-03-01T05:09:00Z</td></tr><tr><td>F0025769803802</td><td>T7909</td><td>low_value_transaction</td><td>0.6</td><td>2023-03-01T06:39:00Z</td></tr><tr><td>F0025769803803</td><td>T7911</td><td>low_value_transaction</td><td>0.6</td><td>2023-03-01T07:46:00Z</td></tr><tr><td>F0025769803804</td><td>T7921</td><td>low_value_transaction</td><td>0.6</td><td>2023-03-01T12:59:00Z</td></tr><tr><td>F0025769803805</td><td>T7924</td><td>low_value_transaction</td><td>0.6</td><td>2023-03-01T14:51:00Z</td></tr><tr><td>F0025769803806</td><td>T7952</td><td>low_value_transaction</td><td>0.6</td><td>2023-03-02T04:24:00Z</td></tr><tr><td>F0025769803807</td><td>T7953</td><td>unusual_amount</td><td>0.9</td><td>2023-03-02T04:45:00Z</td></tr><tr><td>F0025769803808</td><td>T7964</td><td>low_value_transaction</td><td>0.6</td><td>2023-03-02T09:14:00Z</td></tr><tr><td>F0025769803809</td><td>T7965</td><td>unusual_amount</td><td>0.9</td><td>2023-03-02T10:03:00Z</td></tr><tr><td>F0025769803810</td><td>T7980</td><td>low_value_transaction</td><td>0.6</td><td>2023-03-02T17:43:00Z</td></tr><tr><td>F0025769803811</td><td>T7985</td><td>low_value_transaction</td><td>0.6</td><td>2023-03-02T20:01:00Z</td></tr><tr><td>F0025769803812</td><td>T7986</td><td>low_value_transaction</td><td>0.6</td><td>2023-03-02T20:04:00Z</td></tr><tr><td>F0025769803813</td><td>T7988</td><td>low_value_transaction</td><td>0.6</td><td>2023-03-02T20:10:00Z</td></tr><tr><td>F0025769803814</td><td>T7989</td><td>unusual_amount</td><td>0.9</td><td>2023-03-02T20:11:00Z</td></tr><tr><td>F0025769803815</td><td>T7995</td><td>unusual_amount</td><td>0.9</td><td>2023-03-02T23:51:00Z</td></tr><tr><td>F0025769803816</td><td>T7997</td><td>low_value_transaction</td><td>0.6</td><td>2023-03-03T01:16:00Z</td></tr></tbody></table></div>"
      ]
     },
     "metadata": {
      "application/vnd.databricks.v1+output": {
       "addedWidgets": {},
       "aggData": [],
       "aggError": "",
       "aggOverflow": false,
       "aggSchema": [],
       "aggSeriesLimitReached": false,
       "aggType": "",
       "arguments": {},
       "columnCustomDisplayInfos": {},
       "data": [
        [
         "F000",
         "T6067",
         "low_value_transaction",
         0.6,
         "2023-01-22T16:15:00Z"
        ],
        [
         "F001",
         "T6074",
         "unusual_amount",
         0.9,
         "2023-01-22T19:12:00Z"
        ],
        [
         "F002",
         "T6082",
         "low_value_transaction",
         0.6,
         "2023-01-22T22:58:00Z"
        ],
        [
         "F003",
         "T6086",
         "watchlist_match",
         0.95,
         "2023-01-23T01:11:00Z"
        ],
        [
         "F004",
         "T6094",
         "unusual_amount",
         0.9,
         "2023-01-23T07:07:00Z"
        ],
        [
         "F005",
         "T6099",
         "low_value_transaction",
         0.6,
         "2023-01-23T09:01:00Z"
        ],
        [
         "F006",
         "T6102",
         "unusual_amount",
         0.9,
         "2023-01-23T10:30:00Z"
        ],
        [
         "F007",
         "T6105",
         "unusual_amount",
         0.9,
         "2023-01-23T11:52:00Z"
        ],
        [
         "F008",
         "T6111",
         "low_value_transaction",
         0.6,
         "2023-01-23T14:35:00Z"
        ],
        [
         "F009",
         "T6113",
         "unusual_amount",
         0.9,
         "2023-01-23T15:37:00Z"
        ],
        [
         "F0010",
         "T6115",
         "low_value_transaction",
         0.6,
         "2023-01-23T16:44:00Z"
        ],
        [
         "F0011",
         "T6120",
         "watchlist_match",
         0.95,
         "2023-01-23T18:12:00Z"
        ],
        [
         "F0012",
         "T6121",
         "low_value_transaction",
         0.6,
         "2023-01-23T18:45:00Z"
        ],
        [
         "F0013",
         "T6122",
         "unusual_amount",
         0.9,
         "2023-01-23T19:17:00Z"
        ],
        [
         "F0014",
         "T6125",
         "unusual_amount",
         0.9,
         "2023-01-23T20:55:00Z"
        ],
        [
         "F0015",
         "T6146",
         "low_value_transaction",
         0.6,
         "2023-01-24T09:44:00Z"
        ],
        [
         "F0016",
         "T6148",
         "watchlist_match",
         0.95,
         "2023-01-24T10:52:00Z"
        ],
        [
         "F0017",
         "T5202",
         "low_value_transaction",
         0.6,
         "2023-01-05T06:04:00Z"
        ],
        [
         "F0018",
         "T5203",
         "unusual_amount",
         0.9,
         "2023-01-05T06:06:00Z"
        ],
        [
         "F0019",
         "T5205",
         "unusual_amount",
         0.9,
         "2023-01-05T06:59:00Z"
        ],
        [
         "F0020",
         "T5207",
         "unusual_amount",
         0.9,
         "2023-01-05T07:43:00Z"
        ],
        [
         "F0021",
         "T5215",
         "low_value_transaction",
         0.6,
         "2023-01-05T12:50:00Z"
        ],
        [
         "F0022",
         "T5219",
         "low_value_transaction",
         0.6,
         "2023-01-05T15:30:00Z"
        ],
        [
         "F0023",
         "T5222",
         "low_value_transaction",
         0.6,
         "2023-01-05T17:11:00Z"
        ],
        [
         "F0024",
         "T5228",
         "low_value_transaction",
         0.6,
         "2023-01-05T19:36:00Z"
        ],
        [
         "F0025",
         "T5231",
         "low_value_transaction",
         0.6,
         "2023-01-05T21:07:00Z"
        ],
        [
         "F0026",
         "T5236",
         "unusual_amount",
         0.9,
         "2023-01-05T23:36:00Z"
        ],
        [
         "F0027",
         "T5238",
         "unusual_amount",
         0.9,
         "2023-01-06T00:22:00Z"
        ],
        [
         "F0028",
         "T5239",
         "unusual_amount",
         0.9,
         "2023-01-06T00:57:00Z"
        ],
        [
         "F0029",
         "T5247",
         "unusual_amount",
         0.9,
         "2023-01-06T04:49:00Z"
        ],
        [
         "F0030",
         "T5602",
         "low_value_transaction",
         0.6,
         "2023-01-13T08:25:00Z"
        ],
        [
         "F0031",
         "T5608",
         "low_value_transaction",
         0.6,
         "2023-01-13T10:50:00Z"
        ],
        [
         "F0032",
         "T5614",
         "unusual_amount",
         0.9,
         "2023-01-13T14:08:00Z"
        ],
        [
         "F0033",
         "T5638",
         "low_value_transaction",
         0.6,
         "2023-01-13T23:11:00Z"
        ],
        [
         "F0034",
         "T5640",
         "low_value_transaction",
         0.6,
         "2023-01-13T23:29:00Z"
        ],
        [
         "F0035",
         "T5645",
         "low_value_transaction",
         0.6,
         "2023-01-14T03:03:00Z"
        ],
        [
         "F0036",
         "T5646",
         "low_value_transaction",
         0.6,
         "2023-01-14T03:10:00Z"
        ],
        [
         "F0037",
         "T5648",
         "unusual_amount",
         0.9,
         "2023-01-14T03:39:00Z"
        ],
        [
         "F0038",
         "T5902",
         "unusual_amount",
         0.9,
         "2023-01-19T09:47:00Z"
        ],
        [
         "F0039",
         "T5904",
         "low_value_transaction",
         0.6,
         "2023-01-19T11:18:00Z"
        ],
        [
         "F0040",
         "T5912",
         "unusual_amount",
         0.9,
         "2023-01-19T15:49:00Z"
        ],
        [
         "F0041",
         "T5922",
         "low_value_transaction",
         0.6,
         "2023-01-19T21:23:00Z"
        ],
        [
         "F0042",
         "T5925",
         "low_value_transaction",
         0.6,
         "2023-01-19T22:30:00Z"
        ],
        [
         "F0043",
         "T5929",
         "unusual_amount",
         0.9,
         "2023-01-20T00:18:00Z"
        ],
        [
         "F0044",
         "T5946",
         "low_value_transaction",
         0.6,
         "2023-01-20T09:59:00Z"
        ],
        [
         "F0045",
         "T6606",
         "unusual_amount",
         0.9,
         "2023-02-02T18:15:00Z"
        ],
        [
         "F0046",
         "T6611",
         "unusual_amount",
         0.9,
         "2023-02-02T19:28:00Z"
        ],
        [
         "F0047",
         "T6638",
         "unusual_amount",
         0.9,
         "2023-02-03T08:30:00Z"
        ],
        [
         "F0048",
         "T6649",
         "low_value_transaction",
         0.6,
         "2023-02-03T16:38:00Z"
        ],
        [
         "F0049",
         "T5107",
         "low_value_transaction",
         0.6,
         "2023-01-03T02:48:00Z"
        ],
        [
         "F0050",
         "T5119",
         "low_value_transaction",
         0.6,
         "2023-01-03T08:20:00Z"
        ],
        [
         "F0051",
         "T5954",
         "low_value_transaction",
         0.6,
         "2023-01-20T12:33:00Z"
        ],
        [
         "F0052",
         "T5971",
         "low_value_transaction",
         0.6,
         "2023-01-20T18:56:00Z"
        ],
        [
         "F0053",
         "T6151",
         "low_value_transaction",
         0.6,
         "2023-01-24T11:17:00Z"
        ],
        [
         "F0054",
         "T6158",
         "low_value_transaction",
         0.6,
         "2023-01-24T14:55:00Z"
        ],
        [
         "F0055",
         "T6168",
         "low_value_transaction",
         0.6,
         "2023-01-24T18:38:00Z"
        ],
        [
         "F0056",
         "T6169",
         "low_value_transaction",
         0.6,
         "2023-01-24T18:55:00Z"
        ],
        [
         "F0057",
         "T6172",
         "low_value_transaction",
         0.6,
         "2023-01-24T20:28:00Z"
        ],
        [
         "F0058",
         "T6180",
         "unusual_amount",
         0.9,
         "2023-01-25T00:10:00Z"
        ],
        [
         "F0059",
         "T6183",
         "unusual_amount",
         0.9,
         "2023-01-25T01:19:00Z"
        ],
        [
         "F0060",
         "T6186",
         "unusual_amount",
         0.9,
         "2023-01-25T03:37:00Z"
        ],
        [
         "F0061",
         "T5555",
         "unusual_amount",
         0.9,
         "2023-01-12T09:43:00Z"
        ],
        [
         "F0062",
         "T5558",
         "low_value_transaction",
         0.6,
         "2023-01-12T10:47:00Z"
        ],
        [
         "F0063",
         "T5560",
         "low_value_transaction",
         0.6,
         "2023-01-12T11:18:00Z"
        ],
        [
         "F0064",
         "T5564",
         "low_value_transaction",
         0.6,
         "2023-01-12T13:57:00Z"
        ],
        [
         "F0065",
         "T5567",
         "low_value_transaction",
         0.6,
         "2023-01-12T16:07:00Z"
        ],
        [
         "F0066",
         "T5569",
         "low_value_transaction",
         0.6,
         "2023-01-12T17:44:00Z"
        ],
        [
         "F0067",
         "T5576",
         "low_value_transaction",
         0.6,
         "2023-01-12T21:01:00Z"
        ],
        [
         "F0068",
         "T5579",
         "unusual_amount",
         0.9,
         "2023-01-12T22:10:00Z"
        ],
        [
         "F0069",
         "T5587",
         "unusual_amount",
         0.9,
         "2023-01-13T01:49:00Z"
        ],
        [
         "F0070",
         "T5589",
         "low_value_transaction",
         0.6,
         "2023-01-13T02:13:00Z"
        ],
        [
         "F0071",
         "T6305",
         "low_value_transaction",
         0.6,
         "2023-01-27T19:47:00Z"
        ],
        [
         "F0072",
         "T6319",
         "unusual_amount",
         0.9,
         "2023-01-28T02:34:00Z"
        ],
        [
         "F0073",
         "T6325",
         "low_value_transaction",
         0.6,
         "2023-01-28T06:09:00Z"
        ],
        [
         "F0074",
         "T6326",
         "unusual_amount",
         0.9,
         "2023-01-28T06:59:00Z"
        ],
        [
         "F0075",
         "T6331",
         "low_value_transaction",
         0.6,
         "2023-01-28T08:52:00Z"
        ],
        [
         "F0076",
         "T6349",
         "low_value_transaction",
         0.6,
         "2023-01-28T18:41:00Z"
        ],
        [
         "F0077",
         "T5656",
         "unusual_amount",
         0.9,
         "2023-01-14T06:07:00Z"
        ],
        [
         "F0078",
         "T5665",
         "unusual_amount",
         0.9,
         "2023-01-14T10:48:00Z"
        ],
        [
         "F0079",
         "T5666",
         "unusual_amount",
         0.9,
         "2023-01-14T11:39:00Z"
        ],
        [
         "F0080",
         "T5669",
         "unusual_amount",
         0.9,
         "2023-01-14T13:40:00Z"
        ],
        [
         "F0081",
         "T5684",
         "unusual_amount",
         0.9,
         "2023-01-14T20:48:00Z"
        ],
        [
         "F0082",
         "T5685",
         "low_value_transaction",
         0.6,
         "2023-01-14T21:24:00Z"
        ],
        [
         "F0083",
         "T5687",
         "unusual_amount",
         0.9,
         "2023-01-14T22:36:00Z"
        ],
        [
         "F0084",
         "T5696",
         "low_value_transaction",
         0.6,
         "2023-01-15T03:34:00Z"
        ],
        [
         "F0085",
         "T6403",
         "low_value_transaction",
         0.6,
         "2023-01-29T16:08:00Z"
        ],
        [
         "F0086",
         "T6415",
         "unusual_amount",
         0.9,
         "2023-01-29T22:11:00Z"
        ],
        [
         "F0087",
         "T6416",
         "low_value_transaction",
         0.6,
         "2023-01-29T22:33:00Z"
        ],
        [
         "F0088",
         "T6425",
         "low_value_transaction",
         0.6,
         "2023-01-30T02:55:00Z"
        ],
        [
         "F0089",
         "T6435",
         "unusual_amount",
         0.9,
         "2023-01-30T10:13:00Z"
        ],
        [
         "F0090",
         "T6436",
         "unusual_amount",
         0.9,
         "2023-01-30T10:33:00Z"
        ],
        [
         "F0091",
         "T6437",
         "low_value_transaction",
         0.6,
         "2023-01-30T11:26:00Z"
        ],
        [
         "F0092",
         "T5800",
         "unusual_amount",
         0.9,
         "2023-01-17T05:07:00Z"
        ],
        [
         "F0093",
         "T5802",
         "unusual_amount",
         0.9,
         "2023-01-17T06:31:00Z"
        ],
        [
         "F0094",
         "T5810",
         "low_value_transaction",
         0.6,
         "2023-01-17T09:57:00Z"
        ],
        [
         "F0095",
         "T5829",
         "low_value_transaction",
         0.6,
         "2023-01-17T21:00:00Z"
        ],
        [
         "F0096",
         "T5831",
         "low_value_transaction",
         0.6,
         "2023-01-17T21:53:00Z"
        ],
        [
         "F0097",
         "T5835",
         "low_value_transaction",
         0.6,
         "2023-01-17T23:36:00Z"
        ],
        [
         "F0098",
         "T5837",
         "unusual_amount",
         0.9,
         "2023-01-18T00:50:00Z"
        ],
        [
         "F0099",
         "T5840",
         "low_value_transaction",
         0.6,
         "2023-01-18T02:10:00Z"
        ],
        [
         "F00100",
         "T5851",
         "low_value_transaction",
         0.6,
         "2023-01-18T07:38:00Z"
        ],
        [
         "F00101",
         "T5858",
         "low_value_transaction",
         0.6,
         "2023-01-18T11:08:00Z"
        ],
        [
         "F00102",
         "T5860",
         "unusual_amount",
         0.9,
         "2023-01-18T12:34:00Z"
        ],
        [
         "F00103",
         "T5872",
         "low_value_transaction",
         0.6,
         "2023-01-18T18:43:00Z"
        ],
        [
         "F00104",
         "T5880",
         "unusual_amount",
         0.9,
         "2023-01-18T21:15:00Z"
        ],
        [
         "F00105",
         "T5893",
         "unusual_amount",
         0.9,
         "2023-01-19T03:30:00Z"
        ],
        [
         "F00106",
         "T5896",
         "low_value_transaction",
         0.6,
         "2023-01-19T05:49:00Z"
        ],
        [
         "F00107",
         "T6201",
         "unusual_amount",
         0.9,
         "2023-01-25T10:59:00Z"
        ],
        [
         "F00108",
         "T6207",
         "low_value_transaction",
         0.6,
         "2023-01-25T14:36:00Z"
        ],
        [
         "F00109",
         "T6208",
         "unusual_amount",
         0.9,
         "2023-01-25T15:05:00Z"
        ],
        [
         "F00110",
         "T6209",
         "unusual_amount",
         0.9,
         "2023-01-25T15:06:00Z"
        ],
        [
         "F00111",
         "T6213",
         "low_value_transaction",
         0.6,
         "2023-01-25T17:41:00Z"
        ],
        [
         "F00112",
         "T6216",
         "low_value_transaction",
         0.6,
         "2023-01-25T19:21:00Z"
        ],
        [
         "F00113",
         "T6221",
         "low_value_transaction",
         0.6,
         "2023-01-25T23:02:00Z"
        ],
        [
         "F00114",
         "T6227",
         "unusual_amount",
         0.9,
         "2023-01-26T03:06:00Z"
        ],
        [
         "F00115",
         "T6228",
         "watchlist_match",
         0.95,
         "2023-01-26T03:36:00Z"
        ],
        [
         "F00116",
         "T6229",
         "low_value_transaction",
         0.6,
         "2023-01-26T03:58:00Z"
        ],
        [
         "F00117",
         "T6248",
         "low_value_transaction",
         0.6,
         "2023-01-26T14:06:00Z"
        ],
        [
         "F00118",
         "T6450",
         "low_value_transaction",
         0.6,
         "2023-01-30T16:56:00Z"
        ],
        [
         "F00119",
         "T6451",
         "unusual_amount",
         0.9,
         "2023-01-30T17:00:00Z"
        ],
        [
         "F00120",
         "T6467",
         "low_value_transaction",
         0.6,
         "2023-01-31T01:31:00Z"
        ],
        [
         "F00121",
         "T6484",
         "low_value_transaction",
         0.6,
         "2023-01-31T09:20:00Z"
        ],
        [
         "F00122",
         "T6496",
         "unusual_amount",
         0.9,
         "2023-01-31T14:08:00Z"
        ],
        [
         "F00123",
         "T5161",
         "low_value_transaction",
         0.6,
         "2023-01-04T06:25:00Z"
        ],
        [
         "F00124",
         "T5162",
         "low_value_transaction",
         0.6,
         "2023-01-04T06:38:00Z"
        ],
        [
         "F00125",
         "T5186",
         "low_value_transaction",
         0.6,
         "2023-01-04T21:05:00Z"
        ],
        [
         "F00126",
         "T5188",
         "unusual_amount",
         0.9,
         "2023-01-04T21:46:00Z"
        ],
        [
         "F00127",
         "T5190",
         "unusual_amount",
         0.9,
         "2023-01-04T23:08:00Z"
        ],
        [
         "F00128",
         "T5500",
         "unusual_amount",
         0.9,
         "2023-01-11T12:10:00Z"
        ],
        [
         "F00129",
         "T5505",
         "low_value_transaction",
         0.6,
         "2023-01-11T13:43:00Z"
        ],
        [
         "F00130",
         "T5522",
         "low_value_transaction",
         0.6,
         "2023-01-11T20:27:00Z"
        ],
        [
         "F00131",
         "T5540",
         "low_value_transaction",
         0.6,
         "2023-01-12T03:54:00Z"
        ],
        [
         "F00132",
         "T5544",
         "unusual_amount",
         0.9,
         "2023-01-12T05:07:00Z"
        ],
        [
         "F00133",
         "T5545",
         "low_value_transaction",
         0.6,
         "2023-01-12T05:39:00Z"
        ],
        [
         "F00134",
         "T5461",
         "low_value_transaction",
         0.6,
         "2023-01-10T16:29:00Z"
        ],
        [
         "F00135",
         "T5466",
         "watchlist_match",
         0.95,
         "2023-01-10T20:21:00Z"
        ],
        [
         "F00136",
         "T5468",
         "low_value_transaction",
         0.6,
         "2023-01-10T21:12:00Z"
        ],
        [
         "F00137",
         "T5479",
         "low_value_transaction",
         0.6,
         "2023-01-11T00:41:00Z"
        ],
        [
         "F00138",
         "T5484",
         "unusual_amount",
         0.9,
         "2023-01-11T03:36:00Z"
        ],
        [
         "F00139",
         "T5485",
         "low_value_transaction",
         0.6,
         "2023-01-11T03:36:00Z"
        ],
        [
         "F00140",
         "T5490",
         "unusual_amount",
         0.9,
         "2023-01-11T06:50:00Z"
        ],
        [
         "F00141",
         "T5362",
         "unusual_amount",
         0.9,
         "2023-01-08T14:26:00Z"
        ],
        [
         "F00142",
         "T5367",
         "low_value_transaction",
         0.6,
         "2023-01-08T16:13:00Z"
        ],
        [
         "F00143",
         "T5379",
         "unusual_amount",
         0.9,
         "2023-01-08T21:58:00Z"
        ],
        [
         "F00144",
         "T5385",
         "low_value_transaction",
         0.6,
         "2023-01-09T00:33:00Z"
        ],
        [
         "F00145",
         "T5392",
         "low_value_transaction",
         0.6,
         "2023-01-09T05:25:00Z"
        ],
        [
         "F00146",
         "T5394",
         "unusual_amount",
         0.9,
         "2023-01-09T06:46:00Z"
        ],
        [
         "F00147",
         "T5009",
         "low_value_transaction",
         0.6,
         "2023-01-01T04:44:00Z"
        ],
        [
         "F00148",
         "T5009",
         "watchlist_match",
         0.95,
         "2023-01-01T04:44:00Z"
        ],
        [
         "F00149",
         "T5019",
         "low_value_transaction",
         0.6,
         "2023-01-01T09:59:00Z"
        ],
        [
         "F00150",
         "T5026",
         "low_value_transaction",
         0.6,
         "2023-01-01T13:21:00Z"
        ],
        [
         "F00151",
         "T5033",
         "low_value_transaction",
         0.6,
         "2023-01-01T16:45:00Z"
        ],
        [
         "F00152",
         "T5406",
         "unusual_amount",
         0.9,
         "2023-01-09T12:19:00Z"
        ],
        [
         "F00153",
         "T5425",
         "low_value_transaction",
         0.6,
         "2023-01-09T21:13:00Z"
        ],
        [
         "F00154",
         "T5433",
         "low_value_transaction",
         0.6,
         "2023-01-10T01:42:00Z"
        ],
        [
         "F00155",
         "T5443",
         "low_value_transaction",
         0.6,
         "2023-01-10T07:18:00Z"
        ],
        [
         "F00156",
         "T6360",
         "low_value_transaction",
         0.6,
         "2023-01-28T23:10:00Z"
        ],
        [
         "F00157",
         "T6368",
         "low_value_transaction",
         0.6,
         "2023-01-29T02:18:00Z"
        ],
        [
         "F00158",
         "T6373",
         "low_value_transaction",
         0.6,
         "2023-01-29T03:22:00Z"
        ],
        [
         "F00159",
         "T6381",
         "unusual_amount",
         0.9,
         "2023-01-29T07:57:00Z"
        ],
        [
         "F00160",
         "T6383",
         "unusual_amount",
         0.9,
         "2023-01-29T08:55:00Z"
        ],
        [
         "F00161",
         "T6394",
         "low_value_transaction",
         0.6,
         "2023-01-29T13:31:00Z"
        ],
        [
         "F00162",
         "T6252",
         "unusual_amount",
         0.9,
         "2023-01-26T16:07:00Z"
        ],
        [
         "F00163",
         "T6254",
         "low_value_transaction",
         0.6,
         "2023-01-26T17:02:00Z"
        ],
        [
         "F00164",
         "T6258",
         "low_value_transaction",
         0.6,
         "2023-01-26T17:40:00Z"
        ],
        [
         "F00165",
         "T6265",
         "low_value_transaction",
         0.6,
         "2023-01-26T20:16:00Z"
        ],
        [
         "F00166",
         "T6266",
         "low_value_transaction",
         0.6,
         "2023-01-26T21:15:00Z"
        ],
        [
         "F00167",
         "T6270",
         "low_value_transaction",
         0.6,
         "2023-01-26T23:55:00Z"
        ],
        [
         "F00168",
         "T6285",
         "low_value_transaction",
         0.6,
         "2023-01-27T08:13:00Z"
        ],
        [
         "F00169",
         "T6296",
         "low_value_transaction",
         0.6,
         "2023-01-27T14:33:00Z"
        ],
        [
         "F00170",
         "T6299",
         "low_value_transaction",
         0.6,
         "2023-01-27T16:04:00Z"
        ],
        [
         "F00171",
         "T6510",
         "unusual_amount",
         0.9,
         "2023-01-31T19:24:00Z"
        ],
        [
         "F00172",
         "T6528",
         "low_value_transaction",
         0.6,
         "2023-02-01T02:56:00Z"
        ],
        [
         "F00173",
         "T6534",
         "low_value_transaction",
         0.6,
         "2023-02-01T05:55:00Z"
        ],
        [
         "F00174",
         "T6539",
         "low_value_transaction",
         0.6,
         "2023-02-01T07:59:00Z"
        ],
        [
         "F00175",
         "T6543",
         "low_value_transaction",
         0.6,
         "2023-02-01T10:20:00Z"
        ],
        [
         "F00176",
         "T6546",
         "low_value_transaction",
         0.6,
         "2023-02-01T11:58:00Z"
        ],
        [
         "F00177",
         "T6548",
         "low_value_transaction",
         0.6,
         "2023-02-01T13:46:00Z"
        ],
        [
         "F00178",
         "T5702",
         "low_value_transaction",
         0.6,
         "2023-01-15T05:39:00Z"
        ],
        [
         "F00179",
         "T5711",
         "low_value_transaction",
         0.6,
         "2023-01-15T09:24:00Z"
        ],
        [
         "F00180",
         "T5726",
         "unusual_amount",
         0.9,
         "2023-01-15T16:00:00Z"
        ],
        [
         "F00181",
         "T5736",
         "low_value_transaction",
         0.6,
         "2023-01-15T21:52:00Z"
        ],
        [
         "F00182",
         "T5744",
         "watchlist_match",
         0.95,
         "2023-01-16T01:41:00Z"
        ],
        [
         "F00183",
         "T5750",
         "low_value_transaction",
         0.6,
         "2023-01-16T04:43:00Z"
        ],
        [
         "F00184",
         "T5753",
         "unusual_amount",
         0.9,
         "2023-01-16T06:38:00Z"
        ],
        [
         "F00185",
         "T5758",
         "low_value_transaction",
         0.6,
         "2023-01-16T08:20:00Z"
        ],
        [
         "F00186",
         "T5773",
         "unusual_amount",
         0.9,
         "2023-01-16T15:37:00Z"
        ],
        [
         "F00187",
         "T5777",
         "unusual_amount",
         0.9,
         "2023-01-16T17:26:00Z"
        ],
        [
         "F00188",
         "T5782",
         "low_value_transaction",
         0.6,
         "2023-01-16T20:44:00Z"
        ],
        [
         "F00189",
         "T5784",
         "low_value_transaction",
         0.6,
         "2023-01-16T21:28:00Z"
        ],
        [
         "F00190",
         "T5785",
         "unusual_amount",
         0.9,
         "2023-01-16T21:43:00Z"
        ],
        [
         "F00191",
         "T5789",
         "low_value_transaction",
         0.6,
         "2023-01-16T22:47:00Z"
        ],
        [
         "F00192",
         "T5793",
         "low_value_transaction",
         0.6,
         "2023-01-17T00:42:00Z"
        ],
        [
         "F00193",
         "T5795",
         "low_value_transaction",
         0.6,
         "2023-01-17T01:53:00Z"
        ],
        [
         "F00194",
         "T5798",
         "low_value_transaction",
         0.6,
         "2023-01-17T03:28:00Z"
        ],
        [
         "F00195",
         "T5068",
         "low_value_transaction",
         0.6,
         "2023-01-02T09:21:00Z"
        ],
        [
         "F00196",
         "T5084",
         "low_value_transaction",
         0.6,
         "2023-01-02T16:06:00Z"
        ],
        [
         "F00197",
         "T5093",
         "unusual_amount",
         0.9,
         "2023-01-02T20:31:00Z"
        ],
        [
         "F00198",
         "T5250",
         "low_value_transaction",
         0.6,
         "2023-01-06T06:43:00Z"
        ],
        [
         "F00199",
         "T5277",
         "unusual_amount",
         0.9,
         "2023-01-06T20:47:00Z"
        ],
        [
         "F00200",
         "T5287",
         "unusual_amount",
         0.9,
         "2023-01-07T01:03:00Z"
        ],
        [
         "F00201",
         "T5294",
         "unusual_amount",
         0.9,
         "2023-01-07T03:05:00Z"
        ],
        [
         "F00202",
         "T6560",
         "low_value_transaction",
         0.6,
         "2023-02-01T18:58:00Z"
        ],
        [
         "F00203",
         "T6564",
         "low_value_transaction",
         0.6,
         "2023-02-01T21:55:00Z"
        ],
        [
         "F00204",
         "T6571",
         "low_value_transaction",
         0.6,
         "2023-02-02T00:21:00Z"
        ],
        [
         "F00205",
         "T6572",
         "unusual_amount",
         0.9,
         "2023-02-02T00:43:00Z"
        ],
        [
         "F00206",
         "T6573",
         "low_value_transaction",
         0.6,
         "2023-02-02T01:21:00Z"
        ],
        [
         "F00207",
         "T6577",
         "low_value_transaction",
         0.6,
         "2023-02-02T03:26:00Z"
        ],
        [
         "F00208",
         "T6587",
         "low_value_transaction",
         0.6,
         "2023-02-02T07:49:00Z"
        ],
        [
         "F00209",
         "T6592",
         "unusual_amount",
         0.9,
         "2023-02-02T10:36:00Z"
        ],
        [
         "F00210",
         "T6598",
         "low_value_transaction",
         0.6,
         "2023-02-02T13:39:00Z"
        ],
        [
         "F00211",
         "T5301",
         "low_value_transaction",
         0.6,
         "2023-01-07T06:24:00Z"
        ],
        [
         "F00212",
         "T5307",
         "low_value_transaction",
         0.6,
         "2023-01-07T09:35:00Z"
        ],
        [
         "F00213",
         "T5312",
         "low_value_transaction",
         0.6,
         "2023-01-07T12:31:00Z"
        ],
        [
         "F00214",
         "T5334",
         "unusual_amount",
         0.9,
         "2023-01-07T23:19:00Z"
        ],
        [
         "F00215",
         "T6003",
         "low_value_transaction",
         0.6,
         "2023-01-21T09:53:00Z"
        ],
        [
         "F00216",
         "T6007",
         "low_value_transaction",
         0.6,
         "2023-01-21T12:26:00Z"
        ],
        [
         "F00217",
         "T6009",
         "low_value_transaction",
         0.6,
         "2023-01-21T13:19:00Z"
        ],
        [
         "F00218",
         "T6012",
         "low_value_transaction",
         0.6,
         "2023-01-21T14:14:00Z"
        ],
        [
         "F00219",
         "T6017",
         "low_value_transaction",
         0.6,
         "2023-01-21T16:39:00Z"
        ],
        [
         "F00220",
         "T6029",
         "unusual_amount",
         0.9,
         "2023-01-21T21:56:00Z"
        ],
        [
         "F00221",
         "T6035",
         "unusual_amount",
         0.9,
         "2023-01-22T00:48:00Z"
        ],
        [
         "F00222",
         "T6039",
         "low_value_transaction",
         0.6,
         "2023-01-22T02:10:00Z"
        ],
        [
         "F00223",
         "T6652",
         "unusual_amount",
         0.9,
         "2023-02-03T18:30:00Z"
        ],
        [
         "F00224",
         "T6657",
         "unusual_amount",
         0.9,
         "2023-02-03T21:07:00Z"
        ],
        [
         "F00225",
         "T6665",
         "unusual_amount",
         0.9,
         "2023-02-04T01:06:00Z"
        ],
        [
         "F00226",
         "T6671",
         "low_value_transaction",
         0.6,
         "2023-02-04T04:29:00Z"
        ],
        [
         "F00227",
         "T6675",
         "unusual_amount",
         0.9,
         "2023-02-04T06:44:00Z"
        ],
        [
         "F00228",
         "T6676",
         "unusual_amount",
         0.9,
         "2023-02-04T07:26:00Z"
        ],
        [
         "F00229",
         "T6684",
         "low_value_transaction",
         0.6,
         "2023-02-04T10:37:00Z"
        ],
        [
         "F00230",
         "T6701",
         "low_value_transaction",
         0.6,
         "2023-02-04T19:50:00Z"
        ],
        [
         "F00231",
         "T6713",
         "unusual_amount",
         0.9,
         "2023-02-05T00:43:00Z"
        ],
        [
         "F00232",
         "T6716",
         "low_value_transaction",
         0.6,
         "2023-02-05T02:20:00Z"
        ],
        [
         "F00233",
         "T6730",
         "unusual_amount",
         0.9,
         "2023-02-05T07:00:00Z"
        ],
        [
         "F00234",
         "T6742",
         "low_value_transaction",
         0.6,
         "2023-02-05T13:46:00Z"
        ],
        [
         "F00235",
         "T6756",
         "low_value_transaction",
         0.6,
         "2023-02-05T22:35:00Z"
        ],
        [
         "F00236",
         "T6760",
         "watchlist_match",
         0.95,
         "2023-02-06T00:20:00Z"
        ],
        [
         "F00237",
         "T6795",
         "low_value_transaction",
         0.6,
         "2023-02-06T17:12:00Z"
        ],
        [
         "F00238",
         "T6797",
         "low_value_transaction",
         0.6,
         "2023-02-06T18:54:00Z"
        ],
        [
         "F00239",
         "T6809",
         "unusual_amount",
         0.9,
         "2023-02-07T00:20:00Z"
        ],
        [
         "F00240",
         "T6812",
         "unusual_amount",
         0.9,
         "2023-02-07T01:13:00Z"
        ],
        [
         "F00241",
         "T6814",
         "low_value_transaction",
         0.6,
         "2023-02-07T01:25:00Z"
        ],
        [
         "F00242",
         "T6815",
         "low_value_transaction",
         0.6,
         "2023-02-07T02:21:00Z"
        ],
        [
         "F00243",
         "T6829",
         "unusual_amount",
         0.9,
         "2023-02-07T11:49:00Z"
        ],
        [
         "F00244",
         "T6845",
         "unusual_amount",
         0.9,
         "2023-02-07T19:47:00Z"
        ],
        [
         "F008589934592",
         "T6861",
         "low_value_transaction",
         0.6,
         "2023-02-08T03:15:00Z"
        ],
        [
         "F008589934593",
         "T6871",
         "unusual_amount",
         0.9,
         "2023-02-08T08:47:00Z"
        ],
        [
         "F008589934594",
         "T6876",
         "low_value_transaction",
         0.6,
         "2023-02-08T12:03:00Z"
        ],
        [
         "F008589934595",
         "T6880",
         "low_value_transaction",
         0.6,
         "2023-02-08T14:02:00Z"
        ],
        [
         "F008589934596",
         "T6885",
         "unusual_amount",
         0.9,
         "2023-02-08T16:30:00Z"
        ],
        [
         "F008589934597",
         "T6888",
         "unusual_amount",
         0.9,
         "2023-02-08T17:21:00Z"
        ],
        [
         "F008589934598",
         "T6892",
         "low_value_transaction",
         0.6,
         "2023-02-08T19:11:00Z"
        ],
        [
         "F008589934599",
         "T6895",
         "unusual_amount",
         0.9,
         "2023-02-08T21:16:00Z"
        ],
        [
         "F008589934600",
         "T6896",
         "low_value_transaction",
         0.6,
         "2023-02-08T21:25:00Z"
        ],
        [
         "F008589934601",
         "T6897",
         "low_value_transaction",
         0.6,
         "2023-02-08T22:23:00Z"
        ],
        [
         "F008589934602",
         "T6902",
         "low_value_transaction",
         0.6,
         "2023-02-09T01:17:00Z"
        ],
        [
         "F008589934603",
         "T6913",
         "low_value_transaction",
         0.6,
         "2023-02-09T06:27:00Z"
        ],
        [
         "F008589934604",
         "T6921",
         "low_value_transaction",
         0.6,
         "2023-02-09T10:31:00Z"
        ],
        [
         "F008589934605",
         "T6929",
         "low_value_transaction",
         0.6,
         "2023-02-09T15:33:00Z"
        ],
        [
         "F008589934606",
         "T6934",
         "unusual_amount",
         0.9,
         "2023-02-09T18:10:00Z"
        ],
        [
         "F008589934607",
         "T6939",
         "unusual_amount",
         0.9,
         "2023-02-09T21:13:00Z"
        ],
        [
         "F008589934608",
         "T6944",
         "low_value_transaction",
         0.6,
         "2023-02-09T23:49:00Z"
        ],
        [
         "F008589934609",
         "T6966",
         "unusual_amount",
         0.9,
         "2023-02-10T11:04:00Z"
        ],
        [
         "F008589934610",
         "T6995",
         "low_value_transaction",
         0.6,
         "2023-02-11T00:57:00Z"
        ],
        [
         "F008589934611",
         "T6996",
         "low_value_transaction",
         0.6,
         "2023-02-11T01:08:00Z"
        ],
        [
         "F008589934612",
         "T6997",
         "low_value_transaction",
         0.6,
         "2023-02-11T01:55:00Z"
        ],
        [
         "F008589934613",
         "T7001",
         "unusual_amount",
         0.9,
         "2023-02-11T03:58:00Z"
        ],
        [
         "F008589934614",
         "T7007",
         "unusual_amount",
         0.9,
         "2023-02-11T06:21:00Z"
        ],
        [
         "F008589934615",
         "T7008",
         "unusual_amount",
         0.9,
         "2023-02-11T06:30:00Z"
        ],
        [
         "F008589934616",
         "T7010",
         "unusual_amount",
         0.9,
         "2023-02-11T07:11:00Z"
        ],
        [
         "F008589934617",
         "T7019",
         "low_value_transaction",
         0.6,
         "2023-02-11T11:05:00Z"
        ],
        [
         "F008589934618",
         "T7022",
         "low_value_transaction",
         0.6,
         "2023-02-11T11:49:00Z"
        ],
        [
         "F008589934619",
         "T7037",
         "unusual_amount",
         0.9,
         "2023-02-11T19:52:00Z"
        ],
        [
         "F008589934620",
         "T7047",
         "low_value_transaction",
         0.6,
         "2023-02-12T00:51:00Z"
        ],
        [
         "F008589934621",
         "T7078",
         "unusual_amount",
         0.9,
         "2023-02-12T15:27:00Z"
        ],
        [
         "F008589934622",
         "T7083",
         "low_value_transaction",
         0.6,
         "2023-02-12T17:27:00Z"
        ],
        [
         "F008589934623",
         "T7090",
         "unusual_amount",
         0.9,
         "2023-02-12T20:32:00Z"
        ],
        [
         "F008589934624",
         "T7100",
         "low_value_transaction",
         0.6,
         "2023-02-13T01:11:00Z"
        ],
        [
         "F008589934625",
         "T7108",
         "low_value_transaction",
         0.6,
         "2023-02-13T03:52:00Z"
        ],
        [
         "F008589934626",
         "T7113",
         "unusual_amount",
         0.9,
         "2023-02-13T06:38:00Z"
        ],
        [
         "F008589934627",
         "T7114",
         "low_value_transaction",
         0.6,
         "2023-02-13T07:05:00Z"
        ],
        [
         "F008589934628",
         "T7119",
         "low_value_transaction",
         0.6,
         "2023-02-13T09:42:00Z"
        ],
        [
         "F008589934629",
         "T7121",
         "low_value_transaction",
         0.6,
         "2023-02-13T10:17:00Z"
        ],
        [
         "F008589934630",
         "T7124",
         "low_value_transaction",
         0.6,
         "2023-02-13T11:36:00Z"
        ],
        [
         "F008589934631",
         "T7131",
         "unusual_amount",
         0.9,
         "2023-02-13T16:11:00Z"
        ],
        [
         "F008589934632",
         "T7136",
         "low_value_transaction",
         0.6,
         "2023-02-13T18:18:00Z"
        ],
        [
         "F008589934633",
         "T7142",
         "watchlist_match",
         0.95,
         "2023-02-13T22:31:00Z"
        ],
        [
         "F008589934634",
         "T7145",
         "unusual_amount",
         0.9,
         "2023-02-14T00:28:00Z"
        ],
        [
         "F008589934635",
         "T7154",
         "low_value_transaction",
         0.6,
         "2023-02-14T04:58:00Z"
        ],
        [
         "F008589934636",
         "T7165",
         "low_value_transaction",
         0.6,
         "2023-02-14T10:10:00Z"
        ],
        [
         "F008589934637",
         "T7181",
         "low_value_transaction",
         0.6,
         "2023-02-14T18:10:00Z"
        ],
        [
         "F008589934638",
         "T7183",
         "low_value_transaction",
         0.6,
         "2023-02-14T19:26:00Z"
        ],
        [
         "F008589934639",
         "T7186",
         "low_value_transaction",
         0.6,
         "2023-02-14T20:39:00Z"
        ],
        [
         "F008589934640",
         "T7199",
         "low_value_transaction",
         0.6,
         "2023-02-15T02:34:00Z"
        ],
        [
         "F008589934641",
         "T7200",
         "unusual_amount",
         0.9,
         "2023-02-15T03:07:00Z"
        ],
        [
         "F008589934642",
         "T7226",
         "low_value_transaction",
         0.6,
         "2023-02-15T16:06:00Z"
        ],
        [
         "F008589934643",
         "T7236",
         "low_value_transaction",
         0.6,
         "2023-02-15T20:23:00Z"
        ],
        [
         "F008589934644",
         "T7242",
         "low_value_transaction",
         0.6,
         "2023-02-15T23:03:00Z"
        ],
        [
         "F0017179869184",
         "T7258",
         "low_value_transaction",
         0.6,
         "2023-02-16T05:41:00Z"
        ],
        [
         "F0017179869185",
         "T7263",
         "unusual_amount",
         0.9,
         "2023-02-16T08:07:00Z"
        ],
        [
         "F0017179869186",
         "T7270",
         "low_value_transaction",
         0.6,
         "2023-02-16T11:00:00Z"
        ],
        [
         "F0017179869187",
         "T7277",
         "low_value_transaction",
         0.6,
         "2023-02-16T14:26:00Z"
        ],
        [
         "F0017179869188",
         "T7278",
         "low_value_transaction",
         0.6,
         "2023-02-16T14:32:00Z"
        ],
        [
         "F0017179869189",
         "T7285",
         "low_value_transaction",
         0.6,
         "2023-02-16T17:07:00Z"
        ],
        [
         "F0017179869190",
         "T7291",
         "low_value_transaction",
         0.6,
         "2023-02-16T21:06:00Z"
        ],
        [
         "F0017179869191",
         "T7294",
         "low_value_transaction",
         0.6,
         "2023-02-16T21:50:00Z"
        ],
        [
         "F0017179869192",
         "T7301",
         "low_value_transaction",
         0.6,
         "2023-02-17T01:28:00Z"
        ],
        [
         "F0017179869193",
         "T7312",
         "low_value_transaction",
         0.6,
         "2023-02-17T06:09:00Z"
        ],
        [
         "F0017179869194",
         "T7313",
         "unusual_amount",
         0.9,
         "2023-02-17T06:39:00Z"
        ],
        [
         "F0017179869195",
         "T7320",
         "low_value_transaction",
         0.6,
         "2023-02-17T09:28:00Z"
        ],
        [
         "F0017179869196",
         "T7322",
         "unusual_amount",
         0.9,
         "2023-02-17T10:21:00Z"
        ],
        [
         "F0017179869197",
         "T7343",
         "low_value_transaction",
         0.6,
         "2023-02-17T20:05:00Z"
        ],
        [
         "F0017179869198",
         "T7351",
         "low_value_transaction",
         0.6,
         "2023-02-17T23:20:00Z"
        ],
        [
         "F0017179869199",
         "T7364",
         "unusual_amount",
         0.9,
         "2023-02-18T06:12:00Z"
        ],
        [
         "F0017179869200",
         "T7383",
         "unusual_amount",
         0.9,
         "2023-02-18T15:49:00Z"
        ],
        [
         "F0017179869201",
         "T7385",
         "low_value_transaction",
         0.6,
         "2023-02-18T16:56:00Z"
        ],
        [
         "F0017179869202",
         "T7386",
         "low_value_transaction",
         0.6,
         "2023-02-18T17:43:00Z"
        ],
        [
         "F0017179869203",
         "T7390",
         "low_value_transaction",
         0.6,
         "2023-02-18T18:35:00Z"
        ],
        [
         "F0017179869204",
         "T7401",
         "low_value_transaction",
         0.6,
         "2023-02-18T22:23:00Z"
        ],
        [
         "F0017179869205",
         "T7414",
         "low_value_transaction",
         0.6,
         "2023-02-19T04:13:00Z"
        ],
        [
         "F0017179869206",
         "T7424",
         "unusual_amount",
         0.9,
         "2023-02-19T08:09:00Z"
        ],
        [
         "F0017179869207",
         "T7446",
         "low_value_transaction",
         0.6,
         "2023-02-19T19:22:00Z"
        ],
        [
         "F0017179869208",
         "T7448",
         "low_value_transaction",
         0.6,
         "2023-02-19T19:29:00Z"
        ],
        [
         "F0017179869209",
         "T7450",
         "low_value_transaction",
         0.6,
         "2023-02-19T19:45:00Z"
        ],
        [
         "F0017179869210",
         "T7463",
         "low_value_transaction",
         0.6,
         "2023-02-20T00:59:00Z"
        ],
        [
         "F0017179869211",
         "T7468",
         "watchlist_match",
         0.95,
         "2023-02-20T03:28:00Z"
        ],
        [
         "F0017179869212",
         "T7476",
         "low_value_transaction",
         0.6,
         "2023-02-20T06:48:00Z"
        ],
        [
         "F0017179869213",
         "T7477",
         "low_value_transaction",
         0.6,
         "2023-02-20T07:39:00Z"
        ],
        [
         "F0017179869214",
         "T7479",
         "unusual_amount",
         0.9,
         "2023-02-20T09:26:00Z"
        ],
        [
         "F0017179869215",
         "T7494",
         "unusual_amount",
         0.9,
         "2023-02-20T17:57:00Z"
        ],
        [
         "F0017179869216",
         "T7500",
         "low_value_transaction",
         0.6,
         "2023-02-20T20:19:00Z"
        ],
        [
         "F0017179869217",
         "T7501",
         "low_value_transaction",
         0.6,
         "2023-02-20T21:16:00Z"
        ],
        [
         "F0017179869218",
         "T7507",
         "low_value_transaction",
         0.6,
         "2023-02-21T00:40:00Z"
        ],
        [
         "F0017179869219",
         "T7509",
         "unusual_amount",
         0.9,
         "2023-02-21T01:29:00Z"
        ],
        [
         "F0017179869220",
         "T7522",
         "low_value_transaction",
         0.6,
         "2023-02-21T08:03:00Z"
        ],
        [
         "F0017179869221",
         "T7523",
         "unusual_amount",
         0.9,
         "2023-02-21T08:27:00Z"
        ],
        [
         "F0017179869222",
         "T7528",
         "low_value_transaction",
         0.6,
         "2023-02-21T10:34:00Z"
        ],
        [
         "F0017179869223",
         "T7533",
         "unusual_amount",
         0.9,
         "2023-02-21T12:25:00Z"
        ],
        [
         "F0017179869224",
         "T7534",
         "low_value_transaction",
         0.6,
         "2023-02-21T12:40:00Z"
        ],
        [
         "F0017179869225",
         "T7539",
         "low_value_transaction",
         0.6,
         "2023-02-21T15:11:00Z"
        ],
        [
         "F0017179869226",
         "T7541",
         "low_value_transaction",
         0.6,
         "2023-02-21T16:29:00Z"
        ],
        [
         "F0017179869227",
         "T7542",
         "unusual_amount",
         0.9,
         "2023-02-21T17:23:00Z"
        ],
        [
         "F0017179869228",
         "T7552",
         "low_value_transaction",
         0.6,
         "2023-02-21T20:52:00Z"
        ],
        [
         "F0017179869229",
         "T7569",
         "unusual_amount",
         0.9,
         "2023-02-22T04:47:00Z"
        ],
        [
         "F0017179869230",
         "T7576",
         "unusual_amount",
         0.9,
         "2023-02-22T07:32:00Z"
        ],
        [
         "F0017179869231",
         "T7580",
         "low_value_transaction",
         0.6,
         "2023-02-22T09:32:00Z"
        ],
        [
         "F0017179869232",
         "T7591",
         "low_value_transaction",
         0.6,
         "2023-02-22T14:00:00Z"
        ],
        [
         "F0017179869233",
         "T7606",
         "unusual_amount",
         0.9,
         "2023-02-22T21:20:00Z"
        ],
        [
         "F0017179869234",
         "T7607",
         "low_value_transaction",
         0.6,
         "2023-02-22T22:12:00Z"
        ],
        [
         "F0017179869235",
         "T7609",
         "unusual_amount",
         0.9,
         "2023-02-22T23:28:00Z"
        ],
        [
         "F0017179869236",
         "T7610",
         "low_value_transaction",
         0.6,
         "2023-02-23T00:07:00Z"
        ],
        [
         "F0017179869237",
         "T7613",
         "unusual_amount",
         0.9,
         "2023-02-23T02:24:00Z"
        ],
        [
         "F0017179869238",
         "T7621",
         "unusual_amount",
         0.9,
         "2023-02-23T05:15:00Z"
        ],
        [
         "F0017179869239",
         "T7624",
         "low_value_transaction",
         0.6,
         "2023-02-23T05:58:00Z"
        ],
        [
         "F0017179869240",
         "T7626",
         "unusual_amount",
         0.9,
         "2023-02-23T06:57:00Z"
        ],
        [
         "F0017179869241",
         "T7628",
         "unusual_amount",
         0.9,
         "2023-02-23T07:23:00Z"
        ],
        [
         "F0017179869242",
         "T7630",
         "low_value_transaction",
         0.6,
         "2023-02-23T08:23:00Z"
        ],
        [
         "F0017179869243",
         "T7636",
         "low_value_transaction",
         0.6,
         "2023-02-23T11:20:00Z"
        ],
        [
         "F0017179869244",
         "T7640",
         "low_value_transaction",
         0.6,
         "2023-02-23T13:47:00Z"
        ],
        [
         "F0017179869245",
         "T7649",
         "watchlist_match",
         0.95,
         "2023-02-23T18:04:00Z"
        ],
        [
         "F0025769803776",
         "T7660",
         "unusual_amount",
         0.9,
         "2023-02-23T23:39:00Z"
        ],
        [
         "F0025769803777",
         "T7665",
         "low_value_transaction",
         0.6,
         "2023-02-24T03:45:00Z"
        ],
        [
         "F0025769803778",
         "T7669",
         "unusual_amount",
         0.9,
         "2023-02-24T05:42:00Z"
        ],
        [
         "F0025769803779",
         "T7676",
         "low_value_transaction",
         0.6,
         "2023-02-24T10:43:00Z"
        ],
        [
         "F0025769803780",
         "T7695",
         "low_value_transaction",
         0.6,
         "2023-02-24T18:36:00Z"
        ],
        [
         "F0025769803781",
         "T7714",
         "low_value_transaction",
         0.6,
         "2023-02-25T05:23:00Z"
        ],
        [
         "F0025769803782",
         "T7720",
         "unusual_amount",
         0.9,
         "2023-02-25T08:56:00Z"
        ],
        [
         "F0025769803783",
         "T7725",
         "low_value_transaction",
         0.6,
         "2023-02-25T12:11:00Z"
        ],
        [
         "F0025769803784",
         "T7741",
         "unusual_amount",
         0.9,
         "2023-02-25T21:06:00Z"
        ],
        [
         "F0025769803785",
         "T7747",
         "low_value_transaction",
         0.6,
         "2023-02-25T23:47:00Z"
        ],
        [
         "F0025769803786",
         "T7760",
         "low_value_transaction",
         0.6,
         "2023-02-26T07:11:00Z"
        ],
        [
         "F0025769803787",
         "T7763",
         "unusual_amount",
         0.9,
         "2023-02-26T08:02:00Z"
        ],
        [
         "F0025769803788",
         "T7772",
         "unusual_amount",
         0.9,
         "2023-02-26T12:16:00Z"
        ],
        [
         "F0025769803789",
         "T7776",
         "unusual_amount",
         0.9,
         "2023-02-26T13:18:00Z"
        ],
        [
         "F0025769803790",
         "T7777",
         "low_value_transaction",
         0.6,
         "2023-02-26T13:19:00Z"
        ],
        [
         "F0025769803791",
         "T7787",
         "low_value_transaction",
         0.6,
         "2023-02-26T19:52:00Z"
        ],
        [
         "F0025769803792",
         "T7790",
         "low_value_transaction",
         0.6,
         "2023-02-26T21:21:00Z"
        ],
        [
         "F0025769803793",
         "T7800",
         "unusual_amount",
         0.9,
         "2023-02-27T01:21:00Z"
        ],
        [
         "F0025769803794",
         "T7805",
         "unusual_amount",
         0.9,
         "2023-02-27T02:45:00Z"
        ],
        [
         "F0025769803795",
         "T7834",
         "low_value_transaction",
         0.6,
         "2023-02-27T17:25:00Z"
        ],
        [
         "F0025769803796",
         "T7838",
         "low_value_transaction",
         0.6,
         "2023-02-27T19:49:00Z"
        ],
        [
         "F0025769803797",
         "T7857",
         "unusual_amount",
         0.9,
         "2023-02-28T05:06:00Z"
        ],
        [
         "F0025769803798",
         "T7862",
         "unusual_amount",
         0.9,
         "2023-02-28T08:02:00Z"
        ],
        [
         "F0025769803799",
         "T7881",
         "low_value_transaction",
         0.6,
         "2023-02-28T16:36:00Z"
        ],
        [
         "F0025769803800",
         "T7898",
         "unusual_amount",
         0.9,
         "2023-03-01T00:21:00Z"
        ],
        [
         "F0025769803801",
         "T7907",
         "low_value_transaction",
         0.6,
         "2023-03-01T05:09:00Z"
        ],
        [
         "F0025769803802",
         "T7909",
         "low_value_transaction",
         0.6,
         "2023-03-01T06:39:00Z"
        ],
        [
         "F0025769803803",
         "T7911",
         "low_value_transaction",
         0.6,
         "2023-03-01T07:46:00Z"
        ],
        [
         "F0025769803804",
         "T7921",
         "low_value_transaction",
         0.6,
         "2023-03-01T12:59:00Z"
        ],
        [
         "F0025769803805",
         "T7924",
         "low_value_transaction",
         0.6,
         "2023-03-01T14:51:00Z"
        ],
        [
         "F0025769803806",
         "T7952",
         "low_value_transaction",
         0.6,
         "2023-03-02T04:24:00Z"
        ],
        [
         "F0025769803807",
         "T7953",
         "unusual_amount",
         0.9,
         "2023-03-02T04:45:00Z"
        ],
        [
         "F0025769803808",
         "T7964",
         "low_value_transaction",
         0.6,
         "2023-03-02T09:14:00Z"
        ],
        [
         "F0025769803809",
         "T7965",
         "unusual_amount",
         0.9,
         "2023-03-02T10:03:00Z"
        ],
        [
         "F0025769803810",
         "T7980",
         "low_value_transaction",
         0.6,
         "2023-03-02T17:43:00Z"
        ],
        [
         "F0025769803811",
         "T7985",
         "low_value_transaction",
         0.6,
         "2023-03-02T20:01:00Z"
        ],
        [
         "F0025769803812",
         "T7986",
         "low_value_transaction",
         0.6,
         "2023-03-02T20:04:00Z"
        ],
        [
         "F0025769803813",
         "T7988",
         "low_value_transaction",
         0.6,
         "2023-03-02T20:10:00Z"
        ],
        [
         "F0025769803814",
         "T7989",
         "unusual_amount",
         0.9,
         "2023-03-02T20:11:00Z"
        ],
        [
         "F0025769803815",
         "T7995",
         "unusual_amount",
         0.9,
         "2023-03-02T23:51:00Z"
        ],
        [
         "F0025769803816",
         "T7997",
         "low_value_transaction",
         0.6,
         "2023-03-03T01:16:00Z"
        ]
       ],
       "datasetInfos": [],
       "dbfsResultPath": null,
       "isJsonSchema": true,
       "metadata": {},
       "overflow": false,
       "plotOptions": {
        "customPlotOptions": {},
        "displayType": "table",
        "pivotAggregation": null,
        "pivotColumns": null,
        "xColumns": null,
        "yColumns": null
       },
       "removedWidgets": [],
       "schema": [
        {
         "metadata": "{}",
         "name": "flag_id",
         "type": "\"string\""
        },
        {
         "metadata": "{}",
         "name": "transaction_id",
         "type": "\"string\""
        },
        {
         "metadata": "{}",
         "name": "flag_type",
         "type": "\"string\""
        },
        {
         "metadata": "{}",
         "name": "confidence_score",
         "type": "\"float\""
        },
        {
         "metadata": "{}",
         "name": "timestamp",
         "type": "\"string\""
        }
       ],
       "type": "table"
      }
     },
     "output_type": "display_data"
    }
   ],
   "source": [
    "from pyspark.sql import functions as F\n",
    "from pyspark.sql.types import ArrayType, StringType, FloatType, StructType, StructField\n",
    "\n",
    "# Assume merged_df is already defined and contains the necessary columns\n",
    "\n",
    "# Calculate the transaction count for each customer\n",
    "transaction_counts_df = merged_df.groupBy(\"customer_id\").agg(F.count(\"transaction_id\").alias(\"transaction_count\"))\n",
    "\n",
    "# Join the transaction count back to the main DataFrame\n",
    "joined_with_counts_df = merged_df.join(transaction_counts_df, on=\"customer_id\", how=\"left\")\n",
    "\n",
    "# Define the UDF to classify transactions\n",
    "def classify_transaction(amount, zipcode, transaction_count):\n",
    "    results = []\n",
    "    if amount > 1000:\n",
    "        results.append((\"unusual_amount\", 0.90))\n",
    "    if amount < 5:\n",
    "        results.append((\"low_value_transaction\", 0.60))\n",
    "    if transaction_count > 10:\n",
    "        results.append((\"watchlist_match\", 0.95))\n",
    "    return results\n",
    "\n",
    "# Register the UDF with the correct return type\n",
    "classify_transaction_udf = F.udf(classify_transaction, ArrayType(StructType([\n",
    "    StructField(\"flag_type\", StringType(), True),\n",
    "    StructField(\"confidence_score\", FloatType(), True)\n",
    "])))\n",
    "\n",
    "# Apply the UDF to classify transactions and explode the results\n",
    "classified_df = joined_with_counts_df.withColumn(\n",
    "    \"flags\", F.explode(classify_transaction_udf(F.col(\"amount\"), F.col(\"Zip_code\"), F.col(\"transaction_count\")))\n",
    ")\n",
    "\n",
    "# Extract the relevant columns and create a unique flag ID\n",
    "fraud_flag_df = classified_df.select(\n",
    "    F.monotonically_increasing_id().alias(\"flag_id\"),\n",
    "    F.col(\"transaction_id\"),\n",
    "    F.col(\"flags.flag_type\").alias(\"flag_type\"),\n",
    "    F.round(F.col(\"flags.confidence_score\"), 2).alias(\"confidence_score\"),\n",
    "    F.col(\"timestamp\")\n",
    ")\n",
    "\n",
    "# Convert the flag_id to a formatted string\n",
    "fraud_flag_df = fraud_flag_df.withColumn(\"flag_id\", F.concat(F.lit(\"F00\"), F.col(\"flag_id\").cast(\"string\")))\n",
    "\n",
    "# Display the DataFrame with the new flag details\n",
    "fraud_flag_df.display(truncate=False)\n"
   ]
  },
  {
   "cell_type": "code",
   "execution_count": 0,
   "metadata": {
    "application/vnd.databricks.v1+cell": {
     "cellMetadata": {
      "byteLimit": 2048000,
      "rowLimit": 10000
     },
     "inputWidgets": {},
     "nuid": "cad5d06a-a329-415a-af3b-2d57a34c9729",
     "showTitle": false,
     "title": ""
    }
   },
   "outputs": [],
   "source": [
    "fraud_flag_df.write.format(\"delta\").mode(\"overwrite\").saveAsTable(\"hive_metastore.gold.Fraud_Flag\")"
   ]
  },
  {
   "cell_type": "markdown",
   "metadata": {
    "application/vnd.databricks.v1+cell": {
     "cellMetadata": {},
     "inputWidgets": {},
     "nuid": "00ec4320-ce89-403b-87f7-c735429ae587",
     "showTitle": false,
     "title": ""
    }
   },
   "source": [
    "## Customer_segments_Table"
   ]
  },
  {
   "cell_type": "code",
   "execution_count": 0,
   "metadata": {
    "application/vnd.databricks.v1+cell": {
     "cellMetadata": {
      "byteLimit": 2048000,
      "rowLimit": 10000
     },
     "inputWidgets": {},
     "nuid": "c56ae1f1-1fbd-4e3e-bb9e-84a0dee6a078",
     "showTitle": false,
     "title": ""
    }
   },
   "outputs": [
    {
     "output_type": "display_data",
     "data": {
      "text/html": [
       "<style scoped>\n",
       "  .table-result-container {\n",
       "    max-height: 300px;\n",
       "    overflow: auto;\n",
       "  }\n",
       "  table, th, td {\n",
       "    border: 1px solid black;\n",
       "    border-collapse: collapse;\n",
       "  }\n",
       "  th, td {\n",
       "    padding: 5px;\n",
       "  }\n",
       "  th {\n",
       "    text-align: left;\n",
       "  }\n",
       "</style><div class='table-result-container'><table class='table-result'><thead style='background-color: white'><tr><th>segment_id</th><th>customer_id</th><th>segment_name</th><th>segment_description</th><th>last_update</th></tr></thead><tbody><tr><td>S001</td><td>C1000</td><td>Credit_Risk</td><td>Customers with low credit scores</td><td>2023-01-01T00:00:00Z</td></tr><tr><td>S002</td><td>C1000</td><td>Credit_Risk</td><td>Customers with low credit scores</td><td>2023-01-01T00:00:00Z</td></tr><tr><td>S003</td><td>C1000</td><td>Credit_Risk</td><td>Customers with low credit scores</td><td>2023-01-01T00:00:00Z</td></tr><tr><td>S004</td><td>C1000</td><td>Loyal</td><td>Consistent activity for over 5 years</td><td>2023-01-01T00:00:00Z</td></tr><tr><td>S005</td><td>C1000</td><td>Loyal</td><td>Consistent activity for over 5 years</td><td>2023-01-01T00:00:00Z</td></tr><tr><td>S006</td><td>C1000</td><td>Loyal</td><td>Consistent activity for over 5 years</td><td>2023-01-01T00:00:00Z</td></tr><tr><td>S007</td><td>C1001</td><td>Credit_Risk</td><td>Customers with low credit scores</td><td>2023-01-01T00:00:00Z</td></tr><tr><td>S008</td><td>C1001</td><td>Loyal</td><td>Consistent activity for over 5 years</td><td>2023-01-01T00:00:00Z</td></tr><tr><td>S009</td><td>C1002</td><td>Credit_Risk</td><td>Customers with low credit scores</td><td>2023-01-01T00:00:00Z</td></tr><tr><td>S0010</td><td>C1002</td><td>Credit_Risk</td><td>Customers with low credit scores</td><td>2023-01-01T00:00:00Z</td></tr><tr><td>S0011</td><td>C1002</td><td>Credit_Risk</td><td>Customers with low credit scores</td><td>2023-01-01T00:00:00Z</td></tr><tr><td>S0012</td><td>C1002</td><td>Credit_Risk</td><td>Customers with low credit scores</td><td>2023-01-01T00:00:00Z</td></tr><tr><td>S0013</td><td>C1002</td><td>Loyal</td><td>Consistent activity for over 5 years</td><td>2023-01-01T00:00:00Z</td></tr><tr><td>S0014</td><td>C1002</td><td>Loyal</td><td>Consistent activity for over 5 years</td><td>2023-01-01T00:00:00Z</td></tr><tr><td>S0015</td><td>C1002</td><td>Loyal</td><td>Consistent activity for over 5 years</td><td>2023-01-01T00:00:00Z</td></tr><tr><td>S0016</td><td>C1002</td><td>Loyal</td><td>Consistent activity for over 5 years</td><td>2023-01-01T00:00:00Z</td></tr><tr><td>S0017</td><td>C1003</td><td>Loyal</td><td>Consistent activity for over 5 years</td><td>2023-01-01T00:00:00Z</td></tr><tr><td>S0018</td><td>C1003</td><td>Loyal</td><td>Consistent activity for over 5 years</td><td>2023-01-01T00:00:00Z</td></tr><tr><td>S0019</td><td>C1003</td><td>Loyal</td><td>Consistent activity for over 5 years</td><td>2023-01-01T00:00:00Z</td></tr><tr><td>S0020</td><td>C1003</td><td>Loyal</td><td>Consistent activity for over 5 years</td><td>2023-01-01T00:00:00Z</td></tr><tr><td>S0021</td><td>C1003</td><td>Loyal</td><td>Consistent activity for over 5 years</td><td>2023-01-01T00:00:00Z</td></tr><tr><td>S0022</td><td>C1004</td><td>Credit_Risk</td><td>Customers with low credit scores</td><td>2023-01-01T00:00:00Z</td></tr><tr><td>S0023</td><td>C1004</td><td>Credit_Risk</td><td>Customers with low credit scores</td><td>2023-01-01T00:00:00Z</td></tr><tr><td>S0024</td><td>C1004</td><td>Credit_Risk</td><td>Customers with low credit scores</td><td>2023-01-01T00:00:00Z</td></tr><tr><td>S0025</td><td>C1004</td><td>Credit_Risk</td><td>Customers with low credit scores</td><td>2023-01-01T00:00:00Z</td></tr><tr><td>S0026</td><td>C1004</td><td>Credit_Risk</td><td>Customers with low credit scores</td><td>2023-01-01T00:00:00Z</td></tr><tr><td>S0027</td><td>C1004</td><td>Loyal</td><td>Consistent activity for over 5 years</td><td>2023-01-01T00:00:00Z</td></tr><tr><td>S0028</td><td>C1004</td><td>Loyal</td><td>Consistent activity for over 5 years</td><td>2023-01-01T00:00:00Z</td></tr><tr><td>S0029</td><td>C1004</td><td>Loyal</td><td>Consistent activity for over 5 years</td><td>2023-01-01T00:00:00Z</td></tr><tr><td>S0030</td><td>C1004</td><td>Loyal</td><td>Consistent activity for over 5 years</td><td>2023-01-01T00:00:00Z</td></tr><tr><td>S0031</td><td>C1004</td><td>Loyal</td><td>Consistent activity for over 5 years</td><td>2023-01-01T00:00:00Z</td></tr><tr><td>S0032</td><td>C1005</td><td>Credit_Risk</td><td>Customers with low credit scores</td><td>2023-01-01T00:00:00Z</td></tr><tr><td>S0033</td><td>C1005</td><td>Credit_Risk</td><td>Customers with low credit scores</td><td>2023-01-01T00:00:00Z</td></tr><tr><td>S0034</td><td>C1005</td><td>Credit_Risk</td><td>Customers with low credit scores</td><td>2023-01-01T00:00:00Z</td></tr><tr><td>S0035</td><td>C1005</td><td>Loyal</td><td>Consistent activity for over 5 years</td><td>2023-01-01T00:00:00Z</td></tr><tr><td>S0036</td><td>C1005</td><td>Loyal</td><td>Consistent activity for over 5 years</td><td>2023-01-01T00:00:00Z</td></tr><tr><td>S0037</td><td>C1005</td><td>Loyal</td><td>Consistent activity for over 5 years</td><td>2023-01-01T00:00:00Z</td></tr><tr><td>S0038</td><td>C1006</td><td>Loyal</td><td>Consistent activity for over 5 years</td><td>2023-01-01T00:00:00Z</td></tr><tr><td>S0039</td><td>C1006</td><td>Loyal</td><td>Consistent activity for over 5 years</td><td>2023-01-01T00:00:00Z</td></tr><tr><td>S0040</td><td>C1006</td><td>Loyal</td><td>Consistent activity for over 5 years</td><td>2023-01-01T00:00:00Z</td></tr><tr><td>S0041</td><td>C1006</td><td>Loyal</td><td>Consistent activity for over 5 years</td><td>2023-01-01T00:00:00Z</td></tr><tr><td>S0042</td><td>C1007</td><td>Credit_Risk</td><td>Customers with low credit scores</td><td>2023-01-01T00:00:00Z</td></tr><tr><td>S0043</td><td>C1007</td><td>Credit_Risk</td><td>Customers with low credit scores</td><td>2023-01-01T00:00:00Z</td></tr><tr><td>S0044</td><td>C1007</td><td>Credit_Risk</td><td>Customers with low credit scores</td><td>2023-01-01T00:00:00Z</td></tr><tr><td>S0045</td><td>C1007</td><td>Loyal</td><td>Consistent activity for over 5 years</td><td>2023-01-01T00:00:00Z</td></tr><tr><td>S0046</td><td>C1007</td><td>Loyal</td><td>Consistent activity for over 5 years</td><td>2023-01-01T00:00:00Z</td></tr><tr><td>S0047</td><td>C1007</td><td>Loyal</td><td>Consistent activity for over 5 years</td><td>2023-01-01T00:00:00Z</td></tr><tr><td>S0048</td><td>C1008</td><td>Credit_Risk</td><td>Customers with low credit scores</td><td>2023-01-01T00:00:00Z</td></tr><tr><td>S0049</td><td>C1008</td><td>Credit_Risk</td><td>Customers with low credit scores</td><td>2023-01-01T00:00:00Z</td></tr><tr><td>S0050</td><td>C1008</td><td>Credit_Risk</td><td>Customers with low credit scores</td><td>2023-01-01T00:00:00Z</td></tr><tr><td>S0051</td><td>C1008</td><td>Credit_Risk</td><td>Customers with low credit scores</td><td>2023-01-01T00:00:00Z</td></tr><tr><td>S0052</td><td>C1008</td><td>Loyal</td><td>Consistent activity for over 5 years</td><td>2023-01-01T00:00:00Z</td></tr><tr><td>S0053</td><td>C1008</td><td>Loyal</td><td>Consistent activity for over 5 years</td><td>2023-01-01T00:00:00Z</td></tr><tr><td>S0054</td><td>C1008</td><td>Loyal</td><td>Consistent activity for over 5 years</td><td>2023-01-01T00:00:00Z</td></tr><tr><td>S0055</td><td>C1008</td><td>Loyal</td><td>Consistent activity for over 5 years</td><td>2023-01-01T00:00:00Z</td></tr><tr><td>S0056</td><td>C1009</td><td>Credit_Risk</td><td>Customers with low credit scores</td><td>2023-01-01T00:00:00Z</td></tr><tr><td>S0057</td><td>C1009</td><td>Credit_Risk</td><td>Customers with low credit scores</td><td>2023-01-01T00:00:00Z</td></tr><tr><td>S0058</td><td>C1009</td><td>Credit_Risk</td><td>Customers with low credit scores</td><td>2023-01-01T00:00:00Z</td></tr><tr><td>S0059</td><td>C1009</td><td>Credit_Risk</td><td>Customers with low credit scores</td><td>2023-01-01T00:00:00Z</td></tr><tr><td>S0060</td><td>C1009</td><td>Credit_Risk</td><td>Customers with low credit scores</td><td>2023-01-01T00:00:00Z</td></tr><tr><td>S0061</td><td>C1009</td><td>Loyal</td><td>Consistent activity for over 5 years</td><td>2023-01-01T00:00:00Z</td></tr><tr><td>S0062</td><td>C1009</td><td>Loyal</td><td>Consistent activity for over 5 years</td><td>2023-01-01T00:00:00Z</td></tr><tr><td>S0063</td><td>C1009</td><td>Loyal</td><td>Consistent activity for over 5 years</td><td>2023-01-01T00:00:00Z</td></tr><tr><td>S0064</td><td>C1009</td><td>Loyal</td><td>Consistent activity for over 5 years</td><td>2023-01-01T00:00:00Z</td></tr><tr><td>S0065</td><td>C1009</td><td>Loyal</td><td>Consistent activity for over 5 years</td><td>2023-01-01T00:00:00Z</td></tr><tr><td>S0066</td><td>C1010</td><td>Credit_Risk</td><td>Customers with low credit scores</td><td>2023-01-01T00:00:00Z</td></tr><tr><td>S0067</td><td>C1010</td><td>Loyal</td><td>Consistent activity for over 5 years</td><td>2023-01-01T00:00:00Z</td></tr><tr><td>S0068</td><td>C1011</td><td>Loyal</td><td>Consistent activity for over 5 years</td><td>2023-01-01T00:00:00Z</td></tr><tr><td>S0069</td><td>C1011</td><td>Loyal</td><td>Consistent activity for over 5 years</td><td>2023-01-01T00:00:00Z</td></tr><tr><td>S0070</td><td>C1011</td><td>Loyal</td><td>Consistent activity for over 5 years</td><td>2023-01-01T00:00:00Z</td></tr><tr><td>S0071</td><td>C1011</td><td>Loyal</td><td>Consistent activity for over 5 years</td><td>2023-01-01T00:00:00Z</td></tr><tr><td>S0072</td><td>C1011</td><td>Loyal</td><td>Consistent activity for over 5 years</td><td>2023-01-01T00:00:00Z</td></tr><tr><td>S0073</td><td>C1011</td><td>Loyal</td><td>Consistent activity for over 5 years</td><td>2023-01-01T00:00:00Z</td></tr><tr><td>S0074</td><td>C1012</td><td>Loyal</td><td>Consistent activity for over 5 years</td><td>2023-01-01T00:00:00Z</td></tr><tr><td>S0075</td><td>C1012</td><td>Loyal</td><td>Consistent activity for over 5 years</td><td>2023-01-01T00:00:00Z</td></tr><tr><td>S0076</td><td>C1012</td><td>Loyal</td><td>Consistent activity for over 5 years</td><td>2023-01-01T00:00:00Z</td></tr><tr><td>S0077</td><td>C1012</td><td>Loyal</td><td>Consistent activity for over 5 years</td><td>2023-01-01T00:00:00Z</td></tr><tr><td>S0078</td><td>C1012</td><td>Loyal</td><td>Consistent activity for over 5 years</td><td>2023-01-01T00:00:00Z</td></tr><tr><td>S0079</td><td>C1012</td><td>Loyal</td><td>Consistent activity for over 5 years</td><td>2023-01-01T00:00:00Z</td></tr><tr><td>S0080</td><td>C1012</td><td>Loyal</td><td>Consistent activity for over 5 years</td><td>2023-01-01T00:00:00Z</td></tr><tr><td>S0081</td><td>C1013</td><td>Credit_Risk</td><td>Customers with low credit scores</td><td>2023-01-01T00:00:00Z</td></tr><tr><td>S0082</td><td>C1013</td><td>Credit_Risk</td><td>Customers with low credit scores</td><td>2023-01-01T00:00:00Z</td></tr><tr><td>S0083</td><td>C1013</td><td>Loyal</td><td>Consistent activity for over 5 years</td><td>2023-01-01T00:00:00Z</td></tr><tr><td>S0084</td><td>C1013</td><td>Loyal</td><td>Consistent activity for over 5 years</td><td>2023-01-01T00:00:00Z</td></tr><tr><td>S0085</td><td>C1015</td><td>Loyal</td><td>Consistent activity for over 5 years</td><td>2023-01-01T00:00:00Z</td></tr><tr><td>S0086</td><td>C1016</td><td>Credit_Risk</td><td>Customers with low credit scores</td><td>2023-01-01T00:00:00Z</td></tr><tr><td>S0087</td><td>C1016</td><td>Credit_Risk</td><td>Customers with low credit scores</td><td>2023-01-01T00:00:00Z</td></tr><tr><td>S0088</td><td>C1016</td><td>Credit_Risk</td><td>Customers with low credit scores</td><td>2023-01-01T00:00:00Z</td></tr><tr><td>S0089</td><td>C1016</td><td>Credit_Risk</td><td>Customers with low credit scores</td><td>2023-01-01T00:00:00Z</td></tr><tr><td>S0090</td><td>C1016</td><td>Loyal</td><td>Consistent activity for over 5 years</td><td>2023-01-01T00:00:00Z</td></tr><tr><td>S0091</td><td>C1016</td><td>Loyal</td><td>Consistent activity for over 5 years</td><td>2023-01-01T00:00:00Z</td></tr><tr><td>S0092</td><td>C1016</td><td>Loyal</td><td>Consistent activity for over 5 years</td><td>2023-01-01T00:00:00Z</td></tr><tr><td>S0093</td><td>C1016</td><td>Loyal</td><td>Consistent activity for over 5 years</td><td>2023-01-01T00:00:00Z</td></tr><tr><td>S0094</td><td>C1017</td><td>Loyal</td><td>Consistent activity for over 5 years</td><td>2023-01-01T00:00:00Z</td></tr><tr><td>S0095</td><td>C1017</td><td>Loyal</td><td>Consistent activity for over 5 years</td><td>2023-01-01T00:00:00Z</td></tr><tr><td>S0096</td><td>C1017</td><td>Loyal</td><td>Consistent activity for over 5 years</td><td>2023-01-01T00:00:00Z</td></tr><tr><td>S0097</td><td>C1017</td><td>Loyal</td><td>Consistent activity for over 5 years</td><td>2023-01-01T00:00:00Z</td></tr><tr><td>S0098</td><td>C1018</td><td>Credit_Risk</td><td>Customers with low credit scores</td><td>2023-01-01T00:00:00Z</td></tr><tr><td>S0099</td><td>C1018</td><td>Credit_Risk</td><td>Customers with low credit scores</td><td>2023-01-01T00:00:00Z</td></tr><tr><td>S00100</td><td>C1018</td><td>Credit_Risk</td><td>Customers with low credit scores</td><td>2023-01-01T00:00:00Z</td></tr><tr><td>S00101</td><td>C1018</td><td>Credit_Risk</td><td>Customers with low credit scores</td><td>2023-01-01T00:00:00Z</td></tr><tr><td>S00102</td><td>C1018</td><td>Credit_Risk</td><td>Customers with low credit scores</td><td>2023-01-01T00:00:00Z</td></tr><tr><td>S00103</td><td>C1018</td><td>Loyal</td><td>Consistent activity for over 5 years</td><td>2023-01-01T00:00:00Z</td></tr><tr><td>S00104</td><td>C1018</td><td>Loyal</td><td>Consistent activity for over 5 years</td><td>2023-01-01T00:00:00Z</td></tr><tr><td>S00105</td><td>C1018</td><td>Loyal</td><td>Consistent activity for over 5 years</td><td>2023-01-01T00:00:00Z</td></tr><tr><td>S00106</td><td>C1018</td><td>Loyal</td><td>Consistent activity for over 5 years</td><td>2023-01-01T00:00:00Z</td></tr><tr><td>S00107</td><td>C1018</td><td>Loyal</td><td>Consistent activity for over 5 years</td><td>2023-01-01T00:00:00Z</td></tr><tr><td>S00108</td><td>C1019</td><td>Loyal</td><td>Consistent activity for over 5 years</td><td>2023-01-01T00:00:00Z</td></tr><tr><td>S00109</td><td>C1019</td><td>Loyal</td><td>Consistent activity for over 5 years</td><td>2023-01-01T00:00:00Z</td></tr><tr><td>S00110</td><td>C1019</td><td>Loyal</td><td>Consistent activity for over 5 years</td><td>2023-01-01T00:00:00Z</td></tr><tr><td>S00111</td><td>C1019</td><td>Loyal</td><td>Consistent activity for over 5 years</td><td>2023-01-01T00:00:00Z</td></tr><tr><td>S00112</td><td>C1020</td><td>Credit_Risk</td><td>Customers with low credit scores</td><td>2023-01-01T00:00:00Z</td></tr><tr><td>S00113</td><td>C1020</td><td>Loyal</td><td>Consistent activity for over 5 years</td><td>2023-01-01T00:00:00Z</td></tr><tr><td>S00114</td><td>C1021</td><td>Credit_Risk</td><td>Customers with low credit scores</td><td>2023-01-01T00:00:00Z</td></tr><tr><td>S00115</td><td>C1021</td><td>Credit_Risk</td><td>Customers with low credit scores</td><td>2023-01-01T00:00:00Z</td></tr><tr><td>S00116</td><td>C1021</td><td>Loyal</td><td>Consistent activity for over 5 years</td><td>2023-01-01T00:00:00Z</td></tr><tr><td>S00117</td><td>C1021</td><td>Loyal</td><td>Consistent activity for over 5 years</td><td>2023-01-01T00:00:00Z</td></tr><tr><td>S00118</td><td>C1022</td><td>Credit_Risk</td><td>Customers with low credit scores</td><td>2023-01-01T00:00:00Z</td></tr><tr><td>S00119</td><td>C1022</td><td>Credit_Risk</td><td>Customers with low credit scores</td><td>2023-01-01T00:00:00Z</td></tr><tr><td>S00120</td><td>C1022</td><td>Loyal</td><td>Consistent activity for over 5 years</td><td>2023-01-01T00:00:00Z</td></tr><tr><td>S00121</td><td>C1022</td><td>Loyal</td><td>Consistent activity for over 5 years</td><td>2023-01-01T00:00:00Z</td></tr><tr><td>S00122</td><td>C1023</td><td>Loyal</td><td>Consistent activity for over 5 years</td><td>2023-01-01T00:00:00Z</td></tr><tr><td>S00123</td><td>C1023</td><td>Loyal</td><td>Consistent activity for over 5 years</td><td>2023-01-01T00:00:00Z</td></tr><tr><td>S00124</td><td>C1023</td><td>Loyal</td><td>Consistent activity for over 5 years</td><td>2023-01-01T00:00:00Z</td></tr><tr><td>S00125</td><td>C1024</td><td>Loyal</td><td>Consistent activity for over 5 years</td><td>2023-01-01T00:00:00Z</td></tr><tr><td>S00126</td><td>C1024</td><td>Loyal</td><td>Consistent activity for over 5 years</td><td>2023-01-01T00:00:00Z</td></tr><tr><td>S00127</td><td>C1024</td><td>Loyal</td><td>Consistent activity for over 5 years</td><td>2023-01-01T00:00:00Z</td></tr><tr><td>S00128</td><td>C1024</td><td>Loyal</td><td>Consistent activity for over 5 years</td><td>2023-01-01T00:00:00Z</td></tr><tr><td>S00129</td><td>C1024</td><td>Loyal</td><td>Consistent activity for over 5 years</td><td>2023-01-01T00:00:00Z</td></tr><tr><td>S00130</td><td>C1025</td><td>Loyal</td><td>Consistent activity for over 5 years</td><td>2023-01-01T00:00:00Z</td></tr><tr><td>S00131</td><td>C1025</td><td>Loyal</td><td>Consistent activity for over 5 years</td><td>2023-01-01T00:00:00Z</td></tr><tr><td>S00132</td><td>C1025</td><td>Loyal</td><td>Consistent activity for over 5 years</td><td>2023-01-01T00:00:00Z</td></tr><tr><td>S00133</td><td>C1026</td><td>Loyal</td><td>Consistent activity for over 5 years</td><td>2023-01-01T00:00:00Z</td></tr><tr><td>S00134</td><td>C1026</td><td>Loyal</td><td>Consistent activity for over 5 years</td><td>2023-01-01T00:00:00Z</td></tr><tr><td>S00135</td><td>C1026</td><td>Loyal</td><td>Consistent activity for over 5 years</td><td>2023-01-01T00:00:00Z</td></tr><tr><td>S00136</td><td>C1026</td><td>Loyal</td><td>Consistent activity for over 5 years</td><td>2023-01-01T00:00:00Z</td></tr><tr><td>S00137</td><td>C1026</td><td>Loyal</td><td>Consistent activity for over 5 years</td><td>2023-01-01T00:00:00Z</td></tr><tr><td>S00138</td><td>C1027</td><td>Loyal</td><td>Consistent activity for over 5 years</td><td>2023-01-01T00:00:00Z</td></tr><tr><td>S00139</td><td>C1027</td><td>Loyal</td><td>Consistent activity for over 5 years</td><td>2023-01-01T00:00:00Z</td></tr><tr><td>S00140</td><td>C1027</td><td>Loyal</td><td>Consistent activity for over 5 years</td><td>2023-01-01T00:00:00Z</td></tr><tr><td>S00141</td><td>C1027</td><td>Loyal</td><td>Consistent activity for over 5 years</td><td>2023-01-01T00:00:00Z</td></tr><tr><td>S00142</td><td>C1028</td><td>Credit_Risk</td><td>Customers with low credit scores</td><td>2023-01-01T00:00:00Z</td></tr><tr><td>S00143</td><td>C1028</td><td>Credit_Risk</td><td>Customers with low credit scores</td><td>2023-01-01T00:00:00Z</td></tr><tr><td>S00144</td><td>C1028</td><td>Credit_Risk</td><td>Customers with low credit scores</td><td>2023-01-01T00:00:00Z</td></tr><tr><td>S00145</td><td>C1028</td><td>Credit_Risk</td><td>Customers with low credit scores</td><td>2023-01-01T00:00:00Z</td></tr><tr><td>S00146</td><td>C1028</td><td>Loyal</td><td>Consistent activity for over 5 years</td><td>2023-01-01T00:00:00Z</td></tr><tr><td>S00147</td><td>C1028</td><td>Loyal</td><td>Consistent activity for over 5 years</td><td>2023-01-01T00:00:00Z</td></tr><tr><td>S00148</td><td>C1028</td><td>Loyal</td><td>Consistent activity for over 5 years</td><td>2023-01-01T00:00:00Z</td></tr><tr><td>S00149</td><td>C1028</td><td>Loyal</td><td>Consistent activity for over 5 years</td><td>2023-01-01T00:00:00Z</td></tr><tr><td>S00150</td><td>C1029</td><td>Loyal</td><td>Consistent activity for over 5 years</td><td>2023-01-01T00:00:00Z</td></tr><tr><td>S00151</td><td>C1029</td><td>Loyal</td><td>Consistent activity for over 5 years</td><td>2023-01-01T00:00:00Z</td></tr><tr><td>S00152</td><td>C1029</td><td>Loyal</td><td>Consistent activity for over 5 years</td><td>2023-01-01T00:00:00Z</td></tr><tr><td>S00153</td><td>C1030</td><td>Loyal</td><td>Consistent activity for over 5 years</td><td>2023-01-01T00:00:00Z</td></tr><tr><td>S00154</td><td>C1030</td><td>Loyal</td><td>Consistent activity for over 5 years</td><td>2023-01-01T00:00:00Z</td></tr><tr><td>S00155</td><td>C1030</td><td>Loyal</td><td>Consistent activity for over 5 years</td><td>2023-01-01T00:00:00Z</td></tr><tr><td>S00156</td><td>C1030</td><td>Loyal</td><td>Consistent activity for over 5 years</td><td>2023-01-01T00:00:00Z</td></tr><tr><td>S00157</td><td>C1031</td><td>Loyal</td><td>Consistent activity for over 5 years</td><td>2023-01-01T00:00:00Z</td></tr><tr><td>S00158</td><td>C1031</td><td>Loyal</td><td>Consistent activity for over 5 years</td><td>2023-01-01T00:00:00Z</td></tr><tr><td>S00159</td><td>C1031</td><td>Loyal</td><td>Consistent activity for over 5 years</td><td>2023-01-01T00:00:00Z</td></tr><tr><td>S00160</td><td>C1031</td><td>Loyal</td><td>Consistent activity for over 5 years</td><td>2023-01-01T00:00:00Z</td></tr><tr><td>S00161</td><td>C1031</td><td>Loyal</td><td>Consistent activity for over 5 years</td><td>2023-01-01T00:00:00Z</td></tr><tr><td>S00162</td><td>C1031</td><td>Loyal</td><td>Consistent activity for over 5 years</td><td>2023-01-01T00:00:00Z</td></tr><tr><td>S00163</td><td>C1031</td><td>Loyal</td><td>Consistent activity for over 5 years</td><td>2023-01-01T00:00:00Z</td></tr><tr><td>S00164</td><td>C1033</td><td>Credit_Risk</td><td>Customers with low credit scores</td><td>2023-01-01T00:00:00Z</td></tr><tr><td>S00165</td><td>C1033</td><td>Credit_Risk</td><td>Customers with low credit scores</td><td>2023-01-01T00:00:00Z</td></tr><tr><td>S00166</td><td>C1033</td><td>Credit_Risk</td><td>Customers with low credit scores</td><td>2023-01-01T00:00:00Z</td></tr><tr><td>S00167</td><td>C1033</td><td>Loyal</td><td>Consistent activity for over 5 years</td><td>2023-01-01T00:00:00Z</td></tr><tr><td>S00168</td><td>C1033</td><td>Loyal</td><td>Consistent activity for over 5 years</td><td>2023-01-01T00:00:00Z</td></tr><tr><td>S00169</td><td>C1033</td><td>Loyal</td><td>Consistent activity for over 5 years</td><td>2023-01-01T00:00:00Z</td></tr><tr><td>S00170</td><td>C1034</td><td>Loyal</td><td>Consistent activity for over 5 years</td><td>2023-01-01T00:00:00Z</td></tr><tr><td>S00171</td><td>C1035</td><td>Loyal</td><td>Consistent activity for over 5 years</td><td>2023-01-01T00:00:00Z</td></tr><tr><td>S00172</td><td>C1036</td><td>Credit_Risk</td><td>Customers with low credit scores</td><td>2023-01-01T00:00:00Z</td></tr><tr><td>S00173</td><td>C1036</td><td>Credit_Risk</td><td>Customers with low credit scores</td><td>2023-01-01T00:00:00Z</td></tr><tr><td>S00174</td><td>C1036</td><td>Credit_Risk</td><td>Customers with low credit scores</td><td>2023-01-01T00:00:00Z</td></tr><tr><td>S00175</td><td>C1036</td><td>Credit_Risk</td><td>Customers with low credit scores</td><td>2023-01-01T00:00:00Z</td></tr><tr><td>S00176</td><td>C1036</td><td>Credit_Risk</td><td>Customers with low credit scores</td><td>2023-01-01T00:00:00Z</td></tr><tr><td>S00177</td><td>C1036</td><td>Loyal</td><td>Consistent activity for over 5 years</td><td>2023-01-01T00:00:00Z</td></tr><tr><td>S00178</td><td>C1036</td><td>Loyal</td><td>Consistent activity for over 5 years</td><td>2023-01-01T00:00:00Z</td></tr><tr><td>S00179</td><td>C1036</td><td>Loyal</td><td>Consistent activity for over 5 years</td><td>2023-01-01T00:00:00Z</td></tr><tr><td>S00180</td><td>C1036</td><td>Loyal</td><td>Consistent activity for over 5 years</td><td>2023-01-01T00:00:00Z</td></tr><tr><td>S00181</td><td>C1036</td><td>Loyal</td><td>Consistent activity for over 5 years</td><td>2023-01-01T00:00:00Z</td></tr><tr><td>S00182</td><td>C1037</td><td>Loyal</td><td>Consistent activity for over 5 years</td><td>2023-01-01T00:00:00Z</td></tr><tr><td>S00183</td><td>C1037</td><td>Loyal</td><td>Consistent activity for over 5 years</td><td>2023-01-01T00:00:00Z</td></tr><tr><td>S00184</td><td>C1037</td><td>Loyal</td><td>Consistent activity for over 5 years</td><td>2023-01-01T00:00:00Z</td></tr><tr><td>S00185</td><td>C1037</td><td>Loyal</td><td>Consistent activity for over 5 years</td><td>2023-01-01T00:00:00Z</td></tr><tr><td>S00186</td><td>C1037</td><td>Loyal</td><td>Consistent activity for over 5 years</td><td>2023-01-01T00:00:00Z</td></tr><tr><td>S00187</td><td>C1038</td><td>Loyal</td><td>Consistent activity for over 5 years</td><td>2023-01-01T00:00:00Z</td></tr><tr><td>S00188</td><td>C1038</td><td>Loyal</td><td>Consistent activity for over 5 years</td><td>2023-01-01T00:00:00Z</td></tr><tr><td>S00189</td><td>C1039</td><td>Credit_Risk</td><td>Customers with low credit scores</td><td>2023-01-01T00:00:00Z</td></tr><tr><td>S00190</td><td>C1039</td><td>Credit_Risk</td><td>Customers with low credit scores</td><td>2023-01-01T00:00:00Z</td></tr><tr><td>S00191</td><td>C1039</td><td>Credit_Risk</td><td>Customers with low credit scores</td><td>2023-01-01T00:00:00Z</td></tr><tr><td>S00192</td><td>C1039</td><td>Credit_Risk</td><td>Customers with low credit scores</td><td>2023-01-01T00:00:00Z</td></tr><tr><td>S00193</td><td>C1039</td><td>Credit_Risk</td><td>Customers with low credit scores</td><td>2023-01-01T00:00:00Z</td></tr><tr><td>S00194</td><td>C1039</td><td>Credit_Risk</td><td>Customers with low credit scores</td><td>2023-01-01T00:00:00Z</td></tr><tr><td>S00195</td><td>C1039</td><td>Credit_Risk</td><td>Customers with low credit scores</td><td>2023-01-01T00:00:00Z</td></tr><tr><td>S00196</td><td>C1039</td><td>Credit_Risk</td><td>Customers with low credit scores</td><td>2023-01-01T00:00:00Z</td></tr><tr><td>S00197</td><td>C1039</td><td>Credit_Risk</td><td>Customers with low credit scores</td><td>2023-01-01T00:00:00Z</td></tr><tr><td>S00198</td><td>C1039</td><td>Loyal</td><td>Consistent activity for over 5 years</td><td>2023-01-01T00:00:00Z</td></tr><tr><td>S00199</td><td>C1039</td><td>Loyal</td><td>Consistent activity for over 5 years</td><td>2023-01-01T00:00:00Z</td></tr><tr><td>S00200</td><td>C1039</td><td>Loyal</td><td>Consistent activity for over 5 years</td><td>2023-01-01T00:00:00Z</td></tr><tr><td>S00201</td><td>C1039</td><td>Loyal</td><td>Consistent activity for over 5 years</td><td>2023-01-01T00:00:00Z</td></tr><tr><td>S00202</td><td>C1039</td><td>Loyal</td><td>Consistent activity for over 5 years</td><td>2023-01-01T00:00:00Z</td></tr><tr><td>S00203</td><td>C1039</td><td>Loyal</td><td>Consistent activity for over 5 years</td><td>2023-01-01T00:00:00Z</td></tr><tr><td>S00204</td><td>C1039</td><td>Loyal</td><td>Consistent activity for over 5 years</td><td>2023-01-01T00:00:00Z</td></tr><tr><td>S00205</td><td>C1039</td><td>Loyal</td><td>Consistent activity for over 5 years</td><td>2023-01-01T00:00:00Z</td></tr><tr><td>S00206</td><td>C1039</td><td>Loyal</td><td>Consistent activity for over 5 years</td><td>2023-01-01T00:00:00Z</td></tr><tr><td>S00207</td><td>C1040</td><td>Loyal</td><td>Consistent activity for over 5 years</td><td>2023-01-01T00:00:00Z</td></tr><tr><td>S00208</td><td>C1040</td><td>Loyal</td><td>Consistent activity for over 5 years</td><td>2023-01-01T00:00:00Z</td></tr><tr><td>S00209</td><td>C1041</td><td>Credit_Risk</td><td>Customers with low credit scores</td><td>2023-01-01T00:00:00Z</td></tr><tr><td>S00210</td><td>C1041</td><td>Credit_Risk</td><td>Customers with low credit scores</td><td>2023-01-01T00:00:00Z</td></tr><tr><td>S00211</td><td>C1041</td><td>Credit_Risk</td><td>Customers with low credit scores</td><td>2023-01-01T00:00:00Z</td></tr><tr><td>S00212</td><td>C1041</td><td>Loyal</td><td>Consistent activity for over 5 years</td><td>2023-01-01T00:00:00Z</td></tr><tr><td>S00213</td><td>C1041</td><td>Loyal</td><td>Consistent activity for over 5 years</td><td>2023-01-01T00:00:00Z</td></tr><tr><td>S00214</td><td>C1041</td><td>Loyal</td><td>Consistent activity for over 5 years</td><td>2023-01-01T00:00:00Z</td></tr><tr><td>S00215</td><td>C1042</td><td>Credit_Risk</td><td>Customers with low credit scores</td><td>2023-01-01T00:00:00Z</td></tr><tr><td>S00216</td><td>C1042</td><td>Credit_Risk</td><td>Customers with low credit scores</td><td>2023-01-01T00:00:00Z</td></tr><tr><td>S00217</td><td>C1042</td><td>Credit_Risk</td><td>Customers with low credit scores</td><td>2023-01-01T00:00:00Z</td></tr><tr><td>S00218</td><td>C1042</td><td>Credit_Risk</td><td>Customers with low credit scores</td><td>2023-01-01T00:00:00Z</td></tr><tr><td>S00219</td><td>C1042</td><td>Loyal</td><td>Consistent activity for over 5 years</td><td>2023-01-01T00:00:00Z</td></tr><tr><td>S00220</td><td>C1042</td><td>Loyal</td><td>Consistent activity for over 5 years</td><td>2023-01-01T00:00:00Z</td></tr><tr><td>S00221</td><td>C1042</td><td>Loyal</td><td>Consistent activity for over 5 years</td><td>2023-01-01T00:00:00Z</td></tr><tr><td>S00222</td><td>C1042</td><td>Loyal</td><td>Consistent activity for over 5 years</td><td>2023-01-01T00:00:00Z</td></tr><tr><td>S00223</td><td>C1043</td><td>Credit_Risk</td><td>Customers with low credit scores</td><td>2023-01-01T00:00:00Z</td></tr><tr><td>S00224</td><td>C1043</td><td>Credit_Risk</td><td>Customers with low credit scores</td><td>2023-01-01T00:00:00Z</td></tr><tr><td>S00225</td><td>C1043</td><td>Credit_Risk</td><td>Customers with low credit scores</td><td>2023-01-01T00:00:00Z</td></tr><tr><td>S00226</td><td>C1043</td><td>Loyal</td><td>Consistent activity for over 5 years</td><td>2023-01-01T00:00:00Z</td></tr><tr><td>S00227</td><td>C1043</td><td>Loyal</td><td>Consistent activity for over 5 years</td><td>2023-01-01T00:00:00Z</td></tr><tr><td>S00228</td><td>C1043</td><td>Loyal</td><td>Consistent activity for over 5 years</td><td>2023-01-01T00:00:00Z</td></tr><tr><td>S00229</td><td>C1044</td><td>Loyal</td><td>Consistent activity for over 5 years</td><td>2023-01-01T00:00:00Z</td></tr><tr><td>S00230</td><td>C1045</td><td>Loyal</td><td>Consistent activity for over 5 years</td><td>2023-01-01T00:00:00Z</td></tr><tr><td>S00231</td><td>C1046</td><td>Loyal</td><td>Consistent activity for over 5 years</td><td>2023-01-01T00:00:00Z</td></tr><tr><td>S00232</td><td>C1046</td><td>Loyal</td><td>Consistent activity for over 5 years</td><td>2023-01-01T00:00:00Z</td></tr><tr><td>S00233</td><td>C1046</td><td>Loyal</td><td>Consistent activity for over 5 years</td><td>2023-01-01T00:00:00Z</td></tr><tr><td>S00234</td><td>C1046</td><td>Loyal</td><td>Consistent activity for over 5 years</td><td>2023-01-01T00:00:00Z</td></tr><tr><td>S00235</td><td>C1046</td><td>Loyal</td><td>Consistent activity for over 5 years</td><td>2023-01-01T00:00:00Z</td></tr><tr><td>S00236</td><td>C1046</td><td>Loyal</td><td>Consistent activity for over 5 years</td><td>2023-01-01T00:00:00Z</td></tr><tr><td>S00237</td><td>C1046</td><td>Loyal</td><td>Consistent activity for over 5 years</td><td>2023-01-01T00:00:00Z</td></tr><tr><td>S00238</td><td>C1047</td><td>Loyal</td><td>Consistent activity for over 5 years</td><td>2023-01-01T00:00:00Z</td></tr><tr><td>S00239</td><td>C1047</td><td>Loyal</td><td>Consistent activity for over 5 years</td><td>2023-01-01T00:00:00Z</td></tr><tr><td>S00240</td><td>C1050</td><td>Loyal</td><td>Consistent activity for over 5 years</td><td>2023-01-01T00:00:00Z</td></tr><tr><td>S00241</td><td>C1050</td><td>Loyal</td><td>Consistent activity for over 5 years</td><td>2023-01-01T00:00:00Z</td></tr><tr><td>S00242</td><td>C1051</td><td>Loyal</td><td>Consistent activity for over 5 years</td><td>2023-01-01T00:00:00Z</td></tr><tr><td>S00243</td><td>C1053</td><td>Credit_Risk</td><td>Customers with low credit scores</td><td>2023-01-01T00:00:00Z</td></tr><tr><td>S00244</td><td>C1053</td><td>Credit_Risk</td><td>Customers with low credit scores</td><td>2023-01-01T00:00:00Z</td></tr><tr><td>S00245</td><td>C1053</td><td>Credit_Risk</td><td>Customers with low credit scores</td><td>2023-01-01T00:00:00Z</td></tr><tr><td>S00246</td><td>C1053</td><td>Credit_Risk</td><td>Customers with low credit scores</td><td>2023-01-01T00:00:00Z</td></tr><tr><td>S00247</td><td>C1053</td><td>Loyal</td><td>Consistent activity for over 5 years</td><td>2023-01-01T00:00:00Z</td></tr><tr><td>S00248</td><td>C1053</td><td>Loyal</td><td>Consistent activity for over 5 years</td><td>2023-01-01T00:00:00Z</td></tr><tr><td>S00249</td><td>C1053</td><td>Loyal</td><td>Consistent activity for over 5 years</td><td>2023-01-01T00:00:00Z</td></tr><tr><td>S00250</td><td>C1053</td><td>Loyal</td><td>Consistent activity for over 5 years</td><td>2023-01-01T00:00:00Z</td></tr><tr><td>S00251</td><td>C1054</td><td>Credit_Risk</td><td>Customers with low credit scores</td><td>2023-01-01T00:00:00Z</td></tr><tr><td>S00252</td><td>C1054</td><td>Credit_Risk</td><td>Customers with low credit scores</td><td>2023-01-01T00:00:00Z</td></tr><tr><td>S00253</td><td>C1054</td><td>Credit_Risk</td><td>Customers with low credit scores</td><td>2023-01-01T00:00:00Z</td></tr><tr><td>S00254</td><td>C1054</td><td>Credit_Risk</td><td>Customers with low credit scores</td><td>2023-01-01T00:00:00Z</td></tr><tr><td>S00255</td><td>C1054</td><td>Credit_Risk</td><td>Customers with low credit scores</td><td>2023-01-01T00:00:00Z</td></tr><tr><td>S00256</td><td>C1054</td><td>Credit_Risk</td><td>Customers with low credit scores</td><td>2023-01-01T00:00:00Z</td></tr><tr><td>S00257</td><td>C1054</td><td>Credit_Risk</td><td>Customers with low credit scores</td><td>2023-01-01T00:00:00Z</td></tr><tr><td>S00258</td><td>C1054</td><td>Loyal</td><td>Consistent activity for over 5 years</td><td>2023-01-01T00:00:00Z</td></tr><tr><td>S00259</td><td>C1054</td><td>Loyal</td><td>Consistent activity for over 5 years</td><td>2023-01-01T00:00:00Z</td></tr><tr><td>S00260</td><td>C1054</td><td>Loyal</td><td>Consistent activity for over 5 years</td><td>2023-01-01T00:00:00Z</td></tr><tr><td>S00261</td><td>C1054</td><td>Loyal</td><td>Consistent activity for over 5 years</td><td>2023-01-01T00:00:00Z</td></tr><tr><td>S00262</td><td>C1054</td><td>Loyal</td><td>Consistent activity for over 5 years</td><td>2023-01-01T00:00:00Z</td></tr><tr><td>S00263</td><td>C1054</td><td>Loyal</td><td>Consistent activity for over 5 years</td><td>2023-01-01T00:00:00Z</td></tr><tr><td>S00264</td><td>C1054</td><td>Loyal</td><td>Consistent activity for over 5 years</td><td>2023-01-01T00:00:00Z</td></tr><tr><td>S00265</td><td>C1055</td><td>Credit_Risk</td><td>Customers with low credit scores</td><td>2023-01-01T00:00:00Z</td></tr><tr><td>S00266</td><td>C1055</td><td>Loyal</td><td>Consistent activity for over 5 years</td><td>2023-01-01T00:00:00Z</td></tr><tr><td>S00267</td><td>C1056</td><td>Loyal</td><td>Consistent activity for over 5 years</td><td>2023-01-01T00:00:00Z</td></tr><tr><td>S00268</td><td>C1057</td><td>Loyal</td><td>Consistent activity for over 5 years</td><td>2023-01-01T00:00:00Z</td></tr><tr><td>S00269</td><td>C1057</td><td>Loyal</td><td>Consistent activity for over 5 years</td><td>2023-01-01T00:00:00Z</td></tr><tr><td>S00270</td><td>C1057</td><td>Loyal</td><td>Consistent activity for over 5 years</td><td>2023-01-01T00:00:00Z</td></tr><tr><td>S00271</td><td>C1058</td><td>Credit_Risk</td><td>Customers with low credit scores</td><td>2023-01-01T00:00:00Z</td></tr><tr><td>S00272</td><td>C1058</td><td>Credit_Risk</td><td>Customers with low credit scores</td><td>2023-01-01T00:00:00Z</td></tr><tr><td>S00273</td><td>C1058</td><td>Credit_Risk</td><td>Customers with low credit scores</td><td>2023-01-01T00:00:00Z</td></tr><tr><td>S00274</td><td>C1058</td><td>Credit_Risk</td><td>Customers with low credit scores</td><td>2023-01-01T00:00:00Z</td></tr><tr><td>S00275</td><td>C1058</td><td>Loyal</td><td>Consistent activity for over 5 years</td><td>2023-01-01T00:00:00Z</td></tr><tr><td>S00276</td><td>C1058</td><td>Loyal</td><td>Consistent activity for over 5 years</td><td>2023-01-01T00:00:00Z</td></tr><tr><td>S00277</td><td>C1058</td><td>Loyal</td><td>Consistent activity for over 5 years</td><td>2023-01-01T00:00:00Z</td></tr><tr><td>S00278</td><td>C1058</td><td>Loyal</td><td>Consistent activity for over 5 years</td><td>2023-01-01T00:00:00Z</td></tr><tr><td>S00279</td><td>C1059</td><td>Loyal</td><td>Consistent activity for over 5 years</td><td>2023-01-01T00:00:00Z</td></tr><tr><td>S00280</td><td>C1059</td><td>Loyal</td><td>Consistent activity for over 5 years</td><td>2023-01-01T00:00:00Z</td></tr><tr><td>S00281</td><td>C1059</td><td>Loyal</td><td>Consistent activity for over 5 years</td><td>2023-01-01T00:00:00Z</td></tr><tr><td>S00282</td><td>C1059</td><td>Loyal</td><td>Consistent activity for over 5 years</td><td>2023-01-01T00:00:00Z</td></tr><tr><td>S00283</td><td>C1061</td><td>Loyal</td><td>Consistent activity for over 5 years</td><td>2023-01-01T00:00:00Z</td></tr><tr><td>S00284</td><td>C1062</td><td>Loyal</td><td>Consistent activity for over 5 years</td><td>2023-01-01T00:00:00Z</td></tr><tr><td>S00285</td><td>C1063</td><td>Loyal</td><td>Consistent activity for over 5 years</td><td>2023-01-01T00:00:00Z</td></tr><tr><td>S00286</td><td>C1063</td><td>Loyal</td><td>Consistent activity for over 5 years</td><td>2023-01-01T00:00:00Z</td></tr><tr><td>S00287</td><td>C1064</td><td>Credit_Risk</td><td>Customers with low credit scores</td><td>2023-01-01T00:00:00Z</td></tr><tr><td>S00288</td><td>C1064</td><td>Credit_Risk</td><td>Customers with low credit scores</td><td>2023-01-01T00:00:00Z</td></tr><tr><td>S00289</td><td>C1064</td><td>Credit_Risk</td><td>Customers with low credit scores</td><td>2023-01-01T00:00:00Z</td></tr><tr><td>S00290</td><td>C1064</td><td>Credit_Risk</td><td>Customers with low credit scores</td><td>2023-01-01T00:00:00Z</td></tr><tr><td>S00291</td><td>C1064</td><td>Loyal</td><td>Consistent activity for over 5 years</td><td>2023-01-01T00:00:00Z</td></tr><tr><td>S00292</td><td>C1064</td><td>Loyal</td><td>Consistent activity for over 5 years</td><td>2023-01-01T00:00:00Z</td></tr><tr><td>S00293</td><td>C1064</td><td>Loyal</td><td>Consistent activity for over 5 years</td><td>2023-01-01T00:00:00Z</td></tr><tr><td>S00294</td><td>C1064</td><td>Loyal</td><td>Consistent activity for over 5 years</td><td>2023-01-01T00:00:00Z</td></tr><tr><td>S00295</td><td>C1065</td><td>Credit_Risk</td><td>Customers with low credit scores</td><td>2023-01-01T00:00:00Z</td></tr><tr><td>S00296</td><td>C1065</td><td>Credit_Risk</td><td>Customers with low credit scores</td><td>2023-01-01T00:00:00Z</td></tr><tr><td>S00297</td><td>C1065</td><td>Credit_Risk</td><td>Customers with low credit scores</td><td>2023-01-01T00:00:00Z</td></tr><tr><td>S00298</td><td>C1065</td><td>Credit_Risk</td><td>Customers with low credit scores</td><td>2023-01-01T00:00:00Z</td></tr><tr><td>S00299</td><td>C1065</td><td>Credit_Risk</td><td>Customers with low credit scores</td><td>2023-01-01T00:00:00Z</td></tr><tr><td>S00300</td><td>C1065</td><td>Credit_Risk</td><td>Customers with low credit scores</td><td>2023-01-01T00:00:00Z</td></tr><tr><td>S00301</td><td>C1065</td><td>Credit_Risk</td><td>Customers with low credit scores</td><td>2023-01-01T00:00:00Z</td></tr><tr><td>S00302</td><td>C1065</td><td>Loyal</td><td>Consistent activity for over 5 years</td><td>2023-01-01T00:00:00Z</td></tr><tr><td>S00303</td><td>C1065</td><td>Loyal</td><td>Consistent activity for over 5 years</td><td>2023-01-01T00:00:00Z</td></tr><tr><td>S00304</td><td>C1065</td><td>Loyal</td><td>Consistent activity for over 5 years</td><td>2023-01-01T00:00:00Z</td></tr><tr><td>S00305</td><td>C1065</td><td>Loyal</td><td>Consistent activity for over 5 years</td><td>2023-01-01T00:00:00Z</td></tr><tr><td>S00306</td><td>C1065</td><td>Loyal</td><td>Consistent activity for over 5 years</td><td>2023-01-01T00:00:00Z</td></tr><tr><td>S00307</td><td>C1065</td><td>Loyal</td><td>Consistent activity for over 5 years</td><td>2023-01-01T00:00:00Z</td></tr><tr><td>S00308</td><td>C1065</td><td>Loyal</td><td>Consistent activity for over 5 years</td><td>2023-01-01T00:00:00Z</td></tr><tr><td>S00309</td><td>C1066</td><td>Credit_Risk</td><td>Customers with low credit scores</td><td>2023-01-01T00:00:00Z</td></tr><tr><td>S00310</td><td>C1066</td><td>Loyal</td><td>Consistent activity for over 5 years</td><td>2023-01-01T00:00:00Z</td></tr><tr><td>S00311</td><td>C1067</td><td>Loyal</td><td>Consistent activity for over 5 years</td><td>2023-01-01T00:00:00Z</td></tr><tr><td>S00312</td><td>C1067</td><td>Loyal</td><td>Consistent activity for over 5 years</td><td>2023-01-01T00:00:00Z</td></tr><tr><td>S00313</td><td>C1067</td><td>Loyal</td><td>Consistent activity for over 5 years</td><td>2023-01-01T00:00:00Z</td></tr><tr><td>S00314</td><td>C1067</td><td>Loyal</td><td>Consistent activity for over 5 years</td><td>2023-01-01T00:00:00Z</td></tr><tr><td>S00315</td><td>C1068</td><td>Loyal</td><td>Consistent activity for over 5 years</td><td>2023-01-01T00:00:00Z</td></tr><tr><td>S00316</td><td>C1068</td><td>Loyal</td><td>Consistent activity for over 5 years</td><td>2023-01-01T00:00:00Z</td></tr><tr><td>S00317</td><td>C1068</td><td>Loyal</td><td>Consistent activity for over 5 years</td><td>2023-01-01T00:00:00Z</td></tr><tr><td>S00318</td><td>C1068</td><td>Loyal</td><td>Consistent activity for over 5 years</td><td>2023-01-01T00:00:00Z</td></tr><tr><td>S00319</td><td>C1069</td><td>Loyal</td><td>Consistent activity for over 5 years</td><td>2023-01-01T00:00:00Z</td></tr><tr><td>S00320</td><td>C1069</td><td>Loyal</td><td>Consistent activity for over 5 years</td><td>2023-01-01T00:00:00Z</td></tr><tr><td>S00321</td><td>C1070</td><td>Loyal</td><td>Consistent activity for over 5 years</td><td>2023-01-01T00:00:00Z</td></tr><tr><td>S00322</td><td>C1070</td><td>Loyal</td><td>Consistent activity for over 5 years</td><td>2023-01-01T00:00:00Z</td></tr><tr><td>S00323</td><td>C1070</td><td>Loyal</td><td>Consistent activity for over 5 years</td><td>2023-01-01T00:00:00Z</td></tr><tr><td>S00324</td><td>C1070</td><td>Loyal</td><td>Consistent activity for over 5 years</td><td>2023-01-01T00:00:00Z</td></tr><tr><td>S00325</td><td>C1070</td><td>Loyal</td><td>Consistent activity for over 5 years</td><td>2023-01-01T00:00:00Z</td></tr><tr><td>S00326</td><td>C1071</td><td>Loyal</td><td>Consistent activity for over 5 years</td><td>2023-01-01T00:00:00Z</td></tr><tr><td>S00327</td><td>C1071</td><td>Loyal</td><td>Consistent activity for over 5 years</td><td>2023-01-01T00:00:00Z</td></tr><tr><td>S00328</td><td>C1071</td><td>Loyal</td><td>Consistent activity for over 5 years</td><td>2023-01-01T00:00:00Z</td></tr><tr><td>S00329</td><td>C1071</td><td>Loyal</td><td>Consistent activity for over 5 years</td><td>2023-01-01T00:00:00Z</td></tr><tr><td>S00330</td><td>C1072</td><td>Credit_Risk</td><td>Customers with low credit scores</td><td>2023-01-01T00:00:00Z</td></tr><tr><td>S00331</td><td>C1072</td><td>Credit_Risk</td><td>Customers with low credit scores</td><td>2023-01-01T00:00:00Z</td></tr><tr><td>S00332</td><td>C1072</td><td>Credit_Risk</td><td>Customers with low credit scores</td><td>2023-01-01T00:00:00Z</td></tr><tr><td>S00333</td><td>C1072</td><td>Credit_Risk</td><td>Customers with low credit scores</td><td>2023-01-01T00:00:00Z</td></tr><tr><td>S00334</td><td>C1072</td><td>Credit_Risk</td><td>Customers with low credit scores</td><td>2023-01-01T00:00:00Z</td></tr><tr><td>S00335</td><td>C1072</td><td>Credit_Risk</td><td>Customers with low credit scores</td><td>2023-01-01T00:00:00Z</td></tr><tr><td>S00336</td><td>C1072</td><td>Credit_Risk</td><td>Customers with low credit scores</td><td>2023-01-01T00:00:00Z</td></tr><tr><td>S00337</td><td>C1072</td><td>Loyal</td><td>Consistent activity for over 5 years</td><td>2023-01-01T00:00:00Z</td></tr><tr><td>S00338</td><td>C1072</td><td>Loyal</td><td>Consistent activity for over 5 years</td><td>2023-01-01T00:00:00Z</td></tr><tr><td>S00339</td><td>C1072</td><td>Loyal</td><td>Consistent activity for over 5 years</td><td>2023-01-01T00:00:00Z</td></tr><tr><td>S00340</td><td>C1072</td><td>Loyal</td><td>Consistent activity for over 5 years</td><td>2023-01-01T00:00:00Z</td></tr><tr><td>S00341</td><td>C1072</td><td>Loyal</td><td>Consistent activity for over 5 years</td><td>2023-01-01T00:00:00Z</td></tr><tr><td>S00342</td><td>C1072</td><td>Loyal</td><td>Consistent activity for over 5 years</td><td>2023-01-01T00:00:00Z</td></tr><tr><td>S00343</td><td>C1072</td><td>Loyal</td><td>Consistent activity for over 5 years</td><td>2023-01-01T00:00:00Z</td></tr><tr><td>S00344</td><td>C1073</td><td>Loyal</td><td>Consistent activity for over 5 years</td><td>2023-01-01T00:00:00Z</td></tr><tr><td>S00345</td><td>C1073</td><td>Loyal</td><td>Consistent activity for over 5 years</td><td>2023-01-01T00:00:00Z</td></tr><tr><td>S00346</td><td>C1074</td><td>Credit_Risk</td><td>Customers with low credit scores</td><td>2023-01-01T00:00:00Z</td></tr><tr><td>S00347</td><td>C1074</td><td>Credit_Risk</td><td>Customers with low credit scores</td><td>2023-01-01T00:00:00Z</td></tr><tr><td>S00348</td><td>C1074</td><td>Credit_Risk</td><td>Customers with low credit scores</td><td>2023-01-01T00:00:00Z</td></tr><tr><td>S00349</td><td>C1074</td><td>Loyal</td><td>Consistent activity for over 5 years</td><td>2023-01-01T00:00:00Z</td></tr><tr><td>S00350</td><td>C1074</td><td>Loyal</td><td>Consistent activity for over 5 years</td><td>2023-01-01T00:00:00Z</td></tr><tr><td>S00351</td><td>C1074</td><td>Loyal</td><td>Consistent activity for over 5 years</td><td>2023-01-01T00:00:00Z</td></tr><tr><td>S00352</td><td>C1075</td><td>Loyal</td><td>Consistent activity for over 5 years</td><td>2023-01-01T00:00:00Z</td></tr><tr><td>S00353</td><td>C1075</td><td>Loyal</td><td>Consistent activity for over 5 years</td><td>2023-01-01T00:00:00Z</td></tr><tr><td>S00354</td><td>C1076</td><td>Loyal</td><td>Consistent activity for over 5 years</td><td>2023-01-01T00:00:00Z</td></tr><tr><td>S00355</td><td>C1076</td><td>Loyal</td><td>Consistent activity for over 5 years</td><td>2023-01-01T00:00:00Z</td></tr><tr><td>S00356</td><td>C1076</td><td>Loyal</td><td>Consistent activity for over 5 years</td><td>2023-01-01T00:00:00Z</td></tr><tr><td>S00357</td><td>C1076</td><td>Loyal</td><td>Consistent activity for over 5 years</td><td>2023-01-01T00:00:00Z</td></tr><tr><td>S00358</td><td>C1077</td><td>Loyal</td><td>Consistent activity for over 5 years</td><td>2023-01-01T00:00:00Z</td></tr><tr><td>S00359</td><td>C1077</td><td>Loyal</td><td>Consistent activity for over 5 years</td><td>2023-01-01T00:00:00Z</td></tr><tr><td>S00360</td><td>C1077</td><td>Loyal</td><td>Consistent activity for over 5 years</td><td>2023-01-01T00:00:00Z</td></tr><tr><td>S00361</td><td>C1077</td><td>Loyal</td><td>Consistent activity for over 5 years</td><td>2023-01-01T00:00:00Z</td></tr><tr><td>S00362</td><td>C1078</td><td>Loyal</td><td>Consistent activity for over 5 years</td><td>2023-01-01T00:00:00Z</td></tr><tr><td>S00363</td><td>C1079</td><td>Credit_Risk</td><td>Customers with low credit scores</td><td>2023-01-01T00:00:00Z</td></tr><tr><td>S00364</td><td>C1079</td><td>Credit_Risk</td><td>Customers with low credit scores</td><td>2023-01-01T00:00:00Z</td></tr><tr><td>S00365</td><td>C1079</td><td>Loyal</td><td>Consistent activity for over 5 years</td><td>2023-01-01T00:00:00Z</td></tr><tr><td>S00366</td><td>C1079</td><td>Loyal</td><td>Consistent activity for over 5 years</td><td>2023-01-01T00:00:00Z</td></tr><tr><td>S00367</td><td>C1081</td><td>Loyal</td><td>Consistent activity for over 5 years</td><td>2023-01-01T00:00:00Z</td></tr><tr><td>S00368</td><td>C1081</td><td>Loyal</td><td>Consistent activity for over 5 years</td><td>2023-01-01T00:00:00Z</td></tr><tr><td>S00369</td><td>C1081</td><td>Loyal</td><td>Consistent activity for over 5 years</td><td>2023-01-01T00:00:00Z</td></tr><tr><td>S00370</td><td>C1081</td><td>Loyal</td><td>Consistent activity for over 5 years</td><td>2023-01-01T00:00:00Z</td></tr><tr><td>S00371</td><td>C1081</td><td>Loyal</td><td>Consistent activity for over 5 years</td><td>2023-01-01T00:00:00Z</td></tr><tr><td>S00372</td><td>C1082</td><td>Loyal</td><td>Consistent activity for over 5 years</td><td>2023-01-01T00:00:00Z</td></tr><tr><td>S00373</td><td>C1083</td><td>Loyal</td><td>Consistent activity for over 5 years</td><td>2023-01-01T00:00:00Z</td></tr><tr><td>S00374</td><td>C1083</td><td>Loyal</td><td>Consistent activity for over 5 years</td><td>2023-01-01T00:00:00Z</td></tr><tr><td>S00375</td><td>C1085</td><td>Credit_Risk</td><td>Customers with low credit scores</td><td>2023-01-01T00:00:00Z</td></tr><tr><td>S00376</td><td>C1085</td><td>Credit_Risk</td><td>Customers with low credit scores</td><td>2023-01-01T00:00:00Z</td></tr><tr><td>S00377</td><td>C1085</td><td>Loyal</td><td>Consistent activity for over 5 years</td><td>2023-01-01T00:00:00Z</td></tr><tr><td>S00378</td><td>C1085</td><td>Loyal</td><td>Consistent activity for over 5 years</td><td>2023-01-01T00:00:00Z</td></tr><tr><td>S00379</td><td>C1086</td><td>Loyal</td><td>Consistent activity for over 5 years</td><td>2023-01-01T00:00:00Z</td></tr><tr><td>S00380</td><td>C1086</td><td>Loyal</td><td>Consistent activity for over 5 years</td><td>2023-01-01T00:00:00Z</td></tr><tr><td>S00381</td><td>C1086</td><td>Loyal</td><td>Consistent activity for over 5 years</td><td>2023-01-01T00:00:00Z</td></tr><tr><td>S00382</td><td>C1087</td><td>Loyal</td><td>Consistent activity for over 5 years</td><td>2023-01-01T00:00:00Z</td></tr><tr><td>S00383</td><td>C1087</td><td>Loyal</td><td>Consistent activity for over 5 years</td><td>2023-01-01T00:00:00Z</td></tr><tr><td>S00384</td><td>C1087</td><td>Loyal</td><td>Consistent activity for over 5 years</td><td>2023-01-01T00:00:00Z</td></tr><tr><td>S00385</td><td>C1087</td><td>Loyal</td><td>Consistent activity for over 5 years</td><td>2023-01-01T00:00:00Z</td></tr><tr><td>S00386</td><td>C1087</td><td>Loyal</td><td>Consistent activity for over 5 years</td><td>2023-01-01T00:00:00Z</td></tr><tr><td>S00387</td><td>C1088</td><td>Loyal</td><td>Consistent activity for over 5 years</td><td>2023-01-01T00:00:00Z</td></tr><tr><td>S00388</td><td>C1088</td><td>Loyal</td><td>Consistent activity for over 5 years</td><td>2023-01-01T00:00:00Z</td></tr><tr><td>S00389</td><td>C1088</td><td>Loyal</td><td>Consistent activity for over 5 years</td><td>2023-01-01T00:00:00Z</td></tr><tr><td>S00390</td><td>C1089</td><td>Loyal</td><td>Consistent activity for over 5 years</td><td>2023-01-01T00:00:00Z</td></tr><tr><td>S00391</td><td>C1089</td><td>Loyal</td><td>Consistent activity for over 5 years</td><td>2023-01-01T00:00:00Z</td></tr><tr><td>S00392</td><td>C1090</td><td>Credit_Risk</td><td>Customers with low credit scores</td><td>2023-01-01T00:00:00Z</td></tr><tr><td>S00393</td><td>C1090</td><td>Credit_Risk</td><td>Customers with low credit scores</td><td>2023-01-01T00:00:00Z</td></tr><tr><td>S00394</td><td>C1090</td><td>Credit_Risk</td><td>Customers with low credit scores</td><td>2023-01-01T00:00:00Z</td></tr><tr><td>S00395</td><td>C1090</td><td>Loyal</td><td>Consistent activity for over 5 years</td><td>2023-01-01T00:00:00Z</td></tr><tr><td>S00396</td><td>C1090</td><td>Loyal</td><td>Consistent activity for over 5 years</td><td>2023-01-01T00:00:00Z</td></tr><tr><td>S00397</td><td>C1090</td><td>Loyal</td><td>Consistent activity for over 5 years</td><td>2023-01-01T00:00:00Z</td></tr><tr><td>S00398</td><td>C1092</td><td>Credit_Risk</td><td>Customers with low credit scores</td><td>2023-01-01T00:00:00Z</td></tr><tr><td>S00399</td><td>C1092</td><td>Credit_Risk</td><td>Customers with low credit scores</td><td>2023-01-01T00:00:00Z</td></tr><tr><td>S00400</td><td>C1092</td><td>Credit_Risk</td><td>Customers with low credit scores</td><td>2023-01-01T00:00:00Z</td></tr><tr><td>S00401</td><td>C1092</td><td>Loyal</td><td>Consistent activity for over 5 years</td><td>2023-01-01T00:00:00Z</td></tr><tr><td>S00402</td><td>C1092</td><td>Loyal</td><td>Consistent activity for over 5 years</td><td>2023-01-01T00:00:00Z</td></tr><tr><td>S00403</td><td>C1092</td><td>Loyal</td><td>Consistent activity for over 5 years</td><td>2023-01-01T00:00:00Z</td></tr><tr><td>S00404</td><td>C1093</td><td>Loyal</td><td>Consistent activity for over 5 years</td><td>2023-01-01T00:00:00Z</td></tr><tr><td>S00405</td><td>C1093</td><td>Loyal</td><td>Consistent activity for over 5 years</td><td>2023-01-01T00:00:00Z</td></tr><tr><td>S00406</td><td>C1094</td><td>Loyal</td><td>Consistent activity for over 5 years</td><td>2023-01-01T00:00:00Z</td></tr><tr><td>S00407</td><td>C1094</td><td>Loyal</td><td>Consistent activity for over 5 years</td><td>2023-01-01T00:00:00Z</td></tr><tr><td>S00408</td><td>C1095</td><td>Loyal</td><td>Consistent activity for over 5 years</td><td>2023-01-01T00:00:00Z</td></tr><tr><td>S00409</td><td>C1095</td><td>Loyal</td><td>Consistent activity for over 5 years</td><td>2023-01-01T00:00:00Z</td></tr><tr><td>S00410</td><td>C1095</td><td>Loyal</td><td>Consistent activity for over 5 years</td><td>2023-01-01T00:00:00Z</td></tr><tr><td>S00411</td><td>C1096</td><td>Loyal</td><td>Consistent activity for over 5 years</td><td>2023-01-01T00:00:00Z</td></tr><tr><td>S00412</td><td>C1096</td><td>Loyal</td><td>Consistent activity for over 5 years</td><td>2023-01-01T00:00:00Z</td></tr><tr><td>S00413</td><td>C1096</td><td>Loyal</td><td>Consistent activity for over 5 years</td><td>2023-01-01T00:00:00Z</td></tr><tr><td>S00414</td><td>C1096</td><td>Loyal</td><td>Consistent activity for over 5 years</td><td>2023-01-01T00:00:00Z</td></tr><tr><td>S00415</td><td>C1096</td><td>Loyal</td><td>Consistent activity for over 5 years</td><td>2023-01-01T00:00:00Z</td></tr><tr><td>S00416</td><td>C1097</td><td>Loyal</td><td>Consistent activity for over 5 years</td><td>2023-01-01T00:00:00Z</td></tr><tr><td>S00417</td><td>C1097</td><td>Loyal</td><td>Consistent activity for over 5 years</td><td>2023-01-01T00:00:00Z</td></tr><tr><td>S00418</td><td>C1097</td><td>Loyal</td><td>Consistent activity for over 5 years</td><td>2023-01-01T00:00:00Z</td></tr><tr><td>S00419</td><td>C1098</td><td>Credit_Risk</td><td>Customers with low credit scores</td><td>2023-01-01T00:00:00Z</td></tr><tr><td>S00420</td><td>C1098</td><td>Credit_Risk</td><td>Customers with low credit scores</td><td>2023-01-01T00:00:00Z</td></tr><tr><td>S00421</td><td>C1098</td><td>Credit_Risk</td><td>Customers with low credit scores</td><td>2023-01-01T00:00:00Z</td></tr><tr><td>S00422</td><td>C1098</td><td>Credit_Risk</td><td>Customers with low credit scores</td><td>2023-01-01T00:00:00Z</td></tr><tr><td>S00423</td><td>C1098</td><td>Loyal</td><td>Consistent activity for over 5 years</td><td>2023-01-01T00:00:00Z</td></tr><tr><td>S00424</td><td>C1098</td><td>Loyal</td><td>Consistent activity for over 5 years</td><td>2023-01-01T00:00:00Z</td></tr><tr><td>S00425</td><td>C1098</td><td>Loyal</td><td>Consistent activity for over 5 years</td><td>2023-01-01T00:00:00Z</td></tr><tr><td>S00426</td><td>C1098</td><td>Loyal</td><td>Consistent activity for over 5 years</td><td>2023-01-01T00:00:00Z</td></tr><tr><td>S00427</td><td>C1099</td><td>Credit_Risk</td><td>Customers with low credit scores</td><td>2023-01-01T00:00:00Z</td></tr><tr><td>S00428</td><td>C1099</td><td>Credit_Risk</td><td>Customers with low credit scores</td><td>2023-01-01T00:00:00Z</td></tr><tr><td>S00429</td><td>C1099</td><td>Credit_Risk</td><td>Customers with low credit scores</td><td>2023-01-01T00:00:00Z</td></tr><tr><td>S00430</td><td>C1099</td><td>Credit_Risk</td><td>Customers with low credit scores</td><td>2023-01-01T00:00:00Z</td></tr><tr><td>S00431</td><td>C1099</td><td>Credit_Risk</td><td>Customers with low credit scores</td><td>2023-01-01T00:00:00Z</td></tr><tr><td>S00432</td><td>C1099</td><td>Credit_Risk</td><td>Customers with low credit scores</td><td>2023-01-01T00:00:00Z</td></tr><tr><td>S00433</td><td>C1099</td><td>Credit_Risk</td><td>Customers with low credit scores</td><td>2023-01-01T00:00:00Z</td></tr><tr><td>S00434</td><td>C1099</td><td>Loyal</td><td>Consistent activity for over 5 years</td><td>2023-01-01T00:00:00Z</td></tr><tr><td>S00435</td><td>C1099</td><td>Loyal</td><td>Consistent activity for over 5 years</td><td>2023-01-01T00:00:00Z</td></tr><tr><td>S00436</td><td>C1099</td><td>Loyal</td><td>Consistent activity for over 5 years</td><td>2023-01-01T00:00:00Z</td></tr><tr><td>S00437</td><td>C1099</td><td>Loyal</td><td>Consistent activity for over 5 years</td><td>2023-01-01T00:00:00Z</td></tr><tr><td>S00438</td><td>C1099</td><td>Loyal</td><td>Consistent activity for over 5 years</td><td>2023-01-01T00:00:00Z</td></tr><tr><td>S00439</td><td>C1099</td><td>Loyal</td><td>Consistent activity for over 5 years</td><td>2023-01-01T00:00:00Z</td></tr><tr><td>S00440</td><td>C1099</td><td>Loyal</td><td>Consistent activity for over 5 years</td><td>2023-01-01T00:00:00Z</td></tr><tr><td>S00441</td><td>C1100</td><td>Credit_Risk</td><td>Customers with low credit scores</td><td>2023-01-01T00:00:00Z</td></tr><tr><td>S00442</td><td>C1100</td><td>Credit_Risk</td><td>Customers with low credit scores</td><td>2023-01-01T00:00:00Z</td></tr><tr><td>S00443</td><td>C1100</td><td>Credit_Risk</td><td>Customers with low credit scores</td><td>2023-01-01T00:00:00Z</td></tr><tr><td>S00444</td><td>C1100</td><td>Loyal</td><td>Consistent activity for over 5 years</td><td>2023-01-01T00:00:00Z</td></tr><tr><td>S00445</td><td>C1100</td><td>Loyal</td><td>Consistent activity for over 5 years</td><td>2023-01-01T00:00:00Z</td></tr><tr><td>S00446</td><td>C1100</td><td>Loyal</td><td>Consistent activity for over 5 years</td><td>2023-01-01T00:00:00Z</td></tr><tr><td>S00447</td><td>C1101</td><td>Loyal</td><td>Consistent activity for over 5 years</td><td>2023-01-01T00:00:00Z</td></tr><tr><td>S00448</td><td>C1101</td><td>Loyal</td><td>Consistent activity for over 5 years</td><td>2023-01-01T00:00:00Z</td></tr><tr><td>S00449</td><td>C1102</td><td>Loyal</td><td>Consistent activity for over 5 years</td><td>2023-01-01T00:00:00Z</td></tr><tr><td>S00450</td><td>C1102</td><td>Loyal</td><td>Consistent activity for over 5 years</td><td>2023-01-01T00:00:00Z</td></tr><tr><td>S00451</td><td>C1102</td><td>Loyal</td><td>Consistent activity for over 5 years</td><td>2023-01-01T00:00:00Z</td></tr><tr><td>S00452</td><td>C1102</td><td>Loyal</td><td>Consistent activity for over 5 years</td><td>2023-01-01T00:00:00Z</td></tr><tr><td>S00453</td><td>C1102</td><td>Loyal</td><td>Consistent activity for over 5 years</td><td>2023-01-01T00:00:00Z</td></tr><tr><td>S00454</td><td>C1103</td><td>Credit_Risk</td><td>Customers with low credit scores</td><td>2023-01-01T00:00:00Z</td></tr><tr><td>S00455</td><td>C1103</td><td>Credit_Risk</td><td>Customers with low credit scores</td><td>2023-01-01T00:00:00Z</td></tr><tr><td>S00456</td><td>C1103</td><td>Credit_Risk</td><td>Customers with low credit scores</td><td>2023-01-01T00:00:00Z</td></tr><tr><td>S00457</td><td>C1103</td><td>Loyal</td><td>Consistent activity for over 5 years</td><td>2023-01-01T00:00:00Z</td></tr><tr><td>S00458</td><td>C1103</td><td>Loyal</td><td>Consistent activity for over 5 years</td><td>2023-01-01T00:00:00Z</td></tr><tr><td>S00459</td><td>C1103</td><td>Loyal</td><td>Consistent activity for over 5 years</td><td>2023-01-01T00:00:00Z</td></tr><tr><td>S00460</td><td>C1104</td><td>Loyal</td><td>Consistent activity for over 5 years</td><td>2023-01-01T00:00:00Z</td></tr><tr><td>S00461</td><td>C1105</td><td>Loyal</td><td>Consistent activity for over 5 years</td><td>2023-01-01T00:00:00Z</td></tr><tr><td>S00462</td><td>C1105</td><td>Loyal</td><td>Consistent activity for over 5 years</td><td>2023-01-01T00:00:00Z</td></tr><tr><td>S00463</td><td>C1105</td><td>Loyal</td><td>Consistent activity for over 5 years</td><td>2023-01-01T00:00:00Z</td></tr><tr><td>S00464</td><td>C1105</td><td>Loyal</td><td>Consistent activity for over 5 years</td><td>2023-01-01T00:00:00Z</td></tr><tr><td>S00465</td><td>C1105</td><td>Loyal</td><td>Consistent activity for over 5 years</td><td>2023-01-01T00:00:00Z</td></tr><tr><td>S00466</td><td>C1106</td><td>Loyal</td><td>Consistent activity for over 5 years</td><td>2023-01-01T00:00:00Z</td></tr><tr><td>S00467</td><td>C1106</td><td>Loyal</td><td>Consistent activity for over 5 years</td><td>2023-01-01T00:00:00Z</td></tr><tr><td>S00468</td><td>C1106</td><td>Loyal</td><td>Consistent activity for over 5 years</td><td>2023-01-01T00:00:00Z</td></tr><tr><td>S00469</td><td>C1106</td><td>Loyal</td><td>Consistent activity for over 5 years</td><td>2023-01-01T00:00:00Z</td></tr><tr><td>S00470</td><td>C1107</td><td>Loyal</td><td>Consistent activity for over 5 years</td><td>2023-01-01T00:00:00Z</td></tr><tr><td>S00471</td><td>C1107</td><td>Loyal</td><td>Consistent activity for over 5 years</td><td>2023-01-01T00:00:00Z</td></tr><tr><td>S00472</td><td>C1108</td><td>Credit_Risk</td><td>Customers with low credit scores</td><td>2023-01-01T00:00:00Z</td></tr><tr><td>S00473</td><td>C1108</td><td>Credit_Risk</td><td>Customers with low credit scores</td><td>2023-01-01T00:00:00Z</td></tr><tr><td>S00474</td><td>C1108</td><td>Credit_Risk</td><td>Customers with low credit scores</td><td>2023-01-01T00:00:00Z</td></tr><tr><td>S00475</td><td>C1108</td><td>Credit_Risk</td><td>Customers with low credit scores</td><td>2023-01-01T00:00:00Z</td></tr><tr><td>S00476</td><td>C1108</td><td>Loyal</td><td>Consistent activity for over 5 years</td><td>2023-01-01T00:00:00Z</td></tr><tr><td>S00477</td><td>C1108</td><td>Loyal</td><td>Consistent activity for over 5 years</td><td>2023-01-01T00:00:00Z</td></tr><tr><td>S00478</td><td>C1108</td><td>Loyal</td><td>Consistent activity for over 5 years</td><td>2023-01-01T00:00:00Z</td></tr><tr><td>S00479</td><td>C1108</td><td>Loyal</td><td>Consistent activity for over 5 years</td><td>2023-01-01T00:00:00Z</td></tr><tr><td>S00480</td><td>C1109</td><td>Loyal</td><td>Consistent activity for over 5 years</td><td>2023-01-01T00:00:00Z</td></tr><tr><td>S00481</td><td>C1109</td><td>Loyal</td><td>Consistent activity for over 5 years</td><td>2023-01-01T00:00:00Z</td></tr><tr><td>S00482</td><td>C1109</td><td>Loyal</td><td>Consistent activity for over 5 years</td><td>2023-01-01T00:00:00Z</td></tr><tr><td>S00483</td><td>C1109</td><td>Loyal</td><td>Consistent activity for over 5 years</td><td>2023-01-01T00:00:00Z</td></tr><tr><td>S00484</td><td>C1109</td><td>Loyal</td><td>Consistent activity for over 5 years</td><td>2023-01-01T00:00:00Z</td></tr><tr><td>S00485</td><td>C1110</td><td>Loyal</td><td>Consistent activity for over 5 years</td><td>2023-01-01T00:00:00Z</td></tr><tr><td>S00486</td><td>C1110</td><td>Loyal</td><td>Consistent activity for over 5 years</td><td>2023-01-01T00:00:00Z</td></tr><tr><td>S00487</td><td>C1111</td><td>Loyal</td><td>Consistent activity for over 5 years</td><td>2023-01-01T00:00:00Z</td></tr><tr><td>S00488</td><td>C1111</td><td>Loyal</td><td>Consistent activity for over 5 years</td><td>2023-01-01T00:00:00Z</td></tr><tr><td>S00489</td><td>C1111</td><td>Loyal</td><td>Consistent activity for over 5 years</td><td>2023-01-01T00:00:00Z</td></tr><tr><td>S00490</td><td>C1112</td><td>Credit_Risk</td><td>Customers with low credit scores</td><td>2023-01-01T00:00:00Z</td></tr><tr><td>S00491</td><td>C1112</td><td>Credit_Risk</td><td>Customers with low credit scores</td><td>2023-01-01T00:00:00Z</td></tr><tr><td>S00492</td><td>C1112</td><td>Credit_Risk</td><td>Customers with low credit scores</td><td>2023-01-01T00:00:00Z</td></tr><tr><td>S00493</td><td>C1112</td><td>Credit_Risk</td><td>Customers with low credit scores</td><td>2023-01-01T00:00:00Z</td></tr><tr><td>S00494</td><td>C1112</td><td>Loyal</td><td>Consistent activity for over 5 years</td><td>2023-01-01T00:00:00Z</td></tr><tr><td>S00495</td><td>C1112</td><td>Loyal</td><td>Consistent activity for over 5 years</td><td>2023-01-01T00:00:00Z</td></tr><tr><td>S00496</td><td>C1112</td><td>Loyal</td><td>Consistent activity for over 5 years</td><td>2023-01-01T00:00:00Z</td></tr><tr><td>S00497</td><td>C1112</td><td>Loyal</td><td>Consistent activity for over 5 years</td><td>2023-01-01T00:00:00Z</td></tr><tr><td>S00498</td><td>C1113</td><td>Loyal</td><td>Consistent activity for over 5 years</td><td>2023-01-01T00:00:00Z</td></tr><tr><td>S00499</td><td>C1114</td><td>Credit_Risk</td><td>Customers with low credit scores</td><td>2023-01-01T00:00:00Z</td></tr><tr><td>S00500</td><td>C1114</td><td>Credit_Risk</td><td>Customers with low credit scores</td><td>2023-01-01T00:00:00Z</td></tr><tr><td>S00501</td><td>C1114</td><td>Credit_Risk</td><td>Customers with low credit scores</td><td>2023-01-01T00:00:00Z</td></tr><tr><td>S00502</td><td>C1114</td><td>Loyal</td><td>Consistent activity for over 5 years</td><td>2023-01-01T00:00:00Z</td></tr><tr><td>S00503</td><td>C1114</td><td>Loyal</td><td>Consistent activity for over 5 years</td><td>2023-01-01T00:00:00Z</td></tr><tr><td>S00504</td><td>C1114</td><td>Loyal</td><td>Consistent activity for over 5 years</td><td>2023-01-01T00:00:00Z</td></tr><tr><td>S00505</td><td>C1115</td><td>Loyal</td><td>Consistent activity for over 5 years</td><td>2023-01-01T00:00:00Z</td></tr><tr><td>S00506</td><td>C1115</td><td>Loyal</td><td>Consistent activity for over 5 years</td><td>2023-01-01T00:00:00Z</td></tr><tr><td>S00507</td><td>C1115</td><td>Loyal</td><td>Consistent activity for over 5 years</td><td>2023-01-01T00:00:00Z</td></tr><tr><td>S00508</td><td>C1115</td><td>Loyal</td><td>Consistent activity for over 5 years</td><td>2023-01-01T00:00:00Z</td></tr><tr><td>S00509</td><td>C1116</td><td>Credit_Risk</td><td>Customers with low credit scores</td><td>2023-01-01T00:00:00Z</td></tr><tr><td>S00510</td><td>C1116</td><td>Credit_Risk</td><td>Customers with low credit scores</td><td>2023-01-01T00:00:00Z</td></tr><tr><td>S00511</td><td>C1116</td><td>Credit_Risk</td><td>Customers with low credit scores</td><td>2023-01-01T00:00:00Z</td></tr><tr><td>S00512</td><td>C1116</td><td>Credit_Risk</td><td>Customers with low credit scores</td><td>2023-01-01T00:00:00Z</td></tr><tr><td>S00513</td><td>C1116</td><td>Loyal</td><td>Consistent activity for over 5 years</td><td>2023-01-01T00:00:00Z</td></tr><tr><td>S00514</td><td>C1116</td><td>Loyal</td><td>Consistent activity for over 5 years</td><td>2023-01-01T00:00:00Z</td></tr><tr><td>S00515</td><td>C1116</td><td>Loyal</td><td>Consistent activity for over 5 years</td><td>2023-01-01T00:00:00Z</td></tr><tr><td>S00516</td><td>C1116</td><td>Loyal</td><td>Consistent activity for over 5 years</td><td>2023-01-01T00:00:00Z</td></tr><tr><td>S00517</td><td>C1117</td><td>Credit_Risk</td><td>Customers with low credit scores</td><td>2023-01-01T00:00:00Z</td></tr><tr><td>S00518</td><td>C1117</td><td>Credit_Risk</td><td>Customers with low credit scores</td><td>2023-01-01T00:00:00Z</td></tr><tr><td>S00519</td><td>C1117</td><td>Loyal</td><td>Consistent activity for over 5 years</td><td>2023-01-01T00:00:00Z</td></tr><tr><td>S00520</td><td>C1117</td><td>Loyal</td><td>Consistent activity for over 5 years</td><td>2023-01-01T00:00:00Z</td></tr><tr><td>S00521</td><td>C1118</td><td>High_Value</td><td>Customers with high transaction volume</td><td>2023-01-01T00:00:00Z</td></tr><tr><td>S00522</td><td>C1118</td><td>Credit_Risk</td><td>Customers with low credit scores</td><td>2023-01-01T00:00:00Z</td></tr><tr><td>S00523</td><td>C1118</td><td>Credit_Risk</td><td>Customers with low credit scores</td><td>2023-01-01T00:00:00Z</td></tr><tr><td>S00524</td><td>C1118</td><td>Credit_Risk</td><td>Customers with low credit scores</td><td>2023-01-01T00:00:00Z</td></tr><tr><td>S00525</td><td>C1118</td><td>Credit_Risk</td><td>Customers with low credit scores</td><td>2023-01-01T00:00:00Z</td></tr><tr><td>S00526</td><td>C1118</td><td>Credit_Risk</td><td>Customers with low credit scores</td><td>2023-01-01T00:00:00Z</td></tr><tr><td>S00527</td><td>C1118</td><td>Loyal</td><td>Consistent activity for over 5 years</td><td>2023-01-01T00:00:00Z</td></tr><tr><td>S00528</td><td>C1118</td><td>Loyal</td><td>Consistent activity for over 5 years</td><td>2023-01-01T00:00:00Z</td></tr><tr><td>S00529</td><td>C1118</td><td>Loyal</td><td>Consistent activity for over 5 years</td><td>2023-01-01T00:00:00Z</td></tr><tr><td>S00530</td><td>C1118</td><td>Loyal</td><td>Consistent activity for over 5 years</td><td>2023-01-01T00:00:00Z</td></tr><tr><td>S00531</td><td>C1118</td><td>Loyal</td><td>Consistent activity for over 5 years</td><td>2023-01-01T00:00:00Z</td></tr><tr><td>S00532</td><td>C1119</td><td>Loyal</td><td>Consistent activity for over 5 years</td><td>2023-01-01T00:00:00Z</td></tr><tr><td>S00533</td><td>C1119</td><td>Loyal</td><td>Consistent activity for over 5 years</td><td>2023-01-01T00:00:00Z</td></tr><tr><td>S00534</td><td>C1120</td><td>Loyal</td><td>Consistent activity for over 5 years</td><td>2023-01-01T00:00:00Z</td></tr><tr><td>S00535</td><td>C1120</td><td>Loyal</td><td>Consistent activity for over 5 years</td><td>2023-01-01T00:00:00Z</td></tr><tr><td>S00536</td><td>C1120</td><td>Loyal</td><td>Consistent activity for over 5 years</td><td>2023-01-01T00:00:00Z</td></tr><tr><td>S00537</td><td>C1120</td><td>Loyal</td><td>Consistent activity for over 5 years</td><td>2023-01-01T00:00:00Z</td></tr><tr><td>S00538</td><td>C1120</td><td>Loyal</td><td>Consistent activity for over 5 years</td><td>2023-01-01T00:00:00Z</td></tr><tr><td>S00539</td><td>C1120</td><td>Loyal</td><td>Consistent activity for over 5 years</td><td>2023-01-01T00:00:00Z</td></tr><tr><td>S00540</td><td>C1121</td><td>Credit_Risk</td><td>Customers with low credit scores</td><td>2023-01-01T00:00:00Z</td></tr><tr><td>S00541</td><td>C1121</td><td>Loyal</td><td>Consistent activity for over 5 years</td><td>2023-01-01T00:00:00Z</td></tr><tr><td>S00542</td><td>C1122</td><td>Loyal</td><td>Consistent activity for over 5 years</td><td>2023-01-01T00:00:00Z</td></tr><tr><td>S00543</td><td>C1122</td><td>Loyal</td><td>Consistent activity for over 5 years</td><td>2023-01-01T00:00:00Z</td></tr><tr><td>S00544</td><td>C1122</td><td>Loyal</td><td>Consistent activity for over 5 years</td><td>2023-01-01T00:00:00Z</td></tr><tr><td>S00545</td><td>C1122</td><td>Loyal</td><td>Consistent activity for over 5 years</td><td>2023-01-01T00:00:00Z</td></tr><tr><td>S00546</td><td>C1123</td><td>Credit_Risk</td><td>Customers with low credit scores</td><td>2023-01-01T00:00:00Z</td></tr><tr><td>S00547</td><td>C1123</td><td>Credit_Risk</td><td>Customers with low credit scores</td><td>2023-01-01T00:00:00Z</td></tr><tr><td>S00548</td><td>C1123</td><td>Loyal</td><td>Consistent activity for over 5 years</td><td>2023-01-01T00:00:00Z</td></tr><tr><td>S00549</td><td>C1123</td><td>Loyal</td><td>Consistent activity for over 5 years</td><td>2023-01-01T00:00:00Z</td></tr><tr><td>S00550</td><td>C1124</td><td>Loyal</td><td>Consistent activity for over 5 years</td><td>2023-01-01T00:00:00Z</td></tr><tr><td>S00551</td><td>C1125</td><td>Loyal</td><td>Consistent activity for over 5 years</td><td>2023-01-01T00:00:00Z</td></tr><tr><td>S00552</td><td>C1125</td><td>Loyal</td><td>Consistent activity for over 5 years</td><td>2023-01-01T00:00:00Z</td></tr><tr><td>S00553</td><td>C1125</td><td>Loyal</td><td>Consistent activity for over 5 years</td><td>2023-01-01T00:00:00Z</td></tr><tr><td>S00554</td><td>C1126</td><td>Credit_Risk</td><td>Customers with low credit scores</td><td>2023-01-01T00:00:00Z</td></tr><tr><td>S00555</td><td>C1126</td><td>Credit_Risk</td><td>Customers with low credit scores</td><td>2023-01-01T00:00:00Z</td></tr><tr><td>S00556</td><td>C1126</td><td>Loyal</td><td>Consistent activity for over 5 years</td><td>2023-01-01T00:00:00Z</td></tr><tr><td>S00557</td><td>C1126</td><td>Loyal</td><td>Consistent activity for over 5 years</td><td>2023-01-01T00:00:00Z</td></tr><tr><td>S00558</td><td>C1127</td><td>Loyal</td><td>Consistent activity for over 5 years</td><td>2023-01-01T00:00:00Z</td></tr><tr><td>S00559</td><td>C1127</td><td>Loyal</td><td>Consistent activity for over 5 years</td><td>2023-01-01T00:00:00Z</td></tr><tr><td>S00560</td><td>C1128</td><td>Loyal</td><td>Consistent activity for over 5 years</td><td>2023-01-01T00:00:00Z</td></tr><tr><td>S00561</td><td>C1128</td><td>Loyal</td><td>Consistent activity for over 5 years</td><td>2023-01-01T00:00:00Z</td></tr><tr><td>S00562</td><td>C1128</td><td>Loyal</td><td>Consistent activity for over 5 years</td><td>2023-01-01T00:00:00Z</td></tr><tr><td>S00563</td><td>C1128</td><td>Loyal</td><td>Consistent activity for over 5 years</td><td>2023-01-01T00:00:00Z</td></tr><tr><td>S00564</td><td>C1129</td><td>Credit_Risk</td><td>Customers with low credit scores</td><td>2023-01-01T00:00:00Z</td></tr><tr><td>S00565</td><td>C1129</td><td>Credit_Risk</td><td>Customers with low credit scores</td><td>2023-01-01T00:00:00Z</td></tr><tr><td>S00566</td><td>C1129</td><td>Credit_Risk</td><td>Customers with low credit scores</td><td>2023-01-01T00:00:00Z</td></tr><tr><td>S00567</td><td>C1129</td><td>Credit_Risk</td><td>Customers with low credit scores</td><td>2023-01-01T00:00:00Z</td></tr><tr><td>S00568</td><td>C1129</td><td>Loyal</td><td>Consistent activity for over 5 years</td><td>2023-01-01T00:00:00Z</td></tr><tr><td>S00569</td><td>C1129</td><td>Loyal</td><td>Consistent activity for over 5 years</td><td>2023-01-01T00:00:00Z</td></tr><tr><td>S00570</td><td>C1129</td><td>Loyal</td><td>Consistent activity for over 5 years</td><td>2023-01-01T00:00:00Z</td></tr><tr><td>S00571</td><td>C1129</td><td>Loyal</td><td>Consistent activity for over 5 years</td><td>2023-01-01T00:00:00Z</td></tr><tr><td>S00572</td><td>C1130</td><td>Loyal</td><td>Consistent activity for over 5 years</td><td>2023-01-01T00:00:00Z</td></tr><tr><td>S00573</td><td>C1131</td><td>Credit_Risk</td><td>Customers with low credit scores</td><td>2023-01-01T00:00:00Z</td></tr><tr><td>S00574</td><td>C1131</td><td>Credit_Risk</td><td>Customers with low credit scores</td><td>2023-01-01T00:00:00Z</td></tr><tr><td>S00575</td><td>C1131</td><td>Credit_Risk</td><td>Customers with low credit scores</td><td>2023-01-01T00:00:00Z</td></tr><tr><td>S00576</td><td>C1131</td><td>Credit_Risk</td><td>Customers with low credit scores</td><td>2023-01-01T00:00:00Z</td></tr><tr><td>S00577</td><td>C1131</td><td>Credit_Risk</td><td>Customers with low credit scores</td><td>2023-01-01T00:00:00Z</td></tr><tr><td>S00578</td><td>C1131</td><td>Credit_Risk</td><td>Customers with low credit scores</td><td>2023-01-01T00:00:00Z</td></tr><tr><td>S00579</td><td>C1131</td><td>Loyal</td><td>Consistent activity for over 5 years</td><td>2023-01-01T00:00:00Z</td></tr><tr><td>S00580</td><td>C1131</td><td>Loyal</td><td>Consistent activity for over 5 years</td><td>2023-01-01T00:00:00Z</td></tr><tr><td>S00581</td><td>C1131</td><td>Loyal</td><td>Consistent activity for over 5 years</td><td>2023-01-01T00:00:00Z</td></tr><tr><td>S00582</td><td>C1131</td><td>Loyal</td><td>Consistent activity for over 5 years</td><td>2023-01-01T00:00:00Z</td></tr><tr><td>S00583</td><td>C1131</td><td>Loyal</td><td>Consistent activity for over 5 years</td><td>2023-01-01T00:00:00Z</td></tr><tr><td>S00584</td><td>C1131</td><td>Loyal</td><td>Consistent activity for over 5 years</td><td>2023-01-01T00:00:00Z</td></tr><tr><td>S00585</td><td>C1132</td><td>Loyal</td><td>Consistent activity for over 5 years</td><td>2023-01-01T00:00:00Z</td></tr><tr><td>S00586</td><td>C1133</td><td>Credit_Risk</td><td>Customers with low credit scores</td><td>2023-01-01T00:00:00Z</td></tr><tr><td>S00587</td><td>C1133</td><td>Credit_Risk</td><td>Customers with low credit scores</td><td>2023-01-01T00:00:00Z</td></tr><tr><td>S00588</td><td>C1133</td><td>Credit_Risk</td><td>Customers with low credit scores</td><td>2023-01-01T00:00:00Z</td></tr><tr><td>S00589</td><td>C1133</td><td>Loyal</td><td>Consistent activity for over 5 years</td><td>2023-01-01T00:00:00Z</td></tr><tr><td>S00590</td><td>C1133</td><td>Loyal</td><td>Consistent activity for over 5 years</td><td>2023-01-01T00:00:00Z</td></tr><tr><td>S00591</td><td>C1133</td><td>Loyal</td><td>Consistent activity for over 5 years</td><td>2023-01-01T00:00:00Z</td></tr><tr><td>S00592</td><td>C1134</td><td>Loyal</td><td>Consistent activity for over 5 years</td><td>2023-01-01T00:00:00Z</td></tr><tr><td>S00593</td><td>C1134</td><td>Loyal</td><td>Consistent activity for over 5 years</td><td>2023-01-01T00:00:00Z</td></tr><tr><td>S00594</td><td>C1134</td><td>Loyal</td><td>Consistent activity for over 5 years</td><td>2023-01-01T00:00:00Z</td></tr><tr><td>S00595</td><td>C1134</td><td>Loyal</td><td>Consistent activity for over 5 years</td><td>2023-01-01T00:00:00Z</td></tr><tr><td>S00596</td><td>C1134</td><td>Loyal</td><td>Consistent activity for over 5 years</td><td>2023-01-01T00:00:00Z</td></tr><tr><td>S00597</td><td>C1134</td><td>Loyal</td><td>Consistent activity for over 5 years</td><td>2023-01-01T00:00:00Z</td></tr><tr><td>S00598</td><td>C1134</td><td>Loyal</td><td>Consistent activity for over 5 years</td><td>2023-01-01T00:00:00Z</td></tr><tr><td>S00599</td><td>C1135</td><td>Loyal</td><td>Consistent activity for over 5 years</td><td>2023-01-01T00:00:00Z</td></tr><tr><td>S00600</td><td>C1135</td><td>Loyal</td><td>Consistent activity for over 5 years</td><td>2023-01-01T00:00:00Z</td></tr><tr><td>S00601</td><td>C1135</td><td>Loyal</td><td>Consistent activity for over 5 years</td><td>2023-01-01T00:00:00Z</td></tr><tr><td>S00602</td><td>C1136</td><td>Loyal</td><td>Consistent activity for over 5 years</td><td>2023-01-01T00:00:00Z</td></tr><tr><td>S00603</td><td>C1136</td><td>Loyal</td><td>Consistent activity for over 5 years</td><td>2023-01-01T00:00:00Z</td></tr><tr><td>S00604</td><td>C1136</td><td>Loyal</td><td>Consistent activity for over 5 years</td><td>2023-01-01T00:00:00Z</td></tr><tr><td>S00605</td><td>C1136</td><td>Loyal</td><td>Consistent activity for over 5 years</td><td>2023-01-01T00:00:00Z</td></tr><tr><td>S00606</td><td>C1136</td><td>Loyal</td><td>Consistent activity for over 5 years</td><td>2023-01-01T00:00:00Z</td></tr><tr><td>S00607</td><td>C1137</td><td>Credit_Risk</td><td>Customers with low credit scores</td><td>2023-01-01T00:00:00Z</td></tr><tr><td>S00608</td><td>C1137</td><td>Credit_Risk</td><td>Customers with low credit scores</td><td>2023-01-01T00:00:00Z</td></tr><tr><td>S00609</td><td>C1137</td><td>Credit_Risk</td><td>Customers with low credit scores</td><td>2023-01-01T00:00:00Z</td></tr><tr><td>S00610</td><td>C1137</td><td>Loyal</td><td>Consistent activity for over 5 years</td><td>2023-01-01T00:00:00Z</td></tr><tr><td>S00611</td><td>C1137</td><td>Loyal</td><td>Consistent activity for over 5 years</td><td>2023-01-01T00:00:00Z</td></tr><tr><td>S00612</td><td>C1137</td><td>Loyal</td><td>Consistent activity for over 5 years</td><td>2023-01-01T00:00:00Z</td></tr><tr><td>S00613</td><td>C1138</td><td>Loyal</td><td>Consistent activity for over 5 years</td><td>2023-01-01T00:00:00Z</td></tr><tr><td>S00614</td><td>C1138</td><td>Loyal</td><td>Consistent activity for over 5 years</td><td>2023-01-01T00:00:00Z</td></tr><tr><td>S00615</td><td>C1138</td><td>Loyal</td><td>Consistent activity for over 5 years</td><td>2023-01-01T00:00:00Z</td></tr><tr><td>S00616</td><td>C1138</td><td>Loyal</td><td>Consistent activity for over 5 years</td><td>2023-01-01T00:00:00Z</td></tr><tr><td>S00617</td><td>C1138</td><td>Loyal</td><td>Consistent activity for over 5 years</td><td>2023-01-01T00:00:00Z</td></tr><tr><td>S00618</td><td>C1139</td><td>Credit_Risk</td><td>Customers with low credit scores</td><td>2023-01-01T00:00:00Z</td></tr><tr><td>S00619</td><td>C1139</td><td>Credit_Risk</td><td>Customers with low credit scores</td><td>2023-01-01T00:00:00Z</td></tr><tr><td>S00620</td><td>C1139</td><td>Credit_Risk</td><td>Customers with low credit scores</td><td>2023-01-01T00:00:00Z</td></tr><tr><td>S00621</td><td>C1139</td><td>Credit_Risk</td><td>Customers with low credit scores</td><td>2023-01-01T00:00:00Z</td></tr><tr><td>S00622</td><td>C1139</td><td>Loyal</td><td>Consistent activity for over 5 years</td><td>2023-01-01T00:00:00Z</td></tr><tr><td>S00623</td><td>C1139</td><td>Loyal</td><td>Consistent activity for over 5 years</td><td>2023-01-01T00:00:00Z</td></tr><tr><td>S00624</td><td>C1139</td><td>Loyal</td><td>Consistent activity for over 5 years</td><td>2023-01-01T00:00:00Z</td></tr><tr><td>S00625</td><td>C1139</td><td>Loyal</td><td>Consistent activity for over 5 years</td><td>2023-01-01T00:00:00Z</td></tr><tr><td>S00626</td><td>C1140</td><td>Credit_Risk</td><td>Customers with low credit scores</td><td>2023-01-01T00:00:00Z</td></tr><tr><td>S00627</td><td>C1140</td><td>Credit_Risk</td><td>Customers with low credit scores</td><td>2023-01-01T00:00:00Z</td></tr><tr><td>S00628</td><td>C1140</td><td>Credit_Risk</td><td>Customers with low credit scores</td><td>2023-01-01T00:00:00Z</td></tr><tr><td>S00629</td><td>C1140</td><td>Loyal</td><td>Consistent activity for over 5 years</td><td>2023-01-01T00:00:00Z</td></tr><tr><td>S00630</td><td>C1140</td><td>Loyal</td><td>Consistent activity for over 5 years</td><td>2023-01-01T00:00:00Z</td></tr><tr><td>S00631</td><td>C1140</td><td>Loyal</td><td>Consistent activity for over 5 years</td><td>2023-01-01T00:00:00Z</td></tr><tr><td>S00632</td><td>C1141</td><td>Loyal</td><td>Consistent activity for over 5 years</td><td>2023-01-01T00:00:00Z</td></tr><tr><td>S00633</td><td>C1141</td><td>Loyal</td><td>Consistent activity for over 5 years</td><td>2023-01-01T00:00:00Z</td></tr><tr><td>S00634</td><td>C1142</td><td>Loyal</td><td>Consistent activity for over 5 years</td><td>2023-01-01T00:00:00Z</td></tr><tr><td>S00635</td><td>C1142</td><td>Loyal</td><td>Consistent activity for over 5 years</td><td>2023-01-01T00:00:00Z</td></tr><tr><td>S00636</td><td>C1142</td><td>Loyal</td><td>Consistent activity for over 5 years</td><td>2023-01-01T00:00:00Z</td></tr><tr><td>S00637</td><td>C1142</td><td>Loyal</td><td>Consistent activity for over 5 years</td><td>2023-01-01T00:00:00Z</td></tr><tr><td>S00638</td><td>C1143</td><td>Loyal</td><td>Consistent activity for over 5 years</td><td>2023-01-01T00:00:00Z</td></tr><tr><td>S00639</td><td>C1143</td><td>Loyal</td><td>Consistent activity for over 5 years</td><td>2023-01-01T00:00:00Z</td></tr><tr><td>S00640</td><td>C1143</td><td>Loyal</td><td>Consistent activity for over 5 years</td><td>2023-01-01T00:00:00Z</td></tr><tr><td>S00641</td><td>C1144</td><td>Loyal</td><td>Consistent activity for over 5 years</td><td>2023-01-01T00:00:00Z</td></tr><tr><td>S00642</td><td>C1144</td><td>Loyal</td><td>Consistent activity for over 5 years</td><td>2023-01-01T00:00:00Z</td></tr><tr><td>S00643</td><td>C1144</td><td>Loyal</td><td>Consistent activity for over 5 years</td><td>2023-01-01T00:00:00Z</td></tr><tr><td>S00644</td><td>C1144</td><td>Loyal</td><td>Consistent activity for over 5 years</td><td>2023-01-01T00:00:00Z</td></tr><tr><td>S00645</td><td>C1145</td><td>Loyal</td><td>Consistent activity for over 5 years</td><td>2023-01-01T00:00:00Z</td></tr><tr><td>S00646</td><td>C1145</td><td>Loyal</td><td>Consistent activity for over 5 years</td><td>2023-01-01T00:00:00Z</td></tr><tr><td>S00647</td><td>C1145</td><td>Loyal</td><td>Consistent activity for over 5 years</td><td>2023-01-01T00:00:00Z</td></tr><tr><td>S00648</td><td>C1146</td><td>Credit_Risk</td><td>Customers with low credit scores</td><td>2023-01-01T00:00:00Z</td></tr><tr><td>S00649</td><td>C1146</td><td>Credit_Risk</td><td>Customers with low credit scores</td><td>2023-01-01T00:00:00Z</td></tr><tr><td>S00650</td><td>C1146</td><td>Credit_Risk</td><td>Customers with low credit scores</td><td>2023-01-01T00:00:00Z</td></tr><tr><td>S00651</td><td>C1146</td><td>Loyal</td><td>Consistent activity for over 5 years</td><td>2023-01-01T00:00:00Z</td></tr><tr><td>S00652</td><td>C1146</td><td>Loyal</td><td>Consistent activity for over 5 years</td><td>2023-01-01T00:00:00Z</td></tr><tr><td>S00653</td><td>C1146</td><td>Loyal</td><td>Consistent activity for over 5 years</td><td>2023-01-01T00:00:00Z</td></tr><tr><td>S00654</td><td>C1147</td><td>Loyal</td><td>Consistent activity for over 5 years</td><td>2023-01-01T00:00:00Z</td></tr><tr><td>S00655</td><td>C1147</td><td>Loyal</td><td>Consistent activity for over 5 years</td><td>2023-01-01T00:00:00Z</td></tr><tr><td>S00656</td><td>C1148</td><td>Credit_Risk</td><td>Customers with low credit scores</td><td>2023-01-01T00:00:00Z</td></tr><tr><td>S00657</td><td>C1148</td><td>Credit_Risk</td><td>Customers with low credit scores</td><td>2023-01-01T00:00:00Z</td></tr><tr><td>S00658</td><td>C1148</td><td>Credit_Risk</td><td>Customers with low credit scores</td><td>2023-01-01T00:00:00Z</td></tr><tr><td>S00659</td><td>C1148</td><td>Loyal</td><td>Consistent activity for over 5 years</td><td>2023-01-01T00:00:00Z</td></tr><tr><td>S00660</td><td>C1148</td><td>Loyal</td><td>Consistent activity for over 5 years</td><td>2023-01-01T00:00:00Z</td></tr><tr><td>S00661</td><td>C1148</td><td>Loyal</td><td>Consistent activity for over 5 years</td><td>2023-01-01T00:00:00Z</td></tr><tr><td>S00662</td><td>C1149</td><td>Loyal</td><td>Consistent activity for over 5 years</td><td>2023-01-01T00:00:00Z</td></tr><tr><td>S00663</td><td>C1149</td><td>Loyal</td><td>Consistent activity for over 5 years</td><td>2023-01-01T00:00:00Z</td></tr><tr><td>S00664</td><td>C1149</td><td>Loyal</td><td>Consistent activity for over 5 years</td><td>2023-01-01T00:00:00Z</td></tr><tr><td>S00665</td><td>C1149</td><td>Loyal</td><td>Consistent activity for over 5 years</td><td>2023-01-01T00:00:00Z</td></tr><tr><td>S00666</td><td>C1149</td><td>Loyal</td><td>Consistent activity for over 5 years</td><td>2023-01-01T00:00:00Z</td></tr><tr><td>S00667</td><td>C1150</td><td>Loyal</td><td>Consistent activity for over 5 years</td><td>2023-01-01T00:00:00Z</td></tr><tr><td>S00668</td><td>C1150</td><td>Loyal</td><td>Consistent activity for over 5 years</td><td>2023-01-01T00:00:00Z</td></tr><tr><td>S00669</td><td>C1151</td><td>Loyal</td><td>Consistent activity for over 5 years</td><td>2023-01-01T00:00:00Z</td></tr><tr><td>S00670</td><td>C1151</td><td>Loyal</td><td>Consistent activity for over 5 years</td><td>2023-01-01T00:00:00Z</td></tr><tr><td>S00671</td><td>C1151</td><td>Loyal</td><td>Consistent activity for over 5 years</td><td>2023-01-01T00:00:00Z</td></tr><tr><td>S00672</td><td>C1151</td><td>Loyal</td><td>Consistent activity for over 5 years</td><td>2023-01-01T00:00:00Z</td></tr><tr><td>S00673</td><td>C1151</td><td>Loyal</td><td>Consistent activity for over 5 years</td><td>2023-01-01T00:00:00Z</td></tr><tr><td>S00674</td><td>C1152</td><td>Loyal</td><td>Consistent activity for over 5 years</td><td>2023-01-01T00:00:00Z</td></tr><tr><td>S00675</td><td>C1153</td><td>Loyal</td><td>Consistent activity for over 5 years</td><td>2023-01-01T00:00:00Z</td></tr><tr><td>S00676</td><td>C1154</td><td>Credit_Risk</td><td>Customers with low credit scores</td><td>2023-01-01T00:00:00Z</td></tr><tr><td>S00677</td><td>C1154</td><td>Loyal</td><td>Consistent activity for over 5 years</td><td>2023-01-01T00:00:00Z</td></tr><tr><td>S00678</td><td>C1155</td><td>Credit_Risk</td><td>Customers with low credit scores</td><td>2023-01-01T00:00:00Z</td></tr><tr><td>S00679</td><td>C1155</td><td>Credit_Risk</td><td>Customers with low credit scores</td><td>2023-01-01T00:00:00Z</td></tr><tr><td>S00680</td><td>C1155</td><td>Credit_Risk</td><td>Customers with low credit scores</td><td>2023-01-01T00:00:00Z</td></tr><tr><td>S00681</td><td>C1155</td><td>Credit_Risk</td><td>Customers with low credit scores</td><td>2023-01-01T00:00:00Z</td></tr><tr><td>S00682</td><td>C1155</td><td>Loyal</td><td>Consistent activity for over 5 years</td><td>2023-01-01T00:00:00Z</td></tr><tr><td>S00683</td><td>C1155</td><td>Loyal</td><td>Consistent activity for over 5 years</td><td>2023-01-01T00:00:00Z</td></tr><tr><td>S00684</td><td>C1155</td><td>Loyal</td><td>Consistent activity for over 5 years</td><td>2023-01-01T00:00:00Z</td></tr><tr><td>S00685</td><td>C1155</td><td>Loyal</td><td>Consistent activity for over 5 years</td><td>2023-01-01T00:00:00Z</td></tr><tr><td>S00686</td><td>C1156</td><td>Credit_Risk</td><td>Customers with low credit scores</td><td>2023-01-01T00:00:00Z</td></tr><tr><td>S00687</td><td>C1156</td><td>Credit_Risk</td><td>Customers with low credit scores</td><td>2023-01-01T00:00:00Z</td></tr><tr><td>S00688</td><td>C1156</td><td>Credit_Risk</td><td>Customers with low credit scores</td><td>2023-01-01T00:00:00Z</td></tr><tr><td>S00689</td><td>C1156</td><td>Credit_Risk</td><td>Customers with low credit scores</td><td>2023-01-01T00:00:00Z</td></tr><tr><td>S00690</td><td>C1156</td><td>Loyal</td><td>Consistent activity for over 5 years</td><td>2023-01-01T00:00:00Z</td></tr><tr><td>S00691</td><td>C1156</td><td>Loyal</td><td>Consistent activity for over 5 years</td><td>2023-01-01T00:00:00Z</td></tr><tr><td>S00692</td><td>C1156</td><td>Loyal</td><td>Consistent activity for over 5 years</td><td>2023-01-01T00:00:00Z</td></tr><tr><td>S00693</td><td>C1156</td><td>Loyal</td><td>Consistent activity for over 5 years</td><td>2023-01-01T00:00:00Z</td></tr><tr><td>S00694</td><td>C1157</td><td>Loyal</td><td>Consistent activity for over 5 years</td><td>2023-01-01T00:00:00Z</td></tr><tr><td>S00695</td><td>C1157</td><td>Loyal</td><td>Consistent activity for over 5 years</td><td>2023-01-01T00:00:00Z</td></tr><tr><td>S00696</td><td>C1157</td><td>Loyal</td><td>Consistent activity for over 5 years</td><td>2023-01-01T00:00:00Z</td></tr><tr><td>S00697</td><td>C1158</td><td>Loyal</td><td>Consistent activity for over 5 years</td><td>2023-01-01T00:00:00Z</td></tr><tr><td>S00698</td><td>C1158</td><td>Loyal</td><td>Consistent activity for over 5 years</td><td>2023-01-01T00:00:00Z</td></tr><tr><td>S00699</td><td>C1158</td><td>Loyal</td><td>Consistent activity for over 5 years</td><td>2023-01-01T00:00:00Z</td></tr><tr><td>S00700</td><td>C1159</td><td>Loyal</td><td>Consistent activity for over 5 years</td><td>2023-01-01T00:00:00Z</td></tr><tr><td>S00701</td><td>C1159</td><td>Loyal</td><td>Consistent activity for over 5 years</td><td>2023-01-01T00:00:00Z</td></tr><tr><td>S00702</td><td>C1160</td><td>Loyal</td><td>Consistent activity for over 5 years</td><td>2023-01-01T00:00:00Z</td></tr><tr><td>S00703</td><td>C1160</td><td>Loyal</td><td>Consistent activity for over 5 years</td><td>2023-01-01T00:00:00Z</td></tr><tr><td>S00704</td><td>C1162</td><td>Loyal</td><td>Consistent activity for over 5 years</td><td>2023-01-01T00:00:00Z</td></tr><tr><td>S00705</td><td>C1162</td><td>Loyal</td><td>Consistent activity for over 5 years</td><td>2023-01-01T00:00:00Z</td></tr><tr><td>S00706</td><td>C1162</td><td>Loyal</td><td>Consistent activity for over 5 years</td><td>2023-01-01T00:00:00Z</td></tr><tr><td>S00707</td><td>C1162</td><td>Loyal</td><td>Consistent activity for over 5 years</td><td>2023-01-01T00:00:00Z</td></tr><tr><td>S00708</td><td>C1162</td><td>Loyal</td><td>Consistent activity for over 5 years</td><td>2023-01-01T00:00:00Z</td></tr><tr><td>S00709</td><td>C1162</td><td>Loyal</td><td>Consistent activity for over 5 years</td><td>2023-01-01T00:00:00Z</td></tr><tr><td>S00710</td><td>C1162</td><td>Loyal</td><td>Consistent activity for over 5 years</td><td>2023-01-01T00:00:00Z</td></tr><tr><td>S00711</td><td>C1162</td><td>Loyal</td><td>Consistent activity for over 5 years</td><td>2023-01-01T00:00:00Z</td></tr><tr><td>S00712</td><td>C1163</td><td>Credit_Risk</td><td>Customers with low credit scores</td><td>2023-01-01T00:00:00Z</td></tr><tr><td>S00713</td><td>C1163</td><td>Loyal</td><td>Consistent activity for over 5 years</td><td>2023-01-01T00:00:00Z</td></tr><tr><td>S00714</td><td>C1164</td><td>Credit_Risk</td><td>Customers with low credit scores</td><td>2023-01-01T00:00:00Z</td></tr><tr><td>S00715</td><td>C1164</td><td>Credit_Risk</td><td>Customers with low credit scores</td><td>2023-01-01T00:00:00Z</td></tr><tr><td>S00716</td><td>C1164</td><td>Loyal</td><td>Consistent activity for over 5 years</td><td>2023-01-01T00:00:00Z</td></tr><tr><td>S00717</td><td>C1164</td><td>Loyal</td><td>Consistent activity for over 5 years</td><td>2023-01-01T00:00:00Z</td></tr><tr><td>S00718</td><td>C1165</td><td>Credit_Risk</td><td>Customers with low credit scores</td><td>2023-01-01T00:00:00Z</td></tr><tr><td>S00719</td><td>C1165</td><td>Credit_Risk</td><td>Customers with low credit scores</td><td>2023-01-01T00:00:00Z</td></tr><tr><td>S00720</td><td>C1165</td><td>Credit_Risk</td><td>Customers with low credit scores</td><td>2023-01-01T00:00:00Z</td></tr><tr><td>S00721</td><td>C1165</td><td>Credit_Risk</td><td>Customers with low credit scores</td><td>2023-01-01T00:00:00Z</td></tr><tr><td>S00722</td><td>C1165</td><td>Credit_Risk</td><td>Customers with low credit scores</td><td>2023-01-01T00:00:00Z</td></tr><tr><td>S00723</td><td>C1165</td><td>Loyal</td><td>Consistent activity for over 5 years</td><td>2023-01-01T00:00:00Z</td></tr><tr><td>S00724</td><td>C1165</td><td>Loyal</td><td>Consistent activity for over 5 years</td><td>2023-01-01T00:00:00Z</td></tr><tr><td>S00725</td><td>C1165</td><td>Loyal</td><td>Consistent activity for over 5 years</td><td>2023-01-01T00:00:00Z</td></tr><tr><td>S00726</td><td>C1165</td><td>Loyal</td><td>Consistent activity for over 5 years</td><td>2023-01-01T00:00:00Z</td></tr><tr><td>S00727</td><td>C1165</td><td>Loyal</td><td>Consistent activity for over 5 years</td><td>2023-01-01T00:00:00Z</td></tr><tr><td>S00728</td><td>C1166</td><td>Loyal</td><td>Consistent activity for over 5 years</td><td>2023-01-01T00:00:00Z</td></tr><tr><td>S00729</td><td>C1166</td><td>Loyal</td><td>Consistent activity for over 5 years</td><td>2023-01-01T00:00:00Z</td></tr><tr><td>S00730</td><td>C1167</td><td>Loyal</td><td>Consistent activity for over 5 years</td><td>2023-01-01T00:00:00Z</td></tr><tr><td>S00731</td><td>C1167</td><td>Loyal</td><td>Consistent activity for over 5 years</td><td>2023-01-01T00:00:00Z</td></tr><tr><td>S00732</td><td>C1167</td><td>Loyal</td><td>Consistent activity for over 5 years</td><td>2023-01-01T00:00:00Z</td></tr><tr><td>S00733</td><td>C1168</td><td>Loyal</td><td>Consistent activity for over 5 years</td><td>2023-01-01T00:00:00Z</td></tr><tr><td>S00734</td><td>C1168</td><td>Loyal</td><td>Consistent activity for over 5 years</td><td>2023-01-01T00:00:00Z</td></tr><tr><td>S00735</td><td>C1168</td><td>Loyal</td><td>Consistent activity for over 5 years</td><td>2023-01-01T00:00:00Z</td></tr><tr><td>S00736</td><td>C1169</td><td>Loyal</td><td>Consistent activity for over 5 years</td><td>2023-01-01T00:00:00Z</td></tr><tr><td>S00737</td><td>C1169</td><td>Loyal</td><td>Consistent activity for over 5 years</td><td>2023-01-01T00:00:00Z</td></tr><tr><td>S00738</td><td>C1169</td><td>Loyal</td><td>Consistent activity for over 5 years</td><td>2023-01-01T00:00:00Z</td></tr><tr><td>S00739</td><td>C1169</td><td>Loyal</td><td>Consistent activity for over 5 years</td><td>2023-01-01T00:00:00Z</td></tr><tr><td>S00740</td><td>C1170</td><td>Credit_Risk</td><td>Customers with low credit scores</td><td>2023-01-01T00:00:00Z</td></tr><tr><td>S00741</td><td>C1170</td><td>Credit_Risk</td><td>Customers with low credit scores</td><td>2023-01-01T00:00:00Z</td></tr><tr><td>S00742</td><td>C1170</td><td>Loyal</td><td>Consistent activity for over 5 years</td><td>2023-01-01T00:00:00Z</td></tr><tr><td>S00743</td><td>C1170</td><td>Loyal</td><td>Consistent activity for over 5 years</td><td>2023-01-01T00:00:00Z</td></tr><tr><td>S00744</td><td>C1171</td><td>Credit_Risk</td><td>Customers with low credit scores</td><td>2023-01-01T00:00:00Z</td></tr><tr><td>S00745</td><td>C1171</td><td>Credit_Risk</td><td>Customers with low credit scores</td><td>2023-01-01T00:00:00Z</td></tr><tr><td>S00746</td><td>C1171</td><td>Loyal</td><td>Consistent activity for over 5 years</td><td>2023-01-01T00:00:00Z</td></tr><tr><td>S00747</td><td>C1171</td><td>Loyal</td><td>Consistent activity for over 5 years</td><td>2023-01-01T00:00:00Z</td></tr><tr><td>S00748</td><td>C1172</td><td>Credit_Risk</td><td>Customers with low credit scores</td><td>2023-01-01T00:00:00Z</td></tr><tr><td>S00749</td><td>C1172</td><td>Credit_Risk</td><td>Customers with low credit scores</td><td>2023-01-01T00:00:00Z</td></tr><tr><td>S00750</td><td>C1172</td><td>Credit_Risk</td><td>Customers with low credit scores</td><td>2023-01-01T00:00:00Z</td></tr><tr><td>S00751</td><td>C1172</td><td>Loyal</td><td>Consistent activity for over 5 years</td><td>2023-01-01T00:00:00Z</td></tr><tr><td>S00752</td><td>C1172</td><td>Loyal</td><td>Consistent activity for over 5 years</td><td>2023-01-01T00:00:00Z</td></tr><tr><td>S00753</td><td>C1172</td><td>Loyal</td><td>Consistent activity for over 5 years</td><td>2023-01-01T00:00:00Z</td></tr><tr><td>S00754</td><td>C1173</td><td>Loyal</td><td>Consistent activity for over 5 years</td><td>2023-01-01T00:00:00Z</td></tr><tr><td>S00755</td><td>C1174</td><td>Credit_Risk</td><td>Customers with low credit scores</td><td>2023-01-01T00:00:00Z</td></tr><tr><td>S00756</td><td>C1174</td><td>Credit_Risk</td><td>Customers with low credit scores</td><td>2023-01-01T00:00:00Z</td></tr><tr><td>S00757</td><td>C1174</td><td>Credit_Risk</td><td>Customers with low credit scores</td><td>2023-01-01T00:00:00Z</td></tr><tr><td>S00758</td><td>C1174</td><td>Loyal</td><td>Consistent activity for over 5 years</td><td>2023-01-01T00:00:00Z</td></tr><tr><td>S00759</td><td>C1174</td><td>Loyal</td><td>Consistent activity for over 5 years</td><td>2023-01-01T00:00:00Z</td></tr><tr><td>S00760</td><td>C1174</td><td>Loyal</td><td>Consistent activity for over 5 years</td><td>2023-01-01T00:00:00Z</td></tr><tr><td>S00761</td><td>C1175</td><td>Loyal</td><td>Consistent activity for over 5 years</td><td>2023-01-01T00:00:00Z</td></tr><tr><td>S00762</td><td>C1175</td><td>Loyal</td><td>Consistent activity for over 5 years</td><td>2023-01-01T00:00:00Z</td></tr><tr><td>S00763</td><td>C1175</td><td>Loyal</td><td>Consistent activity for over 5 years</td><td>2023-01-01T00:00:00Z</td></tr><tr><td>S00764</td><td>C1175</td><td>Loyal</td><td>Consistent activity for over 5 years</td><td>2023-01-01T00:00:00Z</td></tr><tr><td>S00765</td><td>C1175</td><td>Loyal</td><td>Consistent activity for over 5 years</td><td>2023-01-01T00:00:00Z</td></tr><tr><td>S00766</td><td>C1175</td><td>Loyal</td><td>Consistent activity for over 5 years</td><td>2023-01-01T00:00:00Z</td></tr><tr><td>S00767</td><td>C1176</td><td>Loyal</td><td>Consistent activity for over 5 years</td><td>2023-01-01T00:00:00Z</td></tr><tr><td>S00768</td><td>C1176</td><td>Loyal</td><td>Consistent activity for over 5 years</td><td>2023-01-01T00:00:00Z</td></tr><tr><td>S00769</td><td>C1176</td><td>Loyal</td><td>Consistent activity for over 5 years</td><td>2023-01-01T00:00:00Z</td></tr><tr><td>S00770</td><td>C1176</td><td>Loyal</td><td>Consistent activity for over 5 years</td><td>2023-01-01T00:00:00Z</td></tr><tr><td>S00771</td><td>C1177</td><td>Loyal</td><td>Consistent activity for over 5 years</td><td>2023-01-01T00:00:00Z</td></tr><tr><td>S00772</td><td>C1177</td><td>Loyal</td><td>Consistent activity for over 5 years</td><td>2023-01-01T00:00:00Z</td></tr><tr><td>S00773</td><td>C1177</td><td>Loyal</td><td>Consistent activity for over 5 years</td><td>2023-01-01T00:00:00Z</td></tr><tr><td>S00774</td><td>C1177</td><td>Loyal</td><td>Consistent activity for over 5 years</td><td>2023-01-01T00:00:00Z</td></tr><tr><td>S00775</td><td>C1177</td><td>Loyal</td><td>Consistent activity for over 5 years</td><td>2023-01-01T00:00:00Z</td></tr><tr><td>S00776</td><td>C1178</td><td>Loyal</td><td>Consistent activity for over 5 years</td><td>2023-01-01T00:00:00Z</td></tr><tr><td>S00777</td><td>C1179</td><td>Loyal</td><td>Consistent activity for over 5 years</td><td>2023-01-01T00:00:00Z</td></tr><tr><td>S00778</td><td>C1179</td><td>Loyal</td><td>Consistent activity for over 5 years</td><td>2023-01-01T00:00:00Z</td></tr><tr><td>S00779</td><td>C1179</td><td>Loyal</td><td>Consistent activity for over 5 years</td><td>2023-01-01T00:00:00Z</td></tr><tr><td>S00780</td><td>C1180</td><td>Loyal</td><td>Consistent activity for over 5 years</td><td>2023-01-01T00:00:00Z</td></tr><tr><td>S00781</td><td>C1180</td><td>Loyal</td><td>Consistent activity for over 5 years</td><td>2023-01-01T00:00:00Z</td></tr><tr><td>S00782</td><td>C1180</td><td>Loyal</td><td>Consistent activity for over 5 years</td><td>2023-01-01T00:00:00Z</td></tr><tr><td>S00783</td><td>C1180</td><td>Loyal</td><td>Consistent activity for over 5 years</td><td>2023-01-01T00:00:00Z</td></tr><tr><td>S00784</td><td>C1180</td><td>Loyal</td><td>Consistent activity for over 5 years</td><td>2023-01-01T00:00:00Z</td></tr><tr><td>S00785</td><td>C1181</td><td>Loyal</td><td>Consistent activity for over 5 years</td><td>2023-01-01T00:00:00Z</td></tr><tr><td>S00786</td><td>C1181</td><td>Loyal</td><td>Consistent activity for over 5 years</td><td>2023-01-01T00:00:00Z</td></tr><tr><td>S00787</td><td>C1181</td><td>Loyal</td><td>Consistent activity for over 5 years</td><td>2023-01-01T00:00:00Z</td></tr><tr><td>S00788</td><td>C1181</td><td>Loyal</td><td>Consistent activity for over 5 years</td><td>2023-01-01T00:00:00Z</td></tr><tr><td>S00789</td><td>C1182</td><td>Credit_Risk</td><td>Customers with low credit scores</td><td>2023-01-01T00:00:00Z</td></tr><tr><td>S00790</td><td>C1182</td><td>Credit_Risk</td><td>Customers with low credit scores</td><td>2023-01-01T00:00:00Z</td></tr><tr><td>S00791</td><td>C1182</td><td>Credit_Risk</td><td>Customers with low credit scores</td><td>2023-01-01T00:00:00Z</td></tr><tr><td>S00792</td><td>C1182</td><td>Credit_Risk</td><td>Customers with low credit scores</td><td>2023-01-01T00:00:00Z</td></tr><tr><td>S00793</td><td>C1182</td><td>Credit_Risk</td><td>Customers with low credit scores</td><td>2023-01-01T00:00:00Z</td></tr><tr><td>S00794</td><td>C1182</td><td>Credit_Risk</td><td>Customers with low credit scores</td><td>2023-01-01T00:00:00Z</td></tr><tr><td>S00795</td><td>C1182</td><td>Credit_Risk</td><td>Customers with low credit scores</td><td>2023-01-01T00:00:00Z</td></tr><tr><td>S00796</td><td>C1182</td><td>Credit_Risk</td><td>Customers with low credit scores</td><td>2023-01-01T00:00:00Z</td></tr><tr><td>S00797</td><td>C1182</td><td>Loyal</td><td>Consistent activity for over 5 years</td><td>2023-01-01T00:00:00Z</td></tr><tr><td>S00798</td><td>C1182</td><td>Loyal</td><td>Consistent activity for over 5 years</td><td>2023-01-01T00:00:00Z</td></tr><tr><td>S00799</td><td>C1182</td><td>Loyal</td><td>Consistent activity for over 5 years</td><td>2023-01-01T00:00:00Z</td></tr><tr><td>S00800</td><td>C1182</td><td>Loyal</td><td>Consistent activity for over 5 years</td><td>2023-01-01T00:00:00Z</td></tr><tr><td>S00801</td><td>C1182</td><td>Loyal</td><td>Consistent activity for over 5 years</td><td>2023-01-01T00:00:00Z</td></tr><tr><td>S00802</td><td>C1182</td><td>Loyal</td><td>Consistent activity for over 5 years</td><td>2023-01-01T00:00:00Z</td></tr><tr><td>S00803</td><td>C1182</td><td>Loyal</td><td>Consistent activity for over 5 years</td><td>2023-01-01T00:00:00Z</td></tr><tr><td>S00804</td><td>C1182</td><td>Loyal</td><td>Consistent activity for over 5 years</td><td>2023-01-01T00:00:00Z</td></tr><tr><td>S00805</td><td>C1183</td><td>Loyal</td><td>Consistent activity for over 5 years</td><td>2023-01-01T00:00:00Z</td></tr><tr><td>S00806</td><td>C1183</td><td>Loyal</td><td>Consistent activity for over 5 years</td><td>2023-01-01T00:00:00Z</td></tr><tr><td>S00807</td><td>C1183</td><td>Loyal</td><td>Consistent activity for over 5 years</td><td>2023-01-01T00:00:00Z</td></tr><tr><td>S00808</td><td>C1183</td><td>Loyal</td><td>Consistent activity for over 5 years</td><td>2023-01-01T00:00:00Z</td></tr><tr><td>S00809</td><td>C1183</td><td>Loyal</td><td>Consistent activity for over 5 years</td><td>2023-01-01T00:00:00Z</td></tr><tr><td>S00810</td><td>C1183</td><td>Loyal</td><td>Consistent activity for over 5 years</td><td>2023-01-01T00:00:00Z</td></tr><tr><td>S00811</td><td>C1184</td><td>Loyal</td><td>Consistent activity for over 5 years</td><td>2023-01-01T00:00:00Z</td></tr><tr><td>S00812</td><td>C1184</td><td>Loyal</td><td>Consistent activity for over 5 years</td><td>2023-01-01T00:00:00Z</td></tr><tr><td>S00813</td><td>C1184</td><td>Loyal</td><td>Consistent activity for over 5 years</td><td>2023-01-01T00:00:00Z</td></tr><tr><td>S00814</td><td>C1184</td><td>Loyal</td><td>Consistent activity for over 5 years</td><td>2023-01-01T00:00:00Z</td></tr><tr><td>S00815</td><td>C1185</td><td>Credit_Risk</td><td>Customers with low credit scores</td><td>2023-01-01T00:00:00Z</td></tr><tr><td>S00816</td><td>C1185</td><td>Credit_Risk</td><td>Customers with low credit scores</td><td>2023-01-01T00:00:00Z</td></tr><tr><td>S00817</td><td>C1185</td><td>Credit_Risk</td><td>Customers with low credit scores</td><td>2023-01-01T00:00:00Z</td></tr><tr><td>S00818</td><td>C1185</td><td>Credit_Risk</td><td>Customers with low credit scores</td><td>2023-01-01T00:00:00Z</td></tr><tr><td>S00819</td><td>C1185</td><td>Credit_Risk</td><td>Customers with low credit scores</td><td>2023-01-01T00:00:00Z</td></tr><tr><td>S00820</td><td>C1191</td><td>Credit_Risk</td><td>Customers with low credit scores</td><td>2023-01-01T00:00:00Z</td></tr><tr><td>S00821</td><td>C1191</td><td>Credit_Risk</td><td>Customers with low credit scores</td><td>2023-01-01T00:00:00Z</td></tr><tr><td>S00822</td><td>C1191</td><td>Credit_Risk</td><td>Customers with low credit scores</td><td>2023-01-01T00:00:00Z</td></tr><tr><td>S00823</td><td>C1193</td><td>Credit_Risk</td><td>Customers with low credit scores</td><td>2023-01-01T00:00:00Z</td></tr><tr><td>S00824</td><td>C1193</td><td>Credit_Risk</td><td>Customers with low credit scores</td><td>2023-01-01T00:00:00Z</td></tr><tr><td>S00825</td><td>C1195</td><td>Credit_Risk</td><td>Customers with low credit scores</td><td>2023-01-01T00:00:00Z</td></tr><tr><td>S00826</td><td>C1195</td><td>Credit_Risk</td><td>Customers with low credit scores</td><td>2023-01-01T00:00:00Z</td></tr><tr><td>S00827</td><td>C1195</td><td>Credit_Risk</td><td>Customers with low credit scores</td><td>2023-01-01T00:00:00Z</td></tr><tr><td>S00828</td><td>C1195</td><td>Credit_Risk</td><td>Customers with low credit scores</td><td>2023-01-01T00:00:00Z</td></tr><tr><td>S00829</td><td>C1197</td><td>Credit_Risk</td><td>Customers with low credit scores</td><td>2023-01-01T00:00:00Z</td></tr><tr><td>S00830</td><td>C1198</td><td>Credit_Risk</td><td>Customers with low credit scores</td><td>2023-01-01T00:00:00Z</td></tr><tr><td>S00831</td><td>C1198</td><td>Credit_Risk</td><td>Customers with low credit scores</td><td>2023-01-01T00:00:00Z</td></tr><tr><td>S00832</td><td>C1201</td><td>High_Value</td><td>Customers with high transaction volume</td><td>2023-01-01T00:00:00Z</td></tr><tr><td>S00833</td><td>C1201</td><td>Credit_Risk</td><td>Customers with low credit scores</td><td>2023-01-01T00:00:00Z</td></tr><tr><td>S00834</td><td>C1201</td><td>Credit_Risk</td><td>Customers with low credit scores</td><td>2023-01-01T00:00:00Z</td></tr><tr><td>S00835</td><td>C1201</td><td>Credit_Risk</td><td>Customers with low credit scores</td><td>2023-01-01T00:00:00Z</td></tr><tr><td>S00836</td><td>C1201</td><td>Credit_Risk</td><td>Customers with low credit scores</td><td>2023-01-01T00:00:00Z</td></tr><tr><td>S00837</td><td>C1201</td><td>Credit_Risk</td><td>Customers with low credit scores</td><td>2023-01-01T00:00:00Z</td></tr><tr><td>S00838</td><td>C1201</td><td>Credit_Risk</td><td>Customers with low credit scores</td><td>2023-01-01T00:00:00Z</td></tr><tr><td>S00839</td><td>C1201</td><td>Credit_Risk</td><td>Customers with low credit scores</td><td>2023-01-01T00:00:00Z</td></tr><tr><td>S00840</td><td>C1201</td><td>Credit_Risk</td><td>Customers with low credit scores</td><td>2023-01-01T00:00:00Z</td></tr><tr><td>S00841</td><td>C1203</td><td>Credit_Risk</td><td>Customers with low credit scores</td><td>2023-01-01T00:00:00Z</td></tr><tr><td>S00842</td><td>C1203</td><td>Credit_Risk</td><td>Customers with low credit scores</td><td>2023-01-01T00:00:00Z</td></tr><tr><td>S00843</td><td>C1203</td><td>Credit_Risk</td><td>Customers with low credit scores</td><td>2023-01-01T00:00:00Z</td></tr><tr><td>S00844</td><td>C1203</td><td>Credit_Risk</td><td>Customers with low credit scores</td><td>2023-01-01T00:00:00Z</td></tr><tr><td>S00845</td><td>C1203</td><td>Credit_Risk</td><td>Customers with low credit scores</td><td>2023-01-01T00:00:00Z</td></tr><tr><td>S00846</td><td>C1203</td><td>Credit_Risk</td><td>Customers with low credit scores</td><td>2023-01-01T00:00:00Z</td></tr><tr><td>S00847</td><td>C1203</td><td>Credit_Risk</td><td>Customers with low credit scores</td><td>2023-01-01T00:00:00Z</td></tr><tr><td>S00848</td><td>C1203</td><td>Credit_Risk</td><td>Customers with low credit scores</td><td>2023-01-01T00:00:00Z</td></tr><tr><td>S00849</td><td>C1213</td><td>Credit_Risk</td><td>Customers with low credit scores</td><td>2023-01-01T00:00:00Z</td></tr><tr><td>S00850</td><td>C1213</td><td>Credit_Risk</td><td>Customers with low credit scores</td><td>2023-01-01T00:00:00Z</td></tr><tr><td>S00851</td><td>C1214</td><td>Credit_Risk</td><td>Customers with low credit scores</td><td>2023-01-01T00:00:00Z</td></tr><tr><td>S00852</td><td>C1214</td><td>Credit_Risk</td><td>Customers with low credit scores</td><td>2023-01-01T00:00:00Z</td></tr><tr><td>S00853</td><td>C1216</td><td>Credit_Risk</td><td>Customers with low credit scores</td><td>2023-01-01T00:00:00Z</td></tr><tr><td>S00854</td><td>C1216</td><td>Credit_Risk</td><td>Customers with low credit scores</td><td>2023-01-01T00:00:00Z</td></tr><tr><td>S00855</td><td>C1216</td><td>Credit_Risk</td><td>Customers with low credit scores</td><td>2023-01-01T00:00:00Z</td></tr><tr><td>S00856</td><td>C1218</td><td>Credit_Risk</td><td>Customers with low credit scores</td><td>2023-01-01T00:00:00Z</td></tr><tr><td>S00857</td><td>C1218</td><td>Credit_Risk</td><td>Customers with low credit scores</td><td>2023-01-01T00:00:00Z</td></tr><tr><td>S00858</td><td>C1218</td><td>Credit_Risk</td><td>Customers with low credit scores</td><td>2023-01-01T00:00:00Z</td></tr><tr><td>S00859</td><td>C1218</td><td>Credit_Risk</td><td>Customers with low credit scores</td><td>2023-01-01T00:00:00Z</td></tr><tr><td>S00860</td><td>C1218</td><td>Credit_Risk</td><td>Customers with low credit scores</td><td>2023-01-01T00:00:00Z</td></tr><tr><td>S00861</td><td>C1230</td><td>Credit_Risk</td><td>Customers with low credit scores</td><td>2023-01-01T00:00:00Z</td></tr><tr><td>S00862</td><td>C1230</td><td>Credit_Risk</td><td>Customers with low credit scores</td><td>2023-01-01T00:00:00Z</td></tr><tr><td>S00863</td><td>C1230</td><td>Credit_Risk</td><td>Customers with low credit scores</td><td>2023-01-01T00:00:00Z</td></tr><tr><td>S00864</td><td>C1240</td><td>Credit_Risk</td><td>Customers with low credit scores</td><td>2023-01-01T00:00:00Z</td></tr><tr><td>S00865</td><td>C1240</td><td>Credit_Risk</td><td>Customers with low credit scores</td><td>2023-01-01T00:00:00Z</td></tr><tr><td>S00866</td><td>C1253</td><td>Credit_Risk</td><td>Customers with low credit scores</td><td>2023-01-01T00:00:00Z</td></tr><tr><td>S00867</td><td>C1253</td><td>Credit_Risk</td><td>Customers with low credit scores</td><td>2023-01-01T00:00:00Z</td></tr><tr><td>S00868</td><td>C1253</td><td>Credit_Risk</td><td>Customers with low credit scores</td><td>2023-01-01T00:00:00Z</td></tr><tr><td>S00869</td><td>C1253</td><td>Credit_Risk</td><td>Customers with low credit scores</td><td>2023-01-01T00:00:00Z</td></tr><tr><td>S00870</td><td>C1256</td><td>Credit_Risk</td><td>Customers with low credit scores</td><td>2023-01-01T00:00:00Z</td></tr><tr><td>S00871</td><td>C1256</td><td>Credit_Risk</td><td>Customers with low credit scores</td><td>2023-01-01T00:00:00Z</td></tr><tr><td>S00872</td><td>C1256</td><td>Credit_Risk</td><td>Customers with low credit scores</td><td>2023-01-01T00:00:00Z</td></tr><tr><td>S00873</td><td>C1262</td><td>Credit_Risk</td><td>Customers with low credit scores</td><td>2023-01-01T00:00:00Z</td></tr><tr><td>S00874</td><td>C1262</td><td>Credit_Risk</td><td>Customers with low credit scores</td><td>2023-01-01T00:00:00Z</td></tr><tr><td>S00875</td><td>C1262</td><td>Credit_Risk</td><td>Customers with low credit scores</td><td>2023-01-01T00:00:00Z</td></tr><tr><td>S00876</td><td>C1267</td><td>Credit_Risk</td><td>Customers with low credit scores</td><td>2023-01-01T00:00:00Z</td></tr><tr><td>S00877</td><td>C1267</td><td>Credit_Risk</td><td>Customers with low credit scores</td><td>2023-01-01T00:00:00Z</td></tr><tr><td>S00878</td><td>C1267</td><td>Credit_Risk</td><td>Customers with low credit scores</td><td>2023-01-01T00:00:00Z</td></tr><tr><td>S00879</td><td>C1267</td><td>Credit_Risk</td><td>Customers with low credit scores</td><td>2023-01-01T00:00:00Z</td></tr><tr><td>S00880</td><td>C1268</td><td>Credit_Risk</td><td>Customers with low credit scores</td><td>2023-01-01T00:00:00Z</td></tr><tr><td>S00881</td><td>C1268</td><td>Credit_Risk</td><td>Customers with low credit scores</td><td>2023-01-01T00:00:00Z</td></tr><tr><td>S00882</td><td>C1268</td><td>Credit_Risk</td><td>Customers with low credit scores</td><td>2023-01-01T00:00:00Z</td></tr><tr><td>S00883</td><td>C1268</td><td>Credit_Risk</td><td>Customers with low credit scores</td><td>2023-01-01T00:00:00Z</td></tr><tr><td>S00884</td><td>C1268</td><td>Credit_Risk</td><td>Customers with low credit scores</td><td>2023-01-01T00:00:00Z</td></tr><tr><td>S00885</td><td>C1277</td><td>Credit_Risk</td><td>Customers with low credit scores</td><td>2023-01-01T00:00:00Z</td></tr><tr><td>S00886</td><td>C1282</td><td>Credit_Risk</td><td>Customers with low credit scores</td><td>2023-01-01T00:00:00Z</td></tr><tr><td>S00887</td><td>C1282</td><td>Credit_Risk</td><td>Customers with low credit scores</td><td>2023-01-01T00:00:00Z</td></tr><tr><td>S00888</td><td>C1282</td><td>Credit_Risk</td><td>Customers with low credit scores</td><td>2023-01-01T00:00:00Z</td></tr><tr><td>S00889</td><td>C1284</td><td>Credit_Risk</td><td>Customers with low credit scores</td><td>2023-01-01T00:00:00Z</td></tr><tr><td>S00890</td><td>C1284</td><td>Credit_Risk</td><td>Customers with low credit scores</td><td>2023-01-01T00:00:00Z</td></tr><tr><td>S00891</td><td>C1285</td><td>Credit_Risk</td><td>Customers with low credit scores</td><td>2023-01-01T00:00:00Z</td></tr><tr><td>S00892</td><td>C1285</td><td>Credit_Risk</td><td>Customers with low credit scores</td><td>2023-01-01T00:00:00Z</td></tr><tr><td>S00893</td><td>C1285</td><td>Credit_Risk</td><td>Customers with low credit scores</td><td>2023-01-01T00:00:00Z</td></tr><tr><td>S00894</td><td>C1285</td><td>Credit_Risk</td><td>Customers with low credit scores</td><td>2023-01-01T00:00:00Z</td></tr><tr><td>S00895</td><td>C1285</td><td>Credit_Risk</td><td>Customers with low credit scores</td><td>2023-01-01T00:00:00Z</td></tr><tr><td>S00896</td><td>C1289</td><td>Credit_Risk</td><td>Customers with low credit scores</td><td>2023-01-01T00:00:00Z</td></tr><tr><td>S00897</td><td>C1289</td><td>Credit_Risk</td><td>Customers with low credit scores</td><td>2023-01-01T00:00:00Z</td></tr><tr><td>S00898</td><td>C1289</td><td>Credit_Risk</td><td>Customers with low credit scores</td><td>2023-01-01T00:00:00Z</td></tr><tr><td>S00899</td><td>C1289</td><td>Credit_Risk</td><td>Customers with low credit scores</td><td>2023-01-01T00:00:00Z</td></tr><tr><td>S00900</td><td>C1290</td><td>Credit_Risk</td><td>Customers with low credit scores</td><td>2023-01-01T00:00:00Z</td></tr><tr><td>S00901</td><td>C1290</td><td>Credit_Risk</td><td>Customers with low credit scores</td><td>2023-01-01T00:00:00Z</td></tr><tr><td>S00902</td><td>C1290</td><td>Credit_Risk</td><td>Customers with low credit scores</td><td>2023-01-01T00:00:00Z</td></tr><tr><td>S00903</td><td>C1290</td><td>Credit_Risk</td><td>Customers with low credit scores</td><td>2023-01-01T00:00:00Z</td></tr><tr><td>S00904</td><td>C1290</td><td>Credit_Risk</td><td>Customers with low credit scores</td><td>2023-01-01T00:00:00Z</td></tr><tr><td>S00905</td><td>C1292</td><td>Credit_Risk</td><td>Customers with low credit scores</td><td>2023-01-01T00:00:00Z</td></tr><tr><td>S00906</td><td>C1292</td><td>Credit_Risk</td><td>Customers with low credit scores</td><td>2023-01-01T00:00:00Z</td></tr><tr><td>S00907</td><td>C1292</td><td>Credit_Risk</td><td>Customers with low credit scores</td><td>2023-01-01T00:00:00Z</td></tr><tr><td>S00908</td><td>C1294</td><td>Credit_Risk</td><td>Customers with low credit scores</td><td>2023-01-01T00:00:00Z</td></tr><tr><td>S00909</td><td>C1294</td><td>Credit_Risk</td><td>Customers with low credit scores</td><td>2023-01-01T00:00:00Z</td></tr><tr><td>S00910</td><td>C1294</td><td>Credit_Risk</td><td>Customers with low credit scores</td><td>2023-01-01T00:00:00Z</td></tr><tr><td>S00911</td><td>C1295</td><td>Credit_Risk</td><td>Customers with low credit scores</td><td>2023-01-01T00:00:00Z</td></tr><tr><td>S00912</td><td>C1295</td><td>Credit_Risk</td><td>Customers with low credit scores</td><td>2023-01-01T00:00:00Z</td></tr><tr><td>S00913</td><td>C1295</td><td>Credit_Risk</td><td>Customers with low credit scores</td><td>2023-01-01T00:00:00Z</td></tr><tr><td>S00914</td><td>C1295</td><td>Credit_Risk</td><td>Customers with low credit scores</td><td>2023-01-01T00:00:00Z</td></tr><tr><td>S00915</td><td>C1295</td><td>Credit_Risk</td><td>Customers with low credit scores</td><td>2023-01-01T00:00:00Z</td></tr><tr><td>S00916</td><td>C1295</td><td>Credit_Risk</td><td>Customers with low credit scores</td><td>2023-01-01T00:00:00Z</td></tr><tr><td>S00917</td><td>C1295</td><td>Credit_Risk</td><td>Customers with low credit scores</td><td>2023-01-01T00:00:00Z</td></tr><tr><td>S00918</td><td>C1299</td><td>Credit_Risk</td><td>Customers with low credit scores</td><td>2023-01-01T00:00:00Z</td></tr><tr><td>S00919</td><td>C1299</td><td>Credit_Risk</td><td>Customers with low credit scores</td><td>2023-01-01T00:00:00Z</td></tr><tr><td>S00920</td><td>C1300</td><td>Credit_Risk</td><td>Customers with low credit scores</td><td>2023-01-01T00:00:00Z</td></tr><tr><td>S00921</td><td>C1300</td><td>Credit_Risk</td><td>Customers with low credit scores</td><td>2023-01-01T00:00:00Z</td></tr><tr><td>S00922</td><td>C1300</td><td>Credit_Risk</td><td>Customers with low credit scores</td><td>2023-01-01T00:00:00Z</td></tr><tr><td>S00923</td><td>C1300</td><td>Credit_Risk</td><td>Customers with low credit scores</td><td>2023-01-01T00:00:00Z</td></tr><tr><td>S00924</td><td>C1305</td><td>Credit_Risk</td><td>Customers with low credit scores</td><td>2023-01-01T00:00:00Z</td></tr><tr><td>S00925</td><td>C1306</td><td>Credit_Risk</td><td>Customers with low credit scores</td><td>2023-01-01T00:00:00Z</td></tr><tr><td>S00926</td><td>C1306</td><td>Credit_Risk</td><td>Customers with low credit scores</td><td>2023-01-01T00:00:00Z</td></tr><tr><td>S00927</td><td>C1306</td><td>Credit_Risk</td><td>Customers with low credit scores</td><td>2023-01-01T00:00:00Z</td></tr><tr><td>S00928</td><td>C1306</td><td>Credit_Risk</td><td>Customers with low credit scores</td><td>2023-01-01T00:00:00Z</td></tr><tr><td>S00929</td><td>C1315</td><td>Credit_Risk</td><td>Customers with low credit scores</td><td>2023-01-01T00:00:00Z</td></tr><tr><td>S00930</td><td>C1315</td><td>Credit_Risk</td><td>Customers with low credit scores</td><td>2023-01-01T00:00:00Z</td></tr><tr><td>S00931</td><td>C1315</td><td>Credit_Risk</td><td>Customers with low credit scores</td><td>2023-01-01T00:00:00Z</td></tr><tr><td>S00932</td><td>C1315</td><td>Credit_Risk</td><td>Customers with low credit scores</td><td>2023-01-01T00:00:00Z</td></tr><tr><td>S00933</td><td>C1318</td><td>Credit_Risk</td><td>Customers with low credit scores</td><td>2023-01-01T00:00:00Z</td></tr><tr><td>S00934</td><td>C1318</td><td>Credit_Risk</td><td>Customers with low credit scores</td><td>2023-01-01T00:00:00Z</td></tr><tr><td>S00935</td><td>C1318</td><td>Credit_Risk</td><td>Customers with low credit scores</td><td>2023-01-01T00:00:00Z</td></tr><tr><td>S00936</td><td>C1318</td><td>Credit_Risk</td><td>Customers with low credit scores</td><td>2023-01-01T00:00:00Z</td></tr><tr><td>S00937</td><td>C1325</td><td>High_Value</td><td>Customers with high transaction volume</td><td>2023-01-01T00:00:00Z</td></tr><tr><td>S00938</td><td>C1327</td><td>Credit_Risk</td><td>Customers with low credit scores</td><td>2023-01-01T00:00:00Z</td></tr><tr><td>S00939</td><td>C1327</td><td>Credit_Risk</td><td>Customers with low credit scores</td><td>2023-01-01T00:00:00Z</td></tr><tr><td>S00940</td><td>C1327</td><td>Credit_Risk</td><td>Customers with low credit scores</td><td>2023-01-01T00:00:00Z</td></tr><tr><td>S00941</td><td>C1329</td><td>Credit_Risk</td><td>Customers with low credit scores</td><td>2023-01-01T00:00:00Z</td></tr><tr><td>S00942</td><td>C1329</td><td>Credit_Risk</td><td>Customers with low credit scores</td><td>2023-01-01T00:00:00Z</td></tr><tr><td>S00943</td><td>C1329</td><td>Credit_Risk</td><td>Customers with low credit scores</td><td>2023-01-01T00:00:00Z</td></tr><tr><td>S00944</td><td>C1329</td><td>Credit_Risk</td><td>Customers with low credit scores</td><td>2023-01-01T00:00:00Z</td></tr><tr><td>S00945</td><td>C1333</td><td>Credit_Risk</td><td>Customers with low credit scores</td><td>2023-01-01T00:00:00Z</td></tr><tr><td>S00946</td><td>C1333</td><td>Credit_Risk</td><td>Customers with low credit scores</td><td>2023-01-01T00:00:00Z</td></tr><tr><td>S00947</td><td>C1333</td><td>Credit_Risk</td><td>Customers with low credit scores</td><td>2023-01-01T00:00:00Z</td></tr><tr><td>S00948</td><td>C1333</td><td>Credit_Risk</td><td>Customers with low credit scores</td><td>2023-01-01T00:00:00Z</td></tr><tr><td>S00949</td><td>C1334</td><td>Credit_Risk</td><td>Customers with low credit scores</td><td>2023-01-01T00:00:00Z</td></tr><tr><td>S00950</td><td>C1336</td><td>Credit_Risk</td><td>Customers with low credit scores</td><td>2023-01-01T00:00:00Z</td></tr><tr><td>S00951</td><td>C1336</td><td>Credit_Risk</td><td>Customers with low credit scores</td><td>2023-01-01T00:00:00Z</td></tr><tr><td>S00952</td><td>C1336</td><td>Credit_Risk</td><td>Customers with low credit scores</td><td>2023-01-01T00:00:00Z</td></tr><tr><td>S00953</td><td>C1336</td><td>Credit_Risk</td><td>Customers with low credit scores</td><td>2023-01-01T00:00:00Z</td></tr><tr><td>S00954</td><td>C1336</td><td>Credit_Risk</td><td>Customers with low credit scores</td><td>2023-01-01T00:00:00Z</td></tr><tr><td>S00955</td><td>C1339</td><td>Credit_Risk</td><td>Customers with low credit scores</td><td>2023-01-01T00:00:00Z</td></tr><tr><td>S00956</td><td>C1339</td><td>Credit_Risk</td><td>Customers with low credit scores</td><td>2023-01-01T00:00:00Z</td></tr><tr><td>S00957</td><td>C1344</td><td>Credit_Risk</td><td>Customers with low credit scores</td><td>2023-01-01T00:00:00Z</td></tr><tr><td>S00958</td><td>C1344</td><td>Credit_Risk</td><td>Customers with low credit scores</td><td>2023-01-01T00:00:00Z</td></tr><tr><td>S00959</td><td>C1344</td><td>Credit_Risk</td><td>Customers with low credit scores</td><td>2023-01-01T00:00:00Z</td></tr><tr><td>S00960</td><td>C1344</td><td>Credit_Risk</td><td>Customers with low credit scores</td><td>2023-01-01T00:00:00Z</td></tr><tr><td>S00961</td><td>C1344</td><td>Credit_Risk</td><td>Customers with low credit scores</td><td>2023-01-01T00:00:00Z</td></tr><tr><td>S00962</td><td>C1355</td><td>Credit_Risk</td><td>Customers with low credit scores</td><td>2023-01-01T00:00:00Z</td></tr><tr><td>S00963</td><td>C1355</td><td>Credit_Risk</td><td>Customers with low credit scores</td><td>2023-01-01T00:00:00Z</td></tr><tr><td>S00964</td><td>C1355</td><td>Credit_Risk</td><td>Customers with low credit scores</td><td>2023-01-01T00:00:00Z</td></tr><tr><td>S00965</td><td>C1355</td><td>Credit_Risk</td><td>Customers with low credit scores</td><td>2023-01-01T00:00:00Z</td></tr><tr><td>S00966</td><td>C1355</td><td>Credit_Risk</td><td>Customers with low credit scores</td><td>2023-01-01T00:00:00Z</td></tr><tr><td>S00967</td><td>C1357</td><td>Credit_Risk</td><td>Customers with low credit scores</td><td>2023-01-01T00:00:00Z</td></tr><tr><td>S00968</td><td>C1357</td><td>Credit_Risk</td><td>Customers with low credit scores</td><td>2023-01-01T00:00:00Z</td></tr><tr><td>S00969</td><td>C1363</td><td>Credit_Risk</td><td>Customers with low credit scores</td><td>2023-01-01T00:00:00Z</td></tr><tr><td>S00970</td><td>C1364</td><td>Credit_Risk</td><td>Customers with low credit scores</td><td>2023-01-01T00:00:00Z</td></tr><tr><td>S00971</td><td>C1365</td><td>Credit_Risk</td><td>Customers with low credit scores</td><td>2023-01-01T00:00:00Z</td></tr><tr><td>S00972</td><td>C1365</td><td>Credit_Risk</td><td>Customers with low credit scores</td><td>2023-01-01T00:00:00Z</td></tr><tr><td>S00973</td><td>C1365</td><td>Credit_Risk</td><td>Customers with low credit scores</td><td>2023-01-01T00:00:00Z</td></tr><tr><td>S00974</td><td>C1365</td><td>Credit_Risk</td><td>Customers with low credit scores</td><td>2023-01-01T00:00:00Z</td></tr><tr><td>S00975</td><td>C1365</td><td>Credit_Risk</td><td>Customers with low credit scores</td><td>2023-01-01T00:00:00Z</td></tr><tr><td>S00976</td><td>C1365</td><td>Credit_Risk</td><td>Customers with low credit scores</td><td>2023-01-01T00:00:00Z</td></tr><tr><td>S00977</td><td>C1372</td><td>Credit_Risk</td><td>Customers with low credit scores</td><td>2023-01-01T00:00:00Z</td></tr><tr><td>S00978</td><td>C1372</td><td>Credit_Risk</td><td>Customers with low credit scores</td><td>2023-01-01T00:00:00Z</td></tr><tr><td>S00979</td><td>C1372</td><td>Credit_Risk</td><td>Customers with low credit scores</td><td>2023-01-01T00:00:00Z</td></tr><tr><td>S00980</td><td>C1372</td><td>Credit_Risk</td><td>Customers with low credit scores</td><td>2023-01-01T00:00:00Z</td></tr><tr><td>S00981</td><td>C1372</td><td>Credit_Risk</td><td>Customers with low credit scores</td><td>2023-01-01T00:00:00Z</td></tr><tr><td>S00982</td><td>C1373</td><td>Credit_Risk</td><td>Customers with low credit scores</td><td>2023-01-01T00:00:00Z</td></tr><tr><td>S00983</td><td>C1375</td><td>Credit_Risk</td><td>Customers with low credit scores</td><td>2023-01-01T00:00:00Z</td></tr><tr><td>S00984</td><td>C1377</td><td>Credit_Risk</td><td>Customers with low credit scores</td><td>2023-01-01T00:00:00Z</td></tr><tr><td>S00985</td><td>C1377</td><td>Credit_Risk</td><td>Customers with low credit scores</td><td>2023-01-01T00:00:00Z</td></tr><tr><td>S00986</td><td>C1377</td><td>Credit_Risk</td><td>Customers with low credit scores</td><td>2023-01-01T00:00:00Z</td></tr><tr><td>S00987</td><td>C1377</td><td>Credit_Risk</td><td>Customers with low credit scores</td><td>2023-01-01T00:00:00Z</td></tr><tr><td>S00988</td><td>C1377</td><td>Credit_Risk</td><td>Customers with low credit scores</td><td>2023-01-01T00:00:00Z</td></tr><tr><td>S00989</td><td>C1382</td><td>High_Value</td><td>Customers with high transaction volume</td><td>2023-01-01T00:00:00Z</td></tr><tr><td>S00990</td><td>C1388</td><td>Credit_Risk</td><td>Customers with low credit scores</td><td>2023-01-01T00:00:00Z</td></tr><tr><td>S00991</td><td>C1388</td><td>Credit_Risk</td><td>Customers with low credit scores</td><td>2023-01-01T00:00:00Z</td></tr><tr><td>S00992</td><td>C1389</td><td>Credit_Risk</td><td>Customers with low credit scores</td><td>2023-01-01T00:00:00Z</td></tr><tr><td>S00993</td><td>C1389</td><td>Credit_Risk</td><td>Customers with low credit scores</td><td>2023-01-01T00:00:00Z</td></tr><tr><td>S00994</td><td>C1389</td><td>Credit_Risk</td><td>Customers with low credit scores</td><td>2023-01-01T00:00:00Z</td></tr><tr><td>S00995</td><td>C1391</td><td>Credit_Risk</td><td>Customers with low credit scores</td><td>2023-01-01T00:00:00Z</td></tr><tr><td>S00996</td><td>C1396</td><td>Credit_Risk</td><td>Customers with low credit scores</td><td>2023-01-01T00:00:00Z</td></tr><tr><td>S00997</td><td>C1396</td><td>Credit_Risk</td><td>Customers with low credit scores</td><td>2023-01-01T00:00:00Z</td></tr><tr><td>S00998</td><td>C1398</td><td>Credit_Risk</td><td>Customers with low credit scores</td><td>2023-01-01T00:00:00Z</td></tr><tr><td>S00999</td><td>C1398</td><td>Credit_Risk</td><td>Customers with low credit scores</td><td>2023-01-01T00:00:00Z</td></tr><tr><td>S001000</td><td>C1398</td><td>Credit_Risk</td><td>Customers with low credit scores</td><td>2023-01-01T00:00:00Z</td></tr><tr><td>S001001</td><td>C1399</td><td>High_Value</td><td>Customers with high transaction volume</td><td>2023-01-01T00:00:00Z</td></tr><tr><td>S001002</td><td>C1407</td><td>Credit_Risk</td><td>Customers with low credit scores</td><td>2023-01-01T00:00:00Z</td></tr><tr><td>S001003</td><td>C1412</td><td>Credit_Risk</td><td>Customers with low credit scores</td><td>2023-01-01T00:00:00Z</td></tr><tr><td>S001004</td><td>C1412</td><td>Credit_Risk</td><td>Customers with low credit scores</td><td>2023-01-01T00:00:00Z</td></tr><tr><td>S001005</td><td>C1412</td><td>Credit_Risk</td><td>Customers with low credit scores</td><td>2023-01-01T00:00:00Z</td></tr><tr><td>S001006</td><td>C1412</td><td>Credit_Risk</td><td>Customers with low credit scores</td><td>2023-01-01T00:00:00Z</td></tr><tr><td>S001007</td><td>C1412</td><td>Credit_Risk</td><td>Customers with low credit scores</td><td>2023-01-01T00:00:00Z</td></tr><tr><td>S001008</td><td>C1412</td><td>Credit_Risk</td><td>Customers with low credit scores</td><td>2023-01-01T00:00:00Z</td></tr><tr><td>S001009</td><td>C1412</td><td>Credit_Risk</td><td>Customers with low credit scores</td><td>2023-01-01T00:00:00Z</td></tr><tr><td>S001010</td><td>C1413</td><td>Credit_Risk</td><td>Customers with low credit scores</td><td>2023-01-01T00:00:00Z</td></tr><tr><td>S001011</td><td>C1414</td><td>Credit_Risk</td><td>Customers with low credit scores</td><td>2023-01-01T00:00:00Z</td></tr><tr><td>S001012</td><td>C1415</td><td>Credit_Risk</td><td>Customers with low credit scores</td><td>2023-01-01T00:00:00Z</td></tr><tr><td>S001013</td><td>C1415</td><td>Credit_Risk</td><td>Customers with low credit scores</td><td>2023-01-01T00:00:00Z</td></tr><tr><td>S001014</td><td>C1415</td><td>Credit_Risk</td><td>Customers with low credit scores</td><td>2023-01-01T00:00:00Z</td></tr><tr><td>S001015</td><td>C1415</td><td>Credit_Risk</td><td>Customers with low credit scores</td><td>2023-01-01T00:00:00Z</td></tr><tr><td>S001016</td><td>C1418</td><td>Credit_Risk</td><td>Customers with low credit scores</td><td>2023-01-01T00:00:00Z</td></tr><tr><td>S001017</td><td>C1418</td><td>Credit_Risk</td><td>Customers with low credit scores</td><td>2023-01-01T00:00:00Z</td></tr><tr><td>S001018</td><td>C1418</td><td>Credit_Risk</td><td>Customers with low credit scores</td><td>2023-01-01T00:00:00Z</td></tr><tr><td>S001019</td><td>C1418</td><td>Credit_Risk</td><td>Customers with low credit scores</td><td>2023-01-01T00:00:00Z</td></tr><tr><td>S001020</td><td>C1420</td><td>Credit_Risk</td><td>Customers with low credit scores</td><td>2023-01-01T00:00:00Z</td></tr><tr><td>S001021</td><td>C1420</td><td>Credit_Risk</td><td>Customers with low credit scores</td><td>2023-01-01T00:00:00Z</td></tr><tr><td>S001022</td><td>C1420</td><td>Credit_Risk</td><td>Customers with low credit scores</td><td>2023-01-01T00:00:00Z</td></tr><tr><td>S001023</td><td>C1420</td><td>Credit_Risk</td><td>Customers with low credit scores</td><td>2023-01-01T00:00:00Z</td></tr><tr><td>S001024</td><td>C1421</td><td>Credit_Risk</td><td>Customers with low credit scores</td><td>2023-01-01T00:00:00Z</td></tr><tr><td>S001025</td><td>C1421</td><td>Credit_Risk</td><td>Customers with low credit scores</td><td>2023-01-01T00:00:00Z</td></tr><tr><td>S001026</td><td>C1421</td><td>Credit_Risk</td><td>Customers with low credit scores</td><td>2023-01-01T00:00:00Z</td></tr><tr><td>S001027</td><td>C1422</td><td>Credit_Risk</td><td>Customers with low credit scores</td><td>2023-01-01T00:00:00Z</td></tr><tr><td>S001028</td><td>C1422</td><td>Credit_Risk</td><td>Customers with low credit scores</td><td>2023-01-01T00:00:00Z</td></tr><tr><td>S001029</td><td>C1422</td><td>Credit_Risk</td><td>Customers with low credit scores</td><td>2023-01-01T00:00:00Z</td></tr><tr><td>S001030</td><td>C1422</td><td>Credit_Risk</td><td>Customers with low credit scores</td><td>2023-01-01T00:00:00Z</td></tr><tr><td>S001031</td><td>C1425</td><td>Credit_Risk</td><td>Customers with low credit scores</td><td>2023-01-01T00:00:00Z</td></tr><tr><td>S001032</td><td>C1425</td><td>Credit_Risk</td><td>Customers with low credit scores</td><td>2023-01-01T00:00:00Z</td></tr><tr><td>S001033</td><td>C1432</td><td>Credit_Risk</td><td>Customers with low credit scores</td><td>2023-01-01T00:00:00Z</td></tr><tr><td>S001034</td><td>C1432</td><td>Credit_Risk</td><td>Customers with low credit scores</td><td>2023-01-01T00:00:00Z</td></tr><tr><td>S001035</td><td>C1434</td><td>Credit_Risk</td><td>Customers with low credit scores</td><td>2023-01-01T00:00:00Z</td></tr><tr><td>S001036</td><td>C1434</td><td>Credit_Risk</td><td>Customers with low credit scores</td><td>2023-01-01T00:00:00Z</td></tr><tr><td>S001037</td><td>C1437</td><td>Credit_Risk</td><td>Customers with low credit scores</td><td>2023-01-01T00:00:00Z</td></tr><tr><td>S001038</td><td>C1437</td><td>Credit_Risk</td><td>Customers with low credit scores</td><td>2023-01-01T00:00:00Z</td></tr><tr><td>S001039</td><td>C1437</td><td>Credit_Risk</td><td>Customers with low credit scores</td><td>2023-01-01T00:00:00Z</td></tr><tr><td>S001040</td><td>C1437</td><td>Credit_Risk</td><td>Customers with low credit scores</td><td>2023-01-01T00:00:00Z</td></tr><tr><td>S001041</td><td>C1445</td><td>Credit_Risk</td><td>Customers with low credit scores</td><td>2023-01-01T00:00:00Z</td></tr><tr><td>S001042</td><td>C1445</td><td>Credit_Risk</td><td>Customers with low credit scores</td><td>2023-01-01T00:00:00Z</td></tr><tr><td>S001043</td><td>C1447</td><td>Credit_Risk</td><td>Customers with low credit scores</td><td>2023-01-01T00:00:00Z</td></tr><tr><td>S001044</td><td>C1456</td><td>Credit_Risk</td><td>Customers with low credit scores</td><td>2023-01-01T00:00:00Z</td></tr><tr><td>S001045</td><td>C1456</td><td>Credit_Risk</td><td>Customers with low credit scores</td><td>2023-01-01T00:00:00Z</td></tr><tr><td>S001046</td><td>C1456</td><td>Credit_Risk</td><td>Customers with low credit scores</td><td>2023-01-01T00:00:00Z</td></tr><tr><td>S001047</td><td>C1456</td><td>Credit_Risk</td><td>Customers with low credit scores</td><td>2023-01-01T00:00:00Z</td></tr><tr><td>S001048</td><td>C1456</td><td>Credit_Risk</td><td>Customers with low credit scores</td><td>2023-01-01T00:00:00Z</td></tr><tr><td>S001049</td><td>C1456</td><td>Credit_Risk</td><td>Customers with low credit scores</td><td>2023-01-01T00:00:00Z</td></tr><tr><td>S001050</td><td>C1458</td><td>Credit_Risk</td><td>Customers with low credit scores</td><td>2023-01-01T00:00:00Z</td></tr><tr><td>S001051</td><td>C1458</td><td>Credit_Risk</td><td>Customers with low credit scores</td><td>2023-01-01T00:00:00Z</td></tr><tr><td>S001052</td><td>C1458</td><td>Credit_Risk</td><td>Customers with low credit scores</td><td>2023-01-01T00:00:00Z</td></tr><tr><td>S001053</td><td>C1458</td><td>Credit_Risk</td><td>Customers with low credit scores</td><td>2023-01-01T00:00:00Z</td></tr><tr><td>S001054</td><td>C1458</td><td>Credit_Risk</td><td>Customers with low credit scores</td><td>2023-01-01T00:00:00Z</td></tr><tr><td>S001055</td><td>C1462</td><td>Credit_Risk</td><td>Customers with low credit scores</td><td>2023-01-01T00:00:00Z</td></tr><tr><td>S001056</td><td>C1462</td><td>Credit_Risk</td><td>Customers with low credit scores</td><td>2023-01-01T00:00:00Z</td></tr><tr><td>S001057</td><td>C1462</td><td>Credit_Risk</td><td>Customers with low credit scores</td><td>2023-01-01T00:00:00Z</td></tr><tr><td>S001058</td><td>C1462</td><td>Credit_Risk</td><td>Customers with low credit scores</td><td>2023-01-01T00:00:00Z</td></tr><tr><td>S001059</td><td>C1462</td><td>Credit_Risk</td><td>Customers with low credit scores</td><td>2023-01-01T00:00:00Z</td></tr><tr><td>S001060</td><td>C1462</td><td>Credit_Risk</td><td>Customers with low credit scores</td><td>2023-01-01T00:00:00Z</td></tr><tr><td>S001061</td><td>C1463</td><td>Credit_Risk</td><td>Customers with low credit scores</td><td>2023-01-01T00:00:00Z</td></tr><tr><td>S001062</td><td>C1463</td><td>Credit_Risk</td><td>Customers with low credit scores</td><td>2023-01-01T00:00:00Z</td></tr><tr><td>S001063</td><td>C1463</td><td>Credit_Risk</td><td>Customers with low credit scores</td><td>2023-01-01T00:00:00Z</td></tr><tr><td>S001064</td><td>C1465</td><td>Credit_Risk</td><td>Customers with low credit scores</td><td>2023-01-01T00:00:00Z</td></tr><tr><td>S001065</td><td>C1465</td><td>Credit_Risk</td><td>Customers with low credit scores</td><td>2023-01-01T00:00:00Z</td></tr><tr><td>S001066</td><td>C1465</td><td>Credit_Risk</td><td>Customers with low credit scores</td><td>2023-01-01T00:00:00Z</td></tr><tr><td>S001067</td><td>C1465</td><td>Credit_Risk</td><td>Customers with low credit scores</td><td>2023-01-01T00:00:00Z</td></tr><tr><td>S001068</td><td>C1466</td><td>Credit_Risk</td><td>Customers with low credit scores</td><td>2023-01-01T00:00:00Z</td></tr><tr><td>S001069</td><td>C1466</td><td>Credit_Risk</td><td>Customers with low credit scores</td><td>2023-01-01T00:00:00Z</td></tr><tr><td>S001070</td><td>C1466</td><td>Credit_Risk</td><td>Customers with low credit scores</td><td>2023-01-01T00:00:00Z</td></tr><tr><td>S001071</td><td>C1471</td><td>Credit_Risk</td><td>Customers with low credit scores</td><td>2023-01-01T00:00:00Z</td></tr><tr><td>S001072</td><td>C1471</td><td>Credit_Risk</td><td>Customers with low credit scores</td><td>2023-01-01T00:00:00Z</td></tr><tr><td>S001073</td><td>C1471</td><td>Credit_Risk</td><td>Customers with low credit scores</td><td>2023-01-01T00:00:00Z</td></tr><tr><td>S001074</td><td>C1471</td><td>Credit_Risk</td><td>Customers with low credit scores</td><td>2023-01-01T00:00:00Z</td></tr><tr><td>S001075</td><td>C1471</td><td>Credit_Risk</td><td>Customers with low credit scores</td><td>2023-01-01T00:00:00Z</td></tr><tr><td>S001076</td><td>C1471</td><td>Credit_Risk</td><td>Customers with low credit scores</td><td>2023-01-01T00:00:00Z</td></tr><tr><td>S001077</td><td>C1471</td><td>Credit_Risk</td><td>Customers with low credit scores</td><td>2023-01-01T00:00:00Z</td></tr><tr><td>S001078</td><td>C1471</td><td>Credit_Risk</td><td>Customers with low credit scores</td><td>2023-01-01T00:00:00Z</td></tr><tr><td>S001079</td><td>C1472</td><td>Credit_Risk</td><td>Customers with low credit scores</td><td>2023-01-01T00:00:00Z</td></tr><tr><td>S001080</td><td>C1472</td><td>Credit_Risk</td><td>Customers with low credit scores</td><td>2023-01-01T00:00:00Z</td></tr><tr><td>S001081</td><td>C1475</td><td>Credit_Risk</td><td>Customers with low credit scores</td><td>2023-01-01T00:00:00Z</td></tr><tr><td>S001082</td><td>C1476</td><td>Credit_Risk</td><td>Customers with low credit scores</td><td>2023-01-01T00:00:00Z</td></tr><tr><td>S001083</td><td>C1477</td><td>Credit_Risk</td><td>Customers with low credit scores</td><td>2023-01-01T00:00:00Z</td></tr><tr><td>S001084</td><td>C1477</td><td>Credit_Risk</td><td>Customers with low credit scores</td><td>2023-01-01T00:00:00Z</td></tr><tr><td>S001085</td><td>C1477</td><td>Credit_Risk</td><td>Customers with low credit scores</td><td>2023-01-01T00:00:00Z</td></tr><tr><td>S001086</td><td>C1477</td><td>Credit_Risk</td><td>Customers with low credit scores</td><td>2023-01-01T00:00:00Z</td></tr><tr><td>S001087</td><td>C1480</td><td>Credit_Risk</td><td>Customers with low credit scores</td><td>2023-01-01T00:00:00Z</td></tr><tr><td>S001088</td><td>C1480</td><td>Credit_Risk</td><td>Customers with low credit scores</td><td>2023-01-01T00:00:00Z</td></tr><tr><td>S001089</td><td>C1480</td><td>Credit_Risk</td><td>Customers with low credit scores</td><td>2023-01-01T00:00:00Z</td></tr><tr><td>S001090</td><td>C1480</td><td>Credit_Risk</td><td>Customers with low credit scores</td><td>2023-01-01T00:00:00Z</td></tr><tr><td>S001091</td><td>C1489</td><td>Credit_Risk</td><td>Customers with low credit scores</td><td>2023-01-01T00:00:00Z</td></tr><tr><td>S001092</td><td>C1489</td><td>Credit_Risk</td><td>Customers with low credit scores</td><td>2023-01-01T00:00:00Z</td></tr><tr><td>S001093</td><td>C1489</td><td>Credit_Risk</td><td>Customers with low credit scores</td><td>2023-01-01T00:00:00Z</td></tr><tr><td>S001094</td><td>C1491</td><td>Credit_Risk</td><td>Customers with low credit scores</td><td>2023-01-01T00:00:00Z</td></tr><tr><td>S001095</td><td>C1491</td><td>Credit_Risk</td><td>Customers with low credit scores</td><td>2023-01-01T00:00:00Z</td></tr><tr><td>S001096</td><td>C1491</td><td>Credit_Risk</td><td>Customers with low credit scores</td><td>2023-01-01T00:00:00Z</td></tr><tr><td>S001097</td><td>C1500</td><td>Credit_Risk</td><td>Customers with low credit scores</td><td>2023-01-01T00:00:00Z</td></tr><tr><td>S001098</td><td>C1500</td><td>Credit_Risk</td><td>Customers with low credit scores</td><td>2023-01-01T00:00:00Z</td></tr><tr><td>S001099</td><td>C1500</td><td>Credit_Risk</td><td>Customers with low credit scores</td><td>2023-01-01T00:00:00Z</td></tr><tr><td>S001100</td><td>C1500</td><td>Credit_Risk</td><td>Customers with low credit scores</td><td>2023-01-01T00:00:00Z</td></tr><tr><td>S001101</td><td>C1500</td><td>Credit_Risk</td><td>Customers with low credit scores</td><td>2023-01-01T00:00:00Z</td></tr><tr><td>S001102</td><td>C1500</td><td>Credit_Risk</td><td>Customers with low credit scores</td><td>2023-01-01T00:00:00Z</td></tr><tr><td>S001103</td><td>C1508</td><td>Credit_Risk</td><td>Customers with low credit scores</td><td>2023-01-01T00:00:00Z</td></tr><tr><td>S001104</td><td>C1508</td><td>Credit_Risk</td><td>Customers with low credit scores</td><td>2023-01-01T00:00:00Z</td></tr><tr><td>S001105</td><td>C1520</td><td>Credit_Risk</td><td>Customers with low credit scores</td><td>2023-01-01T00:00:00Z</td></tr><tr><td>S001106</td><td>C1520</td><td>Credit_Risk</td><td>Customers with low credit scores</td><td>2023-01-01T00:00:00Z</td></tr><tr><td>S001107</td><td>C1520</td><td>Credit_Risk</td><td>Customers with low credit scores</td><td>2023-01-01T00:00:00Z</td></tr><tr><td>S001108</td><td>C1522</td><td>Credit_Risk</td><td>Customers with low credit scores</td><td>2023-01-01T00:00:00Z</td></tr><tr><td>S001109</td><td>C1523</td><td>Credit_Risk</td><td>Customers with low credit scores</td><td>2023-01-01T00:00:00Z</td></tr><tr><td>S001110</td><td>C1523</td><td>Credit_Risk</td><td>Customers with low credit scores</td><td>2023-01-01T00:00:00Z</td></tr><tr><td>S001111</td><td>C1523</td><td>Credit_Risk</td><td>Customers with low credit scores</td><td>2023-01-01T00:00:00Z</td></tr><tr><td>S001112</td><td>C1525</td><td>Credit_Risk</td><td>Customers with low credit scores</td><td>2023-01-01T00:00:00Z</td></tr><tr><td>S001113</td><td>C1525</td><td>Credit_Risk</td><td>Customers with low credit scores</td><td>2023-01-01T00:00:00Z</td></tr><tr><td>S001114</td><td>C1525</td><td>Credit_Risk</td><td>Customers with low credit scores</td><td>2023-01-01T00:00:00Z</td></tr><tr><td>S001115</td><td>C1525</td><td>Credit_Risk</td><td>Customers with low credit scores</td><td>2023-01-01T00:00:00Z</td></tr><tr><td>S001116</td><td>C1527</td><td>Credit_Risk</td><td>Customers with low credit scores</td><td>2023-01-01T00:00:00Z</td></tr><tr><td>S001117</td><td>C1527</td><td>Credit_Risk</td><td>Customers with low credit scores</td><td>2023-01-01T00:00:00Z</td></tr><tr><td>S001118</td><td>C1527</td><td>Credit_Risk</td><td>Customers with low credit scores</td><td>2023-01-01T00:00:00Z</td></tr><tr><td>S001119</td><td>C1527</td><td>Credit_Risk</td><td>Customers with low credit scores</td><td>2023-01-01T00:00:00Z</td></tr><tr><td>S001120</td><td>C1536</td><td>Credit_Risk</td><td>Customers with low credit scores</td><td>2023-01-01T00:00:00Z</td></tr><tr><td>S001121</td><td>C1536</td><td>Credit_Risk</td><td>Customers with low credit scores</td><td>2023-01-01T00:00:00Z</td></tr><tr><td>S001122</td><td>C1537</td><td>Credit_Risk</td><td>Customers with low credit scores</td><td>2023-01-01T00:00:00Z</td></tr><tr><td>S001123</td><td>C1537</td><td>Credit_Risk</td><td>Customers with low credit scores</td><td>2023-01-01T00:00:00Z</td></tr><tr><td>S001124</td><td>C1540</td><td>Credit_Risk</td><td>Customers with low credit scores</td><td>2023-01-01T00:00:00Z</td></tr><tr><td>S001125</td><td>C1540</td><td>Credit_Risk</td><td>Customers with low credit scores</td><td>2023-01-01T00:00:00Z</td></tr><tr><td>S001126</td><td>C1540</td><td>Credit_Risk</td><td>Customers with low credit scores</td><td>2023-01-01T00:00:00Z</td></tr><tr><td>S001127</td><td>C1540</td><td>Credit_Risk</td><td>Customers with low credit scores</td><td>2023-01-01T00:00:00Z</td></tr><tr><td>S001128</td><td>C1540</td><td>Credit_Risk</td><td>Customers with low credit scores</td><td>2023-01-01T00:00:00Z</td></tr><tr><td>S001129</td><td>C1540</td><td>Credit_Risk</td><td>Customers with low credit scores</td><td>2023-01-01T00:00:00Z</td></tr><tr><td>S001130</td><td>C1543</td><td>Credit_Risk</td><td>Customers with low credit scores</td><td>2023-01-01T00:00:00Z</td></tr><tr><td>S001131</td><td>C1543</td><td>Credit_Risk</td><td>Customers with low credit scores</td><td>2023-01-01T00:00:00Z</td></tr><tr><td>S001132</td><td>C1543</td><td>Credit_Risk</td><td>Customers with low credit scores</td><td>2023-01-01T00:00:00Z</td></tr><tr><td>S001133</td><td>C1543</td><td>Credit_Risk</td><td>Customers with low credit scores</td><td>2023-01-01T00:00:00Z</td></tr><tr><td>S001134</td><td>C1545</td><td>Credit_Risk</td><td>Customers with low credit scores</td><td>2023-01-01T00:00:00Z</td></tr><tr><td>S001135</td><td>C1545</td><td>Credit_Risk</td><td>Customers with low credit scores</td><td>2023-01-01T00:00:00Z</td></tr><tr><td>S001136</td><td>C1545</td><td>Credit_Risk</td><td>Customers with low credit scores</td><td>2023-01-01T00:00:00Z</td></tr><tr><td>S001137</td><td>C1545</td><td>Credit_Risk</td><td>Customers with low credit scores</td><td>2023-01-01T00:00:00Z</td></tr><tr><td>S001138</td><td>C1551</td><td>Credit_Risk</td><td>Customers with low credit scores</td><td>2023-01-01T00:00:00Z</td></tr><tr><td>S001139</td><td>C1551</td><td>Credit_Risk</td><td>Customers with low credit scores</td><td>2023-01-01T00:00:00Z</td></tr><tr><td>S001140</td><td>C1551</td><td>Credit_Risk</td><td>Customers with low credit scores</td><td>2023-01-01T00:00:00Z</td></tr><tr><td>S001141</td><td>C1551</td><td>Credit_Risk</td><td>Customers with low credit scores</td><td>2023-01-01T00:00:00Z</td></tr><tr><td>S001142</td><td>C1555</td><td>Credit_Risk</td><td>Customers with low credit scores</td><td>2023-01-01T00:00:00Z</td></tr><tr><td>S001143</td><td>C1555</td><td>Credit_Risk</td><td>Customers with low credit scores</td><td>2023-01-01T00:00:00Z</td></tr><tr><td>S001144</td><td>C1555</td><td>Credit_Risk</td><td>Customers with low credit scores</td><td>2023-01-01T00:00:00Z</td></tr><tr><td>S001145</td><td>C1561</td><td>Credit_Risk</td><td>Customers with low credit scores</td><td>2023-01-01T00:00:00Z</td></tr><tr><td>S001146</td><td>C1561</td><td>Credit_Risk</td><td>Customers with low credit scores</td><td>2023-01-01T00:00:00Z</td></tr><tr><td>S001147</td><td>C1572</td><td>Credit_Risk</td><td>Customers with low credit scores</td><td>2023-01-01T00:00:00Z</td></tr><tr><td>S001148</td><td>C1572</td><td>Credit_Risk</td><td>Customers with low credit scores</td><td>2023-01-01T00:00:00Z</td></tr><tr><td>S001149</td><td>C1573</td><td>Credit_Risk</td><td>Customers with low credit scores</td><td>2023-01-01T00:00:00Z</td></tr><tr><td>S001150</td><td>C1581</td><td>Credit_Risk</td><td>Customers with low credit scores</td><td>2023-01-01T00:00:00Z</td></tr><tr><td>S001151</td><td>C1581</td><td>Credit_Risk</td><td>Customers with low credit scores</td><td>2023-01-01T00:00:00Z</td></tr><tr><td>S001152</td><td>C1583</td><td>Credit_Risk</td><td>Customers with low credit scores</td><td>2023-01-01T00:00:00Z</td></tr><tr><td>S001153</td><td>C1583</td><td>Credit_Risk</td><td>Customers with low credit scores</td><td>2023-01-01T00:00:00Z</td></tr><tr><td>S001154</td><td>C1583</td><td>Credit_Risk</td><td>Customers with low credit scores</td><td>2023-01-01T00:00:00Z</td></tr><tr><td>S001155</td><td>C1583</td><td>Credit_Risk</td><td>Customers with low credit scores</td><td>2023-01-01T00:00:00Z</td></tr><tr><td>S001156</td><td>C1585</td><td>High_Value</td><td>Customers with high transaction volume</td><td>2023-01-01T00:00:00Z</td></tr><tr><td>S001157</td><td>C1589</td><td>Credit_Risk</td><td>Customers with low credit scores</td><td>2023-01-01T00:00:00Z</td></tr><tr><td>S001158</td><td>C1589</td><td>Credit_Risk</td><td>Customers with low credit scores</td><td>2023-01-01T00:00:00Z</td></tr><tr><td>S001159</td><td>C1589</td><td>Credit_Risk</td><td>Customers with low credit scores</td><td>2023-01-01T00:00:00Z</td></tr><tr><td>S001160</td><td>C1589</td><td>Credit_Risk</td><td>Customers with low credit scores</td><td>2023-01-01T00:00:00Z</td></tr><tr><td>S001161</td><td>C1589</td><td>Credit_Risk</td><td>Customers with low credit scores</td><td>2023-01-01T00:00:00Z</td></tr><tr><td>S001162</td><td>C1589</td><td>Credit_Risk</td><td>Customers with low credit scores</td><td>2023-01-01T00:00:00Z</td></tr><tr><td>S001163</td><td>C1593</td><td>Credit_Risk</td><td>Customers with low credit scores</td><td>2023-01-01T00:00:00Z</td></tr><tr><td>S001164</td><td>C1593</td><td>Credit_Risk</td><td>Customers with low credit scores</td><td>2023-01-01T00:00:00Z</td></tr><tr><td>S001165</td><td>C1593</td><td>Credit_Risk</td><td>Customers with low credit scores</td><td>2023-01-01T00:00:00Z</td></tr><tr><td>S001166</td><td>C1598</td><td>High_Value</td><td>Customers with high transaction volume</td><td>2023-01-01T00:00:00Z</td></tr><tr><td>S001167</td><td>C1604</td><td>Credit_Risk</td><td>Customers with low credit scores</td><td>2023-01-01T00:00:00Z</td></tr><tr><td>S001168</td><td>C1604</td><td>Credit_Risk</td><td>Customers with low credit scores</td><td>2023-01-01T00:00:00Z</td></tr><tr><td>S001169</td><td>C1604</td><td>Credit_Risk</td><td>Customers with low credit scores</td><td>2023-01-01T00:00:00Z</td></tr><tr><td>S001170</td><td>C1604</td><td>Credit_Risk</td><td>Customers with low credit scores</td><td>2023-01-01T00:00:00Z</td></tr><tr><td>S001171</td><td>C1606</td><td>Credit_Risk</td><td>Customers with low credit scores</td><td>2023-01-01T00:00:00Z</td></tr><tr><td>S001172</td><td>C1606</td><td>Credit_Risk</td><td>Customers with low credit scores</td><td>2023-01-01T00:00:00Z</td></tr><tr><td>S001173</td><td>C1606</td><td>Credit_Risk</td><td>Customers with low credit scores</td><td>2023-01-01T00:00:00Z</td></tr><tr><td>S001174</td><td>C1606</td><td>Credit_Risk</td><td>Customers with low credit scores</td><td>2023-01-01T00:00:00Z</td></tr><tr><td>S001175</td><td>C1610</td><td>High_Value</td><td>Customers with high transaction volume</td><td>2023-01-01T00:00:00Z</td></tr><tr><td>S001176</td><td>C1614</td><td>High_Value</td><td>Customers with high transaction volume</td><td>2023-01-01T00:00:00Z</td></tr><tr><td>S001177</td><td>C1614</td><td>Credit_Risk</td><td>Customers with low credit scores</td><td>2023-01-01T00:00:00Z</td></tr><tr><td>S001178</td><td>C1614</td><td>Credit_Risk</td><td>Customers with low credit scores</td><td>2023-01-01T00:00:00Z</td></tr><tr><td>S001179</td><td>C1614</td><td>Credit_Risk</td><td>Customers with low credit scores</td><td>2023-01-01T00:00:00Z</td></tr><tr><td>S001180</td><td>C1616</td><td>Credit_Risk</td><td>Customers with low credit scores</td><td>2023-01-01T00:00:00Z</td></tr><tr><td>S001181</td><td>C1618</td><td>Credit_Risk</td><td>Customers with low credit scores</td><td>2023-01-01T00:00:00Z</td></tr><tr><td>S001182</td><td>C1618</td><td>Credit_Risk</td><td>Customers with low credit scores</td><td>2023-01-01T00:00:00Z</td></tr><tr><td>S001183</td><td>C1618</td><td>Credit_Risk</td><td>Customers with low credit scores</td><td>2023-01-01T00:00:00Z</td></tr><tr><td>S001184</td><td>C1618</td><td>Credit_Risk</td><td>Customers with low credit scores</td><td>2023-01-01T00:00:00Z</td></tr><tr><td>S001185</td><td>C1618</td><td>Credit_Risk</td><td>Customers with low credit scores</td><td>2023-01-01T00:00:00Z</td></tr><tr><td>S001186</td><td>C1621</td><td>Credit_Risk</td><td>Customers with low credit scores</td><td>2023-01-01T00:00:00Z</td></tr><tr><td>S001187</td><td>C1621</td><td>Credit_Risk</td><td>Customers with low credit scores</td><td>2023-01-01T00:00:00Z</td></tr><tr><td>S001188</td><td>C1621</td><td>Credit_Risk</td><td>Customers with low credit scores</td><td>2023-01-01T00:00:00Z</td></tr><tr><td>S001189</td><td>C1621</td><td>Credit_Risk</td><td>Customers with low credit scores</td><td>2023-01-01T00:00:00Z</td></tr><tr><td>S001190</td><td>C1624</td><td>Credit_Risk</td><td>Customers with low credit scores</td><td>2023-01-01T00:00:00Z</td></tr><tr><td>S001191</td><td>C1624</td><td>Credit_Risk</td><td>Customers with low credit scores</td><td>2023-01-01T00:00:00Z</td></tr><tr><td>S001192</td><td>C1629</td><td>Credit_Risk</td><td>Customers with low credit scores</td><td>2023-01-01T00:00:00Z</td></tr><tr><td>S001193</td><td>C1629</td><td>Credit_Risk</td><td>Customers with low credit scores</td><td>2023-01-01T00:00:00Z</td></tr><tr><td>S001194</td><td>C1634</td><td>Credit_Risk</td><td>Customers with low credit scores</td><td>2023-01-01T00:00:00Z</td></tr><tr><td>S001195</td><td>C1634</td><td>Credit_Risk</td><td>Customers with low credit scores</td><td>2023-01-01T00:00:00Z</td></tr><tr><td>S001196</td><td>C1636</td><td>Credit_Risk</td><td>Customers with low credit scores</td><td>2023-01-01T00:00:00Z</td></tr><tr><td>S001197</td><td>C1636</td><td>Credit_Risk</td><td>Customers with low credit scores</td><td>2023-01-01T00:00:00Z</td></tr><tr><td>S001198</td><td>C1636</td><td>Credit_Risk</td><td>Customers with low credit scores</td><td>2023-01-01T00:00:00Z</td></tr><tr><td>S001199</td><td>C1637</td><td>High_Value</td><td>Customers with high transaction volume</td><td>2023-01-01T00:00:00Z</td></tr><tr><td>S001200</td><td>C1637</td><td>Credit_Risk</td><td>Customers with low credit scores</td><td>2023-01-01T00:00:00Z</td></tr><tr><td>S001201</td><td>C1637</td><td>Credit_Risk</td><td>Customers with low credit scores</td><td>2023-01-01T00:00:00Z</td></tr><tr><td>S001202</td><td>C1637</td><td>Credit_Risk</td><td>Customers with low credit scores</td><td>2023-01-01T00:00:00Z</td></tr><tr><td>S001203</td><td>C1637</td><td>Credit_Risk</td><td>Customers with low credit scores</td><td>2023-01-01T00:00:00Z</td></tr><tr><td>S001204</td><td>C1637</td><td>Credit_Risk</td><td>Customers with low credit scores</td><td>2023-01-01T00:00:00Z</td></tr><tr><td>S001205</td><td>C1639</td><td>Credit_Risk</td><td>Customers with low credit scores</td><td>2023-01-01T00:00:00Z</td></tr><tr><td>S001206</td><td>C1639</td><td>Credit_Risk</td><td>Customers with low credit scores</td><td>2023-01-01T00:00:00Z</td></tr><tr><td>S001207</td><td>C1640</td><td>Credit_Risk</td><td>Customers with low credit scores</td><td>2023-01-01T00:00:00Z</td></tr><tr><td>S001208</td><td>C1644</td><td>Credit_Risk</td><td>Customers with low credit scores</td><td>2023-01-01T00:00:00Z</td></tr><tr><td>S001209</td><td>C1644</td><td>Credit_Risk</td><td>Customers with low credit scores</td><td>2023-01-01T00:00:00Z</td></tr><tr><td>S001210</td><td>C1644</td><td>Credit_Risk</td><td>Customers with low credit scores</td><td>2023-01-01T00:00:00Z</td></tr><tr><td>S001211</td><td>C1645</td><td>Credit_Risk</td><td>Customers with low credit scores</td><td>2023-01-01T00:00:00Z</td></tr><tr><td>S001212</td><td>C1645</td><td>Credit_Risk</td><td>Customers with low credit scores</td><td>2023-01-01T00:00:00Z</td></tr><tr><td>S001213</td><td>C1646</td><td>Credit_Risk</td><td>Customers with low credit scores</td><td>2023-01-01T00:00:00Z</td></tr><tr><td>S001214</td><td>C1646</td><td>Credit_Risk</td><td>Customers with low credit scores</td><td>2023-01-01T00:00:00Z</td></tr><tr><td>S001215</td><td>C1646</td><td>Credit_Risk</td><td>Customers with low credit scores</td><td>2023-01-01T00:00:00Z</td></tr><tr><td>S001216</td><td>C1652</td><td>Credit_Risk</td><td>Customers with low credit scores</td><td>2023-01-01T00:00:00Z</td></tr><tr><td>S001217</td><td>C1652</td><td>Credit_Risk</td><td>Customers with low credit scores</td><td>2023-01-01T00:00:00Z</td></tr><tr><td>S001218</td><td>C1653</td><td>Credit_Risk</td><td>Customers with low credit scores</td><td>2023-01-01T00:00:00Z</td></tr><tr><td>S001219</td><td>C1654</td><td>Credit_Risk</td><td>Customers with low credit scores</td><td>2023-01-01T00:00:00Z</td></tr><tr><td>S001220</td><td>C1654</td><td>Credit_Risk</td><td>Customers with low credit scores</td><td>2023-01-01T00:00:00Z</td></tr><tr><td>S001221</td><td>C1654</td><td>Credit_Risk</td><td>Customers with low credit scores</td><td>2023-01-01T00:00:00Z</td></tr><tr><td>S001222</td><td>C1666</td><td>Credit_Risk</td><td>Customers with low credit scores</td><td>2023-01-01T00:00:00Z</td></tr><tr><td>S001223</td><td>C1666</td><td>Credit_Risk</td><td>Customers with low credit scores</td><td>2023-01-01T00:00:00Z</td></tr><tr><td>S001224</td><td>C1666</td><td>Credit_Risk</td><td>Customers with low credit scores</td><td>2023-01-01T00:00:00Z</td></tr><tr><td>S001225</td><td>C1666</td><td>Credit_Risk</td><td>Customers with low credit scores</td><td>2023-01-01T00:00:00Z</td></tr><tr><td>S001226</td><td>C1666</td><td>Credit_Risk</td><td>Customers with low credit scores</td><td>2023-01-01T00:00:00Z</td></tr><tr><td>S001227</td><td>C1666</td><td>Credit_Risk</td><td>Customers with low credit scores</td><td>2023-01-01T00:00:00Z</td></tr><tr><td>S001228</td><td>C1669</td><td>Credit_Risk</td><td>Customers with low credit scores</td><td>2023-01-01T00:00:00Z</td></tr><tr><td>S001229</td><td>C1669</td><td>Credit_Risk</td><td>Customers with low credit scores</td><td>2023-01-01T00:00:00Z</td></tr><tr><td>S001230</td><td>C1671</td><td>Credit_Risk</td><td>Customers with low credit scores</td><td>2023-01-01T00:00:00Z</td></tr><tr><td>S001231</td><td>C1671</td><td>Credit_Risk</td><td>Customers with low credit scores</td><td>2023-01-01T00:00:00Z</td></tr><tr><td>S001232</td><td>C1671</td><td>Credit_Risk</td><td>Customers with low credit scores</td><td>2023-01-01T00:00:00Z</td></tr><tr><td>S001233</td><td>C1681</td><td>Credit_Risk</td><td>Customers with low credit scores</td><td>2023-01-01T00:00:00Z</td></tr><tr><td>S001234</td><td>C1681</td><td>Credit_Risk</td><td>Customers with low credit scores</td><td>2023-01-01T00:00:00Z</td></tr><tr><td>S001235</td><td>C1681</td><td>Credit_Risk</td><td>Customers with low credit scores</td><td>2023-01-01T00:00:00Z</td></tr><tr><td>S001236</td><td>C1681</td><td>Credit_Risk</td><td>Customers with low credit scores</td><td>2023-01-01T00:00:00Z</td></tr><tr><td>S001237</td><td>C1681</td><td>Credit_Risk</td><td>Customers with low credit scores</td><td>2023-01-01T00:00:00Z</td></tr><tr><td>S001238</td><td>C1683</td><td>Credit_Risk</td><td>Customers with low credit scores</td><td>2023-01-01T00:00:00Z</td></tr><tr><td>S001239</td><td>C1683</td><td>Credit_Risk</td><td>Customers with low credit scores</td><td>2023-01-01T00:00:00Z</td></tr><tr><td>S001240</td><td>C1683</td><td>Credit_Risk</td><td>Customers with low credit scores</td><td>2023-01-01T00:00:00Z</td></tr><tr><td>S001241</td><td>C1684</td><td>Credit_Risk</td><td>Customers with low credit scores</td><td>2023-01-01T00:00:00Z</td></tr><tr><td>S001242</td><td>C1684</td><td>Credit_Risk</td><td>Customers with low credit scores</td><td>2023-01-01T00:00:00Z</td></tr><tr><td>S001243</td><td>C1684</td><td>Credit_Risk</td><td>Customers with low credit scores</td><td>2023-01-01T00:00:00Z</td></tr><tr><td>S001244</td><td>C1684</td><td>Credit_Risk</td><td>Customers with low credit scores</td><td>2023-01-01T00:00:00Z</td></tr><tr><td>S001245</td><td>C1684</td><td>Credit_Risk</td><td>Customers with low credit scores</td><td>2023-01-01T00:00:00Z</td></tr><tr><td>S001246</td><td>C1684</td><td>Credit_Risk</td><td>Customers with low credit scores</td><td>2023-01-01T00:00:00Z</td></tr><tr><td>S001247</td><td>C1684</td><td>Credit_Risk</td><td>Customers with low credit scores</td><td>2023-01-01T00:00:00Z</td></tr><tr><td>S001248</td><td>C1684</td><td>Credit_Risk</td><td>Customers with low credit scores</td><td>2023-01-01T00:00:00Z</td></tr><tr><td>S001249</td><td>C1688</td><td>Credit_Risk</td><td>Customers with low credit scores</td><td>2023-01-01T00:00:00Z</td></tr><tr><td>S001250</td><td>C1688</td><td>Credit_Risk</td><td>Customers with low credit scores</td><td>2023-01-01T00:00:00Z</td></tr><tr><td>S001251</td><td>C1693</td><td>High_Value</td><td>Customers with high transaction volume</td><td>2023-01-01T00:00:00Z</td></tr><tr><td>S001252</td><td>C1693</td><td>Credit_Risk</td><td>Customers with low credit scores</td><td>2023-01-01T00:00:00Z</td></tr><tr><td>S001253</td><td>C1693</td><td>Credit_Risk</td><td>Customers with low credit scores</td><td>2023-01-01T00:00:00Z</td></tr><tr><td>S001254</td><td>C1693</td><td>Credit_Risk</td><td>Customers with low credit scores</td><td>2023-01-01T00:00:00Z</td></tr><tr><td>S001255</td><td>C1694</td><td>Credit_Risk</td><td>Customers with low credit scores</td><td>2023-01-01T00:00:00Z</td></tr><tr><td>S001256</td><td>C1694</td><td>Credit_Risk</td><td>Customers with low credit scores</td><td>2023-01-01T00:00:00Z</td></tr><tr><td>S001257</td><td>C1694</td><td>Credit_Risk</td><td>Customers with low credit scores</td><td>2023-01-01T00:00:00Z</td></tr><tr><td>S001258</td><td>C1694</td><td>Credit_Risk</td><td>Customers with low credit scores</td><td>2023-01-01T00:00:00Z</td></tr><tr><td>S001259</td><td>C1694</td><td>Credit_Risk</td><td>Customers with low credit scores</td><td>2023-01-01T00:00:00Z</td></tr><tr><td>S001260</td><td>C1697</td><td>Credit_Risk</td><td>Customers with low credit scores</td><td>2023-01-01T00:00:00Z</td></tr><tr><td>S001261</td><td>C1697</td><td>Credit_Risk</td><td>Customers with low credit scores</td><td>2023-01-01T00:00:00Z</td></tr><tr><td>S001262</td><td>C1697</td><td>Credit_Risk</td><td>Customers with low credit scores</td><td>2023-01-01T00:00:00Z</td></tr><tr><td>S001263</td><td>C1697</td><td>Credit_Risk</td><td>Customers with low credit scores</td><td>2023-01-01T00:00:00Z</td></tr><tr><td>S001264</td><td>C1697</td><td>Credit_Risk</td><td>Customers with low credit scores</td><td>2023-01-01T00:00:00Z</td></tr><tr><td>S001265</td><td>C1698</td><td>Credit_Risk</td><td>Customers with low credit scores</td><td>2023-01-01T00:00:00Z</td></tr><tr><td>S001266</td><td>C1700</td><td>Credit_Risk</td><td>Customers with low credit scores</td><td>2023-01-01T00:00:00Z</td></tr><tr><td>S001267</td><td>C1700</td><td>Credit_Risk</td><td>Customers with low credit scores</td><td>2023-01-01T00:00:00Z</td></tr><tr><td>S001268</td><td>C1700</td><td>Credit_Risk</td><td>Customers with low credit scores</td><td>2023-01-01T00:00:00Z</td></tr><tr><td>S001269</td><td>C1702</td><td>High_Value</td><td>Customers with high transaction volume</td><td>2023-01-01T00:00:00Z</td></tr><tr><td>S001270</td><td>C1703</td><td>Credit_Risk</td><td>Customers with low credit scores</td><td>2023-01-01T00:00:00Z</td></tr><tr><td>S001271</td><td>C1703</td><td>Credit_Risk</td><td>Customers with low credit scores</td><td>2023-01-01T00:00:00Z</td></tr><tr><td>S001272</td><td>C1703</td><td>Credit_Risk</td><td>Customers with low credit scores</td><td>2023-01-01T00:00:00Z</td></tr><tr><td>S001273</td><td>C1703</td><td>Credit_Risk</td><td>Customers with low credit scores</td><td>2023-01-01T00:00:00Z</td></tr><tr><td>S001274</td><td>C1705</td><td>Credit_Risk</td><td>Customers with low credit scores</td><td>2023-01-01T00:00:00Z</td></tr><tr><td>S001275</td><td>C1711</td><td>Credit_Risk</td><td>Customers with low credit scores</td><td>2023-01-01T00:00:00Z</td></tr><tr><td>S001276</td><td>C1715</td><td>Credit_Risk</td><td>Customers with low credit scores</td><td>2023-01-01T00:00:00Z</td></tr><tr><td>S001277</td><td>C1715</td><td>Credit_Risk</td><td>Customers with low credit scores</td><td>2023-01-01T00:00:00Z</td></tr><tr><td>S001278</td><td>C1715</td><td>Credit_Risk</td><td>Customers with low credit scores</td><td>2023-01-01T00:00:00Z</td></tr><tr><td>S001279</td><td>C1715</td><td>Credit_Risk</td><td>Customers with low credit scores</td><td>2023-01-01T00:00:00Z</td></tr><tr><td>S001280</td><td>C1719</td><td>Credit_Risk</td><td>Customers with low credit scores</td><td>2023-01-01T00:00:00Z</td></tr><tr><td>S001281</td><td>C1719</td><td>Credit_Risk</td><td>Customers with low credit scores</td><td>2023-01-01T00:00:00Z</td></tr><tr><td>S001282</td><td>C1719</td><td>Credit_Risk</td><td>Customers with low credit scores</td><td>2023-01-01T00:00:00Z</td></tr><tr><td>S001283</td><td>C1719</td><td>Credit_Risk</td><td>Customers with low credit scores</td><td>2023-01-01T00:00:00Z</td></tr><tr><td>S001284</td><td>C1719</td><td>Credit_Risk</td><td>Customers with low credit scores</td><td>2023-01-01T00:00:00Z</td></tr><tr><td>S001285</td><td>C1719</td><td>Credit_Risk</td><td>Customers with low credit scores</td><td>2023-01-01T00:00:00Z</td></tr><tr><td>S001286</td><td>C1719</td><td>Credit_Risk</td><td>Customers with low credit scores</td><td>2023-01-01T00:00:00Z</td></tr><tr><td>S001287</td><td>C1719</td><td>Credit_Risk</td><td>Customers with low credit scores</td><td>2023-01-01T00:00:00Z</td></tr><tr><td>S001288</td><td>C1719</td><td>Credit_Risk</td><td>Customers with low credit scores</td><td>2023-01-01T00:00:00Z</td></tr><tr><td>S001289</td><td>C1723</td><td>Credit_Risk</td><td>Customers with low credit scores</td><td>2023-01-01T00:00:00Z</td></tr><tr><td>S001290</td><td>C1723</td><td>Credit_Risk</td><td>Customers with low credit scores</td><td>2023-01-01T00:00:00Z</td></tr><tr><td>S001291</td><td>C1729</td><td>Credit_Risk</td><td>Customers with low credit scores</td><td>2023-01-01T00:00:00Z</td></tr><tr><td>S001292</td><td>C1729</td><td>Credit_Risk</td><td>Customers with low credit scores</td><td>2023-01-01T00:00:00Z</td></tr><tr><td>S001293</td><td>C1729</td><td>Credit_Risk</td><td>Customers with low credit scores</td><td>2023-01-01T00:00:00Z</td></tr><tr><td>S001294</td><td>C1729</td><td>Credit_Risk</td><td>Customers with low credit scores</td><td>2023-01-01T00:00:00Z</td></tr><tr><td>S001295</td><td>C1729</td><td>Credit_Risk</td><td>Customers with low credit scores</td><td>2023-01-01T00:00:00Z</td></tr><tr><td>S001296</td><td>C1729</td><td>Credit_Risk</td><td>Customers with low credit scores</td><td>2023-01-01T00:00:00Z</td></tr><tr><td>S001297</td><td>C1729</td><td>Credit_Risk</td><td>Customers with low credit scores</td><td>2023-01-01T00:00:00Z</td></tr><tr><td>S001298</td><td>C1729</td><td>Credit_Risk</td><td>Customers with low credit scores</td><td>2023-01-01T00:00:00Z</td></tr><tr><td>S001299</td><td>C1729</td><td>Credit_Risk</td><td>Customers with low credit scores</td><td>2023-01-01T00:00:00Z</td></tr><tr><td>S001300</td><td>C1729</td><td>Credit_Risk</td><td>Customers with low credit scores</td><td>2023-01-01T00:00:00Z</td></tr><tr><td>S001301</td><td>C1730</td><td>High_Value</td><td>Customers with high transaction volume</td><td>2023-01-01T00:00:00Z</td></tr><tr><td>S001302</td><td>C1730</td><td>Credit_Risk</td><td>Customers with low credit scores</td><td>2023-01-01T00:00:00Z</td></tr><tr><td>S001303</td><td>C1730</td><td>Credit_Risk</td><td>Customers with low credit scores</td><td>2023-01-01T00:00:00Z</td></tr><tr><td>S001304</td><td>C1733</td><td>Credit_Risk</td><td>Customers with low credit scores</td><td>2023-01-01T00:00:00Z</td></tr><tr><td>S001305</td><td>C1735</td><td>Credit_Risk</td><td>Customers with low credit scores</td><td>2023-01-01T00:00:00Z</td></tr><tr><td>S001306</td><td>C1735</td><td>Credit_Risk</td><td>Customers with low credit scores</td><td>2023-01-01T00:00:00Z</td></tr><tr><td>S001307</td><td>C1735</td><td>Credit_Risk</td><td>Customers with low credit scores</td><td>2023-01-01T00:00:00Z</td></tr><tr><td>S001308</td><td>C1738</td><td>Credit_Risk</td><td>Customers with low credit scores</td><td>2023-01-01T00:00:00Z</td></tr><tr><td>S001309</td><td>C1740</td><td>Credit_Risk</td><td>Customers with low credit scores</td><td>2023-01-01T00:00:00Z</td></tr><tr><td>S001310</td><td>C1740</td><td>Credit_Risk</td><td>Customers with low credit scores</td><td>2023-01-01T00:00:00Z</td></tr><tr><td>S001311</td><td>C1741</td><td>Credit_Risk</td><td>Customers with low credit scores</td><td>2023-01-01T00:00:00Z</td></tr><tr><td>S001312</td><td>C1741</td><td>Credit_Risk</td><td>Customers with low credit scores</td><td>2023-01-01T00:00:00Z</td></tr><tr><td>S001313</td><td>C1741</td><td>Credit_Risk</td><td>Customers with low credit scores</td><td>2023-01-01T00:00:00Z</td></tr><tr><td>S001314</td><td>C1741</td><td>Credit_Risk</td><td>Customers with low credit scores</td><td>2023-01-01T00:00:00Z</td></tr><tr><td>S001315</td><td>C1741</td><td>Credit_Risk</td><td>Customers with low credit scores</td><td>2023-01-01T00:00:00Z</td></tr><tr><td>S001316</td><td>C1744</td><td>Credit_Risk</td><td>Customers with low credit scores</td><td>2023-01-01T00:00:00Z</td></tr><tr><td>S001317</td><td>C1744</td><td>Credit_Risk</td><td>Customers with low credit scores</td><td>2023-01-01T00:00:00Z</td></tr><tr><td>S001318</td><td>C1747</td><td>Credit_Risk</td><td>Customers with low credit scores</td><td>2023-01-01T00:00:00Z</td></tr><tr><td>S001319</td><td>C1747</td><td>Credit_Risk</td><td>Customers with low credit scores</td><td>2023-01-01T00:00:00Z</td></tr><tr><td>S001320</td><td>C1747</td><td>Credit_Risk</td><td>Customers with low credit scores</td><td>2023-01-01T00:00:00Z</td></tr><tr><td>S001321</td><td>C1747</td><td>Credit_Risk</td><td>Customers with low credit scores</td><td>2023-01-01T00:00:00Z</td></tr><tr><td>S001322</td><td>C1750</td><td>Credit_Risk</td><td>Customers with low credit scores</td><td>2023-01-01T00:00:00Z</td></tr><tr><td>S001323</td><td>C1751</td><td>Credit_Risk</td><td>Customers with low credit scores</td><td>2023-01-01T00:00:00Z</td></tr><tr><td>S001324</td><td>C1751</td><td>Credit_Risk</td><td>Customers with low credit scores</td><td>2023-01-01T00:00:00Z</td></tr><tr><td>S001325</td><td>C1751</td><td>Credit_Risk</td><td>Customers with low credit scores</td><td>2023-01-01T00:00:00Z</td></tr><tr><td>S001326</td><td>C1770</td><td>Credit_Risk</td><td>Customers with low credit scores</td><td>2023-01-01T00:00:00Z</td></tr><tr><td>S001327</td><td>C1770</td><td>Credit_Risk</td><td>Customers with low credit scores</td><td>2023-01-01T00:00:00Z</td></tr><tr><td>S001328</td><td>C1770</td><td>Credit_Risk</td><td>Customers with low credit scores</td><td>2023-01-01T00:00:00Z</td></tr><tr><td>S001329</td><td>C1770</td><td>Credit_Risk</td><td>Customers with low credit scores</td><td>2023-01-01T00:00:00Z</td></tr><tr><td>S001330</td><td>C1772</td><td>Credit_Risk</td><td>Customers with low credit scores</td><td>2023-01-01T00:00:00Z</td></tr><tr><td>S001331</td><td>C1776</td><td>Credit_Risk</td><td>Customers with low credit scores</td><td>2023-01-01T00:00:00Z</td></tr><tr><td>S001332</td><td>C1776</td><td>Credit_Risk</td><td>Customers with low credit scores</td><td>2023-01-01T00:00:00Z</td></tr><tr><td>S001333</td><td>C1776</td><td>Credit_Risk</td><td>Customers with low credit scores</td><td>2023-01-01T00:00:00Z</td></tr><tr><td>S001334</td><td>C1776</td><td>Credit_Risk</td><td>Customers with low credit scores</td><td>2023-01-01T00:00:00Z</td></tr><tr><td>S001335</td><td>C1777</td><td>Credit_Risk</td><td>Customers with low credit scores</td><td>2023-01-01T00:00:00Z</td></tr><tr><td>S001336</td><td>C1777</td><td>Credit_Risk</td><td>Customers with low credit scores</td><td>2023-01-01T00:00:00Z</td></tr><tr><td>S001337</td><td>C1777</td><td>Credit_Risk</td><td>Customers with low credit scores</td><td>2023-01-01T00:00:00Z</td></tr><tr><td>S001338</td><td>C1777</td><td>Credit_Risk</td><td>Customers with low credit scores</td><td>2023-01-01T00:00:00Z</td></tr><tr><td>S001339</td><td>C1778</td><td>Credit_Risk</td><td>Customers with low credit scores</td><td>2023-01-01T00:00:00Z</td></tr><tr><td>S001340</td><td>C1783</td><td>Credit_Risk</td><td>Customers with low credit scores</td><td>2023-01-01T00:00:00Z</td></tr><tr><td>S001341</td><td>C1783</td><td>Credit_Risk</td><td>Customers with low credit scores</td><td>2023-01-01T00:00:00Z</td></tr><tr><td>S001342</td><td>C1786</td><td>Credit_Risk</td><td>Customers with low credit scores</td><td>2023-01-01T00:00:00Z</td></tr><tr><td>S001343</td><td>C1786</td><td>Credit_Risk</td><td>Customers with low credit scores</td><td>2023-01-01T00:00:00Z</td></tr><tr><td>S001344</td><td>C1786</td><td>Credit_Risk</td><td>Customers with low credit scores</td><td>2023-01-01T00:00:00Z</td></tr><tr><td>S001345</td><td>C1792</td><td>Credit_Risk</td><td>Customers with low credit scores</td><td>2023-01-01T00:00:00Z</td></tr><tr><td>S001346</td><td>C1792</td><td>Credit_Risk</td><td>Customers with low credit scores</td><td>2023-01-01T00:00:00Z</td></tr><tr><td>S001347</td><td>C1792</td><td>Credit_Risk</td><td>Customers with low credit scores</td><td>2023-01-01T00:00:00Z</td></tr><tr><td>S001348</td><td>C1793</td><td>Credit_Risk</td><td>Customers with low credit scores</td><td>2023-01-01T00:00:00Z</td></tr><tr><td>S001349</td><td>C1793</td><td>Credit_Risk</td><td>Customers with low credit scores</td><td>2023-01-01T00:00:00Z</td></tr><tr><td>S001350</td><td>C1795</td><td>Credit_Risk</td><td>Customers with low credit scores</td><td>2023-01-01T00:00:00Z</td></tr><tr><td>S001351</td><td>C1795</td><td>Credit_Risk</td><td>Customers with low credit scores</td><td>2023-01-01T00:00:00Z</td></tr><tr><td>S001352</td><td>C1795</td><td>Credit_Risk</td><td>Customers with low credit scores</td><td>2023-01-01T00:00:00Z</td></tr><tr><td>S001353</td><td>C1795</td><td>Credit_Risk</td><td>Customers with low credit scores</td><td>2023-01-01T00:00:00Z</td></tr><tr><td>S001354</td><td>C1795</td><td>Credit_Risk</td><td>Customers with low credit scores</td><td>2023-01-01T00:00:00Z</td></tr><tr><td>S001355</td><td>C1795</td><td>Credit_Risk</td><td>Customers with low credit scores</td><td>2023-01-01T00:00:00Z</td></tr><tr><td>S001356</td><td>C1795</td><td>Credit_Risk</td><td>Customers with low credit scores</td><td>2023-01-01T00:00:00Z</td></tr><tr><td>S001357</td><td>C1803</td><td>Credit_Risk</td><td>Customers with low credit scores</td><td>2023-01-01T00:00:00Z</td></tr><tr><td>S001358</td><td>C1803</td><td>Credit_Risk</td><td>Customers with low credit scores</td><td>2023-01-01T00:00:00Z</td></tr><tr><td>S001359</td><td>C1803</td><td>Credit_Risk</td><td>Customers with low credit scores</td><td>2023-01-01T00:00:00Z</td></tr><tr><td>S001360</td><td>C1808</td><td>Credit_Risk</td><td>Customers with low credit scores</td><td>2023-01-01T00:00:00Z</td></tr><tr><td>S001361</td><td>C1808</td><td>Credit_Risk</td><td>Customers with low credit scores</td><td>2023-01-01T00:00:00Z</td></tr><tr><td>S001362</td><td>C1808</td><td>Credit_Risk</td><td>Customers with low credit scores</td><td>2023-01-01T00:00:00Z</td></tr><tr><td>S001363</td><td>C1808</td><td>Credit_Risk</td><td>Customers with low credit scores</td><td>2023-01-01T00:00:00Z</td></tr><tr><td>S001364</td><td>C1808</td><td>Credit_Risk</td><td>Customers with low credit scores</td><td>2023-01-01T00:00:00Z</td></tr><tr><td>S001365</td><td>C1814</td><td>Credit_Risk</td><td>Customers with low credit scores</td><td>2023-01-01T00:00:00Z</td></tr><tr><td>S001366</td><td>C1815</td><td>Credit_Risk</td><td>Customers with low credit scores</td><td>2023-01-01T00:00:00Z</td></tr><tr><td>S001367</td><td>C1815</td><td>Credit_Risk</td><td>Customers with low credit scores</td><td>2023-01-01T00:00:00Z</td></tr><tr><td>S001368</td><td>C1815</td><td>Credit_Risk</td><td>Customers with low credit scores</td><td>2023-01-01T00:00:00Z</td></tr><tr><td>S001369</td><td>C1815</td><td>Credit_Risk</td><td>Customers with low credit scores</td><td>2023-01-01T00:00:00Z</td></tr><tr><td>S001370</td><td>C1815</td><td>Credit_Risk</td><td>Customers with low credit scores</td><td>2023-01-01T00:00:00Z</td></tr><tr><td>S001371</td><td>C1815</td><td>Credit_Risk</td><td>Customers with low credit scores</td><td>2023-01-01T00:00:00Z</td></tr><tr><td>S001372</td><td>C1819</td><td>Credit_Risk</td><td>Customers with low credit scores</td><td>2023-01-01T00:00:00Z</td></tr><tr><td>S001373</td><td>C1819</td><td>Credit_Risk</td><td>Customers with low credit scores</td><td>2023-01-01T00:00:00Z</td></tr><tr><td>S001374</td><td>C1819</td><td>Credit_Risk</td><td>Customers with low credit scores</td><td>2023-01-01T00:00:00Z</td></tr><tr><td>S001375</td><td>C1819</td><td>Credit_Risk</td><td>Customers with low credit scores</td><td>2023-01-01T00:00:00Z</td></tr><tr><td>S001376</td><td>C1820</td><td>Credit_Risk</td><td>Customers with low credit scores</td><td>2023-01-01T00:00:00Z</td></tr><tr><td>S001377</td><td>C1820</td><td>Credit_Risk</td><td>Customers with low credit scores</td><td>2023-01-01T00:00:00Z</td></tr><tr><td>S001378</td><td>C1820</td><td>Credit_Risk</td><td>Customers with low credit scores</td><td>2023-01-01T00:00:00Z</td></tr><tr><td>S001379</td><td>C1820</td><td>Credit_Risk</td><td>Customers with low credit scores</td><td>2023-01-01T00:00:00Z</td></tr><tr><td>S001380</td><td>C1821</td><td>Credit_Risk</td><td>Customers with low credit scores</td><td>2023-01-01T00:00:00Z</td></tr><tr><td>S001381</td><td>C1821</td><td>Credit_Risk</td><td>Customers with low credit scores</td><td>2023-01-01T00:00:00Z</td></tr><tr><td>S001382</td><td>C1821</td><td>Credit_Risk</td><td>Customers with low credit scores</td><td>2023-01-01T00:00:00Z</td></tr><tr><td>S001383</td><td>C1822</td><td>Credit_Risk</td><td>Customers with low credit scores</td><td>2023-01-01T00:00:00Z</td></tr><tr><td>S001384</td><td>C1822</td><td>Credit_Risk</td><td>Customers with low credit scores</td><td>2023-01-01T00:00:00Z</td></tr><tr><td>S001385</td><td>C1829</td><td>Credit_Risk</td><td>Customers with low credit scores</td><td>2023-01-01T00:00:00Z</td></tr><tr><td>S001386</td><td>C1829</td><td>Credit_Risk</td><td>Customers with low credit scores</td><td>2023-01-01T00:00:00Z</td></tr><tr><td>S001387</td><td>C1829</td><td>Credit_Risk</td><td>Customers with low credit scores</td><td>2023-01-01T00:00:00Z</td></tr><tr><td>S001388</td><td>C1829</td><td>Credit_Risk</td><td>Customers with low credit scores</td><td>2023-01-01T00:00:00Z</td></tr><tr><td>S001389</td><td>C1829</td><td>Credit_Risk</td><td>Customers with low credit scores</td><td>2023-01-01T00:00:00Z</td></tr><tr><td>S001390</td><td>C1832</td><td>Credit_Risk</td><td>Customers with low credit scores</td><td>2023-01-01T00:00:00Z</td></tr><tr><td>S001391</td><td>C1832</td><td>Credit_Risk</td><td>Customers with low credit scores</td><td>2023-01-01T00:00:00Z</td></tr><tr><td>S001392</td><td>C1833</td><td>Credit_Risk</td><td>Customers with low credit scores</td><td>2023-01-01T00:00:00Z</td></tr><tr><td>S001393</td><td>C1833</td><td>Credit_Risk</td><td>Customers with low credit scores</td><td>2023-01-01T00:00:00Z</td></tr><tr><td>S001394</td><td>C1839</td><td>Credit_Risk</td><td>Customers with low credit scores</td><td>2023-01-01T00:00:00Z</td></tr><tr><td>S001395</td><td>C1839</td><td>Credit_Risk</td><td>Customers with low credit scores</td><td>2023-01-01T00:00:00Z</td></tr><tr><td>S001396</td><td>C1839</td><td>Credit_Risk</td><td>Customers with low credit scores</td><td>2023-01-01T00:00:00Z</td></tr><tr><td>S001397</td><td>C1839</td><td>Credit_Risk</td><td>Customers with low credit scores</td><td>2023-01-01T00:00:00Z</td></tr><tr><td>S001398</td><td>C1839</td><td>Credit_Risk</td><td>Customers with low credit scores</td><td>2023-01-01T00:00:00Z</td></tr><tr><td>S001399</td><td>C1839</td><td>Credit_Risk</td><td>Customers with low credit scores</td><td>2023-01-01T00:00:00Z</td></tr><tr><td>S001400</td><td>C1840</td><td>Credit_Risk</td><td>Customers with low credit scores</td><td>2023-01-01T00:00:00Z</td></tr><tr><td>S001401</td><td>C1840</td><td>Credit_Risk</td><td>Customers with low credit scores</td><td>2023-01-01T00:00:00Z</td></tr><tr><td>S001402</td><td>C1842</td><td>Credit_Risk</td><td>Customers with low credit scores</td><td>2023-01-01T00:00:00Z</td></tr><tr><td>S001403</td><td>C1842</td><td>Credit_Risk</td><td>Customers with low credit scores</td><td>2023-01-01T00:00:00Z</td></tr><tr><td>S001404</td><td>C1842</td><td>Credit_Risk</td><td>Customers with low credit scores</td><td>2023-01-01T00:00:00Z</td></tr><tr><td>S001405</td><td>C1843</td><td>Credit_Risk</td><td>Customers with low credit scores</td><td>2023-01-01T00:00:00Z</td></tr><tr><td>S001406</td><td>C1843</td><td>Credit_Risk</td><td>Customers with low credit scores</td><td>2023-01-01T00:00:00Z</td></tr><tr><td>S001407</td><td>C1843</td><td>Credit_Risk</td><td>Customers with low credit scores</td><td>2023-01-01T00:00:00Z</td></tr><tr><td>S001408</td><td>C1843</td><td>Credit_Risk</td><td>Customers with low credit scores</td><td>2023-01-01T00:00:00Z</td></tr><tr><td>S001409</td><td>C1844</td><td>Credit_Risk</td><td>Customers with low credit scores</td><td>2023-01-01T00:00:00Z</td></tr><tr><td>S001410</td><td>C1844</td><td>Credit_Risk</td><td>Customers with low credit scores</td><td>2023-01-01T00:00:00Z</td></tr><tr><td>S001411</td><td>C1845</td><td>Credit_Risk</td><td>Customers with low credit scores</td><td>2023-01-01T00:00:00Z</td></tr><tr><td>S001412</td><td>C1845</td><td>Credit_Risk</td><td>Customers with low credit scores</td><td>2023-01-01T00:00:00Z</td></tr><tr><td>S001413</td><td>C1845</td><td>Credit_Risk</td><td>Customers with low credit scores</td><td>2023-01-01T00:00:00Z</td></tr><tr><td>S001414</td><td>C1846</td><td>Credit_Risk</td><td>Customers with low credit scores</td><td>2023-01-01T00:00:00Z</td></tr><tr><td>S001415</td><td>C1846</td><td>Credit_Risk</td><td>Customers with low credit scores</td><td>2023-01-01T00:00:00Z</td></tr><tr><td>S001416</td><td>C1848</td><td>Credit_Risk</td><td>Customers with low credit scores</td><td>2023-01-01T00:00:00Z</td></tr><tr><td>S001417</td><td>C1848</td><td>Credit_Risk</td><td>Customers with low credit scores</td><td>2023-01-01T00:00:00Z</td></tr><tr><td>S001418</td><td>C1848</td><td>Credit_Risk</td><td>Customers with low credit scores</td><td>2023-01-01T00:00:00Z</td></tr><tr><td>S001419</td><td>C1850</td><td>Credit_Risk</td><td>Customers with low credit scores</td><td>2023-01-01T00:00:00Z</td></tr><tr><td>S001420</td><td>C1857</td><td>Credit_Risk</td><td>Customers with low credit scores</td><td>2023-01-01T00:00:00Z</td></tr><tr><td>S001421</td><td>C1857</td><td>Credit_Risk</td><td>Customers with low credit scores</td><td>2023-01-01T00:00:00Z</td></tr><tr><td>S001422</td><td>C1857</td><td>Credit_Risk</td><td>Customers with low credit scores</td><td>2023-01-01T00:00:00Z</td></tr><tr><td>S001423</td><td>C1857</td><td>Credit_Risk</td><td>Customers with low credit scores</td><td>2023-01-01T00:00:00Z</td></tr><tr><td>S001424</td><td>C1857</td><td>Credit_Risk</td><td>Customers with low credit scores</td><td>2023-01-01T00:00:00Z</td></tr><tr><td>S001425</td><td>C1858</td><td>Credit_Risk</td><td>Customers with low credit scores</td><td>2023-01-01T00:00:00Z</td></tr><tr><td>S001426</td><td>C1858</td><td>Credit_Risk</td><td>Customers with low credit scores</td><td>2023-01-01T00:00:00Z</td></tr><tr><td>S001427</td><td>C1859</td><td>Credit_Risk</td><td>Customers with low credit scores</td><td>2023-01-01T00:00:00Z</td></tr><tr><td>S001428</td><td>C1859</td><td>Credit_Risk</td><td>Customers with low credit scores</td><td>2023-01-01T00:00:00Z</td></tr><tr><td>S001429</td><td>C1865</td><td>Credit_Risk</td><td>Customers with low credit scores</td><td>2023-01-01T00:00:00Z</td></tr><tr><td>S001430</td><td>C1865</td><td>Credit_Risk</td><td>Customers with low credit scores</td><td>2023-01-01T00:00:00Z</td></tr><tr><td>S001431</td><td>C1865</td><td>Credit_Risk</td><td>Customers with low credit scores</td><td>2023-01-01T00:00:00Z</td></tr><tr><td>S001432</td><td>C1865</td><td>Credit_Risk</td><td>Customers with low credit scores</td><td>2023-01-01T00:00:00Z</td></tr><tr><td>S001433</td><td>C1865</td><td>Credit_Risk</td><td>Customers with low credit scores</td><td>2023-01-01T00:00:00Z</td></tr><tr><td>S001434</td><td>C1865</td><td>Credit_Risk</td><td>Customers with low credit scores</td><td>2023-01-01T00:00:00Z</td></tr><tr><td>S001435</td><td>C1865</td><td>Credit_Risk</td><td>Customers with low credit scores</td><td>2023-01-01T00:00:00Z</td></tr><tr><td>S001436</td><td>C1866</td><td>Credit_Risk</td><td>Customers with low credit scores</td><td>2023-01-01T00:00:00Z</td></tr><tr><td>S001437</td><td>C1866</td><td>Credit_Risk</td><td>Customers with low credit scores</td><td>2023-01-01T00:00:00Z</td></tr><tr><td>S001438</td><td>C1866</td><td>Credit_Risk</td><td>Customers with low credit scores</td><td>2023-01-01T00:00:00Z</td></tr><tr><td>S001439</td><td>C1871</td><td>Credit_Risk</td><td>Customers with low credit scores</td><td>2023-01-01T00:00:00Z</td></tr><tr><td>S001440</td><td>C1871</td><td>Credit_Risk</td><td>Customers with low credit scores</td><td>2023-01-01T00:00:00Z</td></tr><tr><td>S001441</td><td>C1871</td><td>Credit_Risk</td><td>Customers with low credit scores</td><td>2023-01-01T00:00:00Z</td></tr><tr><td>S001442</td><td>C1885</td><td>Credit_Risk</td><td>Customers with low credit scores</td><td>2023-01-01T00:00:00Z</td></tr><tr><td>S001443</td><td>C1885</td><td>Credit_Risk</td><td>Customers with low credit scores</td><td>2023-01-01T00:00:00Z</td></tr><tr><td>S001444</td><td>C1889</td><td>Credit_Risk</td><td>Customers with low credit scores</td><td>2023-01-01T00:00:00Z</td></tr><tr><td>S001445</td><td>C1889</td><td>Credit_Risk</td><td>Customers with low credit scores</td><td>2023-01-01T00:00:00Z</td></tr><tr><td>S001446</td><td>C1889</td><td>Credit_Risk</td><td>Customers with low credit scores</td><td>2023-01-01T00:00:00Z</td></tr><tr><td>S001447</td><td>C1889</td><td>Credit_Risk</td><td>Customers with low credit scores</td><td>2023-01-01T00:00:00Z</td></tr><tr><td>S001448</td><td>C1889</td><td>Credit_Risk</td><td>Customers with low credit scores</td><td>2023-01-01T00:00:00Z</td></tr><tr><td>S001449</td><td>C1892</td><td>Credit_Risk</td><td>Customers with low credit scores</td><td>2023-01-01T00:00:00Z</td></tr><tr><td>S001450</td><td>C1892</td><td>Credit_Risk</td><td>Customers with low credit scores</td><td>2023-01-01T00:00:00Z</td></tr><tr><td>S001451</td><td>C1892</td><td>Credit_Risk</td><td>Customers with low credit scores</td><td>2023-01-01T00:00:00Z</td></tr><tr><td>S001452</td><td>C1892</td><td>Credit_Risk</td><td>Customers with low credit scores</td><td>2023-01-01T00:00:00Z</td></tr><tr><td>S001453</td><td>C1892</td><td>Credit_Risk</td><td>Customers with low credit scores</td><td>2023-01-01T00:00:00Z</td></tr><tr><td>S001454</td><td>C1892</td><td>Credit_Risk</td><td>Customers with low credit scores</td><td>2023-01-01T00:00:00Z</td></tr><tr><td>S001455</td><td>C1894</td><td>Credit_Risk</td><td>Customers with low credit scores</td><td>2023-01-01T00:00:00Z</td></tr><tr><td>S001456</td><td>C1894</td><td>Credit_Risk</td><td>Customers with low credit scores</td><td>2023-01-01T00:00:00Z</td></tr><tr><td>S001457</td><td>C1894</td><td>Credit_Risk</td><td>Customers with low credit scores</td><td>2023-01-01T00:00:00Z</td></tr><tr><td>S001458</td><td>C1894</td><td>Credit_Risk</td><td>Customers with low credit scores</td><td>2023-01-01T00:00:00Z</td></tr><tr><td>S001459</td><td>C1894</td><td>Credit_Risk</td><td>Customers with low credit scores</td><td>2023-01-01T00:00:00Z</td></tr><tr><td>S001460</td><td>C1894</td><td>Credit_Risk</td><td>Customers with low credit scores</td><td>2023-01-01T00:00:00Z</td></tr><tr><td>S001461</td><td>C1895</td><td>Credit_Risk</td><td>Customers with low credit scores</td><td>2023-01-01T00:00:00Z</td></tr><tr><td>S001462</td><td>C1897</td><td>Credit_Risk</td><td>Customers with low credit scores</td><td>2023-01-01T00:00:00Z</td></tr><tr><td>S001463</td><td>C1897</td><td>Credit_Risk</td><td>Customers with low credit scores</td><td>2023-01-01T00:00:00Z</td></tr><tr><td>S001464</td><td>C1898</td><td>Credit_Risk</td><td>Customers with low credit scores</td><td>2023-01-01T00:00:00Z</td></tr><tr><td>S001465</td><td>C1898</td><td>Credit_Risk</td><td>Customers with low credit scores</td><td>2023-01-01T00:00:00Z</td></tr><tr><td>S001466</td><td>C1898</td><td>Credit_Risk</td><td>Customers with low credit scores</td><td>2023-01-01T00:00:00Z</td></tr><tr><td>S001467</td><td>C1898</td><td>Credit_Risk</td><td>Customers with low credit scores</td><td>2023-01-01T00:00:00Z</td></tr><tr><td>S001468</td><td>C1898</td><td>Credit_Risk</td><td>Customers with low credit scores</td><td>2023-01-01T00:00:00Z</td></tr><tr><td>S001469</td><td>C1899</td><td>Credit_Risk</td><td>Customers with low credit scores</td><td>2023-01-01T00:00:00Z</td></tr><tr><td>S001470</td><td>C1899</td><td>Credit_Risk</td><td>Customers with low credit scores</td><td>2023-01-01T00:00:00Z</td></tr><tr><td>S001471</td><td>C1899</td><td>Credit_Risk</td><td>Customers with low credit scores</td><td>2023-01-01T00:00:00Z</td></tr><tr><td>S001472</td><td>C1904</td><td>Credit_Risk</td><td>Customers with low credit scores</td><td>2023-01-01T00:00:00Z</td></tr><tr><td>S001473</td><td>C1913</td><td>Credit_Risk</td><td>Customers with low credit scores</td><td>2023-01-01T00:00:00Z</td></tr><tr><td>S001474</td><td>C1913</td><td>Credit_Risk</td><td>Customers with low credit scores</td><td>2023-01-01T00:00:00Z</td></tr><tr><td>S001475</td><td>C1913</td><td>Credit_Risk</td><td>Customers with low credit scores</td><td>2023-01-01T00:00:00Z</td></tr><tr><td>S001476</td><td>C1916</td><td>Credit_Risk</td><td>Customers with low credit scores</td><td>2023-01-01T00:00:00Z</td></tr><tr><td>S001477</td><td>C1916</td><td>Credit_Risk</td><td>Customers with low credit scores</td><td>2023-01-01T00:00:00Z</td></tr><tr><td>S001478</td><td>C1917</td><td>Credit_Risk</td><td>Customers with low credit scores</td><td>2023-01-01T00:00:00Z</td></tr><tr><td>S001479</td><td>C1917</td><td>Credit_Risk</td><td>Customers with low credit scores</td><td>2023-01-01T00:00:00Z</td></tr><tr><td>S001480</td><td>C1917</td><td>Credit_Risk</td><td>Customers with low credit scores</td><td>2023-01-01T00:00:00Z</td></tr><tr><td>S001481</td><td>C1917</td><td>Credit_Risk</td><td>Customers with low credit scores</td><td>2023-01-01T00:00:00Z</td></tr><tr><td>S001482</td><td>C1917</td><td>Credit_Risk</td><td>Customers with low credit scores</td><td>2023-01-01T00:00:00Z</td></tr><tr><td>S001483</td><td>C1918</td><td>Credit_Risk</td><td>Customers with low credit scores</td><td>2023-01-01T00:00:00Z</td></tr><tr><td>S001484</td><td>C1928</td><td>Credit_Risk</td><td>Customers with low credit scores</td><td>2023-01-01T00:00:00Z</td></tr><tr><td>S001485</td><td>C1929</td><td>Credit_Risk</td><td>Customers with low credit scores</td><td>2023-01-01T00:00:00Z</td></tr><tr><td>S001486</td><td>C1929</td><td>Credit_Risk</td><td>Customers with low credit scores</td><td>2023-01-01T00:00:00Z</td></tr><tr><td>S001487</td><td>C1939</td><td>Credit_Risk</td><td>Customers with low credit scores</td><td>2023-01-01T00:00:00Z</td></tr><tr><td>S001488</td><td>C1940</td><td>Credit_Risk</td><td>Customers with low credit scores</td><td>2023-01-01T00:00:00Z</td></tr><tr><td>S001489</td><td>C1940</td><td>Credit_Risk</td><td>Customers with low credit scores</td><td>2023-01-01T00:00:00Z</td></tr><tr><td>S001490</td><td>C1941</td><td>Credit_Risk</td><td>Customers with low credit scores</td><td>2023-01-01T00:00:00Z</td></tr><tr><td>S001491</td><td>C1941</td><td>Credit_Risk</td><td>Customers with low credit scores</td><td>2023-01-01T00:00:00Z</td></tr><tr><td>S001492</td><td>C1941</td><td>Credit_Risk</td><td>Customers with low credit scores</td><td>2023-01-01T00:00:00Z</td></tr><tr><td>S001493</td><td>C1951</td><td>Credit_Risk</td><td>Customers with low credit scores</td><td>2023-01-01T00:00:00Z</td></tr><tr><td>S001494</td><td>C1951</td><td>Credit_Risk</td><td>Customers with low credit scores</td><td>2023-01-01T00:00:00Z</td></tr><tr><td>S001495</td><td>C1951</td><td>Credit_Risk</td><td>Customers with low credit scores</td><td>2023-01-01T00:00:00Z</td></tr><tr><td>S001496</td><td>C1951</td><td>Credit_Risk</td><td>Customers with low credit scores</td><td>2023-01-01T00:00:00Z</td></tr><tr><td>S001497</td><td>C1954</td><td>Credit_Risk</td><td>Customers with low credit scores</td><td>2023-01-01T00:00:00Z</td></tr><tr><td>S001498</td><td>C1962</td><td>Credit_Risk</td><td>Customers with low credit scores</td><td>2023-01-01T00:00:00Z</td></tr><tr><td>S001499</td><td>C1962</td><td>Credit_Risk</td><td>Customers with low credit scores</td><td>2023-01-01T00:00:00Z</td></tr><tr><td>S001500</td><td>C1962</td><td>Credit_Risk</td><td>Customers with low credit scores</td><td>2023-01-01T00:00:00Z</td></tr><tr><td>S001501</td><td>C1965</td><td>Credit_Risk</td><td>Customers with low credit scores</td><td>2023-01-01T00:00:00Z</td></tr><tr><td>S001502</td><td>C1965</td><td>Credit_Risk</td><td>Customers with low credit scores</td><td>2023-01-01T00:00:00Z</td></tr><tr><td>S001503</td><td>C1965</td><td>Credit_Risk</td><td>Customers with low credit scores</td><td>2023-01-01T00:00:00Z</td></tr><tr><td>S001504</td><td>C1965</td><td>Credit_Risk</td><td>Customers with low credit scores</td><td>2023-01-01T00:00:00Z</td></tr><tr><td>S001505</td><td>C1965</td><td>Credit_Risk</td><td>Customers with low credit scores</td><td>2023-01-01T00:00:00Z</td></tr><tr><td>S001506</td><td>C1966</td><td>Credit_Risk</td><td>Customers with low credit scores</td><td>2023-01-01T00:00:00Z</td></tr><tr><td>S001507</td><td>C1974</td><td>Credit_Risk</td><td>Customers with low credit scores</td><td>2023-01-01T00:00:00Z</td></tr><tr><td>S001508</td><td>C1974</td><td>Credit_Risk</td><td>Customers with low credit scores</td><td>2023-01-01T00:00:00Z</td></tr><tr><td>S001509</td><td>C1978</td><td>Credit_Risk</td><td>Customers with low credit scores</td><td>2023-01-01T00:00:00Z</td></tr><tr><td>S001510</td><td>C1978</td><td>Credit_Risk</td><td>Customers with low credit scores</td><td>2023-01-01T00:00:00Z</td></tr><tr><td>S001511</td><td>C1978</td><td>Credit_Risk</td><td>Customers with low credit scores</td><td>2023-01-01T00:00:00Z</td></tr><tr><td>S001512</td><td>C1978</td><td>Credit_Risk</td><td>Customers with low credit scores</td><td>2023-01-01T00:00:00Z</td></tr><tr><td>S001513</td><td>C1978</td><td>Credit_Risk</td><td>Customers with low credit scores</td><td>2023-01-01T00:00:00Z</td></tr><tr><td>S001514</td><td>C1981</td><td>Credit_Risk</td><td>Customers with low credit scores</td><td>2023-01-01T00:00:00Z</td></tr><tr><td>S001515</td><td>C1981</td><td>Credit_Risk</td><td>Customers with low credit scores</td><td>2023-01-01T00:00:00Z</td></tr><tr><td>S001516</td><td>C1981</td><td>Credit_Risk</td><td>Customers with low credit scores</td><td>2023-01-01T00:00:00Z</td></tr><tr><td>S001517</td><td>C1981</td><td>Credit_Risk</td><td>Customers with low credit scores</td><td>2023-01-01T00:00:00Z</td></tr><tr><td>S001518</td><td>C1982</td><td>Credit_Risk</td><td>Customers with low credit scores</td><td>2023-01-01T00:00:00Z</td></tr><tr><td>S001519</td><td>C1982</td><td>Credit_Risk</td><td>Customers with low credit scores</td><td>2023-01-01T00:00:00Z</td></tr><tr><td>S001520</td><td>C1983</td><td>Credit_Risk</td><td>Customers with low credit scores</td><td>2023-01-01T00:00:00Z</td></tr><tr><td>S001521</td><td>C1983</td><td>Credit_Risk</td><td>Customers with low credit scores</td><td>2023-01-01T00:00:00Z</td></tr><tr><td>S001522</td><td>C1984</td><td>Credit_Risk</td><td>Customers with low credit scores</td><td>2023-01-01T00:00:00Z</td></tr><tr><td>S001523</td><td>C1984</td><td>Credit_Risk</td><td>Customers with low credit scores</td><td>2023-01-01T00:00:00Z</td></tr><tr><td>S001524</td><td>C1984</td><td>Credit_Risk</td><td>Customers with low credit scores</td><td>2023-01-01T00:00:00Z</td></tr><tr><td>S001525</td><td>C1986</td><td>Credit_Risk</td><td>Customers with low credit scores</td><td>2023-01-01T00:00:00Z</td></tr><tr><td>S001526</td><td>C1989</td><td>New_User</td><td>Customers who joined in last 30 days</td><td>2023-01-01T00:00:00Z</td></tr><tr><td>S001527</td><td>C1989</td><td>New_User</td><td>Customers who joined in last 30 days</td><td>2023-01-01T00:00:00Z</td></tr><tr><td>S001528</td><td>C1989</td><td>New_User</td><td>Customers who joined in last 30 days</td><td>2023-01-01T00:00:00Z</td></tr><tr><td>S001529</td><td>C1990</td><td>New_User</td><td>Customers who joined in last 30 days</td><td>2023-01-01T00:00:00Z</td></tr><tr><td>S001530</td><td>C1990</td><td>New_User</td><td>Customers who joined in last 30 days</td><td>2023-01-01T00:00:00Z</td></tr><tr><td>S001531</td><td>C1992</td><td>New_User</td><td>Customers who joined in last 30 days</td><td>2023-01-01T00:00:00Z</td></tr><tr><td>S001532</td><td>C1992</td><td>New_User</td><td>Customers who joined in last 30 days</td><td>2023-01-01T00:00:00Z</td></tr><tr><td>S001533</td><td>C1993</td><td>New_User</td><td>Customers who joined in last 30 days</td><td>2023-01-01T00:00:00Z</td></tr><tr><td>S001534</td><td>C1993</td><td>New_User</td><td>Customers who joined in last 30 days</td><td>2023-01-01T00:00:00Z</td></tr><tr><td>S001535</td><td>C1993</td><td>New_User</td><td>Customers who joined in last 30 days</td><td>2023-01-01T00:00:00Z</td></tr><tr><td>S001536</td><td>C1994</td><td>New_User</td><td>Customers who joined in last 30 days</td><td>2023-01-01T00:00:00Z</td></tr><tr><td>S001537</td><td>C1994</td><td>New_User</td><td>Customers who joined in last 30 days</td><td>2023-01-01T00:00:00Z</td></tr><tr><td>S001538</td><td>C1994</td><td>New_User</td><td>Customers who joined in last 30 days</td><td>2023-01-01T00:00:00Z</td></tr><tr><td>S001539</td><td>C1994</td><td>New_User</td><td>Customers who joined in last 30 days</td><td>2023-01-01T00:00:00Z</td></tr><tr><td>S001540</td><td>C1995</td><td>New_User</td><td>Customers who joined in last 30 days</td><td>2023-01-01T00:00:00Z</td></tr><tr><td>S001541</td><td>C1995</td><td>New_User</td><td>Customers who joined in last 30 days</td><td>2023-01-01T00:00:00Z</td></tr><tr><td>S001542</td><td>C1996</td><td>New_User</td><td>Customers who joined in last 30 days</td><td>2023-01-01T00:00:00Z</td></tr><tr><td>S001543</td><td>C1996</td><td>Credit_Risk</td><td>Customers with low credit scores</td><td>2023-01-01T00:00:00Z</td></tr><tr><td>S001544</td><td>C1997</td><td>New_User</td><td>Customers who joined in last 30 days</td><td>2023-01-01T00:00:00Z</td></tr><tr><td>S001545</td><td>C1997</td><td>New_User</td><td>Customers who joined in last 30 days</td><td>2023-01-01T00:00:00Z</td></tr><tr><td>S001546</td><td>C1997</td><td>New_User</td><td>Customers who joined in last 30 days</td><td>2023-01-01T00:00:00Z</td></tr><tr><td>S001547</td><td>C1997</td><td>New_User</td><td>Customers who joined in last 30 days</td><td>2023-01-01T00:00:00Z</td></tr><tr><td>S001548</td><td>C1997</td><td>New_User</td><td>Customers who joined in last 30 days</td><td>2023-01-01T00:00:00Z</td></tr><tr><td>S001549</td><td>C1997</td><td>New_User</td><td>Customers who joined in last 30 days</td><td>2023-01-01T00:00:00Z</td></tr><tr><td>S001550</td><td>C1998</td><td>New_User</td><td>Customers who joined in last 30 days</td><td>2023-01-01T00:00:00Z</td></tr><tr><td>S001551</td><td>C1998</td><td>New_User</td><td>Customers who joined in last 30 days</td><td>2023-01-01T00:00:00Z</td></tr><tr><td>S001552</td><td>C1999</td><td>New_User</td><td>Customers who joined in last 30 days</td><td>2023-01-01T00:00:00Z</td></tr><tr><td>S001553</td><td>C1999</td><td>Credit_Risk</td><td>Customers with low credit scores</td><td>2023-01-01T00:00:00Z</td></tr></tbody></table></div>"
      ]
     },
     "metadata": {
      "application/vnd.databricks.v1+output": {
       "addedWidgets": {},
       "aggData": [],
       "aggError": "",
       "aggOverflow": false,
       "aggSchema": [],
       "aggSeriesLimitReached": false,
       "aggType": "",
       "arguments": {},
       "columnCustomDisplayInfos": {},
       "data": [
        [
         "S001",
         "C1000",
         "Credit_Risk",
         "Customers with low credit scores",
         "2023-01-01T00:00:00Z"
        ],
        [
         "S002",
         "C1000",
         "Credit_Risk",
         "Customers with low credit scores",
         "2023-01-01T00:00:00Z"
        ],
        [
         "S003",
         "C1000",
         "Credit_Risk",
         "Customers with low credit scores",
         "2023-01-01T00:00:00Z"
        ],
        [
         "S004",
         "C1000",
         "Loyal",
         "Consistent activity for over 5 years",
         "2023-01-01T00:00:00Z"
        ],
        [
         "S005",
         "C1000",
         "Loyal",
         "Consistent activity for over 5 years",
         "2023-01-01T00:00:00Z"
        ],
        [
         "S006",
         "C1000",
         "Loyal",
         "Consistent activity for over 5 years",
         "2023-01-01T00:00:00Z"
        ],
        [
         "S007",
         "C1001",
         "Credit_Risk",
         "Customers with low credit scores",
         "2023-01-01T00:00:00Z"
        ],
        [
         "S008",
         "C1001",
         "Loyal",
         "Consistent activity for over 5 years",
         "2023-01-01T00:00:00Z"
        ],
        [
         "S009",
         "C1002",
         "Credit_Risk",
         "Customers with low credit scores",
         "2023-01-01T00:00:00Z"
        ],
        [
         "S0010",
         "C1002",
         "Credit_Risk",
         "Customers with low credit scores",
         "2023-01-01T00:00:00Z"
        ],
        [
         "S0011",
         "C1002",
         "Credit_Risk",
         "Customers with low credit scores",
         "2023-01-01T00:00:00Z"
        ],
        [
         "S0012",
         "C1002",
         "Credit_Risk",
         "Customers with low credit scores",
         "2023-01-01T00:00:00Z"
        ],
        [
         "S0013",
         "C1002",
         "Loyal",
         "Consistent activity for over 5 years",
         "2023-01-01T00:00:00Z"
        ],
        [
         "S0014",
         "C1002",
         "Loyal",
         "Consistent activity for over 5 years",
         "2023-01-01T00:00:00Z"
        ],
        [
         "S0015",
         "C1002",
         "Loyal",
         "Consistent activity for over 5 years",
         "2023-01-01T00:00:00Z"
        ],
        [
         "S0016",
         "C1002",
         "Loyal",
         "Consistent activity for over 5 years",
         "2023-01-01T00:00:00Z"
        ],
        [
         "S0017",
         "C1003",
         "Loyal",
         "Consistent activity for over 5 years",
         "2023-01-01T00:00:00Z"
        ],
        [
         "S0018",
         "C1003",
         "Loyal",
         "Consistent activity for over 5 years",
         "2023-01-01T00:00:00Z"
        ],
        [
         "S0019",
         "C1003",
         "Loyal",
         "Consistent activity for over 5 years",
         "2023-01-01T00:00:00Z"
        ],
        [
         "S0020",
         "C1003",
         "Loyal",
         "Consistent activity for over 5 years",
         "2023-01-01T00:00:00Z"
        ],
        [
         "S0021",
         "C1003",
         "Loyal",
         "Consistent activity for over 5 years",
         "2023-01-01T00:00:00Z"
        ],
        [
         "S0022",
         "C1004",
         "Credit_Risk",
         "Customers with low credit scores",
         "2023-01-01T00:00:00Z"
        ],
        [
         "S0023",
         "C1004",
         "Credit_Risk",
         "Customers with low credit scores",
         "2023-01-01T00:00:00Z"
        ],
        [
         "S0024",
         "C1004",
         "Credit_Risk",
         "Customers with low credit scores",
         "2023-01-01T00:00:00Z"
        ],
        [
         "S0025",
         "C1004",
         "Credit_Risk",
         "Customers with low credit scores",
         "2023-01-01T00:00:00Z"
        ],
        [
         "S0026",
         "C1004",
         "Credit_Risk",
         "Customers with low credit scores",
         "2023-01-01T00:00:00Z"
        ],
        [
         "S0027",
         "C1004",
         "Loyal",
         "Consistent activity for over 5 years",
         "2023-01-01T00:00:00Z"
        ],
        [
         "S0028",
         "C1004",
         "Loyal",
         "Consistent activity for over 5 years",
         "2023-01-01T00:00:00Z"
        ],
        [
         "S0029",
         "C1004",
         "Loyal",
         "Consistent activity for over 5 years",
         "2023-01-01T00:00:00Z"
        ],
        [
         "S0030",
         "C1004",
         "Loyal",
         "Consistent activity for over 5 years",
         "2023-01-01T00:00:00Z"
        ],
        [
         "S0031",
         "C1004",
         "Loyal",
         "Consistent activity for over 5 years",
         "2023-01-01T00:00:00Z"
        ],
        [
         "S0032",
         "C1005",
         "Credit_Risk",
         "Customers with low credit scores",
         "2023-01-01T00:00:00Z"
        ],
        [
         "S0033",
         "C1005",
         "Credit_Risk",
         "Customers with low credit scores",
         "2023-01-01T00:00:00Z"
        ],
        [
         "S0034",
         "C1005",
         "Credit_Risk",
         "Customers with low credit scores",
         "2023-01-01T00:00:00Z"
        ],
        [
         "S0035",
         "C1005",
         "Loyal",
         "Consistent activity for over 5 years",
         "2023-01-01T00:00:00Z"
        ],
        [
         "S0036",
         "C1005",
         "Loyal",
         "Consistent activity for over 5 years",
         "2023-01-01T00:00:00Z"
        ],
        [
         "S0037",
         "C1005",
         "Loyal",
         "Consistent activity for over 5 years",
         "2023-01-01T00:00:00Z"
        ],
        [
         "S0038",
         "C1006",
         "Loyal",
         "Consistent activity for over 5 years",
         "2023-01-01T00:00:00Z"
        ],
        [
         "S0039",
         "C1006",
         "Loyal",
         "Consistent activity for over 5 years",
         "2023-01-01T00:00:00Z"
        ],
        [
         "S0040",
         "C1006",
         "Loyal",
         "Consistent activity for over 5 years",
         "2023-01-01T00:00:00Z"
        ],
        [
         "S0041",
         "C1006",
         "Loyal",
         "Consistent activity for over 5 years",
         "2023-01-01T00:00:00Z"
        ],
        [
         "S0042",
         "C1007",
         "Credit_Risk",
         "Customers with low credit scores",
         "2023-01-01T00:00:00Z"
        ],
        [
         "S0043",
         "C1007",
         "Credit_Risk",
         "Customers with low credit scores",
         "2023-01-01T00:00:00Z"
        ],
        [
         "S0044",
         "C1007",
         "Credit_Risk",
         "Customers with low credit scores",
         "2023-01-01T00:00:00Z"
        ],
        [
         "S0045",
         "C1007",
         "Loyal",
         "Consistent activity for over 5 years",
         "2023-01-01T00:00:00Z"
        ],
        [
         "S0046",
         "C1007",
         "Loyal",
         "Consistent activity for over 5 years",
         "2023-01-01T00:00:00Z"
        ],
        [
         "S0047",
         "C1007",
         "Loyal",
         "Consistent activity for over 5 years",
         "2023-01-01T00:00:00Z"
        ],
        [
         "S0048",
         "C1008",
         "Credit_Risk",
         "Customers with low credit scores",
         "2023-01-01T00:00:00Z"
        ],
        [
         "S0049",
         "C1008",
         "Credit_Risk",
         "Customers with low credit scores",
         "2023-01-01T00:00:00Z"
        ],
        [
         "S0050",
         "C1008",
         "Credit_Risk",
         "Customers with low credit scores",
         "2023-01-01T00:00:00Z"
        ],
        [
         "S0051",
         "C1008",
         "Credit_Risk",
         "Customers with low credit scores",
         "2023-01-01T00:00:00Z"
        ],
        [
         "S0052",
         "C1008",
         "Loyal",
         "Consistent activity for over 5 years",
         "2023-01-01T00:00:00Z"
        ],
        [
         "S0053",
         "C1008",
         "Loyal",
         "Consistent activity for over 5 years",
         "2023-01-01T00:00:00Z"
        ],
        [
         "S0054",
         "C1008",
         "Loyal",
         "Consistent activity for over 5 years",
         "2023-01-01T00:00:00Z"
        ],
        [
         "S0055",
         "C1008",
         "Loyal",
         "Consistent activity for over 5 years",
         "2023-01-01T00:00:00Z"
        ],
        [
         "S0056",
         "C1009",
         "Credit_Risk",
         "Customers with low credit scores",
         "2023-01-01T00:00:00Z"
        ],
        [
         "S0057",
         "C1009",
         "Credit_Risk",
         "Customers with low credit scores",
         "2023-01-01T00:00:00Z"
        ],
        [
         "S0058",
         "C1009",
         "Credit_Risk",
         "Customers with low credit scores",
         "2023-01-01T00:00:00Z"
        ],
        [
         "S0059",
         "C1009",
         "Credit_Risk",
         "Customers with low credit scores",
         "2023-01-01T00:00:00Z"
        ],
        [
         "S0060",
         "C1009",
         "Credit_Risk",
         "Customers with low credit scores",
         "2023-01-01T00:00:00Z"
        ],
        [
         "S0061",
         "C1009",
         "Loyal",
         "Consistent activity for over 5 years",
         "2023-01-01T00:00:00Z"
        ],
        [
         "S0062",
         "C1009",
         "Loyal",
         "Consistent activity for over 5 years",
         "2023-01-01T00:00:00Z"
        ],
        [
         "S0063",
         "C1009",
         "Loyal",
         "Consistent activity for over 5 years",
         "2023-01-01T00:00:00Z"
        ],
        [
         "S0064",
         "C1009",
         "Loyal",
         "Consistent activity for over 5 years",
         "2023-01-01T00:00:00Z"
        ],
        [
         "S0065",
         "C1009",
         "Loyal",
         "Consistent activity for over 5 years",
         "2023-01-01T00:00:00Z"
        ],
        [
         "S0066",
         "C1010",
         "Credit_Risk",
         "Customers with low credit scores",
         "2023-01-01T00:00:00Z"
        ],
        [
         "S0067",
         "C1010",
         "Loyal",
         "Consistent activity for over 5 years",
         "2023-01-01T00:00:00Z"
        ],
        [
         "S0068",
         "C1011",
         "Loyal",
         "Consistent activity for over 5 years",
         "2023-01-01T00:00:00Z"
        ],
        [
         "S0069",
         "C1011",
         "Loyal",
         "Consistent activity for over 5 years",
         "2023-01-01T00:00:00Z"
        ],
        [
         "S0070",
         "C1011",
         "Loyal",
         "Consistent activity for over 5 years",
         "2023-01-01T00:00:00Z"
        ],
        [
         "S0071",
         "C1011",
         "Loyal",
         "Consistent activity for over 5 years",
         "2023-01-01T00:00:00Z"
        ],
        [
         "S0072",
         "C1011",
         "Loyal",
         "Consistent activity for over 5 years",
         "2023-01-01T00:00:00Z"
        ],
        [
         "S0073",
         "C1011",
         "Loyal",
         "Consistent activity for over 5 years",
         "2023-01-01T00:00:00Z"
        ],
        [
         "S0074",
         "C1012",
         "Loyal",
         "Consistent activity for over 5 years",
         "2023-01-01T00:00:00Z"
        ],
        [
         "S0075",
         "C1012",
         "Loyal",
         "Consistent activity for over 5 years",
         "2023-01-01T00:00:00Z"
        ],
        [
         "S0076",
         "C1012",
         "Loyal",
         "Consistent activity for over 5 years",
         "2023-01-01T00:00:00Z"
        ],
        [
         "S0077",
         "C1012",
         "Loyal",
         "Consistent activity for over 5 years",
         "2023-01-01T00:00:00Z"
        ],
        [
         "S0078",
         "C1012",
         "Loyal",
         "Consistent activity for over 5 years",
         "2023-01-01T00:00:00Z"
        ],
        [
         "S0079",
         "C1012",
         "Loyal",
         "Consistent activity for over 5 years",
         "2023-01-01T00:00:00Z"
        ],
        [
         "S0080",
         "C1012",
         "Loyal",
         "Consistent activity for over 5 years",
         "2023-01-01T00:00:00Z"
        ],
        [
         "S0081",
         "C1013",
         "Credit_Risk",
         "Customers with low credit scores",
         "2023-01-01T00:00:00Z"
        ],
        [
         "S0082",
         "C1013",
         "Credit_Risk",
         "Customers with low credit scores",
         "2023-01-01T00:00:00Z"
        ],
        [
         "S0083",
         "C1013",
         "Loyal",
         "Consistent activity for over 5 years",
         "2023-01-01T00:00:00Z"
        ],
        [
         "S0084",
         "C1013",
         "Loyal",
         "Consistent activity for over 5 years",
         "2023-01-01T00:00:00Z"
        ],
        [
         "S0085",
         "C1015",
         "Loyal",
         "Consistent activity for over 5 years",
         "2023-01-01T00:00:00Z"
        ],
        [
         "S0086",
         "C1016",
         "Credit_Risk",
         "Customers with low credit scores",
         "2023-01-01T00:00:00Z"
        ],
        [
         "S0087",
         "C1016",
         "Credit_Risk",
         "Customers with low credit scores",
         "2023-01-01T00:00:00Z"
        ],
        [
         "S0088",
         "C1016",
         "Credit_Risk",
         "Customers with low credit scores",
         "2023-01-01T00:00:00Z"
        ],
        [
         "S0089",
         "C1016",
         "Credit_Risk",
         "Customers with low credit scores",
         "2023-01-01T00:00:00Z"
        ],
        [
         "S0090",
         "C1016",
         "Loyal",
         "Consistent activity for over 5 years",
         "2023-01-01T00:00:00Z"
        ],
        [
         "S0091",
         "C1016",
         "Loyal",
         "Consistent activity for over 5 years",
         "2023-01-01T00:00:00Z"
        ],
        [
         "S0092",
         "C1016",
         "Loyal",
         "Consistent activity for over 5 years",
         "2023-01-01T00:00:00Z"
        ],
        [
         "S0093",
         "C1016",
         "Loyal",
         "Consistent activity for over 5 years",
         "2023-01-01T00:00:00Z"
        ],
        [
         "S0094",
         "C1017",
         "Loyal",
         "Consistent activity for over 5 years",
         "2023-01-01T00:00:00Z"
        ],
        [
         "S0095",
         "C1017",
         "Loyal",
         "Consistent activity for over 5 years",
         "2023-01-01T00:00:00Z"
        ],
        [
         "S0096",
         "C1017",
         "Loyal",
         "Consistent activity for over 5 years",
         "2023-01-01T00:00:00Z"
        ],
        [
         "S0097",
         "C1017",
         "Loyal",
         "Consistent activity for over 5 years",
         "2023-01-01T00:00:00Z"
        ],
        [
         "S0098",
         "C1018",
         "Credit_Risk",
         "Customers with low credit scores",
         "2023-01-01T00:00:00Z"
        ],
        [
         "S0099",
         "C1018",
         "Credit_Risk",
         "Customers with low credit scores",
         "2023-01-01T00:00:00Z"
        ],
        [
         "S00100",
         "C1018",
         "Credit_Risk",
         "Customers with low credit scores",
         "2023-01-01T00:00:00Z"
        ],
        [
         "S00101",
         "C1018",
         "Credit_Risk",
         "Customers with low credit scores",
         "2023-01-01T00:00:00Z"
        ],
        [
         "S00102",
         "C1018",
         "Credit_Risk",
         "Customers with low credit scores",
         "2023-01-01T00:00:00Z"
        ],
        [
         "S00103",
         "C1018",
         "Loyal",
         "Consistent activity for over 5 years",
         "2023-01-01T00:00:00Z"
        ],
        [
         "S00104",
         "C1018",
         "Loyal",
         "Consistent activity for over 5 years",
         "2023-01-01T00:00:00Z"
        ],
        [
         "S00105",
         "C1018",
         "Loyal",
         "Consistent activity for over 5 years",
         "2023-01-01T00:00:00Z"
        ],
        [
         "S00106",
         "C1018",
         "Loyal",
         "Consistent activity for over 5 years",
         "2023-01-01T00:00:00Z"
        ],
        [
         "S00107",
         "C1018",
         "Loyal",
         "Consistent activity for over 5 years",
         "2023-01-01T00:00:00Z"
        ],
        [
         "S00108",
         "C1019",
         "Loyal",
         "Consistent activity for over 5 years",
         "2023-01-01T00:00:00Z"
        ],
        [
         "S00109",
         "C1019",
         "Loyal",
         "Consistent activity for over 5 years",
         "2023-01-01T00:00:00Z"
        ],
        [
         "S00110",
         "C1019",
         "Loyal",
         "Consistent activity for over 5 years",
         "2023-01-01T00:00:00Z"
        ],
        [
         "S00111",
         "C1019",
         "Loyal",
         "Consistent activity for over 5 years",
         "2023-01-01T00:00:00Z"
        ],
        [
         "S00112",
         "C1020",
         "Credit_Risk",
         "Customers with low credit scores",
         "2023-01-01T00:00:00Z"
        ],
        [
         "S00113",
         "C1020",
         "Loyal",
         "Consistent activity for over 5 years",
         "2023-01-01T00:00:00Z"
        ],
        [
         "S00114",
         "C1021",
         "Credit_Risk",
         "Customers with low credit scores",
         "2023-01-01T00:00:00Z"
        ],
        [
         "S00115",
         "C1021",
         "Credit_Risk",
         "Customers with low credit scores",
         "2023-01-01T00:00:00Z"
        ],
        [
         "S00116",
         "C1021",
         "Loyal",
         "Consistent activity for over 5 years",
         "2023-01-01T00:00:00Z"
        ],
        [
         "S00117",
         "C1021",
         "Loyal",
         "Consistent activity for over 5 years",
         "2023-01-01T00:00:00Z"
        ],
        [
         "S00118",
         "C1022",
         "Credit_Risk",
         "Customers with low credit scores",
         "2023-01-01T00:00:00Z"
        ],
        [
         "S00119",
         "C1022",
         "Credit_Risk",
         "Customers with low credit scores",
         "2023-01-01T00:00:00Z"
        ],
        [
         "S00120",
         "C1022",
         "Loyal",
         "Consistent activity for over 5 years",
         "2023-01-01T00:00:00Z"
        ],
        [
         "S00121",
         "C1022",
         "Loyal",
         "Consistent activity for over 5 years",
         "2023-01-01T00:00:00Z"
        ],
        [
         "S00122",
         "C1023",
         "Loyal",
         "Consistent activity for over 5 years",
         "2023-01-01T00:00:00Z"
        ],
        [
         "S00123",
         "C1023",
         "Loyal",
         "Consistent activity for over 5 years",
         "2023-01-01T00:00:00Z"
        ],
        [
         "S00124",
         "C1023",
         "Loyal",
         "Consistent activity for over 5 years",
         "2023-01-01T00:00:00Z"
        ],
        [
         "S00125",
         "C1024",
         "Loyal",
         "Consistent activity for over 5 years",
         "2023-01-01T00:00:00Z"
        ],
        [
         "S00126",
         "C1024",
         "Loyal",
         "Consistent activity for over 5 years",
         "2023-01-01T00:00:00Z"
        ],
        [
         "S00127",
         "C1024",
         "Loyal",
         "Consistent activity for over 5 years",
         "2023-01-01T00:00:00Z"
        ],
        [
         "S00128",
         "C1024",
         "Loyal",
         "Consistent activity for over 5 years",
         "2023-01-01T00:00:00Z"
        ],
        [
         "S00129",
         "C1024",
         "Loyal",
         "Consistent activity for over 5 years",
         "2023-01-01T00:00:00Z"
        ],
        [
         "S00130",
         "C1025",
         "Loyal",
         "Consistent activity for over 5 years",
         "2023-01-01T00:00:00Z"
        ],
        [
         "S00131",
         "C1025",
         "Loyal",
         "Consistent activity for over 5 years",
         "2023-01-01T00:00:00Z"
        ],
        [
         "S00132",
         "C1025",
         "Loyal",
         "Consistent activity for over 5 years",
         "2023-01-01T00:00:00Z"
        ],
        [
         "S00133",
         "C1026",
         "Loyal",
         "Consistent activity for over 5 years",
         "2023-01-01T00:00:00Z"
        ],
        [
         "S00134",
         "C1026",
         "Loyal",
         "Consistent activity for over 5 years",
         "2023-01-01T00:00:00Z"
        ],
        [
         "S00135",
         "C1026",
         "Loyal",
         "Consistent activity for over 5 years",
         "2023-01-01T00:00:00Z"
        ],
        [
         "S00136",
         "C1026",
         "Loyal",
         "Consistent activity for over 5 years",
         "2023-01-01T00:00:00Z"
        ],
        [
         "S00137",
         "C1026",
         "Loyal",
         "Consistent activity for over 5 years",
         "2023-01-01T00:00:00Z"
        ],
        [
         "S00138",
         "C1027",
         "Loyal",
         "Consistent activity for over 5 years",
         "2023-01-01T00:00:00Z"
        ],
        [
         "S00139",
         "C1027",
         "Loyal",
         "Consistent activity for over 5 years",
         "2023-01-01T00:00:00Z"
        ],
        [
         "S00140",
         "C1027",
         "Loyal",
         "Consistent activity for over 5 years",
         "2023-01-01T00:00:00Z"
        ],
        [
         "S00141",
         "C1027",
         "Loyal",
         "Consistent activity for over 5 years",
         "2023-01-01T00:00:00Z"
        ],
        [
         "S00142",
         "C1028",
         "Credit_Risk",
         "Customers with low credit scores",
         "2023-01-01T00:00:00Z"
        ],
        [
         "S00143",
         "C1028",
         "Credit_Risk",
         "Customers with low credit scores",
         "2023-01-01T00:00:00Z"
        ],
        [
         "S00144",
         "C1028",
         "Credit_Risk",
         "Customers with low credit scores",
         "2023-01-01T00:00:00Z"
        ],
        [
         "S00145",
         "C1028",
         "Credit_Risk",
         "Customers with low credit scores",
         "2023-01-01T00:00:00Z"
        ],
        [
         "S00146",
         "C1028",
         "Loyal",
         "Consistent activity for over 5 years",
         "2023-01-01T00:00:00Z"
        ],
        [
         "S00147",
         "C1028",
         "Loyal",
         "Consistent activity for over 5 years",
         "2023-01-01T00:00:00Z"
        ],
        [
         "S00148",
         "C1028",
         "Loyal",
         "Consistent activity for over 5 years",
         "2023-01-01T00:00:00Z"
        ],
        [
         "S00149",
         "C1028",
         "Loyal",
         "Consistent activity for over 5 years",
         "2023-01-01T00:00:00Z"
        ],
        [
         "S00150",
         "C1029",
         "Loyal",
         "Consistent activity for over 5 years",
         "2023-01-01T00:00:00Z"
        ],
        [
         "S00151",
         "C1029",
         "Loyal",
         "Consistent activity for over 5 years",
         "2023-01-01T00:00:00Z"
        ],
        [
         "S00152",
         "C1029",
         "Loyal",
         "Consistent activity for over 5 years",
         "2023-01-01T00:00:00Z"
        ],
        [
         "S00153",
         "C1030",
         "Loyal",
         "Consistent activity for over 5 years",
         "2023-01-01T00:00:00Z"
        ],
        [
         "S00154",
         "C1030",
         "Loyal",
         "Consistent activity for over 5 years",
         "2023-01-01T00:00:00Z"
        ],
        [
         "S00155",
         "C1030",
         "Loyal",
         "Consistent activity for over 5 years",
         "2023-01-01T00:00:00Z"
        ],
        [
         "S00156",
         "C1030",
         "Loyal",
         "Consistent activity for over 5 years",
         "2023-01-01T00:00:00Z"
        ],
        [
         "S00157",
         "C1031",
         "Loyal",
         "Consistent activity for over 5 years",
         "2023-01-01T00:00:00Z"
        ],
        [
         "S00158",
         "C1031",
         "Loyal",
         "Consistent activity for over 5 years",
         "2023-01-01T00:00:00Z"
        ],
        [
         "S00159",
         "C1031",
         "Loyal",
         "Consistent activity for over 5 years",
         "2023-01-01T00:00:00Z"
        ],
        [
         "S00160",
         "C1031",
         "Loyal",
         "Consistent activity for over 5 years",
         "2023-01-01T00:00:00Z"
        ],
        [
         "S00161",
         "C1031",
         "Loyal",
         "Consistent activity for over 5 years",
         "2023-01-01T00:00:00Z"
        ],
        [
         "S00162",
         "C1031",
         "Loyal",
         "Consistent activity for over 5 years",
         "2023-01-01T00:00:00Z"
        ],
        [
         "S00163",
         "C1031",
         "Loyal",
         "Consistent activity for over 5 years",
         "2023-01-01T00:00:00Z"
        ],
        [
         "S00164",
         "C1033",
         "Credit_Risk",
         "Customers with low credit scores",
         "2023-01-01T00:00:00Z"
        ],
        [
         "S00165",
         "C1033",
         "Credit_Risk",
         "Customers with low credit scores",
         "2023-01-01T00:00:00Z"
        ],
        [
         "S00166",
         "C1033",
         "Credit_Risk",
         "Customers with low credit scores",
         "2023-01-01T00:00:00Z"
        ],
        [
         "S00167",
         "C1033",
         "Loyal",
         "Consistent activity for over 5 years",
         "2023-01-01T00:00:00Z"
        ],
        [
         "S00168",
         "C1033",
         "Loyal",
         "Consistent activity for over 5 years",
         "2023-01-01T00:00:00Z"
        ],
        [
         "S00169",
         "C1033",
         "Loyal",
         "Consistent activity for over 5 years",
         "2023-01-01T00:00:00Z"
        ],
        [
         "S00170",
         "C1034",
         "Loyal",
         "Consistent activity for over 5 years",
         "2023-01-01T00:00:00Z"
        ],
        [
         "S00171",
         "C1035",
         "Loyal",
         "Consistent activity for over 5 years",
         "2023-01-01T00:00:00Z"
        ],
        [
         "S00172",
         "C1036",
         "Credit_Risk",
         "Customers with low credit scores",
         "2023-01-01T00:00:00Z"
        ],
        [
         "S00173",
         "C1036",
         "Credit_Risk",
         "Customers with low credit scores",
         "2023-01-01T00:00:00Z"
        ],
        [
         "S00174",
         "C1036",
         "Credit_Risk",
         "Customers with low credit scores",
         "2023-01-01T00:00:00Z"
        ],
        [
         "S00175",
         "C1036",
         "Credit_Risk",
         "Customers with low credit scores",
         "2023-01-01T00:00:00Z"
        ],
        [
         "S00176",
         "C1036",
         "Credit_Risk",
         "Customers with low credit scores",
         "2023-01-01T00:00:00Z"
        ],
        [
         "S00177",
         "C1036",
         "Loyal",
         "Consistent activity for over 5 years",
         "2023-01-01T00:00:00Z"
        ],
        [
         "S00178",
         "C1036",
         "Loyal",
         "Consistent activity for over 5 years",
         "2023-01-01T00:00:00Z"
        ],
        [
         "S00179",
         "C1036",
         "Loyal",
         "Consistent activity for over 5 years",
         "2023-01-01T00:00:00Z"
        ],
        [
         "S00180",
         "C1036",
         "Loyal",
         "Consistent activity for over 5 years",
         "2023-01-01T00:00:00Z"
        ],
        [
         "S00181",
         "C1036",
         "Loyal",
         "Consistent activity for over 5 years",
         "2023-01-01T00:00:00Z"
        ],
        [
         "S00182",
         "C1037",
         "Loyal",
         "Consistent activity for over 5 years",
         "2023-01-01T00:00:00Z"
        ],
        [
         "S00183",
         "C1037",
         "Loyal",
         "Consistent activity for over 5 years",
         "2023-01-01T00:00:00Z"
        ],
        [
         "S00184",
         "C1037",
         "Loyal",
         "Consistent activity for over 5 years",
         "2023-01-01T00:00:00Z"
        ],
        [
         "S00185",
         "C1037",
         "Loyal",
         "Consistent activity for over 5 years",
         "2023-01-01T00:00:00Z"
        ],
        [
         "S00186",
         "C1037",
         "Loyal",
         "Consistent activity for over 5 years",
         "2023-01-01T00:00:00Z"
        ],
        [
         "S00187",
         "C1038",
         "Loyal",
         "Consistent activity for over 5 years",
         "2023-01-01T00:00:00Z"
        ],
        [
         "S00188",
         "C1038",
         "Loyal",
         "Consistent activity for over 5 years",
         "2023-01-01T00:00:00Z"
        ],
        [
         "S00189",
         "C1039",
         "Credit_Risk",
         "Customers with low credit scores",
         "2023-01-01T00:00:00Z"
        ],
        [
         "S00190",
         "C1039",
         "Credit_Risk",
         "Customers with low credit scores",
         "2023-01-01T00:00:00Z"
        ],
        [
         "S00191",
         "C1039",
         "Credit_Risk",
         "Customers with low credit scores",
         "2023-01-01T00:00:00Z"
        ],
        [
         "S00192",
         "C1039",
         "Credit_Risk",
         "Customers with low credit scores",
         "2023-01-01T00:00:00Z"
        ],
        [
         "S00193",
         "C1039",
         "Credit_Risk",
         "Customers with low credit scores",
         "2023-01-01T00:00:00Z"
        ],
        [
         "S00194",
         "C1039",
         "Credit_Risk",
         "Customers with low credit scores",
         "2023-01-01T00:00:00Z"
        ],
        [
         "S00195",
         "C1039",
         "Credit_Risk",
         "Customers with low credit scores",
         "2023-01-01T00:00:00Z"
        ],
        [
         "S00196",
         "C1039",
         "Credit_Risk",
         "Customers with low credit scores",
         "2023-01-01T00:00:00Z"
        ],
        [
         "S00197",
         "C1039",
         "Credit_Risk",
         "Customers with low credit scores",
         "2023-01-01T00:00:00Z"
        ],
        [
         "S00198",
         "C1039",
         "Loyal",
         "Consistent activity for over 5 years",
         "2023-01-01T00:00:00Z"
        ],
        [
         "S00199",
         "C1039",
         "Loyal",
         "Consistent activity for over 5 years",
         "2023-01-01T00:00:00Z"
        ],
        [
         "S00200",
         "C1039",
         "Loyal",
         "Consistent activity for over 5 years",
         "2023-01-01T00:00:00Z"
        ],
        [
         "S00201",
         "C1039",
         "Loyal",
         "Consistent activity for over 5 years",
         "2023-01-01T00:00:00Z"
        ],
        [
         "S00202",
         "C1039",
         "Loyal",
         "Consistent activity for over 5 years",
         "2023-01-01T00:00:00Z"
        ],
        [
         "S00203",
         "C1039",
         "Loyal",
         "Consistent activity for over 5 years",
         "2023-01-01T00:00:00Z"
        ],
        [
         "S00204",
         "C1039",
         "Loyal",
         "Consistent activity for over 5 years",
         "2023-01-01T00:00:00Z"
        ],
        [
         "S00205",
         "C1039",
         "Loyal",
         "Consistent activity for over 5 years",
         "2023-01-01T00:00:00Z"
        ],
        [
         "S00206",
         "C1039",
         "Loyal",
         "Consistent activity for over 5 years",
         "2023-01-01T00:00:00Z"
        ],
        [
         "S00207",
         "C1040",
         "Loyal",
         "Consistent activity for over 5 years",
         "2023-01-01T00:00:00Z"
        ],
        [
         "S00208",
         "C1040",
         "Loyal",
         "Consistent activity for over 5 years",
         "2023-01-01T00:00:00Z"
        ],
        [
         "S00209",
         "C1041",
         "Credit_Risk",
         "Customers with low credit scores",
         "2023-01-01T00:00:00Z"
        ],
        [
         "S00210",
         "C1041",
         "Credit_Risk",
         "Customers with low credit scores",
         "2023-01-01T00:00:00Z"
        ],
        [
         "S00211",
         "C1041",
         "Credit_Risk",
         "Customers with low credit scores",
         "2023-01-01T00:00:00Z"
        ],
        [
         "S00212",
         "C1041",
         "Loyal",
         "Consistent activity for over 5 years",
         "2023-01-01T00:00:00Z"
        ],
        [
         "S00213",
         "C1041",
         "Loyal",
         "Consistent activity for over 5 years",
         "2023-01-01T00:00:00Z"
        ],
        [
         "S00214",
         "C1041",
         "Loyal",
         "Consistent activity for over 5 years",
         "2023-01-01T00:00:00Z"
        ],
        [
         "S00215",
         "C1042",
         "Credit_Risk",
         "Customers with low credit scores",
         "2023-01-01T00:00:00Z"
        ],
        [
         "S00216",
         "C1042",
         "Credit_Risk",
         "Customers with low credit scores",
         "2023-01-01T00:00:00Z"
        ],
        [
         "S00217",
         "C1042",
         "Credit_Risk",
         "Customers with low credit scores",
         "2023-01-01T00:00:00Z"
        ],
        [
         "S00218",
         "C1042",
         "Credit_Risk",
         "Customers with low credit scores",
         "2023-01-01T00:00:00Z"
        ],
        [
         "S00219",
         "C1042",
         "Loyal",
         "Consistent activity for over 5 years",
         "2023-01-01T00:00:00Z"
        ],
        [
         "S00220",
         "C1042",
         "Loyal",
         "Consistent activity for over 5 years",
         "2023-01-01T00:00:00Z"
        ],
        [
         "S00221",
         "C1042",
         "Loyal",
         "Consistent activity for over 5 years",
         "2023-01-01T00:00:00Z"
        ],
        [
         "S00222",
         "C1042",
         "Loyal",
         "Consistent activity for over 5 years",
         "2023-01-01T00:00:00Z"
        ],
        [
         "S00223",
         "C1043",
         "Credit_Risk",
         "Customers with low credit scores",
         "2023-01-01T00:00:00Z"
        ],
        [
         "S00224",
         "C1043",
         "Credit_Risk",
         "Customers with low credit scores",
         "2023-01-01T00:00:00Z"
        ],
        [
         "S00225",
         "C1043",
         "Credit_Risk",
         "Customers with low credit scores",
         "2023-01-01T00:00:00Z"
        ],
        [
         "S00226",
         "C1043",
         "Loyal",
         "Consistent activity for over 5 years",
         "2023-01-01T00:00:00Z"
        ],
        [
         "S00227",
         "C1043",
         "Loyal",
         "Consistent activity for over 5 years",
         "2023-01-01T00:00:00Z"
        ],
        [
         "S00228",
         "C1043",
         "Loyal",
         "Consistent activity for over 5 years",
         "2023-01-01T00:00:00Z"
        ],
        [
         "S00229",
         "C1044",
         "Loyal",
         "Consistent activity for over 5 years",
         "2023-01-01T00:00:00Z"
        ],
        [
         "S00230",
         "C1045",
         "Loyal",
         "Consistent activity for over 5 years",
         "2023-01-01T00:00:00Z"
        ],
        [
         "S00231",
         "C1046",
         "Loyal",
         "Consistent activity for over 5 years",
         "2023-01-01T00:00:00Z"
        ],
        [
         "S00232",
         "C1046",
         "Loyal",
         "Consistent activity for over 5 years",
         "2023-01-01T00:00:00Z"
        ],
        [
         "S00233",
         "C1046",
         "Loyal",
         "Consistent activity for over 5 years",
         "2023-01-01T00:00:00Z"
        ],
        [
         "S00234",
         "C1046",
         "Loyal",
         "Consistent activity for over 5 years",
         "2023-01-01T00:00:00Z"
        ],
        [
         "S00235",
         "C1046",
         "Loyal",
         "Consistent activity for over 5 years",
         "2023-01-01T00:00:00Z"
        ],
        [
         "S00236",
         "C1046",
         "Loyal",
         "Consistent activity for over 5 years",
         "2023-01-01T00:00:00Z"
        ],
        [
         "S00237",
         "C1046",
         "Loyal",
         "Consistent activity for over 5 years",
         "2023-01-01T00:00:00Z"
        ],
        [
         "S00238",
         "C1047",
         "Loyal",
         "Consistent activity for over 5 years",
         "2023-01-01T00:00:00Z"
        ],
        [
         "S00239",
         "C1047",
         "Loyal",
         "Consistent activity for over 5 years",
         "2023-01-01T00:00:00Z"
        ],
        [
         "S00240",
         "C1050",
         "Loyal",
         "Consistent activity for over 5 years",
         "2023-01-01T00:00:00Z"
        ],
        [
         "S00241",
         "C1050",
         "Loyal",
         "Consistent activity for over 5 years",
         "2023-01-01T00:00:00Z"
        ],
        [
         "S00242",
         "C1051",
         "Loyal",
         "Consistent activity for over 5 years",
         "2023-01-01T00:00:00Z"
        ],
        [
         "S00243",
         "C1053",
         "Credit_Risk",
         "Customers with low credit scores",
         "2023-01-01T00:00:00Z"
        ],
        [
         "S00244",
         "C1053",
         "Credit_Risk",
         "Customers with low credit scores",
         "2023-01-01T00:00:00Z"
        ],
        [
         "S00245",
         "C1053",
         "Credit_Risk",
         "Customers with low credit scores",
         "2023-01-01T00:00:00Z"
        ],
        [
         "S00246",
         "C1053",
         "Credit_Risk",
         "Customers with low credit scores",
         "2023-01-01T00:00:00Z"
        ],
        [
         "S00247",
         "C1053",
         "Loyal",
         "Consistent activity for over 5 years",
         "2023-01-01T00:00:00Z"
        ],
        [
         "S00248",
         "C1053",
         "Loyal",
         "Consistent activity for over 5 years",
         "2023-01-01T00:00:00Z"
        ],
        [
         "S00249",
         "C1053",
         "Loyal",
         "Consistent activity for over 5 years",
         "2023-01-01T00:00:00Z"
        ],
        [
         "S00250",
         "C1053",
         "Loyal",
         "Consistent activity for over 5 years",
         "2023-01-01T00:00:00Z"
        ],
        [
         "S00251",
         "C1054",
         "Credit_Risk",
         "Customers with low credit scores",
         "2023-01-01T00:00:00Z"
        ],
        [
         "S00252",
         "C1054",
         "Credit_Risk",
         "Customers with low credit scores",
         "2023-01-01T00:00:00Z"
        ],
        [
         "S00253",
         "C1054",
         "Credit_Risk",
         "Customers with low credit scores",
         "2023-01-01T00:00:00Z"
        ],
        [
         "S00254",
         "C1054",
         "Credit_Risk",
         "Customers with low credit scores",
         "2023-01-01T00:00:00Z"
        ],
        [
         "S00255",
         "C1054",
         "Credit_Risk",
         "Customers with low credit scores",
         "2023-01-01T00:00:00Z"
        ],
        [
         "S00256",
         "C1054",
         "Credit_Risk",
         "Customers with low credit scores",
         "2023-01-01T00:00:00Z"
        ],
        [
         "S00257",
         "C1054",
         "Credit_Risk",
         "Customers with low credit scores",
         "2023-01-01T00:00:00Z"
        ],
        [
         "S00258",
         "C1054",
         "Loyal",
         "Consistent activity for over 5 years",
         "2023-01-01T00:00:00Z"
        ],
        [
         "S00259",
         "C1054",
         "Loyal",
         "Consistent activity for over 5 years",
         "2023-01-01T00:00:00Z"
        ],
        [
         "S00260",
         "C1054",
         "Loyal",
         "Consistent activity for over 5 years",
         "2023-01-01T00:00:00Z"
        ],
        [
         "S00261",
         "C1054",
         "Loyal",
         "Consistent activity for over 5 years",
         "2023-01-01T00:00:00Z"
        ],
        [
         "S00262",
         "C1054",
         "Loyal",
         "Consistent activity for over 5 years",
         "2023-01-01T00:00:00Z"
        ],
        [
         "S00263",
         "C1054",
         "Loyal",
         "Consistent activity for over 5 years",
         "2023-01-01T00:00:00Z"
        ],
        [
         "S00264",
         "C1054",
         "Loyal",
         "Consistent activity for over 5 years",
         "2023-01-01T00:00:00Z"
        ],
        [
         "S00265",
         "C1055",
         "Credit_Risk",
         "Customers with low credit scores",
         "2023-01-01T00:00:00Z"
        ],
        [
         "S00266",
         "C1055",
         "Loyal",
         "Consistent activity for over 5 years",
         "2023-01-01T00:00:00Z"
        ],
        [
         "S00267",
         "C1056",
         "Loyal",
         "Consistent activity for over 5 years",
         "2023-01-01T00:00:00Z"
        ],
        [
         "S00268",
         "C1057",
         "Loyal",
         "Consistent activity for over 5 years",
         "2023-01-01T00:00:00Z"
        ],
        [
         "S00269",
         "C1057",
         "Loyal",
         "Consistent activity for over 5 years",
         "2023-01-01T00:00:00Z"
        ],
        [
         "S00270",
         "C1057",
         "Loyal",
         "Consistent activity for over 5 years",
         "2023-01-01T00:00:00Z"
        ],
        [
         "S00271",
         "C1058",
         "Credit_Risk",
         "Customers with low credit scores",
         "2023-01-01T00:00:00Z"
        ],
        [
         "S00272",
         "C1058",
         "Credit_Risk",
         "Customers with low credit scores",
         "2023-01-01T00:00:00Z"
        ],
        [
         "S00273",
         "C1058",
         "Credit_Risk",
         "Customers with low credit scores",
         "2023-01-01T00:00:00Z"
        ],
        [
         "S00274",
         "C1058",
         "Credit_Risk",
         "Customers with low credit scores",
         "2023-01-01T00:00:00Z"
        ],
        [
         "S00275",
         "C1058",
         "Loyal",
         "Consistent activity for over 5 years",
         "2023-01-01T00:00:00Z"
        ],
        [
         "S00276",
         "C1058",
         "Loyal",
         "Consistent activity for over 5 years",
         "2023-01-01T00:00:00Z"
        ],
        [
         "S00277",
         "C1058",
         "Loyal",
         "Consistent activity for over 5 years",
         "2023-01-01T00:00:00Z"
        ],
        [
         "S00278",
         "C1058",
         "Loyal",
         "Consistent activity for over 5 years",
         "2023-01-01T00:00:00Z"
        ],
        [
         "S00279",
         "C1059",
         "Loyal",
         "Consistent activity for over 5 years",
         "2023-01-01T00:00:00Z"
        ],
        [
         "S00280",
         "C1059",
         "Loyal",
         "Consistent activity for over 5 years",
         "2023-01-01T00:00:00Z"
        ],
        [
         "S00281",
         "C1059",
         "Loyal",
         "Consistent activity for over 5 years",
         "2023-01-01T00:00:00Z"
        ],
        [
         "S00282",
         "C1059",
         "Loyal",
         "Consistent activity for over 5 years",
         "2023-01-01T00:00:00Z"
        ],
        [
         "S00283",
         "C1061",
         "Loyal",
         "Consistent activity for over 5 years",
         "2023-01-01T00:00:00Z"
        ],
        [
         "S00284",
         "C1062",
         "Loyal",
         "Consistent activity for over 5 years",
         "2023-01-01T00:00:00Z"
        ],
        [
         "S00285",
         "C1063",
         "Loyal",
         "Consistent activity for over 5 years",
         "2023-01-01T00:00:00Z"
        ],
        [
         "S00286",
         "C1063",
         "Loyal",
         "Consistent activity for over 5 years",
         "2023-01-01T00:00:00Z"
        ],
        [
         "S00287",
         "C1064",
         "Credit_Risk",
         "Customers with low credit scores",
         "2023-01-01T00:00:00Z"
        ],
        [
         "S00288",
         "C1064",
         "Credit_Risk",
         "Customers with low credit scores",
         "2023-01-01T00:00:00Z"
        ],
        [
         "S00289",
         "C1064",
         "Credit_Risk",
         "Customers with low credit scores",
         "2023-01-01T00:00:00Z"
        ],
        [
         "S00290",
         "C1064",
         "Credit_Risk",
         "Customers with low credit scores",
         "2023-01-01T00:00:00Z"
        ],
        [
         "S00291",
         "C1064",
         "Loyal",
         "Consistent activity for over 5 years",
         "2023-01-01T00:00:00Z"
        ],
        [
         "S00292",
         "C1064",
         "Loyal",
         "Consistent activity for over 5 years",
         "2023-01-01T00:00:00Z"
        ],
        [
         "S00293",
         "C1064",
         "Loyal",
         "Consistent activity for over 5 years",
         "2023-01-01T00:00:00Z"
        ],
        [
         "S00294",
         "C1064",
         "Loyal",
         "Consistent activity for over 5 years",
         "2023-01-01T00:00:00Z"
        ],
        [
         "S00295",
         "C1065",
         "Credit_Risk",
         "Customers with low credit scores",
         "2023-01-01T00:00:00Z"
        ],
        [
         "S00296",
         "C1065",
         "Credit_Risk",
         "Customers with low credit scores",
         "2023-01-01T00:00:00Z"
        ],
        [
         "S00297",
         "C1065",
         "Credit_Risk",
         "Customers with low credit scores",
         "2023-01-01T00:00:00Z"
        ],
        [
         "S00298",
         "C1065",
         "Credit_Risk",
         "Customers with low credit scores",
         "2023-01-01T00:00:00Z"
        ],
        [
         "S00299",
         "C1065",
         "Credit_Risk",
         "Customers with low credit scores",
         "2023-01-01T00:00:00Z"
        ],
        [
         "S00300",
         "C1065",
         "Credit_Risk",
         "Customers with low credit scores",
         "2023-01-01T00:00:00Z"
        ],
        [
         "S00301",
         "C1065",
         "Credit_Risk",
         "Customers with low credit scores",
         "2023-01-01T00:00:00Z"
        ],
        [
         "S00302",
         "C1065",
         "Loyal",
         "Consistent activity for over 5 years",
         "2023-01-01T00:00:00Z"
        ],
        [
         "S00303",
         "C1065",
         "Loyal",
         "Consistent activity for over 5 years",
         "2023-01-01T00:00:00Z"
        ],
        [
         "S00304",
         "C1065",
         "Loyal",
         "Consistent activity for over 5 years",
         "2023-01-01T00:00:00Z"
        ],
        [
         "S00305",
         "C1065",
         "Loyal",
         "Consistent activity for over 5 years",
         "2023-01-01T00:00:00Z"
        ],
        [
         "S00306",
         "C1065",
         "Loyal",
         "Consistent activity for over 5 years",
         "2023-01-01T00:00:00Z"
        ],
        [
         "S00307",
         "C1065",
         "Loyal",
         "Consistent activity for over 5 years",
         "2023-01-01T00:00:00Z"
        ],
        [
         "S00308",
         "C1065",
         "Loyal",
         "Consistent activity for over 5 years",
         "2023-01-01T00:00:00Z"
        ],
        [
         "S00309",
         "C1066",
         "Credit_Risk",
         "Customers with low credit scores",
         "2023-01-01T00:00:00Z"
        ],
        [
         "S00310",
         "C1066",
         "Loyal",
         "Consistent activity for over 5 years",
         "2023-01-01T00:00:00Z"
        ],
        [
         "S00311",
         "C1067",
         "Loyal",
         "Consistent activity for over 5 years",
         "2023-01-01T00:00:00Z"
        ],
        [
         "S00312",
         "C1067",
         "Loyal",
         "Consistent activity for over 5 years",
         "2023-01-01T00:00:00Z"
        ],
        [
         "S00313",
         "C1067",
         "Loyal",
         "Consistent activity for over 5 years",
         "2023-01-01T00:00:00Z"
        ],
        [
         "S00314",
         "C1067",
         "Loyal",
         "Consistent activity for over 5 years",
         "2023-01-01T00:00:00Z"
        ],
        [
         "S00315",
         "C1068",
         "Loyal",
         "Consistent activity for over 5 years",
         "2023-01-01T00:00:00Z"
        ],
        [
         "S00316",
         "C1068",
         "Loyal",
         "Consistent activity for over 5 years",
         "2023-01-01T00:00:00Z"
        ],
        [
         "S00317",
         "C1068",
         "Loyal",
         "Consistent activity for over 5 years",
         "2023-01-01T00:00:00Z"
        ],
        [
         "S00318",
         "C1068",
         "Loyal",
         "Consistent activity for over 5 years",
         "2023-01-01T00:00:00Z"
        ],
        [
         "S00319",
         "C1069",
         "Loyal",
         "Consistent activity for over 5 years",
         "2023-01-01T00:00:00Z"
        ],
        [
         "S00320",
         "C1069",
         "Loyal",
         "Consistent activity for over 5 years",
         "2023-01-01T00:00:00Z"
        ],
        [
         "S00321",
         "C1070",
         "Loyal",
         "Consistent activity for over 5 years",
         "2023-01-01T00:00:00Z"
        ],
        [
         "S00322",
         "C1070",
         "Loyal",
         "Consistent activity for over 5 years",
         "2023-01-01T00:00:00Z"
        ],
        [
         "S00323",
         "C1070",
         "Loyal",
         "Consistent activity for over 5 years",
         "2023-01-01T00:00:00Z"
        ],
        [
         "S00324",
         "C1070",
         "Loyal",
         "Consistent activity for over 5 years",
         "2023-01-01T00:00:00Z"
        ],
        [
         "S00325",
         "C1070",
         "Loyal",
         "Consistent activity for over 5 years",
         "2023-01-01T00:00:00Z"
        ],
        [
         "S00326",
         "C1071",
         "Loyal",
         "Consistent activity for over 5 years",
         "2023-01-01T00:00:00Z"
        ],
        [
         "S00327",
         "C1071",
         "Loyal",
         "Consistent activity for over 5 years",
         "2023-01-01T00:00:00Z"
        ],
        [
         "S00328",
         "C1071",
         "Loyal",
         "Consistent activity for over 5 years",
         "2023-01-01T00:00:00Z"
        ],
        [
         "S00329",
         "C1071",
         "Loyal",
         "Consistent activity for over 5 years",
         "2023-01-01T00:00:00Z"
        ],
        [
         "S00330",
         "C1072",
         "Credit_Risk",
         "Customers with low credit scores",
         "2023-01-01T00:00:00Z"
        ],
        [
         "S00331",
         "C1072",
         "Credit_Risk",
         "Customers with low credit scores",
         "2023-01-01T00:00:00Z"
        ],
        [
         "S00332",
         "C1072",
         "Credit_Risk",
         "Customers with low credit scores",
         "2023-01-01T00:00:00Z"
        ],
        [
         "S00333",
         "C1072",
         "Credit_Risk",
         "Customers with low credit scores",
         "2023-01-01T00:00:00Z"
        ],
        [
         "S00334",
         "C1072",
         "Credit_Risk",
         "Customers with low credit scores",
         "2023-01-01T00:00:00Z"
        ],
        [
         "S00335",
         "C1072",
         "Credit_Risk",
         "Customers with low credit scores",
         "2023-01-01T00:00:00Z"
        ],
        [
         "S00336",
         "C1072",
         "Credit_Risk",
         "Customers with low credit scores",
         "2023-01-01T00:00:00Z"
        ],
        [
         "S00337",
         "C1072",
         "Loyal",
         "Consistent activity for over 5 years",
         "2023-01-01T00:00:00Z"
        ],
        [
         "S00338",
         "C1072",
         "Loyal",
         "Consistent activity for over 5 years",
         "2023-01-01T00:00:00Z"
        ],
        [
         "S00339",
         "C1072",
         "Loyal",
         "Consistent activity for over 5 years",
         "2023-01-01T00:00:00Z"
        ],
        [
         "S00340",
         "C1072",
         "Loyal",
         "Consistent activity for over 5 years",
         "2023-01-01T00:00:00Z"
        ],
        [
         "S00341",
         "C1072",
         "Loyal",
         "Consistent activity for over 5 years",
         "2023-01-01T00:00:00Z"
        ],
        [
         "S00342",
         "C1072",
         "Loyal",
         "Consistent activity for over 5 years",
         "2023-01-01T00:00:00Z"
        ],
        [
         "S00343",
         "C1072",
         "Loyal",
         "Consistent activity for over 5 years",
         "2023-01-01T00:00:00Z"
        ],
        [
         "S00344",
         "C1073",
         "Loyal",
         "Consistent activity for over 5 years",
         "2023-01-01T00:00:00Z"
        ],
        [
         "S00345",
         "C1073",
         "Loyal",
         "Consistent activity for over 5 years",
         "2023-01-01T00:00:00Z"
        ],
        [
         "S00346",
         "C1074",
         "Credit_Risk",
         "Customers with low credit scores",
         "2023-01-01T00:00:00Z"
        ],
        [
         "S00347",
         "C1074",
         "Credit_Risk",
         "Customers with low credit scores",
         "2023-01-01T00:00:00Z"
        ],
        [
         "S00348",
         "C1074",
         "Credit_Risk",
         "Customers with low credit scores",
         "2023-01-01T00:00:00Z"
        ],
        [
         "S00349",
         "C1074",
         "Loyal",
         "Consistent activity for over 5 years",
         "2023-01-01T00:00:00Z"
        ],
        [
         "S00350",
         "C1074",
         "Loyal",
         "Consistent activity for over 5 years",
         "2023-01-01T00:00:00Z"
        ],
        [
         "S00351",
         "C1074",
         "Loyal",
         "Consistent activity for over 5 years",
         "2023-01-01T00:00:00Z"
        ],
        [
         "S00352",
         "C1075",
         "Loyal",
         "Consistent activity for over 5 years",
         "2023-01-01T00:00:00Z"
        ],
        [
         "S00353",
         "C1075",
         "Loyal",
         "Consistent activity for over 5 years",
         "2023-01-01T00:00:00Z"
        ],
        [
         "S00354",
         "C1076",
         "Loyal",
         "Consistent activity for over 5 years",
         "2023-01-01T00:00:00Z"
        ],
        [
         "S00355",
         "C1076",
         "Loyal",
         "Consistent activity for over 5 years",
         "2023-01-01T00:00:00Z"
        ],
        [
         "S00356",
         "C1076",
         "Loyal",
         "Consistent activity for over 5 years",
         "2023-01-01T00:00:00Z"
        ],
        [
         "S00357",
         "C1076",
         "Loyal",
         "Consistent activity for over 5 years",
         "2023-01-01T00:00:00Z"
        ],
        [
         "S00358",
         "C1077",
         "Loyal",
         "Consistent activity for over 5 years",
         "2023-01-01T00:00:00Z"
        ],
        [
         "S00359",
         "C1077",
         "Loyal",
         "Consistent activity for over 5 years",
         "2023-01-01T00:00:00Z"
        ],
        [
         "S00360",
         "C1077",
         "Loyal",
         "Consistent activity for over 5 years",
         "2023-01-01T00:00:00Z"
        ],
        [
         "S00361",
         "C1077",
         "Loyal",
         "Consistent activity for over 5 years",
         "2023-01-01T00:00:00Z"
        ],
        [
         "S00362",
         "C1078",
         "Loyal",
         "Consistent activity for over 5 years",
         "2023-01-01T00:00:00Z"
        ],
        [
         "S00363",
         "C1079",
         "Credit_Risk",
         "Customers with low credit scores",
         "2023-01-01T00:00:00Z"
        ],
        [
         "S00364",
         "C1079",
         "Credit_Risk",
         "Customers with low credit scores",
         "2023-01-01T00:00:00Z"
        ],
        [
         "S00365",
         "C1079",
         "Loyal",
         "Consistent activity for over 5 years",
         "2023-01-01T00:00:00Z"
        ],
        [
         "S00366",
         "C1079",
         "Loyal",
         "Consistent activity for over 5 years",
         "2023-01-01T00:00:00Z"
        ],
        [
         "S00367",
         "C1081",
         "Loyal",
         "Consistent activity for over 5 years",
         "2023-01-01T00:00:00Z"
        ],
        [
         "S00368",
         "C1081",
         "Loyal",
         "Consistent activity for over 5 years",
         "2023-01-01T00:00:00Z"
        ],
        [
         "S00369",
         "C1081",
         "Loyal",
         "Consistent activity for over 5 years",
         "2023-01-01T00:00:00Z"
        ],
        [
         "S00370",
         "C1081",
         "Loyal",
         "Consistent activity for over 5 years",
         "2023-01-01T00:00:00Z"
        ],
        [
         "S00371",
         "C1081",
         "Loyal",
         "Consistent activity for over 5 years",
         "2023-01-01T00:00:00Z"
        ],
        [
         "S00372",
         "C1082",
         "Loyal",
         "Consistent activity for over 5 years",
         "2023-01-01T00:00:00Z"
        ],
        [
         "S00373",
         "C1083",
         "Loyal",
         "Consistent activity for over 5 years",
         "2023-01-01T00:00:00Z"
        ],
        [
         "S00374",
         "C1083",
         "Loyal",
         "Consistent activity for over 5 years",
         "2023-01-01T00:00:00Z"
        ],
        [
         "S00375",
         "C1085",
         "Credit_Risk",
         "Customers with low credit scores",
         "2023-01-01T00:00:00Z"
        ],
        [
         "S00376",
         "C1085",
         "Credit_Risk",
         "Customers with low credit scores",
         "2023-01-01T00:00:00Z"
        ],
        [
         "S00377",
         "C1085",
         "Loyal",
         "Consistent activity for over 5 years",
         "2023-01-01T00:00:00Z"
        ],
        [
         "S00378",
         "C1085",
         "Loyal",
         "Consistent activity for over 5 years",
         "2023-01-01T00:00:00Z"
        ],
        [
         "S00379",
         "C1086",
         "Loyal",
         "Consistent activity for over 5 years",
         "2023-01-01T00:00:00Z"
        ],
        [
         "S00380",
         "C1086",
         "Loyal",
         "Consistent activity for over 5 years",
         "2023-01-01T00:00:00Z"
        ],
        [
         "S00381",
         "C1086",
         "Loyal",
         "Consistent activity for over 5 years",
         "2023-01-01T00:00:00Z"
        ],
        [
         "S00382",
         "C1087",
         "Loyal",
         "Consistent activity for over 5 years",
         "2023-01-01T00:00:00Z"
        ],
        [
         "S00383",
         "C1087",
         "Loyal",
         "Consistent activity for over 5 years",
         "2023-01-01T00:00:00Z"
        ],
        [
         "S00384",
         "C1087",
         "Loyal",
         "Consistent activity for over 5 years",
         "2023-01-01T00:00:00Z"
        ],
        [
         "S00385",
         "C1087",
         "Loyal",
         "Consistent activity for over 5 years",
         "2023-01-01T00:00:00Z"
        ],
        [
         "S00386",
         "C1087",
         "Loyal",
         "Consistent activity for over 5 years",
         "2023-01-01T00:00:00Z"
        ],
        [
         "S00387",
         "C1088",
         "Loyal",
         "Consistent activity for over 5 years",
         "2023-01-01T00:00:00Z"
        ],
        [
         "S00388",
         "C1088",
         "Loyal",
         "Consistent activity for over 5 years",
         "2023-01-01T00:00:00Z"
        ],
        [
         "S00389",
         "C1088",
         "Loyal",
         "Consistent activity for over 5 years",
         "2023-01-01T00:00:00Z"
        ],
        [
         "S00390",
         "C1089",
         "Loyal",
         "Consistent activity for over 5 years",
         "2023-01-01T00:00:00Z"
        ],
        [
         "S00391",
         "C1089",
         "Loyal",
         "Consistent activity for over 5 years",
         "2023-01-01T00:00:00Z"
        ],
        [
         "S00392",
         "C1090",
         "Credit_Risk",
         "Customers with low credit scores",
         "2023-01-01T00:00:00Z"
        ],
        [
         "S00393",
         "C1090",
         "Credit_Risk",
         "Customers with low credit scores",
         "2023-01-01T00:00:00Z"
        ],
        [
         "S00394",
         "C1090",
         "Credit_Risk",
         "Customers with low credit scores",
         "2023-01-01T00:00:00Z"
        ],
        [
         "S00395",
         "C1090",
         "Loyal",
         "Consistent activity for over 5 years",
         "2023-01-01T00:00:00Z"
        ],
        [
         "S00396",
         "C1090",
         "Loyal",
         "Consistent activity for over 5 years",
         "2023-01-01T00:00:00Z"
        ],
        [
         "S00397",
         "C1090",
         "Loyal",
         "Consistent activity for over 5 years",
         "2023-01-01T00:00:00Z"
        ],
        [
         "S00398",
         "C1092",
         "Credit_Risk",
         "Customers with low credit scores",
         "2023-01-01T00:00:00Z"
        ],
        [
         "S00399",
         "C1092",
         "Credit_Risk",
         "Customers with low credit scores",
         "2023-01-01T00:00:00Z"
        ],
        [
         "S00400",
         "C1092",
         "Credit_Risk",
         "Customers with low credit scores",
         "2023-01-01T00:00:00Z"
        ],
        [
         "S00401",
         "C1092",
         "Loyal",
         "Consistent activity for over 5 years",
         "2023-01-01T00:00:00Z"
        ],
        [
         "S00402",
         "C1092",
         "Loyal",
         "Consistent activity for over 5 years",
         "2023-01-01T00:00:00Z"
        ],
        [
         "S00403",
         "C1092",
         "Loyal",
         "Consistent activity for over 5 years",
         "2023-01-01T00:00:00Z"
        ],
        [
         "S00404",
         "C1093",
         "Loyal",
         "Consistent activity for over 5 years",
         "2023-01-01T00:00:00Z"
        ],
        [
         "S00405",
         "C1093",
         "Loyal",
         "Consistent activity for over 5 years",
         "2023-01-01T00:00:00Z"
        ],
        [
         "S00406",
         "C1094",
         "Loyal",
         "Consistent activity for over 5 years",
         "2023-01-01T00:00:00Z"
        ],
        [
         "S00407",
         "C1094",
         "Loyal",
         "Consistent activity for over 5 years",
         "2023-01-01T00:00:00Z"
        ],
        [
         "S00408",
         "C1095",
         "Loyal",
         "Consistent activity for over 5 years",
         "2023-01-01T00:00:00Z"
        ],
        [
         "S00409",
         "C1095",
         "Loyal",
         "Consistent activity for over 5 years",
         "2023-01-01T00:00:00Z"
        ],
        [
         "S00410",
         "C1095",
         "Loyal",
         "Consistent activity for over 5 years",
         "2023-01-01T00:00:00Z"
        ],
        [
         "S00411",
         "C1096",
         "Loyal",
         "Consistent activity for over 5 years",
         "2023-01-01T00:00:00Z"
        ],
        [
         "S00412",
         "C1096",
         "Loyal",
         "Consistent activity for over 5 years",
         "2023-01-01T00:00:00Z"
        ],
        [
         "S00413",
         "C1096",
         "Loyal",
         "Consistent activity for over 5 years",
         "2023-01-01T00:00:00Z"
        ],
        [
         "S00414",
         "C1096",
         "Loyal",
         "Consistent activity for over 5 years",
         "2023-01-01T00:00:00Z"
        ],
        [
         "S00415",
         "C1096",
         "Loyal",
         "Consistent activity for over 5 years",
         "2023-01-01T00:00:00Z"
        ],
        [
         "S00416",
         "C1097",
         "Loyal",
         "Consistent activity for over 5 years",
         "2023-01-01T00:00:00Z"
        ],
        [
         "S00417",
         "C1097",
         "Loyal",
         "Consistent activity for over 5 years",
         "2023-01-01T00:00:00Z"
        ],
        [
         "S00418",
         "C1097",
         "Loyal",
         "Consistent activity for over 5 years",
         "2023-01-01T00:00:00Z"
        ],
        [
         "S00419",
         "C1098",
         "Credit_Risk",
         "Customers with low credit scores",
         "2023-01-01T00:00:00Z"
        ],
        [
         "S00420",
         "C1098",
         "Credit_Risk",
         "Customers with low credit scores",
         "2023-01-01T00:00:00Z"
        ],
        [
         "S00421",
         "C1098",
         "Credit_Risk",
         "Customers with low credit scores",
         "2023-01-01T00:00:00Z"
        ],
        [
         "S00422",
         "C1098",
         "Credit_Risk",
         "Customers with low credit scores",
         "2023-01-01T00:00:00Z"
        ],
        [
         "S00423",
         "C1098",
         "Loyal",
         "Consistent activity for over 5 years",
         "2023-01-01T00:00:00Z"
        ],
        [
         "S00424",
         "C1098",
         "Loyal",
         "Consistent activity for over 5 years",
         "2023-01-01T00:00:00Z"
        ],
        [
         "S00425",
         "C1098",
         "Loyal",
         "Consistent activity for over 5 years",
         "2023-01-01T00:00:00Z"
        ],
        [
         "S00426",
         "C1098",
         "Loyal",
         "Consistent activity for over 5 years",
         "2023-01-01T00:00:00Z"
        ],
        [
         "S00427",
         "C1099",
         "Credit_Risk",
         "Customers with low credit scores",
         "2023-01-01T00:00:00Z"
        ],
        [
         "S00428",
         "C1099",
         "Credit_Risk",
         "Customers with low credit scores",
         "2023-01-01T00:00:00Z"
        ],
        [
         "S00429",
         "C1099",
         "Credit_Risk",
         "Customers with low credit scores",
         "2023-01-01T00:00:00Z"
        ],
        [
         "S00430",
         "C1099",
         "Credit_Risk",
         "Customers with low credit scores",
         "2023-01-01T00:00:00Z"
        ],
        [
         "S00431",
         "C1099",
         "Credit_Risk",
         "Customers with low credit scores",
         "2023-01-01T00:00:00Z"
        ],
        [
         "S00432",
         "C1099",
         "Credit_Risk",
         "Customers with low credit scores",
         "2023-01-01T00:00:00Z"
        ],
        [
         "S00433",
         "C1099",
         "Credit_Risk",
         "Customers with low credit scores",
         "2023-01-01T00:00:00Z"
        ],
        [
         "S00434",
         "C1099",
         "Loyal",
         "Consistent activity for over 5 years",
         "2023-01-01T00:00:00Z"
        ],
        [
         "S00435",
         "C1099",
         "Loyal",
         "Consistent activity for over 5 years",
         "2023-01-01T00:00:00Z"
        ],
        [
         "S00436",
         "C1099",
         "Loyal",
         "Consistent activity for over 5 years",
         "2023-01-01T00:00:00Z"
        ],
        [
         "S00437",
         "C1099",
         "Loyal",
         "Consistent activity for over 5 years",
         "2023-01-01T00:00:00Z"
        ],
        [
         "S00438",
         "C1099",
         "Loyal",
         "Consistent activity for over 5 years",
         "2023-01-01T00:00:00Z"
        ],
        [
         "S00439",
         "C1099",
         "Loyal",
         "Consistent activity for over 5 years",
         "2023-01-01T00:00:00Z"
        ],
        [
         "S00440",
         "C1099",
         "Loyal",
         "Consistent activity for over 5 years",
         "2023-01-01T00:00:00Z"
        ],
        [
         "S00441",
         "C1100",
         "Credit_Risk",
         "Customers with low credit scores",
         "2023-01-01T00:00:00Z"
        ],
        [
         "S00442",
         "C1100",
         "Credit_Risk",
         "Customers with low credit scores",
         "2023-01-01T00:00:00Z"
        ],
        [
         "S00443",
         "C1100",
         "Credit_Risk",
         "Customers with low credit scores",
         "2023-01-01T00:00:00Z"
        ],
        [
         "S00444",
         "C1100",
         "Loyal",
         "Consistent activity for over 5 years",
         "2023-01-01T00:00:00Z"
        ],
        [
         "S00445",
         "C1100",
         "Loyal",
         "Consistent activity for over 5 years",
         "2023-01-01T00:00:00Z"
        ],
        [
         "S00446",
         "C1100",
         "Loyal",
         "Consistent activity for over 5 years",
         "2023-01-01T00:00:00Z"
        ],
        [
         "S00447",
         "C1101",
         "Loyal",
         "Consistent activity for over 5 years",
         "2023-01-01T00:00:00Z"
        ],
        [
         "S00448",
         "C1101",
         "Loyal",
         "Consistent activity for over 5 years",
         "2023-01-01T00:00:00Z"
        ],
        [
         "S00449",
         "C1102",
         "Loyal",
         "Consistent activity for over 5 years",
         "2023-01-01T00:00:00Z"
        ],
        [
         "S00450",
         "C1102",
         "Loyal",
         "Consistent activity for over 5 years",
         "2023-01-01T00:00:00Z"
        ],
        [
         "S00451",
         "C1102",
         "Loyal",
         "Consistent activity for over 5 years",
         "2023-01-01T00:00:00Z"
        ],
        [
         "S00452",
         "C1102",
         "Loyal",
         "Consistent activity for over 5 years",
         "2023-01-01T00:00:00Z"
        ],
        [
         "S00453",
         "C1102",
         "Loyal",
         "Consistent activity for over 5 years",
         "2023-01-01T00:00:00Z"
        ],
        [
         "S00454",
         "C1103",
         "Credit_Risk",
         "Customers with low credit scores",
         "2023-01-01T00:00:00Z"
        ],
        [
         "S00455",
         "C1103",
         "Credit_Risk",
         "Customers with low credit scores",
         "2023-01-01T00:00:00Z"
        ],
        [
         "S00456",
         "C1103",
         "Credit_Risk",
         "Customers with low credit scores",
         "2023-01-01T00:00:00Z"
        ],
        [
         "S00457",
         "C1103",
         "Loyal",
         "Consistent activity for over 5 years",
         "2023-01-01T00:00:00Z"
        ],
        [
         "S00458",
         "C1103",
         "Loyal",
         "Consistent activity for over 5 years",
         "2023-01-01T00:00:00Z"
        ],
        [
         "S00459",
         "C1103",
         "Loyal",
         "Consistent activity for over 5 years",
         "2023-01-01T00:00:00Z"
        ],
        [
         "S00460",
         "C1104",
         "Loyal",
         "Consistent activity for over 5 years",
         "2023-01-01T00:00:00Z"
        ],
        [
         "S00461",
         "C1105",
         "Loyal",
         "Consistent activity for over 5 years",
         "2023-01-01T00:00:00Z"
        ],
        [
         "S00462",
         "C1105",
         "Loyal",
         "Consistent activity for over 5 years",
         "2023-01-01T00:00:00Z"
        ],
        [
         "S00463",
         "C1105",
         "Loyal",
         "Consistent activity for over 5 years",
         "2023-01-01T00:00:00Z"
        ],
        [
         "S00464",
         "C1105",
         "Loyal",
         "Consistent activity for over 5 years",
         "2023-01-01T00:00:00Z"
        ],
        [
         "S00465",
         "C1105",
         "Loyal",
         "Consistent activity for over 5 years",
         "2023-01-01T00:00:00Z"
        ],
        [
         "S00466",
         "C1106",
         "Loyal",
         "Consistent activity for over 5 years",
         "2023-01-01T00:00:00Z"
        ],
        [
         "S00467",
         "C1106",
         "Loyal",
         "Consistent activity for over 5 years",
         "2023-01-01T00:00:00Z"
        ],
        [
         "S00468",
         "C1106",
         "Loyal",
         "Consistent activity for over 5 years",
         "2023-01-01T00:00:00Z"
        ],
        [
         "S00469",
         "C1106",
         "Loyal",
         "Consistent activity for over 5 years",
         "2023-01-01T00:00:00Z"
        ],
        [
         "S00470",
         "C1107",
         "Loyal",
         "Consistent activity for over 5 years",
         "2023-01-01T00:00:00Z"
        ],
        [
         "S00471",
         "C1107",
         "Loyal",
         "Consistent activity for over 5 years",
         "2023-01-01T00:00:00Z"
        ],
        [
         "S00472",
         "C1108",
         "Credit_Risk",
         "Customers with low credit scores",
         "2023-01-01T00:00:00Z"
        ],
        [
         "S00473",
         "C1108",
         "Credit_Risk",
         "Customers with low credit scores",
         "2023-01-01T00:00:00Z"
        ],
        [
         "S00474",
         "C1108",
         "Credit_Risk",
         "Customers with low credit scores",
         "2023-01-01T00:00:00Z"
        ],
        [
         "S00475",
         "C1108",
         "Credit_Risk",
         "Customers with low credit scores",
         "2023-01-01T00:00:00Z"
        ],
        [
         "S00476",
         "C1108",
         "Loyal",
         "Consistent activity for over 5 years",
         "2023-01-01T00:00:00Z"
        ],
        [
         "S00477",
         "C1108",
         "Loyal",
         "Consistent activity for over 5 years",
         "2023-01-01T00:00:00Z"
        ],
        [
         "S00478",
         "C1108",
         "Loyal",
         "Consistent activity for over 5 years",
         "2023-01-01T00:00:00Z"
        ],
        [
         "S00479",
         "C1108",
         "Loyal",
         "Consistent activity for over 5 years",
         "2023-01-01T00:00:00Z"
        ],
        [
         "S00480",
         "C1109",
         "Loyal",
         "Consistent activity for over 5 years",
         "2023-01-01T00:00:00Z"
        ],
        [
         "S00481",
         "C1109",
         "Loyal",
         "Consistent activity for over 5 years",
         "2023-01-01T00:00:00Z"
        ],
        [
         "S00482",
         "C1109",
         "Loyal",
         "Consistent activity for over 5 years",
         "2023-01-01T00:00:00Z"
        ],
        [
         "S00483",
         "C1109",
         "Loyal",
         "Consistent activity for over 5 years",
         "2023-01-01T00:00:00Z"
        ],
        [
         "S00484",
         "C1109",
         "Loyal",
         "Consistent activity for over 5 years",
         "2023-01-01T00:00:00Z"
        ],
        [
         "S00485",
         "C1110",
         "Loyal",
         "Consistent activity for over 5 years",
         "2023-01-01T00:00:00Z"
        ],
        [
         "S00486",
         "C1110",
         "Loyal",
         "Consistent activity for over 5 years",
         "2023-01-01T00:00:00Z"
        ],
        [
         "S00487",
         "C1111",
         "Loyal",
         "Consistent activity for over 5 years",
         "2023-01-01T00:00:00Z"
        ],
        [
         "S00488",
         "C1111",
         "Loyal",
         "Consistent activity for over 5 years",
         "2023-01-01T00:00:00Z"
        ],
        [
         "S00489",
         "C1111",
         "Loyal",
         "Consistent activity for over 5 years",
         "2023-01-01T00:00:00Z"
        ],
        [
         "S00490",
         "C1112",
         "Credit_Risk",
         "Customers with low credit scores",
         "2023-01-01T00:00:00Z"
        ],
        [
         "S00491",
         "C1112",
         "Credit_Risk",
         "Customers with low credit scores",
         "2023-01-01T00:00:00Z"
        ],
        [
         "S00492",
         "C1112",
         "Credit_Risk",
         "Customers with low credit scores",
         "2023-01-01T00:00:00Z"
        ],
        [
         "S00493",
         "C1112",
         "Credit_Risk",
         "Customers with low credit scores",
         "2023-01-01T00:00:00Z"
        ],
        [
         "S00494",
         "C1112",
         "Loyal",
         "Consistent activity for over 5 years",
         "2023-01-01T00:00:00Z"
        ],
        [
         "S00495",
         "C1112",
         "Loyal",
         "Consistent activity for over 5 years",
         "2023-01-01T00:00:00Z"
        ],
        [
         "S00496",
         "C1112",
         "Loyal",
         "Consistent activity for over 5 years",
         "2023-01-01T00:00:00Z"
        ],
        [
         "S00497",
         "C1112",
         "Loyal",
         "Consistent activity for over 5 years",
         "2023-01-01T00:00:00Z"
        ],
        [
         "S00498",
         "C1113",
         "Loyal",
         "Consistent activity for over 5 years",
         "2023-01-01T00:00:00Z"
        ],
        [
         "S00499",
         "C1114",
         "Credit_Risk",
         "Customers with low credit scores",
         "2023-01-01T00:00:00Z"
        ],
        [
         "S00500",
         "C1114",
         "Credit_Risk",
         "Customers with low credit scores",
         "2023-01-01T00:00:00Z"
        ],
        [
         "S00501",
         "C1114",
         "Credit_Risk",
         "Customers with low credit scores",
         "2023-01-01T00:00:00Z"
        ],
        [
         "S00502",
         "C1114",
         "Loyal",
         "Consistent activity for over 5 years",
         "2023-01-01T00:00:00Z"
        ],
        [
         "S00503",
         "C1114",
         "Loyal",
         "Consistent activity for over 5 years",
         "2023-01-01T00:00:00Z"
        ],
        [
         "S00504",
         "C1114",
         "Loyal",
         "Consistent activity for over 5 years",
         "2023-01-01T00:00:00Z"
        ],
        [
         "S00505",
         "C1115",
         "Loyal",
         "Consistent activity for over 5 years",
         "2023-01-01T00:00:00Z"
        ],
        [
         "S00506",
         "C1115",
         "Loyal",
         "Consistent activity for over 5 years",
         "2023-01-01T00:00:00Z"
        ],
        [
         "S00507",
         "C1115",
         "Loyal",
         "Consistent activity for over 5 years",
         "2023-01-01T00:00:00Z"
        ],
        [
         "S00508",
         "C1115",
         "Loyal",
         "Consistent activity for over 5 years",
         "2023-01-01T00:00:00Z"
        ],
        [
         "S00509",
         "C1116",
         "Credit_Risk",
         "Customers with low credit scores",
         "2023-01-01T00:00:00Z"
        ],
        [
         "S00510",
         "C1116",
         "Credit_Risk",
         "Customers with low credit scores",
         "2023-01-01T00:00:00Z"
        ],
        [
         "S00511",
         "C1116",
         "Credit_Risk",
         "Customers with low credit scores",
         "2023-01-01T00:00:00Z"
        ],
        [
         "S00512",
         "C1116",
         "Credit_Risk",
         "Customers with low credit scores",
         "2023-01-01T00:00:00Z"
        ],
        [
         "S00513",
         "C1116",
         "Loyal",
         "Consistent activity for over 5 years",
         "2023-01-01T00:00:00Z"
        ],
        [
         "S00514",
         "C1116",
         "Loyal",
         "Consistent activity for over 5 years",
         "2023-01-01T00:00:00Z"
        ],
        [
         "S00515",
         "C1116",
         "Loyal",
         "Consistent activity for over 5 years",
         "2023-01-01T00:00:00Z"
        ],
        [
         "S00516",
         "C1116",
         "Loyal",
         "Consistent activity for over 5 years",
         "2023-01-01T00:00:00Z"
        ],
        [
         "S00517",
         "C1117",
         "Credit_Risk",
         "Customers with low credit scores",
         "2023-01-01T00:00:00Z"
        ],
        [
         "S00518",
         "C1117",
         "Credit_Risk",
         "Customers with low credit scores",
         "2023-01-01T00:00:00Z"
        ],
        [
         "S00519",
         "C1117",
         "Loyal",
         "Consistent activity for over 5 years",
         "2023-01-01T00:00:00Z"
        ],
        [
         "S00520",
         "C1117",
         "Loyal",
         "Consistent activity for over 5 years",
         "2023-01-01T00:00:00Z"
        ],
        [
         "S00521",
         "C1118",
         "High_Value",
         "Customers with high transaction volume",
         "2023-01-01T00:00:00Z"
        ],
        [
         "S00522",
         "C1118",
         "Credit_Risk",
         "Customers with low credit scores",
         "2023-01-01T00:00:00Z"
        ],
        [
         "S00523",
         "C1118",
         "Credit_Risk",
         "Customers with low credit scores",
         "2023-01-01T00:00:00Z"
        ],
        [
         "S00524",
         "C1118",
         "Credit_Risk",
         "Customers with low credit scores",
         "2023-01-01T00:00:00Z"
        ],
        [
         "S00525",
         "C1118",
         "Credit_Risk",
         "Customers with low credit scores",
         "2023-01-01T00:00:00Z"
        ],
        [
         "S00526",
         "C1118",
         "Credit_Risk",
         "Customers with low credit scores",
         "2023-01-01T00:00:00Z"
        ],
        [
         "S00527",
         "C1118",
         "Loyal",
         "Consistent activity for over 5 years",
         "2023-01-01T00:00:00Z"
        ],
        [
         "S00528",
         "C1118",
         "Loyal",
         "Consistent activity for over 5 years",
         "2023-01-01T00:00:00Z"
        ],
        [
         "S00529",
         "C1118",
         "Loyal",
         "Consistent activity for over 5 years",
         "2023-01-01T00:00:00Z"
        ],
        [
         "S00530",
         "C1118",
         "Loyal",
         "Consistent activity for over 5 years",
         "2023-01-01T00:00:00Z"
        ],
        [
         "S00531",
         "C1118",
         "Loyal",
         "Consistent activity for over 5 years",
         "2023-01-01T00:00:00Z"
        ],
        [
         "S00532",
         "C1119",
         "Loyal",
         "Consistent activity for over 5 years",
         "2023-01-01T00:00:00Z"
        ],
        [
         "S00533",
         "C1119",
         "Loyal",
         "Consistent activity for over 5 years",
         "2023-01-01T00:00:00Z"
        ],
        [
         "S00534",
         "C1120",
         "Loyal",
         "Consistent activity for over 5 years",
         "2023-01-01T00:00:00Z"
        ],
        [
         "S00535",
         "C1120",
         "Loyal",
         "Consistent activity for over 5 years",
         "2023-01-01T00:00:00Z"
        ],
        [
         "S00536",
         "C1120",
         "Loyal",
         "Consistent activity for over 5 years",
         "2023-01-01T00:00:00Z"
        ],
        [
         "S00537",
         "C1120",
         "Loyal",
         "Consistent activity for over 5 years",
         "2023-01-01T00:00:00Z"
        ],
        [
         "S00538",
         "C1120",
         "Loyal",
         "Consistent activity for over 5 years",
         "2023-01-01T00:00:00Z"
        ],
        [
         "S00539",
         "C1120",
         "Loyal",
         "Consistent activity for over 5 years",
         "2023-01-01T00:00:00Z"
        ],
        [
         "S00540",
         "C1121",
         "Credit_Risk",
         "Customers with low credit scores",
         "2023-01-01T00:00:00Z"
        ],
        [
         "S00541",
         "C1121",
         "Loyal",
         "Consistent activity for over 5 years",
         "2023-01-01T00:00:00Z"
        ],
        [
         "S00542",
         "C1122",
         "Loyal",
         "Consistent activity for over 5 years",
         "2023-01-01T00:00:00Z"
        ],
        [
         "S00543",
         "C1122",
         "Loyal",
         "Consistent activity for over 5 years",
         "2023-01-01T00:00:00Z"
        ],
        [
         "S00544",
         "C1122",
         "Loyal",
         "Consistent activity for over 5 years",
         "2023-01-01T00:00:00Z"
        ],
        [
         "S00545",
         "C1122",
         "Loyal",
         "Consistent activity for over 5 years",
         "2023-01-01T00:00:00Z"
        ],
        [
         "S00546",
         "C1123",
         "Credit_Risk",
         "Customers with low credit scores",
         "2023-01-01T00:00:00Z"
        ],
        [
         "S00547",
         "C1123",
         "Credit_Risk",
         "Customers with low credit scores",
         "2023-01-01T00:00:00Z"
        ],
        [
         "S00548",
         "C1123",
         "Loyal",
         "Consistent activity for over 5 years",
         "2023-01-01T00:00:00Z"
        ],
        [
         "S00549",
         "C1123",
         "Loyal",
         "Consistent activity for over 5 years",
         "2023-01-01T00:00:00Z"
        ],
        [
         "S00550",
         "C1124",
         "Loyal",
         "Consistent activity for over 5 years",
         "2023-01-01T00:00:00Z"
        ],
        [
         "S00551",
         "C1125",
         "Loyal",
         "Consistent activity for over 5 years",
         "2023-01-01T00:00:00Z"
        ],
        [
         "S00552",
         "C1125",
         "Loyal",
         "Consistent activity for over 5 years",
         "2023-01-01T00:00:00Z"
        ],
        [
         "S00553",
         "C1125",
         "Loyal",
         "Consistent activity for over 5 years",
         "2023-01-01T00:00:00Z"
        ],
        [
         "S00554",
         "C1126",
         "Credit_Risk",
         "Customers with low credit scores",
         "2023-01-01T00:00:00Z"
        ],
        [
         "S00555",
         "C1126",
         "Credit_Risk",
         "Customers with low credit scores",
         "2023-01-01T00:00:00Z"
        ],
        [
         "S00556",
         "C1126",
         "Loyal",
         "Consistent activity for over 5 years",
         "2023-01-01T00:00:00Z"
        ],
        [
         "S00557",
         "C1126",
         "Loyal",
         "Consistent activity for over 5 years",
         "2023-01-01T00:00:00Z"
        ],
        [
         "S00558",
         "C1127",
         "Loyal",
         "Consistent activity for over 5 years",
         "2023-01-01T00:00:00Z"
        ],
        [
         "S00559",
         "C1127",
         "Loyal",
         "Consistent activity for over 5 years",
         "2023-01-01T00:00:00Z"
        ],
        [
         "S00560",
         "C1128",
         "Loyal",
         "Consistent activity for over 5 years",
         "2023-01-01T00:00:00Z"
        ],
        [
         "S00561",
         "C1128",
         "Loyal",
         "Consistent activity for over 5 years",
         "2023-01-01T00:00:00Z"
        ],
        [
         "S00562",
         "C1128",
         "Loyal",
         "Consistent activity for over 5 years",
         "2023-01-01T00:00:00Z"
        ],
        [
         "S00563",
         "C1128",
         "Loyal",
         "Consistent activity for over 5 years",
         "2023-01-01T00:00:00Z"
        ],
        [
         "S00564",
         "C1129",
         "Credit_Risk",
         "Customers with low credit scores",
         "2023-01-01T00:00:00Z"
        ],
        [
         "S00565",
         "C1129",
         "Credit_Risk",
         "Customers with low credit scores",
         "2023-01-01T00:00:00Z"
        ],
        [
         "S00566",
         "C1129",
         "Credit_Risk",
         "Customers with low credit scores",
         "2023-01-01T00:00:00Z"
        ],
        [
         "S00567",
         "C1129",
         "Credit_Risk",
         "Customers with low credit scores",
         "2023-01-01T00:00:00Z"
        ],
        [
         "S00568",
         "C1129",
         "Loyal",
         "Consistent activity for over 5 years",
         "2023-01-01T00:00:00Z"
        ],
        [
         "S00569",
         "C1129",
         "Loyal",
         "Consistent activity for over 5 years",
         "2023-01-01T00:00:00Z"
        ],
        [
         "S00570",
         "C1129",
         "Loyal",
         "Consistent activity for over 5 years",
         "2023-01-01T00:00:00Z"
        ],
        [
         "S00571",
         "C1129",
         "Loyal",
         "Consistent activity for over 5 years",
         "2023-01-01T00:00:00Z"
        ],
        [
         "S00572",
         "C1130",
         "Loyal",
         "Consistent activity for over 5 years",
         "2023-01-01T00:00:00Z"
        ],
        [
         "S00573",
         "C1131",
         "Credit_Risk",
         "Customers with low credit scores",
         "2023-01-01T00:00:00Z"
        ],
        [
         "S00574",
         "C1131",
         "Credit_Risk",
         "Customers with low credit scores",
         "2023-01-01T00:00:00Z"
        ],
        [
         "S00575",
         "C1131",
         "Credit_Risk",
         "Customers with low credit scores",
         "2023-01-01T00:00:00Z"
        ],
        [
         "S00576",
         "C1131",
         "Credit_Risk",
         "Customers with low credit scores",
         "2023-01-01T00:00:00Z"
        ],
        [
         "S00577",
         "C1131",
         "Credit_Risk",
         "Customers with low credit scores",
         "2023-01-01T00:00:00Z"
        ],
        [
         "S00578",
         "C1131",
         "Credit_Risk",
         "Customers with low credit scores",
         "2023-01-01T00:00:00Z"
        ],
        [
         "S00579",
         "C1131",
         "Loyal",
         "Consistent activity for over 5 years",
         "2023-01-01T00:00:00Z"
        ],
        [
         "S00580",
         "C1131",
         "Loyal",
         "Consistent activity for over 5 years",
         "2023-01-01T00:00:00Z"
        ],
        [
         "S00581",
         "C1131",
         "Loyal",
         "Consistent activity for over 5 years",
         "2023-01-01T00:00:00Z"
        ],
        [
         "S00582",
         "C1131",
         "Loyal",
         "Consistent activity for over 5 years",
         "2023-01-01T00:00:00Z"
        ],
        [
         "S00583",
         "C1131",
         "Loyal",
         "Consistent activity for over 5 years",
         "2023-01-01T00:00:00Z"
        ],
        [
         "S00584",
         "C1131",
         "Loyal",
         "Consistent activity for over 5 years",
         "2023-01-01T00:00:00Z"
        ],
        [
         "S00585",
         "C1132",
         "Loyal",
         "Consistent activity for over 5 years",
         "2023-01-01T00:00:00Z"
        ],
        [
         "S00586",
         "C1133",
         "Credit_Risk",
         "Customers with low credit scores",
         "2023-01-01T00:00:00Z"
        ],
        [
         "S00587",
         "C1133",
         "Credit_Risk",
         "Customers with low credit scores",
         "2023-01-01T00:00:00Z"
        ],
        [
         "S00588",
         "C1133",
         "Credit_Risk",
         "Customers with low credit scores",
         "2023-01-01T00:00:00Z"
        ],
        [
         "S00589",
         "C1133",
         "Loyal",
         "Consistent activity for over 5 years",
         "2023-01-01T00:00:00Z"
        ],
        [
         "S00590",
         "C1133",
         "Loyal",
         "Consistent activity for over 5 years",
         "2023-01-01T00:00:00Z"
        ],
        [
         "S00591",
         "C1133",
         "Loyal",
         "Consistent activity for over 5 years",
         "2023-01-01T00:00:00Z"
        ],
        [
         "S00592",
         "C1134",
         "Loyal",
         "Consistent activity for over 5 years",
         "2023-01-01T00:00:00Z"
        ],
        [
         "S00593",
         "C1134",
         "Loyal",
         "Consistent activity for over 5 years",
         "2023-01-01T00:00:00Z"
        ],
        [
         "S00594",
         "C1134",
         "Loyal",
         "Consistent activity for over 5 years",
         "2023-01-01T00:00:00Z"
        ],
        [
         "S00595",
         "C1134",
         "Loyal",
         "Consistent activity for over 5 years",
         "2023-01-01T00:00:00Z"
        ],
        [
         "S00596",
         "C1134",
         "Loyal",
         "Consistent activity for over 5 years",
         "2023-01-01T00:00:00Z"
        ],
        [
         "S00597",
         "C1134",
         "Loyal",
         "Consistent activity for over 5 years",
         "2023-01-01T00:00:00Z"
        ],
        [
         "S00598",
         "C1134",
         "Loyal",
         "Consistent activity for over 5 years",
         "2023-01-01T00:00:00Z"
        ],
        [
         "S00599",
         "C1135",
         "Loyal",
         "Consistent activity for over 5 years",
         "2023-01-01T00:00:00Z"
        ],
        [
         "S00600",
         "C1135",
         "Loyal",
         "Consistent activity for over 5 years",
         "2023-01-01T00:00:00Z"
        ],
        [
         "S00601",
         "C1135",
         "Loyal",
         "Consistent activity for over 5 years",
         "2023-01-01T00:00:00Z"
        ],
        [
         "S00602",
         "C1136",
         "Loyal",
         "Consistent activity for over 5 years",
         "2023-01-01T00:00:00Z"
        ],
        [
         "S00603",
         "C1136",
         "Loyal",
         "Consistent activity for over 5 years",
         "2023-01-01T00:00:00Z"
        ],
        [
         "S00604",
         "C1136",
         "Loyal",
         "Consistent activity for over 5 years",
         "2023-01-01T00:00:00Z"
        ],
        [
         "S00605",
         "C1136",
         "Loyal",
         "Consistent activity for over 5 years",
         "2023-01-01T00:00:00Z"
        ],
        [
         "S00606",
         "C1136",
         "Loyal",
         "Consistent activity for over 5 years",
         "2023-01-01T00:00:00Z"
        ],
        [
         "S00607",
         "C1137",
         "Credit_Risk",
         "Customers with low credit scores",
         "2023-01-01T00:00:00Z"
        ],
        [
         "S00608",
         "C1137",
         "Credit_Risk",
         "Customers with low credit scores",
         "2023-01-01T00:00:00Z"
        ],
        [
         "S00609",
         "C1137",
         "Credit_Risk",
         "Customers with low credit scores",
         "2023-01-01T00:00:00Z"
        ],
        [
         "S00610",
         "C1137",
         "Loyal",
         "Consistent activity for over 5 years",
         "2023-01-01T00:00:00Z"
        ],
        [
         "S00611",
         "C1137",
         "Loyal",
         "Consistent activity for over 5 years",
         "2023-01-01T00:00:00Z"
        ],
        [
         "S00612",
         "C1137",
         "Loyal",
         "Consistent activity for over 5 years",
         "2023-01-01T00:00:00Z"
        ],
        [
         "S00613",
         "C1138",
         "Loyal",
         "Consistent activity for over 5 years",
         "2023-01-01T00:00:00Z"
        ],
        [
         "S00614",
         "C1138",
         "Loyal",
         "Consistent activity for over 5 years",
         "2023-01-01T00:00:00Z"
        ],
        [
         "S00615",
         "C1138",
         "Loyal",
         "Consistent activity for over 5 years",
         "2023-01-01T00:00:00Z"
        ],
        [
         "S00616",
         "C1138",
         "Loyal",
         "Consistent activity for over 5 years",
         "2023-01-01T00:00:00Z"
        ],
        [
         "S00617",
         "C1138",
         "Loyal",
         "Consistent activity for over 5 years",
         "2023-01-01T00:00:00Z"
        ],
        [
         "S00618",
         "C1139",
         "Credit_Risk",
         "Customers with low credit scores",
         "2023-01-01T00:00:00Z"
        ],
        [
         "S00619",
         "C1139",
         "Credit_Risk",
         "Customers with low credit scores",
         "2023-01-01T00:00:00Z"
        ],
        [
         "S00620",
         "C1139",
         "Credit_Risk",
         "Customers with low credit scores",
         "2023-01-01T00:00:00Z"
        ],
        [
         "S00621",
         "C1139",
         "Credit_Risk",
         "Customers with low credit scores",
         "2023-01-01T00:00:00Z"
        ],
        [
         "S00622",
         "C1139",
         "Loyal",
         "Consistent activity for over 5 years",
         "2023-01-01T00:00:00Z"
        ],
        [
         "S00623",
         "C1139",
         "Loyal",
         "Consistent activity for over 5 years",
         "2023-01-01T00:00:00Z"
        ],
        [
         "S00624",
         "C1139",
         "Loyal",
         "Consistent activity for over 5 years",
         "2023-01-01T00:00:00Z"
        ],
        [
         "S00625",
         "C1139",
         "Loyal",
         "Consistent activity for over 5 years",
         "2023-01-01T00:00:00Z"
        ],
        [
         "S00626",
         "C1140",
         "Credit_Risk",
         "Customers with low credit scores",
         "2023-01-01T00:00:00Z"
        ],
        [
         "S00627",
         "C1140",
         "Credit_Risk",
         "Customers with low credit scores",
         "2023-01-01T00:00:00Z"
        ],
        [
         "S00628",
         "C1140",
         "Credit_Risk",
         "Customers with low credit scores",
         "2023-01-01T00:00:00Z"
        ],
        [
         "S00629",
         "C1140",
         "Loyal",
         "Consistent activity for over 5 years",
         "2023-01-01T00:00:00Z"
        ],
        [
         "S00630",
         "C1140",
         "Loyal",
         "Consistent activity for over 5 years",
         "2023-01-01T00:00:00Z"
        ],
        [
         "S00631",
         "C1140",
         "Loyal",
         "Consistent activity for over 5 years",
         "2023-01-01T00:00:00Z"
        ],
        [
         "S00632",
         "C1141",
         "Loyal",
         "Consistent activity for over 5 years",
         "2023-01-01T00:00:00Z"
        ],
        [
         "S00633",
         "C1141",
         "Loyal",
         "Consistent activity for over 5 years",
         "2023-01-01T00:00:00Z"
        ],
        [
         "S00634",
         "C1142",
         "Loyal",
         "Consistent activity for over 5 years",
         "2023-01-01T00:00:00Z"
        ],
        [
         "S00635",
         "C1142",
         "Loyal",
         "Consistent activity for over 5 years",
         "2023-01-01T00:00:00Z"
        ],
        [
         "S00636",
         "C1142",
         "Loyal",
         "Consistent activity for over 5 years",
         "2023-01-01T00:00:00Z"
        ],
        [
         "S00637",
         "C1142",
         "Loyal",
         "Consistent activity for over 5 years",
         "2023-01-01T00:00:00Z"
        ],
        [
         "S00638",
         "C1143",
         "Loyal",
         "Consistent activity for over 5 years",
         "2023-01-01T00:00:00Z"
        ],
        [
         "S00639",
         "C1143",
         "Loyal",
         "Consistent activity for over 5 years",
         "2023-01-01T00:00:00Z"
        ],
        [
         "S00640",
         "C1143",
         "Loyal",
         "Consistent activity for over 5 years",
         "2023-01-01T00:00:00Z"
        ],
        [
         "S00641",
         "C1144",
         "Loyal",
         "Consistent activity for over 5 years",
         "2023-01-01T00:00:00Z"
        ],
        [
         "S00642",
         "C1144",
         "Loyal",
         "Consistent activity for over 5 years",
         "2023-01-01T00:00:00Z"
        ],
        [
         "S00643",
         "C1144",
         "Loyal",
         "Consistent activity for over 5 years",
         "2023-01-01T00:00:00Z"
        ],
        [
         "S00644",
         "C1144",
         "Loyal",
         "Consistent activity for over 5 years",
         "2023-01-01T00:00:00Z"
        ],
        [
         "S00645",
         "C1145",
         "Loyal",
         "Consistent activity for over 5 years",
         "2023-01-01T00:00:00Z"
        ],
        [
         "S00646",
         "C1145",
         "Loyal",
         "Consistent activity for over 5 years",
         "2023-01-01T00:00:00Z"
        ],
        [
         "S00647",
         "C1145",
         "Loyal",
         "Consistent activity for over 5 years",
         "2023-01-01T00:00:00Z"
        ],
        [
         "S00648",
         "C1146",
         "Credit_Risk",
         "Customers with low credit scores",
         "2023-01-01T00:00:00Z"
        ],
        [
         "S00649",
         "C1146",
         "Credit_Risk",
         "Customers with low credit scores",
         "2023-01-01T00:00:00Z"
        ],
        [
         "S00650",
         "C1146",
         "Credit_Risk",
         "Customers with low credit scores",
         "2023-01-01T00:00:00Z"
        ],
        [
         "S00651",
         "C1146",
         "Loyal",
         "Consistent activity for over 5 years",
         "2023-01-01T00:00:00Z"
        ],
        [
         "S00652",
         "C1146",
         "Loyal",
         "Consistent activity for over 5 years",
         "2023-01-01T00:00:00Z"
        ],
        [
         "S00653",
         "C1146",
         "Loyal",
         "Consistent activity for over 5 years",
         "2023-01-01T00:00:00Z"
        ],
        [
         "S00654",
         "C1147",
         "Loyal",
         "Consistent activity for over 5 years",
         "2023-01-01T00:00:00Z"
        ],
        [
         "S00655",
         "C1147",
         "Loyal",
         "Consistent activity for over 5 years",
         "2023-01-01T00:00:00Z"
        ],
        [
         "S00656",
         "C1148",
         "Credit_Risk",
         "Customers with low credit scores",
         "2023-01-01T00:00:00Z"
        ],
        [
         "S00657",
         "C1148",
         "Credit_Risk",
         "Customers with low credit scores",
         "2023-01-01T00:00:00Z"
        ],
        [
         "S00658",
         "C1148",
         "Credit_Risk",
         "Customers with low credit scores",
         "2023-01-01T00:00:00Z"
        ],
        [
         "S00659",
         "C1148",
         "Loyal",
         "Consistent activity for over 5 years",
         "2023-01-01T00:00:00Z"
        ],
        [
         "S00660",
         "C1148",
         "Loyal",
         "Consistent activity for over 5 years",
         "2023-01-01T00:00:00Z"
        ],
        [
         "S00661",
         "C1148",
         "Loyal",
         "Consistent activity for over 5 years",
         "2023-01-01T00:00:00Z"
        ],
        [
         "S00662",
         "C1149",
         "Loyal",
         "Consistent activity for over 5 years",
         "2023-01-01T00:00:00Z"
        ],
        [
         "S00663",
         "C1149",
         "Loyal",
         "Consistent activity for over 5 years",
         "2023-01-01T00:00:00Z"
        ],
        [
         "S00664",
         "C1149",
         "Loyal",
         "Consistent activity for over 5 years",
         "2023-01-01T00:00:00Z"
        ],
        [
         "S00665",
         "C1149",
         "Loyal",
         "Consistent activity for over 5 years",
         "2023-01-01T00:00:00Z"
        ],
        [
         "S00666",
         "C1149",
         "Loyal",
         "Consistent activity for over 5 years",
         "2023-01-01T00:00:00Z"
        ],
        [
         "S00667",
         "C1150",
         "Loyal",
         "Consistent activity for over 5 years",
         "2023-01-01T00:00:00Z"
        ],
        [
         "S00668",
         "C1150",
         "Loyal",
         "Consistent activity for over 5 years",
         "2023-01-01T00:00:00Z"
        ],
        [
         "S00669",
         "C1151",
         "Loyal",
         "Consistent activity for over 5 years",
         "2023-01-01T00:00:00Z"
        ],
        [
         "S00670",
         "C1151",
         "Loyal",
         "Consistent activity for over 5 years",
         "2023-01-01T00:00:00Z"
        ],
        [
         "S00671",
         "C1151",
         "Loyal",
         "Consistent activity for over 5 years",
         "2023-01-01T00:00:00Z"
        ],
        [
         "S00672",
         "C1151",
         "Loyal",
         "Consistent activity for over 5 years",
         "2023-01-01T00:00:00Z"
        ],
        [
         "S00673",
         "C1151",
         "Loyal",
         "Consistent activity for over 5 years",
         "2023-01-01T00:00:00Z"
        ],
        [
         "S00674",
         "C1152",
         "Loyal",
         "Consistent activity for over 5 years",
         "2023-01-01T00:00:00Z"
        ],
        [
         "S00675",
         "C1153",
         "Loyal",
         "Consistent activity for over 5 years",
         "2023-01-01T00:00:00Z"
        ],
        [
         "S00676",
         "C1154",
         "Credit_Risk",
         "Customers with low credit scores",
         "2023-01-01T00:00:00Z"
        ],
        [
         "S00677",
         "C1154",
         "Loyal",
         "Consistent activity for over 5 years",
         "2023-01-01T00:00:00Z"
        ],
        [
         "S00678",
         "C1155",
         "Credit_Risk",
         "Customers with low credit scores",
         "2023-01-01T00:00:00Z"
        ],
        [
         "S00679",
         "C1155",
         "Credit_Risk",
         "Customers with low credit scores",
         "2023-01-01T00:00:00Z"
        ],
        [
         "S00680",
         "C1155",
         "Credit_Risk",
         "Customers with low credit scores",
         "2023-01-01T00:00:00Z"
        ],
        [
         "S00681",
         "C1155",
         "Credit_Risk",
         "Customers with low credit scores",
         "2023-01-01T00:00:00Z"
        ],
        [
         "S00682",
         "C1155",
         "Loyal",
         "Consistent activity for over 5 years",
         "2023-01-01T00:00:00Z"
        ],
        [
         "S00683",
         "C1155",
         "Loyal",
         "Consistent activity for over 5 years",
         "2023-01-01T00:00:00Z"
        ],
        [
         "S00684",
         "C1155",
         "Loyal",
         "Consistent activity for over 5 years",
         "2023-01-01T00:00:00Z"
        ],
        [
         "S00685",
         "C1155",
         "Loyal",
         "Consistent activity for over 5 years",
         "2023-01-01T00:00:00Z"
        ],
        [
         "S00686",
         "C1156",
         "Credit_Risk",
         "Customers with low credit scores",
         "2023-01-01T00:00:00Z"
        ],
        [
         "S00687",
         "C1156",
         "Credit_Risk",
         "Customers with low credit scores",
         "2023-01-01T00:00:00Z"
        ],
        [
         "S00688",
         "C1156",
         "Credit_Risk",
         "Customers with low credit scores",
         "2023-01-01T00:00:00Z"
        ],
        [
         "S00689",
         "C1156",
         "Credit_Risk",
         "Customers with low credit scores",
         "2023-01-01T00:00:00Z"
        ],
        [
         "S00690",
         "C1156",
         "Loyal",
         "Consistent activity for over 5 years",
         "2023-01-01T00:00:00Z"
        ],
        [
         "S00691",
         "C1156",
         "Loyal",
         "Consistent activity for over 5 years",
         "2023-01-01T00:00:00Z"
        ],
        [
         "S00692",
         "C1156",
         "Loyal",
         "Consistent activity for over 5 years",
         "2023-01-01T00:00:00Z"
        ],
        [
         "S00693",
         "C1156",
         "Loyal",
         "Consistent activity for over 5 years",
         "2023-01-01T00:00:00Z"
        ],
        [
         "S00694",
         "C1157",
         "Loyal",
         "Consistent activity for over 5 years",
         "2023-01-01T00:00:00Z"
        ],
        [
         "S00695",
         "C1157",
         "Loyal",
         "Consistent activity for over 5 years",
         "2023-01-01T00:00:00Z"
        ],
        [
         "S00696",
         "C1157",
         "Loyal",
         "Consistent activity for over 5 years",
         "2023-01-01T00:00:00Z"
        ],
        [
         "S00697",
         "C1158",
         "Loyal",
         "Consistent activity for over 5 years",
         "2023-01-01T00:00:00Z"
        ],
        [
         "S00698",
         "C1158",
         "Loyal",
         "Consistent activity for over 5 years",
         "2023-01-01T00:00:00Z"
        ],
        [
         "S00699",
         "C1158",
         "Loyal",
         "Consistent activity for over 5 years",
         "2023-01-01T00:00:00Z"
        ],
        [
         "S00700",
         "C1159",
         "Loyal",
         "Consistent activity for over 5 years",
         "2023-01-01T00:00:00Z"
        ],
        [
         "S00701",
         "C1159",
         "Loyal",
         "Consistent activity for over 5 years",
         "2023-01-01T00:00:00Z"
        ],
        [
         "S00702",
         "C1160",
         "Loyal",
         "Consistent activity for over 5 years",
         "2023-01-01T00:00:00Z"
        ],
        [
         "S00703",
         "C1160",
         "Loyal",
         "Consistent activity for over 5 years",
         "2023-01-01T00:00:00Z"
        ],
        [
         "S00704",
         "C1162",
         "Loyal",
         "Consistent activity for over 5 years",
         "2023-01-01T00:00:00Z"
        ],
        [
         "S00705",
         "C1162",
         "Loyal",
         "Consistent activity for over 5 years",
         "2023-01-01T00:00:00Z"
        ],
        [
         "S00706",
         "C1162",
         "Loyal",
         "Consistent activity for over 5 years",
         "2023-01-01T00:00:00Z"
        ],
        [
         "S00707",
         "C1162",
         "Loyal",
         "Consistent activity for over 5 years",
         "2023-01-01T00:00:00Z"
        ],
        [
         "S00708",
         "C1162",
         "Loyal",
         "Consistent activity for over 5 years",
         "2023-01-01T00:00:00Z"
        ],
        [
         "S00709",
         "C1162",
         "Loyal",
         "Consistent activity for over 5 years",
         "2023-01-01T00:00:00Z"
        ],
        [
         "S00710",
         "C1162",
         "Loyal",
         "Consistent activity for over 5 years",
         "2023-01-01T00:00:00Z"
        ],
        [
         "S00711",
         "C1162",
         "Loyal",
         "Consistent activity for over 5 years",
         "2023-01-01T00:00:00Z"
        ],
        [
         "S00712",
         "C1163",
         "Credit_Risk",
         "Customers with low credit scores",
         "2023-01-01T00:00:00Z"
        ],
        [
         "S00713",
         "C1163",
         "Loyal",
         "Consistent activity for over 5 years",
         "2023-01-01T00:00:00Z"
        ],
        [
         "S00714",
         "C1164",
         "Credit_Risk",
         "Customers with low credit scores",
         "2023-01-01T00:00:00Z"
        ],
        [
         "S00715",
         "C1164",
         "Credit_Risk",
         "Customers with low credit scores",
         "2023-01-01T00:00:00Z"
        ],
        [
         "S00716",
         "C1164",
         "Loyal",
         "Consistent activity for over 5 years",
         "2023-01-01T00:00:00Z"
        ],
        [
         "S00717",
         "C1164",
         "Loyal",
         "Consistent activity for over 5 years",
         "2023-01-01T00:00:00Z"
        ],
        [
         "S00718",
         "C1165",
         "Credit_Risk",
         "Customers with low credit scores",
         "2023-01-01T00:00:00Z"
        ],
        [
         "S00719",
         "C1165",
         "Credit_Risk",
         "Customers with low credit scores",
         "2023-01-01T00:00:00Z"
        ],
        [
         "S00720",
         "C1165",
         "Credit_Risk",
         "Customers with low credit scores",
         "2023-01-01T00:00:00Z"
        ],
        [
         "S00721",
         "C1165",
         "Credit_Risk",
         "Customers with low credit scores",
         "2023-01-01T00:00:00Z"
        ],
        [
         "S00722",
         "C1165",
         "Credit_Risk",
         "Customers with low credit scores",
         "2023-01-01T00:00:00Z"
        ],
        [
         "S00723",
         "C1165",
         "Loyal",
         "Consistent activity for over 5 years",
         "2023-01-01T00:00:00Z"
        ],
        [
         "S00724",
         "C1165",
         "Loyal",
         "Consistent activity for over 5 years",
         "2023-01-01T00:00:00Z"
        ],
        [
         "S00725",
         "C1165",
         "Loyal",
         "Consistent activity for over 5 years",
         "2023-01-01T00:00:00Z"
        ],
        [
         "S00726",
         "C1165",
         "Loyal",
         "Consistent activity for over 5 years",
         "2023-01-01T00:00:00Z"
        ],
        [
         "S00727",
         "C1165",
         "Loyal",
         "Consistent activity for over 5 years",
         "2023-01-01T00:00:00Z"
        ],
        [
         "S00728",
         "C1166",
         "Loyal",
         "Consistent activity for over 5 years",
         "2023-01-01T00:00:00Z"
        ],
        [
         "S00729",
         "C1166",
         "Loyal",
         "Consistent activity for over 5 years",
         "2023-01-01T00:00:00Z"
        ],
        [
         "S00730",
         "C1167",
         "Loyal",
         "Consistent activity for over 5 years",
         "2023-01-01T00:00:00Z"
        ],
        [
         "S00731",
         "C1167",
         "Loyal",
         "Consistent activity for over 5 years",
         "2023-01-01T00:00:00Z"
        ],
        [
         "S00732",
         "C1167",
         "Loyal",
         "Consistent activity for over 5 years",
         "2023-01-01T00:00:00Z"
        ],
        [
         "S00733",
         "C1168",
         "Loyal",
         "Consistent activity for over 5 years",
         "2023-01-01T00:00:00Z"
        ],
        [
         "S00734",
         "C1168",
         "Loyal",
         "Consistent activity for over 5 years",
         "2023-01-01T00:00:00Z"
        ],
        [
         "S00735",
         "C1168",
         "Loyal",
         "Consistent activity for over 5 years",
         "2023-01-01T00:00:00Z"
        ],
        [
         "S00736",
         "C1169",
         "Loyal",
         "Consistent activity for over 5 years",
         "2023-01-01T00:00:00Z"
        ],
        [
         "S00737",
         "C1169",
         "Loyal",
         "Consistent activity for over 5 years",
         "2023-01-01T00:00:00Z"
        ],
        [
         "S00738",
         "C1169",
         "Loyal",
         "Consistent activity for over 5 years",
         "2023-01-01T00:00:00Z"
        ],
        [
         "S00739",
         "C1169",
         "Loyal",
         "Consistent activity for over 5 years",
         "2023-01-01T00:00:00Z"
        ],
        [
         "S00740",
         "C1170",
         "Credit_Risk",
         "Customers with low credit scores",
         "2023-01-01T00:00:00Z"
        ],
        [
         "S00741",
         "C1170",
         "Credit_Risk",
         "Customers with low credit scores",
         "2023-01-01T00:00:00Z"
        ],
        [
         "S00742",
         "C1170",
         "Loyal",
         "Consistent activity for over 5 years",
         "2023-01-01T00:00:00Z"
        ],
        [
         "S00743",
         "C1170",
         "Loyal",
         "Consistent activity for over 5 years",
         "2023-01-01T00:00:00Z"
        ],
        [
         "S00744",
         "C1171",
         "Credit_Risk",
         "Customers with low credit scores",
         "2023-01-01T00:00:00Z"
        ],
        [
         "S00745",
         "C1171",
         "Credit_Risk",
         "Customers with low credit scores",
         "2023-01-01T00:00:00Z"
        ],
        [
         "S00746",
         "C1171",
         "Loyal",
         "Consistent activity for over 5 years",
         "2023-01-01T00:00:00Z"
        ],
        [
         "S00747",
         "C1171",
         "Loyal",
         "Consistent activity for over 5 years",
         "2023-01-01T00:00:00Z"
        ],
        [
         "S00748",
         "C1172",
         "Credit_Risk",
         "Customers with low credit scores",
         "2023-01-01T00:00:00Z"
        ],
        [
         "S00749",
         "C1172",
         "Credit_Risk",
         "Customers with low credit scores",
         "2023-01-01T00:00:00Z"
        ],
        [
         "S00750",
         "C1172",
         "Credit_Risk",
         "Customers with low credit scores",
         "2023-01-01T00:00:00Z"
        ],
        [
         "S00751",
         "C1172",
         "Loyal",
         "Consistent activity for over 5 years",
         "2023-01-01T00:00:00Z"
        ],
        [
         "S00752",
         "C1172",
         "Loyal",
         "Consistent activity for over 5 years",
         "2023-01-01T00:00:00Z"
        ],
        [
         "S00753",
         "C1172",
         "Loyal",
         "Consistent activity for over 5 years",
         "2023-01-01T00:00:00Z"
        ],
        [
         "S00754",
         "C1173",
         "Loyal",
         "Consistent activity for over 5 years",
         "2023-01-01T00:00:00Z"
        ],
        [
         "S00755",
         "C1174",
         "Credit_Risk",
         "Customers with low credit scores",
         "2023-01-01T00:00:00Z"
        ],
        [
         "S00756",
         "C1174",
         "Credit_Risk",
         "Customers with low credit scores",
         "2023-01-01T00:00:00Z"
        ],
        [
         "S00757",
         "C1174",
         "Credit_Risk",
         "Customers with low credit scores",
         "2023-01-01T00:00:00Z"
        ],
        [
         "S00758",
         "C1174",
         "Loyal",
         "Consistent activity for over 5 years",
         "2023-01-01T00:00:00Z"
        ],
        [
         "S00759",
         "C1174",
         "Loyal",
         "Consistent activity for over 5 years",
         "2023-01-01T00:00:00Z"
        ],
        [
         "S00760",
         "C1174",
         "Loyal",
         "Consistent activity for over 5 years",
         "2023-01-01T00:00:00Z"
        ],
        [
         "S00761",
         "C1175",
         "Loyal",
         "Consistent activity for over 5 years",
         "2023-01-01T00:00:00Z"
        ],
        [
         "S00762",
         "C1175",
         "Loyal",
         "Consistent activity for over 5 years",
         "2023-01-01T00:00:00Z"
        ],
        [
         "S00763",
         "C1175",
         "Loyal",
         "Consistent activity for over 5 years",
         "2023-01-01T00:00:00Z"
        ],
        [
         "S00764",
         "C1175",
         "Loyal",
         "Consistent activity for over 5 years",
         "2023-01-01T00:00:00Z"
        ],
        [
         "S00765",
         "C1175",
         "Loyal",
         "Consistent activity for over 5 years",
         "2023-01-01T00:00:00Z"
        ],
        [
         "S00766",
         "C1175",
         "Loyal",
         "Consistent activity for over 5 years",
         "2023-01-01T00:00:00Z"
        ],
        [
         "S00767",
         "C1176",
         "Loyal",
         "Consistent activity for over 5 years",
         "2023-01-01T00:00:00Z"
        ],
        [
         "S00768",
         "C1176",
         "Loyal",
         "Consistent activity for over 5 years",
         "2023-01-01T00:00:00Z"
        ],
        [
         "S00769",
         "C1176",
         "Loyal",
         "Consistent activity for over 5 years",
         "2023-01-01T00:00:00Z"
        ],
        [
         "S00770",
         "C1176",
         "Loyal",
         "Consistent activity for over 5 years",
         "2023-01-01T00:00:00Z"
        ],
        [
         "S00771",
         "C1177",
         "Loyal",
         "Consistent activity for over 5 years",
         "2023-01-01T00:00:00Z"
        ],
        [
         "S00772",
         "C1177",
         "Loyal",
         "Consistent activity for over 5 years",
         "2023-01-01T00:00:00Z"
        ],
        [
         "S00773",
         "C1177",
         "Loyal",
         "Consistent activity for over 5 years",
         "2023-01-01T00:00:00Z"
        ],
        [
         "S00774",
         "C1177",
         "Loyal",
         "Consistent activity for over 5 years",
         "2023-01-01T00:00:00Z"
        ],
        [
         "S00775",
         "C1177",
         "Loyal",
         "Consistent activity for over 5 years",
         "2023-01-01T00:00:00Z"
        ],
        [
         "S00776",
         "C1178",
         "Loyal",
         "Consistent activity for over 5 years",
         "2023-01-01T00:00:00Z"
        ],
        [
         "S00777",
         "C1179",
         "Loyal",
         "Consistent activity for over 5 years",
         "2023-01-01T00:00:00Z"
        ],
        [
         "S00778",
         "C1179",
         "Loyal",
         "Consistent activity for over 5 years",
         "2023-01-01T00:00:00Z"
        ],
        [
         "S00779",
         "C1179",
         "Loyal",
         "Consistent activity for over 5 years",
         "2023-01-01T00:00:00Z"
        ],
        [
         "S00780",
         "C1180",
         "Loyal",
         "Consistent activity for over 5 years",
         "2023-01-01T00:00:00Z"
        ],
        [
         "S00781",
         "C1180",
         "Loyal",
         "Consistent activity for over 5 years",
         "2023-01-01T00:00:00Z"
        ],
        [
         "S00782",
         "C1180",
         "Loyal",
         "Consistent activity for over 5 years",
         "2023-01-01T00:00:00Z"
        ],
        [
         "S00783",
         "C1180",
         "Loyal",
         "Consistent activity for over 5 years",
         "2023-01-01T00:00:00Z"
        ],
        [
         "S00784",
         "C1180",
         "Loyal",
         "Consistent activity for over 5 years",
         "2023-01-01T00:00:00Z"
        ],
        [
         "S00785",
         "C1181",
         "Loyal",
         "Consistent activity for over 5 years",
         "2023-01-01T00:00:00Z"
        ],
        [
         "S00786",
         "C1181",
         "Loyal",
         "Consistent activity for over 5 years",
         "2023-01-01T00:00:00Z"
        ],
        [
         "S00787",
         "C1181",
         "Loyal",
         "Consistent activity for over 5 years",
         "2023-01-01T00:00:00Z"
        ],
        [
         "S00788",
         "C1181",
         "Loyal",
         "Consistent activity for over 5 years",
         "2023-01-01T00:00:00Z"
        ],
        [
         "S00789",
         "C1182",
         "Credit_Risk",
         "Customers with low credit scores",
         "2023-01-01T00:00:00Z"
        ],
        [
         "S00790",
         "C1182",
         "Credit_Risk",
         "Customers with low credit scores",
         "2023-01-01T00:00:00Z"
        ],
        [
         "S00791",
         "C1182",
         "Credit_Risk",
         "Customers with low credit scores",
         "2023-01-01T00:00:00Z"
        ],
        [
         "S00792",
         "C1182",
         "Credit_Risk",
         "Customers with low credit scores",
         "2023-01-01T00:00:00Z"
        ],
        [
         "S00793",
         "C1182",
         "Credit_Risk",
         "Customers with low credit scores",
         "2023-01-01T00:00:00Z"
        ],
        [
         "S00794",
         "C1182",
         "Credit_Risk",
         "Customers with low credit scores",
         "2023-01-01T00:00:00Z"
        ],
        [
         "S00795",
         "C1182",
         "Credit_Risk",
         "Customers with low credit scores",
         "2023-01-01T00:00:00Z"
        ],
        [
         "S00796",
         "C1182",
         "Credit_Risk",
         "Customers with low credit scores",
         "2023-01-01T00:00:00Z"
        ],
        [
         "S00797",
         "C1182",
         "Loyal",
         "Consistent activity for over 5 years",
         "2023-01-01T00:00:00Z"
        ],
        [
         "S00798",
         "C1182",
         "Loyal",
         "Consistent activity for over 5 years",
         "2023-01-01T00:00:00Z"
        ],
        [
         "S00799",
         "C1182",
         "Loyal",
         "Consistent activity for over 5 years",
         "2023-01-01T00:00:00Z"
        ],
        [
         "S00800",
         "C1182",
         "Loyal",
         "Consistent activity for over 5 years",
         "2023-01-01T00:00:00Z"
        ],
        [
         "S00801",
         "C1182",
         "Loyal",
         "Consistent activity for over 5 years",
         "2023-01-01T00:00:00Z"
        ],
        [
         "S00802",
         "C1182",
         "Loyal",
         "Consistent activity for over 5 years",
         "2023-01-01T00:00:00Z"
        ],
        [
         "S00803",
         "C1182",
         "Loyal",
         "Consistent activity for over 5 years",
         "2023-01-01T00:00:00Z"
        ],
        [
         "S00804",
         "C1182",
         "Loyal",
         "Consistent activity for over 5 years",
         "2023-01-01T00:00:00Z"
        ],
        [
         "S00805",
         "C1183",
         "Loyal",
         "Consistent activity for over 5 years",
         "2023-01-01T00:00:00Z"
        ],
        [
         "S00806",
         "C1183",
         "Loyal",
         "Consistent activity for over 5 years",
         "2023-01-01T00:00:00Z"
        ],
        [
         "S00807",
         "C1183",
         "Loyal",
         "Consistent activity for over 5 years",
         "2023-01-01T00:00:00Z"
        ],
        [
         "S00808",
         "C1183",
         "Loyal",
         "Consistent activity for over 5 years",
         "2023-01-01T00:00:00Z"
        ],
        [
         "S00809",
         "C1183",
         "Loyal",
         "Consistent activity for over 5 years",
         "2023-01-01T00:00:00Z"
        ],
        [
         "S00810",
         "C1183",
         "Loyal",
         "Consistent activity for over 5 years",
         "2023-01-01T00:00:00Z"
        ],
        [
         "S00811",
         "C1184",
         "Loyal",
         "Consistent activity for over 5 years",
         "2023-01-01T00:00:00Z"
        ],
        [
         "S00812",
         "C1184",
         "Loyal",
         "Consistent activity for over 5 years",
         "2023-01-01T00:00:00Z"
        ],
        [
         "S00813",
         "C1184",
         "Loyal",
         "Consistent activity for over 5 years",
         "2023-01-01T00:00:00Z"
        ],
        [
         "S00814",
         "C1184",
         "Loyal",
         "Consistent activity for over 5 years",
         "2023-01-01T00:00:00Z"
        ],
        [
         "S00815",
         "C1185",
         "Credit_Risk",
         "Customers with low credit scores",
         "2023-01-01T00:00:00Z"
        ],
        [
         "S00816",
         "C1185",
         "Credit_Risk",
         "Customers with low credit scores",
         "2023-01-01T00:00:00Z"
        ],
        [
         "S00817",
         "C1185",
         "Credit_Risk",
         "Customers with low credit scores",
         "2023-01-01T00:00:00Z"
        ],
        [
         "S00818",
         "C1185",
         "Credit_Risk",
         "Customers with low credit scores",
         "2023-01-01T00:00:00Z"
        ],
        [
         "S00819",
         "C1185",
         "Credit_Risk",
         "Customers with low credit scores",
         "2023-01-01T00:00:00Z"
        ],
        [
         "S00820",
         "C1191",
         "Credit_Risk",
         "Customers with low credit scores",
         "2023-01-01T00:00:00Z"
        ],
        [
         "S00821",
         "C1191",
         "Credit_Risk",
         "Customers with low credit scores",
         "2023-01-01T00:00:00Z"
        ],
        [
         "S00822",
         "C1191",
         "Credit_Risk",
         "Customers with low credit scores",
         "2023-01-01T00:00:00Z"
        ],
        [
         "S00823",
         "C1193",
         "Credit_Risk",
         "Customers with low credit scores",
         "2023-01-01T00:00:00Z"
        ],
        [
         "S00824",
         "C1193",
         "Credit_Risk",
         "Customers with low credit scores",
         "2023-01-01T00:00:00Z"
        ],
        [
         "S00825",
         "C1195",
         "Credit_Risk",
         "Customers with low credit scores",
         "2023-01-01T00:00:00Z"
        ],
        [
         "S00826",
         "C1195",
         "Credit_Risk",
         "Customers with low credit scores",
         "2023-01-01T00:00:00Z"
        ],
        [
         "S00827",
         "C1195",
         "Credit_Risk",
         "Customers with low credit scores",
         "2023-01-01T00:00:00Z"
        ],
        [
         "S00828",
         "C1195",
         "Credit_Risk",
         "Customers with low credit scores",
         "2023-01-01T00:00:00Z"
        ],
        [
         "S00829",
         "C1197",
         "Credit_Risk",
         "Customers with low credit scores",
         "2023-01-01T00:00:00Z"
        ],
        [
         "S00830",
         "C1198",
         "Credit_Risk",
         "Customers with low credit scores",
         "2023-01-01T00:00:00Z"
        ],
        [
         "S00831",
         "C1198",
         "Credit_Risk",
         "Customers with low credit scores",
         "2023-01-01T00:00:00Z"
        ],
        [
         "S00832",
         "C1201",
         "High_Value",
         "Customers with high transaction volume",
         "2023-01-01T00:00:00Z"
        ],
        [
         "S00833",
         "C1201",
         "Credit_Risk",
         "Customers with low credit scores",
         "2023-01-01T00:00:00Z"
        ],
        [
         "S00834",
         "C1201",
         "Credit_Risk",
         "Customers with low credit scores",
         "2023-01-01T00:00:00Z"
        ],
        [
         "S00835",
         "C1201",
         "Credit_Risk",
         "Customers with low credit scores",
         "2023-01-01T00:00:00Z"
        ],
        [
         "S00836",
         "C1201",
         "Credit_Risk",
         "Customers with low credit scores",
         "2023-01-01T00:00:00Z"
        ],
        [
         "S00837",
         "C1201",
         "Credit_Risk",
         "Customers with low credit scores",
         "2023-01-01T00:00:00Z"
        ],
        [
         "S00838",
         "C1201",
         "Credit_Risk",
         "Customers with low credit scores",
         "2023-01-01T00:00:00Z"
        ],
        [
         "S00839",
         "C1201",
         "Credit_Risk",
         "Customers with low credit scores",
         "2023-01-01T00:00:00Z"
        ],
        [
         "S00840",
         "C1201",
         "Credit_Risk",
         "Customers with low credit scores",
         "2023-01-01T00:00:00Z"
        ],
        [
         "S00841",
         "C1203",
         "Credit_Risk",
         "Customers with low credit scores",
         "2023-01-01T00:00:00Z"
        ],
        [
         "S00842",
         "C1203",
         "Credit_Risk",
         "Customers with low credit scores",
         "2023-01-01T00:00:00Z"
        ],
        [
         "S00843",
         "C1203",
         "Credit_Risk",
         "Customers with low credit scores",
         "2023-01-01T00:00:00Z"
        ],
        [
         "S00844",
         "C1203",
         "Credit_Risk",
         "Customers with low credit scores",
         "2023-01-01T00:00:00Z"
        ],
        [
         "S00845",
         "C1203",
         "Credit_Risk",
         "Customers with low credit scores",
         "2023-01-01T00:00:00Z"
        ],
        [
         "S00846",
         "C1203",
         "Credit_Risk",
         "Customers with low credit scores",
         "2023-01-01T00:00:00Z"
        ],
        [
         "S00847",
         "C1203",
         "Credit_Risk",
         "Customers with low credit scores",
         "2023-01-01T00:00:00Z"
        ],
        [
         "S00848",
         "C1203",
         "Credit_Risk",
         "Customers with low credit scores",
         "2023-01-01T00:00:00Z"
        ],
        [
         "S00849",
         "C1213",
         "Credit_Risk",
         "Customers with low credit scores",
         "2023-01-01T00:00:00Z"
        ],
        [
         "S00850",
         "C1213",
         "Credit_Risk",
         "Customers with low credit scores",
         "2023-01-01T00:00:00Z"
        ],
        [
         "S00851",
         "C1214",
         "Credit_Risk",
         "Customers with low credit scores",
         "2023-01-01T00:00:00Z"
        ],
        [
         "S00852",
         "C1214",
         "Credit_Risk",
         "Customers with low credit scores",
         "2023-01-01T00:00:00Z"
        ],
        [
         "S00853",
         "C1216",
         "Credit_Risk",
         "Customers with low credit scores",
         "2023-01-01T00:00:00Z"
        ],
        [
         "S00854",
         "C1216",
         "Credit_Risk",
         "Customers with low credit scores",
         "2023-01-01T00:00:00Z"
        ],
        [
         "S00855",
         "C1216",
         "Credit_Risk",
         "Customers with low credit scores",
         "2023-01-01T00:00:00Z"
        ],
        [
         "S00856",
         "C1218",
         "Credit_Risk",
         "Customers with low credit scores",
         "2023-01-01T00:00:00Z"
        ],
        [
         "S00857",
         "C1218",
         "Credit_Risk",
         "Customers with low credit scores",
         "2023-01-01T00:00:00Z"
        ],
        [
         "S00858",
         "C1218",
         "Credit_Risk",
         "Customers with low credit scores",
         "2023-01-01T00:00:00Z"
        ],
        [
         "S00859",
         "C1218",
         "Credit_Risk",
         "Customers with low credit scores",
         "2023-01-01T00:00:00Z"
        ],
        [
         "S00860",
         "C1218",
         "Credit_Risk",
         "Customers with low credit scores",
         "2023-01-01T00:00:00Z"
        ],
        [
         "S00861",
         "C1230",
         "Credit_Risk",
         "Customers with low credit scores",
         "2023-01-01T00:00:00Z"
        ],
        [
         "S00862",
         "C1230",
         "Credit_Risk",
         "Customers with low credit scores",
         "2023-01-01T00:00:00Z"
        ],
        [
         "S00863",
         "C1230",
         "Credit_Risk",
         "Customers with low credit scores",
         "2023-01-01T00:00:00Z"
        ],
        [
         "S00864",
         "C1240",
         "Credit_Risk",
         "Customers with low credit scores",
         "2023-01-01T00:00:00Z"
        ],
        [
         "S00865",
         "C1240",
         "Credit_Risk",
         "Customers with low credit scores",
         "2023-01-01T00:00:00Z"
        ],
        [
         "S00866",
         "C1253",
         "Credit_Risk",
         "Customers with low credit scores",
         "2023-01-01T00:00:00Z"
        ],
        [
         "S00867",
         "C1253",
         "Credit_Risk",
         "Customers with low credit scores",
         "2023-01-01T00:00:00Z"
        ],
        [
         "S00868",
         "C1253",
         "Credit_Risk",
         "Customers with low credit scores",
         "2023-01-01T00:00:00Z"
        ],
        [
         "S00869",
         "C1253",
         "Credit_Risk",
         "Customers with low credit scores",
         "2023-01-01T00:00:00Z"
        ],
        [
         "S00870",
         "C1256",
         "Credit_Risk",
         "Customers with low credit scores",
         "2023-01-01T00:00:00Z"
        ],
        [
         "S00871",
         "C1256",
         "Credit_Risk",
         "Customers with low credit scores",
         "2023-01-01T00:00:00Z"
        ],
        [
         "S00872",
         "C1256",
         "Credit_Risk",
         "Customers with low credit scores",
         "2023-01-01T00:00:00Z"
        ],
        [
         "S00873",
         "C1262",
         "Credit_Risk",
         "Customers with low credit scores",
         "2023-01-01T00:00:00Z"
        ],
        [
         "S00874",
         "C1262",
         "Credit_Risk",
         "Customers with low credit scores",
         "2023-01-01T00:00:00Z"
        ],
        [
         "S00875",
         "C1262",
         "Credit_Risk",
         "Customers with low credit scores",
         "2023-01-01T00:00:00Z"
        ],
        [
         "S00876",
         "C1267",
         "Credit_Risk",
         "Customers with low credit scores",
         "2023-01-01T00:00:00Z"
        ],
        [
         "S00877",
         "C1267",
         "Credit_Risk",
         "Customers with low credit scores",
         "2023-01-01T00:00:00Z"
        ],
        [
         "S00878",
         "C1267",
         "Credit_Risk",
         "Customers with low credit scores",
         "2023-01-01T00:00:00Z"
        ],
        [
         "S00879",
         "C1267",
         "Credit_Risk",
         "Customers with low credit scores",
         "2023-01-01T00:00:00Z"
        ],
        [
         "S00880",
         "C1268",
         "Credit_Risk",
         "Customers with low credit scores",
         "2023-01-01T00:00:00Z"
        ],
        [
         "S00881",
         "C1268",
         "Credit_Risk",
         "Customers with low credit scores",
         "2023-01-01T00:00:00Z"
        ],
        [
         "S00882",
         "C1268",
         "Credit_Risk",
         "Customers with low credit scores",
         "2023-01-01T00:00:00Z"
        ],
        [
         "S00883",
         "C1268",
         "Credit_Risk",
         "Customers with low credit scores",
         "2023-01-01T00:00:00Z"
        ],
        [
         "S00884",
         "C1268",
         "Credit_Risk",
         "Customers with low credit scores",
         "2023-01-01T00:00:00Z"
        ],
        [
         "S00885",
         "C1277",
         "Credit_Risk",
         "Customers with low credit scores",
         "2023-01-01T00:00:00Z"
        ],
        [
         "S00886",
         "C1282",
         "Credit_Risk",
         "Customers with low credit scores",
         "2023-01-01T00:00:00Z"
        ],
        [
         "S00887",
         "C1282",
         "Credit_Risk",
         "Customers with low credit scores",
         "2023-01-01T00:00:00Z"
        ],
        [
         "S00888",
         "C1282",
         "Credit_Risk",
         "Customers with low credit scores",
         "2023-01-01T00:00:00Z"
        ],
        [
         "S00889",
         "C1284",
         "Credit_Risk",
         "Customers with low credit scores",
         "2023-01-01T00:00:00Z"
        ],
        [
         "S00890",
         "C1284",
         "Credit_Risk",
         "Customers with low credit scores",
         "2023-01-01T00:00:00Z"
        ],
        [
         "S00891",
         "C1285",
         "Credit_Risk",
         "Customers with low credit scores",
         "2023-01-01T00:00:00Z"
        ],
        [
         "S00892",
         "C1285",
         "Credit_Risk",
         "Customers with low credit scores",
         "2023-01-01T00:00:00Z"
        ],
        [
         "S00893",
         "C1285",
         "Credit_Risk",
         "Customers with low credit scores",
         "2023-01-01T00:00:00Z"
        ],
        [
         "S00894",
         "C1285",
         "Credit_Risk",
         "Customers with low credit scores",
         "2023-01-01T00:00:00Z"
        ],
        [
         "S00895",
         "C1285",
         "Credit_Risk",
         "Customers with low credit scores",
         "2023-01-01T00:00:00Z"
        ],
        [
         "S00896",
         "C1289",
         "Credit_Risk",
         "Customers with low credit scores",
         "2023-01-01T00:00:00Z"
        ],
        [
         "S00897",
         "C1289",
         "Credit_Risk",
         "Customers with low credit scores",
         "2023-01-01T00:00:00Z"
        ],
        [
         "S00898",
         "C1289",
         "Credit_Risk",
         "Customers with low credit scores",
         "2023-01-01T00:00:00Z"
        ],
        [
         "S00899",
         "C1289",
         "Credit_Risk",
         "Customers with low credit scores",
         "2023-01-01T00:00:00Z"
        ],
        [
         "S00900",
         "C1290",
         "Credit_Risk",
         "Customers with low credit scores",
         "2023-01-01T00:00:00Z"
        ],
        [
         "S00901",
         "C1290",
         "Credit_Risk",
         "Customers with low credit scores",
         "2023-01-01T00:00:00Z"
        ],
        [
         "S00902",
         "C1290",
         "Credit_Risk",
         "Customers with low credit scores",
         "2023-01-01T00:00:00Z"
        ],
        [
         "S00903",
         "C1290",
         "Credit_Risk",
         "Customers with low credit scores",
         "2023-01-01T00:00:00Z"
        ],
        [
         "S00904",
         "C1290",
         "Credit_Risk",
         "Customers with low credit scores",
         "2023-01-01T00:00:00Z"
        ],
        [
         "S00905",
         "C1292",
         "Credit_Risk",
         "Customers with low credit scores",
         "2023-01-01T00:00:00Z"
        ],
        [
         "S00906",
         "C1292",
         "Credit_Risk",
         "Customers with low credit scores",
         "2023-01-01T00:00:00Z"
        ],
        [
         "S00907",
         "C1292",
         "Credit_Risk",
         "Customers with low credit scores",
         "2023-01-01T00:00:00Z"
        ],
        [
         "S00908",
         "C1294",
         "Credit_Risk",
         "Customers with low credit scores",
         "2023-01-01T00:00:00Z"
        ],
        [
         "S00909",
         "C1294",
         "Credit_Risk",
         "Customers with low credit scores",
         "2023-01-01T00:00:00Z"
        ],
        [
         "S00910",
         "C1294",
         "Credit_Risk",
         "Customers with low credit scores",
         "2023-01-01T00:00:00Z"
        ],
        [
         "S00911",
         "C1295",
         "Credit_Risk",
         "Customers with low credit scores",
         "2023-01-01T00:00:00Z"
        ],
        [
         "S00912",
         "C1295",
         "Credit_Risk",
         "Customers with low credit scores",
         "2023-01-01T00:00:00Z"
        ],
        [
         "S00913",
         "C1295",
         "Credit_Risk",
         "Customers with low credit scores",
         "2023-01-01T00:00:00Z"
        ],
        [
         "S00914",
         "C1295",
         "Credit_Risk",
         "Customers with low credit scores",
         "2023-01-01T00:00:00Z"
        ],
        [
         "S00915",
         "C1295",
         "Credit_Risk",
         "Customers with low credit scores",
         "2023-01-01T00:00:00Z"
        ],
        [
         "S00916",
         "C1295",
         "Credit_Risk",
         "Customers with low credit scores",
         "2023-01-01T00:00:00Z"
        ],
        [
         "S00917",
         "C1295",
         "Credit_Risk",
         "Customers with low credit scores",
         "2023-01-01T00:00:00Z"
        ],
        [
         "S00918",
         "C1299",
         "Credit_Risk",
         "Customers with low credit scores",
         "2023-01-01T00:00:00Z"
        ],
        [
         "S00919",
         "C1299",
         "Credit_Risk",
         "Customers with low credit scores",
         "2023-01-01T00:00:00Z"
        ],
        [
         "S00920",
         "C1300",
         "Credit_Risk",
         "Customers with low credit scores",
         "2023-01-01T00:00:00Z"
        ],
        [
         "S00921",
         "C1300",
         "Credit_Risk",
         "Customers with low credit scores",
         "2023-01-01T00:00:00Z"
        ],
        [
         "S00922",
         "C1300",
         "Credit_Risk",
         "Customers with low credit scores",
         "2023-01-01T00:00:00Z"
        ],
        [
         "S00923",
         "C1300",
         "Credit_Risk",
         "Customers with low credit scores",
         "2023-01-01T00:00:00Z"
        ],
        [
         "S00924",
         "C1305",
         "Credit_Risk",
         "Customers with low credit scores",
         "2023-01-01T00:00:00Z"
        ],
        [
         "S00925",
         "C1306",
         "Credit_Risk",
         "Customers with low credit scores",
         "2023-01-01T00:00:00Z"
        ],
        [
         "S00926",
         "C1306",
         "Credit_Risk",
         "Customers with low credit scores",
         "2023-01-01T00:00:00Z"
        ],
        [
         "S00927",
         "C1306",
         "Credit_Risk",
         "Customers with low credit scores",
         "2023-01-01T00:00:00Z"
        ],
        [
         "S00928",
         "C1306",
         "Credit_Risk",
         "Customers with low credit scores",
         "2023-01-01T00:00:00Z"
        ],
        [
         "S00929",
         "C1315",
         "Credit_Risk",
         "Customers with low credit scores",
         "2023-01-01T00:00:00Z"
        ],
        [
         "S00930",
         "C1315",
         "Credit_Risk",
         "Customers with low credit scores",
         "2023-01-01T00:00:00Z"
        ],
        [
         "S00931",
         "C1315",
         "Credit_Risk",
         "Customers with low credit scores",
         "2023-01-01T00:00:00Z"
        ],
        [
         "S00932",
         "C1315",
         "Credit_Risk",
         "Customers with low credit scores",
         "2023-01-01T00:00:00Z"
        ],
        [
         "S00933",
         "C1318",
         "Credit_Risk",
         "Customers with low credit scores",
         "2023-01-01T00:00:00Z"
        ],
        [
         "S00934",
         "C1318",
         "Credit_Risk",
         "Customers with low credit scores",
         "2023-01-01T00:00:00Z"
        ],
        [
         "S00935",
         "C1318",
         "Credit_Risk",
         "Customers with low credit scores",
         "2023-01-01T00:00:00Z"
        ],
        [
         "S00936",
         "C1318",
         "Credit_Risk",
         "Customers with low credit scores",
         "2023-01-01T00:00:00Z"
        ],
        [
         "S00937",
         "C1325",
         "High_Value",
         "Customers with high transaction volume",
         "2023-01-01T00:00:00Z"
        ],
        [
         "S00938",
         "C1327",
         "Credit_Risk",
         "Customers with low credit scores",
         "2023-01-01T00:00:00Z"
        ],
        [
         "S00939",
         "C1327",
         "Credit_Risk",
         "Customers with low credit scores",
         "2023-01-01T00:00:00Z"
        ],
        [
         "S00940",
         "C1327",
         "Credit_Risk",
         "Customers with low credit scores",
         "2023-01-01T00:00:00Z"
        ],
        [
         "S00941",
         "C1329",
         "Credit_Risk",
         "Customers with low credit scores",
         "2023-01-01T00:00:00Z"
        ],
        [
         "S00942",
         "C1329",
         "Credit_Risk",
         "Customers with low credit scores",
         "2023-01-01T00:00:00Z"
        ],
        [
         "S00943",
         "C1329",
         "Credit_Risk",
         "Customers with low credit scores",
         "2023-01-01T00:00:00Z"
        ],
        [
         "S00944",
         "C1329",
         "Credit_Risk",
         "Customers with low credit scores",
         "2023-01-01T00:00:00Z"
        ],
        [
         "S00945",
         "C1333",
         "Credit_Risk",
         "Customers with low credit scores",
         "2023-01-01T00:00:00Z"
        ],
        [
         "S00946",
         "C1333",
         "Credit_Risk",
         "Customers with low credit scores",
         "2023-01-01T00:00:00Z"
        ],
        [
         "S00947",
         "C1333",
         "Credit_Risk",
         "Customers with low credit scores",
         "2023-01-01T00:00:00Z"
        ],
        [
         "S00948",
         "C1333",
         "Credit_Risk",
         "Customers with low credit scores",
         "2023-01-01T00:00:00Z"
        ],
        [
         "S00949",
         "C1334",
         "Credit_Risk",
         "Customers with low credit scores",
         "2023-01-01T00:00:00Z"
        ],
        [
         "S00950",
         "C1336",
         "Credit_Risk",
         "Customers with low credit scores",
         "2023-01-01T00:00:00Z"
        ],
        [
         "S00951",
         "C1336",
         "Credit_Risk",
         "Customers with low credit scores",
         "2023-01-01T00:00:00Z"
        ],
        [
         "S00952",
         "C1336",
         "Credit_Risk",
         "Customers with low credit scores",
         "2023-01-01T00:00:00Z"
        ],
        [
         "S00953",
         "C1336",
         "Credit_Risk",
         "Customers with low credit scores",
         "2023-01-01T00:00:00Z"
        ],
        [
         "S00954",
         "C1336",
         "Credit_Risk",
         "Customers with low credit scores",
         "2023-01-01T00:00:00Z"
        ],
        [
         "S00955",
         "C1339",
         "Credit_Risk",
         "Customers with low credit scores",
         "2023-01-01T00:00:00Z"
        ],
        [
         "S00956",
         "C1339",
         "Credit_Risk",
         "Customers with low credit scores",
         "2023-01-01T00:00:00Z"
        ],
        [
         "S00957",
         "C1344",
         "Credit_Risk",
         "Customers with low credit scores",
         "2023-01-01T00:00:00Z"
        ],
        [
         "S00958",
         "C1344",
         "Credit_Risk",
         "Customers with low credit scores",
         "2023-01-01T00:00:00Z"
        ],
        [
         "S00959",
         "C1344",
         "Credit_Risk",
         "Customers with low credit scores",
         "2023-01-01T00:00:00Z"
        ],
        [
         "S00960",
         "C1344",
         "Credit_Risk",
         "Customers with low credit scores",
         "2023-01-01T00:00:00Z"
        ],
        [
         "S00961",
         "C1344",
         "Credit_Risk",
         "Customers with low credit scores",
         "2023-01-01T00:00:00Z"
        ],
        [
         "S00962",
         "C1355",
         "Credit_Risk",
         "Customers with low credit scores",
         "2023-01-01T00:00:00Z"
        ],
        [
         "S00963",
         "C1355",
         "Credit_Risk",
         "Customers with low credit scores",
         "2023-01-01T00:00:00Z"
        ],
        [
         "S00964",
         "C1355",
         "Credit_Risk",
         "Customers with low credit scores",
         "2023-01-01T00:00:00Z"
        ],
        [
         "S00965",
         "C1355",
         "Credit_Risk",
         "Customers with low credit scores",
         "2023-01-01T00:00:00Z"
        ],
        [
         "S00966",
         "C1355",
         "Credit_Risk",
         "Customers with low credit scores",
         "2023-01-01T00:00:00Z"
        ],
        [
         "S00967",
         "C1357",
         "Credit_Risk",
         "Customers with low credit scores",
         "2023-01-01T00:00:00Z"
        ],
        [
         "S00968",
         "C1357",
         "Credit_Risk",
         "Customers with low credit scores",
         "2023-01-01T00:00:00Z"
        ],
        [
         "S00969",
         "C1363",
         "Credit_Risk",
         "Customers with low credit scores",
         "2023-01-01T00:00:00Z"
        ],
        [
         "S00970",
         "C1364",
         "Credit_Risk",
         "Customers with low credit scores",
         "2023-01-01T00:00:00Z"
        ],
        [
         "S00971",
         "C1365",
         "Credit_Risk",
         "Customers with low credit scores",
         "2023-01-01T00:00:00Z"
        ],
        [
         "S00972",
         "C1365",
         "Credit_Risk",
         "Customers with low credit scores",
         "2023-01-01T00:00:00Z"
        ],
        [
         "S00973",
         "C1365",
         "Credit_Risk",
         "Customers with low credit scores",
         "2023-01-01T00:00:00Z"
        ],
        [
         "S00974",
         "C1365",
         "Credit_Risk",
         "Customers with low credit scores",
         "2023-01-01T00:00:00Z"
        ],
        [
         "S00975",
         "C1365",
         "Credit_Risk",
         "Customers with low credit scores",
         "2023-01-01T00:00:00Z"
        ],
        [
         "S00976",
         "C1365",
         "Credit_Risk",
         "Customers with low credit scores",
         "2023-01-01T00:00:00Z"
        ],
        [
         "S00977",
         "C1372",
         "Credit_Risk",
         "Customers with low credit scores",
         "2023-01-01T00:00:00Z"
        ],
        [
         "S00978",
         "C1372",
         "Credit_Risk",
         "Customers with low credit scores",
         "2023-01-01T00:00:00Z"
        ],
        [
         "S00979",
         "C1372",
         "Credit_Risk",
         "Customers with low credit scores",
         "2023-01-01T00:00:00Z"
        ],
        [
         "S00980",
         "C1372",
         "Credit_Risk",
         "Customers with low credit scores",
         "2023-01-01T00:00:00Z"
        ],
        [
         "S00981",
         "C1372",
         "Credit_Risk",
         "Customers with low credit scores",
         "2023-01-01T00:00:00Z"
        ],
        [
         "S00982",
         "C1373",
         "Credit_Risk",
         "Customers with low credit scores",
         "2023-01-01T00:00:00Z"
        ],
        [
         "S00983",
         "C1375",
         "Credit_Risk",
         "Customers with low credit scores",
         "2023-01-01T00:00:00Z"
        ],
        [
         "S00984",
         "C1377",
         "Credit_Risk",
         "Customers with low credit scores",
         "2023-01-01T00:00:00Z"
        ],
        [
         "S00985",
         "C1377",
         "Credit_Risk",
         "Customers with low credit scores",
         "2023-01-01T00:00:00Z"
        ],
        [
         "S00986",
         "C1377",
         "Credit_Risk",
         "Customers with low credit scores",
         "2023-01-01T00:00:00Z"
        ],
        [
         "S00987",
         "C1377",
         "Credit_Risk",
         "Customers with low credit scores",
         "2023-01-01T00:00:00Z"
        ],
        [
         "S00988",
         "C1377",
         "Credit_Risk",
         "Customers with low credit scores",
         "2023-01-01T00:00:00Z"
        ],
        [
         "S00989",
         "C1382",
         "High_Value",
         "Customers with high transaction volume",
         "2023-01-01T00:00:00Z"
        ],
        [
         "S00990",
         "C1388",
         "Credit_Risk",
         "Customers with low credit scores",
         "2023-01-01T00:00:00Z"
        ],
        [
         "S00991",
         "C1388",
         "Credit_Risk",
         "Customers with low credit scores",
         "2023-01-01T00:00:00Z"
        ],
        [
         "S00992",
         "C1389",
         "Credit_Risk",
         "Customers with low credit scores",
         "2023-01-01T00:00:00Z"
        ],
        [
         "S00993",
         "C1389",
         "Credit_Risk",
         "Customers with low credit scores",
         "2023-01-01T00:00:00Z"
        ],
        [
         "S00994",
         "C1389",
         "Credit_Risk",
         "Customers with low credit scores",
         "2023-01-01T00:00:00Z"
        ],
        [
         "S00995",
         "C1391",
         "Credit_Risk",
         "Customers with low credit scores",
         "2023-01-01T00:00:00Z"
        ],
        [
         "S00996",
         "C1396",
         "Credit_Risk",
         "Customers with low credit scores",
         "2023-01-01T00:00:00Z"
        ],
        [
         "S00997",
         "C1396",
         "Credit_Risk",
         "Customers with low credit scores",
         "2023-01-01T00:00:00Z"
        ],
        [
         "S00998",
         "C1398",
         "Credit_Risk",
         "Customers with low credit scores",
         "2023-01-01T00:00:00Z"
        ],
        [
         "S00999",
         "C1398",
         "Credit_Risk",
         "Customers with low credit scores",
         "2023-01-01T00:00:00Z"
        ],
        [
         "S001000",
         "C1398",
         "Credit_Risk",
         "Customers with low credit scores",
         "2023-01-01T00:00:00Z"
        ],
        [
         "S001001",
         "C1399",
         "High_Value",
         "Customers with high transaction volume",
         "2023-01-01T00:00:00Z"
        ],
        [
         "S001002",
         "C1407",
         "Credit_Risk",
         "Customers with low credit scores",
         "2023-01-01T00:00:00Z"
        ],
        [
         "S001003",
         "C1412",
         "Credit_Risk",
         "Customers with low credit scores",
         "2023-01-01T00:00:00Z"
        ],
        [
         "S001004",
         "C1412",
         "Credit_Risk",
         "Customers with low credit scores",
         "2023-01-01T00:00:00Z"
        ],
        [
         "S001005",
         "C1412",
         "Credit_Risk",
         "Customers with low credit scores",
         "2023-01-01T00:00:00Z"
        ],
        [
         "S001006",
         "C1412",
         "Credit_Risk",
         "Customers with low credit scores",
         "2023-01-01T00:00:00Z"
        ],
        [
         "S001007",
         "C1412",
         "Credit_Risk",
         "Customers with low credit scores",
         "2023-01-01T00:00:00Z"
        ],
        [
         "S001008",
         "C1412",
         "Credit_Risk",
         "Customers with low credit scores",
         "2023-01-01T00:00:00Z"
        ],
        [
         "S001009",
         "C1412",
         "Credit_Risk",
         "Customers with low credit scores",
         "2023-01-01T00:00:00Z"
        ],
        [
         "S001010",
         "C1413",
         "Credit_Risk",
         "Customers with low credit scores",
         "2023-01-01T00:00:00Z"
        ],
        [
         "S001011",
         "C1414",
         "Credit_Risk",
         "Customers with low credit scores",
         "2023-01-01T00:00:00Z"
        ],
        [
         "S001012",
         "C1415",
         "Credit_Risk",
         "Customers with low credit scores",
         "2023-01-01T00:00:00Z"
        ],
        [
         "S001013",
         "C1415",
         "Credit_Risk",
         "Customers with low credit scores",
         "2023-01-01T00:00:00Z"
        ],
        [
         "S001014",
         "C1415",
         "Credit_Risk",
         "Customers with low credit scores",
         "2023-01-01T00:00:00Z"
        ],
        [
         "S001015",
         "C1415",
         "Credit_Risk",
         "Customers with low credit scores",
         "2023-01-01T00:00:00Z"
        ],
        [
         "S001016",
         "C1418",
         "Credit_Risk",
         "Customers with low credit scores",
         "2023-01-01T00:00:00Z"
        ],
        [
         "S001017",
         "C1418",
         "Credit_Risk",
         "Customers with low credit scores",
         "2023-01-01T00:00:00Z"
        ],
        [
         "S001018",
         "C1418",
         "Credit_Risk",
         "Customers with low credit scores",
         "2023-01-01T00:00:00Z"
        ],
        [
         "S001019",
         "C1418",
         "Credit_Risk",
         "Customers with low credit scores",
         "2023-01-01T00:00:00Z"
        ],
        [
         "S001020",
         "C1420",
         "Credit_Risk",
         "Customers with low credit scores",
         "2023-01-01T00:00:00Z"
        ],
        [
         "S001021",
         "C1420",
         "Credit_Risk",
         "Customers with low credit scores",
         "2023-01-01T00:00:00Z"
        ],
        [
         "S001022",
         "C1420",
         "Credit_Risk",
         "Customers with low credit scores",
         "2023-01-01T00:00:00Z"
        ],
        [
         "S001023",
         "C1420",
         "Credit_Risk",
         "Customers with low credit scores",
         "2023-01-01T00:00:00Z"
        ],
        [
         "S001024",
         "C1421",
         "Credit_Risk",
         "Customers with low credit scores",
         "2023-01-01T00:00:00Z"
        ],
        [
         "S001025",
         "C1421",
         "Credit_Risk",
         "Customers with low credit scores",
         "2023-01-01T00:00:00Z"
        ],
        [
         "S001026",
         "C1421",
         "Credit_Risk",
         "Customers with low credit scores",
         "2023-01-01T00:00:00Z"
        ],
        [
         "S001027",
         "C1422",
         "Credit_Risk",
         "Customers with low credit scores",
         "2023-01-01T00:00:00Z"
        ],
        [
         "S001028",
         "C1422",
         "Credit_Risk",
         "Customers with low credit scores",
         "2023-01-01T00:00:00Z"
        ],
        [
         "S001029",
         "C1422",
         "Credit_Risk",
         "Customers with low credit scores",
         "2023-01-01T00:00:00Z"
        ],
        [
         "S001030",
         "C1422",
         "Credit_Risk",
         "Customers with low credit scores",
         "2023-01-01T00:00:00Z"
        ],
        [
         "S001031",
         "C1425",
         "Credit_Risk",
         "Customers with low credit scores",
         "2023-01-01T00:00:00Z"
        ],
        [
         "S001032",
         "C1425",
         "Credit_Risk",
         "Customers with low credit scores",
         "2023-01-01T00:00:00Z"
        ],
        [
         "S001033",
         "C1432",
         "Credit_Risk",
         "Customers with low credit scores",
         "2023-01-01T00:00:00Z"
        ],
        [
         "S001034",
         "C1432",
         "Credit_Risk",
         "Customers with low credit scores",
         "2023-01-01T00:00:00Z"
        ],
        [
         "S001035",
         "C1434",
         "Credit_Risk",
         "Customers with low credit scores",
         "2023-01-01T00:00:00Z"
        ],
        [
         "S001036",
         "C1434",
         "Credit_Risk",
         "Customers with low credit scores",
         "2023-01-01T00:00:00Z"
        ],
        [
         "S001037",
         "C1437",
         "Credit_Risk",
         "Customers with low credit scores",
         "2023-01-01T00:00:00Z"
        ],
        [
         "S001038",
         "C1437",
         "Credit_Risk",
         "Customers with low credit scores",
         "2023-01-01T00:00:00Z"
        ],
        [
         "S001039",
         "C1437",
         "Credit_Risk",
         "Customers with low credit scores",
         "2023-01-01T00:00:00Z"
        ],
        [
         "S001040",
         "C1437",
         "Credit_Risk",
         "Customers with low credit scores",
         "2023-01-01T00:00:00Z"
        ],
        [
         "S001041",
         "C1445",
         "Credit_Risk",
         "Customers with low credit scores",
         "2023-01-01T00:00:00Z"
        ],
        [
         "S001042",
         "C1445",
         "Credit_Risk",
         "Customers with low credit scores",
         "2023-01-01T00:00:00Z"
        ],
        [
         "S001043",
         "C1447",
         "Credit_Risk",
         "Customers with low credit scores",
         "2023-01-01T00:00:00Z"
        ],
        [
         "S001044",
         "C1456",
         "Credit_Risk",
         "Customers with low credit scores",
         "2023-01-01T00:00:00Z"
        ],
        [
         "S001045",
         "C1456",
         "Credit_Risk",
         "Customers with low credit scores",
         "2023-01-01T00:00:00Z"
        ],
        [
         "S001046",
         "C1456",
         "Credit_Risk",
         "Customers with low credit scores",
         "2023-01-01T00:00:00Z"
        ],
        [
         "S001047",
         "C1456",
         "Credit_Risk",
         "Customers with low credit scores",
         "2023-01-01T00:00:00Z"
        ],
        [
         "S001048",
         "C1456",
         "Credit_Risk",
         "Customers with low credit scores",
         "2023-01-01T00:00:00Z"
        ],
        [
         "S001049",
         "C1456",
         "Credit_Risk",
         "Customers with low credit scores",
         "2023-01-01T00:00:00Z"
        ],
        [
         "S001050",
         "C1458",
         "Credit_Risk",
         "Customers with low credit scores",
         "2023-01-01T00:00:00Z"
        ],
        [
         "S001051",
         "C1458",
         "Credit_Risk",
         "Customers with low credit scores",
         "2023-01-01T00:00:00Z"
        ],
        [
         "S001052",
         "C1458",
         "Credit_Risk",
         "Customers with low credit scores",
         "2023-01-01T00:00:00Z"
        ],
        [
         "S001053",
         "C1458",
         "Credit_Risk",
         "Customers with low credit scores",
         "2023-01-01T00:00:00Z"
        ],
        [
         "S001054",
         "C1458",
         "Credit_Risk",
         "Customers with low credit scores",
         "2023-01-01T00:00:00Z"
        ],
        [
         "S001055",
         "C1462",
         "Credit_Risk",
         "Customers with low credit scores",
         "2023-01-01T00:00:00Z"
        ],
        [
         "S001056",
         "C1462",
         "Credit_Risk",
         "Customers with low credit scores",
         "2023-01-01T00:00:00Z"
        ],
        [
         "S001057",
         "C1462",
         "Credit_Risk",
         "Customers with low credit scores",
         "2023-01-01T00:00:00Z"
        ],
        [
         "S001058",
         "C1462",
         "Credit_Risk",
         "Customers with low credit scores",
         "2023-01-01T00:00:00Z"
        ],
        [
         "S001059",
         "C1462",
         "Credit_Risk",
         "Customers with low credit scores",
         "2023-01-01T00:00:00Z"
        ],
        [
         "S001060",
         "C1462",
         "Credit_Risk",
         "Customers with low credit scores",
         "2023-01-01T00:00:00Z"
        ],
        [
         "S001061",
         "C1463",
         "Credit_Risk",
         "Customers with low credit scores",
         "2023-01-01T00:00:00Z"
        ],
        [
         "S001062",
         "C1463",
         "Credit_Risk",
         "Customers with low credit scores",
         "2023-01-01T00:00:00Z"
        ],
        [
         "S001063",
         "C1463",
         "Credit_Risk",
         "Customers with low credit scores",
         "2023-01-01T00:00:00Z"
        ],
        [
         "S001064",
         "C1465",
         "Credit_Risk",
         "Customers with low credit scores",
         "2023-01-01T00:00:00Z"
        ],
        [
         "S001065",
         "C1465",
         "Credit_Risk",
         "Customers with low credit scores",
         "2023-01-01T00:00:00Z"
        ],
        [
         "S001066",
         "C1465",
         "Credit_Risk",
         "Customers with low credit scores",
         "2023-01-01T00:00:00Z"
        ],
        [
         "S001067",
         "C1465",
         "Credit_Risk",
         "Customers with low credit scores",
         "2023-01-01T00:00:00Z"
        ],
        [
         "S001068",
         "C1466",
         "Credit_Risk",
         "Customers with low credit scores",
         "2023-01-01T00:00:00Z"
        ],
        [
         "S001069",
         "C1466",
         "Credit_Risk",
         "Customers with low credit scores",
         "2023-01-01T00:00:00Z"
        ],
        [
         "S001070",
         "C1466",
         "Credit_Risk",
         "Customers with low credit scores",
         "2023-01-01T00:00:00Z"
        ],
        [
         "S001071",
         "C1471",
         "Credit_Risk",
         "Customers with low credit scores",
         "2023-01-01T00:00:00Z"
        ],
        [
         "S001072",
         "C1471",
         "Credit_Risk",
         "Customers with low credit scores",
         "2023-01-01T00:00:00Z"
        ],
        [
         "S001073",
         "C1471",
         "Credit_Risk",
         "Customers with low credit scores",
         "2023-01-01T00:00:00Z"
        ],
        [
         "S001074",
         "C1471",
         "Credit_Risk",
         "Customers with low credit scores",
         "2023-01-01T00:00:00Z"
        ],
        [
         "S001075",
         "C1471",
         "Credit_Risk",
         "Customers with low credit scores",
         "2023-01-01T00:00:00Z"
        ],
        [
         "S001076",
         "C1471",
         "Credit_Risk",
         "Customers with low credit scores",
         "2023-01-01T00:00:00Z"
        ],
        [
         "S001077",
         "C1471",
         "Credit_Risk",
         "Customers with low credit scores",
         "2023-01-01T00:00:00Z"
        ],
        [
         "S001078",
         "C1471",
         "Credit_Risk",
         "Customers with low credit scores",
         "2023-01-01T00:00:00Z"
        ],
        [
         "S001079",
         "C1472",
         "Credit_Risk",
         "Customers with low credit scores",
         "2023-01-01T00:00:00Z"
        ],
        [
         "S001080",
         "C1472",
         "Credit_Risk",
         "Customers with low credit scores",
         "2023-01-01T00:00:00Z"
        ],
        [
         "S001081",
         "C1475",
         "Credit_Risk",
         "Customers with low credit scores",
         "2023-01-01T00:00:00Z"
        ],
        [
         "S001082",
         "C1476",
         "Credit_Risk",
         "Customers with low credit scores",
         "2023-01-01T00:00:00Z"
        ],
        [
         "S001083",
         "C1477",
         "Credit_Risk",
         "Customers with low credit scores",
         "2023-01-01T00:00:00Z"
        ],
        [
         "S001084",
         "C1477",
         "Credit_Risk",
         "Customers with low credit scores",
         "2023-01-01T00:00:00Z"
        ],
        [
         "S001085",
         "C1477",
         "Credit_Risk",
         "Customers with low credit scores",
         "2023-01-01T00:00:00Z"
        ],
        [
         "S001086",
         "C1477",
         "Credit_Risk",
         "Customers with low credit scores",
         "2023-01-01T00:00:00Z"
        ],
        [
         "S001087",
         "C1480",
         "Credit_Risk",
         "Customers with low credit scores",
         "2023-01-01T00:00:00Z"
        ],
        [
         "S001088",
         "C1480",
         "Credit_Risk",
         "Customers with low credit scores",
         "2023-01-01T00:00:00Z"
        ],
        [
         "S001089",
         "C1480",
         "Credit_Risk",
         "Customers with low credit scores",
         "2023-01-01T00:00:00Z"
        ],
        [
         "S001090",
         "C1480",
         "Credit_Risk",
         "Customers with low credit scores",
         "2023-01-01T00:00:00Z"
        ],
        [
         "S001091",
         "C1489",
         "Credit_Risk",
         "Customers with low credit scores",
         "2023-01-01T00:00:00Z"
        ],
        [
         "S001092",
         "C1489",
         "Credit_Risk",
         "Customers with low credit scores",
         "2023-01-01T00:00:00Z"
        ],
        [
         "S001093",
         "C1489",
         "Credit_Risk",
         "Customers with low credit scores",
         "2023-01-01T00:00:00Z"
        ],
        [
         "S001094",
         "C1491",
         "Credit_Risk",
         "Customers with low credit scores",
         "2023-01-01T00:00:00Z"
        ],
        [
         "S001095",
         "C1491",
         "Credit_Risk",
         "Customers with low credit scores",
         "2023-01-01T00:00:00Z"
        ],
        [
         "S001096",
         "C1491",
         "Credit_Risk",
         "Customers with low credit scores",
         "2023-01-01T00:00:00Z"
        ],
        [
         "S001097",
         "C1500",
         "Credit_Risk",
         "Customers with low credit scores",
         "2023-01-01T00:00:00Z"
        ],
        [
         "S001098",
         "C1500",
         "Credit_Risk",
         "Customers with low credit scores",
         "2023-01-01T00:00:00Z"
        ],
        [
         "S001099",
         "C1500",
         "Credit_Risk",
         "Customers with low credit scores",
         "2023-01-01T00:00:00Z"
        ],
        [
         "S001100",
         "C1500",
         "Credit_Risk",
         "Customers with low credit scores",
         "2023-01-01T00:00:00Z"
        ],
        [
         "S001101",
         "C1500",
         "Credit_Risk",
         "Customers with low credit scores",
         "2023-01-01T00:00:00Z"
        ],
        [
         "S001102",
         "C1500",
         "Credit_Risk",
         "Customers with low credit scores",
         "2023-01-01T00:00:00Z"
        ],
        [
         "S001103",
         "C1508",
         "Credit_Risk",
         "Customers with low credit scores",
         "2023-01-01T00:00:00Z"
        ],
        [
         "S001104",
         "C1508",
         "Credit_Risk",
         "Customers with low credit scores",
         "2023-01-01T00:00:00Z"
        ],
        [
         "S001105",
         "C1520",
         "Credit_Risk",
         "Customers with low credit scores",
         "2023-01-01T00:00:00Z"
        ],
        [
         "S001106",
         "C1520",
         "Credit_Risk",
         "Customers with low credit scores",
         "2023-01-01T00:00:00Z"
        ],
        [
         "S001107",
         "C1520",
         "Credit_Risk",
         "Customers with low credit scores",
         "2023-01-01T00:00:00Z"
        ],
        [
         "S001108",
         "C1522",
         "Credit_Risk",
         "Customers with low credit scores",
         "2023-01-01T00:00:00Z"
        ],
        [
         "S001109",
         "C1523",
         "Credit_Risk",
         "Customers with low credit scores",
         "2023-01-01T00:00:00Z"
        ],
        [
         "S001110",
         "C1523",
         "Credit_Risk",
         "Customers with low credit scores",
         "2023-01-01T00:00:00Z"
        ],
        [
         "S001111",
         "C1523",
         "Credit_Risk",
         "Customers with low credit scores",
         "2023-01-01T00:00:00Z"
        ],
        [
         "S001112",
         "C1525",
         "Credit_Risk",
         "Customers with low credit scores",
         "2023-01-01T00:00:00Z"
        ],
        [
         "S001113",
         "C1525",
         "Credit_Risk",
         "Customers with low credit scores",
         "2023-01-01T00:00:00Z"
        ],
        [
         "S001114",
         "C1525",
         "Credit_Risk",
         "Customers with low credit scores",
         "2023-01-01T00:00:00Z"
        ],
        [
         "S001115",
         "C1525",
         "Credit_Risk",
         "Customers with low credit scores",
         "2023-01-01T00:00:00Z"
        ],
        [
         "S001116",
         "C1527",
         "Credit_Risk",
         "Customers with low credit scores",
         "2023-01-01T00:00:00Z"
        ],
        [
         "S001117",
         "C1527",
         "Credit_Risk",
         "Customers with low credit scores",
         "2023-01-01T00:00:00Z"
        ],
        [
         "S001118",
         "C1527",
         "Credit_Risk",
         "Customers with low credit scores",
         "2023-01-01T00:00:00Z"
        ],
        [
         "S001119",
         "C1527",
         "Credit_Risk",
         "Customers with low credit scores",
         "2023-01-01T00:00:00Z"
        ],
        [
         "S001120",
         "C1536",
         "Credit_Risk",
         "Customers with low credit scores",
         "2023-01-01T00:00:00Z"
        ],
        [
         "S001121",
         "C1536",
         "Credit_Risk",
         "Customers with low credit scores",
         "2023-01-01T00:00:00Z"
        ],
        [
         "S001122",
         "C1537",
         "Credit_Risk",
         "Customers with low credit scores",
         "2023-01-01T00:00:00Z"
        ],
        [
         "S001123",
         "C1537",
         "Credit_Risk",
         "Customers with low credit scores",
         "2023-01-01T00:00:00Z"
        ],
        [
         "S001124",
         "C1540",
         "Credit_Risk",
         "Customers with low credit scores",
         "2023-01-01T00:00:00Z"
        ],
        [
         "S001125",
         "C1540",
         "Credit_Risk",
         "Customers with low credit scores",
         "2023-01-01T00:00:00Z"
        ],
        [
         "S001126",
         "C1540",
         "Credit_Risk",
         "Customers with low credit scores",
         "2023-01-01T00:00:00Z"
        ],
        [
         "S001127",
         "C1540",
         "Credit_Risk",
         "Customers with low credit scores",
         "2023-01-01T00:00:00Z"
        ],
        [
         "S001128",
         "C1540",
         "Credit_Risk",
         "Customers with low credit scores",
         "2023-01-01T00:00:00Z"
        ],
        [
         "S001129",
         "C1540",
         "Credit_Risk",
         "Customers with low credit scores",
         "2023-01-01T00:00:00Z"
        ],
        [
         "S001130",
         "C1543",
         "Credit_Risk",
         "Customers with low credit scores",
         "2023-01-01T00:00:00Z"
        ],
        [
         "S001131",
         "C1543",
         "Credit_Risk",
         "Customers with low credit scores",
         "2023-01-01T00:00:00Z"
        ],
        [
         "S001132",
         "C1543",
         "Credit_Risk",
         "Customers with low credit scores",
         "2023-01-01T00:00:00Z"
        ],
        [
         "S001133",
         "C1543",
         "Credit_Risk",
         "Customers with low credit scores",
         "2023-01-01T00:00:00Z"
        ],
        [
         "S001134",
         "C1545",
         "Credit_Risk",
         "Customers with low credit scores",
         "2023-01-01T00:00:00Z"
        ],
        [
         "S001135",
         "C1545",
         "Credit_Risk",
         "Customers with low credit scores",
         "2023-01-01T00:00:00Z"
        ],
        [
         "S001136",
         "C1545",
         "Credit_Risk",
         "Customers with low credit scores",
         "2023-01-01T00:00:00Z"
        ],
        [
         "S001137",
         "C1545",
         "Credit_Risk",
         "Customers with low credit scores",
         "2023-01-01T00:00:00Z"
        ],
        [
         "S001138",
         "C1551",
         "Credit_Risk",
         "Customers with low credit scores",
         "2023-01-01T00:00:00Z"
        ],
        [
         "S001139",
         "C1551",
         "Credit_Risk",
         "Customers with low credit scores",
         "2023-01-01T00:00:00Z"
        ],
        [
         "S001140",
         "C1551",
         "Credit_Risk",
         "Customers with low credit scores",
         "2023-01-01T00:00:00Z"
        ],
        [
         "S001141",
         "C1551",
         "Credit_Risk",
         "Customers with low credit scores",
         "2023-01-01T00:00:00Z"
        ],
        [
         "S001142",
         "C1555",
         "Credit_Risk",
         "Customers with low credit scores",
         "2023-01-01T00:00:00Z"
        ],
        [
         "S001143",
         "C1555",
         "Credit_Risk",
         "Customers with low credit scores",
         "2023-01-01T00:00:00Z"
        ],
        [
         "S001144",
         "C1555",
         "Credit_Risk",
         "Customers with low credit scores",
         "2023-01-01T00:00:00Z"
        ],
        [
         "S001145",
         "C1561",
         "Credit_Risk",
         "Customers with low credit scores",
         "2023-01-01T00:00:00Z"
        ],
        [
         "S001146",
         "C1561",
         "Credit_Risk",
         "Customers with low credit scores",
         "2023-01-01T00:00:00Z"
        ],
        [
         "S001147",
         "C1572",
         "Credit_Risk",
         "Customers with low credit scores",
         "2023-01-01T00:00:00Z"
        ],
        [
         "S001148",
         "C1572",
         "Credit_Risk",
         "Customers with low credit scores",
         "2023-01-01T00:00:00Z"
        ],
        [
         "S001149",
         "C1573",
         "Credit_Risk",
         "Customers with low credit scores",
         "2023-01-01T00:00:00Z"
        ],
        [
         "S001150",
         "C1581",
         "Credit_Risk",
         "Customers with low credit scores",
         "2023-01-01T00:00:00Z"
        ],
        [
         "S001151",
         "C1581",
         "Credit_Risk",
         "Customers with low credit scores",
         "2023-01-01T00:00:00Z"
        ],
        [
         "S001152",
         "C1583",
         "Credit_Risk",
         "Customers with low credit scores",
         "2023-01-01T00:00:00Z"
        ],
        [
         "S001153",
         "C1583",
         "Credit_Risk",
         "Customers with low credit scores",
         "2023-01-01T00:00:00Z"
        ],
        [
         "S001154",
         "C1583",
         "Credit_Risk",
         "Customers with low credit scores",
         "2023-01-01T00:00:00Z"
        ],
        [
         "S001155",
         "C1583",
         "Credit_Risk",
         "Customers with low credit scores",
         "2023-01-01T00:00:00Z"
        ],
        [
         "S001156",
         "C1585",
         "High_Value",
         "Customers with high transaction volume",
         "2023-01-01T00:00:00Z"
        ],
        [
         "S001157",
         "C1589",
         "Credit_Risk",
         "Customers with low credit scores",
         "2023-01-01T00:00:00Z"
        ],
        [
         "S001158",
         "C1589",
         "Credit_Risk",
         "Customers with low credit scores",
         "2023-01-01T00:00:00Z"
        ],
        [
         "S001159",
         "C1589",
         "Credit_Risk",
         "Customers with low credit scores",
         "2023-01-01T00:00:00Z"
        ],
        [
         "S001160",
         "C1589",
         "Credit_Risk",
         "Customers with low credit scores",
         "2023-01-01T00:00:00Z"
        ],
        [
         "S001161",
         "C1589",
         "Credit_Risk",
         "Customers with low credit scores",
         "2023-01-01T00:00:00Z"
        ],
        [
         "S001162",
         "C1589",
         "Credit_Risk",
         "Customers with low credit scores",
         "2023-01-01T00:00:00Z"
        ],
        [
         "S001163",
         "C1593",
         "Credit_Risk",
         "Customers with low credit scores",
         "2023-01-01T00:00:00Z"
        ],
        [
         "S001164",
         "C1593",
         "Credit_Risk",
         "Customers with low credit scores",
         "2023-01-01T00:00:00Z"
        ],
        [
         "S001165",
         "C1593",
         "Credit_Risk",
         "Customers with low credit scores",
         "2023-01-01T00:00:00Z"
        ],
        [
         "S001166",
         "C1598",
         "High_Value",
         "Customers with high transaction volume",
         "2023-01-01T00:00:00Z"
        ],
        [
         "S001167",
         "C1604",
         "Credit_Risk",
         "Customers with low credit scores",
         "2023-01-01T00:00:00Z"
        ],
        [
         "S001168",
         "C1604",
         "Credit_Risk",
         "Customers with low credit scores",
         "2023-01-01T00:00:00Z"
        ],
        [
         "S001169",
         "C1604",
         "Credit_Risk",
         "Customers with low credit scores",
         "2023-01-01T00:00:00Z"
        ],
        [
         "S001170",
         "C1604",
         "Credit_Risk",
         "Customers with low credit scores",
         "2023-01-01T00:00:00Z"
        ],
        [
         "S001171",
         "C1606",
         "Credit_Risk",
         "Customers with low credit scores",
         "2023-01-01T00:00:00Z"
        ],
        [
         "S001172",
         "C1606",
         "Credit_Risk",
         "Customers with low credit scores",
         "2023-01-01T00:00:00Z"
        ],
        [
         "S001173",
         "C1606",
         "Credit_Risk",
         "Customers with low credit scores",
         "2023-01-01T00:00:00Z"
        ],
        [
         "S001174",
         "C1606",
         "Credit_Risk",
         "Customers with low credit scores",
         "2023-01-01T00:00:00Z"
        ],
        [
         "S001175",
         "C1610",
         "High_Value",
         "Customers with high transaction volume",
         "2023-01-01T00:00:00Z"
        ],
        [
         "S001176",
         "C1614",
         "High_Value",
         "Customers with high transaction volume",
         "2023-01-01T00:00:00Z"
        ],
        [
         "S001177",
         "C1614",
         "Credit_Risk",
         "Customers with low credit scores",
         "2023-01-01T00:00:00Z"
        ],
        [
         "S001178",
         "C1614",
         "Credit_Risk",
         "Customers with low credit scores",
         "2023-01-01T00:00:00Z"
        ],
        [
         "S001179",
         "C1614",
         "Credit_Risk",
         "Customers with low credit scores",
         "2023-01-01T00:00:00Z"
        ],
        [
         "S001180",
         "C1616",
         "Credit_Risk",
         "Customers with low credit scores",
         "2023-01-01T00:00:00Z"
        ],
        [
         "S001181",
         "C1618",
         "Credit_Risk",
         "Customers with low credit scores",
         "2023-01-01T00:00:00Z"
        ],
        [
         "S001182",
         "C1618",
         "Credit_Risk",
         "Customers with low credit scores",
         "2023-01-01T00:00:00Z"
        ],
        [
         "S001183",
         "C1618",
         "Credit_Risk",
         "Customers with low credit scores",
         "2023-01-01T00:00:00Z"
        ],
        [
         "S001184",
         "C1618",
         "Credit_Risk",
         "Customers with low credit scores",
         "2023-01-01T00:00:00Z"
        ],
        [
         "S001185",
         "C1618",
         "Credit_Risk",
         "Customers with low credit scores",
         "2023-01-01T00:00:00Z"
        ],
        [
         "S001186",
         "C1621",
         "Credit_Risk",
         "Customers with low credit scores",
         "2023-01-01T00:00:00Z"
        ],
        [
         "S001187",
         "C1621",
         "Credit_Risk",
         "Customers with low credit scores",
         "2023-01-01T00:00:00Z"
        ],
        [
         "S001188",
         "C1621",
         "Credit_Risk",
         "Customers with low credit scores",
         "2023-01-01T00:00:00Z"
        ],
        [
         "S001189",
         "C1621",
         "Credit_Risk",
         "Customers with low credit scores",
         "2023-01-01T00:00:00Z"
        ],
        [
         "S001190",
         "C1624",
         "Credit_Risk",
         "Customers with low credit scores",
         "2023-01-01T00:00:00Z"
        ],
        [
         "S001191",
         "C1624",
         "Credit_Risk",
         "Customers with low credit scores",
         "2023-01-01T00:00:00Z"
        ],
        [
         "S001192",
         "C1629",
         "Credit_Risk",
         "Customers with low credit scores",
         "2023-01-01T00:00:00Z"
        ],
        [
         "S001193",
         "C1629",
         "Credit_Risk",
         "Customers with low credit scores",
         "2023-01-01T00:00:00Z"
        ],
        [
         "S001194",
         "C1634",
         "Credit_Risk",
         "Customers with low credit scores",
         "2023-01-01T00:00:00Z"
        ],
        [
         "S001195",
         "C1634",
         "Credit_Risk",
         "Customers with low credit scores",
         "2023-01-01T00:00:00Z"
        ],
        [
         "S001196",
         "C1636",
         "Credit_Risk",
         "Customers with low credit scores",
         "2023-01-01T00:00:00Z"
        ],
        [
         "S001197",
         "C1636",
         "Credit_Risk",
         "Customers with low credit scores",
         "2023-01-01T00:00:00Z"
        ],
        [
         "S001198",
         "C1636",
         "Credit_Risk",
         "Customers with low credit scores",
         "2023-01-01T00:00:00Z"
        ],
        [
         "S001199",
         "C1637",
         "High_Value",
         "Customers with high transaction volume",
         "2023-01-01T00:00:00Z"
        ],
        [
         "S001200",
         "C1637",
         "Credit_Risk",
         "Customers with low credit scores",
         "2023-01-01T00:00:00Z"
        ],
        [
         "S001201",
         "C1637",
         "Credit_Risk",
         "Customers with low credit scores",
         "2023-01-01T00:00:00Z"
        ],
        [
         "S001202",
         "C1637",
         "Credit_Risk",
         "Customers with low credit scores",
         "2023-01-01T00:00:00Z"
        ],
        [
         "S001203",
         "C1637",
         "Credit_Risk",
         "Customers with low credit scores",
         "2023-01-01T00:00:00Z"
        ],
        [
         "S001204",
         "C1637",
         "Credit_Risk",
         "Customers with low credit scores",
         "2023-01-01T00:00:00Z"
        ],
        [
         "S001205",
         "C1639",
         "Credit_Risk",
         "Customers with low credit scores",
         "2023-01-01T00:00:00Z"
        ],
        [
         "S001206",
         "C1639",
         "Credit_Risk",
         "Customers with low credit scores",
         "2023-01-01T00:00:00Z"
        ],
        [
         "S001207",
         "C1640",
         "Credit_Risk",
         "Customers with low credit scores",
         "2023-01-01T00:00:00Z"
        ],
        [
         "S001208",
         "C1644",
         "Credit_Risk",
         "Customers with low credit scores",
         "2023-01-01T00:00:00Z"
        ],
        [
         "S001209",
         "C1644",
         "Credit_Risk",
         "Customers with low credit scores",
         "2023-01-01T00:00:00Z"
        ],
        [
         "S001210",
         "C1644",
         "Credit_Risk",
         "Customers with low credit scores",
         "2023-01-01T00:00:00Z"
        ],
        [
         "S001211",
         "C1645",
         "Credit_Risk",
         "Customers with low credit scores",
         "2023-01-01T00:00:00Z"
        ],
        [
         "S001212",
         "C1645",
         "Credit_Risk",
         "Customers with low credit scores",
         "2023-01-01T00:00:00Z"
        ],
        [
         "S001213",
         "C1646",
         "Credit_Risk",
         "Customers with low credit scores",
         "2023-01-01T00:00:00Z"
        ],
        [
         "S001214",
         "C1646",
         "Credit_Risk",
         "Customers with low credit scores",
         "2023-01-01T00:00:00Z"
        ],
        [
         "S001215",
         "C1646",
         "Credit_Risk",
         "Customers with low credit scores",
         "2023-01-01T00:00:00Z"
        ],
        [
         "S001216",
         "C1652",
         "Credit_Risk",
         "Customers with low credit scores",
         "2023-01-01T00:00:00Z"
        ],
        [
         "S001217",
         "C1652",
         "Credit_Risk",
         "Customers with low credit scores",
         "2023-01-01T00:00:00Z"
        ],
        [
         "S001218",
         "C1653",
         "Credit_Risk",
         "Customers with low credit scores",
         "2023-01-01T00:00:00Z"
        ],
        [
         "S001219",
         "C1654",
         "Credit_Risk",
         "Customers with low credit scores",
         "2023-01-01T00:00:00Z"
        ],
        [
         "S001220",
         "C1654",
         "Credit_Risk",
         "Customers with low credit scores",
         "2023-01-01T00:00:00Z"
        ],
        [
         "S001221",
         "C1654",
         "Credit_Risk",
         "Customers with low credit scores",
         "2023-01-01T00:00:00Z"
        ],
        [
         "S001222",
         "C1666",
         "Credit_Risk",
         "Customers with low credit scores",
         "2023-01-01T00:00:00Z"
        ],
        [
         "S001223",
         "C1666",
         "Credit_Risk",
         "Customers with low credit scores",
         "2023-01-01T00:00:00Z"
        ],
        [
         "S001224",
         "C1666",
         "Credit_Risk",
         "Customers with low credit scores",
         "2023-01-01T00:00:00Z"
        ],
        [
         "S001225",
         "C1666",
         "Credit_Risk",
         "Customers with low credit scores",
         "2023-01-01T00:00:00Z"
        ],
        [
         "S001226",
         "C1666",
         "Credit_Risk",
         "Customers with low credit scores",
         "2023-01-01T00:00:00Z"
        ],
        [
         "S001227",
         "C1666",
         "Credit_Risk",
         "Customers with low credit scores",
         "2023-01-01T00:00:00Z"
        ],
        [
         "S001228",
         "C1669",
         "Credit_Risk",
         "Customers with low credit scores",
         "2023-01-01T00:00:00Z"
        ],
        [
         "S001229",
         "C1669",
         "Credit_Risk",
         "Customers with low credit scores",
         "2023-01-01T00:00:00Z"
        ],
        [
         "S001230",
         "C1671",
         "Credit_Risk",
         "Customers with low credit scores",
         "2023-01-01T00:00:00Z"
        ],
        [
         "S001231",
         "C1671",
         "Credit_Risk",
         "Customers with low credit scores",
         "2023-01-01T00:00:00Z"
        ],
        [
         "S001232",
         "C1671",
         "Credit_Risk",
         "Customers with low credit scores",
         "2023-01-01T00:00:00Z"
        ],
        [
         "S001233",
         "C1681",
         "Credit_Risk",
         "Customers with low credit scores",
         "2023-01-01T00:00:00Z"
        ],
        [
         "S001234",
         "C1681",
         "Credit_Risk",
         "Customers with low credit scores",
         "2023-01-01T00:00:00Z"
        ],
        [
         "S001235",
         "C1681",
         "Credit_Risk",
         "Customers with low credit scores",
         "2023-01-01T00:00:00Z"
        ],
        [
         "S001236",
         "C1681",
         "Credit_Risk",
         "Customers with low credit scores",
         "2023-01-01T00:00:00Z"
        ],
        [
         "S001237",
         "C1681",
         "Credit_Risk",
         "Customers with low credit scores",
         "2023-01-01T00:00:00Z"
        ],
        [
         "S001238",
         "C1683",
         "Credit_Risk",
         "Customers with low credit scores",
         "2023-01-01T00:00:00Z"
        ],
        [
         "S001239",
         "C1683",
         "Credit_Risk",
         "Customers with low credit scores",
         "2023-01-01T00:00:00Z"
        ],
        [
         "S001240",
         "C1683",
         "Credit_Risk",
         "Customers with low credit scores",
         "2023-01-01T00:00:00Z"
        ],
        [
         "S001241",
         "C1684",
         "Credit_Risk",
         "Customers with low credit scores",
         "2023-01-01T00:00:00Z"
        ],
        [
         "S001242",
         "C1684",
         "Credit_Risk",
         "Customers with low credit scores",
         "2023-01-01T00:00:00Z"
        ],
        [
         "S001243",
         "C1684",
         "Credit_Risk",
         "Customers with low credit scores",
         "2023-01-01T00:00:00Z"
        ],
        [
         "S001244",
         "C1684",
         "Credit_Risk",
         "Customers with low credit scores",
         "2023-01-01T00:00:00Z"
        ],
        [
         "S001245",
         "C1684",
         "Credit_Risk",
         "Customers with low credit scores",
         "2023-01-01T00:00:00Z"
        ],
        [
         "S001246",
         "C1684",
         "Credit_Risk",
         "Customers with low credit scores",
         "2023-01-01T00:00:00Z"
        ],
        [
         "S001247",
         "C1684",
         "Credit_Risk",
         "Customers with low credit scores",
         "2023-01-01T00:00:00Z"
        ],
        [
         "S001248",
         "C1684",
         "Credit_Risk",
         "Customers with low credit scores",
         "2023-01-01T00:00:00Z"
        ],
        [
         "S001249",
         "C1688",
         "Credit_Risk",
         "Customers with low credit scores",
         "2023-01-01T00:00:00Z"
        ],
        [
         "S001250",
         "C1688",
         "Credit_Risk",
         "Customers with low credit scores",
         "2023-01-01T00:00:00Z"
        ],
        [
         "S001251",
         "C1693",
         "High_Value",
         "Customers with high transaction volume",
         "2023-01-01T00:00:00Z"
        ],
        [
         "S001252",
         "C1693",
         "Credit_Risk",
         "Customers with low credit scores",
         "2023-01-01T00:00:00Z"
        ],
        [
         "S001253",
         "C1693",
         "Credit_Risk",
         "Customers with low credit scores",
         "2023-01-01T00:00:00Z"
        ],
        [
         "S001254",
         "C1693",
         "Credit_Risk",
         "Customers with low credit scores",
         "2023-01-01T00:00:00Z"
        ],
        [
         "S001255",
         "C1694",
         "Credit_Risk",
         "Customers with low credit scores",
         "2023-01-01T00:00:00Z"
        ],
        [
         "S001256",
         "C1694",
         "Credit_Risk",
         "Customers with low credit scores",
         "2023-01-01T00:00:00Z"
        ],
        [
         "S001257",
         "C1694",
         "Credit_Risk",
         "Customers with low credit scores",
         "2023-01-01T00:00:00Z"
        ],
        [
         "S001258",
         "C1694",
         "Credit_Risk",
         "Customers with low credit scores",
         "2023-01-01T00:00:00Z"
        ],
        [
         "S001259",
         "C1694",
         "Credit_Risk",
         "Customers with low credit scores",
         "2023-01-01T00:00:00Z"
        ],
        [
         "S001260",
         "C1697",
         "Credit_Risk",
         "Customers with low credit scores",
         "2023-01-01T00:00:00Z"
        ],
        [
         "S001261",
         "C1697",
         "Credit_Risk",
         "Customers with low credit scores",
         "2023-01-01T00:00:00Z"
        ],
        [
         "S001262",
         "C1697",
         "Credit_Risk",
         "Customers with low credit scores",
         "2023-01-01T00:00:00Z"
        ],
        [
         "S001263",
         "C1697",
         "Credit_Risk",
         "Customers with low credit scores",
         "2023-01-01T00:00:00Z"
        ],
        [
         "S001264",
         "C1697",
         "Credit_Risk",
         "Customers with low credit scores",
         "2023-01-01T00:00:00Z"
        ],
        [
         "S001265",
         "C1698",
         "Credit_Risk",
         "Customers with low credit scores",
         "2023-01-01T00:00:00Z"
        ],
        [
         "S001266",
         "C1700",
         "Credit_Risk",
         "Customers with low credit scores",
         "2023-01-01T00:00:00Z"
        ],
        [
         "S001267",
         "C1700",
         "Credit_Risk",
         "Customers with low credit scores",
         "2023-01-01T00:00:00Z"
        ],
        [
         "S001268",
         "C1700",
         "Credit_Risk",
         "Customers with low credit scores",
         "2023-01-01T00:00:00Z"
        ],
        [
         "S001269",
         "C1702",
         "High_Value",
         "Customers with high transaction volume",
         "2023-01-01T00:00:00Z"
        ],
        [
         "S001270",
         "C1703",
         "Credit_Risk",
         "Customers with low credit scores",
         "2023-01-01T00:00:00Z"
        ],
        [
         "S001271",
         "C1703",
         "Credit_Risk",
         "Customers with low credit scores",
         "2023-01-01T00:00:00Z"
        ],
        [
         "S001272",
         "C1703",
         "Credit_Risk",
         "Customers with low credit scores",
         "2023-01-01T00:00:00Z"
        ],
        [
         "S001273",
         "C1703",
         "Credit_Risk",
         "Customers with low credit scores",
         "2023-01-01T00:00:00Z"
        ],
        [
         "S001274",
         "C1705",
         "Credit_Risk",
         "Customers with low credit scores",
         "2023-01-01T00:00:00Z"
        ],
        [
         "S001275",
         "C1711",
         "Credit_Risk",
         "Customers with low credit scores",
         "2023-01-01T00:00:00Z"
        ],
        [
         "S001276",
         "C1715",
         "Credit_Risk",
         "Customers with low credit scores",
         "2023-01-01T00:00:00Z"
        ],
        [
         "S001277",
         "C1715",
         "Credit_Risk",
         "Customers with low credit scores",
         "2023-01-01T00:00:00Z"
        ],
        [
         "S001278",
         "C1715",
         "Credit_Risk",
         "Customers with low credit scores",
         "2023-01-01T00:00:00Z"
        ],
        [
         "S001279",
         "C1715",
         "Credit_Risk",
         "Customers with low credit scores",
         "2023-01-01T00:00:00Z"
        ],
        [
         "S001280",
         "C1719",
         "Credit_Risk",
         "Customers with low credit scores",
         "2023-01-01T00:00:00Z"
        ],
        [
         "S001281",
         "C1719",
         "Credit_Risk",
         "Customers with low credit scores",
         "2023-01-01T00:00:00Z"
        ],
        [
         "S001282",
         "C1719",
         "Credit_Risk",
         "Customers with low credit scores",
         "2023-01-01T00:00:00Z"
        ],
        [
         "S001283",
         "C1719",
         "Credit_Risk",
         "Customers with low credit scores",
         "2023-01-01T00:00:00Z"
        ],
        [
         "S001284",
         "C1719",
         "Credit_Risk",
         "Customers with low credit scores",
         "2023-01-01T00:00:00Z"
        ],
        [
         "S001285",
         "C1719",
         "Credit_Risk",
         "Customers with low credit scores",
         "2023-01-01T00:00:00Z"
        ],
        [
         "S001286",
         "C1719",
         "Credit_Risk",
         "Customers with low credit scores",
         "2023-01-01T00:00:00Z"
        ],
        [
         "S001287",
         "C1719",
         "Credit_Risk",
         "Customers with low credit scores",
         "2023-01-01T00:00:00Z"
        ],
        [
         "S001288",
         "C1719",
         "Credit_Risk",
         "Customers with low credit scores",
         "2023-01-01T00:00:00Z"
        ],
        [
         "S001289",
         "C1723",
         "Credit_Risk",
         "Customers with low credit scores",
         "2023-01-01T00:00:00Z"
        ],
        [
         "S001290",
         "C1723",
         "Credit_Risk",
         "Customers with low credit scores",
         "2023-01-01T00:00:00Z"
        ],
        [
         "S001291",
         "C1729",
         "Credit_Risk",
         "Customers with low credit scores",
         "2023-01-01T00:00:00Z"
        ],
        [
         "S001292",
         "C1729",
         "Credit_Risk",
         "Customers with low credit scores",
         "2023-01-01T00:00:00Z"
        ],
        [
         "S001293",
         "C1729",
         "Credit_Risk",
         "Customers with low credit scores",
         "2023-01-01T00:00:00Z"
        ],
        [
         "S001294",
         "C1729",
         "Credit_Risk",
         "Customers with low credit scores",
         "2023-01-01T00:00:00Z"
        ],
        [
         "S001295",
         "C1729",
         "Credit_Risk",
         "Customers with low credit scores",
         "2023-01-01T00:00:00Z"
        ],
        [
         "S001296",
         "C1729",
         "Credit_Risk",
         "Customers with low credit scores",
         "2023-01-01T00:00:00Z"
        ],
        [
         "S001297",
         "C1729",
         "Credit_Risk",
         "Customers with low credit scores",
         "2023-01-01T00:00:00Z"
        ],
        [
         "S001298",
         "C1729",
         "Credit_Risk",
         "Customers with low credit scores",
         "2023-01-01T00:00:00Z"
        ],
        [
         "S001299",
         "C1729",
         "Credit_Risk",
         "Customers with low credit scores",
         "2023-01-01T00:00:00Z"
        ],
        [
         "S001300",
         "C1729",
         "Credit_Risk",
         "Customers with low credit scores",
         "2023-01-01T00:00:00Z"
        ],
        [
         "S001301",
         "C1730",
         "High_Value",
         "Customers with high transaction volume",
         "2023-01-01T00:00:00Z"
        ],
        [
         "S001302",
         "C1730",
         "Credit_Risk",
         "Customers with low credit scores",
         "2023-01-01T00:00:00Z"
        ],
        [
         "S001303",
         "C1730",
         "Credit_Risk",
         "Customers with low credit scores",
         "2023-01-01T00:00:00Z"
        ],
        [
         "S001304",
         "C1733",
         "Credit_Risk",
         "Customers with low credit scores",
         "2023-01-01T00:00:00Z"
        ],
        [
         "S001305",
         "C1735",
         "Credit_Risk",
         "Customers with low credit scores",
         "2023-01-01T00:00:00Z"
        ],
        [
         "S001306",
         "C1735",
         "Credit_Risk",
         "Customers with low credit scores",
         "2023-01-01T00:00:00Z"
        ],
        [
         "S001307",
         "C1735",
         "Credit_Risk",
         "Customers with low credit scores",
         "2023-01-01T00:00:00Z"
        ],
        [
         "S001308",
         "C1738",
         "Credit_Risk",
         "Customers with low credit scores",
         "2023-01-01T00:00:00Z"
        ],
        [
         "S001309",
         "C1740",
         "Credit_Risk",
         "Customers with low credit scores",
         "2023-01-01T00:00:00Z"
        ],
        [
         "S001310",
         "C1740",
         "Credit_Risk",
         "Customers with low credit scores",
         "2023-01-01T00:00:00Z"
        ],
        [
         "S001311",
         "C1741",
         "Credit_Risk",
         "Customers with low credit scores",
         "2023-01-01T00:00:00Z"
        ],
        [
         "S001312",
         "C1741",
         "Credit_Risk",
         "Customers with low credit scores",
         "2023-01-01T00:00:00Z"
        ],
        [
         "S001313",
         "C1741",
         "Credit_Risk",
         "Customers with low credit scores",
         "2023-01-01T00:00:00Z"
        ],
        [
         "S001314",
         "C1741",
         "Credit_Risk",
         "Customers with low credit scores",
         "2023-01-01T00:00:00Z"
        ],
        [
         "S001315",
         "C1741",
         "Credit_Risk",
         "Customers with low credit scores",
         "2023-01-01T00:00:00Z"
        ],
        [
         "S001316",
         "C1744",
         "Credit_Risk",
         "Customers with low credit scores",
         "2023-01-01T00:00:00Z"
        ],
        [
         "S001317",
         "C1744",
         "Credit_Risk",
         "Customers with low credit scores",
         "2023-01-01T00:00:00Z"
        ],
        [
         "S001318",
         "C1747",
         "Credit_Risk",
         "Customers with low credit scores",
         "2023-01-01T00:00:00Z"
        ],
        [
         "S001319",
         "C1747",
         "Credit_Risk",
         "Customers with low credit scores",
         "2023-01-01T00:00:00Z"
        ],
        [
         "S001320",
         "C1747",
         "Credit_Risk",
         "Customers with low credit scores",
         "2023-01-01T00:00:00Z"
        ],
        [
         "S001321",
         "C1747",
         "Credit_Risk",
         "Customers with low credit scores",
         "2023-01-01T00:00:00Z"
        ],
        [
         "S001322",
         "C1750",
         "Credit_Risk",
         "Customers with low credit scores",
         "2023-01-01T00:00:00Z"
        ],
        [
         "S001323",
         "C1751",
         "Credit_Risk",
         "Customers with low credit scores",
         "2023-01-01T00:00:00Z"
        ],
        [
         "S001324",
         "C1751",
         "Credit_Risk",
         "Customers with low credit scores",
         "2023-01-01T00:00:00Z"
        ],
        [
         "S001325",
         "C1751",
         "Credit_Risk",
         "Customers with low credit scores",
         "2023-01-01T00:00:00Z"
        ],
        [
         "S001326",
         "C1770",
         "Credit_Risk",
         "Customers with low credit scores",
         "2023-01-01T00:00:00Z"
        ],
        [
         "S001327",
         "C1770",
         "Credit_Risk",
         "Customers with low credit scores",
         "2023-01-01T00:00:00Z"
        ],
        [
         "S001328",
         "C1770",
         "Credit_Risk",
         "Customers with low credit scores",
         "2023-01-01T00:00:00Z"
        ],
        [
         "S001329",
         "C1770",
         "Credit_Risk",
         "Customers with low credit scores",
         "2023-01-01T00:00:00Z"
        ],
        [
         "S001330",
         "C1772",
         "Credit_Risk",
         "Customers with low credit scores",
         "2023-01-01T00:00:00Z"
        ],
        [
         "S001331",
         "C1776",
         "Credit_Risk",
         "Customers with low credit scores",
         "2023-01-01T00:00:00Z"
        ],
        [
         "S001332",
         "C1776",
         "Credit_Risk",
         "Customers with low credit scores",
         "2023-01-01T00:00:00Z"
        ],
        [
         "S001333",
         "C1776",
         "Credit_Risk",
         "Customers with low credit scores",
         "2023-01-01T00:00:00Z"
        ],
        [
         "S001334",
         "C1776",
         "Credit_Risk",
         "Customers with low credit scores",
         "2023-01-01T00:00:00Z"
        ],
        [
         "S001335",
         "C1777",
         "Credit_Risk",
         "Customers with low credit scores",
         "2023-01-01T00:00:00Z"
        ],
        [
         "S001336",
         "C1777",
         "Credit_Risk",
         "Customers with low credit scores",
         "2023-01-01T00:00:00Z"
        ],
        [
         "S001337",
         "C1777",
         "Credit_Risk",
         "Customers with low credit scores",
         "2023-01-01T00:00:00Z"
        ],
        [
         "S001338",
         "C1777",
         "Credit_Risk",
         "Customers with low credit scores",
         "2023-01-01T00:00:00Z"
        ],
        [
         "S001339",
         "C1778",
         "Credit_Risk",
         "Customers with low credit scores",
         "2023-01-01T00:00:00Z"
        ],
        [
         "S001340",
         "C1783",
         "Credit_Risk",
         "Customers with low credit scores",
         "2023-01-01T00:00:00Z"
        ],
        [
         "S001341",
         "C1783",
         "Credit_Risk",
         "Customers with low credit scores",
         "2023-01-01T00:00:00Z"
        ],
        [
         "S001342",
         "C1786",
         "Credit_Risk",
         "Customers with low credit scores",
         "2023-01-01T00:00:00Z"
        ],
        [
         "S001343",
         "C1786",
         "Credit_Risk",
         "Customers with low credit scores",
         "2023-01-01T00:00:00Z"
        ],
        [
         "S001344",
         "C1786",
         "Credit_Risk",
         "Customers with low credit scores",
         "2023-01-01T00:00:00Z"
        ],
        [
         "S001345",
         "C1792",
         "Credit_Risk",
         "Customers with low credit scores",
         "2023-01-01T00:00:00Z"
        ],
        [
         "S001346",
         "C1792",
         "Credit_Risk",
         "Customers with low credit scores",
         "2023-01-01T00:00:00Z"
        ],
        [
         "S001347",
         "C1792",
         "Credit_Risk",
         "Customers with low credit scores",
         "2023-01-01T00:00:00Z"
        ],
        [
         "S001348",
         "C1793",
         "Credit_Risk",
         "Customers with low credit scores",
         "2023-01-01T00:00:00Z"
        ],
        [
         "S001349",
         "C1793",
         "Credit_Risk",
         "Customers with low credit scores",
         "2023-01-01T00:00:00Z"
        ],
        [
         "S001350",
         "C1795",
         "Credit_Risk",
         "Customers with low credit scores",
         "2023-01-01T00:00:00Z"
        ],
        [
         "S001351",
         "C1795",
         "Credit_Risk",
         "Customers with low credit scores",
         "2023-01-01T00:00:00Z"
        ],
        [
         "S001352",
         "C1795",
         "Credit_Risk",
         "Customers with low credit scores",
         "2023-01-01T00:00:00Z"
        ],
        [
         "S001353",
         "C1795",
         "Credit_Risk",
         "Customers with low credit scores",
         "2023-01-01T00:00:00Z"
        ],
        [
         "S001354",
         "C1795",
         "Credit_Risk",
         "Customers with low credit scores",
         "2023-01-01T00:00:00Z"
        ],
        [
         "S001355",
         "C1795",
         "Credit_Risk",
         "Customers with low credit scores",
         "2023-01-01T00:00:00Z"
        ],
        [
         "S001356",
         "C1795",
         "Credit_Risk",
         "Customers with low credit scores",
         "2023-01-01T00:00:00Z"
        ],
        [
         "S001357",
         "C1803",
         "Credit_Risk",
         "Customers with low credit scores",
         "2023-01-01T00:00:00Z"
        ],
        [
         "S001358",
         "C1803",
         "Credit_Risk",
         "Customers with low credit scores",
         "2023-01-01T00:00:00Z"
        ],
        [
         "S001359",
         "C1803",
         "Credit_Risk",
         "Customers with low credit scores",
         "2023-01-01T00:00:00Z"
        ],
        [
         "S001360",
         "C1808",
         "Credit_Risk",
         "Customers with low credit scores",
         "2023-01-01T00:00:00Z"
        ],
        [
         "S001361",
         "C1808",
         "Credit_Risk",
         "Customers with low credit scores",
         "2023-01-01T00:00:00Z"
        ],
        [
         "S001362",
         "C1808",
         "Credit_Risk",
         "Customers with low credit scores",
         "2023-01-01T00:00:00Z"
        ],
        [
         "S001363",
         "C1808",
         "Credit_Risk",
         "Customers with low credit scores",
         "2023-01-01T00:00:00Z"
        ],
        [
         "S001364",
         "C1808",
         "Credit_Risk",
         "Customers with low credit scores",
         "2023-01-01T00:00:00Z"
        ],
        [
         "S001365",
         "C1814",
         "Credit_Risk",
         "Customers with low credit scores",
         "2023-01-01T00:00:00Z"
        ],
        [
         "S001366",
         "C1815",
         "Credit_Risk",
         "Customers with low credit scores",
         "2023-01-01T00:00:00Z"
        ],
        [
         "S001367",
         "C1815",
         "Credit_Risk",
         "Customers with low credit scores",
         "2023-01-01T00:00:00Z"
        ],
        [
         "S001368",
         "C1815",
         "Credit_Risk",
         "Customers with low credit scores",
         "2023-01-01T00:00:00Z"
        ],
        [
         "S001369",
         "C1815",
         "Credit_Risk",
         "Customers with low credit scores",
         "2023-01-01T00:00:00Z"
        ],
        [
         "S001370",
         "C1815",
         "Credit_Risk",
         "Customers with low credit scores",
         "2023-01-01T00:00:00Z"
        ],
        [
         "S001371",
         "C1815",
         "Credit_Risk",
         "Customers with low credit scores",
         "2023-01-01T00:00:00Z"
        ],
        [
         "S001372",
         "C1819",
         "Credit_Risk",
         "Customers with low credit scores",
         "2023-01-01T00:00:00Z"
        ],
        [
         "S001373",
         "C1819",
         "Credit_Risk",
         "Customers with low credit scores",
         "2023-01-01T00:00:00Z"
        ],
        [
         "S001374",
         "C1819",
         "Credit_Risk",
         "Customers with low credit scores",
         "2023-01-01T00:00:00Z"
        ],
        [
         "S001375",
         "C1819",
         "Credit_Risk",
         "Customers with low credit scores",
         "2023-01-01T00:00:00Z"
        ],
        [
         "S001376",
         "C1820",
         "Credit_Risk",
         "Customers with low credit scores",
         "2023-01-01T00:00:00Z"
        ],
        [
         "S001377",
         "C1820",
         "Credit_Risk",
         "Customers with low credit scores",
         "2023-01-01T00:00:00Z"
        ],
        [
         "S001378",
         "C1820",
         "Credit_Risk",
         "Customers with low credit scores",
         "2023-01-01T00:00:00Z"
        ],
        [
         "S001379",
         "C1820",
         "Credit_Risk",
         "Customers with low credit scores",
         "2023-01-01T00:00:00Z"
        ],
        [
         "S001380",
         "C1821",
         "Credit_Risk",
         "Customers with low credit scores",
         "2023-01-01T00:00:00Z"
        ],
        [
         "S001381",
         "C1821",
         "Credit_Risk",
         "Customers with low credit scores",
         "2023-01-01T00:00:00Z"
        ],
        [
         "S001382",
         "C1821",
         "Credit_Risk",
         "Customers with low credit scores",
         "2023-01-01T00:00:00Z"
        ],
        [
         "S001383",
         "C1822",
         "Credit_Risk",
         "Customers with low credit scores",
         "2023-01-01T00:00:00Z"
        ],
        [
         "S001384",
         "C1822",
         "Credit_Risk",
         "Customers with low credit scores",
         "2023-01-01T00:00:00Z"
        ],
        [
         "S001385",
         "C1829",
         "Credit_Risk",
         "Customers with low credit scores",
         "2023-01-01T00:00:00Z"
        ],
        [
         "S001386",
         "C1829",
         "Credit_Risk",
         "Customers with low credit scores",
         "2023-01-01T00:00:00Z"
        ],
        [
         "S001387",
         "C1829",
         "Credit_Risk",
         "Customers with low credit scores",
         "2023-01-01T00:00:00Z"
        ],
        [
         "S001388",
         "C1829",
         "Credit_Risk",
         "Customers with low credit scores",
         "2023-01-01T00:00:00Z"
        ],
        [
         "S001389",
         "C1829",
         "Credit_Risk",
         "Customers with low credit scores",
         "2023-01-01T00:00:00Z"
        ],
        [
         "S001390",
         "C1832",
         "Credit_Risk",
         "Customers with low credit scores",
         "2023-01-01T00:00:00Z"
        ],
        [
         "S001391",
         "C1832",
         "Credit_Risk",
         "Customers with low credit scores",
         "2023-01-01T00:00:00Z"
        ],
        [
         "S001392",
         "C1833",
         "Credit_Risk",
         "Customers with low credit scores",
         "2023-01-01T00:00:00Z"
        ],
        [
         "S001393",
         "C1833",
         "Credit_Risk",
         "Customers with low credit scores",
         "2023-01-01T00:00:00Z"
        ],
        [
         "S001394",
         "C1839",
         "Credit_Risk",
         "Customers with low credit scores",
         "2023-01-01T00:00:00Z"
        ],
        [
         "S001395",
         "C1839",
         "Credit_Risk",
         "Customers with low credit scores",
         "2023-01-01T00:00:00Z"
        ],
        [
         "S001396",
         "C1839",
         "Credit_Risk",
         "Customers with low credit scores",
         "2023-01-01T00:00:00Z"
        ],
        [
         "S001397",
         "C1839",
         "Credit_Risk",
         "Customers with low credit scores",
         "2023-01-01T00:00:00Z"
        ],
        [
         "S001398",
         "C1839",
         "Credit_Risk",
         "Customers with low credit scores",
         "2023-01-01T00:00:00Z"
        ],
        [
         "S001399",
         "C1839",
         "Credit_Risk",
         "Customers with low credit scores",
         "2023-01-01T00:00:00Z"
        ],
        [
         "S001400",
         "C1840",
         "Credit_Risk",
         "Customers with low credit scores",
         "2023-01-01T00:00:00Z"
        ],
        [
         "S001401",
         "C1840",
         "Credit_Risk",
         "Customers with low credit scores",
         "2023-01-01T00:00:00Z"
        ],
        [
         "S001402",
         "C1842",
         "Credit_Risk",
         "Customers with low credit scores",
         "2023-01-01T00:00:00Z"
        ],
        [
         "S001403",
         "C1842",
         "Credit_Risk",
         "Customers with low credit scores",
         "2023-01-01T00:00:00Z"
        ],
        [
         "S001404",
         "C1842",
         "Credit_Risk",
         "Customers with low credit scores",
         "2023-01-01T00:00:00Z"
        ],
        [
         "S001405",
         "C1843",
         "Credit_Risk",
         "Customers with low credit scores",
         "2023-01-01T00:00:00Z"
        ],
        [
         "S001406",
         "C1843",
         "Credit_Risk",
         "Customers with low credit scores",
         "2023-01-01T00:00:00Z"
        ],
        [
         "S001407",
         "C1843",
         "Credit_Risk",
         "Customers with low credit scores",
         "2023-01-01T00:00:00Z"
        ],
        [
         "S001408",
         "C1843",
         "Credit_Risk",
         "Customers with low credit scores",
         "2023-01-01T00:00:00Z"
        ],
        [
         "S001409",
         "C1844",
         "Credit_Risk",
         "Customers with low credit scores",
         "2023-01-01T00:00:00Z"
        ],
        [
         "S001410",
         "C1844",
         "Credit_Risk",
         "Customers with low credit scores",
         "2023-01-01T00:00:00Z"
        ],
        [
         "S001411",
         "C1845",
         "Credit_Risk",
         "Customers with low credit scores",
         "2023-01-01T00:00:00Z"
        ],
        [
         "S001412",
         "C1845",
         "Credit_Risk",
         "Customers with low credit scores",
         "2023-01-01T00:00:00Z"
        ],
        [
         "S001413",
         "C1845",
         "Credit_Risk",
         "Customers with low credit scores",
         "2023-01-01T00:00:00Z"
        ],
        [
         "S001414",
         "C1846",
         "Credit_Risk",
         "Customers with low credit scores",
         "2023-01-01T00:00:00Z"
        ],
        [
         "S001415",
         "C1846",
         "Credit_Risk",
         "Customers with low credit scores",
         "2023-01-01T00:00:00Z"
        ],
        [
         "S001416",
         "C1848",
         "Credit_Risk",
         "Customers with low credit scores",
         "2023-01-01T00:00:00Z"
        ],
        [
         "S001417",
         "C1848",
         "Credit_Risk",
         "Customers with low credit scores",
         "2023-01-01T00:00:00Z"
        ],
        [
         "S001418",
         "C1848",
         "Credit_Risk",
         "Customers with low credit scores",
         "2023-01-01T00:00:00Z"
        ],
        [
         "S001419",
         "C1850",
         "Credit_Risk",
         "Customers with low credit scores",
         "2023-01-01T00:00:00Z"
        ],
        [
         "S001420",
         "C1857",
         "Credit_Risk",
         "Customers with low credit scores",
         "2023-01-01T00:00:00Z"
        ],
        [
         "S001421",
         "C1857",
         "Credit_Risk",
         "Customers with low credit scores",
         "2023-01-01T00:00:00Z"
        ],
        [
         "S001422",
         "C1857",
         "Credit_Risk",
         "Customers with low credit scores",
         "2023-01-01T00:00:00Z"
        ],
        [
         "S001423",
         "C1857",
         "Credit_Risk",
         "Customers with low credit scores",
         "2023-01-01T00:00:00Z"
        ],
        [
         "S001424",
         "C1857",
         "Credit_Risk",
         "Customers with low credit scores",
         "2023-01-01T00:00:00Z"
        ],
        [
         "S001425",
         "C1858",
         "Credit_Risk",
         "Customers with low credit scores",
         "2023-01-01T00:00:00Z"
        ],
        [
         "S001426",
         "C1858",
         "Credit_Risk",
         "Customers with low credit scores",
         "2023-01-01T00:00:00Z"
        ],
        [
         "S001427",
         "C1859",
         "Credit_Risk",
         "Customers with low credit scores",
         "2023-01-01T00:00:00Z"
        ],
        [
         "S001428",
         "C1859",
         "Credit_Risk",
         "Customers with low credit scores",
         "2023-01-01T00:00:00Z"
        ],
        [
         "S001429",
         "C1865",
         "Credit_Risk",
         "Customers with low credit scores",
         "2023-01-01T00:00:00Z"
        ],
        [
         "S001430",
         "C1865",
         "Credit_Risk",
         "Customers with low credit scores",
         "2023-01-01T00:00:00Z"
        ],
        [
         "S001431",
         "C1865",
         "Credit_Risk",
         "Customers with low credit scores",
         "2023-01-01T00:00:00Z"
        ],
        [
         "S001432",
         "C1865",
         "Credit_Risk",
         "Customers with low credit scores",
         "2023-01-01T00:00:00Z"
        ],
        [
         "S001433",
         "C1865",
         "Credit_Risk",
         "Customers with low credit scores",
         "2023-01-01T00:00:00Z"
        ],
        [
         "S001434",
         "C1865",
         "Credit_Risk",
         "Customers with low credit scores",
         "2023-01-01T00:00:00Z"
        ],
        [
         "S001435",
         "C1865",
         "Credit_Risk",
         "Customers with low credit scores",
         "2023-01-01T00:00:00Z"
        ],
        [
         "S001436",
         "C1866",
         "Credit_Risk",
         "Customers with low credit scores",
         "2023-01-01T00:00:00Z"
        ],
        [
         "S001437",
         "C1866",
         "Credit_Risk",
         "Customers with low credit scores",
         "2023-01-01T00:00:00Z"
        ],
        [
         "S001438",
         "C1866",
         "Credit_Risk",
         "Customers with low credit scores",
         "2023-01-01T00:00:00Z"
        ],
        [
         "S001439",
         "C1871",
         "Credit_Risk",
         "Customers with low credit scores",
         "2023-01-01T00:00:00Z"
        ],
        [
         "S001440",
         "C1871",
         "Credit_Risk",
         "Customers with low credit scores",
         "2023-01-01T00:00:00Z"
        ],
        [
         "S001441",
         "C1871",
         "Credit_Risk",
         "Customers with low credit scores",
         "2023-01-01T00:00:00Z"
        ],
        [
         "S001442",
         "C1885",
         "Credit_Risk",
         "Customers with low credit scores",
         "2023-01-01T00:00:00Z"
        ],
        [
         "S001443",
         "C1885",
         "Credit_Risk",
         "Customers with low credit scores",
         "2023-01-01T00:00:00Z"
        ],
        [
         "S001444",
         "C1889",
         "Credit_Risk",
         "Customers with low credit scores",
         "2023-01-01T00:00:00Z"
        ],
        [
         "S001445",
         "C1889",
         "Credit_Risk",
         "Customers with low credit scores",
         "2023-01-01T00:00:00Z"
        ],
        [
         "S001446",
         "C1889",
         "Credit_Risk",
         "Customers with low credit scores",
         "2023-01-01T00:00:00Z"
        ],
        [
         "S001447",
         "C1889",
         "Credit_Risk",
         "Customers with low credit scores",
         "2023-01-01T00:00:00Z"
        ],
        [
         "S001448",
         "C1889",
         "Credit_Risk",
         "Customers with low credit scores",
         "2023-01-01T00:00:00Z"
        ],
        [
         "S001449",
         "C1892",
         "Credit_Risk",
         "Customers with low credit scores",
         "2023-01-01T00:00:00Z"
        ],
        [
         "S001450",
         "C1892",
         "Credit_Risk",
         "Customers with low credit scores",
         "2023-01-01T00:00:00Z"
        ],
        [
         "S001451",
         "C1892",
         "Credit_Risk",
         "Customers with low credit scores",
         "2023-01-01T00:00:00Z"
        ],
        [
         "S001452",
         "C1892",
         "Credit_Risk",
         "Customers with low credit scores",
         "2023-01-01T00:00:00Z"
        ],
        [
         "S001453",
         "C1892",
         "Credit_Risk",
         "Customers with low credit scores",
         "2023-01-01T00:00:00Z"
        ],
        [
         "S001454",
         "C1892",
         "Credit_Risk",
         "Customers with low credit scores",
         "2023-01-01T00:00:00Z"
        ],
        [
         "S001455",
         "C1894",
         "Credit_Risk",
         "Customers with low credit scores",
         "2023-01-01T00:00:00Z"
        ],
        [
         "S001456",
         "C1894",
         "Credit_Risk",
         "Customers with low credit scores",
         "2023-01-01T00:00:00Z"
        ],
        [
         "S001457",
         "C1894",
         "Credit_Risk",
         "Customers with low credit scores",
         "2023-01-01T00:00:00Z"
        ],
        [
         "S001458",
         "C1894",
         "Credit_Risk",
         "Customers with low credit scores",
         "2023-01-01T00:00:00Z"
        ],
        [
         "S001459",
         "C1894",
         "Credit_Risk",
         "Customers with low credit scores",
         "2023-01-01T00:00:00Z"
        ],
        [
         "S001460",
         "C1894",
         "Credit_Risk",
         "Customers with low credit scores",
         "2023-01-01T00:00:00Z"
        ],
        [
         "S001461",
         "C1895",
         "Credit_Risk",
         "Customers with low credit scores",
         "2023-01-01T00:00:00Z"
        ],
        [
         "S001462",
         "C1897",
         "Credit_Risk",
         "Customers with low credit scores",
         "2023-01-01T00:00:00Z"
        ],
        [
         "S001463",
         "C1897",
         "Credit_Risk",
         "Customers with low credit scores",
         "2023-01-01T00:00:00Z"
        ],
        [
         "S001464",
         "C1898",
         "Credit_Risk",
         "Customers with low credit scores",
         "2023-01-01T00:00:00Z"
        ],
        [
         "S001465",
         "C1898",
         "Credit_Risk",
         "Customers with low credit scores",
         "2023-01-01T00:00:00Z"
        ],
        [
         "S001466",
         "C1898",
         "Credit_Risk",
         "Customers with low credit scores",
         "2023-01-01T00:00:00Z"
        ],
        [
         "S001467",
         "C1898",
         "Credit_Risk",
         "Customers with low credit scores",
         "2023-01-01T00:00:00Z"
        ],
        [
         "S001468",
         "C1898",
         "Credit_Risk",
         "Customers with low credit scores",
         "2023-01-01T00:00:00Z"
        ],
        [
         "S001469",
         "C1899",
         "Credit_Risk",
         "Customers with low credit scores",
         "2023-01-01T00:00:00Z"
        ],
        [
         "S001470",
         "C1899",
         "Credit_Risk",
         "Customers with low credit scores",
         "2023-01-01T00:00:00Z"
        ],
        [
         "S001471",
         "C1899",
         "Credit_Risk",
         "Customers with low credit scores",
         "2023-01-01T00:00:00Z"
        ],
        [
         "S001472",
         "C1904",
         "Credit_Risk",
         "Customers with low credit scores",
         "2023-01-01T00:00:00Z"
        ],
        [
         "S001473",
         "C1913",
         "Credit_Risk",
         "Customers with low credit scores",
         "2023-01-01T00:00:00Z"
        ],
        [
         "S001474",
         "C1913",
         "Credit_Risk",
         "Customers with low credit scores",
         "2023-01-01T00:00:00Z"
        ],
        [
         "S001475",
         "C1913",
         "Credit_Risk",
         "Customers with low credit scores",
         "2023-01-01T00:00:00Z"
        ],
        [
         "S001476",
         "C1916",
         "Credit_Risk",
         "Customers with low credit scores",
         "2023-01-01T00:00:00Z"
        ],
        [
         "S001477",
         "C1916",
         "Credit_Risk",
         "Customers with low credit scores",
         "2023-01-01T00:00:00Z"
        ],
        [
         "S001478",
         "C1917",
         "Credit_Risk",
         "Customers with low credit scores",
         "2023-01-01T00:00:00Z"
        ],
        [
         "S001479",
         "C1917",
         "Credit_Risk",
         "Customers with low credit scores",
         "2023-01-01T00:00:00Z"
        ],
        [
         "S001480",
         "C1917",
         "Credit_Risk",
         "Customers with low credit scores",
         "2023-01-01T00:00:00Z"
        ],
        [
         "S001481",
         "C1917",
         "Credit_Risk",
         "Customers with low credit scores",
         "2023-01-01T00:00:00Z"
        ],
        [
         "S001482",
         "C1917",
         "Credit_Risk",
         "Customers with low credit scores",
         "2023-01-01T00:00:00Z"
        ],
        [
         "S001483",
         "C1918",
         "Credit_Risk",
         "Customers with low credit scores",
         "2023-01-01T00:00:00Z"
        ],
        [
         "S001484",
         "C1928",
         "Credit_Risk",
         "Customers with low credit scores",
         "2023-01-01T00:00:00Z"
        ],
        [
         "S001485",
         "C1929",
         "Credit_Risk",
         "Customers with low credit scores",
         "2023-01-01T00:00:00Z"
        ],
        [
         "S001486",
         "C1929",
         "Credit_Risk",
         "Customers with low credit scores",
         "2023-01-01T00:00:00Z"
        ],
        [
         "S001487",
         "C1939",
         "Credit_Risk",
         "Customers with low credit scores",
         "2023-01-01T00:00:00Z"
        ],
        [
         "S001488",
         "C1940",
         "Credit_Risk",
         "Customers with low credit scores",
         "2023-01-01T00:00:00Z"
        ],
        [
         "S001489",
         "C1940",
         "Credit_Risk",
         "Customers with low credit scores",
         "2023-01-01T00:00:00Z"
        ],
        [
         "S001490",
         "C1941",
         "Credit_Risk",
         "Customers with low credit scores",
         "2023-01-01T00:00:00Z"
        ],
        [
         "S001491",
         "C1941",
         "Credit_Risk",
         "Customers with low credit scores",
         "2023-01-01T00:00:00Z"
        ],
        [
         "S001492",
         "C1941",
         "Credit_Risk",
         "Customers with low credit scores",
         "2023-01-01T00:00:00Z"
        ],
        [
         "S001493",
         "C1951",
         "Credit_Risk",
         "Customers with low credit scores",
         "2023-01-01T00:00:00Z"
        ],
        [
         "S001494",
         "C1951",
         "Credit_Risk",
         "Customers with low credit scores",
         "2023-01-01T00:00:00Z"
        ],
        [
         "S001495",
         "C1951",
         "Credit_Risk",
         "Customers with low credit scores",
         "2023-01-01T00:00:00Z"
        ],
        [
         "S001496",
         "C1951",
         "Credit_Risk",
         "Customers with low credit scores",
         "2023-01-01T00:00:00Z"
        ],
        [
         "S001497",
         "C1954",
         "Credit_Risk",
         "Customers with low credit scores",
         "2023-01-01T00:00:00Z"
        ],
        [
         "S001498",
         "C1962",
         "Credit_Risk",
         "Customers with low credit scores",
         "2023-01-01T00:00:00Z"
        ],
        [
         "S001499",
         "C1962",
         "Credit_Risk",
         "Customers with low credit scores",
         "2023-01-01T00:00:00Z"
        ],
        [
         "S001500",
         "C1962",
         "Credit_Risk",
         "Customers with low credit scores",
         "2023-01-01T00:00:00Z"
        ],
        [
         "S001501",
         "C1965",
         "Credit_Risk",
         "Customers with low credit scores",
         "2023-01-01T00:00:00Z"
        ],
        [
         "S001502",
         "C1965",
         "Credit_Risk",
         "Customers with low credit scores",
         "2023-01-01T00:00:00Z"
        ],
        [
         "S001503",
         "C1965",
         "Credit_Risk",
         "Customers with low credit scores",
         "2023-01-01T00:00:00Z"
        ],
        [
         "S001504",
         "C1965",
         "Credit_Risk",
         "Customers with low credit scores",
         "2023-01-01T00:00:00Z"
        ],
        [
         "S001505",
         "C1965",
         "Credit_Risk",
         "Customers with low credit scores",
         "2023-01-01T00:00:00Z"
        ],
        [
         "S001506",
         "C1966",
         "Credit_Risk",
         "Customers with low credit scores",
         "2023-01-01T00:00:00Z"
        ],
        [
         "S001507",
         "C1974",
         "Credit_Risk",
         "Customers with low credit scores",
         "2023-01-01T00:00:00Z"
        ],
        [
         "S001508",
         "C1974",
         "Credit_Risk",
         "Customers with low credit scores",
         "2023-01-01T00:00:00Z"
        ],
        [
         "S001509",
         "C1978",
         "Credit_Risk",
         "Customers with low credit scores",
         "2023-01-01T00:00:00Z"
        ],
        [
         "S001510",
         "C1978",
         "Credit_Risk",
         "Customers with low credit scores",
         "2023-01-01T00:00:00Z"
        ],
        [
         "S001511",
         "C1978",
         "Credit_Risk",
         "Customers with low credit scores",
         "2023-01-01T00:00:00Z"
        ],
        [
         "S001512",
         "C1978",
         "Credit_Risk",
         "Customers with low credit scores",
         "2023-01-01T00:00:00Z"
        ],
        [
         "S001513",
         "C1978",
         "Credit_Risk",
         "Customers with low credit scores",
         "2023-01-01T00:00:00Z"
        ],
        [
         "S001514",
         "C1981",
         "Credit_Risk",
         "Customers with low credit scores",
         "2023-01-01T00:00:00Z"
        ],
        [
         "S001515",
         "C1981",
         "Credit_Risk",
         "Customers with low credit scores",
         "2023-01-01T00:00:00Z"
        ],
        [
         "S001516",
         "C1981",
         "Credit_Risk",
         "Customers with low credit scores",
         "2023-01-01T00:00:00Z"
        ],
        [
         "S001517",
         "C1981",
         "Credit_Risk",
         "Customers with low credit scores",
         "2023-01-01T00:00:00Z"
        ],
        [
         "S001518",
         "C1982",
         "Credit_Risk",
         "Customers with low credit scores",
         "2023-01-01T00:00:00Z"
        ],
        [
         "S001519",
         "C1982",
         "Credit_Risk",
         "Customers with low credit scores",
         "2023-01-01T00:00:00Z"
        ],
        [
         "S001520",
         "C1983",
         "Credit_Risk",
         "Customers with low credit scores",
         "2023-01-01T00:00:00Z"
        ],
        [
         "S001521",
         "C1983",
         "Credit_Risk",
         "Customers with low credit scores",
         "2023-01-01T00:00:00Z"
        ],
        [
         "S001522",
         "C1984",
         "Credit_Risk",
         "Customers with low credit scores",
         "2023-01-01T00:00:00Z"
        ],
        [
         "S001523",
         "C1984",
         "Credit_Risk",
         "Customers with low credit scores",
         "2023-01-01T00:00:00Z"
        ],
        [
         "S001524",
         "C1984",
         "Credit_Risk",
         "Customers with low credit scores",
         "2023-01-01T00:00:00Z"
        ],
        [
         "S001525",
         "C1986",
         "Credit_Risk",
         "Customers with low credit scores",
         "2023-01-01T00:00:00Z"
        ],
        [
         "S001526",
         "C1989",
         "New_User",
         "Customers who joined in last 30 days",
         "2023-01-01T00:00:00Z"
        ],
        [
         "S001527",
         "C1989",
         "New_User",
         "Customers who joined in last 30 days",
         "2023-01-01T00:00:00Z"
        ],
        [
         "S001528",
         "C1989",
         "New_User",
         "Customers who joined in last 30 days",
         "2023-01-01T00:00:00Z"
        ],
        [
         "S001529",
         "C1990",
         "New_User",
         "Customers who joined in last 30 days",
         "2023-01-01T00:00:00Z"
        ],
        [
         "S001530",
         "C1990",
         "New_User",
         "Customers who joined in last 30 days",
         "2023-01-01T00:00:00Z"
        ],
        [
         "S001531",
         "C1992",
         "New_User",
         "Customers who joined in last 30 days",
         "2023-01-01T00:00:00Z"
        ],
        [
         "S001532",
         "C1992",
         "New_User",
         "Customers who joined in last 30 days",
         "2023-01-01T00:00:00Z"
        ],
        [
         "S001533",
         "C1993",
         "New_User",
         "Customers who joined in last 30 days",
         "2023-01-01T00:00:00Z"
        ],
        [
         "S001534",
         "C1993",
         "New_User",
         "Customers who joined in last 30 days",
         "2023-01-01T00:00:00Z"
        ],
        [
         "S001535",
         "C1993",
         "New_User",
         "Customers who joined in last 30 days",
         "2023-01-01T00:00:00Z"
        ],
        [
         "S001536",
         "C1994",
         "New_User",
         "Customers who joined in last 30 days",
         "2023-01-01T00:00:00Z"
        ],
        [
         "S001537",
         "C1994",
         "New_User",
         "Customers who joined in last 30 days",
         "2023-01-01T00:00:00Z"
        ],
        [
         "S001538",
         "C1994",
         "New_User",
         "Customers who joined in last 30 days",
         "2023-01-01T00:00:00Z"
        ],
        [
         "S001539",
         "C1994",
         "New_User",
         "Customers who joined in last 30 days",
         "2023-01-01T00:00:00Z"
        ],
        [
         "S001540",
         "C1995",
         "New_User",
         "Customers who joined in last 30 days",
         "2023-01-01T00:00:00Z"
        ],
        [
         "S001541",
         "C1995",
         "New_User",
         "Customers who joined in last 30 days",
         "2023-01-01T00:00:00Z"
        ],
        [
         "S001542",
         "C1996",
         "New_User",
         "Customers who joined in last 30 days",
         "2023-01-01T00:00:00Z"
        ],
        [
         "S001543",
         "C1996",
         "Credit_Risk",
         "Customers with low credit scores",
         "2023-01-01T00:00:00Z"
        ],
        [
         "S001544",
         "C1997",
         "New_User",
         "Customers who joined in last 30 days",
         "2023-01-01T00:00:00Z"
        ],
        [
         "S001545",
         "C1997",
         "New_User",
         "Customers who joined in last 30 days",
         "2023-01-01T00:00:00Z"
        ],
        [
         "S001546",
         "C1997",
         "New_User",
         "Customers who joined in last 30 days",
         "2023-01-01T00:00:00Z"
        ],
        [
         "S001547",
         "C1997",
         "New_User",
         "Customers who joined in last 30 days",
         "2023-01-01T00:00:00Z"
        ],
        [
         "S001548",
         "C1997",
         "New_User",
         "Customers who joined in last 30 days",
         "2023-01-01T00:00:00Z"
        ],
        [
         "S001549",
         "C1997",
         "New_User",
         "Customers who joined in last 30 days",
         "2023-01-01T00:00:00Z"
        ],
        [
         "S001550",
         "C1998",
         "New_User",
         "Customers who joined in last 30 days",
         "2023-01-01T00:00:00Z"
        ],
        [
         "S001551",
         "C1998",
         "New_User",
         "Customers who joined in last 30 days",
         "2023-01-01T00:00:00Z"
        ],
        [
         "S001552",
         "C1999",
         "New_User",
         "Customers who joined in last 30 days",
         "2023-01-01T00:00:00Z"
        ],
        [
         "S001553",
         "C1999",
         "Credit_Risk",
         "Customers with low credit scores",
         "2023-01-01T00:00:00Z"
        ]
       ],
       "datasetInfos": [],
       "dbfsResultPath": null,
       "isJsonSchema": true,
       "metadata": {},
       "overflow": false,
       "plotOptions": {
        "customPlotOptions": {},
        "displayType": "table",
        "pivotAggregation": null,
        "pivotColumns": null,
        "xColumns": null,
        "yColumns": null
       },
       "removedWidgets": [],
       "schema": [
        {
         "metadata": "{}",
         "name": "segment_id",
         "type": "\"string\""
        },
        {
         "metadata": "{}",
         "name": "customer_id",
         "type": "\"string\""
        },
        {
         "metadata": "{}",
         "name": "segment_name",
         "type": "\"string\""
        },
        {
         "metadata": "{}",
         "name": "segment_description",
         "type": "\"string\""
        },
        {
         "metadata": "{}",
         "name": "last_update",
         "type": "\"timestamp\""
        }
       ],
       "type": "table"
      }
     },
     "output_type": "display_data"
    }
   ],
   "source": [
    "from pyspark.sql import functions as F\n",
    "from pyspark.sql import Window\n",
    "from datetime import datetime, timedelta\n",
    "import pandas as pd\n",
    "\n",
    "# Current date\n",
    "current_date = pd.Timestamp(\"2023-01-01\")\n",
    "\n",
    "# High_Value: Customers with total transaction amount above the threshold\n",
    "high_value_threshold = 100000  \n",
    "high_value_customers = merged_df.groupBy(\"customer_id\").agg(F.sum(\"amount\").alias(\"total_amount\"))\n",
    "high_value_customers = high_value_customers.filter(F.col(\"total_amount\") > high_value_threshold).select(\n",
    "    \"customer_id\"\n",
    ").withColumn(\"segment_name\", F.lit(\"High_Value\")).withColumn(\n",
    "    \"segment_description\", F.lit(\"Customers with high transaction volume\")\n",
    ").withColumn(\n",
    "    \"last_update\", F.lit(current_date)\n",
    ")\n",
    "\n",
    "# New_User: Customers who joined in the last 30 days\n",
    "new_user_customers = merged_df.filter(\n",
    "    F.col(\"join_date\") > F.lit(current_date - timedelta(days=30))\n",
    ").select(\"customer_id\").withColumn(\n",
    "    \"segment_name\", F.lit(\"New_User\")\n",
    ").withColumn(\n",
    "    \"segment_description\", F.lit(\"Customers who joined in last 30 days\")\n",
    ").withColumn(\n",
    "    \"last_update\", F.lit(current_date)\n",
    ")\n",
    "\n",
    "# Inactive: Customers with no transactions in last 90 days\n",
    "recent_transactions = merged_df.filter(\n",
    "    F.col(\"timestamp\") > F.lit(current_date - timedelta(days=90))\n",
    ").select(\"customer_id\").distinct()\n",
    "inactive_customers = merged_df.join(recent_transactions, on=\"customer_id\", how=\"left_anti\").select(\n",
    "    \"customer_id\"\n",
    ").withColumn(\n",
    "    \"segment_name\", F.lit(\"Inactive\")\n",
    ").withColumn(\n",
    "    \"segment_description\", F.lit(\"No transactions in last 90 days\")\n",
    ").withColumn(\n",
    "    \"last_update\", F.lit(current_date)\n",
    ")\n",
    "\n",
    "# Credit_Risk: Customers with low credit scores (assuming credit_score < 600)\n",
    "credit_risk_customers = merged_df.filter(F.col(\"credit_score\") < 600).select(\n",
    "    \"customer_id\"\n",
    ").withColumn(\n",
    "    \"segment_name\", F.lit(\"Credit_Risk\")\n",
    ").withColumn(\n",
    "    \"segment_description\", F.lit(\"Customers with low credit scores\")\n",
    ").withColumn(\n",
    "    \"last_update\", F.lit(current_date)\n",
    ")\n",
    "\n",
    "# Loyal: Customers with consistent activity for over 5 years\n",
    "loyal_customers = merged_df.filter(\n",
    "    F.col(\"join_date\") < F.lit(current_date - timedelta(days=5*365))\n",
    ").select(\"customer_id\").withColumn(\n",
    "    \"segment_name\", F.lit(\"Loyal\")\n",
    ").withColumn(\n",
    "    \"segment_description\", F.lit(\"Consistent activity for over 5 years\")\n",
    ").withColumn(\n",
    "    \"last_update\", F.lit(current_date)\n",
    ")\n",
    "\n",
    "# Combine all segments\n",
    "customer_segmentation_df = high_value_customers.union(new_user_customers).union(inactive_customers).union(credit_risk_customers).union(loyal_customers)\n",
    "\n",
    "# Add segment_id\n",
    "window_spec = Window.orderBy(\"customer_id\")\n",
    "customer_segmentation_df = customer_segmentation_df.withColumn(\"segment_id\", F.concat(F.lit(\"S00\"), F.row_number().over(window_spec).cast(\"string\")))\n",
    "\n",
    "# Select and display the result\n",
    "customer_segmentation_df = customer_segmentation_df.select(\"segment_id\", \"customer_id\", \"segment_name\", \"segment_description\", \"last_update\")\n",
    "\n",
    "customer_segmentation_df.display()\n"
   ]
  },
  {
   "cell_type": "code",
   "execution_count": 0,
   "metadata": {
    "application/vnd.databricks.v1+cell": {
     "cellMetadata": {
      "byteLimit": 2048000,
      "rowLimit": 10000
     },
     "inputWidgets": {},
     "nuid": "6a705751-7db2-47bf-b486-b3eac16c96fb",
     "showTitle": false,
     "title": ""
    }
   },
   "outputs": [],
   "source": [
    "customer_segmentation_df.write.format(\"delta\").mode(\"overwrite\").saveAsTable(\"hive_metastore.gold.Customer_segments\")"
   ]
  },
  {
   "cell_type": "markdown",
   "metadata": {
    "application/vnd.databricks.v1+cell": {
     "cellMetadata": {},
     "inputWidgets": {},
     "nuid": "ac633514-c6e3-467e-9d88-cebf0b00d3dd",
     "showTitle": false,
     "title": ""
    }
   },
   "source": [
    "## Aggrigations on Table"
   ]
  },
  {
   "cell_type": "markdown",
   "metadata": {
    "application/vnd.databricks.v1+cell": {
     "cellMetadata": {},
     "inputWidgets": {},
     "nuid": "270eb185-de69-4cd9-8402-4d5ffe7a9bbd",
     "showTitle": false,
     "title": ""
    }
   },
   "source": [
    "### 1.total and unique Count of segment name."
   ]
  },
  {
   "cell_type": "code",
   "execution_count": 0,
   "metadata": {
    "application/vnd.databricks.v1+cell": {
     "cellMetadata": {
      "byteLimit": 2048000,
      "rowLimit": 10000
     },
     "inputWidgets": {},
     "nuid": "0ce6b4dc-3997-48f7-a9a8-d4753f0ec8f4",
     "showTitle": false,
     "title": ""
    }
   },
   "outputs": [
    {
     "output_type": "display_data",
     "data": {
      "text/html": [
       "<style scoped>\n",
       "  .table-result-container {\n",
       "    max-height: 300px;\n",
       "    overflow: auto;\n",
       "  }\n",
       "  table, th, td {\n",
       "    border: 1px solid black;\n",
       "    border-collapse: collapse;\n",
       "  }\n",
       "  th, td {\n",
       "    padding: 5px;\n",
       "  }\n",
       "  th {\n",
       "    text-align: left;\n",
       "  }\n",
       "</style><div class='table-result-container'><table class='table-result'><thead style='background-color: white'><tr><th>segment_name</th><th>total_count</th><th>unique_count</th></tr></thead><tbody><tr><td>High_Value</td><td>13</td><td>13</td></tr><tr><td>Loyal</td><td>581</td><td>175</td></tr><tr><td>Credit_Risk</td><td>933</td><td>288</td></tr><tr><td>New_User</td><td>26</td><td>10</td></tr></tbody></table></div>"
      ]
     },
     "metadata": {
      "application/vnd.databricks.v1+output": {
       "addedWidgets": {},
       "aggData": [],
       "aggError": "",
       "aggOverflow": false,
       "aggSchema": [],
       "aggSeriesLimitReached": false,
       "aggType": "",
       "arguments": {},
       "columnCustomDisplayInfos": {},
       "data": [
        [
         "High_Value",
         13,
         13
        ],
        [
         "Loyal",
         581,
         175
        ],
        [
         "Credit_Risk",
         933,
         288
        ],
        [
         "New_User",
         26,
         10
        ]
       ],
       "datasetInfos": [],
       "dbfsResultPath": null,
       "isJsonSchema": true,
       "metadata": {},
       "overflow": false,
       "plotOptions": {
        "customPlotOptions": {},
        "displayType": "table",
        "pivotAggregation": null,
        "pivotColumns": null,
        "xColumns": null,
        "yColumns": null
       },
       "removedWidgets": [],
       "schema": [
        {
         "metadata": "{}",
         "name": "segment_name",
         "type": "\"string\""
        },
        {
         "metadata": "{}",
         "name": "total_count",
         "type": "\"long\""
        },
        {
         "metadata": "{}",
         "name": "unique_count",
         "type": "\"long\""
        }
       ],
       "type": "table"
      }
     },
     "output_type": "display_data"
    }
   ],
   "source": [
    "from pyspark.sql import functions as F\n",
    "segment_distribution = customer_segmentation_df.groupBy(\"segment_name\").agg(\n",
    "    F.count(\"customer_id\").alias(\"total_count\"),\n",
    "    F.countDistinct(\"customer_id\").alias(\"unique_count\")\n",
    ")\n",
    "segment_distribution.display()"
   ]
  },
  {
   "cell_type": "markdown",
   "metadata": {
    "application/vnd.databricks.v1+cell": {
     "cellMetadata": {},
     "inputWidgets": {},
     "nuid": "c8dd8017-45b3-4faf-9769-b1324c166097",
     "showTitle": false,
     "title": ""
    }
   },
   "source": [
    "###2. Get the sum,avg,min,max,count based on customer_id"
   ]
  },
  {
   "cell_type": "code",
   "execution_count": 0,
   "metadata": {
    "application/vnd.databricks.v1+cell": {
     "cellMetadata": {
      "byteLimit": 2048000,
      "rowLimit": 10000
     },
     "inputWidgets": {},
     "nuid": "642019a0-ea58-45af-b7b4-fdcfa7a97114",
     "showTitle": false,
     "title": ""
    }
   },
   "outputs": [
    {
     "output_type": "display_data",
     "data": {
      "text/html": [
       "<style scoped>\n",
       "  .table-result-container {\n",
       "    max-height: 300px;\n",
       "    overflow: auto;\n",
       "  }\n",
       "  table, th, td {\n",
       "    border: 1px solid black;\n",
       "    border-collapse: collapse;\n",
       "  }\n",
       "  th, td {\n",
       "    padding: 5px;\n",
       "  }\n",
       "  th {\n",
       "    text-align: left;\n",
       "  }\n",
       "</style><div class='table-result-container'><table class='table-result'><thead style='background-color: white'><tr><th>customer_id</th><th>total_amount</th><th>average_amount</th><th>min_amount</th><th>max_amount</th><th>transaction_count</th></tr></thead><tbody><tr><td>C1804</td><td>234.04</td><td>39.01</td><td>2.78</td><td>71.18</td><td>6</td></tr><tr><td>C1875</td><td>134.89</td><td>33.72</td><td>4.03</td><td>61.31</td><td>4</td></tr><tr><td>C1602</td><td>165.59</td><td>55.2</td><td>18.44</td><td>75.79</td><td>3</td></tr><tr><td>C1524</td><td>109.49</td><td>36.5</td><td>21.09</td><td>57.33</td><td>3</td></tr><tr><td>C1100</td><td>114.31</td><td>38.1</td><td>6.63</td><td>70.99</td><td>3</td></tr><tr><td>C1842</td><td>93.53</td><td>31.18</td><td>12.45</td><td>51.83</td><td>3</td></tr><tr><td>C1628</td><td>40.83</td><td>20.41</td><td>19.38</td><td>21.45</td><td>2</td></tr><tr><td>C1829</td><td>170.52</td><td>34.1</td><td>12.47</td><td>63.94</td><td>5</td></tr><tr><td>C1305</td><td>26.48</td><td>26.48</td><td>26.48</td><td>26.48</td><td>1</td></tr><tr><td>C1774</td><td>92.38</td><td>46.19</td><td>19.95</td><td>72.43</td><td>2</td></tr><tr><td>C1917</td><td>127.19</td><td>25.44</td><td>1.28</td><td>56.56</td><td>5</td></tr><tr><td>C1189</td><td>99.02</td><td>24.75</td><td>1.82</td><td>45.25</td><td>4</td></tr><tr><td>C1194</td><td>27.74</td><td>13.87</td><td>1.82</td><td>25.92</td><td>2</td></tr><tr><td>C1665</td><td>70.31</td><td>23.44</td><td>4.71</td><td>54.47</td><td>3</td></tr><tr><td>C1482</td><td>109.07</td><td>54.53</td><td>29.73</td><td>79.34</td><td>2</td></tr><tr><td>C1586</td><td>95.33</td><td>47.67</td><td>45.38</td><td>49.95</td><td>2</td></tr><tr><td>C1729</td><td>48790.97</td><td>4879.1</td><td>2.69</td><td>48323.58</td><td>10</td></tr><tr><td>C1358</td><td>140.15</td><td>28.03</td><td>14.7</td><td>41.09</td><td>5</td></tr><tr><td>C1096</td><td>212.36</td><td>42.47</td><td>23.68</td><td>66.84</td><td>5</td></tr><tr><td>C1852</td><td>102.98</td><td>25.74</td><td>6.91</td><td>41.71</td><td>4</td></tr><tr><td>C1212</td><td>99.23</td><td>49.61</td><td>48.17</td><td>51.06</td><td>2</td></tr><tr><td>C1642</td><td>30.73</td><td>15.36</td><td>1.6</td><td>29.13</td><td>2</td></tr><tr><td>C1520</td><td>88.68</td><td>29.56</td><td>5.64</td><td>74.08</td><td>3</td></tr><tr><td>C1623</td><td>116.3</td><td>29.07</td><td>6.85</td><td>44.5</td><td>4</td></tr><tr><td>C1704</td><td>44918.98</td><td>11229.75</td><td>15.72</td><td>44859.8</td><td>4</td></tr><tr><td>C1815</td><td>266.76</td><td>44.46</td><td>24.43</td><td>72.89</td><td>6</td></tr><tr><td>C1491</td><td>146.87</td><td>48.96</td><td>20.68</td><td>68.65</td><td>3</td></tr><tr><td>C1195</td><td>90.55</td><td>22.64</td><td>13.35</td><td>35.0</td><td>4</td></tr><tr><td>C1454</td><td>114.28</td><td>28.57</td><td>5.17</td><td>77.31</td><td>4</td></tr><tr><td>C1173</td><td>58.44</td><td>58.44</td><td>58.44</td><td>58.44</td><td>1</td></tr><tr><td>C1740</td><td>137.13</td><td>68.56</td><td>44.79</td><td>92.34</td><td>2</td></tr><tr><td>C1943</td><td>62.45</td><td>20.82</td><td>10.2</td><td>35.46</td><td>3</td></tr><tr><td>C1649</td><td>52876.02</td><td>13219.01</td><td>15.81</td><td>52709.78</td><td>4</td></tr><tr><td>C1396</td><td>65.84</td><td>32.92</td><td>24.11</td><td>41.73</td><td>2</td></tr><tr><td>C1023</td><td>106.44</td><td>35.48</td><td>3.47</td><td>64.37</td><td>3</td></tr><tr><td>C1498</td><td>69.87</td><td>34.93</td><td>12.23</td><td>57.64</td><td>2</td></tr><tr><td>C1947</td><td>35159.1</td><td>17579.55</td><td>3.94</td><td>35155.16</td><td>2</td></tr><tr><td>C1798</td><td>127.62</td><td>31.91</td><td>1.0</td><td>110.47</td><td>4</td></tr><tr><td>C1769</td><td>87.08</td><td>21.77</td><td>12.31</td><td>33.2</td><td>4</td></tr><tr><td>C1337</td><td>24.49</td><td>24.49</td><td>24.49</td><td>24.49</td><td>1</td></tr><tr><td>C1703</td><td>173.24</td><td>43.31</td><td>26.78</td><td>51.91</td><td>4</td></tr><tr><td>C1036</td><td>135.58</td><td>27.12</td><td>20.89</td><td>38.5</td><td>5</td></tr><tr><td>C1114</td><td>152.5</td><td>50.83</td><td>11.79</td><td>102.18</td><td>3</td></tr><tr><td>C1934</td><td>100.21</td><td>25.05</td><td>3.42</td><td>45.46</td><td>4</td></tr><tr><td>C1918</td><td>54.88</td><td>54.88</td><td>54.88</td><td>54.88</td><td>1</td></tr><tr><td>C1732</td><td>178.99</td><td>44.75</td><td>15.43</td><td>99.62</td><td>4</td></tr><tr><td>C1321</td><td>168.51</td><td>56.17</td><td>4.29</td><td>103.39</td><td>3</td></tr><tr><td>C1328</td><td>203.85</td><td>40.77</td><td>3.55</td><td>96.06</td><td>5</td></tr><tr><td>C1542</td><td>96.28</td><td>24.07</td><td>5.15</td><td>74.69</td><td>4</td></tr><tr><td>C1127</td><td>22.64</td><td>11.32</td><td>2.57</td><td>20.07</td><td>2</td></tr><tr><td>C1570</td><td>14422.54</td><td>4807.51</td><td>39.83</td><td>14327.18</td><td>3</td></tr><tr><td>C1600</td><td>34.47</td><td>17.24</td><td>8.53</td><td>25.94</td><td>2</td></tr><tr><td>C1952</td><td>65809.13</td><td>21936.38</td><td>15.8</td><td>53926.23</td><td>3</td></tr><tr><td>C1526</td><td>159.02</td><td>79.51</td><td>16.93</td><td>142.09</td><td>2</td></tr><tr><td>C1485</td><td>76344.17</td><td>19086.04</td><td>12.25</td><td>76297.91</td><td>4</td></tr><tr><td>C1608</td><td>35.66</td><td>11.89</td><td>1.1</td><td>21.41</td><td>3</td></tr><tr><td>C1507</td><td>113.28</td><td>28.32</td><td>1.94</td><td>46.24</td><td>4</td></tr><tr><td>C1937</td><td>152.99</td><td>38.25</td><td>24.28</td><td>49.38</td><td>4</td></tr><tr><td>C1359</td><td>133.88</td><td>44.63</td><td>24.25</td><td>60.85</td><td>3</td></tr><tr><td>C1020</td><td>1.1</td><td>1.1</td><td>1.1</td><td>1.1</td><td>1</td></tr><tr><td>C1558</td><td>118.18</td><td>59.09</td><td>4.04</td><td>114.14</td><td>2</td></tr><tr><td>C1717</td><td>197.83</td><td>28.26</td><td>3.22</td><td>70.65</td><td>7</td></tr><tr><td>C1322</td><td>86.94</td><td>21.74</td><td>8.05</td><td>41.18</td><td>4</td></tr><tr><td>C1186</td><td>147.24</td><td>36.81</td><td>14.01</td><td>57.29</td><td>4</td></tr><tr><td>C1893</td><td>137.95</td><td>27.59</td><td>4.3</td><td>58.28</td><td>5</td></tr><tr><td>C1658</td><td>164.52</td><td>82.26</td><td>78.99</td><td>85.53</td><td>2</td></tr><tr><td>C1587</td><td>130.88</td><td>65.44</td><td>23.41</td><td>107.47</td><td>2</td></tr><tr><td>C1030</td><td>74.54</td><td>18.63</td><td>3.27</td><td>35.75</td><td>4</td></tr><tr><td>C1462</td><td>203.84</td><td>33.97</td><td>1.0</td><td>73.54</td><td>6</td></tr><tr><td>C1076</td><td>108.28</td><td>27.07</td><td>5.76</td><td>52.48</td><td>4</td></tr><tr><td>C1156</td><td>10721.36</td><td>2680.34</td><td>7.51</td><td>10635.92</td><td>4</td></tr><tr><td>C1662</td><td>59.63</td><td>59.63</td><td>59.63</td><td>59.63</td><td>1</td></tr><tr><td>C1859</td><td>41.83</td><td>20.91</td><td>9.16</td><td>32.67</td><td>2</td></tr><tr><td>C1332</td><td>145.52</td><td>36.38</td><td>7.35</td><td>68.43</td><td>4</td></tr><tr><td>C1118</td><td>112940.35</td><td>22588.07</td><td>14.9</td><td>78435.67</td><td>5</td></tr><tr><td>C1759</td><td>49.42</td><td>12.36</td><td>4.51</td><td>30.08</td><td>4</td></tr><tr><td>C1668</td><td>136.54</td><td>27.31</td><td>1.3</td><td>86.48</td><td>5</td></tr><tr><td>C1854</td><td>43.26</td><td>21.63</td><td>3.58</td><td>39.68</td><td>2</td></tr><tr><td>C1559</td><td>62.72</td><td>20.91</td><td>8.65</td><td>44.33</td><td>3</td></tr><tr><td>C1479</td><td>101.55</td><td>33.85</td><td>13.77</td><td>52.5</td><td>3</td></tr><tr><td>C1300</td><td>169.1</td><td>42.27</td><td>11.95</td><td>100.18</td><td>4</td></tr><tr><td>C1549</td><td>21.2</td><td>21.2</td><td>21.2</td><td>21.2</td><td>1</td></tr><tr><td>C1552</td><td>60.59</td><td>30.3</td><td>20.43</td><td>40.16</td><td>2</td></tr><tr><td>C1609</td><td>212.57</td><td>42.51</td><td>15.93</td><td>99.09</td><td>5</td></tr><tr><td>C1115</td><td>193.31</td><td>48.33</td><td>17.23</td><td>73.67</td><td>4</td></tr><tr><td>C1409</td><td>168.41</td><td>42.1</td><td>16.77</td><td>59.31</td><td>4</td></tr><tr><td>C1239</td><td>79.2</td><td>19.8</td><td>1.3</td><td>47.94</td><td>4</td></tr><tr><td>C1908</td><td>66.4</td><td>33.2</td><td>10.05</td><td>56.35</td><td>2</td></tr><tr><td>C1110</td><td>50480.89</td><td>25240.44</td><td>83.96</td><td>50396.93</td><td>2</td></tr><tr><td>C1585</td><td>120312.89</td><td>30078.22</td><td>17.25</td><td>88306.93</td><td>4</td></tr><tr><td>C1375</td><td>71.77</td><td>71.77</td><td>71.77</td><td>71.77</td><td>1</td></tr><tr><td>C1675</td><td>91.61</td><td>22.9</td><td>8.58</td><td>35.97</td><td>4</td></tr><tr><td>C1706</td><td>198.54</td><td>49.63</td><td>43.26</td><td>58.73</td><td>4</td></tr><tr><td>C1601</td><td>74.68</td><td>24.89</td><td>2.24</td><td>42.75</td><td>3</td></tr><tr><td>C1879</td><td>136.14</td><td>27.23</td><td>1.1</td><td>48.33</td><td>5</td></tr><tr><td>C1574</td><td>62.85</td><td>31.42</td><td>8.18</td><td>54.67</td><td>2</td></tr><tr><td>C1543</td><td>115.41</td><td>28.85</td><td>16.2</td><td>48.02</td><td>4</td></tr><tr><td>C1974</td><td>47.25</td><td>23.63</td><td>16.24</td><td>31.01</td><td>2</td></tr><tr><td>C1131</td><td>147.34</td><td>24.56</td><td>3.13</td><td>51.99</td><td>6</td></tr><tr><td>C1951</td><td>180.61</td><td>45.15</td><td>23.86</td><td>65.98</td><td>4</td></tr><tr><td>C1837</td><td>83304.65</td><td>11900.66</td><td>3.83</td><td>83126.79</td><td>7</td></tr><tr><td>C1534</td><td>70643.11</td><td>14128.62</td><td>1.1</td><td>70515.9</td><td>5</td></tr><tr><td>C1811</td><td>145.47</td><td>29.09</td><td>1.24</td><td>51.14</td><td>5</td></tr><tr><td>C1284</td><td>25.62</td><td>12.81</td><td>1.1</td><td>24.52</td><td>2</td></tr><tr><td>C1314</td><td>122.62</td><td>24.52</td><td>5.39</td><td>54.1</td><td>5</td></tr><tr><td>C1625</td><td>33.09</td><td>33.09</td><td>33.09</td><td>33.09</td><td>1</td></tr><tr><td>C1767</td><td>74.23</td><td>24.74</td><td>14.03</td><td>30.64</td><td>3</td></tr><tr><td>C1267</td><td>107.36</td><td>26.84</td><td>5.25</td><td>57.73</td><td>4</td></tr><tr><td>C1699</td><td>28.57</td><td>28.57</td><td>28.57</td><td>28.57</td><td>1</td></tr><tr><td>C1536</td><td>66.38</td><td>33.19</td><td>29.18</td><td>37.2</td><td>2</td></tr><tr><td>C1079</td><td>39401.02</td><td>19700.51</td><td>52.05</td><td>39348.97</td><td>2</td></tr><tr><td>C1144</td><td>158.2</td><td>39.55</td><td>7.93</td><td>63.43</td><td>4</td></tr><tr><td>C1001</td><td>98.68</td><td>98.68</td><td>98.68</td><td>98.68</td><td>1</td></tr><tr><td>C1349</td><td>239.69</td><td>59.92</td><td>14.26</td><td>114.31</td><td>4</td></tr><tr><td>C1707</td><td>65398.72</td><td>32699.36</td><td>8.55</td><td>65390.17</td><td>2</td></tr><tr><td>C1661</td><td>38223.27</td><td>6370.54</td><td>5.67</td><td>38155.86</td><td>6</td></tr><tr><td>C1743</td><td>146.02</td><td>48.67</td><td>34.12</td><td>61.56</td><td>3</td></tr><tr><td>C1119</td><td>42.63</td><td>21.32</td><td>8.84</td><td>33.79</td><td>2</td></tr><tr><td>C1086</td><td>119.35</td><td>39.78</td><td>19.45</td><td>69.23</td><td>3</td></tr><tr><td>C1473</td><td>61.6</td><td>30.8</td><td>4.86</td><td>56.74</td><td>2</td></tr><tr><td>C1932</td><td>123.55</td><td>30.89</td><td>4.5</td><td>54.29</td><td>4</td></tr><tr><td>C1055</td><td>11.07</td><td>11.07</td><td>11.07</td><td>11.07</td><td>1</td></tr><tr><td>C1910</td><td>36.92</td><td>36.92</td><td>36.92</td><td>36.92</td><td>1</td></tr><tr><td>C1844</td><td>66.33</td><td>33.17</td><td>17.25</td><td>49.08</td><td>2</td></tr><tr><td>C1081</td><td>44303.75</td><td>8860.75</td><td>30.14</td><td>44116.01</td><td>5</td></tr><tr><td>C1827</td><td>219.51</td><td>73.17</td><td>27.89</td><td>97.96</td><td>3</td></tr><tr><td>C1855</td><td>78.55</td><td>26.18</td><td>1.1</td><td>43.86</td><td>3</td></tr><tr><td>C1290</td><td>131.94</td><td>26.39</td><td>5.76</td><td>55.72</td><td>5</td></tr><tr><td>C1181</td><td>77.13</td><td>19.28</td><td>3.04</td><td>57.38</td><td>4</td></tr><tr><td>C1386</td><td>57979.76</td><td>28989.88</td><td>10.91</td><td>57968.85</td><td>2</td></tr><tr><td>C1109</td><td>129.89</td><td>25.98</td><td>5.76</td><td>82.3</td><td>5</td></tr><tr><td>C1599</td><td>243.03</td><td>48.61</td><td>1.55</td><td>72.43</td><td>5</td></tr><tr><td>C1723</td><td>11.76</td><td>5.88</td><td>1.78</td><td>9.98</td><td>2</td></tr><tr><td>C1053</td><td>159.95</td><td>39.99</td><td>18.55</td><td>65.09</td><td>4</td></tr><tr><td>C1909</td><td>49606.51</td><td>12401.63</td><td>17.12</td><td>49538.11</td><td>4</td></tr><tr><td>C1547</td><td>203.08</td><td>33.85</td><td>6.69</td><td>77.39</td><td>6</td></tr><tr><td>C1618</td><td>212.48</td><td>42.5</td><td>13.24</td><td>67.52</td><td>5</td></tr><tr><td>C1056</td><td>60.2</td><td>60.2</td><td>60.2</td><td>60.2</td><td>1</td></tr><tr><td>C1304</td><td>71701.05</td><td>14340.21</td><td>34.38</td><td>71347.57</td><td>5</td></tr><tr><td>C1283</td><td>189.36</td><td>47.34</td><td>17.73</td><td>114.95</td><td>4</td></tr><tr><td>C1933</td><td>27.72</td><td>13.86</td><td>1.0</td><td>26.72</td><td>2</td></tr><tr><td>C1157</td><td>109.58</td><td>36.53</td><td>25.49</td><td>49.12</td><td>3</td></tr><tr><td>C1694</td><td>137.51</td><td>27.5</td><td>2.19</td><td>65.95</td><td>5</td></tr><tr><td>C1348</td><td>102.78</td><td>34.26</td><td>14.03</td><td>53.34</td><td>3</td></tr><tr><td>C1263</td><td>85.43</td><td>42.72</td><td>16.89</td><td>68.54</td><td>2</td></tr><tr><td>C1355</td><td>133.84</td><td>26.77</td><td>5.62</td><td>60.68</td><td>5</td></tr><tr><td>C1294</td><td>80.1</td><td>26.7</td><td>1.0</td><td>46.55</td><td>3</td></tr><tr><td>C1863</td><td>77.93</td><td>19.48</td><td>1.0</td><td>39.96</td><td>4</td></tr><tr><td>C1796</td><td>34.9</td><td>34.9</td><td>34.9</td><td>34.9</td><td>1</td></tr><tr><td>C1629</td><td>42.97</td><td>21.49</td><td>3.82</td><td>39.15</td><td>2</td></tr><tr><td>C1876</td><td>181.15</td><td>45.29</td><td>10.49</td><td>92.21</td><td>4</td></tr><tr><td>C1684</td><td>187.72</td><td>23.47</td><td>1.12</td><td>58.35</td><td>8</td></tr><tr><td>C1249</td><td>67.61</td><td>22.54</td><td>8.47</td><td>34.36</td><td>3</td></tr><tr><td>C1502</td><td>104.4</td><td>20.88</td><td>3.82</td><td>43.73</td><td>5</td></tr><tr><td>C1028</td><td>127.63</td><td>31.91</td><td>17.86</td><td>46.76</td><td>4</td></tr><tr><td>C1385</td><td>67.36</td><td>33.68</td><td>13.57</td><td>53.79</td><td>2</td></tr><tr><td>C1768</td><td>100.04</td><td>25.01</td><td>1.3</td><td>76.19</td><td>4</td></tr><tr><td>C1970</td><td>187.55</td><td>26.79</td><td>8.86</td><td>58.35</td><td>7</td></tr><tr><td>C1582</td><td>108.19</td><td>36.06</td><td>32.86</td><td>39.68</td><td>3</td></tr><tr><td>C1433</td><td>242.71</td><td>60.68</td><td>34.03</td><td>92.48</td><td>4</td></tr><tr><td>C1839</td><td>190.76</td><td>31.79</td><td>13.36</td><td>52.24</td><td>6</td></tr><tr><td>C1041</td><td>58.01</td><td>19.34</td><td>7.8</td><td>25.29</td><td>3</td></tr><tr><td>C1801</td><td>81189.27</td><td>13531.54</td><td>4.52</td><td>81016.23</td><td>6</td></tr><tr><td>C1915</td><td>69.5</td><td>23.17</td><td>18.64</td><td>27.31</td><td>3</td></tr><tr><td>C1237</td><td>143.22</td><td>28.64</td><td>5.14</td><td>96.81</td><td>5</td></tr><tr><td>C1595</td><td>24.71</td><td>24.71</td><td>24.71</td><td>24.71</td><td>1</td></tr><tr><td>C1686</td><td>86.84</td><td>28.95</td><td>17.72</td><td>48.45</td><td>3</td></tr><tr><td>C1631</td><td>57.03</td><td>19.01</td><td>8.03</td><td>36.78</td><td>3</td></tr><tr><td>C1891</td><td>297.01</td><td>37.13</td><td>8.18</td><td>71.54</td><td>8</td></tr><tr><td>C1797</td><td>71.31</td><td>35.65</td><td>21.99</td><td>49.32</td><td>2</td></tr><tr><td>C1961</td><td>30.95</td><td>15.48</td><td>8.0</td><td>22.95</td><td>2</td></tr><tr><td>C1674</td><td>104.57</td><td>34.86</td><td>15.18</td><td>61.08</td><td>3</td></tr><tr><td>C1591</td><td>23662.65</td><td>4732.53</td><td>5.66</td><td>23583.18</td><td>5</td></tr><tr><td>C1336</td><td>312.06</td><td>62.41</td><td>16.64</td><td>84.85</td><td>5</td></tr><tr><td>C1627</td><td>209.26</td><td>34.88</td><td>16.67</td><td>88.79</td><td>6</td></tr><tr><td>C1889</td><td>215.09</td><td>43.02</td><td>8.55</td><td>74.37</td><td>5</td></tr><tr><td>C1648</td><td>386.7</td><td>77.34</td><td>9.14</td><td>143.86</td><td>5</td></tr><tr><td>C1824</td><td>225.4</td><td>32.2</td><td>5.12</td><td>70.37</td><td>7</td></tr><tr><td>C1535</td><td>59.35</td><td>59.35</td><td>59.35</td><td>59.35</td><td>1</td></tr><tr><td>C1058</td><td>133.64</td><td>33.41</td><td>2.63</td><td>56.8</td><td>4</td></tr><tr><td>C1004</td><td>252.1</td><td>50.42</td><td>18.28</td><td>74.9</td><td>5</td></tr><tr><td>C1753</td><td>219.7</td><td>54.92</td><td>15.7</td><td>87.89</td><td>4</td></tr><tr><td>C1146</td><td>52.95</td><td>17.65</td><td>2.24</td><td>28.36</td><td>3</td></tr><tr><td>C1792</td><td>14.46</td><td>4.82</td><td>2.92</td><td>8.26</td><td>3</td></tr><tr><td>C1726</td><td>18.92</td><td>6.31</td><td>3.67</td><td>10.7</td><td>3</td></tr><tr><td>C1169</td><td>129.43</td><td>32.36</td><td>7.82</td><td>47.66</td><td>4</td></tr><tr><td>C1903</td><td>50.44</td><td>50.44</td><td>50.44</td><td>50.44</td><td>1</td></tr><tr><td>C1461</td><td>154.56</td><td>38.64</td><td>15.22</td><td>54.57</td><td>4</td></tr><tr><td>C1318</td><td>132.09</td><td>33.02</td><td>5.46</td><td>63.87</td><td>4</td></tr><tr><td>C1345</td><td>81.81</td><td>81.81</td><td>81.81</td><td>81.81</td><td>1</td></tr><tr><td>C1388</td><td>98.99</td><td>49.5</td><td>8.45</td><td>90.54</td><td>2</td></tr><tr><td>C1806</td><td>70027.87</td><td>35013.93</td><td>39.25</td><td>69988.62</td><td>2</td></tr><tr><td>C1780</td><td>81.88</td><td>40.94</td><td>10.91</td><td>70.97</td><td>2</td></tr><tr><td>C1450</td><td>60.66</td><td>12.13</td><td>3.84</td><td>18.69</td><td>5</td></tr><tr><td>C1660</td><td>144.84</td><td>48.28</td><td>19.29</td><td>65.87</td><td>3</td></tr><tr><td>C1193</td><td>73.34</td><td>36.67</td><td>1.34</td><td>72.0</td><td>2</td></tr><tr><td>C1998</td><td>72.26</td><td>36.13</td><td>27.59</td><td>44.67</td><td>2</td></tr><tr><td>C1341</td><td>284.16</td><td>56.83</td><td>24.92</td><td>83.02</td><td>5</td></tr><tr><td>C1468</td><td>95.32</td><td>47.66</td><td>38.28</td><td>57.04</td><td>2</td></tr><tr><td>C1728</td><td>44901.74</td><td>8980.35</td><td>16.07</td><td>44780.46</td><td>5</td></tr><tr><td>C1280</td><td>56.27</td><td>18.76</td><td>11.13</td><td>23.02</td><td>3</td></tr><tr><td>C1051</td><td>95.85</td><td>95.85</td><td>95.85</td><td>95.85</td><td>1</td></tr><tr><td>C1527</td><td>188.13</td><td>47.03</td><td>19.88</td><td>73.8</td><td>4</td></tr><tr><td>C1568</td><td>111.87</td><td>27.97</td><td>2.78</td><td>58.08</td><td>4</td></tr><tr><td>C1204</td><td>48.09</td><td>24.05</td><td>17.3</td><td>30.79</td><td>2</td></tr><tr><td>C1179</td><td>265.97</td><td>88.66</td><td>35.76</td><td>134.99</td><td>3</td></tr><tr><td>C1293</td><td>73.21</td><td>36.6</td><td>14.93</td><td>58.28</td><td>2</td></tr><tr><td>C1291</td><td>1.39</td><td>1.39</td><td>1.39</td><td>1.39</td><td>1</td></tr><tr><td>C1646</td><td>40.31</td><td>13.44</td><td>4.48</td><td>17.97</td><td>3</td></tr><tr><td>C1344</td><td>17036.51</td><td>3407.3</td><td>24.27</td><td>16911.25</td><td>5</td></tr><tr><td>C1635</td><td>11687.31</td><td>2337.46</td><td>14.3</td><td>11561.1</td><td>5</td></tr><tr><td>C1835</td><td>61.64</td><td>30.82</td><td>25.16</td><td>36.48</td><td>2</td></tr><tr><td>C1551</td><td>121.15</td><td>30.29</td><td>4.31</td><td>55.59</td><td>4</td></tr><tr><td>C1980</td><td>50.64</td><td>25.32</td><td>1.99</td><td>48.65</td><td>2</td></tr><tr><td>C1942</td><td>117.86</td><td>39.29</td><td>2.07</td><td>85.75</td><td>3</td></tr><tr><td>C1497</td><td>17.99</td><td>17.99</td><td>17.99</td><td>17.99</td><td>1</td></tr><tr><td>C1054</td><td>149.24</td><td>21.32</td><td>5.37</td><td>41.58</td><td>7</td></tr><tr><td>C1007</td><td>174.86</td><td>58.29</td><td>24.39</td><td>77.06</td><td>3</td></tr><tr><td>C1155</td><td>95.39</td><td>23.85</td><td>5.84</td><td>44.1</td><td>4</td></tr><tr><td>C1338</td><td>174.12</td><td>34.82</td><td>8.15</td><td>79.04</td><td>5</td></tr><tr><td>C1653</td><td>29.72</td><td>29.72</td><td>29.72</td><td>29.72</td><td>1</td></tr><tr><td>C1800</td><td>1.0</td><td>1.0</td><td>1.0</td><td>1.0</td><td>1</td></tr><tr><td>C1374</td><td>1.29</td><td>1.29</td><td>1.29</td><td>1.29</td><td>1</td></tr><tr><td>C1531</td><td>53548.11</td><td>8924.69</td><td>17.33</td><td>53332.57</td><td>6</td></tr><tr><td>C1027</td><td>91.34</td><td>22.84</td><td>3.0</td><td>39.54</td><td>4</td></tr><tr><td>C1487</td><td>66646.46</td><td>13329.29</td><td>10.42</td><td>66502.86</td><td>5</td></tr><tr><td>C1241</td><td>16.52</td><td>16.52</td><td>16.52</td><td>16.52</td><td>1</td></tr><tr><td>C1178</td><td>76.19</td><td>76.19</td><td>76.19</td><td>76.19</td><td>1</td></tr><tr><td>C1650</td><td>100.22</td><td>33.41</td><td>20.48</td><td>43.03</td><td>3</td></tr><tr><td>C1799</td><td>208.88</td><td>34.81</td><td>14.74</td><td>51.1</td><td>6</td></tr><tr><td>C1610</td><td>109956.11</td><td>21991.22</td><td>5.8</td><td>109885.16</td><td>5</td></tr><tr><td>C1366</td><td>85.56</td><td>21.39</td><td>1.3</td><td>35.11</td><td>4</td></tr><tr><td>C1247</td><td>233.11</td><td>58.28</td><td>11.9</td><td>98.16</td><td>4</td></tr><tr><td>C1236</td><td>63.49</td><td>63.49</td><td>63.49</td><td>63.49</td><td>1</td></tr><tr><td>C1277</td><td>31.33</td><td>31.33</td><td>31.33</td><td>31.33</td><td>1</td></tr><tr><td>C1564</td><td>125.57</td><td>25.11</td><td>6.05</td><td>50.62</td><td>5</td></tr><tr><td>C1039</td><td>24350.2</td><td>2705.58</td><td>6.8</td><td>24051.22</td><td>9</td></tr><tr><td>C1673</td><td>99.9</td><td>33.3</td><td>1.1</td><td>72.59</td><td>3</td></tr><tr><td>C1398</td><td>163.69</td><td>54.56</td><td>36.09</td><td>86.67</td><td>3</td></tr><tr><td>C1981</td><td>164.56</td><td>41.14</td><td>2.25</td><td>114.62</td><td>4</td></tr><tr><td>C1530</td><td>375.86</td><td>41.76</td><td>1.34</td><td>97.17</td><td>9</td></tr><tr><td>C1403</td><td>46.56</td><td>46.56</td><td>46.56</td><td>46.56</td><td>1</td></tr><tr><td>C1415</td><td>99366.3</td><td>24841.58</td><td>22.54</td><td>99168.39</td><td>4</td></tr><tr><td>C1537</td><td>64688.01</td><td>32344.01</td><td>24.75</td><td>64663.26</td><td>2</td></tr><tr><td>C1592</td><td>72.99</td><td>24.33</td><td>7.76</td><td>47.74</td><td>3</td></tr><tr><td>C1956</td><td>42.27</td><td>10.57</td><td>3.77</td><td>16.18</td><td>4</td></tr><tr><td>C1906</td><td>164.38</td><td>41.09</td><td>16.39</td><td>83.61</td><td>4</td></tr><tr><td>C1022</td><td>23.76</td><td>11.88</td><td>3.99</td><td>19.77</td><td>2</td></tr><tr><td>C1639</td><td>36.17</td><td>18.09</td><td>17.85</td><td>18.32</td><td>2</td></tr><tr><td>C1687</td><td>15.87</td><td>15.87</td><td>15.87</td><td>15.87</td><td>1</td></tr><tr><td>C1206</td><td>160.74</td><td>32.15</td><td>11.02</td><td>53.61</td><td>5</td></tr><tr><td>C1094</td><td>176.29</td><td>88.15</td><td>54.78</td><td>121.51</td><td>2</td></tr><tr><td>C1025</td><td>183.19</td><td>61.06</td><td>4.13</td><td>102.26</td><td>3</td></tr><tr><td>C1082</td><td>86.62</td><td>86.62</td><td>86.62</td><td>86.62</td><td>1</td></tr><tr><td>C1214</td><td>98.64</td><td>49.32</td><td>33.29</td><td>65.35</td><td>2</td></tr><tr><td>C1838</td><td>4.72</td><td>2.36</td><td>1.1</td><td>3.62</td><td>2</td></tr><tr><td>C1869</td><td>177.29</td><td>59.1</td><td>42.77</td><td>74.56</td><td>3</td></tr><tr><td>C1078</td><td>3.8</td><td>3.8</td><td>3.8</td><td>3.8</td><td>1</td></tr><tr><td>C1731</td><td>35.26</td><td>17.63</td><td>9.09</td><td>26.17</td><td>2</td></tr><tr><td>C1139</td><td>117.14</td><td>29.28</td><td>12.58</td><td>65.67</td><td>4</td></tr><tr><td>C1664</td><td>109.48</td><td>21.9</td><td>2.93</td><td>39.48</td><td>5</td></tr><tr><td>C1183</td><td>131.07</td><td>21.85</td><td>1.58</td><td>58.13</td><td>6</td></tr><tr><td>C1722</td><td>26.35</td><td>26.35</td><td>26.35</td><td>26.35</td><td>1</td></tr><tr><td>C1886</td><td>83.38</td><td>41.69</td><td>33.32</td><td>50.06</td><td>2</td></tr><tr><td>C1988</td><td>190.81</td><td>31.8</td><td>8.89</td><td>76.96</td><td>6</td></tr><tr><td>C1295</td><td>377.83</td><td>53.98</td><td>5.64</td><td>109.24</td><td>7</td></tr><tr><td>C1253</td><td>167.1</td><td>41.78</td><td>11.57</td><td>70.08</td><td>4</td></tr><tr><td>C1411</td><td>28855.15</td><td>14427.58</td><td>28.57</td><td>28826.58</td><td>2</td></tr><tr><td>C1012</td><td>207.73</td><td>29.68</td><td>1.3</td><td>66.76</td><td>7</td></tr><tr><td>C1890</td><td>142.45</td><td>47.48</td><td>18.41</td><td>78.27</td><td>3</td></tr><tr><td>C1927</td><td>57423.56</td><td>19141.19</td><td>31.23</td><td>57353.43</td><td>3</td></tr><tr><td>C1205</td><td>127.74</td><td>42.58</td><td>17.97</td><td>70.68</td><td>3</td></tr><tr><td>C1330</td><td>52.74</td><td>17.58</td><td>7.92</td><td>24.36</td><td>3</td></tr><tr><td>C1616</td><td>4.78</td><td>4.78</td><td>4.78</td><td>4.78</td><td>1</td></tr><tr><td>C1825</td><td>43390.39</td><td>43390.39</td><td>43390.39</td><td>43390.39</td><td>1</td></tr><tr><td>C1302</td><td>93.77</td><td>23.44</td><td>4.78</td><td>47.48</td><td>4</td></tr><tr><td>C1931</td><td>48.08</td><td>12.02</td><td>3.95</td><td>27.6</td><td>4</td></tr><tr><td>C1434</td><td>38.54</td><td>19.27</td><td>17.61</td><td>20.93</td><td>2</td></tr><tr><td>C1528</td><td>318.25</td><td>45.46</td><td>10.62</td><td>90.74</td><td>7</td></tr><tr><td>C1315</td><td>90640.21</td><td>22660.05</td><td>21.38</td><td>90559.31</td><td>4</td></tr><tr><td>C1971</td><td>112.94</td><td>22.59</td><td>3.03</td><td>41.72</td><td>5</td></tr><tr><td>C1807</td><td>162.45</td><td>40.61</td><td>19.46</td><td>74.39</td><td>4</td></tr><tr><td>C1378</td><td>116.84</td><td>58.42</td><td>19.38</td><td>97.46</td><td>2</td></tr><tr><td>C1851</td><td>277.95</td><td>69.49</td><td>40.35</td><td>108.98</td><td>4</td></tr><tr><td>C1718</td><td>281.01</td><td>70.25</td><td>17.56</td><td>149.34</td><td>4</td></tr><tr><td>C1250</td><td>149.24</td><td>49.75</td><td>22.23</td><td>80.12</td><td>3</td></tr><tr><td>C1390</td><td>87202.08</td><td>29067.36</td><td>6.72</td><td>87155.61</td><td>3</td></tr><tr><td>C1555</td><td>49.68</td><td>16.56</td><td>5.6</td><td>28.19</td><td>3</td></tr><tr><td>C1865</td><td>30316.53</td><td>4330.93</td><td>11.8</td><td>30149.11</td><td>7</td></tr><tr><td>C1719</td><td>99052.27</td><td>11005.81</td><td>9.17</td><td>98815.05</td><td>9</td></tr><tr><td>C1702</td><td>170547.04</td><td>42636.76</td><td>21.59</td><td>120589.25</td><td>4</td></tr><tr><td>C1261</td><td>107.95</td><td>53.98</td><td>22.62</td><td>85.33</td><td>2</td></tr><tr><td>C1679</td><td>113.79</td><td>28.45</td><td>12.21</td><td>60.19</td><td>4</td></tr><tr><td>C1123</td><td>39082.64</td><td>19541.32</td><td>42.23</td><td>39040.41</td><td>2</td></tr><tr><td>C1326</td><td>125.4</td><td>31.35</td><td>1.65</td><td>66.21</td><td>4</td></tr><tr><td>C1217</td><td>174.45</td><td>58.15</td><td>34.92</td><td>81.59</td><td>3</td></tr><tr><td>C1335</td><td>125.4</td><td>31.35</td><td>7.44</td><td>69.16</td><td>4</td></tr><tr><td>C1397</td><td>111.62</td><td>37.21</td><td>6.67</td><td>94.19</td><td>3</td></tr><tr><td>C1874</td><td>65.64</td><td>32.82</td><td>31.55</td><td>34.09</td><td>2</td></tr><tr><td>C1620</td><td>111.82</td><td>55.91</td><td>14.66</td><td>97.16</td><td>2</td></tr><tr><td>C1233</td><td>119.59</td><td>23.92</td><td>1.3</td><td>37.59</td><td>5</td></tr><tr><td>C1026</td><td>213.88</td><td>42.78</td><td>7.41</td><td>88.44</td><td>5</td></tr><tr><td>C1866</td><td>109.43</td><td>36.48</td><td>22.45</td><td>48.73</td><td>3</td></tr><tr><td>C1418</td><td>27782.84</td><td>6945.71</td><td>10.98</td><td>27645.27</td><td>4</td></tr><tr><td>C1191</td><td>103.03</td><td>34.34</td><td>18.7</td><td>63.82</td><td>3</td></tr><tr><td>C1678</td><td>7.21</td><td>7.21</td><td>7.21</td><td>7.21</td><td>1</td></tr><tr><td>C1841</td><td>32.43</td><td>16.22</td><td>2.43</td><td>30.0</td><td>2</td></tr><tr><td>C1580</td><td>130.3</td><td>32.58</td><td>18.57</td><td>68.87</td><td>4</td></tr><tr><td>C1188</td><td>288.45</td><td>48.08</td><td>29.78</td><td>85.24</td><td>6</td></tr><tr><td>C1765</td><td>110.45</td><td>36.82</td><td>24.4</td><td>56.16</td><td>3</td></tr><tr><td>C1303</td><td>125.16</td><td>25.03</td><td>1.1</td><td>52.06</td><td>5</td></tr><tr><td>C1772</td><td>32.17</td><td>32.17</td><td>32.17</td><td>32.17</td><td>1</td></tr><tr><td>C1441</td><td>121.87</td><td>40.62</td><td>18.14</td><td>69.96</td><td>3</td></tr><tr><td>C1317</td><td>90.14</td><td>22.54</td><td>6.45</td><td>55.33</td><td>4</td></tr><tr><td>C1563</td><td>67.22</td><td>33.61</td><td>14.47</td><td>52.75</td><td>2</td></tr><tr><td>C1761</td><td>229.58</td><td>38.26</td><td>17.78</td><td>67.62</td><td>6</td></tr><tr><td>C1517</td><td>59.83</td><td>59.83</td><td>59.83</td><td>59.83</td><td>1</td></tr><tr><td>C1715</td><td>151.71</td><td>37.93</td><td>3.16</td><td>73.89</td><td>4</td></tr><tr><td>C1676</td><td>262.81</td><td>65.7</td><td>36.58</td><td>102.73</td><td>4</td></tr><tr><td>C1928</td><td>15.9</td><td>15.9</td><td>15.9</td><td>15.9</td><td>1</td></tr><tr><td>C1457</td><td>128.31</td><td>42.77</td><td>22.02</td><td>82.92</td><td>3</td></tr><tr><td>C1340</td><td>374.13</td><td>53.45</td><td>1.58</td><td>129.97</td><td>7</td></tr><tr><td>C1831</td><td>119.98</td><td>119.98</td><td>119.98</td><td>119.98</td><td>1</td></tr><tr><td>C1763</td><td>204.23</td><td>40.85</td><td>4.24</td><td>85.41</td><td>5</td></tr><tr><td>C1140</td><td>37.87</td><td>12.62</td><td>2.01</td><td>25.74</td><td>3</td></tr><tr><td>C1444</td><td>52076.48</td><td>17358.83</td><td>43.1</td><td>51907.01</td><td>3</td></tr><tr><td>C1463</td><td>95.05</td><td>31.68</td><td>25.71</td><td>36.49</td><td>3</td></tr><tr><td>C1667</td><td>81.72</td><td>40.86</td><td>25.57</td><td>56.15</td><td>2</td></tr><tr><td>C1423</td><td>176.49</td><td>35.3</td><td>17.65</td><td>53.7</td><td>5</td></tr><tr><td>C1446</td><td>49.72</td><td>16.57</td><td>1.47</td><td>26.15</td><td>3</td></tr><tr><td>C1135</td><td>147.94</td><td>49.31</td><td>7.81</td><td>72.63</td><td>3</td></tr><tr><td>C1850</td><td>37.43</td><td>37.43</td><td>37.43</td><td>37.43</td><td>1</td></tr><tr><td>C1681</td><td>222.09</td><td>44.42</td><td>19.17</td><td>83.45</td><td>5</td></tr><tr><td>C1518</td><td>163.75</td><td>54.58</td><td>35.88</td><td>85.11</td><td>3</td></tr><tr><td>C1320</td><td>237.2</td><td>39.53</td><td>6.93</td><td>107.35</td><td>6</td></tr><tr><td>C1226</td><td>92.33</td><td>46.17</td><td>8.25</td><td>84.08</td><td>2</td></tr><tr><td>C1132</td><td>30.99</td><td>30.99</td><td>30.99</td><td>30.99</td><td>1</td></tr><tr><td>C1916</td><td>133.58</td><td>66.79</td><td>42.28</td><td>91.3</td><td>2</td></tr><tr><td>C1376</td><td>165.25</td><td>33.05</td><td>23.59</td><td>57.55</td><td>5</td></tr><tr><td>C1347</td><td>43947.69</td><td>14649.23</td><td>11.41</td><td>43902.13</td><td>3</td></tr><tr><td>C1121</td><td>39.74</td><td>39.74</td><td>39.74</td><td>39.74</td><td>1</td></tr><tr><td>C1652</td><td>67.94</td><td>33.97</td><td>6.4</td><td>61.54</td><td>2</td></tr><tr><td>C1306</td><td>260.3</td><td>65.07</td><td>19.41</td><td>106.42</td><td>4</td></tr><tr><td>C1708</td><td>9.19</td><td>4.6</td><td>2.62</td><td>6.57</td><td>2</td></tr><tr><td>C1342</td><td>50.23</td><td>50.23</td><td>50.23</td><td>50.23</td><td>1</td></tr><tr><td>C1666</td><td>34397.03</td><td>5732.84</td><td>1.0</td><td>34251.96</td><td>6</td></tr><tr><td>C1384</td><td>76921.94</td><td>25640.65</td><td>23.7</td><td>76853.39</td><td>3</td></tr><tr><td>C1923</td><td>10226.45</td><td>2556.61</td><td>19.24</td><td>10121.34</td><td>4</td></tr><tr><td>C1024</td><td>23125.42</td><td>4625.08</td><td>1.8</td><td>22970.74</td><td>5</td></tr><tr><td>C1720</td><td>129.93</td><td>64.97</td><td>22.24</td><td>107.69</td><td>2</td></tr><tr><td>C1245</td><td>63.66</td><td>12.73</td><td>5.34</td><td>20.93</td><td>5</td></tr><tr><td>C1896</td><td>57.02</td><td>28.51</td><td>9.19</td><td>47.83</td><td>2</td></tr><tr><td>C1040</td><td>35526.93</td><td>17763.46</td><td>1.0</td><td>35525.93</td><td>2</td></tr><tr><td>C1567</td><td>125.73</td><td>41.91</td><td>36.3</td><td>47.85</td><td>3</td></tr><tr><td>C1407</td><td>43.69</td><td>43.69</td><td>43.69</td><td>43.69</td><td>1</td></tr><tr><td>C1862</td><td>71.72</td><td>17.93</td><td>3.5</td><td>42.83</td><td>4</td></tr><tr><td>C1562</td><td>62.3</td><td>62.3</td><td>62.3</td><td>62.3</td><td>1</td></tr><tr><td>C1489</td><td>66254.62</td><td>22084.87</td><td>99.45</td><td>66049.97</td><td>3</td></tr><tr><td>C1713</td><td>86.06</td><td>43.03</td><td>26.94</td><td>59.12</td><td>2</td></tr><tr><td>C1101</td><td>38.28</td><td>19.14</td><td>9.15</td><td>29.13</td><td>2</td></tr><tr><td>C1416</td><td>145.72</td><td>36.43</td><td>4.0</td><td>54.02</td><td>4</td></tr><tr><td>C1281</td><td>154.4</td><td>38.6</td><td>28.4</td><td>50.75</td><td>4</td></tr><tr><td>C1073</td><td>45.55</td><td>22.78</td><td>18.11</td><td>27.44</td><td>2</td></tr><tr><td>C1382</td><td>126795.33</td><td>42265.11</td><td>17.96</td><td>126743.93</td><td>3</td></tr><tr><td>C1995</td><td>117.73</td><td>58.86</td><td>14.73</td><td>103.0</td><td>2</td></tr><tr><td>C1967</td><td>230.64</td><td>57.66</td><td>14.42</td><td>95.61</td><td>4</td></tr><tr><td>C1553</td><td>69275.19</td><td>11545.87</td><td>4.41</td><td>69068.82</td><td>6</td></tr><tr><td>C1857</td><td>26770.99</td><td>5354.2</td><td>10.41</td><td>26704.25</td><td>5</td></tr><tr><td>C1603</td><td>162.1</td><td>40.52</td><td>15.88</td><td>68.78</td><td>4</td></tr><tr><td>C1333</td><td>117.54</td><td>29.38</td><td>7.95</td><td>50.53</td><td>4</td></tr><tr><td>C1659</td><td>97.44</td><td>48.72</td><td>33.35</td><td>64.09</td><td>2</td></tr><tr><td>C1116</td><td>90.16</td><td>22.54</td><td>2.9</td><td>56.31</td><td>4</td></tr><tr><td>C1596</td><td>15457.11</td><td>3864.28</td><td>9.09</td><td>15420.28</td><td>4</td></tr><tr><td>C1373</td><td>18.56</td><td>18.56</td><td>18.56</td><td>18.56</td><td>1</td></tr><tr><td>C1000</td><td>104.0</td><td>34.67</td><td>18.71</td><td>46.91</td><td>3</td></tr><tr><td>C1560</td><td>69400.52</td><td>17350.13</td><td>25.82</td><td>69234.88</td><td>4</td></tr><tr><td>C1739</td><td>45.12</td><td>22.56</td><td>9.46</td><td>35.66</td><td>2</td></tr><tr><td>C1425</td><td>96.25</td><td>48.13</td><td>36.97</td><td>59.28</td><td>2</td></tr><tr><td>C1460</td><td>200.77</td><td>50.19</td><td>10.32</td><td>84.24</td><td>4</td></tr><tr><td>C1745</td><td>89.65</td><td>89.65</td><td>89.65</td><td>89.65</td><td>1</td></tr><tr><td>C1795</td><td>295.86</td><td>42.27</td><td>10.93</td><td>72.99</td><td>7</td></tr><tr><td>C1142</td><td>172.93</td><td>43.23</td><td>1.64</td><td>108.98</td><td>4</td></tr><tr><td>C1741</td><td>143.5</td><td>28.7</td><td>9.26</td><td>45.57</td><td>5</td></tr><tr><td>C1619</td><td>102.01</td><td>51.0</td><td>18.67</td><td>83.34</td><td>2</td></tr><tr><td>C1671</td><td>64.55</td><td>21.52</td><td>6.43</td><td>43.41</td><td>3</td></tr><tr><td>C1959</td><td>93114.98</td><td>15519.16</td><td>14.42</td><td>92973.92</td><td>6</td></tr><tr><td>C1102</td><td>87861.62</td><td>17572.32</td><td>29.52</td><td>53058.72</td><td>5</td></tr><tr><td>C1996</td><td>47.13</td><td>47.13</td><td>47.13</td><td>47.13</td><td>1</td></tr><tr><td>C1787</td><td>60.1</td><td>60.1</td><td>60.1</td><td>60.1</td><td>1</td></tr><tr><td>C1410</td><td>85412.28</td><td>21353.07</td><td>14.0</td><td>85289.71</td><td>4</td></tr><tr><td>C1316</td><td>176.28</td><td>58.76</td><td>35.1</td><td>75.14</td><td>3</td></tr><tr><td>C1894</td><td>191.15</td><td>31.86</td><td>16.26</td><td>55.39</td><td>6</td></tr><tr><td>C1221</td><td>135.08</td><td>67.54</td><td>62.59</td><td>72.49</td><td>2</td></tr><tr><td>C1953</td><td>41.99</td><td>20.99</td><td>8.87</td><td>33.12</td><td>2</td></tr><tr><td>C1672</td><td>59.29</td><td>29.64</td><td>12.92</td><td>46.37</td><td>2</td></tr><tr><td>C1898</td><td>182.19</td><td>36.44</td><td>5.55</td><td>77.48</td><td>5</td></tr><tr><td>C1954</td><td>27.7</td><td>27.7</td><td>27.7</td><td>27.7</td><td>1</td></tr><tr><td>C1368</td><td>13.79</td><td>13.79</td><td>13.79</td><td>13.79</td><td>1</td></tr><tr><td>C1830</td><td>201.4</td><td>50.35</td><td>2.14</td><td>97.17</td><td>4</td></tr><tr><td>C1669</td><td>39.98</td><td>19.99</td><td>7.84</td><td>32.14</td><td>2</td></tr><tr><td>C1963</td><td>62.32</td><td>31.16</td><td>6.44</td><td>55.88</td><td>2</td></tr><tr><td>C1208</td><td>85294.25</td><td>17058.85</td><td>10.31</td><td>85108.67</td><td>5</td></tr><tr><td>C1762</td><td>200.6</td><td>40.12</td><td>16.96</td><td>58.63</td><td>5</td></tr><tr><td>C1561</td><td>173.09</td><td>86.54</td><td>40.0</td><td>133.09</td><td>2</td></tr><tr><td>C1087</td><td>207.2</td><td>41.44</td><td>2.42</td><td>95.8</td><td>5</td></tr><tr><td>C1477</td><td>185.52</td><td>46.38</td><td>2.62</td><td>97.32</td><td>4</td></tr><tr><td>C1742</td><td>111.35</td><td>55.68</td><td>29.99</td><td>81.36</td><td>2</td></tr><tr><td>C1691</td><td>43.46</td><td>14.49</td><td>4.94</td><td>24.92</td><td>3</td></tr><tr><td>C1990</td><td>69.69</td><td>34.85</td><td>4.32</td><td>65.37</td><td>2</td></tr><tr><td>C1184</td><td>107.39</td><td>26.85</td><td>18.33</td><td>32.26</td><td>4</td></tr><tr><td>C1176</td><td>132.78</td><td>33.19</td><td>12.0</td><td>55.29</td><td>4</td></tr><tr><td>C1331</td><td>95.81</td><td>31.94</td><td>30.91</td><td>32.79</td><td>3</td></tr><tr><td>C1436</td><td>22.87</td><td>11.43</td><td>10.05</td><td>12.82</td><td>2</td></tr><tr><td>C1269</td><td>95.29</td><td>19.06</td><td>1.0</td><td>41.61</td><td>5</td></tr><tr><td>C1696</td><td>113.12</td><td>37.71</td><td>4.65</td><td>64.43</td><td>3</td></tr><tr><td>C1826</td><td>42.9</td><td>42.9</td><td>42.9</td><td>42.9</td><td>1</td></tr><tr><td>C1218</td><td>194.66</td><td>38.93</td><td>3.58</td><td>109.9</td><td>5</td></tr><tr><td>C1129</td><td>129.22</td><td>32.3</td><td>13.08</td><td>40.46</td><td>4</td></tr><tr><td>C1381</td><td>144.02</td><td>48.01</td><td>20.22</td><td>65.21</td><td>3</td></tr><tr><td>C1594</td><td>40.75</td><td>20.38</td><td>17.72</td><td>23.03</td><td>2</td></tr><tr><td>C1288</td><td>95.6</td><td>31.87</td><td>5.92</td><td>76.12</td><td>3</td></tr><tr><td>C1128</td><td>25572.44</td><td>6393.11</td><td>1.3</td><td>25438.19</td><td>4</td></tr><tr><td>C1308</td><td>109.89</td><td>36.63</td><td>20.58</td><td>60.53</td><td>3</td></tr><tr><td>C1992</td><td>45.98</td><td>22.99</td><td>21.57</td><td>24.41</td><td>2</td></tr><tr><td>C1727</td><td>298.24</td><td>49.71</td><td>6.95</td><td>101.28</td><td>6</td></tr><tr><td>C1424</td><td>160.6</td><td>53.53</td><td>13.8</td><td>130.68</td><td>3</td></tr><tr><td>C1090</td><td>32.97</td><td>10.99</td><td>3.46</td><td>24.27</td><td>3</td></tr><tr><td>C1037</td><td>42466.53</td><td>8493.31</td><td>35.62</td><td>42270.33</td><td>5</td></tr><tr><td>C1220</td><td>284.15</td><td>56.83</td><td>19.68</td><td>112.42</td><td>5</td></tr><tr><td>C1758</td><td>94.46</td><td>47.23</td><td>32.21</td><td>62.25</td><td>2</td></tr><tr><td>C1104</td><td>20.25</td><td>20.25</td><td>20.25</td><td>20.25</td><td>1</td></tr><tr><td>C1572</td><td>119.01</td><td>59.5</td><td>24.16</td><td>94.85</td><td>2</td></tr><tr><td>C1941</td><td>63.52</td><td>21.17</td><td>17.88</td><td>25.22</td><td>3</td></tr><tr><td>C1196</td><td>151.35</td><td>30.27</td><td>4.4</td><td>58.86</td><td>5</td></tr><tr><td>C1185</td><td>20053.78</td><td>4010.76</td><td>1.99</td><td>19981.39</td><td>5</td></tr><tr><td>C1455</td><td>92.03</td><td>30.68</td><td>5.03</td><td>67.17</td><td>3</td></tr><tr><td>C1846</td><td>47.27</td><td>23.64</td><td>13.96</td><td>33.31</td><td>2</td></tr><tr><td>C1097</td><td>66800.84</td><td>22266.95</td><td>10.46</td><td>66748.52</td><td>3</td></tr><tr><td>C1258</td><td>28.58</td><td>14.29</td><td>13.93</td><td>14.65</td><td>2</td></tr><tr><td>C1438</td><td>35.28</td><td>35.28</td><td>35.28</td><td>35.28</td><td>1</td></tr><tr><td>C1944</td><td>53035.3</td><td>17678.43</td><td>40.26</td><td>52925.55</td><td>3</td></tr><tr><td>C1888</td><td>84.04</td><td>21.01</td><td>1.1</td><td>61.03</td><td>4</td></tr><tr><td>C1604</td><td>163.19</td><td>40.8</td><td>7.63</td><td>57.8</td><td>4</td></tr><tr><td>C1029</td><td>52.29</td><td>17.43</td><td>3.63</td><td>25.35</td><td>3</td></tr><tr><td>C1354</td><td>105.49</td><td>35.16</td><td>1.3</td><td>67.67</td><td>3</td></tr><tr><td>C1428</td><td>144.61</td><td>48.2</td><td>10.07</td><td>87.94</td><td>3</td></tr><tr><td>C1541</td><td>111.81</td><td>55.9</td><td>30.74</td><td>81.07</td><td>2</td></tr><tr><td>C1063</td><td>62.27</td><td>31.14</td><td>19.45</td><td>42.82</td><td>2</td></tr><tr><td>C1803</td><td>104.0</td><td>34.67</td><td>6.25</td><td>59.27</td><td>3</td></tr><tr><td>C1755</td><td>22.83</td><td>22.83</td><td>22.83</td><td>22.83</td><td>1</td></tr><tr><td>C1805</td><td>44.19</td><td>22.1</td><td>3.92</td><td>40.27</td><td>2</td></tr><tr><td>C1413</td><td>11.6</td><td>11.6</td><td>11.6</td><td>11.6</td><td>1</td></tr><tr><td>C1810</td><td>61314.11</td><td>10219.02</td><td>5.66</td><td>61189.89</td><td>6</td></tr><tr><td>C1429</td><td>28581.47</td><td>7145.37</td><td>29.46</td><td>28424.47</td><td>4</td></tr><tr><td>C1781</td><td>164.04</td><td>41.01</td><td>13.71</td><td>86.98</td><td>4</td></tr><tr><td>C1724</td><td>44.12</td><td>22.06</td><td>15.33</td><td>28.79</td><td>2</td></tr><tr><td>C1714</td><td>125.25</td><td>31.31</td><td>1.3</td><td>59.63</td><td>4</td></tr><tr><td>C1730</td><td>125259.15</td><td>62629.58</td><td>5.38</td><td>125253.77</td><td>2</td></tr><tr><td>C1276</td><td>109.66</td><td>27.42</td><td>24.41</td><td>30.69</td><td>4</td></tr><tr><td>C1519</td><td>142.57</td><td>35.64</td><td>1.1</td><td>71.06</td><td>4</td></tr><tr><td>C1999</td><td>9.02</td><td>9.02</td><td>9.02</td><td>9.02</td><td>1</td></tr><tr><td>C1251</td><td>36.34</td><td>36.34</td><td>36.34</td><td>36.34</td><td>1</td></tr><tr><td>C1298</td><td>57575.45</td><td>11515.09</td><td>1.77</td><td>57377.81</td><td>5</td></tr><tr><td>C1260</td><td>67.6</td><td>16.9</td><td>1.54</td><td>33.92</td><td>4</td></tr><tr><td>C1182</td><td>310.95</td><td>38.87</td><td>6.74</td><td>79.72</td><td>8</td></tr><tr><td>C1509</td><td>85.61</td><td>21.4</td><td>1.1</td><td>32.85</td><td>4</td></tr><tr><td>C1472</td><td>77.72</td><td>38.86</td><td>27.7</td><td>50.02</td><td>2</td></tr><tr><td>C1847</td><td>20.94</td><td>6.98</td><td>3.49</td><td>10.75</td><td>3</td></tr><tr><td>C1522</td><td>30.37</td><td>30.37</td><td>30.37</td><td>30.37</td><td>1</td></tr><tr><td>C1098</td><td>177.12</td><td>44.28</td><td>14.61</td><td>74.34</td><td>4</td></tr><tr><td>C1785</td><td>38.78</td><td>38.78</td><td>38.78</td><td>38.78</td><td>1</td></tr><tr><td>C1108</td><td>131.41</td><td>32.85</td><td>13.88</td><td>64.04</td><td>4</td></tr><tr><td>C1065</td><td>44941.43</td><td>6420.2</td><td>7.68</td><td>44737.2</td><td>7</td></tr><tr><td>C1693</td><td>107913.49</td><td>35971.16</td><td>6.79</td><td>107801.54</td><td>3</td></tr><tr><td>C1070</td><td>93.7</td><td>18.74</td><td>1.35</td><td>36.35</td><td>5</td></tr><tr><td>C1451</td><td>99.6</td><td>49.8</td><td>45.14</td><td>54.46</td><td>2</td></tr><tr><td>C1481</td><td>94639.98</td><td>15773.33</td><td>1.22</td><td>94519.18</td><td>6</td></tr><tr><td>C1939</td><td>37.31</td><td>37.31</td><td>37.31</td><td>37.31</td><td>1</td></tr><tr><td>C1067</td><td>98.94</td><td>24.74</td><td>1.1</td><td>43.82</td><td>4</td></tr><tr><td>C1770</td><td>164.92</td><td>41.23</td><td>24.61</td><td>61.29</td><td>4</td></tr><tr><td>C1683</td><td>116.54</td><td>38.85</td><td>14.96</td><td>82.83</td><td>3</td></tr><tr><td>C1285</td><td>122.9</td><td>24.58</td><td>10.71</td><td>43.87</td><td>5</td></tr><tr><td>C1075</td><td>10.83</td><td>5.41</td><td>2.79</td><td>8.04</td><td>2</td></tr><tr><td>C1005</td><td>117.41</td><td>39.14</td><td>5.01</td><td>101.68</td><td>3</td></tr><tr><td>C1789</td><td>83.86</td><td>41.93</td><td>14.08</td><td>69.78</td><td>2</td></tr><tr><td>C1670</td><td>116.46</td><td>29.11</td><td>14.26</td><td>44.75</td><td>4</td></tr><tr><td>C1265</td><td>76.96</td><td>76.96</td><td>76.96</td><td>76.96</td><td>1</td></tr><tr><td>C1103</td><td>53.1</td><td>17.7</td><td>9.36</td><td>22.59</td><td>3</td></tr><tr><td>C1222</td><td>99.74</td><td>24.93</td><td>4.91</td><td>40.77</td><td>4</td></tr><tr><td>C1259</td><td>97.66</td><td>32.55</td><td>11.15</td><td>53.48</td><td>3</td></tr><tr><td>C1523</td><td>47.49</td><td>15.83</td><td>7.24</td><td>28.91</td><td>3</td></tr><tr><td>C1453</td><td>62.48</td><td>12.5</td><td>1.1</td><td>32.47</td><td>5</td></tr><tr><td>C1626</td><td>278.82</td><td>55.76</td><td>30.19</td><td>90.09</td><td>5</td></tr><tr><td>C1512</td><td>64.04</td><td>16.01</td><td>3.67</td><td>35.46</td><td>4</td></tr><tr><td>C1994</td><td>148.09</td><td>37.02</td><td>2.19</td><td>73.85</td><td>4</td></tr><tr><td>C1871</td><td>148.97</td><td>49.66</td><td>30.19</td><td>80.68</td><td>3</td></tr><tr><td>C1471</td><td>243.11</td><td>30.39</td><td>1.0</td><td>60.93</td><td>8</td></tr><tr><td>C1738</td><td>7.11</td><td>7.11</td><td>7.11</td><td>7.11</td><td>1</td></tr><tr><td>C1083</td><td>52.34</td><td>26.17</td><td>22.66</td><td>29.68</td><td>2</td></tr><tr><td>C1113</td><td>71.28</td><td>71.28</td><td>71.28</td><td>71.28</td><td>1</td></tr><tr><td>C1949</td><td>226.17</td><td>37.69</td><td>1.34</td><td>95.57</td><td>6</td></tr><tr><td>C1068</td><td>48011.89</td><td>12002.97</td><td>4.32</td><td>47967.51</td><td>4</td></tr><tr><td>C1901</td><td>183.0</td><td>36.6</td><td>11.27</td><td>76.06</td><td>5</td></tr><tr><td>C1698</td><td>38.49</td><td>38.49</td><td>38.49</td><td>38.49</td><td>1</td></tr><tr><td>C1107</td><td>30.16</td><td>15.08</td><td>6.29</td><td>23.87</td><td>2</td></tr><tr><td>C1500</td><td>253.24</td><td>42.21</td><td>13.0</td><td>79.01</td><td>6</td></tr><tr><td>C1248</td><td>200.52</td><td>40.1</td><td>23.06</td><td>70.88</td><td>5</td></tr><tr><td>C1864</td><td>69.88</td><td>34.94</td><td>22.07</td><td>47.81</td><td>2</td></tr><tr><td>C1744</td><td>75.03</td><td>37.51</td><td>15.46</td><td>59.57</td><td>2</td></tr><tr><td>C1577</td><td>91.79</td><td>45.9</td><td>25.75</td><td>66.04</td><td>2</td></tr><tr><td>C1632</td><td>89.76</td><td>29.92</td><td>12.32</td><td>43.78</td><td>3</td></tr><tr><td>C1872</td><td>87.1</td><td>87.1</td><td>87.1</td><td>87.1</td><td>1</td></tr><tr><td>C1370</td><td>32103.64</td><td>4012.95</td><td>3.69</td><td>31723.44</td><td>8</td></tr><tr><td>C1924</td><td>104.91</td><td>20.98</td><td>8.07</td><td>44.85</td><td>5</td></tr><tr><td>C1516</td><td>12.58</td><td>6.29</td><td>2.08</td><td>10.5</td><td>2</td></tr><tr><td>C1198</td><td>133.16</td><td>66.58</td><td>58.51</td><td>74.65</td><td>2</td></tr><tr><td>C1203</td><td>362.16</td><td>45.27</td><td>14.86</td><td>89.58</td><td>8</td></tr><tr><td>C1550</td><td>36.23</td><td>36.23</td><td>36.23</td><td>36.23</td><td>1</td></tr><tr><td>C1122</td><td>89.96</td><td>22.49</td><td>1.0</td><td>56.4</td><td>4</td></tr><tr><td>C1211</td><td>181.85</td><td>60.62</td><td>7.08</td><td>151.58</td><td>3</td></tr><tr><td>C1783</td><td>18.02</td><td>9.01</td><td>6.18</td><td>11.84</td><td>2</td></tr><tr><td>C1919</td><td>30.2</td><td>15.1</td><td>8.84</td><td>21.36</td><td>2</td></tr><tr><td>C1750</td><td>1.63</td><td>1.63</td><td>1.63</td><td>1.63</td><td>1</td></tr><tr><td>C1712</td><td>123.98</td><td>41.33</td><td>20.91</td><td>64.65</td><td>3</td></tr><tr><td>C1099</td><td>62233.64</td><td>8890.52</td><td>7.36</td><td>62026.55</td><td>7</td></tr><tr><td>C1242</td><td>91700.09</td><td>30566.7</td><td>22.77</td><td>91620.16</td><td>3</td></tr><tr><td>C1325</td><td>131690.74</td><td>18812.96</td><td>2.82</td><td>104349.88</td><td>7</td></tr><tr><td>C1043</td><td>154.57</td><td>51.52</td><td>27.98</td><td>95.85</td><td>3</td></tr><tr><td>C1018</td><td>50037.07</td><td>10007.41</td><td>2.17</td><td>49939.93</td><td>5</td></tr><tr><td>C1913</td><td>85.87</td><td>28.62</td><td>3.28</td><td>65.77</td><td>3</td></tr><tr><td>C1982</td><td>59.39</td><td>29.7</td><td>23.49</td><td>35.9</td><td>2</td></tr><tr><td>C1296</td><td>109.63</td><td>36.54</td><td>10.01</td><td>84.06</td><td>3</td></tr><tr><td>C1612</td><td>161.29</td><td>53.76</td><td>33.7</td><td>71.71</td><td>3</td></tr><tr><td>C1069</td><td>104.95</td><td>52.48</td><td>39.48</td><td>65.47</td><td>2</td></tr><tr><td>C1202</td><td>29.8</td><td>29.8</td><td>29.8</td><td>29.8</td><td>1</td></tr><tr><td>C1948</td><td>52.99</td><td>17.66</td><td>6.4</td><td>34.46</td><td>3</td></tr><tr><td>C1644</td><td>75.84</td><td>25.28</td><td>13.57</td><td>39.08</td><td>3</td></tr><tr><td>C1682</td><td>161.32</td><td>53.77</td><td>10.13</td><td>137.59</td><td>3</td></tr><tr><td>C1565</td><td>113.82</td><td>56.91</td><td>48.3</td><td>65.52</td><td>2</td></tr><tr><td>C1583</td><td>150.99</td><td>37.75</td><td>24.15</td><td>69.19</td><td>4</td></tr><tr><td>C1391</td><td>62.59</td><td>62.59</td><td>62.59</td><td>62.59</td><td>1</td></tr><tr><td>C1124</td><td>3.19</td><td>3.19</td><td>3.19</td><td>3.19</td><td>1</td></tr><tr><td>C1089</td><td>63.92</td><td>31.96</td><td>1.3</td><td>62.62</td><td>2</td></tr><tr><td>C1406</td><td>28.36</td><td>9.45</td><td>1.57</td><td>13.64</td><td>3</td></tr><tr><td>C1598</td><td>124553.36</td><td>31138.34</td><td>9.97</td><td>124454.6</td><td>4</td></tr><tr><td>C1802</td><td>62352.72</td><td>12470.54</td><td>10.52</td><td>62174.05</td><td>5</td></tr><tr><td>C1147</td><td>80117.52</td><td>40058.76</td><td>4.09</td><td>80113.43</td><td>2</td></tr><tr><td>C1492</td><td>94285.43</td><td>47142.72</td><td>7.4</td><td>94278.03</td><td>2</td></tr><tr><td>C1289</td><td>199.5</td><td>49.88</td><td>6.19</td><td>129.63</td><td>4</td></tr><tr><td>C1363</td><td>8.64</td><td>8.64</td><td>8.64</td><td>8.64</td><td>1</td></tr><tr><td>C1238</td><td>34627.71</td><td>34627.71</td><td>34627.71</td><td>34627.71</td><td>1</td></tr><tr><td>C1470</td><td>115.59</td><td>38.53</td><td>21.73</td><td>60.75</td><td>3</td></tr><tr><td>C1818</td><td>33181.36</td><td>6636.27</td><td>16.34</td><td>32946.28</td><td>5</td></tr><tr><td>C1464</td><td>366.55</td><td>61.09</td><td>15.86</td><td>102.43</td><td>6</td></tr><tr><td>C1697</td><td>162.36</td><td>32.47</td><td>7.66</td><td>74.62</td><td>5</td></tr><tr><td>C1777</td><td>366.32</td><td>91.58</td><td>71.18</td><td>114.09</td><td>4</td></tr><tr><td>C1725</td><td>36892.68</td><td>18446.34</td><td>26.25</td><td>36866.43</td><td>2</td></tr><tr><td>C1820</td><td>156.31</td><td>39.08</td><td>17.5</td><td>77.68</td><td>4</td></tr><tr><td>C1431</td><td>73.15</td><td>36.58</td><td>17.04</td><td>56.11</td><td>2</td></tr><tr><td>C1395</td><td>197.6</td><td>49.4</td><td>16.91</td><td>82.71</td><td>4</td></tr><tr><td>C1606</td><td>77.35</td><td>19.34</td><td>7.93</td><td>29.55</td><td>4</td></tr><tr><td>C1149</td><td>127.92</td><td>25.58</td><td>5.01</td><td>55.31</td><td>5</td></tr><tr><td>C1771</td><td>96.11</td><td>32.04</td><td>19.4</td><td>40.61</td><td>3</td></tr><tr><td>C1584</td><td>38.08</td><td>19.04</td><td>14.73</td><td>23.35</td><td>2</td></tr><tr><td>C1611</td><td>69.22</td><td>34.61</td><td>29.6</td><td>39.62</td><td>2</td></tr><tr><td>C1057</td><td>127.0</td><td>42.33</td><td>39.68</td><td>44.21</td><td>3</td></tr><tr><td>C1437</td><td>199.9</td><td>49.97</td><td>33.27</td><td>58.73</td><td>4</td></tr><tr><td>C1275</td><td>31.89</td><td>15.95</td><td>1.3</td><td>30.59</td><td>2</td></tr><tr><td>C1426</td><td>111.96</td><td>55.98</td><td>51.01</td><td>60.95</td><td>2</td></tr><tr><td>C1716</td><td>35.11</td><td>35.11</td><td>35.11</td><td>35.11</td><td>1</td></tr><tr><td>C1929</td><td>43.25</td><td>21.62</td><td>6.63</td><td>36.62</td><td>2</td></tr><tr><td>C1371</td><td>154.55</td><td>51.52</td><td>30.46</td><td>62.21</td><td>3</td></tr><tr><td>C1324</td><td>14785.05</td><td>2957.01</td><td>6.41</td><td>14654.69</td><td>5</td></tr><tr><td>C1292</td><td>164.14</td><td>54.71</td><td>3.59</td><td>83.27</td><td>3</td></tr><tr><td>C1751</td><td>100.75</td><td>33.58</td><td>6.56</td><td>61.65</td><td>3</td></tr><tr><td>C1793</td><td>38.66</td><td>19.33</td><td>18.8</td><td>19.86</td><td>2</td></tr><tr><td>C1459</td><td>78.11</td><td>26.04</td><td>25.66</td><td>26.78</td><td>3</td></tr><tr><td>C1034</td><td>36.26</td><td>36.26</td><td>36.26</td><td>36.26</td><td>1</td></tr><tr><td>C1511</td><td>53.31</td><td>53.31</td><td>53.31</td><td>53.31</td><td>1</td></tr><tr><td>C1175</td><td>257.2</td><td>42.87</td><td>5.8</td><td>70.86</td><td>6</td></tr><tr><td>C1435</td><td>11.82</td><td>11.82</td><td>11.82</td><td>11.82</td><td>1</td></tr><tr><td>C1922</td><td>80.05</td><td>40.03</td><td>5.43</td><td>74.62</td><td>2</td></tr><tr><td>C1484</td><td>67714.42</td><td>33857.21</td><td>73.66</td><td>67640.76</td><td>2</td></tr><tr><td>C1621</td><td>131.14</td><td>32.79</td><td>2.59</td><td>60.4</td><td>4</td></tr><tr><td>C1469</td><td>68.11</td><td>68.11</td><td>68.11</td><td>68.11</td><td>1</td></tr><tr><td>C1640</td><td>8.06</td><td>8.06</td><td>8.06</td><td>8.06</td><td>1</td></tr><tr><td>C1736</td><td>82.64</td><td>41.32</td><td>21.36</td><td>61.28</td><td>2</td></tr><tr><td>C1264</td><td>52279.98</td><td>17426.66</td><td>14.34</td><td>52240.31</td><td>3</td></tr><tr><td>C1190</td><td>70.24</td><td>70.24</td><td>70.24</td><td>70.24</td><td>1</td></tr><tr><td>C1533</td><td>122.27</td><td>61.14</td><td>38.86</td><td>83.41</td><td>2</td></tr><tr><td>C1170</td><td>93.06</td><td>46.53</td><td>37.64</td><td>55.42</td><td>2</td></tr><tr><td>C1494</td><td>228.21</td><td>25.36</td><td>1.1</td><td>51.62</td><td>9</td></tr><tr><td>C1031</td><td>90851.77</td><td>12978.82</td><td>5.47</td><td>90649.92</td><td>7</td></tr><tr><td>C1832</td><td>71.58</td><td>35.79</td><td>34.84</td><td>36.74</td><td>2</td></tr><tr><td>C1061</td><td>39.3</td><td>39.3</td><td>39.3</td><td>39.3</td><td>1</td></tr><tr><td>C1013</td><td>32.31</td><td>16.16</td><td>13.7</td><td>18.61</td><td>2</td></tr><tr><td>C1232</td><td>40761.16</td><td>10190.29</td><td>2.34</td><td>40685.84</td><td>4</td></tr><tr><td>C1430</td><td>37593.73</td><td>7518.75</td><td>6.37</td><td>37400.74</td><td>5</td></tr><tr><td>C1064</td><td>119.02</td><td>29.76</td><td>6.47</td><td>54.95</td><td>4</td></tr><tr><td>C1134</td><td>191.32</td><td>27.33</td><td>4.84</td><td>64.81</td><td>7</td></tr><tr><td>C1046</td><td>267.54</td><td>38.22</td><td>5.99</td><td>96.1</td><td>7</td></tr><tr><td>C1216</td><td>176.72</td><td>58.91</td><td>33.23</td><td>107.25</td><td>3</td></tr><tr><td>C1255</td><td>98.19</td><td>49.1</td><td>31.12</td><td>67.07</td><td>2</td></tr><tr><td>C1071</td><td>256.99</td><td>64.25</td><td>25.8</td><td>86.25</td><td>4</td></tr><tr><td>C1045</td><td>97.03</td><td>97.03</td><td>97.03</td><td>97.03</td><td>1</td></tr><tr><td>C1885</td><td>78.93</td><td>39.47</td><td>4.99</td><td>73.94</td><td>2</td></tr><tr><td>C1480</td><td>134.18</td><td>33.55</td><td>10.09</td><td>77.43</td><td>4</td></tr><tr><td>C1282</td><td>98.85</td><td>32.95</td><td>21.01</td><td>44.72</td><td>3</td></tr><tr><td>C1861</td><td>162.24</td><td>40.56</td><td>25.71</td><td>75.42</td><td>4</td></tr><tr><td>C1766</td><td>96.53</td><td>32.18</td><td>3.77</td><td>88.35</td><td>3</td></tr><tr><td>C1466</td><td>127.18</td><td>42.39</td><td>6.25</td><td>103.97</td><td>3</td></tr><tr><td>C1749</td><td>85.88</td><td>42.94</td><td>4.38</td><td>81.5</td><td>2</td></tr><tr><td>C1072</td><td>217.86</td><td>31.12</td><td>6.37</td><td>64.21</td><td>7</td></tr><tr><td>C1273</td><td>120.26</td><td>40.09</td><td>4.82</td><td>61.3</td><td>3</td></tr><tr><td>C1754</td><td>142.32</td><td>47.44</td><td>10.6</td><td>109.9</td><td>3</td></tr><tr><td>C1011</td><td>274.5</td><td>45.75</td><td>2.43</td><td>80.33</td><td>6</td></tr><tr><td>C1297</td><td>141.89</td><td>28.38</td><td>9.31</td><td>41.71</td><td>5</td></tr><tr><td>C1015</td><td>14.15</td><td>14.15</td><td>14.15</td><td>14.15</td><td>1</td></tr><tr><td>C1843</td><td>125.66</td><td>31.42</td><td>6.12</td><td>99.19</td><td>4</td></tr><tr><td>C1705</td><td>22.18</td><td>22.18</td><td>22.18</td><td>22.18</td><td>1</td></tr><tr><td>C1442</td><td>137.86</td><td>68.93</td><td>48.07</td><td>89.79</td><td>2</td></tr><tr><td>C1106</td><td>12241.63</td><td>3060.41</td><td>30.77</td><td>12084.33</td><td>4</td></tr><tr><td>C1544</td><td>45.71</td><td>22.85</td><td>16.91</td><td>28.8</td><td>2</td></tr><tr><td>C1387</td><td>11478.7</td><td>5739.35</td><td>39.55</td><td>11439.15</td><td>2</td></tr><tr><td>C1329</td><td>79.21</td><td>19.8</td><td>8.59</td><td>25.0</td><td>4</td></tr><tr><td>C1360</td><td>124.85</td><td>31.21</td><td>5.63</td><td>66.52</td><td>4</td></tr><tr><td>C1881</td><td>56.31</td><td>28.15</td><td>27.4</td><td>28.91</td><td>2</td></tr><tr><td>C1050</td><td>83.02</td><td>41.51</td><td>16.85</td><td>66.17</td><td>2</td></tr><tr><td>C1074</td><td>86.55</td><td>28.85</td><td>14.71</td><td>40.09</td><td>3</td></tr><tr><td>C1836</td><td>49.52</td><td>49.52</td><td>49.52</td><td>49.52</td><td>1</td></tr><tr><td>C1685</td><td>139.77</td><td>46.59</td><td>6.99</td><td>86.22</td><td>3</td></tr><tr><td>C1227</td><td>126.67</td><td>42.22</td><td>5.23</td><td>81.3</td><td>3</td></tr><tr><td>C1969</td><td>30.94</td><td>15.47</td><td>9.57</td><td>21.37</td><td>2</td></tr><tr><td>C1848</td><td>94.68</td><td>31.56</td><td>11.34</td><td>59.52</td><td>3</td></tr><tr><td>C1246</td><td>1.0</td><td>1.0</td><td>1.0</td><td>1.0</td><td>1</td></tr><tr><td>C1656</td><td>36.95</td><td>36.95</td><td>36.95</td><td>36.95</td><td>1</td></tr><tr><td>C1925</td><td>122.23</td><td>40.74</td><td>15.08</td><td>60.43</td><td>3</td></tr><tr><td>C1177</td><td>49308.01</td><td>9861.6</td><td>49.48</td><td>49051.8</td><td>5</td></tr><tr><td>C1138</td><td>112.05</td><td>22.41</td><td>7.63</td><td>40.74</td><td>5</td></tr><tr><td>C1452</td><td>172.96</td><td>57.65</td><td>15.55</td><td>100.45</td><td>3</td></tr><tr><td>C1458</td><td>291.15</td><td>58.23</td><td>31.1</td><td>90.58</td><td>5</td></tr><tr><td>C1327</td><td>139.53</td><td>46.51</td><td>19.64</td><td>60.49</td><td>3</td></tr><tr><td>C1490</td><td>18.55</td><td>9.28</td><td>8.41</td><td>10.14</td><td>2</td></tr><tr><td>C1136</td><td>189.53</td><td>37.91</td><td>11.42</td><td>58.76</td><td>5</td></tr><tr><td>C1778</td><td>8.05</td><td>8.05</td><td>8.05</td><td>8.05</td><td>1</td></tr><tr><td>C1734</td><td>51.85</td><td>25.93</td><td>20.51</td><td>31.34</td><td>2</td></tr><tr><td>C1180</td><td>171.39</td><td>34.28</td><td>4.79</td><td>55.04</td><td>5</td></tr><tr><td>C1589</td><td>241.77</td><td>40.3</td><td>20.54</td><td>70.16</td><td>6</td></tr><tr><td>C1301</td><td>97.34</td><td>24.33</td><td>3.92</td><td>51.55</td><td>4</td></tr><tr><td>C1926</td><td>53.41</td><td>17.8</td><td>2.33</td><td>27.75</td><td>3</td></tr><tr><td>C1930</td><td>174.06</td><td>29.01</td><td>7.79</td><td>46.05</td><td>6</td></tr><tr><td>C1377</td><td>30464.42</td><td>6092.88</td><td>1.74</td><td>30347.73</td><td>5</td></tr><tr><td>C1858</td><td>64.75</td><td>32.38</td><td>26.19</td><td>38.56</td><td>2</td></tr><tr><td>C1593</td><td>164.89</td><td>54.96</td><td>5.34</td><td>81.28</td><td>3</td></tr><tr><td>C1546</td><td>53.36</td><td>26.68</td><td>22.19</td><td>31.17</td><td>2</td></tr><tr><td>C1092</td><td>32.14</td><td>10.71</td><td>2.81</td><td>15.97</td><td>3</td></tr><tr><td>C1361</td><td>153.38</td><td>51.13</td><td>44.37</td><td>60.5</td><td>3</td></tr><tr><td>C1033</td><td>185.54</td><td>61.85</td><td>45.57</td><td>71.3</td><td>3</td></tr><tr><td>C1165</td><td>110.89</td><td>22.18</td><td>12.44</td><td>28.07</td><td>5</td></tr><tr><td>C1554</td><td>53080.38</td><td>17693.46</td><td>36.56</td><td>52972.34</td><td>3</td></tr><tr><td>C1244</td><td>113.79</td><td>56.89</td><td>48.16</td><td>65.63</td><td>2</td></tr><tr><td>C1700</td><td>61.96</td><td>20.65</td><td>1.1</td><td>33.32</td><td>3</td></tr><tr><td>C1940</td><td>55.15</td><td>27.57</td><td>22.63</td><td>32.52</td><td>2</td></tr><tr><td>C1405</td><td>24.89</td><td>12.45</td><td>11.02</td><td>13.87</td><td>2</td></tr><tr><td>C1993</td><td>95.17</td><td>31.72</td><td>27.94</td><td>36.89</td><td>3</td></tr><tr><td>C1813</td><td>49.54</td><td>24.77</td><td>3.27</td><td>46.27</td><td>2</td></tr><tr><td>C1137</td><td>115.37</td><td>38.46</td><td>21.2</td><td>69.26</td><td>3</td></tr><tr><td>C1309</td><td>20.32</td><td>10.16</td><td>7.95</td><td>12.37</td><td>2</td></tr><tr><td>C1513</td><td>164.68</td><td>82.34</td><td>69.34</td><td>95.34</td><td>2</td></tr><tr><td>C1849</td><td>127.92</td><td>42.64</td><td>35.18</td><td>57.4</td><td>3</td></tr><tr><td>C1747</td><td>46.12</td><td>11.53</td><td>4.2</td><td>20.53</td><td>4</td></tr><tr><td>C1776</td><td>124.76</td><td>31.19</td><td>6.52</td><td>64.55</td><td>4</td></tr><tr><td>C1737</td><td>90405.56</td><td>9040.56</td><td>4.63</td><td>90034.16</td><td>10</td></tr><tr><td>C1148</td><td>217.05</td><td>72.35</td><td>43.63</td><td>88.68</td><td>3</td></tr><tr><td>C1819</td><td>165.5</td><td>41.38</td><td>10.9</td><td>100.05</td><td>4</td></tr><tr><td>C1077</td><td>168.13</td><td>42.03</td><td>1.0</td><td>104.49</td><td>4</td></tr><tr><td>C1556</td><td>85152.44</td><td>21288.11</td><td>3.87</td><td>85035.64</td><td>4</td></tr><tr><td>C1357</td><td>184.3</td><td>92.15</td><td>76.47</td><td>107.83</td><td>2</td></tr><tr><td>C1581</td><td>91.85</td><td>45.92</td><td>24.15</td><td>67.7</td><td>2</td></tr><tr><td>C1680</td><td>180.77</td><td>22.6</td><td>1.3</td><td>39.8</td><td>8</td></tr><tr><td>C1252</td><td>27499.49</td><td>9166.5</td><td>32.84</td><td>27428.71</td><td>3</td></tr><tr><td>C1268</td><td>178.43</td><td>35.69</td><td>25.08</td><td>47.23</td><td>5</td></tr><tr><td>C1834</td><td>84.49</td><td>42.24</td><td>16.03</td><td>68.46</td><td>2</td></tr><tr><td>C1935</td><td>175.1</td><td>35.02</td><td>12.15</td><td>54.36</td><td>5</td></tr><tr><td>C1538</td><td>28519.44</td><td>14259.72</td><td>42.97</td><td>28476.47</td><td>2</td></tr><tr><td>C1655</td><td>229.85</td><td>45.97</td><td>8.9</td><td>94.71</td><td>5</td></tr><tr><td>C1756</td><td>197.23</td><td>49.31</td><td>1.3</td><td>87.41</td><td>4</td></tr><tr><td>C1372</td><td>101.31</td><td>20.26</td><td>1.1</td><td>31.6</td><td>5</td></tr><tr><td>C1010</td><td>9.66</td><td>9.66</td><td>9.66</td><td>9.66</td><td>1</td></tr><tr><td>C1105</td><td>256.77</td><td>51.35</td><td>28.74</td><td>99.63</td><td>5</td></tr><tr><td>C1884</td><td>136.58</td><td>34.15</td><td>3.58</td><td>67.05</td><td>4</td></tr><tr><td>C1117</td><td>50.85</td><td>25.43</td><td>22.01</td><td>28.84</td><td>2</td></tr><tr><td>C1486</td><td>57.82</td><td>57.82</td><td>57.82</td><td>57.82</td><td>1</td></tr><tr><td>C1160</td><td>70.42</td><td>35.21</td><td>30.41</td><td>40.01</td><td>2</td></tr><tr><td>C1286</td><td>108.8</td><td>36.27</td><td>5.43</td><td>83.52</td><td>3</td></tr><tr><td>C1495</td><td>8.96</td><td>4.48</td><td>1.3</td><td>7.66</td><td>2</td></tr><tr><td>C1168</td><td>63898.47</td><td>21299.49</td><td>2.74</td><td>63865.31</td><td>3</td></tr><tr><td>C1853</td><td>97.1</td><td>24.27</td><td>2.6</td><td>45.6</td><td>4</td></tr><tr><td>C1215</td><td>93113.96</td><td>18622.79</td><td>12.7</td><td>93011.15</td><td>5</td></tr><tr><td>C1420</td><td>17103.35</td><td>4275.84</td><td>1.88</td><td>17010.09</td><td>4</td></tr><tr><td>C1907</td><td>44.26</td><td>22.13</td><td>10.22</td><td>34.04</td><td>2</td></tr><tr><td>C1151</td><td>25145.5</td><td>5029.1</td><td>1.22</td><td>25094.43</td><td>5</td></tr><tr><td>C1983</td><td>89159.05</td><td>44579.53</td><td>10.27</td><td>89148.78</td><td>2</td></tr><tr><td>C1085</td><td>103.5</td><td>51.75</td><td>25.37</td><td>78.13</td><td>2</td></tr><tr><td>C1201</td><td>128545.48</td><td>16068.18</td><td>18.62</td><td>128300.66</td><td>8</td></tr><tr><td>C1088</td><td>19471.9</td><td>6490.63</td><td>48.89</td><td>19371.37</td><td>3</td></tr><tr><td>C1878</td><td>43.4</td><td>14.47</td><td>2.56</td><td>27.04</td><td>3</td></tr><tr><td>C1828</td><td>159.49</td><td>31.9</td><td>9.97</td><td>54.26</td><td>5</td></tr><tr><td>C1833</td><td>60.53</td><td>30.27</td><td>6.58</td><td>53.95</td><td>2</td></tr><tr><td>C1278</td><td>94.86</td><td>31.62</td><td>17.61</td><td>46.08</td><td>3</td></tr><tr><td>C1845</td><td>51.85</td><td>17.28</td><td>11.73</td><td>26.36</td><td>3</td></tr><tr><td>C1636</td><td>50103.38</td><td>16701.13</td><td>5.93</td><td>50037.16</td><td>3</td></tr><tr><td>C1365</td><td>62078.17</td><td>10346.36</td><td>2.2</td><td>61969.17</td><td>6</td></tr><tr><td>C1624</td><td>114.63</td><td>57.31</td><td>18.81</td><td>95.82</td><td>2</td></tr><tr><td>C1972</td><td>112.21</td><td>37.4</td><td>15.2</td><td>54.63</td><td>3</td></tr><tr><td>C1172</td><td>86259.08</td><td>28753.03</td><td>20.42</td><td>86209.46</td><td>3</td></tr><tr><td>C1634</td><td>104.48</td><td>52.24</td><td>38.88</td><td>65.6</td><td>2</td></tr><tr><td>C1920</td><td>189.87</td><td>47.47</td><td>1.41</td><td>75.91</td><td>4</td></tr><tr><td>C1575</td><td>135.35</td><td>33.84</td><td>2.29</td><td>96.54</td><td>4</td></tr><tr><td>C1641</td><td>146.48</td><td>36.62</td><td>4.21</td><td>60.67</td><td>4</td></tr><tr><td>C1112</td><td>86.72</td><td>21.68</td><td>9.79</td><td>33.75</td><td>4</td></tr><tr><td>C1399</td><td>119278.29</td><td>39759.43</td><td>4.03</td><td>63665.63</td><td>3</td></tr><tr><td>C1017</td><td>82350.26</td><td>20587.57</td><td>6.1</td><td>82256.56</td><td>4</td></tr><tr><td>C1383</td><td>181.2</td><td>60.4</td><td>35.21</td><td>82.95</td><td>3</td></tr><tr><td>C1158</td><td>146.35</td><td>48.78</td><td>23.97</td><td>75.69</td><td>3</td></tr><tr><td>C1449</td><td>54.67</td><td>18.22</td><td>8.27</td><td>36.74</td><td>3</td></tr><tr><td>C1540</td><td>54004.06</td><td>9000.68</td><td>1.3</td><td>53886.55</td><td>6</td></tr><tr><td>C1860</td><td>223.79</td><td>37.3</td><td>3.05</td><td>107.57</td><td>6</td></tr><tr><td>C1167</td><td>145.26</td><td>48.42</td><td>20.35</td><td>81.19</td><td>3</td></tr><tr><td>C1274</td><td>64.09</td><td>32.05</td><td>9.32</td><td>54.77</td><td>2</td></tr><tr><td>C1224</td><td>74.36</td><td>24.79</td><td>12.44</td><td>33.94</td><td>3</td></tr><tr><td>C1021</td><td>136.12</td><td>68.06</td><td>67.49</td><td>68.63</td><td>2</td></tr><tr><td>C1408</td><td>89.88</td><td>29.96</td><td>5.52</td><td>75.84</td><td>3</td></tr><tr><td>C1614</td><td>141333.93</td><td>47111.31</td><td>41.26</td><td>91948.08</td><td>3</td></tr><tr><td>C1566</td><td>17.94</td><td>17.94</td><td>17.94</td><td>17.94</td><td>1</td></tr><tr><td>C1957</td><td>13.0</td><td>13.0</td><td>13.0</td><td>13.0</td><td>1</td></tr><tr><td>C1448</td><td>56.75</td><td>28.37</td><td>5.24</td><td>51.51</td><td>2</td></tr><tr><td>C1401</td><td>136.45</td><td>68.22</td><td>29.07</td><td>107.38</td><td>2</td></tr><tr><td>C1721</td><td>31.12</td><td>31.12</td><td>31.12</td><td>31.12</td><td>1</td></tr><tr><td>C1808</td><td>305.44</td><td>61.09</td><td>17.21</td><td>95.99</td><td>5</td></tr><tr><td>C1003</td><td>124.49</td><td>24.9</td><td>5.56</td><td>64.19</td><td>5</td></tr><tr><td>C1508</td><td>26.79</td><td>13.39</td><td>10.85</td><td>15.94</td><td>2</td></tr><tr><td>C1162</td><td>398.41</td><td>49.8</td><td>17.05</td><td>69.16</td><td>8</td></tr><tr><td>C1095</td><td>75.6</td><td>25.2</td><td>1.56</td><td>49.7</td><td>3</td></tr><tr><td>C1141</td><td>48.08</td><td>24.04</td><td>19.19</td><td>28.89</td><td>2</td></tr><tr><td>C1352</td><td>56.58</td><td>18.86</td><td>6.46</td><td>32.3</td><td>3</td></tr><tr><td>C1989</td><td>173.86</td><td>57.95</td><td>34.2</td><td>102.68</td><td>3</td></tr><tr><td>C1047</td><td>88.63</td><td>44.32</td><td>32.31</td><td>56.32</td><td>2</td></tr><tr><td>C1613</td><td>93.86</td><td>46.93</td><td>43.06</td><td>50.8</td><td>2</td></tr><tr><td>C1504</td><td>128.69</td><td>25.74</td><td>8.56</td><td>43.42</td><td>5</td></tr><tr><td>C1997</td><td>120.58</td><td>20.1</td><td>4.78</td><td>37.95</td><td>6</td></tr><tr><td>C1962</td><td>79.81</td><td>26.6</td><td>12.91</td><td>45.55</td><td>3</td></tr><tr><td>C1892</td><td>17843.49</td><td>2973.91</td><td>7.21</td><td>17705.62</td><td>6</td></tr><tr><td>C1035</td><td>22.67</td><td>22.67</td><td>22.67</td><td>22.67</td><td>1</td></tr><tr><td>C1389</td><td>84108.64</td><td>28036.21</td><td>23.79</td><td>84026.12</td><td>3</td></tr><tr><td>C1711</td><td>90571.45</td><td>90571.45</td><td>90571.45</td><td>90571.45</td><td>1</td></tr><tr><td>C1822</td><td>128.7</td><td>64.35</td><td>59.98</td><td>68.72</td><td>2</td></tr><tr><td>C1164</td><td>91.54</td><td>45.77</td><td>4.91</td><td>86.63</td><td>2</td></tr><tr><td>C1965</td><td>167.18</td><td>33.44</td><td>4.72</td><td>53.05</td><td>5</td></tr><tr><td>C1120</td><td>66323.81</td><td>11053.97</td><td>2.96</td><td>66205.53</td><td>6</td></tr><tr><td>C1987</td><td>70.22</td><td>35.11</td><td>25.31</td><td>44.91</td><td>2</td></tr><tr><td>C1279</td><td>85.26</td><td>28.42</td><td>1.03</td><td>47.0</td><td>3</td></tr><tr><td>C1638</td><td>136.04</td><td>34.01</td><td>6.11</td><td>61.34</td><td>4</td></tr><tr><td>C1701</td><td>134.52</td><td>26.9</td><td>13.81</td><td>33.79</td><td>5</td></tr><tr><td>C1677</td><td>92.53</td><td>30.84</td><td>10.55</td><td>64.82</td><td>3</td></tr><tr><td>C1557</td><td>5.1</td><td>5.1</td><td>5.1</td><td>5.1</td><td>1</td></tr><tr><td>C1474</td><td>150.16</td><td>37.54</td><td>6.17</td><td>75.79</td><td>4</td></tr><tr><td>C1207</td><td>83.42</td><td>41.71</td><td>5.27</td><td>78.15</td><td>2</td></tr><tr><td>C1633</td><td>41.56</td><td>20.78</td><td>15.27</td><td>26.29</td><td>2</td></tr><tr><td>C1323</td><td>123.56</td><td>61.78</td><td>24.35</td><td>99.21</td><td>2</td></tr><tr><td>C1125</td><td>55.14</td><td>18.38</td><td>12.76</td><td>23.07</td><td>3</td></tr><tr><td>C1950</td><td>34.31</td><td>34.31</td><td>34.31</td><td>34.31</td><td>1</td></tr><tr><td>C1630</td><td>35.7</td><td>35.7</td><td>35.7</td><td>35.7</td><td>1</td></tr><tr><td>C1145</td><td>77.4</td><td>25.8</td><td>13.72</td><td>41.13</td><td>3</td></tr><tr><td>C1976</td><td>47.23</td><td>23.62</td><td>13.76</td><td>33.47</td><td>2</td></tr><tr><td>C1503</td><td>19.34</td><td>19.34</td><td>19.34</td><td>19.34</td><td>1</td></tr><tr><td>C1262</td><td>113.87</td><td>37.96</td><td>11.65</td><td>73.64</td><td>3</td></tr><tr><td>C1975</td><td>58.85</td><td>29.43</td><td>25.67</td><td>33.18</td><td>2</td></tr><tr><td>C1266</td><td>159.71</td><td>39.93</td><td>23.7</td><td>72.86</td><td>4</td></tr><tr><td>C1456</td><td>191.46</td><td>31.91</td><td>5.05</td><td>76.95</td><td>6</td></tr><tr><td>C1877</td><td>115.54</td><td>38.51</td><td>1.0</td><td>62.78</td><td>3</td></tr><tr><td>C1174</td><td>121.36</td><td>40.45</td><td>24.5</td><td>60.14</td><td>3</td></tr><tr><td>C1439</td><td>166.35</td><td>33.27</td><td>18.99</td><td>59.51</td><td>5</td></tr><tr><td>C1786</td><td>69.76</td><td>23.25</td><td>10.81</td><td>35.09</td><td>3</td></tr><tr><td>C1353</td><td>200.32</td><td>40.06</td><td>19.81</td><td>100.42</td><td>5</td></tr><tr><td>C1657</td><td>133.25</td><td>44.42</td><td>25.6</td><td>57.78</td><td>3</td></tr><tr><td>C1199</td><td>101.56</td><td>25.39</td><td>19.78</td><td>34.66</td><td>4</td></tr><tr><td>C1506</td><td>13.08</td><td>13.08</td><td>13.08</td><td>13.08</td><td>1</td></tr><tr><td>C1868</td><td>202.42</td><td>50.6</td><td>22.74</td><td>79.63</td><td>4</td></tr><tr><td>C1257</td><td>103.02</td><td>34.34</td><td>11.59</td><td>64.43</td><td>3</td></tr><tr><td>C1882</td><td>50.16</td><td>50.16</td><td>50.16</td><td>50.16</td><td>1</td></tr><tr><td>C1230</td><td>58.24</td><td>19.41</td><td>5.1</td><td>41.22</td><td>3</td></tr><tr><td>C1651</td><td>55.77</td><td>13.94</td><td>1.92</td><td>44.28</td><td>4</td></tr><tr><td>C1346</td><td>145.48</td><td>48.49</td><td>1.3</td><td>95.51</td><td>3</td></tr><tr><td>C1465</td><td>239.12</td><td>59.78</td><td>12.23</td><td>104.23</td><td>4</td></tr><tr><td>C1412</td><td>321.17</td><td>45.88</td><td>1.61</td><td>102.14</td><td>7</td></tr><tr><td>C1467</td><td>168.06</td><td>56.02</td><td>19.72</td><td>93.57</td><td>3</td></tr><tr><td>C1002</td><td>97105.79</td><td>24276.45</td><td>1.0</td><td>97065.97</td><td>4</td></tr><tr><td>C1978</td><td>160.29</td><td>32.06</td><td>2.46</td><td>80.32</td><td>5</td></tr><tr><td>C1392</td><td>82.94</td><td>27.65</td><td>4.11</td><td>56.83</td><td>3</td></tr><tr><td>C1545</td><td>96.04</td><td>24.01</td><td>3.3</td><td>70.17</td><td>4</td></tr><tr><td>C1548</td><td>51.13</td><td>17.04</td><td>16.36</td><td>17.96</td><td>3</td></tr><tr><td>C1773</td><td>42.4</td><td>14.13</td><td>4.94</td><td>23.35</td><td>3</td></tr><tr><td>C1379</td><td>186.51</td><td>93.26</td><td>79.4</td><td>107.11</td><td>2</td></tr><tr><td>C1921</td><td>183.31</td><td>36.66</td><td>1.36</td><td>64.94</td><td>5</td></tr><tr><td>C1788</td><td>52937.83</td><td>13234.46</td><td>9.54</td><td>52851.59</td><td>4</td></tr><tr><td>C1775</td><td>106.87</td><td>17.81</td><td>1.22</td><td>26.83</td><td>6</td></tr><tr><td>C1914</td><td>221.29</td><td>36.88</td><td>8.1</td><td>57.83</td><td>6</td></tr><tr><td>C1006</td><td>79.41</td><td>19.85</td><td>6.99</td><td>45.83</td><td>4</td></tr><tr><td>C1823</td><td>97.14</td><td>48.57</td><td>12.9</td><td>84.24</td><td>2</td></tr><tr><td>C1393</td><td>77.85</td><td>38.92</td><td>28.09</td><td>49.76</td><td>2</td></tr><tr><td>C1760</td><td>129.86</td><td>43.29</td><td>16.33</td><td>82.91</td><td>3</td></tr><tr><td>C1654</td><td>19025.52</td><td>6341.84</td><td>22.58</td><td>18974.85</td><td>3</td></tr><tr><td>C1637</td><td>147659.07</td><td>29531.81</td><td>2.43</td><td>98428.74</td><td>5</td></tr><tr><td>C1647</td><td>86773.68</td><td>21693.42</td><td>25.82</td><td>86633.13</td><td>4</td></tr><tr><td>C1059</td><td>159.05</td><td>39.76</td><td>1.0</td><td>111.29</td><td>4</td></tr><tr><td>C1019</td><td>207.73</td><td>51.93</td><td>1.1</td><td>105.21</td><td>4</td></tr><tr><td>C1746</td><td>209.36</td><td>29.91</td><td>9.02</td><td>47.67</td><td>7</td></tr><tr><td>C1821</td><td>77.07</td><td>25.69</td><td>14.68</td><td>46.28</td><td>3</td></tr><tr><td>C1016</td><td>79096.81</td><td>19774.2</td><td>3.8</td><td>79077.32</td><td>4</td></tr><tr><td>C1605</td><td>111.96</td><td>37.32</td><td>8.7</td><td>59.05</td><td>3</td></tr><tr><td>C1042</td><td>61.8</td><td>15.45</td><td>3.68</td><td>40.79</td><td>4</td></tr><tr><td>C1367</td><td>80.2</td><td>26.73</td><td>10.73</td><td>50.26</td><td>3</td></tr><tr><td>C1576</td><td>376.91</td><td>34.26</td><td>2.76</td><td>93.52</td><td>11</td></tr><tr><td>C1757</td><td>91.93</td><td>30.64</td><td>25.96</td><td>33.76</td><td>3</td></tr><tr><td>C1143</td><td>55.44</td><td>18.48</td><td>12.25</td><td>26.98</td><td>3</td></tr><tr><td>C1493</td><td>147.45</td><td>29.49</td><td>8.74</td><td>54.3</td><td>5</td></tr><tr><td>C1812</td><td>84.74</td><td>28.25</td><td>18.58</td><td>38.58</td><td>3</td></tr><tr><td>C1525</td><td>195.51</td><td>48.88</td><td>33.02</td><td>64.29</td><td>4</td></tr><tr><td>C1880</td><td>138.53</td><td>23.09</td><td>4.14</td><td>70.95</td><td>6</td></tr><tr><td>C1764</td><td>176.1</td><td>88.05</td><td>51.44</td><td>124.66</td><td>2</td></tr><tr><td>C1539</td><td>76.57</td><td>19.14</td><td>1.3</td><td>31.38</td><td>4</td></tr><tr><td>C1748</td><td>40.53</td><td>40.53</td><td>40.53</td><td>40.53</td><td>1</td></tr><tr><td>C1159</td><td>47.58</td><td>23.79</td><td>8.79</td><td>38.79</td><td>2</td></tr><tr><td>C1501</td><td>124.58</td><td>41.53</td><td>32.25</td><td>47.33</td><td>3</td></tr><tr><td>C1093</td><td>19821.34</td><td>9910.67</td><td>36.51</td><td>19784.83</td><td>2</td></tr><tr><td>C1958</td><td>148.71</td><td>29.74</td><td>6.76</td><td>54.22</td><td>5</td></tr><tr><td>C1422</td><td>99.37</td><td>24.84</td><td>6.37</td><td>51.83</td><td>4</td></tr><tr><td>C1443</td><td>154.54</td><td>30.91</td><td>10.63</td><td>49.22</td><td>5</td></tr><tr><td>C1911</td><td>202.59</td><td>40.52</td><td>8.96</td><td>107.39</td><td>5</td></tr><tr><td>C1529</td><td>28.3</td><td>28.3</td><td>28.3</td><td>28.3</td><td>1</td></tr><tr><td>C1984</td><td>141.16</td><td>47.05</td><td>37.61</td><td>65.92</td><td>3</td></tr><tr><td>C1272</td><td>98.75</td><td>24.69</td><td>17.8</td><td>38.78</td><td>4</td></tr><tr><td>C1532</td><td>37.81</td><td>37.81</td><td>37.81</td><td>37.81</td><td>1</td></tr><tr><td>C1213</td><td>67.85</td><td>33.93</td><td>12.7</td><td>55.15</td><td>2</td></tr><tr><td>C1895</td><td>68.61</td><td>68.61</td><td>68.61</td><td>68.61</td><td>1</td></tr><tr><td>C1905</td><td>64.86</td><td>21.62</td><td>4.81</td><td>32.47</td><td>3</td></tr><tr><td>C1111</td><td>72.05</td><td>24.02</td><td>8.89</td><td>39.67</td><td>3</td></tr><tr><td>C1900</td><td>247.37</td><td>41.23</td><td>2.84</td><td>148.16</td><td>6</td></tr><tr><td>C1219</td><td>140.62</td><td>35.16</td><td>14.78</td><td>70.54</td><td>4</td></tr><tr><td>C1617</td><td>69.51</td><td>34.75</td><td>14.66</td><td>54.85</td><td>2</td></tr><tr><td>C1350</td><td>245.01</td><td>40.84</td><td>22.13</td><td>87.26</td><td>6</td></tr><tr><td>C1166</td><td>70.61</td><td>35.3</td><td>13.67</td><td>56.94</td><td>2</td></tr><tr><td>C1784</td><td>86610.89</td><td>86610.89</td><td>86610.89</td><td>86610.89</td><td>1</td></tr><tr><td>C1814</td><td>36.23</td><td>36.23</td><td>36.23</td><td>36.23</td><td>1</td></tr><tr><td>C1955</td><td>14.57</td><td>14.57</td><td>14.57</td><td>14.57</td><td>1</td></tr><tr><td>C1343</td><td>28.15</td><td>28.15</td><td>28.15</td><td>28.15</td><td>1</td></tr><tr><td>C1240</td><td>51.33</td><td>25.66</td><td>20.68</td><td>30.65</td><td>2</td></tr><tr><td>C1688</td><td>128.65</td><td>64.33</td><td>23.71</td><td>104.94</td><td>2</td></tr><tr><td>C1404</td><td>12.78</td><td>12.78</td><td>12.78</td><td>12.78</td><td>1</td></tr><tr><td>C1150</td><td>80.24</td><td>40.12</td><td>24.59</td><td>55.65</td><td>2</td></tr><tr><td>C1154</td><td>4.86</td><td>4.86</td><td>4.86</td><td>4.86</td><td>1</td></tr><tr><td>C1062</td><td>26.22</td><td>26.22</td><td>26.22</td><td>26.22</td><td>1</td></tr><tr><td>C1008</td><td>252.32</td><td>63.08</td><td>16.95</td><td>106.71</td><td>4</td></tr><tr><td>C1256</td><td>168.96</td><td>56.32</td><td>49.47</td><td>63.76</td><td>3</td></tr><tr><td>C1964</td><td>125.06</td><td>41.69</td><td>11.97</td><td>60.25</td><td>3</td></tr><tr><td>C1510</td><td>10.87</td><td>10.87</td><td>10.87</td><td>10.87</td><td>1</td></tr><tr><td>C1402</td><td>131.75</td><td>65.88</td><td>55.08</td><td>76.67</td><td>2</td></tr><tr><td>C1968</td><td>43.38</td><td>21.69</td><td>10.93</td><td>32.45</td><td>2</td></tr><tr><td>C1475</td><td>3.05</td><td>3.05</td><td>3.05</td><td>3.05</td><td>1</td></tr><tr><td>C1645</td><td>69.07</td><td>34.54</td><td>5.73</td><td>63.34</td><td>2</td></tr><tr><td>C1478</td><td>52452.62</td><td>26226.31</td><td>58.5</td><td>52394.12</td><td>2</td></tr><tr><td>C1902</td><td>67.23</td><td>22.41</td><td>3.72</td><td>47.62</td><td>3</td></tr><tr><td>C1223</td><td>8.13</td><td>8.13</td><td>8.13</td><td>8.13</td><td>1</td></tr><tr><td>C1782</td><td>51.8</td><td>25.9</td><td>13.79</td><td>38.01</td><td>2</td></tr><tr><td>C1009</td><td>37611.42</td><td>7522.28</td><td>2.83</td><td>37506.43</td><td>5</td></tr><tr><td>C1356</td><td>83.53</td><td>83.53</td><td>83.53</td><td>83.53</td><td>1</td></tr><tr><td>C1299</td><td>84.52</td><td>42.26</td><td>17.49</td><td>67.03</td><td>2</td></tr><tr><td>C1590</td><td>24.82</td><td>12.41</td><td>9.42</td><td>15.4</td><td>2</td></tr><tr><td>C1126</td><td>43384.85</td><td>21692.43</td><td>30.75</td><td>43354.1</td><td>2</td></tr><tr><td>C1038</td><td>31.27</td><td>15.64</td><td>15.25</td><td>16.02</td><td>2</td></tr><tr><td>C1809</td><td>26.85</td><td>26.85</td><td>26.85</td><td>26.85</td><td>1</td></tr><tr><td>C1973</td><td>322.34</td><td>64.47</td><td>40.53</td><td>125.48</td><td>5</td></tr><tr><td>C1287</td><td>148.19</td><td>74.09</td><td>63.34</td><td>84.85</td><td>2</td></tr><tr><td>C1578</td><td>88.78</td><td>88.78</td><td>88.78</td><td>88.78</td><td>1</td></tr><tr><td>C1171</td><td>70547.08</td><td>35273.54</td><td>35.79</td><td>70511.29</td><td>2</td></tr><tr><td>C1643</td><td>27.89</td><td>27.89</td><td>27.89</td><td>27.89</td><td>1</td></tr><tr><td>C1419</td><td>49.57</td><td>24.78</td><td>5.11</td><td>44.46</td><td>2</td></tr><tr><td>C1588</td><td>26.07</td><td>26.07</td><td>26.07</td><td>26.07</td><td>1</td></tr><tr><td>C1622</td><td>57.87</td><td>28.94</td><td>25.38</td><td>32.49</td><td>2</td></tr><tr><td>C1362</td><td>66.02</td><td>66.02</td><td>66.02</td><td>66.02</td><td>1</td></tr><tr><td>C1597</td><td>14.14</td><td>14.14</td><td>14.14</td><td>14.14</td><td>1</td></tr><tr><td>C1197</td><td>127.91</td><td>127.91</td><td>127.91</td><td>127.91</td><td>1</td></tr><tr><td>C1514</td><td>99465.43</td><td>49732.71</td><td>54.71</td><td>99410.72</td><td>2</td></tr><tr><td>C1270</td><td>51.69</td><td>51.69</td><td>51.69</td><td>51.69</td><td>1</td></tr><tr><td>C1733</td><td>53.0</td><td>53.0</td><td>53.0</td><td>53.0</td><td>1</td></tr><tr><td>C1867</td><td>3.49</td><td>3.49</td><td>3.49</td><td>3.49</td><td>1</td></tr><tr><td>C1235</td><td>91.51</td><td>30.5</td><td>1.1</td><td>88.19</td><td>3</td></tr><tr><td>C1569</td><td>17.81</td><td>17.81</td><td>17.81</td><td>17.81</td><td>1</td></tr><tr><td>C1488</td><td>122.91</td><td>40.97</td><td>15.54</td><td>78.82</td><td>3</td></tr><tr><td>C1254</td><td>12.18</td><td>12.18</td><td>12.18</td><td>12.18</td><td>1</td></tr><tr><td>C1447</td><td>31.58</td><td>31.58</td><td>31.58</td><td>31.58</td><td>1</td></tr><tr><td>C1496</td><td>74.16</td><td>37.08</td><td>33.21</td><td>40.95</td><td>2</td></tr><tr><td>C1515</td><td>99.26</td><td>49.63</td><td>24.28</td><td>74.98</td><td>2</td></tr><tr><td>C1364</td><td>55.35</td><td>55.35</td><td>55.35</td><td>55.35</td><td>1</td></tr><tr><td>C1856</td><td>43.16</td><td>43.16</td><td>43.16</td><td>43.16</td><td>1</td></tr><tr><td>C1735</td><td>68.76</td><td>22.92</td><td>5.01</td><td>33.98</td><td>3</td></tr><tr><td>C1899</td><td>65.74</td><td>21.91</td><td>2.69</td><td>40.44</td><td>3</td></tr><tr><td>C1571</td><td>130.18</td><td>65.09</td><td>2.95</td><td>127.23</td><td>2</td></tr><tr><td>C1130</td><td>44.98</td><td>44.98</td><td>44.98</td><td>44.98</td><td>1</td></tr><tr><td>C1209</td><td>52.87</td><td>26.43</td><td>13.39</td><td>39.48</td><td>2</td></tr><tr><td>C1066</td><td>52.26</td><td>52.26</td><td>52.26</td><td>52.26</td><td>1</td></tr><tr><td>C1870</td><td>58.65</td><td>58.65</td><td>58.65</td><td>58.65</td><td>1</td></tr><tr><td>C1394</td><td>185.38</td><td>92.69</td><td>43.87</td><td>141.51</td><td>2</td></tr><tr><td>C1229</td><td>20.67</td><td>20.67</td><td>20.67</td><td>20.67</td><td>1</td></tr><tr><td>C1421</td><td>63603.93</td><td>21201.31</td><td>7.81</td><td>63552.3</td><td>3</td></tr><tr><td>C1311</td><td>20.9</td><td>20.9</td><td>20.9</td><td>20.9</td><td>1</td></tr><tr><td>C1936</td><td>37.06</td><td>37.06</td><td>37.06</td><td>37.06</td><td>1</td></tr><tr><td>C1476</td><td>1.21</td><td>1.21</td><td>1.21</td><td>1.21</td><td>1</td></tr><tr><td>C1334</td><td>34.87</td><td>34.87</td><td>34.87</td><td>34.87</td><td>1</td></tr><tr><td>C1440</td><td>59.55</td><td>59.55</td><td>59.55</td><td>59.55</td><td>1</td></tr><tr><td>C1313</td><td>10.98</td><td>10.98</td><td>10.98</td><td>10.98</td><td>1</td></tr><tr><td>C1417</td><td>78.34</td><td>39.17</td><td>6.93</td><td>71.41</td><td>2</td></tr><tr><td>C1579</td><td>47.83</td><td>47.83</td><td>47.83</td><td>47.83</td><td>1</td></tr><tr><td>C1966</td><td>41.29</td><td>41.29</td><td>41.29</td><td>41.29</td><td>1</td></tr><tr><td>C1307</td><td>43.95</td><td>43.95</td><td>43.95</td><td>43.95</td><td>1</td></tr><tr><td>C1133</td><td>132.92</td><td>44.31</td><td>27.27</td><td>74.65</td><td>3</td></tr><tr><td>C1044</td><td>94379.52</td><td>94379.52</td><td>94379.52</td><td>94379.52</td><td>1</td></tr><tr><td>C1432</td><td>54.46</td><td>27.23</td><td>11.25</td><td>43.21</td><td>2</td></tr><tr><td>C1960</td><td>33.88</td><td>33.88</td><td>33.88</td><td>33.88</td><td>1</td></tr><tr><td>C1310</td><td>43.27</td><td>43.27</td><td>43.27</td><td>43.27</td><td>1</td></tr><tr><td>C1945</td><td>1.0</td><td>1.0</td><td>1.0</td><td>1.0</td><td>1</td></tr><tr><td>C1986</td><td>41.28</td><td>41.28</td><td>41.28</td><td>41.28</td><td>1</td></tr><tr><td>C1445</td><td>28356.01</td><td>14178.0</td><td>32.32</td><td>28323.69</td><td>2</td></tr><tr><td>C1977</td><td>98557.41</td><td>98557.41</td><td>98557.41</td><td>98557.41</td><td>1</td></tr><tr><td>C1840</td><td>41986.56</td><td>20993.28</td><td>40.33</td><td>41946.23</td><td>2</td></tr><tr><td>C1663</td><td>7.93</td><td>7.93</td><td>7.93</td><td>7.93</td><td>1</td></tr><tr><td>C1692</td><td>22.68</td><td>22.68</td><td>22.68</td><td>22.68</td><td>1</td></tr><tr><td>C1427</td><td>51.32</td><td>17.11</td><td>6.71</td><td>27.59</td><td>3</td></tr><tr><td>C1752</td><td>2.09</td><td>2.09</td><td>2.09</td><td>2.09</td><td>1</td></tr><tr><td>C1897</td><td>109.77</td><td>54.88</td><td>39.1</td><td>70.67</td><td>2</td></tr><tr><td>C1152</td><td>23.96</td><td>23.96</td><td>23.96</td><td>23.96</td><td>1</td></tr><tr><td>C1873</td><td>69.96</td><td>34.98</td><td>33.63</td><td>36.33</td><td>2</td></tr><tr><td>C1231</td><td>3.06</td><td>3.06</td><td>3.06</td><td>3.06</td><td>1</td></tr><tr><td>C1904</td><td>49.23</td><td>49.23</td><td>49.23</td><td>49.23</td><td>1</td></tr><tr><td>C1883</td><td>37.35</td><td>37.35</td><td>37.35</td><td>37.35</td><td>1</td></tr><tr><td>C1339</td><td>123.94</td><td>61.97</td><td>32.94</td><td>91.0</td><td>2</td></tr><tr><td>C1380</td><td>68.13</td><td>68.13</td><td>68.13</td><td>68.13</td><td>1</td></tr><tr><td>C1225</td><td>37.17</td><td>37.17</td><td>37.17</td><td>37.17</td><td>1</td></tr><tr><td>C1234</td><td>18.32</td><td>18.32</td><td>18.32</td><td>18.32</td><td>1</td></tr><tr><td>C1573</td><td>36.3</td><td>36.3</td><td>36.3</td><td>36.3</td><td>1</td></tr><tr><td>C1153</td><td>18.63</td><td>18.63</td><td>18.63</td><td>18.63</td><td>1</td></tr><tr><td>C1912</td><td>44.2</td><td>44.2</td><td>44.2</td><td>44.2</td><td>1</td></tr><tr><td>C1695</td><td>27.19</td><td>27.19</td><td>27.19</td><td>27.19</td><td>1</td></tr><tr><td>C1414</td><td>20.37</td><td>20.37</td><td>20.37</td><td>20.37</td><td>1</td></tr><tr><td>C1163</td><td>10.79</td><td>10.79</td><td>10.79</td><td>10.79</td><td>1</td></tr></tbody></table></div>"
      ]
     },
     "metadata": {
      "application/vnd.databricks.v1+output": {
       "addedWidgets": {},
       "aggData": [],
       "aggError": "",
       "aggOverflow": false,
       "aggSchema": [],
       "aggSeriesLimitReached": false,
       "aggType": "",
       "arguments": {},
       "columnCustomDisplayInfos": {},
       "data": [
        [
         "C1804",
         234.04,
         39.01,
         2.78,
         71.18,
         6
        ],
        [
         "C1875",
         134.89,
         33.72,
         4.03,
         61.31,
         4
        ],
        [
         "C1602",
         165.59,
         55.2,
         18.44,
         75.79,
         3
        ],
        [
         "C1524",
         109.49,
         36.5,
         21.09,
         57.33,
         3
        ],
        [
         "C1100",
         114.31,
         38.1,
         6.63,
         70.99,
         3
        ],
        [
         "C1842",
         93.53,
         31.18,
         12.45,
         51.83,
         3
        ],
        [
         "C1628",
         40.83,
         20.41,
         19.38,
         21.45,
         2
        ],
        [
         "C1829",
         170.52,
         34.1,
         12.47,
         63.94,
         5
        ],
        [
         "C1305",
         26.48,
         26.48,
         26.48,
         26.48,
         1
        ],
        [
         "C1774",
         92.38,
         46.19,
         19.95,
         72.43,
         2
        ],
        [
         "C1917",
         127.19,
         25.44,
         1.28,
         56.56,
         5
        ],
        [
         "C1189",
         99.02,
         24.75,
         1.82,
         45.25,
         4
        ],
        [
         "C1194",
         27.74,
         13.87,
         1.82,
         25.92,
         2
        ],
        [
         "C1665",
         70.31,
         23.44,
         4.71,
         54.47,
         3
        ],
        [
         "C1482",
         109.07,
         54.53,
         29.73,
         79.34,
         2
        ],
        [
         "C1586",
         95.33,
         47.67,
         45.38,
         49.95,
         2
        ],
        [
         "C1729",
         48790.97,
         4879.1,
         2.69,
         48323.58,
         10
        ],
        [
         "C1358",
         140.15,
         28.03,
         14.7,
         41.09,
         5
        ],
        [
         "C1096",
         212.36,
         42.47,
         23.68,
         66.84,
         5
        ],
        [
         "C1852",
         102.98,
         25.74,
         6.91,
         41.71,
         4
        ],
        [
         "C1212",
         99.23,
         49.61,
         48.17,
         51.06,
         2
        ],
        [
         "C1642",
         30.73,
         15.36,
         1.6,
         29.13,
         2
        ],
        [
         "C1520",
         88.68,
         29.56,
         5.64,
         74.08,
         3
        ],
        [
         "C1623",
         116.3,
         29.07,
         6.85,
         44.5,
         4
        ],
        [
         "C1704",
         44918.98,
         11229.75,
         15.72,
         44859.8,
         4
        ],
        [
         "C1815",
         266.76,
         44.46,
         24.43,
         72.89,
         6
        ],
        [
         "C1491",
         146.87,
         48.96,
         20.68,
         68.65,
         3
        ],
        [
         "C1195",
         90.55,
         22.64,
         13.35,
         35.0,
         4
        ],
        [
         "C1454",
         114.28,
         28.57,
         5.17,
         77.31,
         4
        ],
        [
         "C1173",
         58.44,
         58.44,
         58.44,
         58.44,
         1
        ],
        [
         "C1740",
         137.13,
         68.56,
         44.79,
         92.34,
         2
        ],
        [
         "C1943",
         62.45,
         20.82,
         10.2,
         35.46,
         3
        ],
        [
         "C1649",
         52876.02,
         13219.01,
         15.81,
         52709.78,
         4
        ],
        [
         "C1396",
         65.84,
         32.92,
         24.11,
         41.73,
         2
        ],
        [
         "C1023",
         106.44,
         35.48,
         3.47,
         64.37,
         3
        ],
        [
         "C1498",
         69.87,
         34.93,
         12.23,
         57.64,
         2
        ],
        [
         "C1947",
         35159.1,
         17579.55,
         3.94,
         35155.16,
         2
        ],
        [
         "C1798",
         127.62,
         31.91,
         1.0,
         110.47,
         4
        ],
        [
         "C1769",
         87.08,
         21.77,
         12.31,
         33.2,
         4
        ],
        [
         "C1337",
         24.49,
         24.49,
         24.49,
         24.49,
         1
        ],
        [
         "C1703",
         173.24,
         43.31,
         26.78,
         51.91,
         4
        ],
        [
         "C1036",
         135.58,
         27.12,
         20.89,
         38.5,
         5
        ],
        [
         "C1114",
         152.5,
         50.83,
         11.79,
         102.18,
         3
        ],
        [
         "C1934",
         100.21,
         25.05,
         3.42,
         45.46,
         4
        ],
        [
         "C1918",
         54.88,
         54.88,
         54.88,
         54.88,
         1
        ],
        [
         "C1732",
         178.99,
         44.75,
         15.43,
         99.62,
         4
        ],
        [
         "C1321",
         168.51,
         56.17,
         4.29,
         103.39,
         3
        ],
        [
         "C1328",
         203.85,
         40.77,
         3.55,
         96.06,
         5
        ],
        [
         "C1542",
         96.28,
         24.07,
         5.15,
         74.69,
         4
        ],
        [
         "C1127",
         22.64,
         11.32,
         2.57,
         20.07,
         2
        ],
        [
         "C1570",
         14422.54,
         4807.51,
         39.83,
         14327.18,
         3
        ],
        [
         "C1600",
         34.47,
         17.24,
         8.53,
         25.94,
         2
        ],
        [
         "C1952",
         65809.13,
         21936.38,
         15.8,
         53926.23,
         3
        ],
        [
         "C1526",
         159.02,
         79.51,
         16.93,
         142.09,
         2
        ],
        [
         "C1485",
         76344.17,
         19086.04,
         12.25,
         76297.91,
         4
        ],
        [
         "C1608",
         35.66,
         11.89,
         1.1,
         21.41,
         3
        ],
        [
         "C1507",
         113.28,
         28.32,
         1.94,
         46.24,
         4
        ],
        [
         "C1937",
         152.99,
         38.25,
         24.28,
         49.38,
         4
        ],
        [
         "C1359",
         133.88,
         44.63,
         24.25,
         60.85,
         3
        ],
        [
         "C1020",
         1.1,
         1.1,
         1.1,
         1.1,
         1
        ],
        [
         "C1558",
         118.18,
         59.09,
         4.04,
         114.14,
         2
        ],
        [
         "C1717",
         197.83,
         28.26,
         3.22,
         70.65,
         7
        ],
        [
         "C1322",
         86.94,
         21.74,
         8.05,
         41.18,
         4
        ],
        [
         "C1186",
         147.24,
         36.81,
         14.01,
         57.29,
         4
        ],
        [
         "C1893",
         137.95,
         27.59,
         4.3,
         58.28,
         5
        ],
        [
         "C1658",
         164.52,
         82.26,
         78.99,
         85.53,
         2
        ],
        [
         "C1587",
         130.88,
         65.44,
         23.41,
         107.47,
         2
        ],
        [
         "C1030",
         74.54,
         18.63,
         3.27,
         35.75,
         4
        ],
        [
         "C1462",
         203.84,
         33.97,
         1.0,
         73.54,
         6
        ],
        [
         "C1076",
         108.28,
         27.07,
         5.76,
         52.48,
         4
        ],
        [
         "C1156",
         10721.36,
         2680.34,
         7.51,
         10635.92,
         4
        ],
        [
         "C1662",
         59.63,
         59.63,
         59.63,
         59.63,
         1
        ],
        [
         "C1859",
         41.83,
         20.91,
         9.16,
         32.67,
         2
        ],
        [
         "C1332",
         145.52,
         36.38,
         7.35,
         68.43,
         4
        ],
        [
         "C1118",
         112940.35,
         22588.07,
         14.9,
         78435.67,
         5
        ],
        [
         "C1759",
         49.42,
         12.36,
         4.51,
         30.08,
         4
        ],
        [
         "C1668",
         136.54,
         27.31,
         1.3,
         86.48,
         5
        ],
        [
         "C1854",
         43.26,
         21.63,
         3.58,
         39.68,
         2
        ],
        [
         "C1559",
         62.72,
         20.91,
         8.65,
         44.33,
         3
        ],
        [
         "C1479",
         101.55,
         33.85,
         13.77,
         52.5,
         3
        ],
        [
         "C1300",
         169.1,
         42.27,
         11.95,
         100.18,
         4
        ],
        [
         "C1549",
         21.2,
         21.2,
         21.2,
         21.2,
         1
        ],
        [
         "C1552",
         60.59,
         30.3,
         20.43,
         40.16,
         2
        ],
        [
         "C1609",
         212.57,
         42.51,
         15.93,
         99.09,
         5
        ],
        [
         "C1115",
         193.31,
         48.33,
         17.23,
         73.67,
         4
        ],
        [
         "C1409",
         168.41,
         42.1,
         16.77,
         59.31,
         4
        ],
        [
         "C1239",
         79.2,
         19.8,
         1.3,
         47.94,
         4
        ],
        [
         "C1908",
         66.4,
         33.2,
         10.05,
         56.35,
         2
        ],
        [
         "C1110",
         50480.89,
         25240.44,
         83.96,
         50396.93,
         2
        ],
        [
         "C1585",
         120312.89,
         30078.22,
         17.25,
         88306.93,
         4
        ],
        [
         "C1375",
         71.77,
         71.77,
         71.77,
         71.77,
         1
        ],
        [
         "C1675",
         91.61,
         22.9,
         8.58,
         35.97,
         4
        ],
        [
         "C1706",
         198.54,
         49.63,
         43.26,
         58.73,
         4
        ],
        [
         "C1601",
         74.68,
         24.89,
         2.24,
         42.75,
         3
        ],
        [
         "C1879",
         136.14,
         27.23,
         1.1,
         48.33,
         5
        ],
        [
         "C1574",
         62.85,
         31.42,
         8.18,
         54.67,
         2
        ],
        [
         "C1543",
         115.41,
         28.85,
         16.2,
         48.02,
         4
        ],
        [
         "C1974",
         47.25,
         23.63,
         16.24,
         31.01,
         2
        ],
        [
         "C1131",
         147.34,
         24.56,
         3.13,
         51.99,
         6
        ],
        [
         "C1951",
         180.61,
         45.15,
         23.86,
         65.98,
         4
        ],
        [
         "C1837",
         83304.65,
         11900.66,
         3.83,
         83126.79,
         7
        ],
        [
         "C1534",
         70643.11,
         14128.62,
         1.1,
         70515.9,
         5
        ],
        [
         "C1811",
         145.47,
         29.09,
         1.24,
         51.14,
         5
        ],
        [
         "C1284",
         25.62,
         12.81,
         1.1,
         24.52,
         2
        ],
        [
         "C1314",
         122.62,
         24.52,
         5.39,
         54.1,
         5
        ],
        [
         "C1625",
         33.09,
         33.09,
         33.09,
         33.09,
         1
        ],
        [
         "C1767",
         74.23,
         24.74,
         14.03,
         30.64,
         3
        ],
        [
         "C1267",
         107.36,
         26.84,
         5.25,
         57.73,
         4
        ],
        [
         "C1699",
         28.57,
         28.57,
         28.57,
         28.57,
         1
        ],
        [
         "C1536",
         66.38,
         33.19,
         29.18,
         37.2,
         2
        ],
        [
         "C1079",
         39401.02,
         19700.51,
         52.05,
         39348.97,
         2
        ],
        [
         "C1144",
         158.2,
         39.55,
         7.93,
         63.43,
         4
        ],
        [
         "C1001",
         98.68,
         98.68,
         98.68,
         98.68,
         1
        ],
        [
         "C1349",
         239.69,
         59.92,
         14.26,
         114.31,
         4
        ],
        [
         "C1707",
         65398.72,
         32699.36,
         8.55,
         65390.17,
         2
        ],
        [
         "C1661",
         38223.27,
         6370.54,
         5.67,
         38155.86,
         6
        ],
        [
         "C1743",
         146.02,
         48.67,
         34.12,
         61.56,
         3
        ],
        [
         "C1119",
         42.63,
         21.32,
         8.84,
         33.79,
         2
        ],
        [
         "C1086",
         119.35,
         39.78,
         19.45,
         69.23,
         3
        ],
        [
         "C1473",
         61.6,
         30.8,
         4.86,
         56.74,
         2
        ],
        [
         "C1932",
         123.55,
         30.89,
         4.5,
         54.29,
         4
        ],
        [
         "C1055",
         11.07,
         11.07,
         11.07,
         11.07,
         1
        ],
        [
         "C1910",
         36.92,
         36.92,
         36.92,
         36.92,
         1
        ],
        [
         "C1844",
         66.33,
         33.17,
         17.25,
         49.08,
         2
        ],
        [
         "C1081",
         44303.75,
         8860.75,
         30.14,
         44116.01,
         5
        ],
        [
         "C1827",
         219.51,
         73.17,
         27.89,
         97.96,
         3
        ],
        [
         "C1855",
         78.55,
         26.18,
         1.1,
         43.86,
         3
        ],
        [
         "C1290",
         131.94,
         26.39,
         5.76,
         55.72,
         5
        ],
        [
         "C1181",
         77.13,
         19.28,
         3.04,
         57.38,
         4
        ],
        [
         "C1386",
         57979.76,
         28989.88,
         10.91,
         57968.85,
         2
        ],
        [
         "C1109",
         129.89,
         25.98,
         5.76,
         82.3,
         5
        ],
        [
         "C1599",
         243.03,
         48.61,
         1.55,
         72.43,
         5
        ],
        [
         "C1723",
         11.76,
         5.88,
         1.78,
         9.98,
         2
        ],
        [
         "C1053",
         159.95,
         39.99,
         18.55,
         65.09,
         4
        ],
        [
         "C1909",
         49606.51,
         12401.63,
         17.12,
         49538.11,
         4
        ],
        [
         "C1547",
         203.08,
         33.85,
         6.69,
         77.39,
         6
        ],
        [
         "C1618",
         212.48,
         42.5,
         13.24,
         67.52,
         5
        ],
        [
         "C1056",
         60.2,
         60.2,
         60.2,
         60.2,
         1
        ],
        [
         "C1304",
         71701.05,
         14340.21,
         34.38,
         71347.57,
         5
        ],
        [
         "C1283",
         189.36,
         47.34,
         17.73,
         114.95,
         4
        ],
        [
         "C1933",
         27.72,
         13.86,
         1.0,
         26.72,
         2
        ],
        [
         "C1157",
         109.58,
         36.53,
         25.49,
         49.12,
         3
        ],
        [
         "C1694",
         137.51,
         27.5,
         2.19,
         65.95,
         5
        ],
        [
         "C1348",
         102.78,
         34.26,
         14.03,
         53.34,
         3
        ],
        [
         "C1263",
         85.43,
         42.72,
         16.89,
         68.54,
         2
        ],
        [
         "C1355",
         133.84,
         26.77,
         5.62,
         60.68,
         5
        ],
        [
         "C1294",
         80.1,
         26.7,
         1.0,
         46.55,
         3
        ],
        [
         "C1863",
         77.93,
         19.48,
         1.0,
         39.96,
         4
        ],
        [
         "C1796",
         34.9,
         34.9,
         34.9,
         34.9,
         1
        ],
        [
         "C1629",
         42.97,
         21.49,
         3.82,
         39.15,
         2
        ],
        [
         "C1876",
         181.15,
         45.29,
         10.49,
         92.21,
         4
        ],
        [
         "C1684",
         187.72,
         23.47,
         1.12,
         58.35,
         8
        ],
        [
         "C1249",
         67.61,
         22.54,
         8.47,
         34.36,
         3
        ],
        [
         "C1502",
         104.4,
         20.88,
         3.82,
         43.73,
         5
        ],
        [
         "C1028",
         127.63,
         31.91,
         17.86,
         46.76,
         4
        ],
        [
         "C1385",
         67.36,
         33.68,
         13.57,
         53.79,
         2
        ],
        [
         "C1768",
         100.04,
         25.01,
         1.3,
         76.19,
         4
        ],
        [
         "C1970",
         187.55,
         26.79,
         8.86,
         58.35,
         7
        ],
        [
         "C1582",
         108.19,
         36.06,
         32.86,
         39.68,
         3
        ],
        [
         "C1433",
         242.71,
         60.68,
         34.03,
         92.48,
         4
        ],
        [
         "C1839",
         190.76,
         31.79,
         13.36,
         52.24,
         6
        ],
        [
         "C1041",
         58.01,
         19.34,
         7.8,
         25.29,
         3
        ],
        [
         "C1801",
         81189.27,
         13531.54,
         4.52,
         81016.23,
         6
        ],
        [
         "C1915",
         69.5,
         23.17,
         18.64,
         27.31,
         3
        ],
        [
         "C1237",
         143.22,
         28.64,
         5.14,
         96.81,
         5
        ],
        [
         "C1595",
         24.71,
         24.71,
         24.71,
         24.71,
         1
        ],
        [
         "C1686",
         86.84,
         28.95,
         17.72,
         48.45,
         3
        ],
        [
         "C1631",
         57.03,
         19.01,
         8.03,
         36.78,
         3
        ],
        [
         "C1891",
         297.01,
         37.13,
         8.18,
         71.54,
         8
        ],
        [
         "C1797",
         71.31,
         35.65,
         21.99,
         49.32,
         2
        ],
        [
         "C1961",
         30.95,
         15.48,
         8.0,
         22.95,
         2
        ],
        [
         "C1674",
         104.57,
         34.86,
         15.18,
         61.08,
         3
        ],
        [
         "C1591",
         23662.65,
         4732.53,
         5.66,
         23583.18,
         5
        ],
        [
         "C1336",
         312.06,
         62.41,
         16.64,
         84.85,
         5
        ],
        [
         "C1627",
         209.26,
         34.88,
         16.67,
         88.79,
         6
        ],
        [
         "C1889",
         215.09,
         43.02,
         8.55,
         74.37,
         5
        ],
        [
         "C1648",
         386.7,
         77.34,
         9.14,
         143.86,
         5
        ],
        [
         "C1824",
         225.4,
         32.2,
         5.12,
         70.37,
         7
        ],
        [
         "C1535",
         59.35,
         59.35,
         59.35,
         59.35,
         1
        ],
        [
         "C1058",
         133.64,
         33.41,
         2.63,
         56.8,
         4
        ],
        [
         "C1004",
         252.1,
         50.42,
         18.28,
         74.9,
         5
        ],
        [
         "C1753",
         219.7,
         54.92,
         15.7,
         87.89,
         4
        ],
        [
         "C1146",
         52.95,
         17.65,
         2.24,
         28.36,
         3
        ],
        [
         "C1792",
         14.46,
         4.82,
         2.92,
         8.26,
         3
        ],
        [
         "C1726",
         18.92,
         6.31,
         3.67,
         10.7,
         3
        ],
        [
         "C1169",
         129.43,
         32.36,
         7.82,
         47.66,
         4
        ],
        [
         "C1903",
         50.44,
         50.44,
         50.44,
         50.44,
         1
        ],
        [
         "C1461",
         154.56,
         38.64,
         15.22,
         54.57,
         4
        ],
        [
         "C1318",
         132.09,
         33.02,
         5.46,
         63.87,
         4
        ],
        [
         "C1345",
         81.81,
         81.81,
         81.81,
         81.81,
         1
        ],
        [
         "C1388",
         98.99,
         49.5,
         8.45,
         90.54,
         2
        ],
        [
         "C1806",
         70027.87,
         35013.93,
         39.25,
         69988.62,
         2
        ],
        [
         "C1780",
         81.88,
         40.94,
         10.91,
         70.97,
         2
        ],
        [
         "C1450",
         60.66,
         12.13,
         3.84,
         18.69,
         5
        ],
        [
         "C1660",
         144.84,
         48.28,
         19.29,
         65.87,
         3
        ],
        [
         "C1193",
         73.34,
         36.67,
         1.34,
         72.0,
         2
        ],
        [
         "C1998",
         72.26,
         36.13,
         27.59,
         44.67,
         2
        ],
        [
         "C1341",
         284.16,
         56.83,
         24.92,
         83.02,
         5
        ],
        [
         "C1468",
         95.32,
         47.66,
         38.28,
         57.04,
         2
        ],
        [
         "C1728",
         44901.74,
         8980.35,
         16.07,
         44780.46,
         5
        ],
        [
         "C1280",
         56.27,
         18.76,
         11.13,
         23.02,
         3
        ],
        [
         "C1051",
         95.85,
         95.85,
         95.85,
         95.85,
         1
        ],
        [
         "C1527",
         188.13,
         47.03,
         19.88,
         73.8,
         4
        ],
        [
         "C1568",
         111.87,
         27.97,
         2.78,
         58.08,
         4
        ],
        [
         "C1204",
         48.09,
         24.05,
         17.3,
         30.79,
         2
        ],
        [
         "C1179",
         265.97,
         88.66,
         35.76,
         134.99,
         3
        ],
        [
         "C1293",
         73.21,
         36.6,
         14.93,
         58.28,
         2
        ],
        [
         "C1291",
         1.39,
         1.39,
         1.39,
         1.39,
         1
        ],
        [
         "C1646",
         40.31,
         13.44,
         4.48,
         17.97,
         3
        ],
        [
         "C1344",
         17036.51,
         3407.3,
         24.27,
         16911.25,
         5
        ],
        [
         "C1635",
         11687.31,
         2337.46,
         14.3,
         11561.1,
         5
        ],
        [
         "C1835",
         61.64,
         30.82,
         25.16,
         36.48,
         2
        ],
        [
         "C1551",
         121.15,
         30.29,
         4.31,
         55.59,
         4
        ],
        [
         "C1980",
         50.64,
         25.32,
         1.99,
         48.65,
         2
        ],
        [
         "C1942",
         117.86,
         39.29,
         2.07,
         85.75,
         3
        ],
        [
         "C1497",
         17.99,
         17.99,
         17.99,
         17.99,
         1
        ],
        [
         "C1054",
         149.24,
         21.32,
         5.37,
         41.58,
         7
        ],
        [
         "C1007",
         174.86,
         58.29,
         24.39,
         77.06,
         3
        ],
        [
         "C1155",
         95.39,
         23.85,
         5.84,
         44.1,
         4
        ],
        [
         "C1338",
         174.12,
         34.82,
         8.15,
         79.04,
         5
        ],
        [
         "C1653",
         29.72,
         29.72,
         29.72,
         29.72,
         1
        ],
        [
         "C1800",
         1.0,
         1.0,
         1.0,
         1.0,
         1
        ],
        [
         "C1374",
         1.29,
         1.29,
         1.29,
         1.29,
         1
        ],
        [
         "C1531",
         53548.11,
         8924.69,
         17.33,
         53332.57,
         6
        ],
        [
         "C1027",
         91.34,
         22.84,
         3.0,
         39.54,
         4
        ],
        [
         "C1487",
         66646.46,
         13329.29,
         10.42,
         66502.86,
         5
        ],
        [
         "C1241",
         16.52,
         16.52,
         16.52,
         16.52,
         1
        ],
        [
         "C1178",
         76.19,
         76.19,
         76.19,
         76.19,
         1
        ],
        [
         "C1650",
         100.22,
         33.41,
         20.48,
         43.03,
         3
        ],
        [
         "C1799",
         208.88,
         34.81,
         14.74,
         51.1,
         6
        ],
        [
         "C1610",
         109956.11,
         21991.22,
         5.8,
         109885.16,
         5
        ],
        [
         "C1366",
         85.56,
         21.39,
         1.3,
         35.11,
         4
        ],
        [
         "C1247",
         233.11,
         58.28,
         11.9,
         98.16,
         4
        ],
        [
         "C1236",
         63.49,
         63.49,
         63.49,
         63.49,
         1
        ],
        [
         "C1277",
         31.33,
         31.33,
         31.33,
         31.33,
         1
        ],
        [
         "C1564",
         125.57,
         25.11,
         6.05,
         50.62,
         5
        ],
        [
         "C1039",
         24350.2,
         2705.58,
         6.8,
         24051.22,
         9
        ],
        [
         "C1673",
         99.9,
         33.3,
         1.1,
         72.59,
         3
        ],
        [
         "C1398",
         163.69,
         54.56,
         36.09,
         86.67,
         3
        ],
        [
         "C1981",
         164.56,
         41.14,
         2.25,
         114.62,
         4
        ],
        [
         "C1530",
         375.86,
         41.76,
         1.34,
         97.17,
         9
        ],
        [
         "C1403",
         46.56,
         46.56,
         46.56,
         46.56,
         1
        ],
        [
         "C1415",
         99366.3,
         24841.58,
         22.54,
         99168.39,
         4
        ],
        [
         "C1537",
         64688.01,
         32344.01,
         24.75,
         64663.26,
         2
        ],
        [
         "C1592",
         72.99,
         24.33,
         7.76,
         47.74,
         3
        ],
        [
         "C1956",
         42.27,
         10.57,
         3.77,
         16.18,
         4
        ],
        [
         "C1906",
         164.38,
         41.09,
         16.39,
         83.61,
         4
        ],
        [
         "C1022",
         23.76,
         11.88,
         3.99,
         19.77,
         2
        ],
        [
         "C1639",
         36.17,
         18.09,
         17.85,
         18.32,
         2
        ],
        [
         "C1687",
         15.87,
         15.87,
         15.87,
         15.87,
         1
        ],
        [
         "C1206",
         160.74,
         32.15,
         11.02,
         53.61,
         5
        ],
        [
         "C1094",
         176.29,
         88.15,
         54.78,
         121.51,
         2
        ],
        [
         "C1025",
         183.19,
         61.06,
         4.13,
         102.26,
         3
        ],
        [
         "C1082",
         86.62,
         86.62,
         86.62,
         86.62,
         1
        ],
        [
         "C1214",
         98.64,
         49.32,
         33.29,
         65.35,
         2
        ],
        [
         "C1838",
         4.72,
         2.36,
         1.1,
         3.62,
         2
        ],
        [
         "C1869",
         177.29,
         59.1,
         42.77,
         74.56,
         3
        ],
        [
         "C1078",
         3.8,
         3.8,
         3.8,
         3.8,
         1
        ],
        [
         "C1731",
         35.26,
         17.63,
         9.09,
         26.17,
         2
        ],
        [
         "C1139",
         117.14,
         29.28,
         12.58,
         65.67,
         4
        ],
        [
         "C1664",
         109.48,
         21.9,
         2.93,
         39.48,
         5
        ],
        [
         "C1183",
         131.07,
         21.85,
         1.58,
         58.13,
         6
        ],
        [
         "C1722",
         26.35,
         26.35,
         26.35,
         26.35,
         1
        ],
        [
         "C1886",
         83.38,
         41.69,
         33.32,
         50.06,
         2
        ],
        [
         "C1988",
         190.81,
         31.8,
         8.89,
         76.96,
         6
        ],
        [
         "C1295",
         377.83,
         53.98,
         5.64,
         109.24,
         7
        ],
        [
         "C1253",
         167.1,
         41.78,
         11.57,
         70.08,
         4
        ],
        [
         "C1411",
         28855.15,
         14427.58,
         28.57,
         28826.58,
         2
        ],
        [
         "C1012",
         207.73,
         29.68,
         1.3,
         66.76,
         7
        ],
        [
         "C1890",
         142.45,
         47.48,
         18.41,
         78.27,
         3
        ],
        [
         "C1927",
         57423.56,
         19141.19,
         31.23,
         57353.43,
         3
        ],
        [
         "C1205",
         127.74,
         42.58,
         17.97,
         70.68,
         3
        ],
        [
         "C1330",
         52.74,
         17.58,
         7.92,
         24.36,
         3
        ],
        [
         "C1616",
         4.78,
         4.78,
         4.78,
         4.78,
         1
        ],
        [
         "C1825",
         43390.39,
         43390.39,
         43390.39,
         43390.39,
         1
        ],
        [
         "C1302",
         93.77,
         23.44,
         4.78,
         47.48,
         4
        ],
        [
         "C1931",
         48.08,
         12.02,
         3.95,
         27.6,
         4
        ],
        [
         "C1434",
         38.54,
         19.27,
         17.61,
         20.93,
         2
        ],
        [
         "C1528",
         318.25,
         45.46,
         10.62,
         90.74,
         7
        ],
        [
         "C1315",
         90640.21,
         22660.05,
         21.38,
         90559.31,
         4
        ],
        [
         "C1971",
         112.94,
         22.59,
         3.03,
         41.72,
         5
        ],
        [
         "C1807",
         162.45,
         40.61,
         19.46,
         74.39,
         4
        ],
        [
         "C1378",
         116.84,
         58.42,
         19.38,
         97.46,
         2
        ],
        [
         "C1851",
         277.95,
         69.49,
         40.35,
         108.98,
         4
        ],
        [
         "C1718",
         281.01,
         70.25,
         17.56,
         149.34,
         4
        ],
        [
         "C1250",
         149.24,
         49.75,
         22.23,
         80.12,
         3
        ],
        [
         "C1390",
         87202.08,
         29067.36,
         6.72,
         87155.61,
         3
        ],
        [
         "C1555",
         49.68,
         16.56,
         5.6,
         28.19,
         3
        ],
        [
         "C1865",
         30316.53,
         4330.93,
         11.8,
         30149.11,
         7
        ],
        [
         "C1719",
         99052.27,
         11005.81,
         9.17,
         98815.05,
         9
        ],
        [
         "C1702",
         170547.04,
         42636.76,
         21.59,
         120589.25,
         4
        ],
        [
         "C1261",
         107.95,
         53.98,
         22.62,
         85.33,
         2
        ],
        [
         "C1679",
         113.79,
         28.45,
         12.21,
         60.19,
         4
        ],
        [
         "C1123",
         39082.64,
         19541.32,
         42.23,
         39040.41,
         2
        ],
        [
         "C1326",
         125.4,
         31.35,
         1.65,
         66.21,
         4
        ],
        [
         "C1217",
         174.45,
         58.15,
         34.92,
         81.59,
         3
        ],
        [
         "C1335",
         125.4,
         31.35,
         7.44,
         69.16,
         4
        ],
        [
         "C1397",
         111.62,
         37.21,
         6.67,
         94.19,
         3
        ],
        [
         "C1874",
         65.64,
         32.82,
         31.55,
         34.09,
         2
        ],
        [
         "C1620",
         111.82,
         55.91,
         14.66,
         97.16,
         2
        ],
        [
         "C1233",
         119.59,
         23.92,
         1.3,
         37.59,
         5
        ],
        [
         "C1026",
         213.88,
         42.78,
         7.41,
         88.44,
         5
        ],
        [
         "C1866",
         109.43,
         36.48,
         22.45,
         48.73,
         3
        ],
        [
         "C1418",
         27782.84,
         6945.71,
         10.98,
         27645.27,
         4
        ],
        [
         "C1191",
         103.03,
         34.34,
         18.7,
         63.82,
         3
        ],
        [
         "C1678",
         7.21,
         7.21,
         7.21,
         7.21,
         1
        ],
        [
         "C1841",
         32.43,
         16.22,
         2.43,
         30.0,
         2
        ],
        [
         "C1580",
         130.3,
         32.58,
         18.57,
         68.87,
         4
        ],
        [
         "C1188",
         288.45,
         48.08,
         29.78,
         85.24,
         6
        ],
        [
         "C1765",
         110.45,
         36.82,
         24.4,
         56.16,
         3
        ],
        [
         "C1303",
         125.16,
         25.03,
         1.1,
         52.06,
         5
        ],
        [
         "C1772",
         32.17,
         32.17,
         32.17,
         32.17,
         1
        ],
        [
         "C1441",
         121.87,
         40.62,
         18.14,
         69.96,
         3
        ],
        [
         "C1317",
         90.14,
         22.54,
         6.45,
         55.33,
         4
        ],
        [
         "C1563",
         67.22,
         33.61,
         14.47,
         52.75,
         2
        ],
        [
         "C1761",
         229.58,
         38.26,
         17.78,
         67.62,
         6
        ],
        [
         "C1517",
         59.83,
         59.83,
         59.83,
         59.83,
         1
        ],
        [
         "C1715",
         151.71,
         37.93,
         3.16,
         73.89,
         4
        ],
        [
         "C1676",
         262.81,
         65.7,
         36.58,
         102.73,
         4
        ],
        [
         "C1928",
         15.9,
         15.9,
         15.9,
         15.9,
         1
        ],
        [
         "C1457",
         128.31,
         42.77,
         22.02,
         82.92,
         3
        ],
        [
         "C1340",
         374.13,
         53.45,
         1.58,
         129.97,
         7
        ],
        [
         "C1831",
         119.98,
         119.98,
         119.98,
         119.98,
         1
        ],
        [
         "C1763",
         204.23,
         40.85,
         4.24,
         85.41,
         5
        ],
        [
         "C1140",
         37.87,
         12.62,
         2.01,
         25.74,
         3
        ],
        [
         "C1444",
         52076.48,
         17358.83,
         43.1,
         51907.01,
         3
        ],
        [
         "C1463",
         95.05,
         31.68,
         25.71,
         36.49,
         3
        ],
        [
         "C1667",
         81.72,
         40.86,
         25.57,
         56.15,
         2
        ],
        [
         "C1423",
         176.49,
         35.3,
         17.65,
         53.7,
         5
        ],
        [
         "C1446",
         49.72,
         16.57,
         1.47,
         26.15,
         3
        ],
        [
         "C1135",
         147.94,
         49.31,
         7.81,
         72.63,
         3
        ],
        [
         "C1850",
         37.43,
         37.43,
         37.43,
         37.43,
         1
        ],
        [
         "C1681",
         222.09,
         44.42,
         19.17,
         83.45,
         5
        ],
        [
         "C1518",
         163.75,
         54.58,
         35.88,
         85.11,
         3
        ],
        [
         "C1320",
         237.2,
         39.53,
         6.93,
         107.35,
         6
        ],
        [
         "C1226",
         92.33,
         46.17,
         8.25,
         84.08,
         2
        ],
        [
         "C1132",
         30.99,
         30.99,
         30.99,
         30.99,
         1
        ],
        [
         "C1916",
         133.58,
         66.79,
         42.28,
         91.3,
         2
        ],
        [
         "C1376",
         165.25,
         33.05,
         23.59,
         57.55,
         5
        ],
        [
         "C1347",
         43947.69,
         14649.23,
         11.41,
         43902.13,
         3
        ],
        [
         "C1121",
         39.74,
         39.74,
         39.74,
         39.74,
         1
        ],
        [
         "C1652",
         67.94,
         33.97,
         6.4,
         61.54,
         2
        ],
        [
         "C1306",
         260.3,
         65.07,
         19.41,
         106.42,
         4
        ],
        [
         "C1708",
         9.19,
         4.6,
         2.62,
         6.57,
         2
        ],
        [
         "C1342",
         50.23,
         50.23,
         50.23,
         50.23,
         1
        ],
        [
         "C1666",
         34397.03,
         5732.84,
         1.0,
         34251.96,
         6
        ],
        [
         "C1384",
         76921.94,
         25640.65,
         23.7,
         76853.39,
         3
        ],
        [
         "C1923",
         10226.45,
         2556.61,
         19.24,
         10121.34,
         4
        ],
        [
         "C1024",
         23125.42,
         4625.08,
         1.8,
         22970.74,
         5
        ],
        [
         "C1720",
         129.93,
         64.97,
         22.24,
         107.69,
         2
        ],
        [
         "C1245",
         63.66,
         12.73,
         5.34,
         20.93,
         5
        ],
        [
         "C1896",
         57.02,
         28.51,
         9.19,
         47.83,
         2
        ],
        [
         "C1040",
         35526.93,
         17763.46,
         1.0,
         35525.93,
         2
        ],
        [
         "C1567",
         125.73,
         41.91,
         36.3,
         47.85,
         3
        ],
        [
         "C1407",
         43.69,
         43.69,
         43.69,
         43.69,
         1
        ],
        [
         "C1862",
         71.72,
         17.93,
         3.5,
         42.83,
         4
        ],
        [
         "C1562",
         62.3,
         62.3,
         62.3,
         62.3,
         1
        ],
        [
         "C1489",
         66254.62,
         22084.87,
         99.45,
         66049.97,
         3
        ],
        [
         "C1713",
         86.06,
         43.03,
         26.94,
         59.12,
         2
        ],
        [
         "C1101",
         38.28,
         19.14,
         9.15,
         29.13,
         2
        ],
        [
         "C1416",
         145.72,
         36.43,
         4.0,
         54.02,
         4
        ],
        [
         "C1281",
         154.4,
         38.6,
         28.4,
         50.75,
         4
        ],
        [
         "C1073",
         45.55,
         22.78,
         18.11,
         27.44,
         2
        ],
        [
         "C1382",
         126795.33,
         42265.11,
         17.96,
         126743.93,
         3
        ],
        [
         "C1995",
         117.73,
         58.86,
         14.73,
         103.0,
         2
        ],
        [
         "C1967",
         230.64,
         57.66,
         14.42,
         95.61,
         4
        ],
        [
         "C1553",
         69275.19,
         11545.87,
         4.41,
         69068.82,
         6
        ],
        [
         "C1857",
         26770.99,
         5354.2,
         10.41,
         26704.25,
         5
        ],
        [
         "C1603",
         162.1,
         40.52,
         15.88,
         68.78,
         4
        ],
        [
         "C1333",
         117.54,
         29.38,
         7.95,
         50.53,
         4
        ],
        [
         "C1659",
         97.44,
         48.72,
         33.35,
         64.09,
         2
        ],
        [
         "C1116",
         90.16,
         22.54,
         2.9,
         56.31,
         4
        ],
        [
         "C1596",
         15457.11,
         3864.28,
         9.09,
         15420.28,
         4
        ],
        [
         "C1373",
         18.56,
         18.56,
         18.56,
         18.56,
         1
        ],
        [
         "C1000",
         104.0,
         34.67,
         18.71,
         46.91,
         3
        ],
        [
         "C1560",
         69400.52,
         17350.13,
         25.82,
         69234.88,
         4
        ],
        [
         "C1739",
         45.12,
         22.56,
         9.46,
         35.66,
         2
        ],
        [
         "C1425",
         96.25,
         48.13,
         36.97,
         59.28,
         2
        ],
        [
         "C1460",
         200.77,
         50.19,
         10.32,
         84.24,
         4
        ],
        [
         "C1745",
         89.65,
         89.65,
         89.65,
         89.65,
         1
        ],
        [
         "C1795",
         295.86,
         42.27,
         10.93,
         72.99,
         7
        ],
        [
         "C1142",
         172.93,
         43.23,
         1.64,
         108.98,
         4
        ],
        [
         "C1741",
         143.5,
         28.7,
         9.26,
         45.57,
         5
        ],
        [
         "C1619",
         102.01,
         51.0,
         18.67,
         83.34,
         2
        ],
        [
         "C1671",
         64.55,
         21.52,
         6.43,
         43.41,
         3
        ],
        [
         "C1959",
         93114.98,
         15519.16,
         14.42,
         92973.92,
         6
        ],
        [
         "C1102",
         87861.62,
         17572.32,
         29.52,
         53058.72,
         5
        ],
        [
         "C1996",
         47.13,
         47.13,
         47.13,
         47.13,
         1
        ],
        [
         "C1787",
         60.1,
         60.1,
         60.1,
         60.1,
         1
        ],
        [
         "C1410",
         85412.28,
         21353.07,
         14.0,
         85289.71,
         4
        ],
        [
         "C1316",
         176.28,
         58.76,
         35.1,
         75.14,
         3
        ],
        [
         "C1894",
         191.15,
         31.86,
         16.26,
         55.39,
         6
        ],
        [
         "C1221",
         135.08,
         67.54,
         62.59,
         72.49,
         2
        ],
        [
         "C1953",
         41.99,
         20.99,
         8.87,
         33.12,
         2
        ],
        [
         "C1672",
         59.29,
         29.64,
         12.92,
         46.37,
         2
        ],
        [
         "C1898",
         182.19,
         36.44,
         5.55,
         77.48,
         5
        ],
        [
         "C1954",
         27.7,
         27.7,
         27.7,
         27.7,
         1
        ],
        [
         "C1368",
         13.79,
         13.79,
         13.79,
         13.79,
         1
        ],
        [
         "C1830",
         201.4,
         50.35,
         2.14,
         97.17,
         4
        ],
        [
         "C1669",
         39.98,
         19.99,
         7.84,
         32.14,
         2
        ],
        [
         "C1963",
         62.32,
         31.16,
         6.44,
         55.88,
         2
        ],
        [
         "C1208",
         85294.25,
         17058.85,
         10.31,
         85108.67,
         5
        ],
        [
         "C1762",
         200.6,
         40.12,
         16.96,
         58.63,
         5
        ],
        [
         "C1561",
         173.09,
         86.54,
         40.0,
         133.09,
         2
        ],
        [
         "C1087",
         207.2,
         41.44,
         2.42,
         95.8,
         5
        ],
        [
         "C1477",
         185.52,
         46.38,
         2.62,
         97.32,
         4
        ],
        [
         "C1742",
         111.35,
         55.68,
         29.99,
         81.36,
         2
        ],
        [
         "C1691",
         43.46,
         14.49,
         4.94,
         24.92,
         3
        ],
        [
         "C1990",
         69.69,
         34.85,
         4.32,
         65.37,
         2
        ],
        [
         "C1184",
         107.39,
         26.85,
         18.33,
         32.26,
         4
        ],
        [
         "C1176",
         132.78,
         33.19,
         12.0,
         55.29,
         4
        ],
        [
         "C1331",
         95.81,
         31.94,
         30.91,
         32.79,
         3
        ],
        [
         "C1436",
         22.87,
         11.43,
         10.05,
         12.82,
         2
        ],
        [
         "C1269",
         95.29,
         19.06,
         1.0,
         41.61,
         5
        ],
        [
         "C1696",
         113.12,
         37.71,
         4.65,
         64.43,
         3
        ],
        [
         "C1826",
         42.9,
         42.9,
         42.9,
         42.9,
         1
        ],
        [
         "C1218",
         194.66,
         38.93,
         3.58,
         109.9,
         5
        ],
        [
         "C1129",
         129.22,
         32.3,
         13.08,
         40.46,
         4
        ],
        [
         "C1381",
         144.02,
         48.01,
         20.22,
         65.21,
         3
        ],
        [
         "C1594",
         40.75,
         20.38,
         17.72,
         23.03,
         2
        ],
        [
         "C1288",
         95.6,
         31.87,
         5.92,
         76.12,
         3
        ],
        [
         "C1128",
         25572.44,
         6393.11,
         1.3,
         25438.19,
         4
        ],
        [
         "C1308",
         109.89,
         36.63,
         20.58,
         60.53,
         3
        ],
        [
         "C1992",
         45.98,
         22.99,
         21.57,
         24.41,
         2
        ],
        [
         "C1727",
         298.24,
         49.71,
         6.95,
         101.28,
         6
        ],
        [
         "C1424",
         160.6,
         53.53,
         13.8,
         130.68,
         3
        ],
        [
         "C1090",
         32.97,
         10.99,
         3.46,
         24.27,
         3
        ],
        [
         "C1037",
         42466.53,
         8493.31,
         35.62,
         42270.33,
         5
        ],
        [
         "C1220",
         284.15,
         56.83,
         19.68,
         112.42,
         5
        ],
        [
         "C1758",
         94.46,
         47.23,
         32.21,
         62.25,
         2
        ],
        [
         "C1104",
         20.25,
         20.25,
         20.25,
         20.25,
         1
        ],
        [
         "C1572",
         119.01,
         59.5,
         24.16,
         94.85,
         2
        ],
        [
         "C1941",
         63.52,
         21.17,
         17.88,
         25.22,
         3
        ],
        [
         "C1196",
         151.35,
         30.27,
         4.4,
         58.86,
         5
        ],
        [
         "C1185",
         20053.78,
         4010.76,
         1.99,
         19981.39,
         5
        ],
        [
         "C1455",
         92.03,
         30.68,
         5.03,
         67.17,
         3
        ],
        [
         "C1846",
         47.27,
         23.64,
         13.96,
         33.31,
         2
        ],
        [
         "C1097",
         66800.84,
         22266.95,
         10.46,
         66748.52,
         3
        ],
        [
         "C1258",
         28.58,
         14.29,
         13.93,
         14.65,
         2
        ],
        [
         "C1438",
         35.28,
         35.28,
         35.28,
         35.28,
         1
        ],
        [
         "C1944",
         53035.3,
         17678.43,
         40.26,
         52925.55,
         3
        ],
        [
         "C1888",
         84.04,
         21.01,
         1.1,
         61.03,
         4
        ],
        [
         "C1604",
         163.19,
         40.8,
         7.63,
         57.8,
         4
        ],
        [
         "C1029",
         52.29,
         17.43,
         3.63,
         25.35,
         3
        ],
        [
         "C1354",
         105.49,
         35.16,
         1.3,
         67.67,
         3
        ],
        [
         "C1428",
         144.61,
         48.2,
         10.07,
         87.94,
         3
        ],
        [
         "C1541",
         111.81,
         55.9,
         30.74,
         81.07,
         2
        ],
        [
         "C1063",
         62.27,
         31.14,
         19.45,
         42.82,
         2
        ],
        [
         "C1803",
         104.0,
         34.67,
         6.25,
         59.27,
         3
        ],
        [
         "C1755",
         22.83,
         22.83,
         22.83,
         22.83,
         1
        ],
        [
         "C1805",
         44.19,
         22.1,
         3.92,
         40.27,
         2
        ],
        [
         "C1413",
         11.6,
         11.6,
         11.6,
         11.6,
         1
        ],
        [
         "C1810",
         61314.11,
         10219.02,
         5.66,
         61189.89,
         6
        ],
        [
         "C1429",
         28581.47,
         7145.37,
         29.46,
         28424.47,
         4
        ],
        [
         "C1781",
         164.04,
         41.01,
         13.71,
         86.98,
         4
        ],
        [
         "C1724",
         44.12,
         22.06,
         15.33,
         28.79,
         2
        ],
        [
         "C1714",
         125.25,
         31.31,
         1.3,
         59.63,
         4
        ],
        [
         "C1730",
         125259.15,
         62629.58,
         5.38,
         125253.77,
         2
        ],
        [
         "C1276",
         109.66,
         27.42,
         24.41,
         30.69,
         4
        ],
        [
         "C1519",
         142.57,
         35.64,
         1.1,
         71.06,
         4
        ],
        [
         "C1999",
         9.02,
         9.02,
         9.02,
         9.02,
         1
        ],
        [
         "C1251",
         36.34,
         36.34,
         36.34,
         36.34,
         1
        ],
        [
         "C1298",
         57575.45,
         11515.09,
         1.77,
         57377.81,
         5
        ],
        [
         "C1260",
         67.6,
         16.9,
         1.54,
         33.92,
         4
        ],
        [
         "C1182",
         310.95,
         38.87,
         6.74,
         79.72,
         8
        ],
        [
         "C1509",
         85.61,
         21.4,
         1.1,
         32.85,
         4
        ],
        [
         "C1472",
         77.72,
         38.86,
         27.7,
         50.02,
         2
        ],
        [
         "C1847",
         20.94,
         6.98,
         3.49,
         10.75,
         3
        ],
        [
         "C1522",
         30.37,
         30.37,
         30.37,
         30.37,
         1
        ],
        [
         "C1098",
         177.12,
         44.28,
         14.61,
         74.34,
         4
        ],
        [
         "C1785",
         38.78,
         38.78,
         38.78,
         38.78,
         1
        ],
        [
         "C1108",
         131.41,
         32.85,
         13.88,
         64.04,
         4
        ],
        [
         "C1065",
         44941.43,
         6420.2,
         7.68,
         44737.2,
         7
        ],
        [
         "C1693",
         107913.49,
         35971.16,
         6.79,
         107801.54,
         3
        ],
        [
         "C1070",
         93.7,
         18.74,
         1.35,
         36.35,
         5
        ],
        [
         "C1451",
         99.6,
         49.8,
         45.14,
         54.46,
         2
        ],
        [
         "C1481",
         94639.98,
         15773.33,
         1.22,
         94519.18,
         6
        ],
        [
         "C1939",
         37.31,
         37.31,
         37.31,
         37.31,
         1
        ],
        [
         "C1067",
         98.94,
         24.74,
         1.1,
         43.82,
         4
        ],
        [
         "C1770",
         164.92,
         41.23,
         24.61,
         61.29,
         4
        ],
        [
         "C1683",
         116.54,
         38.85,
         14.96,
         82.83,
         3
        ],
        [
         "C1285",
         122.9,
         24.58,
         10.71,
         43.87,
         5
        ],
        [
         "C1075",
         10.83,
         5.41,
         2.79,
         8.04,
         2
        ],
        [
         "C1005",
         117.41,
         39.14,
         5.01,
         101.68,
         3
        ],
        [
         "C1789",
         83.86,
         41.93,
         14.08,
         69.78,
         2
        ],
        [
         "C1670",
         116.46,
         29.11,
         14.26,
         44.75,
         4
        ],
        [
         "C1265",
         76.96,
         76.96,
         76.96,
         76.96,
         1
        ],
        [
         "C1103",
         53.1,
         17.7,
         9.36,
         22.59,
         3
        ],
        [
         "C1222",
         99.74,
         24.93,
         4.91,
         40.77,
         4
        ],
        [
         "C1259",
         97.66,
         32.55,
         11.15,
         53.48,
         3
        ],
        [
         "C1523",
         47.49,
         15.83,
         7.24,
         28.91,
         3
        ],
        [
         "C1453",
         62.48,
         12.5,
         1.1,
         32.47,
         5
        ],
        [
         "C1626",
         278.82,
         55.76,
         30.19,
         90.09,
         5
        ],
        [
         "C1512",
         64.04,
         16.01,
         3.67,
         35.46,
         4
        ],
        [
         "C1994",
         148.09,
         37.02,
         2.19,
         73.85,
         4
        ],
        [
         "C1871",
         148.97,
         49.66,
         30.19,
         80.68,
         3
        ],
        [
         "C1471",
         243.11,
         30.39,
         1.0,
         60.93,
         8
        ],
        [
         "C1738",
         7.11,
         7.11,
         7.11,
         7.11,
         1
        ],
        [
         "C1083",
         52.34,
         26.17,
         22.66,
         29.68,
         2
        ],
        [
         "C1113",
         71.28,
         71.28,
         71.28,
         71.28,
         1
        ],
        [
         "C1949",
         226.17,
         37.69,
         1.34,
         95.57,
         6
        ],
        [
         "C1068",
         48011.89,
         12002.97,
         4.32,
         47967.51,
         4
        ],
        [
         "C1901",
         183.0,
         36.6,
         11.27,
         76.06,
         5
        ],
        [
         "C1698",
         38.49,
         38.49,
         38.49,
         38.49,
         1
        ],
        [
         "C1107",
         30.16,
         15.08,
         6.29,
         23.87,
         2
        ],
        [
         "C1500",
         253.24,
         42.21,
         13.0,
         79.01,
         6
        ],
        [
         "C1248",
         200.52,
         40.1,
         23.06,
         70.88,
         5
        ],
        [
         "C1864",
         69.88,
         34.94,
         22.07,
         47.81,
         2
        ],
        [
         "C1744",
         75.03,
         37.51,
         15.46,
         59.57,
         2
        ],
        [
         "C1577",
         91.79,
         45.9,
         25.75,
         66.04,
         2
        ],
        [
         "C1632",
         89.76,
         29.92,
         12.32,
         43.78,
         3
        ],
        [
         "C1872",
         87.1,
         87.1,
         87.1,
         87.1,
         1
        ],
        [
         "C1370",
         32103.64,
         4012.95,
         3.69,
         31723.44,
         8
        ],
        [
         "C1924",
         104.91,
         20.98,
         8.07,
         44.85,
         5
        ],
        [
         "C1516",
         12.58,
         6.29,
         2.08,
         10.5,
         2
        ],
        [
         "C1198",
         133.16,
         66.58,
         58.51,
         74.65,
         2
        ],
        [
         "C1203",
         362.16,
         45.27,
         14.86,
         89.58,
         8
        ],
        [
         "C1550",
         36.23,
         36.23,
         36.23,
         36.23,
         1
        ],
        [
         "C1122",
         89.96,
         22.49,
         1.0,
         56.4,
         4
        ],
        [
         "C1211",
         181.85,
         60.62,
         7.08,
         151.58,
         3
        ],
        [
         "C1783",
         18.02,
         9.01,
         6.18,
         11.84,
         2
        ],
        [
         "C1919",
         30.2,
         15.1,
         8.84,
         21.36,
         2
        ],
        [
         "C1750",
         1.63,
         1.63,
         1.63,
         1.63,
         1
        ],
        [
         "C1712",
         123.98,
         41.33,
         20.91,
         64.65,
         3
        ],
        [
         "C1099",
         62233.64,
         8890.52,
         7.36,
         62026.55,
         7
        ],
        [
         "C1242",
         91700.09,
         30566.7,
         22.77,
         91620.16,
         3
        ],
        [
         "C1325",
         131690.74,
         18812.96,
         2.82,
         104349.88,
         7
        ],
        [
         "C1043",
         154.57,
         51.52,
         27.98,
         95.85,
         3
        ],
        [
         "C1018",
         50037.07,
         10007.41,
         2.17,
         49939.93,
         5
        ],
        [
         "C1913",
         85.87,
         28.62,
         3.28,
         65.77,
         3
        ],
        [
         "C1982",
         59.39,
         29.7,
         23.49,
         35.9,
         2
        ],
        [
         "C1296",
         109.63,
         36.54,
         10.01,
         84.06,
         3
        ],
        [
         "C1612",
         161.29,
         53.76,
         33.7,
         71.71,
         3
        ],
        [
         "C1069",
         104.95,
         52.48,
         39.48,
         65.47,
         2
        ],
        [
         "C1202",
         29.8,
         29.8,
         29.8,
         29.8,
         1
        ],
        [
         "C1948",
         52.99,
         17.66,
         6.4,
         34.46,
         3
        ],
        [
         "C1644",
         75.84,
         25.28,
         13.57,
         39.08,
         3
        ],
        [
         "C1682",
         161.32,
         53.77,
         10.13,
         137.59,
         3
        ],
        [
         "C1565",
         113.82,
         56.91,
         48.3,
         65.52,
         2
        ],
        [
         "C1583",
         150.99,
         37.75,
         24.15,
         69.19,
         4
        ],
        [
         "C1391",
         62.59,
         62.59,
         62.59,
         62.59,
         1
        ],
        [
         "C1124",
         3.19,
         3.19,
         3.19,
         3.19,
         1
        ],
        [
         "C1089",
         63.92,
         31.96,
         1.3,
         62.62,
         2
        ],
        [
         "C1406",
         28.36,
         9.45,
         1.57,
         13.64,
         3
        ],
        [
         "C1598",
         124553.36,
         31138.34,
         9.97,
         124454.6,
         4
        ],
        [
         "C1802",
         62352.72,
         12470.54,
         10.52,
         62174.05,
         5
        ],
        [
         "C1147",
         80117.52,
         40058.76,
         4.09,
         80113.43,
         2
        ],
        [
         "C1492",
         94285.43,
         47142.72,
         7.4,
         94278.03,
         2
        ],
        [
         "C1289",
         199.5,
         49.88,
         6.19,
         129.63,
         4
        ],
        [
         "C1363",
         8.64,
         8.64,
         8.64,
         8.64,
         1
        ],
        [
         "C1238",
         34627.71,
         34627.71,
         34627.71,
         34627.71,
         1
        ],
        [
         "C1470",
         115.59,
         38.53,
         21.73,
         60.75,
         3
        ],
        [
         "C1818",
         33181.36,
         6636.27,
         16.34,
         32946.28,
         5
        ],
        [
         "C1464",
         366.55,
         61.09,
         15.86,
         102.43,
         6
        ],
        [
         "C1697",
         162.36,
         32.47,
         7.66,
         74.62,
         5
        ],
        [
         "C1777",
         366.32,
         91.58,
         71.18,
         114.09,
         4
        ],
        [
         "C1725",
         36892.68,
         18446.34,
         26.25,
         36866.43,
         2
        ],
        [
         "C1820",
         156.31,
         39.08,
         17.5,
         77.68,
         4
        ],
        [
         "C1431",
         73.15,
         36.58,
         17.04,
         56.11,
         2
        ],
        [
         "C1395",
         197.6,
         49.4,
         16.91,
         82.71,
         4
        ],
        [
         "C1606",
         77.35,
         19.34,
         7.93,
         29.55,
         4
        ],
        [
         "C1149",
         127.92,
         25.58,
         5.01,
         55.31,
         5
        ],
        [
         "C1771",
         96.11,
         32.04,
         19.4,
         40.61,
         3
        ],
        [
         "C1584",
         38.08,
         19.04,
         14.73,
         23.35,
         2
        ],
        [
         "C1611",
         69.22,
         34.61,
         29.6,
         39.62,
         2
        ],
        [
         "C1057",
         127.0,
         42.33,
         39.68,
         44.21,
         3
        ],
        [
         "C1437",
         199.9,
         49.97,
         33.27,
         58.73,
         4
        ],
        [
         "C1275",
         31.89,
         15.95,
         1.3,
         30.59,
         2
        ],
        [
         "C1426",
         111.96,
         55.98,
         51.01,
         60.95,
         2
        ],
        [
         "C1716",
         35.11,
         35.11,
         35.11,
         35.11,
         1
        ],
        [
         "C1929",
         43.25,
         21.62,
         6.63,
         36.62,
         2
        ],
        [
         "C1371",
         154.55,
         51.52,
         30.46,
         62.21,
         3
        ],
        [
         "C1324",
         14785.05,
         2957.01,
         6.41,
         14654.69,
         5
        ],
        [
         "C1292",
         164.14,
         54.71,
         3.59,
         83.27,
         3
        ],
        [
         "C1751",
         100.75,
         33.58,
         6.56,
         61.65,
         3
        ],
        [
         "C1793",
         38.66,
         19.33,
         18.8,
         19.86,
         2
        ],
        [
         "C1459",
         78.11,
         26.04,
         25.66,
         26.78,
         3
        ],
        [
         "C1034",
         36.26,
         36.26,
         36.26,
         36.26,
         1
        ],
        [
         "C1511",
         53.31,
         53.31,
         53.31,
         53.31,
         1
        ],
        [
         "C1175",
         257.2,
         42.87,
         5.8,
         70.86,
         6
        ],
        [
         "C1435",
         11.82,
         11.82,
         11.82,
         11.82,
         1
        ],
        [
         "C1922",
         80.05,
         40.03,
         5.43,
         74.62,
         2
        ],
        [
         "C1484",
         67714.42,
         33857.21,
         73.66,
         67640.76,
         2
        ],
        [
         "C1621",
         131.14,
         32.79,
         2.59,
         60.4,
         4
        ],
        [
         "C1469",
         68.11,
         68.11,
         68.11,
         68.11,
         1
        ],
        [
         "C1640",
         8.06,
         8.06,
         8.06,
         8.06,
         1
        ],
        [
         "C1736",
         82.64,
         41.32,
         21.36,
         61.28,
         2
        ],
        [
         "C1264",
         52279.98,
         17426.66,
         14.34,
         52240.31,
         3
        ],
        [
         "C1190",
         70.24,
         70.24,
         70.24,
         70.24,
         1
        ],
        [
         "C1533",
         122.27,
         61.14,
         38.86,
         83.41,
         2
        ],
        [
         "C1170",
         93.06,
         46.53,
         37.64,
         55.42,
         2
        ],
        [
         "C1494",
         228.21,
         25.36,
         1.1,
         51.62,
         9
        ],
        [
         "C1031",
         90851.77,
         12978.82,
         5.47,
         90649.92,
         7
        ],
        [
         "C1832",
         71.58,
         35.79,
         34.84,
         36.74,
         2
        ],
        [
         "C1061",
         39.3,
         39.3,
         39.3,
         39.3,
         1
        ],
        [
         "C1013",
         32.31,
         16.16,
         13.7,
         18.61,
         2
        ],
        [
         "C1232",
         40761.16,
         10190.29,
         2.34,
         40685.84,
         4
        ],
        [
         "C1430",
         37593.73,
         7518.75,
         6.37,
         37400.74,
         5
        ],
        [
         "C1064",
         119.02,
         29.76,
         6.47,
         54.95,
         4
        ],
        [
         "C1134",
         191.32,
         27.33,
         4.84,
         64.81,
         7
        ],
        [
         "C1046",
         267.54,
         38.22,
         5.99,
         96.1,
         7
        ],
        [
         "C1216",
         176.72,
         58.91,
         33.23,
         107.25,
         3
        ],
        [
         "C1255",
         98.19,
         49.1,
         31.12,
         67.07,
         2
        ],
        [
         "C1071",
         256.99,
         64.25,
         25.8,
         86.25,
         4
        ],
        [
         "C1045",
         97.03,
         97.03,
         97.03,
         97.03,
         1
        ],
        [
         "C1885",
         78.93,
         39.47,
         4.99,
         73.94,
         2
        ],
        [
         "C1480",
         134.18,
         33.55,
         10.09,
         77.43,
         4
        ],
        [
         "C1282",
         98.85,
         32.95,
         21.01,
         44.72,
         3
        ],
        [
         "C1861",
         162.24,
         40.56,
         25.71,
         75.42,
         4
        ],
        [
         "C1766",
         96.53,
         32.18,
         3.77,
         88.35,
         3
        ],
        [
         "C1466",
         127.18,
         42.39,
         6.25,
         103.97,
         3
        ],
        [
         "C1749",
         85.88,
         42.94,
         4.38,
         81.5,
         2
        ],
        [
         "C1072",
         217.86,
         31.12,
         6.37,
         64.21,
         7
        ],
        [
         "C1273",
         120.26,
         40.09,
         4.82,
         61.3,
         3
        ],
        [
         "C1754",
         142.32,
         47.44,
         10.6,
         109.9,
         3
        ],
        [
         "C1011",
         274.5,
         45.75,
         2.43,
         80.33,
         6
        ],
        [
         "C1297",
         141.89,
         28.38,
         9.31,
         41.71,
         5
        ],
        [
         "C1015",
         14.15,
         14.15,
         14.15,
         14.15,
         1
        ],
        [
         "C1843",
         125.66,
         31.42,
         6.12,
         99.19,
         4
        ],
        [
         "C1705",
         22.18,
         22.18,
         22.18,
         22.18,
         1
        ],
        [
         "C1442",
         137.86,
         68.93,
         48.07,
         89.79,
         2
        ],
        [
         "C1106",
         12241.63,
         3060.41,
         30.77,
         12084.33,
         4
        ],
        [
         "C1544",
         45.71,
         22.85,
         16.91,
         28.8,
         2
        ],
        [
         "C1387",
         11478.7,
         5739.35,
         39.55,
         11439.15,
         2
        ],
        [
         "C1329",
         79.21,
         19.8,
         8.59,
         25.0,
         4
        ],
        [
         "C1360",
         124.85,
         31.21,
         5.63,
         66.52,
         4
        ],
        [
         "C1881",
         56.31,
         28.15,
         27.4,
         28.91,
         2
        ],
        [
         "C1050",
         83.02,
         41.51,
         16.85,
         66.17,
         2
        ],
        [
         "C1074",
         86.55,
         28.85,
         14.71,
         40.09,
         3
        ],
        [
         "C1836",
         49.52,
         49.52,
         49.52,
         49.52,
         1
        ],
        [
         "C1685",
         139.77,
         46.59,
         6.99,
         86.22,
         3
        ],
        [
         "C1227",
         126.67,
         42.22,
         5.23,
         81.3,
         3
        ],
        [
         "C1969",
         30.94,
         15.47,
         9.57,
         21.37,
         2
        ],
        [
         "C1848",
         94.68,
         31.56,
         11.34,
         59.52,
         3
        ],
        [
         "C1246",
         1.0,
         1.0,
         1.0,
         1.0,
         1
        ],
        [
         "C1656",
         36.95,
         36.95,
         36.95,
         36.95,
         1
        ],
        [
         "C1925",
         122.23,
         40.74,
         15.08,
         60.43,
         3
        ],
        [
         "C1177",
         49308.01,
         9861.6,
         49.48,
         49051.8,
         5
        ],
        [
         "C1138",
         112.05,
         22.41,
         7.63,
         40.74,
         5
        ],
        [
         "C1452",
         172.96,
         57.65,
         15.55,
         100.45,
         3
        ],
        [
         "C1458",
         291.15,
         58.23,
         31.1,
         90.58,
         5
        ],
        [
         "C1327",
         139.53,
         46.51,
         19.64,
         60.49,
         3
        ],
        [
         "C1490",
         18.55,
         9.28,
         8.41,
         10.14,
         2
        ],
        [
         "C1136",
         189.53,
         37.91,
         11.42,
         58.76,
         5
        ],
        [
         "C1778",
         8.05,
         8.05,
         8.05,
         8.05,
         1
        ],
        [
         "C1734",
         51.85,
         25.93,
         20.51,
         31.34,
         2
        ],
        [
         "C1180",
         171.39,
         34.28,
         4.79,
         55.04,
         5
        ],
        [
         "C1589",
         241.77,
         40.3,
         20.54,
         70.16,
         6
        ],
        [
         "C1301",
         97.34,
         24.33,
         3.92,
         51.55,
         4
        ],
        [
         "C1926",
         53.41,
         17.8,
         2.33,
         27.75,
         3
        ],
        [
         "C1930",
         174.06,
         29.01,
         7.79,
         46.05,
         6
        ],
        [
         "C1377",
         30464.42,
         6092.88,
         1.74,
         30347.73,
         5
        ],
        [
         "C1858",
         64.75,
         32.38,
         26.19,
         38.56,
         2
        ],
        [
         "C1593",
         164.89,
         54.96,
         5.34,
         81.28,
         3
        ],
        [
         "C1546",
         53.36,
         26.68,
         22.19,
         31.17,
         2
        ],
        [
         "C1092",
         32.14,
         10.71,
         2.81,
         15.97,
         3
        ],
        [
         "C1361",
         153.38,
         51.13,
         44.37,
         60.5,
         3
        ],
        [
         "C1033",
         185.54,
         61.85,
         45.57,
         71.3,
         3
        ],
        [
         "C1165",
         110.89,
         22.18,
         12.44,
         28.07,
         5
        ],
        [
         "C1554",
         53080.38,
         17693.46,
         36.56,
         52972.34,
         3
        ],
        [
         "C1244",
         113.79,
         56.89,
         48.16,
         65.63,
         2
        ],
        [
         "C1700",
         61.96,
         20.65,
         1.1,
         33.32,
         3
        ],
        [
         "C1940",
         55.15,
         27.57,
         22.63,
         32.52,
         2
        ],
        [
         "C1405",
         24.89,
         12.45,
         11.02,
         13.87,
         2
        ],
        [
         "C1993",
         95.17,
         31.72,
         27.94,
         36.89,
         3
        ],
        [
         "C1813",
         49.54,
         24.77,
         3.27,
         46.27,
         2
        ],
        [
         "C1137",
         115.37,
         38.46,
         21.2,
         69.26,
         3
        ],
        [
         "C1309",
         20.32,
         10.16,
         7.95,
         12.37,
         2
        ],
        [
         "C1513",
         164.68,
         82.34,
         69.34,
         95.34,
         2
        ],
        [
         "C1849",
         127.92,
         42.64,
         35.18,
         57.4,
         3
        ],
        [
         "C1747",
         46.12,
         11.53,
         4.2,
         20.53,
         4
        ],
        [
         "C1776",
         124.76,
         31.19,
         6.52,
         64.55,
         4
        ],
        [
         "C1737",
         90405.56,
         9040.56,
         4.63,
         90034.16,
         10
        ],
        [
         "C1148",
         217.05,
         72.35,
         43.63,
         88.68,
         3
        ],
        [
         "C1819",
         165.5,
         41.38,
         10.9,
         100.05,
         4
        ],
        [
         "C1077",
         168.13,
         42.03,
         1.0,
         104.49,
         4
        ],
        [
         "C1556",
         85152.44,
         21288.11,
         3.87,
         85035.64,
         4
        ],
        [
         "C1357",
         184.3,
         92.15,
         76.47,
         107.83,
         2
        ],
        [
         "C1581",
         91.85,
         45.92,
         24.15,
         67.7,
         2
        ],
        [
         "C1680",
         180.77,
         22.6,
         1.3,
         39.8,
         8
        ],
        [
         "C1252",
         27499.49,
         9166.5,
         32.84,
         27428.71,
         3
        ],
        [
         "C1268",
         178.43,
         35.69,
         25.08,
         47.23,
         5
        ],
        [
         "C1834",
         84.49,
         42.24,
         16.03,
         68.46,
         2
        ],
        [
         "C1935",
         175.1,
         35.02,
         12.15,
         54.36,
         5
        ],
        [
         "C1538",
         28519.44,
         14259.72,
         42.97,
         28476.47,
         2
        ],
        [
         "C1655",
         229.85,
         45.97,
         8.9,
         94.71,
         5
        ],
        [
         "C1756",
         197.23,
         49.31,
         1.3,
         87.41,
         4
        ],
        [
         "C1372",
         101.31,
         20.26,
         1.1,
         31.6,
         5
        ],
        [
         "C1010",
         9.66,
         9.66,
         9.66,
         9.66,
         1
        ],
        [
         "C1105",
         256.77,
         51.35,
         28.74,
         99.63,
         5
        ],
        [
         "C1884",
         136.58,
         34.15,
         3.58,
         67.05,
         4
        ],
        [
         "C1117",
         50.85,
         25.43,
         22.01,
         28.84,
         2
        ],
        [
         "C1486",
         57.82,
         57.82,
         57.82,
         57.82,
         1
        ],
        [
         "C1160",
         70.42,
         35.21,
         30.41,
         40.01,
         2
        ],
        [
         "C1286",
         108.8,
         36.27,
         5.43,
         83.52,
         3
        ],
        [
         "C1495",
         8.96,
         4.48,
         1.3,
         7.66,
         2
        ],
        [
         "C1168",
         63898.47,
         21299.49,
         2.74,
         63865.31,
         3
        ],
        [
         "C1853",
         97.1,
         24.27,
         2.6,
         45.6,
         4
        ],
        [
         "C1215",
         93113.96,
         18622.79,
         12.7,
         93011.15,
         5
        ],
        [
         "C1420",
         17103.35,
         4275.84,
         1.88,
         17010.09,
         4
        ],
        [
         "C1907",
         44.26,
         22.13,
         10.22,
         34.04,
         2
        ],
        [
         "C1151",
         25145.5,
         5029.1,
         1.22,
         25094.43,
         5
        ],
        [
         "C1983",
         89159.05,
         44579.53,
         10.27,
         89148.78,
         2
        ],
        [
         "C1085",
         103.5,
         51.75,
         25.37,
         78.13,
         2
        ],
        [
         "C1201",
         128545.48,
         16068.18,
         18.62,
         128300.66,
         8
        ],
        [
         "C1088",
         19471.9,
         6490.63,
         48.89,
         19371.37,
         3
        ],
        [
         "C1878",
         43.4,
         14.47,
         2.56,
         27.04,
         3
        ],
        [
         "C1828",
         159.49,
         31.9,
         9.97,
         54.26,
         5
        ],
        [
         "C1833",
         60.53,
         30.27,
         6.58,
         53.95,
         2
        ],
        [
         "C1278",
         94.86,
         31.62,
         17.61,
         46.08,
         3
        ],
        [
         "C1845",
         51.85,
         17.28,
         11.73,
         26.36,
         3
        ],
        [
         "C1636",
         50103.38,
         16701.13,
         5.93,
         50037.16,
         3
        ],
        [
         "C1365",
         62078.17,
         10346.36,
         2.2,
         61969.17,
         6
        ],
        [
         "C1624",
         114.63,
         57.31,
         18.81,
         95.82,
         2
        ],
        [
         "C1972",
         112.21,
         37.4,
         15.2,
         54.63,
         3
        ],
        [
         "C1172",
         86259.08,
         28753.03,
         20.42,
         86209.46,
         3
        ],
        [
         "C1634",
         104.48,
         52.24,
         38.88,
         65.6,
         2
        ],
        [
         "C1920",
         189.87,
         47.47,
         1.41,
         75.91,
         4
        ],
        [
         "C1575",
         135.35,
         33.84,
         2.29,
         96.54,
         4
        ],
        [
         "C1641",
         146.48,
         36.62,
         4.21,
         60.67,
         4
        ],
        [
         "C1112",
         86.72,
         21.68,
         9.79,
         33.75,
         4
        ],
        [
         "C1399",
         119278.29,
         39759.43,
         4.03,
         63665.63,
         3
        ],
        [
         "C1017",
         82350.26,
         20587.57,
         6.1,
         82256.56,
         4
        ],
        [
         "C1383",
         181.2,
         60.4,
         35.21,
         82.95,
         3
        ],
        [
         "C1158",
         146.35,
         48.78,
         23.97,
         75.69,
         3
        ],
        [
         "C1449",
         54.67,
         18.22,
         8.27,
         36.74,
         3
        ],
        [
         "C1540",
         54004.06,
         9000.68,
         1.3,
         53886.55,
         6
        ],
        [
         "C1860",
         223.79,
         37.3,
         3.05,
         107.57,
         6
        ],
        [
         "C1167",
         145.26,
         48.42,
         20.35,
         81.19,
         3
        ],
        [
         "C1274",
         64.09,
         32.05,
         9.32,
         54.77,
         2
        ],
        [
         "C1224",
         74.36,
         24.79,
         12.44,
         33.94,
         3
        ],
        [
         "C1021",
         136.12,
         68.06,
         67.49,
         68.63,
         2
        ],
        [
         "C1408",
         89.88,
         29.96,
         5.52,
         75.84,
         3
        ],
        [
         "C1614",
         141333.93,
         47111.31,
         41.26,
         91948.08,
         3
        ],
        [
         "C1566",
         17.94,
         17.94,
         17.94,
         17.94,
         1
        ],
        [
         "C1957",
         13.0,
         13.0,
         13.0,
         13.0,
         1
        ],
        [
         "C1448",
         56.75,
         28.37,
         5.24,
         51.51,
         2
        ],
        [
         "C1401",
         136.45,
         68.22,
         29.07,
         107.38,
         2
        ],
        [
         "C1721",
         31.12,
         31.12,
         31.12,
         31.12,
         1
        ],
        [
         "C1808",
         305.44,
         61.09,
         17.21,
         95.99,
         5
        ],
        [
         "C1003",
         124.49,
         24.9,
         5.56,
         64.19,
         5
        ],
        [
         "C1508",
         26.79,
         13.39,
         10.85,
         15.94,
         2
        ],
        [
         "C1162",
         398.41,
         49.8,
         17.05,
         69.16,
         8
        ],
        [
         "C1095",
         75.6,
         25.2,
         1.56,
         49.7,
         3
        ],
        [
         "C1141",
         48.08,
         24.04,
         19.19,
         28.89,
         2
        ],
        [
         "C1352",
         56.58,
         18.86,
         6.46,
         32.3,
         3
        ],
        [
         "C1989",
         173.86,
         57.95,
         34.2,
         102.68,
         3
        ],
        [
         "C1047",
         88.63,
         44.32,
         32.31,
         56.32,
         2
        ],
        [
         "C1613",
         93.86,
         46.93,
         43.06,
         50.8,
         2
        ],
        [
         "C1504",
         128.69,
         25.74,
         8.56,
         43.42,
         5
        ],
        [
         "C1997",
         120.58,
         20.1,
         4.78,
         37.95,
         6
        ],
        [
         "C1962",
         79.81,
         26.6,
         12.91,
         45.55,
         3
        ],
        [
         "C1892",
         17843.49,
         2973.91,
         7.21,
         17705.62,
         6
        ],
        [
         "C1035",
         22.67,
         22.67,
         22.67,
         22.67,
         1
        ],
        [
         "C1389",
         84108.64,
         28036.21,
         23.79,
         84026.12,
         3
        ],
        [
         "C1711",
         90571.45,
         90571.45,
         90571.45,
         90571.45,
         1
        ],
        [
         "C1822",
         128.7,
         64.35,
         59.98,
         68.72,
         2
        ],
        [
         "C1164",
         91.54,
         45.77,
         4.91,
         86.63,
         2
        ],
        [
         "C1965",
         167.18,
         33.44,
         4.72,
         53.05,
         5
        ],
        [
         "C1120",
         66323.81,
         11053.97,
         2.96,
         66205.53,
         6
        ],
        [
         "C1987",
         70.22,
         35.11,
         25.31,
         44.91,
         2
        ],
        [
         "C1279",
         85.26,
         28.42,
         1.03,
         47.0,
         3
        ],
        [
         "C1638",
         136.04,
         34.01,
         6.11,
         61.34,
         4
        ],
        [
         "C1701",
         134.52,
         26.9,
         13.81,
         33.79,
         5
        ],
        [
         "C1677",
         92.53,
         30.84,
         10.55,
         64.82,
         3
        ],
        [
         "C1557",
         5.1,
         5.1,
         5.1,
         5.1,
         1
        ],
        [
         "C1474",
         150.16,
         37.54,
         6.17,
         75.79,
         4
        ],
        [
         "C1207",
         83.42,
         41.71,
         5.27,
         78.15,
         2
        ],
        [
         "C1633",
         41.56,
         20.78,
         15.27,
         26.29,
         2
        ],
        [
         "C1323",
         123.56,
         61.78,
         24.35,
         99.21,
         2
        ],
        [
         "C1125",
         55.14,
         18.38,
         12.76,
         23.07,
         3
        ],
        [
         "C1950",
         34.31,
         34.31,
         34.31,
         34.31,
         1
        ],
        [
         "C1630",
         35.7,
         35.7,
         35.7,
         35.7,
         1
        ],
        [
         "C1145",
         77.4,
         25.8,
         13.72,
         41.13,
         3
        ],
        [
         "C1976",
         47.23,
         23.62,
         13.76,
         33.47,
         2
        ],
        [
         "C1503",
         19.34,
         19.34,
         19.34,
         19.34,
         1
        ],
        [
         "C1262",
         113.87,
         37.96,
         11.65,
         73.64,
         3
        ],
        [
         "C1975",
         58.85,
         29.43,
         25.67,
         33.18,
         2
        ],
        [
         "C1266",
         159.71,
         39.93,
         23.7,
         72.86,
         4
        ],
        [
         "C1456",
         191.46,
         31.91,
         5.05,
         76.95,
         6
        ],
        [
         "C1877",
         115.54,
         38.51,
         1.0,
         62.78,
         3
        ],
        [
         "C1174",
         121.36,
         40.45,
         24.5,
         60.14,
         3
        ],
        [
         "C1439",
         166.35,
         33.27,
         18.99,
         59.51,
         5
        ],
        [
         "C1786",
         69.76,
         23.25,
         10.81,
         35.09,
         3
        ],
        [
         "C1353",
         200.32,
         40.06,
         19.81,
         100.42,
         5
        ],
        [
         "C1657",
         133.25,
         44.42,
         25.6,
         57.78,
         3
        ],
        [
         "C1199",
         101.56,
         25.39,
         19.78,
         34.66,
         4
        ],
        [
         "C1506",
         13.08,
         13.08,
         13.08,
         13.08,
         1
        ],
        [
         "C1868",
         202.42,
         50.6,
         22.74,
         79.63,
         4
        ],
        [
         "C1257",
         103.02,
         34.34,
         11.59,
         64.43,
         3
        ],
        [
         "C1882",
         50.16,
         50.16,
         50.16,
         50.16,
         1
        ],
        [
         "C1230",
         58.24,
         19.41,
         5.1,
         41.22,
         3
        ],
        [
         "C1651",
         55.77,
         13.94,
         1.92,
         44.28,
         4
        ],
        [
         "C1346",
         145.48,
         48.49,
         1.3,
         95.51,
         3
        ],
        [
         "C1465",
         239.12,
         59.78,
         12.23,
         104.23,
         4
        ],
        [
         "C1412",
         321.17,
         45.88,
         1.61,
         102.14,
         7
        ],
        [
         "C1467",
         168.06,
         56.02,
         19.72,
         93.57,
         3
        ],
        [
         "C1002",
         97105.79,
         24276.45,
         1.0,
         97065.97,
         4
        ],
        [
         "C1978",
         160.29,
         32.06,
         2.46,
         80.32,
         5
        ],
        [
         "C1392",
         82.94,
         27.65,
         4.11,
         56.83,
         3
        ],
        [
         "C1545",
         96.04,
         24.01,
         3.3,
         70.17,
         4
        ],
        [
         "C1548",
         51.13,
         17.04,
         16.36,
         17.96,
         3
        ],
        [
         "C1773",
         42.4,
         14.13,
         4.94,
         23.35,
         3
        ],
        [
         "C1379",
         186.51,
         93.26,
         79.4,
         107.11,
         2
        ],
        [
         "C1921",
         183.31,
         36.66,
         1.36,
         64.94,
         5
        ],
        [
         "C1788",
         52937.83,
         13234.46,
         9.54,
         52851.59,
         4
        ],
        [
         "C1775",
         106.87,
         17.81,
         1.22,
         26.83,
         6
        ],
        [
         "C1914",
         221.29,
         36.88,
         8.1,
         57.83,
         6
        ],
        [
         "C1006",
         79.41,
         19.85,
         6.99,
         45.83,
         4
        ],
        [
         "C1823",
         97.14,
         48.57,
         12.9,
         84.24,
         2
        ],
        [
         "C1393",
         77.85,
         38.92,
         28.09,
         49.76,
         2
        ],
        [
         "C1760",
         129.86,
         43.29,
         16.33,
         82.91,
         3
        ],
        [
         "C1654",
         19025.52,
         6341.84,
         22.58,
         18974.85,
         3
        ],
        [
         "C1637",
         147659.07,
         29531.81,
         2.43,
         98428.74,
         5
        ],
        [
         "C1647",
         86773.68,
         21693.42,
         25.82,
         86633.13,
         4
        ],
        [
         "C1059",
         159.05,
         39.76,
         1.0,
         111.29,
         4
        ],
        [
         "C1019",
         207.73,
         51.93,
         1.1,
         105.21,
         4
        ],
        [
         "C1746",
         209.36,
         29.91,
         9.02,
         47.67,
         7
        ],
        [
         "C1821",
         77.07,
         25.69,
         14.68,
         46.28,
         3
        ],
        [
         "C1016",
         79096.81,
         19774.2,
         3.8,
         79077.32,
         4
        ],
        [
         "C1605",
         111.96,
         37.32,
         8.7,
         59.05,
         3
        ],
        [
         "C1042",
         61.8,
         15.45,
         3.68,
         40.79,
         4
        ],
        [
         "C1367",
         80.2,
         26.73,
         10.73,
         50.26,
         3
        ],
        [
         "C1576",
         376.91,
         34.26,
         2.76,
         93.52,
         11
        ],
        [
         "C1757",
         91.93,
         30.64,
         25.96,
         33.76,
         3
        ],
        [
         "C1143",
         55.44,
         18.48,
         12.25,
         26.98,
         3
        ],
        [
         "C1493",
         147.45,
         29.49,
         8.74,
         54.3,
         5
        ],
        [
         "C1812",
         84.74,
         28.25,
         18.58,
         38.58,
         3
        ],
        [
         "C1525",
         195.51,
         48.88,
         33.02,
         64.29,
         4
        ],
        [
         "C1880",
         138.53,
         23.09,
         4.14,
         70.95,
         6
        ],
        [
         "C1764",
         176.1,
         88.05,
         51.44,
         124.66,
         2
        ],
        [
         "C1539",
         76.57,
         19.14,
         1.3,
         31.38,
         4
        ],
        [
         "C1748",
         40.53,
         40.53,
         40.53,
         40.53,
         1
        ],
        [
         "C1159",
         47.58,
         23.79,
         8.79,
         38.79,
         2
        ],
        [
         "C1501",
         124.58,
         41.53,
         32.25,
         47.33,
         3
        ],
        [
         "C1093",
         19821.34,
         9910.67,
         36.51,
         19784.83,
         2
        ],
        [
         "C1958",
         148.71,
         29.74,
         6.76,
         54.22,
         5
        ],
        [
         "C1422",
         99.37,
         24.84,
         6.37,
         51.83,
         4
        ],
        [
         "C1443",
         154.54,
         30.91,
         10.63,
         49.22,
         5
        ],
        [
         "C1911",
         202.59,
         40.52,
         8.96,
         107.39,
         5
        ],
        [
         "C1529",
         28.3,
         28.3,
         28.3,
         28.3,
         1
        ],
        [
         "C1984",
         141.16,
         47.05,
         37.61,
         65.92,
         3
        ],
        [
         "C1272",
         98.75,
         24.69,
         17.8,
         38.78,
         4
        ],
        [
         "C1532",
         37.81,
         37.81,
         37.81,
         37.81,
         1
        ],
        [
         "C1213",
         67.85,
         33.93,
         12.7,
         55.15,
         2
        ],
        [
         "C1895",
         68.61,
         68.61,
         68.61,
         68.61,
         1
        ],
        [
         "C1905",
         64.86,
         21.62,
         4.81,
         32.47,
         3
        ],
        [
         "C1111",
         72.05,
         24.02,
         8.89,
         39.67,
         3
        ],
        [
         "C1900",
         247.37,
         41.23,
         2.84,
         148.16,
         6
        ],
        [
         "C1219",
         140.62,
         35.16,
         14.78,
         70.54,
         4
        ],
        [
         "C1617",
         69.51,
         34.75,
         14.66,
         54.85,
         2
        ],
        [
         "C1350",
         245.01,
         40.84,
         22.13,
         87.26,
         6
        ],
        [
         "C1166",
         70.61,
         35.3,
         13.67,
         56.94,
         2
        ],
        [
         "C1784",
         86610.89,
         86610.89,
         86610.89,
         86610.89,
         1
        ],
        [
         "C1814",
         36.23,
         36.23,
         36.23,
         36.23,
         1
        ],
        [
         "C1955",
         14.57,
         14.57,
         14.57,
         14.57,
         1
        ],
        [
         "C1343",
         28.15,
         28.15,
         28.15,
         28.15,
         1
        ],
        [
         "C1240",
         51.33,
         25.66,
         20.68,
         30.65,
         2
        ],
        [
         "C1688",
         128.65,
         64.33,
         23.71,
         104.94,
         2
        ],
        [
         "C1404",
         12.78,
         12.78,
         12.78,
         12.78,
         1
        ],
        [
         "C1150",
         80.24,
         40.12,
         24.59,
         55.65,
         2
        ],
        [
         "C1154",
         4.86,
         4.86,
         4.86,
         4.86,
         1
        ],
        [
         "C1062",
         26.22,
         26.22,
         26.22,
         26.22,
         1
        ],
        [
         "C1008",
         252.32,
         63.08,
         16.95,
         106.71,
         4
        ],
        [
         "C1256",
         168.96,
         56.32,
         49.47,
         63.76,
         3
        ],
        [
         "C1964",
         125.06,
         41.69,
         11.97,
         60.25,
         3
        ],
        [
         "C1510",
         10.87,
         10.87,
         10.87,
         10.87,
         1
        ],
        [
         "C1402",
         131.75,
         65.88,
         55.08,
         76.67,
         2
        ],
        [
         "C1968",
         43.38,
         21.69,
         10.93,
         32.45,
         2
        ],
        [
         "C1475",
         3.05,
         3.05,
         3.05,
         3.05,
         1
        ],
        [
         "C1645",
         69.07,
         34.54,
         5.73,
         63.34,
         2
        ],
        [
         "C1478",
         52452.62,
         26226.31,
         58.5,
         52394.12,
         2
        ],
        [
         "C1902",
         67.23,
         22.41,
         3.72,
         47.62,
         3
        ],
        [
         "C1223",
         8.13,
         8.13,
         8.13,
         8.13,
         1
        ],
        [
         "C1782",
         51.8,
         25.9,
         13.79,
         38.01,
         2
        ],
        [
         "C1009",
         37611.42,
         7522.28,
         2.83,
         37506.43,
         5
        ],
        [
         "C1356",
         83.53,
         83.53,
         83.53,
         83.53,
         1
        ],
        [
         "C1299",
         84.52,
         42.26,
         17.49,
         67.03,
         2
        ],
        [
         "C1590",
         24.82,
         12.41,
         9.42,
         15.4,
         2
        ],
        [
         "C1126",
         43384.85,
         21692.43,
         30.75,
         43354.1,
         2
        ],
        [
         "C1038",
         31.27,
         15.64,
         15.25,
         16.02,
         2
        ],
        [
         "C1809",
         26.85,
         26.85,
         26.85,
         26.85,
         1
        ],
        [
         "C1973",
         322.34,
         64.47,
         40.53,
         125.48,
         5
        ],
        [
         "C1287",
         148.19,
         74.09,
         63.34,
         84.85,
         2
        ],
        [
         "C1578",
         88.78,
         88.78,
         88.78,
         88.78,
         1
        ],
        [
         "C1171",
         70547.08,
         35273.54,
         35.79,
         70511.29,
         2
        ],
        [
         "C1643",
         27.89,
         27.89,
         27.89,
         27.89,
         1
        ],
        [
         "C1419",
         49.57,
         24.78,
         5.11,
         44.46,
         2
        ],
        [
         "C1588",
         26.07,
         26.07,
         26.07,
         26.07,
         1
        ],
        [
         "C1622",
         57.87,
         28.94,
         25.38,
         32.49,
         2
        ],
        [
         "C1362",
         66.02,
         66.02,
         66.02,
         66.02,
         1
        ],
        [
         "C1597",
         14.14,
         14.14,
         14.14,
         14.14,
         1
        ],
        [
         "C1197",
         127.91,
         127.91,
         127.91,
         127.91,
         1
        ],
        [
         "C1514",
         99465.43,
         49732.71,
         54.71,
         99410.72,
         2
        ],
        [
         "C1270",
         51.69,
         51.69,
         51.69,
         51.69,
         1
        ],
        [
         "C1733",
         53.0,
         53.0,
         53.0,
         53.0,
         1
        ],
        [
         "C1867",
         3.49,
         3.49,
         3.49,
         3.49,
         1
        ],
        [
         "C1235",
         91.51,
         30.5,
         1.1,
         88.19,
         3
        ],
        [
         "C1569",
         17.81,
         17.81,
         17.81,
         17.81,
         1
        ],
        [
         "C1488",
         122.91,
         40.97,
         15.54,
         78.82,
         3
        ],
        [
         "C1254",
         12.18,
         12.18,
         12.18,
         12.18,
         1
        ],
        [
         "C1447",
         31.58,
         31.58,
         31.58,
         31.58,
         1
        ],
        [
         "C1496",
         74.16,
         37.08,
         33.21,
         40.95,
         2
        ],
        [
         "C1515",
         99.26,
         49.63,
         24.28,
         74.98,
         2
        ],
        [
         "C1364",
         55.35,
         55.35,
         55.35,
         55.35,
         1
        ],
        [
         "C1856",
         43.16,
         43.16,
         43.16,
         43.16,
         1
        ],
        [
         "C1735",
         68.76,
         22.92,
         5.01,
         33.98,
         3
        ],
        [
         "C1899",
         65.74,
         21.91,
         2.69,
         40.44,
         3
        ],
        [
         "C1571",
         130.18,
         65.09,
         2.95,
         127.23,
         2
        ],
        [
         "C1130",
         44.98,
         44.98,
         44.98,
         44.98,
         1
        ],
        [
         "C1209",
         52.87,
         26.43,
         13.39,
         39.48,
         2
        ],
        [
         "C1066",
         52.26,
         52.26,
         52.26,
         52.26,
         1
        ],
        [
         "C1870",
         58.65,
         58.65,
         58.65,
         58.65,
         1
        ],
        [
         "C1394",
         185.38,
         92.69,
         43.87,
         141.51,
         2
        ],
        [
         "C1229",
         20.67,
         20.67,
         20.67,
         20.67,
         1
        ],
        [
         "C1421",
         63603.93,
         21201.31,
         7.81,
         63552.3,
         3
        ],
        [
         "C1311",
         20.9,
         20.9,
         20.9,
         20.9,
         1
        ],
        [
         "C1936",
         37.06,
         37.06,
         37.06,
         37.06,
         1
        ],
        [
         "C1476",
         1.21,
         1.21,
         1.21,
         1.21,
         1
        ],
        [
         "C1334",
         34.87,
         34.87,
         34.87,
         34.87,
         1
        ],
        [
         "C1440",
         59.55,
         59.55,
         59.55,
         59.55,
         1
        ],
        [
         "C1313",
         10.98,
         10.98,
         10.98,
         10.98,
         1
        ],
        [
         "C1417",
         78.34,
         39.17,
         6.93,
         71.41,
         2
        ],
        [
         "C1579",
         47.83,
         47.83,
         47.83,
         47.83,
         1
        ],
        [
         "C1966",
         41.29,
         41.29,
         41.29,
         41.29,
         1
        ],
        [
         "C1307",
         43.95,
         43.95,
         43.95,
         43.95,
         1
        ],
        [
         "C1133",
         132.92,
         44.31,
         27.27,
         74.65,
         3
        ],
        [
         "C1044",
         94379.52,
         94379.52,
         94379.52,
         94379.52,
         1
        ],
        [
         "C1432",
         54.46,
         27.23,
         11.25,
         43.21,
         2
        ],
        [
         "C1960",
         33.88,
         33.88,
         33.88,
         33.88,
         1
        ],
        [
         "C1310",
         43.27,
         43.27,
         43.27,
         43.27,
         1
        ],
        [
         "C1945",
         1.0,
         1.0,
         1.0,
         1.0,
         1
        ],
        [
         "C1986",
         41.28,
         41.28,
         41.28,
         41.28,
         1
        ],
        [
         "C1445",
         28356.01,
         14178.0,
         32.32,
         28323.69,
         2
        ],
        [
         "C1977",
         98557.41,
         98557.41,
         98557.41,
         98557.41,
         1
        ],
        [
         "C1840",
         41986.56,
         20993.28,
         40.33,
         41946.23,
         2
        ],
        [
         "C1663",
         7.93,
         7.93,
         7.93,
         7.93,
         1
        ],
        [
         "C1692",
         22.68,
         22.68,
         22.68,
         22.68,
         1
        ],
        [
         "C1427",
         51.32,
         17.11,
         6.71,
         27.59,
         3
        ],
        [
         "C1752",
         2.09,
         2.09,
         2.09,
         2.09,
         1
        ],
        [
         "C1897",
         109.77,
         54.88,
         39.1,
         70.67,
         2
        ],
        [
         "C1152",
         23.96,
         23.96,
         23.96,
         23.96,
         1
        ],
        [
         "C1873",
         69.96,
         34.98,
         33.63,
         36.33,
         2
        ],
        [
         "C1231",
         3.06,
         3.06,
         3.06,
         3.06,
         1
        ],
        [
         "C1904",
         49.23,
         49.23,
         49.23,
         49.23,
         1
        ],
        [
         "C1883",
         37.35,
         37.35,
         37.35,
         37.35,
         1
        ],
        [
         "C1339",
         123.94,
         61.97,
         32.94,
         91.0,
         2
        ],
        [
         "C1380",
         68.13,
         68.13,
         68.13,
         68.13,
         1
        ],
        [
         "C1225",
         37.17,
         37.17,
         37.17,
         37.17,
         1
        ],
        [
         "C1234",
         18.32,
         18.32,
         18.32,
         18.32,
         1
        ],
        [
         "C1573",
         36.3,
         36.3,
         36.3,
         36.3,
         1
        ],
        [
         "C1153",
         18.63,
         18.63,
         18.63,
         18.63,
         1
        ],
        [
         "C1912",
         44.2,
         44.2,
         44.2,
         44.2,
         1
        ],
        [
         "C1695",
         27.19,
         27.19,
         27.19,
         27.19,
         1
        ],
        [
         "C1414",
         20.37,
         20.37,
         20.37,
         20.37,
         1
        ],
        [
         "C1163",
         10.79,
         10.79,
         10.79,
         10.79,
         1
        ]
       ],
       "datasetInfos": [],
       "dbfsResultPath": null,
       "isJsonSchema": true,
       "metadata": {},
       "overflow": false,
       "plotOptions": {
        "customPlotOptions": {},
        "displayType": "table",
        "pivotAggregation": null,
        "pivotColumns": null,
        "xColumns": null,
        "yColumns": null
       },
       "removedWidgets": [],
       "schema": [
        {
         "metadata": "{}",
         "name": "customer_id",
         "type": "\"string\""
        },
        {
         "metadata": "{}",
         "name": "total_amount",
         "type": "\"double\""
        },
        {
         "metadata": "{}",
         "name": "average_amount",
         "type": "\"double\""
        },
        {
         "metadata": "{}",
         "name": "min_amount",
         "type": "\"float\""
        },
        {
         "metadata": "{}",
         "name": "max_amount",
         "type": "\"float\""
        },
        {
         "metadata": "{}",
         "name": "transaction_count",
         "type": "\"long\""
        }
       ],
       "type": "table"
      }
     },
     "output_type": "display_data"
    }
   ],
   "source": [
    "from pyspark.sql import functions as F\n",
    "customer_aggregations_df = transaction_df.groupBy(\"customer_id\").agg(\n",
    "    F.round(F.sum(\"amount\"), 2).alias(\"total_amount\"),\n",
    "    F.round(F.avg(\"amount\"), 2).alias(\"average_amount\"),\n",
    "    F.min(\"amount\").alias(\"min_amount\"),\n",
    "    F.max(\"amount\").alias(\"max_amount\"),\n",
    "    F.count(\"amount\").alias(\"transaction_count\")\n",
    ")\n",
    "customer_aggregations_df.display()"
   ]
  },
  {
   "cell_type": "markdown",
   "metadata": {
    "application/vnd.databricks.v1+cell": {
     "cellMetadata": {},
     "inputWidgets": {},
     "nuid": "a9dc55a3-8c8a-4507-ac8a-b13bc58ee95a",
     "showTitle": false,
     "title": ""
    }
   },
   "source": [
    "### 3.agg on Currency from transaction_table"
   ]
  },
  {
   "cell_type": "code",
   "execution_count": 0,
   "metadata": {
    "application/vnd.databricks.v1+cell": {
     "cellMetadata": {
      "byteLimit": 2048000,
      "rowLimit": 10000
     },
     "inputWidgets": {},
     "nuid": "737f138b-9a4f-4ae9-baa3-0313fdd5d9c6",
     "showTitle": false,
     "title": ""
    }
   },
   "outputs": [
    {
     "output_type": "display_data",
     "data": {
      "text/html": [
       "<style scoped>\n",
       "  .table-result-container {\n",
       "    max-height: 300px;\n",
       "    overflow: auto;\n",
       "  }\n",
       "  table, th, td {\n",
       "    border: 1px solid black;\n",
       "    border-collapse: collapse;\n",
       "  }\n",
       "  th, td {\n",
       "    padding: 5px;\n",
       "  }\n",
       "  th {\n",
       "    text-align: left;\n",
       "  }\n",
       "</style><div class='table-result-container'><table class='table-result'><thead style='background-color: white'><tr><th>currency</th><th>total_amount_by_currency</th><th>avg_amount_by_currency</th></tr></thead><tbody><tr><td>USD</td><td>8395723.594220996</td><td>2798.5745314069986</td></tr></tbody></table></div>"
      ]
     },
     "metadata": {
      "application/vnd.databricks.v1+output": {
       "addedWidgets": {},
       "aggData": [],
       "aggError": "",
       "aggOverflow": false,
       "aggSchema": [],
       "aggSeriesLimitReached": false,
       "aggType": "",
       "arguments": {},
       "columnCustomDisplayInfos": {},
       "data": [
        [
         "USD",
         8395723.594220996,
         2798.5745314069986
        ]
       ],
       "datasetInfos": [],
       "dbfsResultPath": null,
       "isJsonSchema": true,
       "metadata": {},
       "overflow": false,
       "plotOptions": {
        "customPlotOptions": {},
        "displayType": "table",
        "pivotAggregation": null,
        "pivotColumns": null,
        "xColumns": null,
        "yColumns": null
       },
       "removedWidgets": [],
       "schema": [
        {
         "metadata": "{}",
         "name": "currency",
         "type": "\"string\""
        },
        {
         "metadata": "{}",
         "name": "total_amount_by_currency",
         "type": "\"double\""
        },
        {
         "metadata": "{}",
         "name": "avg_amount_by_currency",
         "type": "\"double\""
        }
       ],
       "type": "table"
      }
     },
     "output_type": "display_data"
    }
   ],
   "source": [
    "from pyspark.sql import functions as F\n",
    "\n",
    "def analyze_currency_data(transactions_df):\n",
    "    currency_analysis = transactions_df.groupBy(\"currency\") \\\n",
    "        .agg(\n",
    "            F.sum(\"amount\").alias(\"total_amount_by_currency\"),\n",
    "            F.avg(\"amount\").alias(\"avg_amount_by_currency\")\n",
    "        )\n",
    "\n",
    "    return currency_analysis\n",
    "\n",
    "currency_analysis_df = analyze_currency_data(transaction_df)\n",
    "currency_analysis_df.display()\n"
   ]
  },
  {
   "cell_type": "code",
   "execution_count": 0,
   "metadata": {
    "application/vnd.databricks.v1+cell": {
     "cellMetadata": {
      "byteLimit": 2048000,
      "rowLimit": 10000
     },
     "inputWidgets": {},
     "nuid": "94285e76-e87d-4711-9d70-30eef7d916a2",
     "showTitle": false,
     "title": ""
    }
   },
   "outputs": [
    {
     "output_type": "display_data",
     "data": {
      "text/html": [
       "<style scoped>\n",
       "  .table-result-container {\n",
       "    max-height: 300px;\n",
       "    overflow: auto;\n",
       "  }\n",
       "  table, th, td {\n",
       "    border: 1px solid black;\n",
       "    border-collapse: collapse;\n",
       "  }\n",
       "  th, td {\n",
       "    padding: 5px;\n",
       "  }\n",
       "  th {\n",
       "    text-align: left;\n",
       "  }\n",
       "</style><div class='table-result-container'><table class='table-result'><thead style='background-color: white'><tr><th>transaction_type</th><th>total_amount</th><th>average_amount</th><th>min_amount</th><th>max_amount</th><th>transaction_count</th></tr></thead><tbody><tr><td>TRANSFER</td><td>2359988.34</td><td>3084.95</td><td>1.0</td><td>107801.54</td><td>765</td></tr><tr><td>DEPOSIT</td><td>2369029.42</td><td>3214.42</td><td>1.0</td><td>124454.6</td><td>737</td></tr><tr><td>WITHDRAWAL</td><td>2226424.28</td><td>2929.51</td><td>1.0</td><td>128300.66</td><td>760</td></tr><tr><td>PAYMENT</td><td>1440281.56</td><td>1951.6</td><td>1.0</td><td>94278.03</td><td>738</td></tr></tbody></table></div>"
      ]
     },
     "metadata": {
      "application/vnd.databricks.v1+output": {
       "addedWidgets": {},
       "aggData": [],
       "aggError": "",
       "aggOverflow": false,
       "aggSchema": [],
       "aggSeriesLimitReached": false,
       "aggType": "",
       "arguments": {},
       "columnCustomDisplayInfos": {},
       "data": [
        [
         "TRANSFER",
         2359988.34,
         3084.95,
         1.0,
         107801.54,
         765
        ],
        [
         "DEPOSIT",
         2369029.42,
         3214.42,
         1.0,
         124454.6,
         737
        ],
        [
         "WITHDRAWAL",
         2226424.28,
         2929.51,
         1.0,
         128300.66,
         760
        ],
        [
         "PAYMENT",
         1440281.56,
         1951.6,
         1.0,
         94278.03,
         738
        ]
       ],
       "datasetInfos": [],
       "dbfsResultPath": null,
       "isJsonSchema": true,
       "metadata": {},
       "overflow": false,
       "plotOptions": {
        "customPlotOptions": {},
        "displayType": "table",
        "pivotAggregation": null,
        "pivotColumns": null,
        "xColumns": null,
        "yColumns": null
       },
       "removedWidgets": [],
       "schema": [
        {
         "metadata": "{}",
         "name": "transaction_type",
         "type": "\"string\""
        },
        {
         "metadata": "{}",
         "name": "total_amount",
         "type": "\"double\""
        },
        {
         "metadata": "{}",
         "name": "average_amount",
         "type": "\"double\""
        },
        {
         "metadata": "{}",
         "name": "min_amount",
         "type": "\"float\""
        },
        {
         "metadata": "{}",
         "name": "max_amount",
         "type": "\"float\""
        },
        {
         "metadata": "{}",
         "name": "transaction_count",
         "type": "\"long\""
        }
       ],
       "type": "table"
      }
     },
     "output_type": "display_data"
    }
   ],
   "source": [
    "from pyspark.sql import functions as F\n",
    "transaction_type_aggregations_df = transaction_df.groupBy(\"transaction_type\").agg(\n",
    "    F.round(F.sum(\"amount\"), 2).alias(\"total_amount\"),\n",
    "    F.round(F.avg(\"amount\"), 2).alias(\"average_amount\"),\n",
    "    F.min(\"amount\").alias(\"min_amount\"),\n",
    "    F.max(\"amount\").alias(\"max_amount\"),\n",
    "    F.count(\"amount\").alias(\"transaction_count\")\n",
    ")\n",
    "transaction_type_aggregations_df.display()\n"
   ]
  },
  {
   "cell_type": "code",
   "execution_count": 0,
   "metadata": {
    "application/vnd.databricks.v1+cell": {
     "cellMetadata": {
      "byteLimit": 2048000,
      "rowLimit": 10000
     },
     "inputWidgets": {},
     "nuid": "080fa3aa-5f46-40b5-9a9f-f1331e53906a",
     "showTitle": false,
     "title": ""
    }
   },
   "outputs": [
    {
     "output_type": "display_data",
     "data": {
      "text/html": [
       "<style scoped>\n",
       "  .table-result-container {\n",
       "    max-height: 300px;\n",
       "    overflow: auto;\n",
       "  }\n",
       "  table, th, td {\n",
       "    border: 1px solid black;\n",
       "    border-collapse: collapse;\n",
       "  }\n",
       "  th, td {\n",
       "    padding: 5px;\n",
       "  }\n",
       "  th {\n",
       "    text-align: left;\n",
       "  }\n",
       "</style><div class='table-result-container'><table class='table-result'><thead style='background-color: white'><tr><th>year</th><th>month</th><th>total_amount</th><th>average_amount</th><th>min_amount</th><th>max_amount</th><th>transaction_count</th></tr></thead><tbody><tr><td>2023</td><td>2</td><td>3802676.77</td><td>2763.57</td><td>1.0</td><td>128300.66</td><td>1376</td></tr><tr><td>2023</td><td>1</td><td>4235137.31</td><td>2782.61</td><td>1.0</td><td>124454.6</td><td>1522</td></tr><tr><td>2023</td><td>3</td><td>357909.52</td><td>3508.92</td><td>1.1</td><td>97065.97</td><td>102</td></tr></tbody></table></div>"
      ]
     },
     "metadata": {
      "application/vnd.databricks.v1+output": {
       "addedWidgets": {},
       "aggData": [],
       "aggError": "",
       "aggOverflow": false,
       "aggSchema": [],
       "aggSeriesLimitReached": false,
       "aggType": "",
       "arguments": {},
       "columnCustomDisplayInfos": {},
       "data": [
        [
         2023,
         2,
         3802676.77,
         2763.57,
         1.0,
         128300.66,
         1376
        ],
        [
         2023,
         1,
         4235137.31,
         2782.61,
         1.0,
         124454.6,
         1522
        ],
        [
         2023,
         3,
         357909.52,
         3508.92,
         1.1,
         97065.97,
         102
        ]
       ],
       "datasetInfos": [],
       "dbfsResultPath": null,
       "isJsonSchema": true,
       "metadata": {},
       "overflow": false,
       "plotOptions": {
        "customPlotOptions": {},
        "displayType": "table",
        "pivotAggregation": null,
        "pivotColumns": null,
        "xColumns": null,
        "yColumns": null
       },
       "removedWidgets": [],
       "schema": [
        {
         "metadata": "{}",
         "name": "year",
         "type": "\"integer\""
        },
        {
         "metadata": "{}",
         "name": "month",
         "type": "\"integer\""
        },
        {
         "metadata": "{}",
         "name": "total_amount",
         "type": "\"double\""
        },
        {
         "metadata": "{}",
         "name": "average_amount",
         "type": "\"double\""
        },
        {
         "metadata": "{}",
         "name": "min_amount",
         "type": "\"float\""
        },
        {
         "metadata": "{}",
         "name": "max_amount",
         "type": "\"float\""
        },
        {
         "metadata": "{}",
         "name": "transaction_count",
         "type": "\"long\""
        }
       ],
       "type": "table"
      }
     },
     "output_type": "display_data"
    }
   ],
   "source": [
    "from pyspark.sql import functions as F\n",
    "transaction_df = transaction_df.withColumn(\"year\", F.year(\"timestamp\"))\n",
    "transaction_df = transaction_df.withColumn(\"month\", F.month(\"timestamp\"))\n",
    "year_month_aggregations_df = transaction_df.groupBy(\"year\", \"month\").agg(\n",
    "    F.round(F.sum(\"amount\"), 2).alias(\"total_amount\"),\n",
    "    F.round(F.avg(\"amount\"), 2).alias(\"average_amount\"),\n",
    "    F.min(\"amount\").alias(\"min_amount\"),\n",
    "    F.max(\"amount\").alias(\"max_amount\"),\n",
    "    F.count(\"amount\").alias(\"transaction_count\")\n",
    ")\n",
    "year_month_aggregations_df.display()\n"
   ]
  },
  {
   "cell_type": "markdown",
   "metadata": {
    "application/vnd.databricks.v1+cell": {
     "cellMetadata": {},
     "inputWidgets": {},
     "nuid": "784e8d59-afeb-48e0-8eb6-8a746918361a",
     "showTitle": false,
     "title": ""
    }
   },
   "source": [
    "## Agg on join_date from customer_Table"
   ]
  },
  {
   "cell_type": "code",
   "execution_count": 0,
   "metadata": {
    "application/vnd.databricks.v1+cell": {
     "cellMetadata": {
      "byteLimit": 2048000,
      "rowLimit": 10000
     },
     "inputWidgets": {},
     "nuid": "03bedf8c-9bc3-4624-9085-fbb92f115a8a",
     "showTitle": false,
     "title": ""
    }
   },
   "outputs": [
    {
     "output_type": "display_data",
     "data": {
      "text/html": [
       "<style scoped>\n",
       "  .table-result-container {\n",
       "    max-height: 300px;\n",
       "    overflow: auto;\n",
       "  }\n",
       "  table, th, td {\n",
       "    border: 1px solid black;\n",
       "    border-collapse: collapse;\n",
       "  }\n",
       "  th, td {\n",
       "    padding: 5px;\n",
       "  }\n",
       "  th {\n",
       "    text-align: left;\n",
       "  }\n",
       "</style><div class='table-result-container'><table class='table-result'><thead style='background-color: white'><tr><th>join_year</th><th>total_amount</th><th>average_amount</th><th>min_amount</th><th>max_amount</th><th>transaction_count</th></tr></thead><tbody><tr><td>2018</td><td>1017817.78</td><td>1953.58</td><td>1.0</td><td>128300.66</td><td>521</td></tr><tr><td>2022</td><td>639972.4</td><td>1457.8</td><td>1.0</td><td>98557.41</td><td>439</td></tr><tr><td>2019</td><td>1687596.52</td><td>4056.72</td><td>1.0</td><td>126743.93</td><td>416</td></tr><tr><td>2020</td><td>1654549.87</td><td>2918.08</td><td>1.0</td><td>124454.6</td><td>567</td></tr><tr><td>2017</td><td>1841092.26</td><td>3168.83</td><td>1.0</td><td>97065.97</td><td>581</td></tr><tr><td>2021</td><td>1554694.77</td><td>3266.17</td><td>1.0</td><td>125253.77</td><td>476</td></tr></tbody></table></div>"
      ]
     },
     "metadata": {
      "application/vnd.databricks.v1+output": {
       "addedWidgets": {},
       "aggData": [],
       "aggError": "",
       "aggOverflow": false,
       "aggSchema": [],
       "aggSeriesLimitReached": false,
       "aggType": "",
       "arguments": {},
       "columnCustomDisplayInfos": {},
       "data": [
        [
         2018,
         1017817.78,
         1953.58,
         1.0,
         128300.66,
         521
        ],
        [
         2022,
         639972.4,
         1457.8,
         1.0,
         98557.41,
         439
        ],
        [
         2019,
         1687596.52,
         4056.72,
         1.0,
         126743.93,
         416
        ],
        [
         2020,
         1654549.87,
         2918.08,
         1.0,
         124454.6,
         567
        ],
        [
         2017,
         1841092.26,
         3168.83,
         1.0,
         97065.97,
         581
        ],
        [
         2021,
         1554694.77,
         3266.17,
         1.0,
         125253.77,
         476
        ]
       ],
       "datasetInfos": [],
       "dbfsResultPath": null,
       "isJsonSchema": true,
       "metadata": {},
       "overflow": false,
       "plotOptions": {
        "customPlotOptions": {},
        "displayType": "table",
        "pivotAggregation": null,
        "pivotColumns": null,
        "xColumns": null,
        "yColumns": null
       },
       "removedWidgets": [],
       "schema": [
        {
         "metadata": "{}",
         "name": "join_year",
         "type": "\"integer\""
        },
        {
         "metadata": "{}",
         "name": "total_amount",
         "type": "\"double\""
        },
        {
         "metadata": "{}",
         "name": "average_amount",
         "type": "\"double\""
        },
        {
         "metadata": "{}",
         "name": "min_amount",
         "type": "\"float\""
        },
        {
         "metadata": "{}",
         "name": "max_amount",
         "type": "\"float\""
        },
        {
         "metadata": "{}",
         "name": "transaction_count",
         "type": "\"long\""
        }
       ],
       "type": "table"
      }
     },
     "output_type": "display_data"
    }
   ],
   "source": [
    "from pyspark.sql import functions as F\n",
    "customer_df = customer_df.withColumn(\"join_year\", F.year(\"join_date\"))\n",
    "joined_df = transaction_df.join(customer_df, on=\"customer_id\", how=\"inner\")\n",
    "year_month_aggregations_df = joined_df.groupBy(\"join_year\").agg(\n",
    "    F.round(F.sum(\"amount\"), 2).alias(\"total_amount\"),\n",
    "    F.round(F.avg(\"amount\"), 2).alias(\"average_amount\"),\n",
    "    F.min(\"amount\").alias(\"min_amount\"),\n",
    "    F.max(\"amount\").alias(\"max_amount\"),\n",
    "    F.count(\"amount\").alias(\"transaction_count\")\n",
    ")\n",
    "year_month_aggregations_df.display()\n"
   ]
  },
  {
   "cell_type": "code",
   "execution_count": 0,
   "metadata": {
    "application/vnd.databricks.v1+cell": {
     "cellMetadata": {
      "byteLimit": 2048000,
      "rowLimit": 10000
     },
     "inputWidgets": {},
     "nuid": "308ee425-3b06-4a0b-8135-7a67e1968293",
     "showTitle": false,
     "title": ""
    }
   },
   "outputs": [
    {
     "output_type": "display_data",
     "data": {
      "text/html": [
       "<style scoped>\n",
       "  .table-result-container {\n",
       "    max-height: 300px;\n",
       "    overflow: auto;\n",
       "  }\n",
       "  table, th, td {\n",
       "    border: 1px solid black;\n",
       "    border-collapse: collapse;\n",
       "  }\n",
       "  th, td {\n",
       "    padding: 5px;\n",
       "  }\n",
       "  th {\n",
       "    text-align: left;\n",
       "  }\n",
       "</style><div class='table-result-container'><table class='table-result'><thead style='background-color: white'><tr><th>customer_id</th><th>total_amount</th><th>segment</th></tr></thead><tbody><tr><td>C1804</td><td>234.04</td><td>Low Value</td></tr><tr><td>C1875</td><td>134.89</td><td>Low Value</td></tr><tr><td>C1602</td><td>165.59</td><td>Low Value</td></tr><tr><td>C1524</td><td>109.49</td><td>Low Value</td></tr><tr><td>C1100</td><td>114.31</td><td>Low Value</td></tr><tr><td>C1842</td><td>93.53</td><td>Low Value</td></tr><tr><td>C1628</td><td>40.83</td><td>Low Value</td></tr><tr><td>C1829</td><td>170.52</td><td>Low Value</td></tr><tr><td>C1305</td><td>26.48</td><td>Low Value</td></tr><tr><td>C1774</td><td>92.38</td><td>Low Value</td></tr><tr><td>C1917</td><td>127.19</td><td>Low Value</td></tr><tr><td>C1189</td><td>99.02</td><td>Low Value</td></tr><tr><td>C1194</td><td>27.74</td><td>Low Value</td></tr><tr><td>C1665</td><td>70.31</td><td>Low Value</td></tr><tr><td>C1482</td><td>109.07</td><td>Low Value</td></tr><tr><td>C1586</td><td>95.33</td><td>Low Value</td></tr><tr><td>C1729</td><td>48790.97</td><td>High Value</td></tr><tr><td>C1358</td><td>140.15</td><td>Low Value</td></tr><tr><td>C1096</td><td>212.36</td><td>Low Value</td></tr><tr><td>C1852</td><td>102.98</td><td>Low Value</td></tr><tr><td>C1212</td><td>99.23</td><td>Low Value</td></tr><tr><td>C1642</td><td>30.73</td><td>Low Value</td></tr><tr><td>C1520</td><td>88.68</td><td>Low Value</td></tr><tr><td>C1623</td><td>116.3</td><td>Low Value</td></tr><tr><td>C1704</td><td>44918.98</td><td>High Value</td></tr><tr><td>C1815</td><td>266.76</td><td>Low Value</td></tr><tr><td>C1491</td><td>146.87</td><td>Low Value</td></tr><tr><td>C1195</td><td>90.55</td><td>Low Value</td></tr><tr><td>C1454</td><td>114.28</td><td>Low Value</td></tr><tr><td>C1173</td><td>58.44</td><td>Low Value</td></tr><tr><td>C1740</td><td>137.13</td><td>Low Value</td></tr><tr><td>C1943</td><td>62.45</td><td>Low Value</td></tr><tr><td>C1649</td><td>52876.02</td><td>High Value</td></tr><tr><td>C1396</td><td>65.84</td><td>Low Value</td></tr><tr><td>C1023</td><td>106.44</td><td>Low Value</td></tr><tr><td>C1498</td><td>69.87</td><td>Low Value</td></tr><tr><td>C1947</td><td>35159.1</td><td>High Value</td></tr><tr><td>C1798</td><td>127.62</td><td>Low Value</td></tr><tr><td>C1769</td><td>87.08</td><td>Low Value</td></tr><tr><td>C1337</td><td>24.49</td><td>Low Value</td></tr><tr><td>C1703</td><td>173.24</td><td>Low Value</td></tr><tr><td>C1036</td><td>135.58</td><td>Low Value</td></tr><tr><td>C1114</td><td>152.5</td><td>Low Value</td></tr><tr><td>C1934</td><td>100.21</td><td>Low Value</td></tr><tr><td>C1918</td><td>54.88</td><td>Low Value</td></tr><tr><td>C1732</td><td>178.99</td><td>Low Value</td></tr><tr><td>C1321</td><td>168.51</td><td>Low Value</td></tr><tr><td>C1328</td><td>203.85</td><td>Low Value</td></tr><tr><td>C1542</td><td>96.28</td><td>Low Value</td></tr><tr><td>C1127</td><td>22.64</td><td>Low Value</td></tr><tr><td>C1570</td><td>14422.54</td><td>High Value</td></tr><tr><td>C1600</td><td>34.47</td><td>Low Value</td></tr><tr><td>C1952</td><td>65809.13</td><td>High Value</td></tr><tr><td>C1526</td><td>159.02</td><td>Low Value</td></tr><tr><td>C1485</td><td>76344.17</td><td>High Value</td></tr><tr><td>C1608</td><td>35.66</td><td>Low Value</td></tr><tr><td>C1507</td><td>113.28</td><td>Low Value</td></tr><tr><td>C1937</td><td>152.99</td><td>Low Value</td></tr><tr><td>C1359</td><td>133.88</td><td>Low Value</td></tr><tr><td>C1020</td><td>1.1</td><td>Low Value</td></tr><tr><td>C1558</td><td>118.18</td><td>Low Value</td></tr><tr><td>C1717</td><td>197.83</td><td>Low Value</td></tr><tr><td>C1322</td><td>86.94</td><td>Low Value</td></tr><tr><td>C1186</td><td>147.24</td><td>Low Value</td></tr><tr><td>C1893</td><td>137.95</td><td>Low Value</td></tr><tr><td>C1658</td><td>164.52</td><td>Low Value</td></tr><tr><td>C1587</td><td>130.88</td><td>Low Value</td></tr><tr><td>C1030</td><td>74.54</td><td>Low Value</td></tr><tr><td>C1462</td><td>203.84</td><td>Low Value</td></tr><tr><td>C1076</td><td>108.28</td><td>Low Value</td></tr><tr><td>C1156</td><td>10721.36</td><td>High Value</td></tr><tr><td>C1662</td><td>59.63</td><td>Low Value</td></tr><tr><td>C1859</td><td>41.83</td><td>Low Value</td></tr><tr><td>C1332</td><td>145.52</td><td>Low Value</td></tr><tr><td>C1118</td><td>112940.35</td><td>High Value</td></tr><tr><td>C1759</td><td>49.42</td><td>Low Value</td></tr><tr><td>C1668</td><td>136.54</td><td>Low Value</td></tr><tr><td>C1854</td><td>43.26</td><td>Low Value</td></tr><tr><td>C1559</td><td>62.72</td><td>Low Value</td></tr><tr><td>C1479</td><td>101.55</td><td>Low Value</td></tr><tr><td>C1300</td><td>169.1</td><td>Low Value</td></tr><tr><td>C1549</td><td>21.2</td><td>Low Value</td></tr><tr><td>C1552</td><td>60.59</td><td>Low Value</td></tr><tr><td>C1609</td><td>212.57</td><td>Low Value</td></tr><tr><td>C1115</td><td>193.31</td><td>Low Value</td></tr><tr><td>C1409</td><td>168.41</td><td>Low Value</td></tr><tr><td>C1239</td><td>79.2</td><td>Low Value</td></tr><tr><td>C1908</td><td>66.4</td><td>Low Value</td></tr><tr><td>C1110</td><td>50480.89</td><td>High Value</td></tr><tr><td>C1585</td><td>120312.89</td><td>High Value</td></tr><tr><td>C1375</td><td>71.77</td><td>Low Value</td></tr><tr><td>C1675</td><td>91.61</td><td>Low Value</td></tr><tr><td>C1706</td><td>198.54</td><td>Low Value</td></tr><tr><td>C1601</td><td>74.68</td><td>Low Value</td></tr><tr><td>C1879</td><td>136.14</td><td>Low Value</td></tr><tr><td>C1574</td><td>62.85</td><td>Low Value</td></tr><tr><td>C1543</td><td>115.41</td><td>Low Value</td></tr><tr><td>C1974</td><td>47.25</td><td>Low Value</td></tr><tr><td>C1131</td><td>147.34</td><td>Low Value</td></tr><tr><td>C1951</td><td>180.61</td><td>Low Value</td></tr><tr><td>C1837</td><td>83304.65</td><td>High Value</td></tr><tr><td>C1534</td><td>70643.11</td><td>High Value</td></tr><tr><td>C1811</td><td>145.47</td><td>Low Value</td></tr><tr><td>C1284</td><td>25.62</td><td>Low Value</td></tr><tr><td>C1314</td><td>122.62</td><td>Low Value</td></tr><tr><td>C1625</td><td>33.09</td><td>Low Value</td></tr><tr><td>C1767</td><td>74.23</td><td>Low Value</td></tr><tr><td>C1267</td><td>107.36</td><td>Low Value</td></tr><tr><td>C1699</td><td>28.57</td><td>Low Value</td></tr><tr><td>C1536</td><td>66.38</td><td>Low Value</td></tr><tr><td>C1079</td><td>39401.02</td><td>High Value</td></tr><tr><td>C1144</td><td>158.2</td><td>Low Value</td></tr><tr><td>C1001</td><td>98.68</td><td>Low Value</td></tr><tr><td>C1349</td><td>239.69</td><td>Low Value</td></tr><tr><td>C1707</td><td>65398.72</td><td>High Value</td></tr><tr><td>C1661</td><td>38223.27</td><td>High Value</td></tr><tr><td>C1743</td><td>146.02</td><td>Low Value</td></tr><tr><td>C1119</td><td>42.63</td><td>Low Value</td></tr><tr><td>C1086</td><td>119.35</td><td>Low Value</td></tr><tr><td>C1473</td><td>61.6</td><td>Low Value</td></tr><tr><td>C1932</td><td>123.55</td><td>Low Value</td></tr><tr><td>C1055</td><td>11.07</td><td>Low Value</td></tr><tr><td>C1910</td><td>36.92</td><td>Low Value</td></tr><tr><td>C1844</td><td>66.33</td><td>Low Value</td></tr><tr><td>C1081</td><td>44303.75</td><td>High Value</td></tr><tr><td>C1827</td><td>219.51</td><td>Low Value</td></tr><tr><td>C1855</td><td>78.55</td><td>Low Value</td></tr><tr><td>C1290</td><td>131.94</td><td>Low Value</td></tr><tr><td>C1181</td><td>77.13</td><td>Low Value</td></tr><tr><td>C1386</td><td>57979.76</td><td>High Value</td></tr><tr><td>C1109</td><td>129.89</td><td>Low Value</td></tr><tr><td>C1599</td><td>243.03</td><td>Low Value</td></tr><tr><td>C1723</td><td>11.76</td><td>Low Value</td></tr><tr><td>C1053</td><td>159.95</td><td>Low Value</td></tr><tr><td>C1909</td><td>49606.51</td><td>High Value</td></tr><tr><td>C1547</td><td>203.08</td><td>Low Value</td></tr><tr><td>C1618</td><td>212.48</td><td>Low Value</td></tr><tr><td>C1056</td><td>60.2</td><td>Low Value</td></tr><tr><td>C1304</td><td>71701.05</td><td>High Value</td></tr><tr><td>C1283</td><td>189.36</td><td>Low Value</td></tr><tr><td>C1933</td><td>27.72</td><td>Low Value</td></tr><tr><td>C1157</td><td>109.58</td><td>Low Value</td></tr><tr><td>C1694</td><td>137.51</td><td>Low Value</td></tr><tr><td>C1348</td><td>102.78</td><td>Low Value</td></tr><tr><td>C1263</td><td>85.43</td><td>Low Value</td></tr><tr><td>C1355</td><td>133.84</td><td>Low Value</td></tr><tr><td>C1294</td><td>80.1</td><td>Low Value</td></tr><tr><td>C1863</td><td>77.93</td><td>Low Value</td></tr><tr><td>C1796</td><td>34.9</td><td>Low Value</td></tr><tr><td>C1629</td><td>42.97</td><td>Low Value</td></tr><tr><td>C1876</td><td>181.15</td><td>Low Value</td></tr><tr><td>C1684</td><td>187.72</td><td>Low Value</td></tr><tr><td>C1249</td><td>67.61</td><td>Low Value</td></tr><tr><td>C1502</td><td>104.4</td><td>Low Value</td></tr><tr><td>C1028</td><td>127.63</td><td>Low Value</td></tr><tr><td>C1385</td><td>67.36</td><td>Low Value</td></tr><tr><td>C1768</td><td>100.04</td><td>Low Value</td></tr><tr><td>C1970</td><td>187.55</td><td>Low Value</td></tr><tr><td>C1582</td><td>108.19</td><td>Low Value</td></tr><tr><td>C1433</td><td>242.71</td><td>Low Value</td></tr><tr><td>C1839</td><td>190.76</td><td>Low Value</td></tr><tr><td>C1041</td><td>58.01</td><td>Low Value</td></tr><tr><td>C1801</td><td>81189.27</td><td>High Value</td></tr><tr><td>C1915</td><td>69.5</td><td>Low Value</td></tr><tr><td>C1237</td><td>143.22</td><td>Low Value</td></tr><tr><td>C1595</td><td>24.71</td><td>Low Value</td></tr><tr><td>C1686</td><td>86.84</td><td>Low Value</td></tr><tr><td>C1631</td><td>57.03</td><td>Low Value</td></tr><tr><td>C1891</td><td>297.01</td><td>Low Value</td></tr><tr><td>C1797</td><td>71.31</td><td>Low Value</td></tr><tr><td>C1961</td><td>30.95</td><td>Low Value</td></tr><tr><td>C1674</td><td>104.57</td><td>Low Value</td></tr><tr><td>C1591</td><td>23662.65</td><td>High Value</td></tr><tr><td>C1336</td><td>312.06</td><td>Low Value</td></tr><tr><td>C1627</td><td>209.26</td><td>Low Value</td></tr><tr><td>C1889</td><td>215.09</td><td>Low Value</td></tr><tr><td>C1648</td><td>386.7</td><td>Low Value</td></tr><tr><td>C1824</td><td>225.4</td><td>Low Value</td></tr><tr><td>C1535</td><td>59.35</td><td>Low Value</td></tr><tr><td>C1058</td><td>133.64</td><td>Low Value</td></tr><tr><td>C1004</td><td>252.1</td><td>Low Value</td></tr><tr><td>C1753</td><td>219.7</td><td>Low Value</td></tr><tr><td>C1146</td><td>52.95</td><td>Low Value</td></tr><tr><td>C1792</td><td>14.46</td><td>Low Value</td></tr><tr><td>C1726</td><td>18.92</td><td>Low Value</td></tr><tr><td>C1169</td><td>129.43</td><td>Low Value</td></tr><tr><td>C1903</td><td>50.44</td><td>Low Value</td></tr><tr><td>C1461</td><td>154.56</td><td>Low Value</td></tr><tr><td>C1318</td><td>132.09</td><td>Low Value</td></tr><tr><td>C1345</td><td>81.81</td><td>Low Value</td></tr><tr><td>C1388</td><td>98.99</td><td>Low Value</td></tr><tr><td>C1806</td><td>70027.87</td><td>High Value</td></tr><tr><td>C1780</td><td>81.88</td><td>Low Value</td></tr><tr><td>C1450</td><td>60.66</td><td>Low Value</td></tr><tr><td>C1660</td><td>144.84</td><td>Low Value</td></tr><tr><td>C1193</td><td>73.34</td><td>Low Value</td></tr><tr><td>C1998</td><td>72.26</td><td>Low Value</td></tr><tr><td>C1341</td><td>284.16</td><td>Low Value</td></tr><tr><td>C1468</td><td>95.32</td><td>Low Value</td></tr><tr><td>C1728</td><td>44901.74</td><td>High Value</td></tr><tr><td>C1280</td><td>56.27</td><td>Low Value</td></tr><tr><td>C1051</td><td>95.85</td><td>Low Value</td></tr><tr><td>C1527</td><td>188.13</td><td>Low Value</td></tr><tr><td>C1568</td><td>111.87</td><td>Low Value</td></tr><tr><td>C1204</td><td>48.09</td><td>Low Value</td></tr><tr><td>C1179</td><td>265.97</td><td>Low Value</td></tr><tr><td>C1293</td><td>73.21</td><td>Low Value</td></tr><tr><td>C1291</td><td>1.39</td><td>Low Value</td></tr><tr><td>C1646</td><td>40.31</td><td>Low Value</td></tr><tr><td>C1344</td><td>17036.51</td><td>High Value</td></tr><tr><td>C1635</td><td>11687.31</td><td>High Value</td></tr><tr><td>C1835</td><td>61.64</td><td>Low Value</td></tr><tr><td>C1551</td><td>121.15</td><td>Low Value</td></tr><tr><td>C1980</td><td>50.64</td><td>Low Value</td></tr><tr><td>C1942</td><td>117.86</td><td>Low Value</td></tr><tr><td>C1497</td><td>17.99</td><td>Low Value</td></tr><tr><td>C1054</td><td>149.24</td><td>Low Value</td></tr><tr><td>C1007</td><td>174.86</td><td>Low Value</td></tr><tr><td>C1155</td><td>95.39</td><td>Low Value</td></tr><tr><td>C1338</td><td>174.12</td><td>Low Value</td></tr><tr><td>C1653</td><td>29.72</td><td>Low Value</td></tr><tr><td>C1800</td><td>1.0</td><td>Low Value</td></tr><tr><td>C1374</td><td>1.29</td><td>Low Value</td></tr><tr><td>C1531</td><td>53548.11</td><td>High Value</td></tr><tr><td>C1027</td><td>91.34</td><td>Low Value</td></tr><tr><td>C1487</td><td>66646.46</td><td>High Value</td></tr><tr><td>C1241</td><td>16.52</td><td>Low Value</td></tr><tr><td>C1178</td><td>76.19</td><td>Low Value</td></tr><tr><td>C1650</td><td>100.22</td><td>Low Value</td></tr><tr><td>C1799</td><td>208.88</td><td>Low Value</td></tr><tr><td>C1610</td><td>109956.11</td><td>High Value</td></tr><tr><td>C1366</td><td>85.56</td><td>Low Value</td></tr><tr><td>C1247</td><td>233.11</td><td>Low Value</td></tr><tr><td>C1236</td><td>63.49</td><td>Low Value</td></tr><tr><td>C1277</td><td>31.33</td><td>Low Value</td></tr><tr><td>C1564</td><td>125.57</td><td>Low Value</td></tr><tr><td>C1039</td><td>24350.2</td><td>High Value</td></tr><tr><td>C1673</td><td>99.9</td><td>Low Value</td></tr><tr><td>C1398</td><td>163.69</td><td>Low Value</td></tr><tr><td>C1981</td><td>164.56</td><td>Low Value</td></tr><tr><td>C1530</td><td>375.86</td><td>Low Value</td></tr><tr><td>C1403</td><td>46.56</td><td>Low Value</td></tr><tr><td>C1415</td><td>99366.3</td><td>High Value</td></tr><tr><td>C1537</td><td>64688.01</td><td>High Value</td></tr><tr><td>C1592</td><td>72.99</td><td>Low Value</td></tr><tr><td>C1956</td><td>42.27</td><td>Low Value</td></tr><tr><td>C1906</td><td>164.38</td><td>Low Value</td></tr><tr><td>C1022</td><td>23.76</td><td>Low Value</td></tr><tr><td>C1639</td><td>36.17</td><td>Low Value</td></tr><tr><td>C1687</td><td>15.87</td><td>Low Value</td></tr><tr><td>C1206</td><td>160.74</td><td>Low Value</td></tr><tr><td>C1094</td><td>176.29</td><td>Low Value</td></tr><tr><td>C1025</td><td>183.19</td><td>Low Value</td></tr><tr><td>C1082</td><td>86.62</td><td>Low Value</td></tr><tr><td>C1214</td><td>98.64</td><td>Low Value</td></tr><tr><td>C1838</td><td>4.72</td><td>Low Value</td></tr><tr><td>C1869</td><td>177.29</td><td>Low Value</td></tr><tr><td>C1078</td><td>3.8</td><td>Low Value</td></tr><tr><td>C1731</td><td>35.26</td><td>Low Value</td></tr><tr><td>C1139</td><td>117.14</td><td>Low Value</td></tr><tr><td>C1664</td><td>109.48</td><td>Low Value</td></tr><tr><td>C1183</td><td>131.07</td><td>Low Value</td></tr><tr><td>C1722</td><td>26.35</td><td>Low Value</td></tr><tr><td>C1886</td><td>83.38</td><td>Low Value</td></tr><tr><td>C1988</td><td>190.81</td><td>Low Value</td></tr><tr><td>C1295</td><td>377.83</td><td>Low Value</td></tr><tr><td>C1253</td><td>167.1</td><td>Low Value</td></tr><tr><td>C1411</td><td>28855.15</td><td>High Value</td></tr><tr><td>C1012</td><td>207.73</td><td>Low Value</td></tr><tr><td>C1890</td><td>142.45</td><td>Low Value</td></tr><tr><td>C1927</td><td>57423.56</td><td>High Value</td></tr><tr><td>C1205</td><td>127.74</td><td>Low Value</td></tr><tr><td>C1330</td><td>52.74</td><td>Low Value</td></tr><tr><td>C1616</td><td>4.78</td><td>Low Value</td></tr><tr><td>C1825</td><td>43390.39</td><td>High Value</td></tr><tr><td>C1302</td><td>93.77</td><td>Low Value</td></tr><tr><td>C1931</td><td>48.08</td><td>Low Value</td></tr><tr><td>C1434</td><td>38.54</td><td>Low Value</td></tr><tr><td>C1528</td><td>318.25</td><td>Low Value</td></tr><tr><td>C1315</td><td>90640.21</td><td>High Value</td></tr><tr><td>C1971</td><td>112.94</td><td>Low Value</td></tr><tr><td>C1807</td><td>162.45</td><td>Low Value</td></tr><tr><td>C1378</td><td>116.84</td><td>Low Value</td></tr><tr><td>C1851</td><td>277.95</td><td>Low Value</td></tr><tr><td>C1718</td><td>281.01</td><td>Low Value</td></tr><tr><td>C1250</td><td>149.24</td><td>Low Value</td></tr><tr><td>C1390</td><td>87202.08</td><td>High Value</td></tr><tr><td>C1555</td><td>49.68</td><td>Low Value</td></tr><tr><td>C1865</td><td>30316.53</td><td>High Value</td></tr><tr><td>C1719</td><td>99052.27</td><td>High Value</td></tr><tr><td>C1702</td><td>170547.04</td><td>High Value</td></tr><tr><td>C1261</td><td>107.95</td><td>Low Value</td></tr><tr><td>C1679</td><td>113.79</td><td>Low Value</td></tr><tr><td>C1123</td><td>39082.64</td><td>High Value</td></tr><tr><td>C1326</td><td>125.4</td><td>Low Value</td></tr><tr><td>C1217</td><td>174.45</td><td>Low Value</td></tr><tr><td>C1335</td><td>125.4</td><td>Low Value</td></tr><tr><td>C1397</td><td>111.62</td><td>Low Value</td></tr><tr><td>C1874</td><td>65.64</td><td>Low Value</td></tr><tr><td>C1620</td><td>111.82</td><td>Low Value</td></tr><tr><td>C1233</td><td>119.59</td><td>Low Value</td></tr><tr><td>C1026</td><td>213.88</td><td>Low Value</td></tr><tr><td>C1866</td><td>109.43</td><td>Low Value</td></tr><tr><td>C1418</td><td>27782.84</td><td>High Value</td></tr><tr><td>C1191</td><td>103.03</td><td>Low Value</td></tr><tr><td>C1678</td><td>7.21</td><td>Low Value</td></tr><tr><td>C1841</td><td>32.43</td><td>Low Value</td></tr><tr><td>C1580</td><td>130.3</td><td>Low Value</td></tr><tr><td>C1188</td><td>288.45</td><td>Low Value</td></tr><tr><td>C1765</td><td>110.45</td><td>Low Value</td></tr><tr><td>C1303</td><td>125.16</td><td>Low Value</td></tr><tr><td>C1772</td><td>32.17</td><td>Low Value</td></tr><tr><td>C1441</td><td>121.87</td><td>Low Value</td></tr><tr><td>C1317</td><td>90.14</td><td>Low Value</td></tr><tr><td>C1563</td><td>67.22</td><td>Low Value</td></tr><tr><td>C1761</td><td>229.58</td><td>Low Value</td></tr><tr><td>C1517</td><td>59.83</td><td>Low Value</td></tr><tr><td>C1715</td><td>151.71</td><td>Low Value</td></tr><tr><td>C1676</td><td>262.81</td><td>Low Value</td></tr><tr><td>C1928</td><td>15.9</td><td>Low Value</td></tr><tr><td>C1457</td><td>128.31</td><td>Low Value</td></tr><tr><td>C1340</td><td>374.13</td><td>Low Value</td></tr><tr><td>C1831</td><td>119.98</td><td>Low Value</td></tr><tr><td>C1763</td><td>204.23</td><td>Low Value</td></tr><tr><td>C1140</td><td>37.87</td><td>Low Value</td></tr><tr><td>C1444</td><td>52076.48</td><td>High Value</td></tr><tr><td>C1463</td><td>95.05</td><td>Low Value</td></tr><tr><td>C1667</td><td>81.72</td><td>Low Value</td></tr><tr><td>C1423</td><td>176.49</td><td>Low Value</td></tr><tr><td>C1446</td><td>49.72</td><td>Low Value</td></tr><tr><td>C1135</td><td>147.94</td><td>Low Value</td></tr><tr><td>C1850</td><td>37.43</td><td>Low Value</td></tr><tr><td>C1681</td><td>222.09</td><td>Low Value</td></tr><tr><td>C1518</td><td>163.75</td><td>Low Value</td></tr><tr><td>C1320</td><td>237.2</td><td>Low Value</td></tr><tr><td>C1226</td><td>92.33</td><td>Low Value</td></tr><tr><td>C1132</td><td>30.99</td><td>Low Value</td></tr><tr><td>C1916</td><td>133.58</td><td>Low Value</td></tr><tr><td>C1376</td><td>165.25</td><td>Low Value</td></tr><tr><td>C1347</td><td>43947.69</td><td>High Value</td></tr><tr><td>C1121</td><td>39.74</td><td>Low Value</td></tr><tr><td>C1652</td><td>67.94</td><td>Low Value</td></tr><tr><td>C1306</td><td>260.3</td><td>Low Value</td></tr><tr><td>C1708</td><td>9.19</td><td>Low Value</td></tr><tr><td>C1342</td><td>50.23</td><td>Low Value</td></tr><tr><td>C1666</td><td>34397.03</td><td>High Value</td></tr><tr><td>C1384</td><td>76921.94</td><td>High Value</td></tr><tr><td>C1923</td><td>10226.45</td><td>High Value</td></tr><tr><td>C1024</td><td>23125.42</td><td>High Value</td></tr><tr><td>C1720</td><td>129.93</td><td>Low Value</td></tr><tr><td>C1245</td><td>63.66</td><td>Low Value</td></tr><tr><td>C1896</td><td>57.02</td><td>Low Value</td></tr><tr><td>C1040</td><td>35526.93</td><td>High Value</td></tr><tr><td>C1567</td><td>125.73</td><td>Low Value</td></tr><tr><td>C1407</td><td>43.69</td><td>Low Value</td></tr><tr><td>C1862</td><td>71.72</td><td>Low Value</td></tr><tr><td>C1562</td><td>62.3</td><td>Low Value</td></tr><tr><td>C1489</td><td>66254.62</td><td>High Value</td></tr><tr><td>C1713</td><td>86.06</td><td>Low Value</td></tr><tr><td>C1101</td><td>38.28</td><td>Low Value</td></tr><tr><td>C1416</td><td>145.72</td><td>Low Value</td></tr><tr><td>C1281</td><td>154.4</td><td>Low Value</td></tr><tr><td>C1073</td><td>45.55</td><td>Low Value</td></tr><tr><td>C1382</td><td>126795.33</td><td>High Value</td></tr><tr><td>C1995</td><td>117.73</td><td>Low Value</td></tr><tr><td>C1967</td><td>230.64</td><td>Low Value</td></tr><tr><td>C1553</td><td>69275.19</td><td>High Value</td></tr><tr><td>C1857</td><td>26770.99</td><td>High Value</td></tr><tr><td>C1603</td><td>162.1</td><td>Low Value</td></tr><tr><td>C1333</td><td>117.54</td><td>Low Value</td></tr><tr><td>C1659</td><td>97.44</td><td>Low Value</td></tr><tr><td>C1116</td><td>90.16</td><td>Low Value</td></tr><tr><td>C1596</td><td>15457.11</td><td>High Value</td></tr><tr><td>C1373</td><td>18.56</td><td>Low Value</td></tr><tr><td>C1000</td><td>104.0</td><td>Low Value</td></tr><tr><td>C1560</td><td>69400.52</td><td>High Value</td></tr><tr><td>C1739</td><td>45.12</td><td>Low Value</td></tr><tr><td>C1425</td><td>96.25</td><td>Low Value</td></tr><tr><td>C1460</td><td>200.77</td><td>Low Value</td></tr><tr><td>C1745</td><td>89.65</td><td>Low Value</td></tr><tr><td>C1795</td><td>295.86</td><td>Low Value</td></tr><tr><td>C1142</td><td>172.93</td><td>Low Value</td></tr><tr><td>C1741</td><td>143.5</td><td>Low Value</td></tr><tr><td>C1619</td><td>102.01</td><td>Low Value</td></tr><tr><td>C1671</td><td>64.55</td><td>Low Value</td></tr><tr><td>C1959</td><td>93114.98</td><td>High Value</td></tr><tr><td>C1102</td><td>87861.62</td><td>High Value</td></tr><tr><td>C1996</td><td>47.13</td><td>Low Value</td></tr><tr><td>C1787</td><td>60.1</td><td>Low Value</td></tr><tr><td>C1410</td><td>85412.28</td><td>High Value</td></tr><tr><td>C1316</td><td>176.28</td><td>Low Value</td></tr><tr><td>C1894</td><td>191.15</td><td>Low Value</td></tr><tr><td>C1221</td><td>135.08</td><td>Low Value</td></tr><tr><td>C1953</td><td>41.99</td><td>Low Value</td></tr><tr><td>C1672</td><td>59.29</td><td>Low Value</td></tr><tr><td>C1898</td><td>182.19</td><td>Low Value</td></tr><tr><td>C1954</td><td>27.7</td><td>Low Value</td></tr><tr><td>C1368</td><td>13.79</td><td>Low Value</td></tr><tr><td>C1830</td><td>201.4</td><td>Low Value</td></tr><tr><td>C1669</td><td>39.98</td><td>Low Value</td></tr><tr><td>C1963</td><td>62.32</td><td>Low Value</td></tr><tr><td>C1208</td><td>85294.25</td><td>High Value</td></tr><tr><td>C1762</td><td>200.6</td><td>Low Value</td></tr><tr><td>C1561</td><td>173.09</td><td>Low Value</td></tr><tr><td>C1087</td><td>207.2</td><td>Low Value</td></tr><tr><td>C1477</td><td>185.52</td><td>Low Value</td></tr><tr><td>C1742</td><td>111.35</td><td>Low Value</td></tr><tr><td>C1691</td><td>43.46</td><td>Low Value</td></tr><tr><td>C1990</td><td>69.69</td><td>Low Value</td></tr><tr><td>C1184</td><td>107.39</td><td>Low Value</td></tr><tr><td>C1176</td><td>132.78</td><td>Low Value</td></tr><tr><td>C1331</td><td>95.81</td><td>Low Value</td></tr><tr><td>C1436</td><td>22.87</td><td>Low Value</td></tr><tr><td>C1269</td><td>95.29</td><td>Low Value</td></tr><tr><td>C1696</td><td>113.12</td><td>Low Value</td></tr><tr><td>C1826</td><td>42.9</td><td>Low Value</td></tr><tr><td>C1218</td><td>194.66</td><td>Low Value</td></tr><tr><td>C1129</td><td>129.22</td><td>Low Value</td></tr><tr><td>C1381</td><td>144.02</td><td>Low Value</td></tr><tr><td>C1594</td><td>40.75</td><td>Low Value</td></tr><tr><td>C1288</td><td>95.6</td><td>Low Value</td></tr><tr><td>C1128</td><td>25572.44</td><td>High Value</td></tr><tr><td>C1308</td><td>109.89</td><td>Low Value</td></tr><tr><td>C1992</td><td>45.98</td><td>Low Value</td></tr><tr><td>C1727</td><td>298.24</td><td>Low Value</td></tr><tr><td>C1424</td><td>160.6</td><td>Low Value</td></tr><tr><td>C1090</td><td>32.97</td><td>Low Value</td></tr><tr><td>C1037</td><td>42466.53</td><td>High Value</td></tr><tr><td>C1220</td><td>284.15</td><td>Low Value</td></tr><tr><td>C1758</td><td>94.46</td><td>Low Value</td></tr><tr><td>C1104</td><td>20.25</td><td>Low Value</td></tr><tr><td>C1572</td><td>119.01</td><td>Low Value</td></tr><tr><td>C1941</td><td>63.52</td><td>Low Value</td></tr><tr><td>C1196</td><td>151.35</td><td>Low Value</td></tr><tr><td>C1185</td><td>20053.78</td><td>High Value</td></tr><tr><td>C1455</td><td>92.03</td><td>Low Value</td></tr><tr><td>C1846</td><td>47.27</td><td>Low Value</td></tr><tr><td>C1097</td><td>66800.84</td><td>High Value</td></tr><tr><td>C1258</td><td>28.58</td><td>Low Value</td></tr><tr><td>C1438</td><td>35.28</td><td>Low Value</td></tr><tr><td>C1944</td><td>53035.3</td><td>High Value</td></tr><tr><td>C1888</td><td>84.04</td><td>Low Value</td></tr><tr><td>C1604</td><td>163.19</td><td>Low Value</td></tr><tr><td>C1029</td><td>52.29</td><td>Low Value</td></tr><tr><td>C1354</td><td>105.49</td><td>Low Value</td></tr><tr><td>C1428</td><td>144.61</td><td>Low Value</td></tr><tr><td>C1541</td><td>111.81</td><td>Low Value</td></tr><tr><td>C1063</td><td>62.27</td><td>Low Value</td></tr><tr><td>C1803</td><td>104.0</td><td>Low Value</td></tr><tr><td>C1755</td><td>22.83</td><td>Low Value</td></tr><tr><td>C1805</td><td>44.19</td><td>Low Value</td></tr><tr><td>C1413</td><td>11.6</td><td>Low Value</td></tr><tr><td>C1810</td><td>61314.11</td><td>High Value</td></tr><tr><td>C1429</td><td>28581.47</td><td>High Value</td></tr><tr><td>C1781</td><td>164.04</td><td>Low Value</td></tr><tr><td>C1724</td><td>44.12</td><td>Low Value</td></tr><tr><td>C1714</td><td>125.25</td><td>Low Value</td></tr><tr><td>C1730</td><td>125259.15</td><td>High Value</td></tr><tr><td>C1276</td><td>109.66</td><td>Low Value</td></tr><tr><td>C1519</td><td>142.57</td><td>Low Value</td></tr><tr><td>C1999</td><td>9.02</td><td>Low Value</td></tr><tr><td>C1251</td><td>36.34</td><td>Low Value</td></tr><tr><td>C1298</td><td>57575.45</td><td>High Value</td></tr><tr><td>C1260</td><td>67.6</td><td>Low Value</td></tr><tr><td>C1182</td><td>310.95</td><td>Low Value</td></tr><tr><td>C1509</td><td>85.61</td><td>Low Value</td></tr><tr><td>C1472</td><td>77.72</td><td>Low Value</td></tr><tr><td>C1847</td><td>20.94</td><td>Low Value</td></tr><tr><td>C1522</td><td>30.37</td><td>Low Value</td></tr><tr><td>C1098</td><td>177.12</td><td>Low Value</td></tr><tr><td>C1785</td><td>38.78</td><td>Low Value</td></tr><tr><td>C1108</td><td>131.41</td><td>Low Value</td></tr><tr><td>C1065</td><td>44941.43</td><td>High Value</td></tr><tr><td>C1693</td><td>107913.49</td><td>High Value</td></tr><tr><td>C1070</td><td>93.7</td><td>Low Value</td></tr><tr><td>C1451</td><td>99.6</td><td>Low Value</td></tr><tr><td>C1481</td><td>94639.98</td><td>High Value</td></tr><tr><td>C1939</td><td>37.31</td><td>Low Value</td></tr><tr><td>C1067</td><td>98.94</td><td>Low Value</td></tr><tr><td>C1770</td><td>164.92</td><td>Low Value</td></tr><tr><td>C1683</td><td>116.54</td><td>Low Value</td></tr><tr><td>C1285</td><td>122.9</td><td>Low Value</td></tr><tr><td>C1075</td><td>10.83</td><td>Low Value</td></tr><tr><td>C1005</td><td>117.41</td><td>Low Value</td></tr><tr><td>C1789</td><td>83.86</td><td>Low Value</td></tr><tr><td>C1670</td><td>116.46</td><td>Low Value</td></tr><tr><td>C1265</td><td>76.96</td><td>Low Value</td></tr><tr><td>C1103</td><td>53.1</td><td>Low Value</td></tr><tr><td>C1222</td><td>99.74</td><td>Low Value</td></tr><tr><td>C1259</td><td>97.66</td><td>Low Value</td></tr><tr><td>C1523</td><td>47.49</td><td>Low Value</td></tr><tr><td>C1453</td><td>62.48</td><td>Low Value</td></tr><tr><td>C1626</td><td>278.82</td><td>Low Value</td></tr><tr><td>C1512</td><td>64.04</td><td>Low Value</td></tr><tr><td>C1994</td><td>148.09</td><td>Low Value</td></tr><tr><td>C1871</td><td>148.97</td><td>Low Value</td></tr><tr><td>C1471</td><td>243.11</td><td>Low Value</td></tr><tr><td>C1738</td><td>7.11</td><td>Low Value</td></tr><tr><td>C1083</td><td>52.34</td><td>Low Value</td></tr><tr><td>C1113</td><td>71.28</td><td>Low Value</td></tr><tr><td>C1949</td><td>226.17</td><td>Low Value</td></tr><tr><td>C1068</td><td>48011.89</td><td>High Value</td></tr><tr><td>C1901</td><td>183.0</td><td>Low Value</td></tr><tr><td>C1698</td><td>38.49</td><td>Low Value</td></tr><tr><td>C1107</td><td>30.16</td><td>Low Value</td></tr><tr><td>C1500</td><td>253.24</td><td>Low Value</td></tr><tr><td>C1248</td><td>200.52</td><td>Low Value</td></tr><tr><td>C1864</td><td>69.88</td><td>Low Value</td></tr><tr><td>C1744</td><td>75.03</td><td>Low Value</td></tr><tr><td>C1577</td><td>91.79</td><td>Low Value</td></tr><tr><td>C1632</td><td>89.76</td><td>Low Value</td></tr><tr><td>C1872</td><td>87.1</td><td>Low Value</td></tr><tr><td>C1370</td><td>32103.64</td><td>High Value</td></tr><tr><td>C1924</td><td>104.91</td><td>Low Value</td></tr><tr><td>C1516</td><td>12.58</td><td>Low Value</td></tr><tr><td>C1198</td><td>133.16</td><td>Low Value</td></tr><tr><td>C1203</td><td>362.16</td><td>Low Value</td></tr><tr><td>C1550</td><td>36.23</td><td>Low Value</td></tr><tr><td>C1122</td><td>89.96</td><td>Low Value</td></tr><tr><td>C1211</td><td>181.85</td><td>Low Value</td></tr><tr><td>C1783</td><td>18.02</td><td>Low Value</td></tr><tr><td>C1919</td><td>30.2</td><td>Low Value</td></tr><tr><td>C1750</td><td>1.63</td><td>Low Value</td></tr><tr><td>C1712</td><td>123.98</td><td>Low Value</td></tr><tr><td>C1099</td><td>62233.64</td><td>High Value</td></tr><tr><td>C1242</td><td>91700.09</td><td>High Value</td></tr><tr><td>C1325</td><td>131690.74</td><td>High Value</td></tr><tr><td>C1043</td><td>154.57</td><td>Low Value</td></tr><tr><td>C1018</td><td>50037.07</td><td>High Value</td></tr><tr><td>C1913</td><td>85.87</td><td>Low Value</td></tr><tr><td>C1982</td><td>59.39</td><td>Low Value</td></tr><tr><td>C1296</td><td>109.63</td><td>Low Value</td></tr><tr><td>C1612</td><td>161.29</td><td>Low Value</td></tr><tr><td>C1069</td><td>104.95</td><td>Low Value</td></tr><tr><td>C1202</td><td>29.8</td><td>Low Value</td></tr><tr><td>C1948</td><td>52.99</td><td>Low Value</td></tr><tr><td>C1644</td><td>75.84</td><td>Low Value</td></tr><tr><td>C1682</td><td>161.32</td><td>Low Value</td></tr><tr><td>C1565</td><td>113.82</td><td>Low Value</td></tr><tr><td>C1583</td><td>150.99</td><td>Low Value</td></tr><tr><td>C1391</td><td>62.59</td><td>Low Value</td></tr><tr><td>C1124</td><td>3.19</td><td>Low Value</td></tr><tr><td>C1089</td><td>63.92</td><td>Low Value</td></tr><tr><td>C1406</td><td>28.36</td><td>Low Value</td></tr><tr><td>C1598</td><td>124553.36</td><td>High Value</td></tr><tr><td>C1802</td><td>62352.72</td><td>High Value</td></tr><tr><td>C1147</td><td>80117.52</td><td>High Value</td></tr><tr><td>C1492</td><td>94285.43</td><td>High Value</td></tr><tr><td>C1289</td><td>199.5</td><td>Low Value</td></tr><tr><td>C1363</td><td>8.64</td><td>Low Value</td></tr><tr><td>C1238</td><td>34627.71</td><td>High Value</td></tr><tr><td>C1470</td><td>115.59</td><td>Low Value</td></tr><tr><td>C1818</td><td>33181.36</td><td>High Value</td></tr><tr><td>C1464</td><td>366.55</td><td>Low Value</td></tr><tr><td>C1697</td><td>162.36</td><td>Low Value</td></tr><tr><td>C1777</td><td>366.32</td><td>Low Value</td></tr><tr><td>C1725</td><td>36892.68</td><td>High Value</td></tr><tr><td>C1820</td><td>156.31</td><td>Low Value</td></tr><tr><td>C1431</td><td>73.15</td><td>Low Value</td></tr><tr><td>C1395</td><td>197.6</td><td>Low Value</td></tr><tr><td>C1606</td><td>77.35</td><td>Low Value</td></tr><tr><td>C1149</td><td>127.92</td><td>Low Value</td></tr><tr><td>C1771</td><td>96.11</td><td>Low Value</td></tr><tr><td>C1584</td><td>38.08</td><td>Low Value</td></tr><tr><td>C1611</td><td>69.22</td><td>Low Value</td></tr><tr><td>C1057</td><td>127.0</td><td>Low Value</td></tr><tr><td>C1437</td><td>199.9</td><td>Low Value</td></tr><tr><td>C1275</td><td>31.89</td><td>Low Value</td></tr><tr><td>C1426</td><td>111.96</td><td>Low Value</td></tr><tr><td>C1716</td><td>35.11</td><td>Low Value</td></tr><tr><td>C1929</td><td>43.25</td><td>Low Value</td></tr><tr><td>C1371</td><td>154.55</td><td>Low Value</td></tr><tr><td>C1324</td><td>14785.05</td><td>High Value</td></tr><tr><td>C1292</td><td>164.14</td><td>Low Value</td></tr><tr><td>C1751</td><td>100.75</td><td>Low Value</td></tr><tr><td>C1793</td><td>38.66</td><td>Low Value</td></tr><tr><td>C1459</td><td>78.11</td><td>Low Value</td></tr><tr><td>C1034</td><td>36.26</td><td>Low Value</td></tr><tr><td>C1511</td><td>53.31</td><td>Low Value</td></tr><tr><td>C1175</td><td>257.2</td><td>Low Value</td></tr><tr><td>C1435</td><td>11.82</td><td>Low Value</td></tr><tr><td>C1922</td><td>80.05</td><td>Low Value</td></tr><tr><td>C1484</td><td>67714.42</td><td>High Value</td></tr><tr><td>C1621</td><td>131.14</td><td>Low Value</td></tr><tr><td>C1469</td><td>68.11</td><td>Low Value</td></tr><tr><td>C1640</td><td>8.06</td><td>Low Value</td></tr><tr><td>C1736</td><td>82.64</td><td>Low Value</td></tr><tr><td>C1264</td><td>52279.98</td><td>High Value</td></tr><tr><td>C1190</td><td>70.24</td><td>Low Value</td></tr><tr><td>C1533</td><td>122.27</td><td>Low Value</td></tr><tr><td>C1170</td><td>93.06</td><td>Low Value</td></tr><tr><td>C1494</td><td>228.21</td><td>Low Value</td></tr><tr><td>C1031</td><td>90851.77</td><td>High Value</td></tr><tr><td>C1832</td><td>71.58</td><td>Low Value</td></tr><tr><td>C1061</td><td>39.3</td><td>Low Value</td></tr><tr><td>C1013</td><td>32.31</td><td>Low Value</td></tr><tr><td>C1232</td><td>40761.16</td><td>High Value</td></tr><tr><td>C1430</td><td>37593.73</td><td>High Value</td></tr><tr><td>C1064</td><td>119.02</td><td>Low Value</td></tr><tr><td>C1134</td><td>191.32</td><td>Low Value</td></tr><tr><td>C1046</td><td>267.54</td><td>Low Value</td></tr><tr><td>C1216</td><td>176.72</td><td>Low Value</td></tr><tr><td>C1255</td><td>98.19</td><td>Low Value</td></tr><tr><td>C1071</td><td>256.99</td><td>Low Value</td></tr><tr><td>C1045</td><td>97.03</td><td>Low Value</td></tr><tr><td>C1885</td><td>78.93</td><td>Low Value</td></tr><tr><td>C1480</td><td>134.18</td><td>Low Value</td></tr><tr><td>C1282</td><td>98.85</td><td>Low Value</td></tr><tr><td>C1861</td><td>162.24</td><td>Low Value</td></tr><tr><td>C1766</td><td>96.53</td><td>Low Value</td></tr><tr><td>C1466</td><td>127.18</td><td>Low Value</td></tr><tr><td>C1749</td><td>85.88</td><td>Low Value</td></tr><tr><td>C1072</td><td>217.86</td><td>Low Value</td></tr><tr><td>C1273</td><td>120.26</td><td>Low Value</td></tr><tr><td>C1754</td><td>142.32</td><td>Low Value</td></tr><tr><td>C1011</td><td>274.5</td><td>Low Value</td></tr><tr><td>C1297</td><td>141.89</td><td>Low Value</td></tr><tr><td>C1015</td><td>14.15</td><td>Low Value</td></tr><tr><td>C1843</td><td>125.66</td><td>Low Value</td></tr><tr><td>C1705</td><td>22.18</td><td>Low Value</td></tr><tr><td>C1442</td><td>137.86</td><td>Low Value</td></tr><tr><td>C1106</td><td>12241.63</td><td>High Value</td></tr><tr><td>C1544</td><td>45.71</td><td>Low Value</td></tr><tr><td>C1387</td><td>11478.7</td><td>High Value</td></tr><tr><td>C1329</td><td>79.21</td><td>Low Value</td></tr><tr><td>C1360</td><td>124.85</td><td>Low Value</td></tr><tr><td>C1881</td><td>56.31</td><td>Low Value</td></tr><tr><td>C1050</td><td>83.02</td><td>Low Value</td></tr><tr><td>C1074</td><td>86.55</td><td>Low Value</td></tr><tr><td>C1836</td><td>49.52</td><td>Low Value</td></tr><tr><td>C1685</td><td>139.77</td><td>Low Value</td></tr><tr><td>C1227</td><td>126.67</td><td>Low Value</td></tr><tr><td>C1969</td><td>30.94</td><td>Low Value</td></tr><tr><td>C1848</td><td>94.68</td><td>Low Value</td></tr><tr><td>C1246</td><td>1.0</td><td>Low Value</td></tr><tr><td>C1656</td><td>36.95</td><td>Low Value</td></tr><tr><td>C1925</td><td>122.23</td><td>Low Value</td></tr><tr><td>C1177</td><td>49308.01</td><td>High Value</td></tr><tr><td>C1138</td><td>112.05</td><td>Low Value</td></tr><tr><td>C1452</td><td>172.96</td><td>Low Value</td></tr><tr><td>C1458</td><td>291.15</td><td>Low Value</td></tr><tr><td>C1327</td><td>139.53</td><td>Low Value</td></tr><tr><td>C1490</td><td>18.55</td><td>Low Value</td></tr><tr><td>C1136</td><td>189.53</td><td>Low Value</td></tr><tr><td>C1778</td><td>8.05</td><td>Low Value</td></tr><tr><td>C1734</td><td>51.85</td><td>Low Value</td></tr><tr><td>C1180</td><td>171.39</td><td>Low Value</td></tr><tr><td>C1589</td><td>241.77</td><td>Low Value</td></tr><tr><td>C1301</td><td>97.34</td><td>Low Value</td></tr><tr><td>C1926</td><td>53.41</td><td>Low Value</td></tr><tr><td>C1930</td><td>174.06</td><td>Low Value</td></tr><tr><td>C1377</td><td>30464.42</td><td>High Value</td></tr><tr><td>C1858</td><td>64.75</td><td>Low Value</td></tr><tr><td>C1593</td><td>164.89</td><td>Low Value</td></tr><tr><td>C1546</td><td>53.36</td><td>Low Value</td></tr><tr><td>C1092</td><td>32.14</td><td>Low Value</td></tr><tr><td>C1361</td><td>153.38</td><td>Low Value</td></tr><tr><td>C1033</td><td>185.54</td><td>Low Value</td></tr><tr><td>C1165</td><td>110.89</td><td>Low Value</td></tr><tr><td>C1554</td><td>53080.38</td><td>High Value</td></tr><tr><td>C1244</td><td>113.79</td><td>Low Value</td></tr><tr><td>C1700</td><td>61.96</td><td>Low Value</td></tr><tr><td>C1940</td><td>55.15</td><td>Low Value</td></tr><tr><td>C1405</td><td>24.89</td><td>Low Value</td></tr><tr><td>C1993</td><td>95.17</td><td>Low Value</td></tr><tr><td>C1813</td><td>49.54</td><td>Low Value</td></tr><tr><td>C1137</td><td>115.37</td><td>Low Value</td></tr><tr><td>C1309</td><td>20.32</td><td>Low Value</td></tr><tr><td>C1513</td><td>164.68</td><td>Low Value</td></tr><tr><td>C1849</td><td>127.92</td><td>Low Value</td></tr><tr><td>C1747</td><td>46.12</td><td>Low Value</td></tr><tr><td>C1776</td><td>124.76</td><td>Low Value</td></tr><tr><td>C1737</td><td>90405.56</td><td>High Value</td></tr><tr><td>C1148</td><td>217.05</td><td>Low Value</td></tr><tr><td>C1819</td><td>165.5</td><td>Low Value</td></tr><tr><td>C1077</td><td>168.13</td><td>Low Value</td></tr><tr><td>C1556</td><td>85152.44</td><td>High Value</td></tr><tr><td>C1357</td><td>184.3</td><td>Low Value</td></tr><tr><td>C1581</td><td>91.85</td><td>Low Value</td></tr><tr><td>C1680</td><td>180.77</td><td>Low Value</td></tr><tr><td>C1252</td><td>27499.49</td><td>High Value</td></tr><tr><td>C1268</td><td>178.43</td><td>Low Value</td></tr><tr><td>C1834</td><td>84.49</td><td>Low Value</td></tr><tr><td>C1935</td><td>175.1</td><td>Low Value</td></tr><tr><td>C1538</td><td>28519.44</td><td>High Value</td></tr><tr><td>C1655</td><td>229.85</td><td>Low Value</td></tr><tr><td>C1756</td><td>197.23</td><td>Low Value</td></tr><tr><td>C1372</td><td>101.31</td><td>Low Value</td></tr><tr><td>C1010</td><td>9.66</td><td>Low Value</td></tr><tr><td>C1105</td><td>256.77</td><td>Low Value</td></tr><tr><td>C1884</td><td>136.58</td><td>Low Value</td></tr><tr><td>C1117</td><td>50.85</td><td>Low Value</td></tr><tr><td>C1486</td><td>57.82</td><td>Low Value</td></tr><tr><td>C1160</td><td>70.42</td><td>Low Value</td></tr><tr><td>C1286</td><td>108.8</td><td>Low Value</td></tr><tr><td>C1495</td><td>8.96</td><td>Low Value</td></tr><tr><td>C1168</td><td>63898.47</td><td>High Value</td></tr><tr><td>C1853</td><td>97.1</td><td>Low Value</td></tr><tr><td>C1215</td><td>93113.96</td><td>High Value</td></tr><tr><td>C1420</td><td>17103.35</td><td>High Value</td></tr><tr><td>C1907</td><td>44.26</td><td>Low Value</td></tr><tr><td>C1151</td><td>25145.5</td><td>High Value</td></tr><tr><td>C1983</td><td>89159.05</td><td>High Value</td></tr><tr><td>C1085</td><td>103.5</td><td>Low Value</td></tr><tr><td>C1201</td><td>128545.48</td><td>High Value</td></tr><tr><td>C1088</td><td>19471.9</td><td>High Value</td></tr><tr><td>C1878</td><td>43.4</td><td>Low Value</td></tr><tr><td>C1828</td><td>159.49</td><td>Low Value</td></tr><tr><td>C1833</td><td>60.53</td><td>Low Value</td></tr><tr><td>C1278</td><td>94.86</td><td>Low Value</td></tr><tr><td>C1845</td><td>51.85</td><td>Low Value</td></tr><tr><td>C1636</td><td>50103.38</td><td>High Value</td></tr><tr><td>C1365</td><td>62078.17</td><td>High Value</td></tr><tr><td>C1624</td><td>114.63</td><td>Low Value</td></tr><tr><td>C1972</td><td>112.21</td><td>Low Value</td></tr><tr><td>C1172</td><td>86259.08</td><td>High Value</td></tr><tr><td>C1634</td><td>104.48</td><td>Low Value</td></tr><tr><td>C1920</td><td>189.87</td><td>Low Value</td></tr><tr><td>C1575</td><td>135.35</td><td>Low Value</td></tr><tr><td>C1641</td><td>146.48</td><td>Low Value</td></tr><tr><td>C1112</td><td>86.72</td><td>Low Value</td></tr><tr><td>C1399</td><td>119278.29</td><td>High Value</td></tr><tr><td>C1017</td><td>82350.26</td><td>High Value</td></tr><tr><td>C1383</td><td>181.2</td><td>Low Value</td></tr><tr><td>C1158</td><td>146.35</td><td>Low Value</td></tr><tr><td>C1449</td><td>54.67</td><td>Low Value</td></tr><tr><td>C1540</td><td>54004.06</td><td>High Value</td></tr><tr><td>C1860</td><td>223.79</td><td>Low Value</td></tr><tr><td>C1167</td><td>145.26</td><td>Low Value</td></tr><tr><td>C1274</td><td>64.09</td><td>Low Value</td></tr><tr><td>C1224</td><td>74.36</td><td>Low Value</td></tr><tr><td>C1021</td><td>136.12</td><td>Low Value</td></tr><tr><td>C1408</td><td>89.88</td><td>Low Value</td></tr><tr><td>C1614</td><td>141333.93</td><td>High Value</td></tr><tr><td>C1566</td><td>17.94</td><td>Low Value</td></tr><tr><td>C1957</td><td>13.0</td><td>Low Value</td></tr><tr><td>C1448</td><td>56.75</td><td>Low Value</td></tr><tr><td>C1401</td><td>136.45</td><td>Low Value</td></tr><tr><td>C1721</td><td>31.12</td><td>Low Value</td></tr><tr><td>C1808</td><td>305.44</td><td>Low Value</td></tr><tr><td>C1003</td><td>124.49</td><td>Low Value</td></tr><tr><td>C1508</td><td>26.79</td><td>Low Value</td></tr><tr><td>C1162</td><td>398.41</td><td>Low Value</td></tr><tr><td>C1095</td><td>75.6</td><td>Low Value</td></tr><tr><td>C1141</td><td>48.08</td><td>Low Value</td></tr><tr><td>C1352</td><td>56.58</td><td>Low Value</td></tr><tr><td>C1989</td><td>173.86</td><td>Low Value</td></tr><tr><td>C1047</td><td>88.63</td><td>Low Value</td></tr><tr><td>C1613</td><td>93.86</td><td>Low Value</td></tr><tr><td>C1504</td><td>128.69</td><td>Low Value</td></tr><tr><td>C1997</td><td>120.58</td><td>Low Value</td></tr><tr><td>C1962</td><td>79.81</td><td>Low Value</td></tr><tr><td>C1892</td><td>17843.49</td><td>High Value</td></tr><tr><td>C1035</td><td>22.67</td><td>Low Value</td></tr><tr><td>C1389</td><td>84108.64</td><td>High Value</td></tr><tr><td>C1711</td><td>90571.45</td><td>High Value</td></tr><tr><td>C1822</td><td>128.7</td><td>Low Value</td></tr><tr><td>C1164</td><td>91.54</td><td>Low Value</td></tr><tr><td>C1965</td><td>167.18</td><td>Low Value</td></tr><tr><td>C1120</td><td>66323.81</td><td>High Value</td></tr><tr><td>C1987</td><td>70.22</td><td>Low Value</td></tr><tr><td>C1279</td><td>85.26</td><td>Low Value</td></tr><tr><td>C1638</td><td>136.04</td><td>Low Value</td></tr><tr><td>C1701</td><td>134.52</td><td>Low Value</td></tr><tr><td>C1677</td><td>92.53</td><td>Low Value</td></tr><tr><td>C1557</td><td>5.1</td><td>Low Value</td></tr><tr><td>C1474</td><td>150.16</td><td>Low Value</td></tr><tr><td>C1207</td><td>83.42</td><td>Low Value</td></tr><tr><td>C1633</td><td>41.56</td><td>Low Value</td></tr><tr><td>C1323</td><td>123.56</td><td>Low Value</td></tr><tr><td>C1125</td><td>55.14</td><td>Low Value</td></tr><tr><td>C1950</td><td>34.31</td><td>Low Value</td></tr><tr><td>C1630</td><td>35.7</td><td>Low Value</td></tr><tr><td>C1145</td><td>77.4</td><td>Low Value</td></tr><tr><td>C1976</td><td>47.23</td><td>Low Value</td></tr><tr><td>C1503</td><td>19.34</td><td>Low Value</td></tr><tr><td>C1262</td><td>113.87</td><td>Low Value</td></tr><tr><td>C1975</td><td>58.85</td><td>Low Value</td></tr><tr><td>C1266</td><td>159.71</td><td>Low Value</td></tr><tr><td>C1456</td><td>191.46</td><td>Low Value</td></tr><tr><td>C1877</td><td>115.54</td><td>Low Value</td></tr><tr><td>C1174</td><td>121.36</td><td>Low Value</td></tr><tr><td>C1439</td><td>166.35</td><td>Low Value</td></tr><tr><td>C1786</td><td>69.76</td><td>Low Value</td></tr><tr><td>C1353</td><td>200.32</td><td>Low Value</td></tr><tr><td>C1657</td><td>133.25</td><td>Low Value</td></tr><tr><td>C1199</td><td>101.56</td><td>Low Value</td></tr><tr><td>C1506</td><td>13.08</td><td>Low Value</td></tr><tr><td>C1868</td><td>202.42</td><td>Low Value</td></tr><tr><td>C1257</td><td>103.02</td><td>Low Value</td></tr><tr><td>C1882</td><td>50.16</td><td>Low Value</td></tr><tr><td>C1230</td><td>58.24</td><td>Low Value</td></tr><tr><td>C1651</td><td>55.77</td><td>Low Value</td></tr><tr><td>C1346</td><td>145.48</td><td>Low Value</td></tr><tr><td>C1465</td><td>239.12</td><td>Low Value</td></tr><tr><td>C1412</td><td>321.17</td><td>Low Value</td></tr><tr><td>C1467</td><td>168.06</td><td>Low Value</td></tr><tr><td>C1002</td><td>97105.79</td><td>High Value</td></tr><tr><td>C1978</td><td>160.29</td><td>Low Value</td></tr><tr><td>C1392</td><td>82.94</td><td>Low Value</td></tr><tr><td>C1545</td><td>96.04</td><td>Low Value</td></tr><tr><td>C1548</td><td>51.13</td><td>Low Value</td></tr><tr><td>C1773</td><td>42.4</td><td>Low Value</td></tr><tr><td>C1379</td><td>186.51</td><td>Low Value</td></tr><tr><td>C1921</td><td>183.31</td><td>Low Value</td></tr><tr><td>C1788</td><td>52937.83</td><td>High Value</td></tr><tr><td>C1775</td><td>106.87</td><td>Low Value</td></tr><tr><td>C1914</td><td>221.29</td><td>Low Value</td></tr><tr><td>C1006</td><td>79.41</td><td>Low Value</td></tr><tr><td>C1823</td><td>97.14</td><td>Low Value</td></tr><tr><td>C1393</td><td>77.85</td><td>Low Value</td></tr><tr><td>C1760</td><td>129.86</td><td>Low Value</td></tr><tr><td>C1654</td><td>19025.52</td><td>High Value</td></tr><tr><td>C1637</td><td>147659.07</td><td>High Value</td></tr><tr><td>C1647</td><td>86773.68</td><td>High Value</td></tr><tr><td>C1059</td><td>159.05</td><td>Low Value</td></tr><tr><td>C1019</td><td>207.73</td><td>Low Value</td></tr><tr><td>C1746</td><td>209.36</td><td>Low Value</td></tr><tr><td>C1821</td><td>77.07</td><td>Low Value</td></tr><tr><td>C1016</td><td>79096.81</td><td>High Value</td></tr><tr><td>C1605</td><td>111.96</td><td>Low Value</td></tr><tr><td>C1042</td><td>61.8</td><td>Low Value</td></tr><tr><td>C1367</td><td>80.2</td><td>Low Value</td></tr><tr><td>C1576</td><td>376.91</td><td>Low Value</td></tr><tr><td>C1757</td><td>91.93</td><td>Low Value</td></tr><tr><td>C1143</td><td>55.44</td><td>Low Value</td></tr><tr><td>C1493</td><td>147.45</td><td>Low Value</td></tr><tr><td>C1812</td><td>84.74</td><td>Low Value</td></tr><tr><td>C1525</td><td>195.51</td><td>Low Value</td></tr><tr><td>C1880</td><td>138.53</td><td>Low Value</td></tr><tr><td>C1764</td><td>176.1</td><td>Low Value</td></tr><tr><td>C1539</td><td>76.57</td><td>Low Value</td></tr><tr><td>C1748</td><td>40.53</td><td>Low Value</td></tr><tr><td>C1159</td><td>47.58</td><td>Low Value</td></tr><tr><td>C1501</td><td>124.58</td><td>Low Value</td></tr><tr><td>C1093</td><td>19821.34</td><td>High Value</td></tr><tr><td>C1958</td><td>148.71</td><td>Low Value</td></tr><tr><td>C1422</td><td>99.37</td><td>Low Value</td></tr><tr><td>C1443</td><td>154.54</td><td>Low Value</td></tr><tr><td>C1911</td><td>202.59</td><td>Low Value</td></tr><tr><td>C1529</td><td>28.3</td><td>Low Value</td></tr><tr><td>C1984</td><td>141.16</td><td>Low Value</td></tr><tr><td>C1272</td><td>98.75</td><td>Low Value</td></tr><tr><td>C1532</td><td>37.81</td><td>Low Value</td></tr><tr><td>C1213</td><td>67.85</td><td>Low Value</td></tr><tr><td>C1895</td><td>68.61</td><td>Low Value</td></tr><tr><td>C1905</td><td>64.86</td><td>Low Value</td></tr><tr><td>C1111</td><td>72.05</td><td>Low Value</td></tr><tr><td>C1900</td><td>247.37</td><td>Low Value</td></tr><tr><td>C1219</td><td>140.62</td><td>Low Value</td></tr><tr><td>C1617</td><td>69.51</td><td>Low Value</td></tr><tr><td>C1350</td><td>245.01</td><td>Low Value</td></tr><tr><td>C1166</td><td>70.61</td><td>Low Value</td></tr><tr><td>C1784</td><td>86610.89</td><td>High Value</td></tr><tr><td>C1814</td><td>36.23</td><td>Low Value</td></tr><tr><td>C1955</td><td>14.57</td><td>Low Value</td></tr><tr><td>C1343</td><td>28.15</td><td>Low Value</td></tr><tr><td>C1240</td><td>51.33</td><td>Low Value</td></tr><tr><td>C1688</td><td>128.65</td><td>Low Value</td></tr><tr><td>C1404</td><td>12.78</td><td>Low Value</td></tr><tr><td>C1150</td><td>80.24</td><td>Low Value</td></tr><tr><td>C1154</td><td>4.86</td><td>Low Value</td></tr><tr><td>C1062</td><td>26.22</td><td>Low Value</td></tr><tr><td>C1008</td><td>252.32</td><td>Low Value</td></tr><tr><td>C1256</td><td>168.96</td><td>Low Value</td></tr><tr><td>C1964</td><td>125.06</td><td>Low Value</td></tr><tr><td>C1510</td><td>10.87</td><td>Low Value</td></tr><tr><td>C1402</td><td>131.75</td><td>Low Value</td></tr><tr><td>C1968</td><td>43.38</td><td>Low Value</td></tr><tr><td>C1475</td><td>3.05</td><td>Low Value</td></tr><tr><td>C1645</td><td>69.07</td><td>Low Value</td></tr><tr><td>C1478</td><td>52452.62</td><td>High Value</td></tr><tr><td>C1902</td><td>67.23</td><td>Low Value</td></tr><tr><td>C1223</td><td>8.13</td><td>Low Value</td></tr><tr><td>C1782</td><td>51.8</td><td>Low Value</td></tr><tr><td>C1009</td><td>37611.42</td><td>High Value</td></tr><tr><td>C1356</td><td>83.53</td><td>Low Value</td></tr><tr><td>C1299</td><td>84.52</td><td>Low Value</td></tr><tr><td>C1590</td><td>24.82</td><td>Low Value</td></tr><tr><td>C1126</td><td>43384.85</td><td>High Value</td></tr><tr><td>C1038</td><td>31.27</td><td>Low Value</td></tr><tr><td>C1809</td><td>26.85</td><td>Low Value</td></tr><tr><td>C1973</td><td>322.34</td><td>Low Value</td></tr><tr><td>C1287</td><td>148.19</td><td>Low Value</td></tr><tr><td>C1578</td><td>88.78</td><td>Low Value</td></tr><tr><td>C1171</td><td>70547.08</td><td>High Value</td></tr><tr><td>C1643</td><td>27.89</td><td>Low Value</td></tr><tr><td>C1419</td><td>49.57</td><td>Low Value</td></tr><tr><td>C1588</td><td>26.07</td><td>Low Value</td></tr><tr><td>C1622</td><td>57.87</td><td>Low Value</td></tr><tr><td>C1362</td><td>66.02</td><td>Low Value</td></tr><tr><td>C1597</td><td>14.14</td><td>Low Value</td></tr><tr><td>C1197</td><td>127.91</td><td>Low Value</td></tr><tr><td>C1514</td><td>99465.43</td><td>High Value</td></tr><tr><td>C1270</td><td>51.69</td><td>Low Value</td></tr><tr><td>C1733</td><td>53.0</td><td>Low Value</td></tr><tr><td>C1867</td><td>3.49</td><td>Low Value</td></tr><tr><td>C1235</td><td>91.51</td><td>Low Value</td></tr><tr><td>C1569</td><td>17.81</td><td>Low Value</td></tr><tr><td>C1488</td><td>122.91</td><td>Low Value</td></tr><tr><td>C1254</td><td>12.18</td><td>Low Value</td></tr><tr><td>C1447</td><td>31.58</td><td>Low Value</td></tr><tr><td>C1496</td><td>74.16</td><td>Low Value</td></tr><tr><td>C1515</td><td>99.26</td><td>Low Value</td></tr><tr><td>C1364</td><td>55.35</td><td>Low Value</td></tr><tr><td>C1856</td><td>43.16</td><td>Low Value</td></tr><tr><td>C1735</td><td>68.76</td><td>Low Value</td></tr><tr><td>C1899</td><td>65.74</td><td>Low Value</td></tr><tr><td>C1571</td><td>130.18</td><td>Low Value</td></tr><tr><td>C1130</td><td>44.98</td><td>Low Value</td></tr><tr><td>C1209</td><td>52.87</td><td>Low Value</td></tr><tr><td>C1066</td><td>52.26</td><td>Low Value</td></tr><tr><td>C1870</td><td>58.65</td><td>Low Value</td></tr><tr><td>C1394</td><td>185.38</td><td>Low Value</td></tr><tr><td>C1229</td><td>20.67</td><td>Low Value</td></tr><tr><td>C1421</td><td>63603.93</td><td>High Value</td></tr><tr><td>C1311</td><td>20.9</td><td>Low Value</td></tr><tr><td>C1936</td><td>37.06</td><td>Low Value</td></tr><tr><td>C1476</td><td>1.21</td><td>Low Value</td></tr><tr><td>C1334</td><td>34.87</td><td>Low Value</td></tr><tr><td>C1440</td><td>59.55</td><td>Low Value</td></tr><tr><td>C1313</td><td>10.98</td><td>Low Value</td></tr><tr><td>C1417</td><td>78.34</td><td>Low Value</td></tr><tr><td>C1579</td><td>47.83</td><td>Low Value</td></tr><tr><td>C1966</td><td>41.29</td><td>Low Value</td></tr><tr><td>C1307</td><td>43.95</td><td>Low Value</td></tr><tr><td>C1133</td><td>132.92</td><td>Low Value</td></tr><tr><td>C1044</td><td>94379.52</td><td>High Value</td></tr><tr><td>C1432</td><td>54.46</td><td>Low Value</td></tr><tr><td>C1960</td><td>33.88</td><td>Low Value</td></tr><tr><td>C1310</td><td>43.27</td><td>Low Value</td></tr><tr><td>C1945</td><td>1.0</td><td>Low Value</td></tr><tr><td>C1986</td><td>41.28</td><td>Low Value</td></tr><tr><td>C1445</td><td>28356.01</td><td>High Value</td></tr><tr><td>C1977</td><td>98557.41</td><td>High Value</td></tr><tr><td>C1840</td><td>41986.56</td><td>High Value</td></tr><tr><td>C1663</td><td>7.93</td><td>Low Value</td></tr><tr><td>C1692</td><td>22.68</td><td>Low Value</td></tr><tr><td>C1427</td><td>51.32</td><td>Low Value</td></tr><tr><td>C1752</td><td>2.09</td><td>Low Value</td></tr><tr><td>C1897</td><td>109.77</td><td>Low Value</td></tr><tr><td>C1152</td><td>23.96</td><td>Low Value</td></tr><tr><td>C1873</td><td>69.96</td><td>Low Value</td></tr><tr><td>C1231</td><td>3.06</td><td>Low Value</td></tr><tr><td>C1904</td><td>49.23</td><td>Low Value</td></tr><tr><td>C1883</td><td>37.35</td><td>Low Value</td></tr><tr><td>C1339</td><td>123.94</td><td>Low Value</td></tr><tr><td>C1380</td><td>68.13</td><td>Low Value</td></tr><tr><td>C1225</td><td>37.17</td><td>Low Value</td></tr><tr><td>C1234</td><td>18.32</td><td>Low Value</td></tr><tr><td>C1573</td><td>36.3</td><td>Low Value</td></tr><tr><td>C1153</td><td>18.63</td><td>Low Value</td></tr><tr><td>C1912</td><td>44.2</td><td>Low Value</td></tr><tr><td>C1695</td><td>27.19</td><td>Low Value</td></tr><tr><td>C1414</td><td>20.37</td><td>Low Value</td></tr><tr><td>C1163</td><td>10.79</td><td>Low Value</td></tr></tbody></table></div>"
      ]
     },
     "metadata": {
      "application/vnd.databricks.v1+output": {
       "addedWidgets": {},
       "aggData": [],
       "aggError": "",
       "aggOverflow": false,
       "aggSchema": [],
       "aggSeriesLimitReached": false,
       "aggType": "",
       "arguments": {},
       "columnCustomDisplayInfos": {},
       "data": [
        [
         "C1804",
         234.04,
         "Low Value"
        ],
        [
         "C1875",
         134.89,
         "Low Value"
        ],
        [
         "C1602",
         165.59,
         "Low Value"
        ],
        [
         "C1524",
         109.49,
         "Low Value"
        ],
        [
         "C1100",
         114.31,
         "Low Value"
        ],
        [
         "C1842",
         93.53,
         "Low Value"
        ],
        [
         "C1628",
         40.83,
         "Low Value"
        ],
        [
         "C1829",
         170.52,
         "Low Value"
        ],
        [
         "C1305",
         26.48,
         "Low Value"
        ],
        [
         "C1774",
         92.38,
         "Low Value"
        ],
        [
         "C1917",
         127.19,
         "Low Value"
        ],
        [
         "C1189",
         99.02,
         "Low Value"
        ],
        [
         "C1194",
         27.74,
         "Low Value"
        ],
        [
         "C1665",
         70.31,
         "Low Value"
        ],
        [
         "C1482",
         109.07,
         "Low Value"
        ],
        [
         "C1586",
         95.33,
         "Low Value"
        ],
        [
         "C1729",
         48790.97,
         "High Value"
        ],
        [
         "C1358",
         140.15,
         "Low Value"
        ],
        [
         "C1096",
         212.36,
         "Low Value"
        ],
        [
         "C1852",
         102.98,
         "Low Value"
        ],
        [
         "C1212",
         99.23,
         "Low Value"
        ],
        [
         "C1642",
         30.73,
         "Low Value"
        ],
        [
         "C1520",
         88.68,
         "Low Value"
        ],
        [
         "C1623",
         116.3,
         "Low Value"
        ],
        [
         "C1704",
         44918.98,
         "High Value"
        ],
        [
         "C1815",
         266.76,
         "Low Value"
        ],
        [
         "C1491",
         146.87,
         "Low Value"
        ],
        [
         "C1195",
         90.55,
         "Low Value"
        ],
        [
         "C1454",
         114.28,
         "Low Value"
        ],
        [
         "C1173",
         58.44,
         "Low Value"
        ],
        [
         "C1740",
         137.13,
         "Low Value"
        ],
        [
         "C1943",
         62.45,
         "Low Value"
        ],
        [
         "C1649",
         52876.02,
         "High Value"
        ],
        [
         "C1396",
         65.84,
         "Low Value"
        ],
        [
         "C1023",
         106.44,
         "Low Value"
        ],
        [
         "C1498",
         69.87,
         "Low Value"
        ],
        [
         "C1947",
         35159.1,
         "High Value"
        ],
        [
         "C1798",
         127.62,
         "Low Value"
        ],
        [
         "C1769",
         87.08,
         "Low Value"
        ],
        [
         "C1337",
         24.49,
         "Low Value"
        ],
        [
         "C1703",
         173.24,
         "Low Value"
        ],
        [
         "C1036",
         135.58,
         "Low Value"
        ],
        [
         "C1114",
         152.5,
         "Low Value"
        ],
        [
         "C1934",
         100.21,
         "Low Value"
        ],
        [
         "C1918",
         54.88,
         "Low Value"
        ],
        [
         "C1732",
         178.99,
         "Low Value"
        ],
        [
         "C1321",
         168.51,
         "Low Value"
        ],
        [
         "C1328",
         203.85,
         "Low Value"
        ],
        [
         "C1542",
         96.28,
         "Low Value"
        ],
        [
         "C1127",
         22.64,
         "Low Value"
        ],
        [
         "C1570",
         14422.54,
         "High Value"
        ],
        [
         "C1600",
         34.47,
         "Low Value"
        ],
        [
         "C1952",
         65809.13,
         "High Value"
        ],
        [
         "C1526",
         159.02,
         "Low Value"
        ],
        [
         "C1485",
         76344.17,
         "High Value"
        ],
        [
         "C1608",
         35.66,
         "Low Value"
        ],
        [
         "C1507",
         113.28,
         "Low Value"
        ],
        [
         "C1937",
         152.99,
         "Low Value"
        ],
        [
         "C1359",
         133.88,
         "Low Value"
        ],
        [
         "C1020",
         1.1,
         "Low Value"
        ],
        [
         "C1558",
         118.18,
         "Low Value"
        ],
        [
         "C1717",
         197.83,
         "Low Value"
        ],
        [
         "C1322",
         86.94,
         "Low Value"
        ],
        [
         "C1186",
         147.24,
         "Low Value"
        ],
        [
         "C1893",
         137.95,
         "Low Value"
        ],
        [
         "C1658",
         164.52,
         "Low Value"
        ],
        [
         "C1587",
         130.88,
         "Low Value"
        ],
        [
         "C1030",
         74.54,
         "Low Value"
        ],
        [
         "C1462",
         203.84,
         "Low Value"
        ],
        [
         "C1076",
         108.28,
         "Low Value"
        ],
        [
         "C1156",
         10721.36,
         "High Value"
        ],
        [
         "C1662",
         59.63,
         "Low Value"
        ],
        [
         "C1859",
         41.83,
         "Low Value"
        ],
        [
         "C1332",
         145.52,
         "Low Value"
        ],
        [
         "C1118",
         112940.35,
         "High Value"
        ],
        [
         "C1759",
         49.42,
         "Low Value"
        ],
        [
         "C1668",
         136.54,
         "Low Value"
        ],
        [
         "C1854",
         43.26,
         "Low Value"
        ],
        [
         "C1559",
         62.72,
         "Low Value"
        ],
        [
         "C1479",
         101.55,
         "Low Value"
        ],
        [
         "C1300",
         169.1,
         "Low Value"
        ],
        [
         "C1549",
         21.2,
         "Low Value"
        ],
        [
         "C1552",
         60.59,
         "Low Value"
        ],
        [
         "C1609",
         212.57,
         "Low Value"
        ],
        [
         "C1115",
         193.31,
         "Low Value"
        ],
        [
         "C1409",
         168.41,
         "Low Value"
        ],
        [
         "C1239",
         79.2,
         "Low Value"
        ],
        [
         "C1908",
         66.4,
         "Low Value"
        ],
        [
         "C1110",
         50480.89,
         "High Value"
        ],
        [
         "C1585",
         120312.89,
         "High Value"
        ],
        [
         "C1375",
         71.77,
         "Low Value"
        ],
        [
         "C1675",
         91.61,
         "Low Value"
        ],
        [
         "C1706",
         198.54,
         "Low Value"
        ],
        [
         "C1601",
         74.68,
         "Low Value"
        ],
        [
         "C1879",
         136.14,
         "Low Value"
        ],
        [
         "C1574",
         62.85,
         "Low Value"
        ],
        [
         "C1543",
         115.41,
         "Low Value"
        ],
        [
         "C1974",
         47.25,
         "Low Value"
        ],
        [
         "C1131",
         147.34,
         "Low Value"
        ],
        [
         "C1951",
         180.61,
         "Low Value"
        ],
        [
         "C1837",
         83304.65,
         "High Value"
        ],
        [
         "C1534",
         70643.11,
         "High Value"
        ],
        [
         "C1811",
         145.47,
         "Low Value"
        ],
        [
         "C1284",
         25.62,
         "Low Value"
        ],
        [
         "C1314",
         122.62,
         "Low Value"
        ],
        [
         "C1625",
         33.09,
         "Low Value"
        ],
        [
         "C1767",
         74.23,
         "Low Value"
        ],
        [
         "C1267",
         107.36,
         "Low Value"
        ],
        [
         "C1699",
         28.57,
         "Low Value"
        ],
        [
         "C1536",
         66.38,
         "Low Value"
        ],
        [
         "C1079",
         39401.02,
         "High Value"
        ],
        [
         "C1144",
         158.2,
         "Low Value"
        ],
        [
         "C1001",
         98.68,
         "Low Value"
        ],
        [
         "C1349",
         239.69,
         "Low Value"
        ],
        [
         "C1707",
         65398.72,
         "High Value"
        ],
        [
         "C1661",
         38223.27,
         "High Value"
        ],
        [
         "C1743",
         146.02,
         "Low Value"
        ],
        [
         "C1119",
         42.63,
         "Low Value"
        ],
        [
         "C1086",
         119.35,
         "Low Value"
        ],
        [
         "C1473",
         61.6,
         "Low Value"
        ],
        [
         "C1932",
         123.55,
         "Low Value"
        ],
        [
         "C1055",
         11.07,
         "Low Value"
        ],
        [
         "C1910",
         36.92,
         "Low Value"
        ],
        [
         "C1844",
         66.33,
         "Low Value"
        ],
        [
         "C1081",
         44303.75,
         "High Value"
        ],
        [
         "C1827",
         219.51,
         "Low Value"
        ],
        [
         "C1855",
         78.55,
         "Low Value"
        ],
        [
         "C1290",
         131.94,
         "Low Value"
        ],
        [
         "C1181",
         77.13,
         "Low Value"
        ],
        [
         "C1386",
         57979.76,
         "High Value"
        ],
        [
         "C1109",
         129.89,
         "Low Value"
        ],
        [
         "C1599",
         243.03,
         "Low Value"
        ],
        [
         "C1723",
         11.76,
         "Low Value"
        ],
        [
         "C1053",
         159.95,
         "Low Value"
        ],
        [
         "C1909",
         49606.51,
         "High Value"
        ],
        [
         "C1547",
         203.08,
         "Low Value"
        ],
        [
         "C1618",
         212.48,
         "Low Value"
        ],
        [
         "C1056",
         60.2,
         "Low Value"
        ],
        [
         "C1304",
         71701.05,
         "High Value"
        ],
        [
         "C1283",
         189.36,
         "Low Value"
        ],
        [
         "C1933",
         27.72,
         "Low Value"
        ],
        [
         "C1157",
         109.58,
         "Low Value"
        ],
        [
         "C1694",
         137.51,
         "Low Value"
        ],
        [
         "C1348",
         102.78,
         "Low Value"
        ],
        [
         "C1263",
         85.43,
         "Low Value"
        ],
        [
         "C1355",
         133.84,
         "Low Value"
        ],
        [
         "C1294",
         80.1,
         "Low Value"
        ],
        [
         "C1863",
         77.93,
         "Low Value"
        ],
        [
         "C1796",
         34.9,
         "Low Value"
        ],
        [
         "C1629",
         42.97,
         "Low Value"
        ],
        [
         "C1876",
         181.15,
         "Low Value"
        ],
        [
         "C1684",
         187.72,
         "Low Value"
        ],
        [
         "C1249",
         67.61,
         "Low Value"
        ],
        [
         "C1502",
         104.4,
         "Low Value"
        ],
        [
         "C1028",
         127.63,
         "Low Value"
        ],
        [
         "C1385",
         67.36,
         "Low Value"
        ],
        [
         "C1768",
         100.04,
         "Low Value"
        ],
        [
         "C1970",
         187.55,
         "Low Value"
        ],
        [
         "C1582",
         108.19,
         "Low Value"
        ],
        [
         "C1433",
         242.71,
         "Low Value"
        ],
        [
         "C1839",
         190.76,
         "Low Value"
        ],
        [
         "C1041",
         58.01,
         "Low Value"
        ],
        [
         "C1801",
         81189.27,
         "High Value"
        ],
        [
         "C1915",
         69.5,
         "Low Value"
        ],
        [
         "C1237",
         143.22,
         "Low Value"
        ],
        [
         "C1595",
         24.71,
         "Low Value"
        ],
        [
         "C1686",
         86.84,
         "Low Value"
        ],
        [
         "C1631",
         57.03,
         "Low Value"
        ],
        [
         "C1891",
         297.01,
         "Low Value"
        ],
        [
         "C1797",
         71.31,
         "Low Value"
        ],
        [
         "C1961",
         30.95,
         "Low Value"
        ],
        [
         "C1674",
         104.57,
         "Low Value"
        ],
        [
         "C1591",
         23662.65,
         "High Value"
        ],
        [
         "C1336",
         312.06,
         "Low Value"
        ],
        [
         "C1627",
         209.26,
         "Low Value"
        ],
        [
         "C1889",
         215.09,
         "Low Value"
        ],
        [
         "C1648",
         386.7,
         "Low Value"
        ],
        [
         "C1824",
         225.4,
         "Low Value"
        ],
        [
         "C1535",
         59.35,
         "Low Value"
        ],
        [
         "C1058",
         133.64,
         "Low Value"
        ],
        [
         "C1004",
         252.1,
         "Low Value"
        ],
        [
         "C1753",
         219.7,
         "Low Value"
        ],
        [
         "C1146",
         52.95,
         "Low Value"
        ],
        [
         "C1792",
         14.46,
         "Low Value"
        ],
        [
         "C1726",
         18.92,
         "Low Value"
        ],
        [
         "C1169",
         129.43,
         "Low Value"
        ],
        [
         "C1903",
         50.44,
         "Low Value"
        ],
        [
         "C1461",
         154.56,
         "Low Value"
        ],
        [
         "C1318",
         132.09,
         "Low Value"
        ],
        [
         "C1345",
         81.81,
         "Low Value"
        ],
        [
         "C1388",
         98.99,
         "Low Value"
        ],
        [
         "C1806",
         70027.87,
         "High Value"
        ],
        [
         "C1780",
         81.88,
         "Low Value"
        ],
        [
         "C1450",
         60.66,
         "Low Value"
        ],
        [
         "C1660",
         144.84,
         "Low Value"
        ],
        [
         "C1193",
         73.34,
         "Low Value"
        ],
        [
         "C1998",
         72.26,
         "Low Value"
        ],
        [
         "C1341",
         284.16,
         "Low Value"
        ],
        [
         "C1468",
         95.32,
         "Low Value"
        ],
        [
         "C1728",
         44901.74,
         "High Value"
        ],
        [
         "C1280",
         56.27,
         "Low Value"
        ],
        [
         "C1051",
         95.85,
         "Low Value"
        ],
        [
         "C1527",
         188.13,
         "Low Value"
        ],
        [
         "C1568",
         111.87,
         "Low Value"
        ],
        [
         "C1204",
         48.09,
         "Low Value"
        ],
        [
         "C1179",
         265.97,
         "Low Value"
        ],
        [
         "C1293",
         73.21,
         "Low Value"
        ],
        [
         "C1291",
         1.39,
         "Low Value"
        ],
        [
         "C1646",
         40.31,
         "Low Value"
        ],
        [
         "C1344",
         17036.51,
         "High Value"
        ],
        [
         "C1635",
         11687.31,
         "High Value"
        ],
        [
         "C1835",
         61.64,
         "Low Value"
        ],
        [
         "C1551",
         121.15,
         "Low Value"
        ],
        [
         "C1980",
         50.64,
         "Low Value"
        ],
        [
         "C1942",
         117.86,
         "Low Value"
        ],
        [
         "C1497",
         17.99,
         "Low Value"
        ],
        [
         "C1054",
         149.24,
         "Low Value"
        ],
        [
         "C1007",
         174.86,
         "Low Value"
        ],
        [
         "C1155",
         95.39,
         "Low Value"
        ],
        [
         "C1338",
         174.12,
         "Low Value"
        ],
        [
         "C1653",
         29.72,
         "Low Value"
        ],
        [
         "C1800",
         1.0,
         "Low Value"
        ],
        [
         "C1374",
         1.29,
         "Low Value"
        ],
        [
         "C1531",
         53548.11,
         "High Value"
        ],
        [
         "C1027",
         91.34,
         "Low Value"
        ],
        [
         "C1487",
         66646.46,
         "High Value"
        ],
        [
         "C1241",
         16.52,
         "Low Value"
        ],
        [
         "C1178",
         76.19,
         "Low Value"
        ],
        [
         "C1650",
         100.22,
         "Low Value"
        ],
        [
         "C1799",
         208.88,
         "Low Value"
        ],
        [
         "C1610",
         109956.11,
         "High Value"
        ],
        [
         "C1366",
         85.56,
         "Low Value"
        ],
        [
         "C1247",
         233.11,
         "Low Value"
        ],
        [
         "C1236",
         63.49,
         "Low Value"
        ],
        [
         "C1277",
         31.33,
         "Low Value"
        ],
        [
         "C1564",
         125.57,
         "Low Value"
        ],
        [
         "C1039",
         24350.2,
         "High Value"
        ],
        [
         "C1673",
         99.9,
         "Low Value"
        ],
        [
         "C1398",
         163.69,
         "Low Value"
        ],
        [
         "C1981",
         164.56,
         "Low Value"
        ],
        [
         "C1530",
         375.86,
         "Low Value"
        ],
        [
         "C1403",
         46.56,
         "Low Value"
        ],
        [
         "C1415",
         99366.3,
         "High Value"
        ],
        [
         "C1537",
         64688.01,
         "High Value"
        ],
        [
         "C1592",
         72.99,
         "Low Value"
        ],
        [
         "C1956",
         42.27,
         "Low Value"
        ],
        [
         "C1906",
         164.38,
         "Low Value"
        ],
        [
         "C1022",
         23.76,
         "Low Value"
        ],
        [
         "C1639",
         36.17,
         "Low Value"
        ],
        [
         "C1687",
         15.87,
         "Low Value"
        ],
        [
         "C1206",
         160.74,
         "Low Value"
        ],
        [
         "C1094",
         176.29,
         "Low Value"
        ],
        [
         "C1025",
         183.19,
         "Low Value"
        ],
        [
         "C1082",
         86.62,
         "Low Value"
        ],
        [
         "C1214",
         98.64,
         "Low Value"
        ],
        [
         "C1838",
         4.72,
         "Low Value"
        ],
        [
         "C1869",
         177.29,
         "Low Value"
        ],
        [
         "C1078",
         3.8,
         "Low Value"
        ],
        [
         "C1731",
         35.26,
         "Low Value"
        ],
        [
         "C1139",
         117.14,
         "Low Value"
        ],
        [
         "C1664",
         109.48,
         "Low Value"
        ],
        [
         "C1183",
         131.07,
         "Low Value"
        ],
        [
         "C1722",
         26.35,
         "Low Value"
        ],
        [
         "C1886",
         83.38,
         "Low Value"
        ],
        [
         "C1988",
         190.81,
         "Low Value"
        ],
        [
         "C1295",
         377.83,
         "Low Value"
        ],
        [
         "C1253",
         167.1,
         "Low Value"
        ],
        [
         "C1411",
         28855.15,
         "High Value"
        ],
        [
         "C1012",
         207.73,
         "Low Value"
        ],
        [
         "C1890",
         142.45,
         "Low Value"
        ],
        [
         "C1927",
         57423.56,
         "High Value"
        ],
        [
         "C1205",
         127.74,
         "Low Value"
        ],
        [
         "C1330",
         52.74,
         "Low Value"
        ],
        [
         "C1616",
         4.78,
         "Low Value"
        ],
        [
         "C1825",
         43390.39,
         "High Value"
        ],
        [
         "C1302",
         93.77,
         "Low Value"
        ],
        [
         "C1931",
         48.08,
         "Low Value"
        ],
        [
         "C1434",
         38.54,
         "Low Value"
        ],
        [
         "C1528",
         318.25,
         "Low Value"
        ],
        [
         "C1315",
         90640.21,
         "High Value"
        ],
        [
         "C1971",
         112.94,
         "Low Value"
        ],
        [
         "C1807",
         162.45,
         "Low Value"
        ],
        [
         "C1378",
         116.84,
         "Low Value"
        ],
        [
         "C1851",
         277.95,
         "Low Value"
        ],
        [
         "C1718",
         281.01,
         "Low Value"
        ],
        [
         "C1250",
         149.24,
         "Low Value"
        ],
        [
         "C1390",
         87202.08,
         "High Value"
        ],
        [
         "C1555",
         49.68,
         "Low Value"
        ],
        [
         "C1865",
         30316.53,
         "High Value"
        ],
        [
         "C1719",
         99052.27,
         "High Value"
        ],
        [
         "C1702",
         170547.04,
         "High Value"
        ],
        [
         "C1261",
         107.95,
         "Low Value"
        ],
        [
         "C1679",
         113.79,
         "Low Value"
        ],
        [
         "C1123",
         39082.64,
         "High Value"
        ],
        [
         "C1326",
         125.4,
         "Low Value"
        ],
        [
         "C1217",
         174.45,
         "Low Value"
        ],
        [
         "C1335",
         125.4,
         "Low Value"
        ],
        [
         "C1397",
         111.62,
         "Low Value"
        ],
        [
         "C1874",
         65.64,
         "Low Value"
        ],
        [
         "C1620",
         111.82,
         "Low Value"
        ],
        [
         "C1233",
         119.59,
         "Low Value"
        ],
        [
         "C1026",
         213.88,
         "Low Value"
        ],
        [
         "C1866",
         109.43,
         "Low Value"
        ],
        [
         "C1418",
         27782.84,
         "High Value"
        ],
        [
         "C1191",
         103.03,
         "Low Value"
        ],
        [
         "C1678",
         7.21,
         "Low Value"
        ],
        [
         "C1841",
         32.43,
         "Low Value"
        ],
        [
         "C1580",
         130.3,
         "Low Value"
        ],
        [
         "C1188",
         288.45,
         "Low Value"
        ],
        [
         "C1765",
         110.45,
         "Low Value"
        ],
        [
         "C1303",
         125.16,
         "Low Value"
        ],
        [
         "C1772",
         32.17,
         "Low Value"
        ],
        [
         "C1441",
         121.87,
         "Low Value"
        ],
        [
         "C1317",
         90.14,
         "Low Value"
        ],
        [
         "C1563",
         67.22,
         "Low Value"
        ],
        [
         "C1761",
         229.58,
         "Low Value"
        ],
        [
         "C1517",
         59.83,
         "Low Value"
        ],
        [
         "C1715",
         151.71,
         "Low Value"
        ],
        [
         "C1676",
         262.81,
         "Low Value"
        ],
        [
         "C1928",
         15.9,
         "Low Value"
        ],
        [
         "C1457",
         128.31,
         "Low Value"
        ],
        [
         "C1340",
         374.13,
         "Low Value"
        ],
        [
         "C1831",
         119.98,
         "Low Value"
        ],
        [
         "C1763",
         204.23,
         "Low Value"
        ],
        [
         "C1140",
         37.87,
         "Low Value"
        ],
        [
         "C1444",
         52076.48,
         "High Value"
        ],
        [
         "C1463",
         95.05,
         "Low Value"
        ],
        [
         "C1667",
         81.72,
         "Low Value"
        ],
        [
         "C1423",
         176.49,
         "Low Value"
        ],
        [
         "C1446",
         49.72,
         "Low Value"
        ],
        [
         "C1135",
         147.94,
         "Low Value"
        ],
        [
         "C1850",
         37.43,
         "Low Value"
        ],
        [
         "C1681",
         222.09,
         "Low Value"
        ],
        [
         "C1518",
         163.75,
         "Low Value"
        ],
        [
         "C1320",
         237.2,
         "Low Value"
        ],
        [
         "C1226",
         92.33,
         "Low Value"
        ],
        [
         "C1132",
         30.99,
         "Low Value"
        ],
        [
         "C1916",
         133.58,
         "Low Value"
        ],
        [
         "C1376",
         165.25,
         "Low Value"
        ],
        [
         "C1347",
         43947.69,
         "High Value"
        ],
        [
         "C1121",
         39.74,
         "Low Value"
        ],
        [
         "C1652",
         67.94,
         "Low Value"
        ],
        [
         "C1306",
         260.3,
         "Low Value"
        ],
        [
         "C1708",
         9.19,
         "Low Value"
        ],
        [
         "C1342",
         50.23,
         "Low Value"
        ],
        [
         "C1666",
         34397.03,
         "High Value"
        ],
        [
         "C1384",
         76921.94,
         "High Value"
        ],
        [
         "C1923",
         10226.45,
         "High Value"
        ],
        [
         "C1024",
         23125.42,
         "High Value"
        ],
        [
         "C1720",
         129.93,
         "Low Value"
        ],
        [
         "C1245",
         63.66,
         "Low Value"
        ],
        [
         "C1896",
         57.02,
         "Low Value"
        ],
        [
         "C1040",
         35526.93,
         "High Value"
        ],
        [
         "C1567",
         125.73,
         "Low Value"
        ],
        [
         "C1407",
         43.69,
         "Low Value"
        ],
        [
         "C1862",
         71.72,
         "Low Value"
        ],
        [
         "C1562",
         62.3,
         "Low Value"
        ],
        [
         "C1489",
         66254.62,
         "High Value"
        ],
        [
         "C1713",
         86.06,
         "Low Value"
        ],
        [
         "C1101",
         38.28,
         "Low Value"
        ],
        [
         "C1416",
         145.72,
         "Low Value"
        ],
        [
         "C1281",
         154.4,
         "Low Value"
        ],
        [
         "C1073",
         45.55,
         "Low Value"
        ],
        [
         "C1382",
         126795.33,
         "High Value"
        ],
        [
         "C1995",
         117.73,
         "Low Value"
        ],
        [
         "C1967",
         230.64,
         "Low Value"
        ],
        [
         "C1553",
         69275.19,
         "High Value"
        ],
        [
         "C1857",
         26770.99,
         "High Value"
        ],
        [
         "C1603",
         162.1,
         "Low Value"
        ],
        [
         "C1333",
         117.54,
         "Low Value"
        ],
        [
         "C1659",
         97.44,
         "Low Value"
        ],
        [
         "C1116",
         90.16,
         "Low Value"
        ],
        [
         "C1596",
         15457.11,
         "High Value"
        ],
        [
         "C1373",
         18.56,
         "Low Value"
        ],
        [
         "C1000",
         104.0,
         "Low Value"
        ],
        [
         "C1560",
         69400.52,
         "High Value"
        ],
        [
         "C1739",
         45.12,
         "Low Value"
        ],
        [
         "C1425",
         96.25,
         "Low Value"
        ],
        [
         "C1460",
         200.77,
         "Low Value"
        ],
        [
         "C1745",
         89.65,
         "Low Value"
        ],
        [
         "C1795",
         295.86,
         "Low Value"
        ],
        [
         "C1142",
         172.93,
         "Low Value"
        ],
        [
         "C1741",
         143.5,
         "Low Value"
        ],
        [
         "C1619",
         102.01,
         "Low Value"
        ],
        [
         "C1671",
         64.55,
         "Low Value"
        ],
        [
         "C1959",
         93114.98,
         "High Value"
        ],
        [
         "C1102",
         87861.62,
         "High Value"
        ],
        [
         "C1996",
         47.13,
         "Low Value"
        ],
        [
         "C1787",
         60.1,
         "Low Value"
        ],
        [
         "C1410",
         85412.28,
         "High Value"
        ],
        [
         "C1316",
         176.28,
         "Low Value"
        ],
        [
         "C1894",
         191.15,
         "Low Value"
        ],
        [
         "C1221",
         135.08,
         "Low Value"
        ],
        [
         "C1953",
         41.99,
         "Low Value"
        ],
        [
         "C1672",
         59.29,
         "Low Value"
        ],
        [
         "C1898",
         182.19,
         "Low Value"
        ],
        [
         "C1954",
         27.7,
         "Low Value"
        ],
        [
         "C1368",
         13.79,
         "Low Value"
        ],
        [
         "C1830",
         201.4,
         "Low Value"
        ],
        [
         "C1669",
         39.98,
         "Low Value"
        ],
        [
         "C1963",
         62.32,
         "Low Value"
        ],
        [
         "C1208",
         85294.25,
         "High Value"
        ],
        [
         "C1762",
         200.6,
         "Low Value"
        ],
        [
         "C1561",
         173.09,
         "Low Value"
        ],
        [
         "C1087",
         207.2,
         "Low Value"
        ],
        [
         "C1477",
         185.52,
         "Low Value"
        ],
        [
         "C1742",
         111.35,
         "Low Value"
        ],
        [
         "C1691",
         43.46,
         "Low Value"
        ],
        [
         "C1990",
         69.69,
         "Low Value"
        ],
        [
         "C1184",
         107.39,
         "Low Value"
        ],
        [
         "C1176",
         132.78,
         "Low Value"
        ],
        [
         "C1331",
         95.81,
         "Low Value"
        ],
        [
         "C1436",
         22.87,
         "Low Value"
        ],
        [
         "C1269",
         95.29,
         "Low Value"
        ],
        [
         "C1696",
         113.12,
         "Low Value"
        ],
        [
         "C1826",
         42.9,
         "Low Value"
        ],
        [
         "C1218",
         194.66,
         "Low Value"
        ],
        [
         "C1129",
         129.22,
         "Low Value"
        ],
        [
         "C1381",
         144.02,
         "Low Value"
        ],
        [
         "C1594",
         40.75,
         "Low Value"
        ],
        [
         "C1288",
         95.6,
         "Low Value"
        ],
        [
         "C1128",
         25572.44,
         "High Value"
        ],
        [
         "C1308",
         109.89,
         "Low Value"
        ],
        [
         "C1992",
         45.98,
         "Low Value"
        ],
        [
         "C1727",
         298.24,
         "Low Value"
        ],
        [
         "C1424",
         160.6,
         "Low Value"
        ],
        [
         "C1090",
         32.97,
         "Low Value"
        ],
        [
         "C1037",
         42466.53,
         "High Value"
        ],
        [
         "C1220",
         284.15,
         "Low Value"
        ],
        [
         "C1758",
         94.46,
         "Low Value"
        ],
        [
         "C1104",
         20.25,
         "Low Value"
        ],
        [
         "C1572",
         119.01,
         "Low Value"
        ],
        [
         "C1941",
         63.52,
         "Low Value"
        ],
        [
         "C1196",
         151.35,
         "Low Value"
        ],
        [
         "C1185",
         20053.78,
         "High Value"
        ],
        [
         "C1455",
         92.03,
         "Low Value"
        ],
        [
         "C1846",
         47.27,
         "Low Value"
        ],
        [
         "C1097",
         66800.84,
         "High Value"
        ],
        [
         "C1258",
         28.58,
         "Low Value"
        ],
        [
         "C1438",
         35.28,
         "Low Value"
        ],
        [
         "C1944",
         53035.3,
         "High Value"
        ],
        [
         "C1888",
         84.04,
         "Low Value"
        ],
        [
         "C1604",
         163.19,
         "Low Value"
        ],
        [
         "C1029",
         52.29,
         "Low Value"
        ],
        [
         "C1354",
         105.49,
         "Low Value"
        ],
        [
         "C1428",
         144.61,
         "Low Value"
        ],
        [
         "C1541",
         111.81,
         "Low Value"
        ],
        [
         "C1063",
         62.27,
         "Low Value"
        ],
        [
         "C1803",
         104.0,
         "Low Value"
        ],
        [
         "C1755",
         22.83,
         "Low Value"
        ],
        [
         "C1805",
         44.19,
         "Low Value"
        ],
        [
         "C1413",
         11.6,
         "Low Value"
        ],
        [
         "C1810",
         61314.11,
         "High Value"
        ],
        [
         "C1429",
         28581.47,
         "High Value"
        ],
        [
         "C1781",
         164.04,
         "Low Value"
        ],
        [
         "C1724",
         44.12,
         "Low Value"
        ],
        [
         "C1714",
         125.25,
         "Low Value"
        ],
        [
         "C1730",
         125259.15,
         "High Value"
        ],
        [
         "C1276",
         109.66,
         "Low Value"
        ],
        [
         "C1519",
         142.57,
         "Low Value"
        ],
        [
         "C1999",
         9.02,
         "Low Value"
        ],
        [
         "C1251",
         36.34,
         "Low Value"
        ],
        [
         "C1298",
         57575.45,
         "High Value"
        ],
        [
         "C1260",
         67.6,
         "Low Value"
        ],
        [
         "C1182",
         310.95,
         "Low Value"
        ],
        [
         "C1509",
         85.61,
         "Low Value"
        ],
        [
         "C1472",
         77.72,
         "Low Value"
        ],
        [
         "C1847",
         20.94,
         "Low Value"
        ],
        [
         "C1522",
         30.37,
         "Low Value"
        ],
        [
         "C1098",
         177.12,
         "Low Value"
        ],
        [
         "C1785",
         38.78,
         "Low Value"
        ],
        [
         "C1108",
         131.41,
         "Low Value"
        ],
        [
         "C1065",
         44941.43,
         "High Value"
        ],
        [
         "C1693",
         107913.49,
         "High Value"
        ],
        [
         "C1070",
         93.7,
         "Low Value"
        ],
        [
         "C1451",
         99.6,
         "Low Value"
        ],
        [
         "C1481",
         94639.98,
         "High Value"
        ],
        [
         "C1939",
         37.31,
         "Low Value"
        ],
        [
         "C1067",
         98.94,
         "Low Value"
        ],
        [
         "C1770",
         164.92,
         "Low Value"
        ],
        [
         "C1683",
         116.54,
         "Low Value"
        ],
        [
         "C1285",
         122.9,
         "Low Value"
        ],
        [
         "C1075",
         10.83,
         "Low Value"
        ],
        [
         "C1005",
         117.41,
         "Low Value"
        ],
        [
         "C1789",
         83.86,
         "Low Value"
        ],
        [
         "C1670",
         116.46,
         "Low Value"
        ],
        [
         "C1265",
         76.96,
         "Low Value"
        ],
        [
         "C1103",
         53.1,
         "Low Value"
        ],
        [
         "C1222",
         99.74,
         "Low Value"
        ],
        [
         "C1259",
         97.66,
         "Low Value"
        ],
        [
         "C1523",
         47.49,
         "Low Value"
        ],
        [
         "C1453",
         62.48,
         "Low Value"
        ],
        [
         "C1626",
         278.82,
         "Low Value"
        ],
        [
         "C1512",
         64.04,
         "Low Value"
        ],
        [
         "C1994",
         148.09,
         "Low Value"
        ],
        [
         "C1871",
         148.97,
         "Low Value"
        ],
        [
         "C1471",
         243.11,
         "Low Value"
        ],
        [
         "C1738",
         7.11,
         "Low Value"
        ],
        [
         "C1083",
         52.34,
         "Low Value"
        ],
        [
         "C1113",
         71.28,
         "Low Value"
        ],
        [
         "C1949",
         226.17,
         "Low Value"
        ],
        [
         "C1068",
         48011.89,
         "High Value"
        ],
        [
         "C1901",
         183.0,
         "Low Value"
        ],
        [
         "C1698",
         38.49,
         "Low Value"
        ],
        [
         "C1107",
         30.16,
         "Low Value"
        ],
        [
         "C1500",
         253.24,
         "Low Value"
        ],
        [
         "C1248",
         200.52,
         "Low Value"
        ],
        [
         "C1864",
         69.88,
         "Low Value"
        ],
        [
         "C1744",
         75.03,
         "Low Value"
        ],
        [
         "C1577",
         91.79,
         "Low Value"
        ],
        [
         "C1632",
         89.76,
         "Low Value"
        ],
        [
         "C1872",
         87.1,
         "Low Value"
        ],
        [
         "C1370",
         32103.64,
         "High Value"
        ],
        [
         "C1924",
         104.91,
         "Low Value"
        ],
        [
         "C1516",
         12.58,
         "Low Value"
        ],
        [
         "C1198",
         133.16,
         "Low Value"
        ],
        [
         "C1203",
         362.16,
         "Low Value"
        ],
        [
         "C1550",
         36.23,
         "Low Value"
        ],
        [
         "C1122",
         89.96,
         "Low Value"
        ],
        [
         "C1211",
         181.85,
         "Low Value"
        ],
        [
         "C1783",
         18.02,
         "Low Value"
        ],
        [
         "C1919",
         30.2,
         "Low Value"
        ],
        [
         "C1750",
         1.63,
         "Low Value"
        ],
        [
         "C1712",
         123.98,
         "Low Value"
        ],
        [
         "C1099",
         62233.64,
         "High Value"
        ],
        [
         "C1242",
         91700.09,
         "High Value"
        ],
        [
         "C1325",
         131690.74,
         "High Value"
        ],
        [
         "C1043",
         154.57,
         "Low Value"
        ],
        [
         "C1018",
         50037.07,
         "High Value"
        ],
        [
         "C1913",
         85.87,
         "Low Value"
        ],
        [
         "C1982",
         59.39,
         "Low Value"
        ],
        [
         "C1296",
         109.63,
         "Low Value"
        ],
        [
         "C1612",
         161.29,
         "Low Value"
        ],
        [
         "C1069",
         104.95,
         "Low Value"
        ],
        [
         "C1202",
         29.8,
         "Low Value"
        ],
        [
         "C1948",
         52.99,
         "Low Value"
        ],
        [
         "C1644",
         75.84,
         "Low Value"
        ],
        [
         "C1682",
         161.32,
         "Low Value"
        ],
        [
         "C1565",
         113.82,
         "Low Value"
        ],
        [
         "C1583",
         150.99,
         "Low Value"
        ],
        [
         "C1391",
         62.59,
         "Low Value"
        ],
        [
         "C1124",
         3.19,
         "Low Value"
        ],
        [
         "C1089",
         63.92,
         "Low Value"
        ],
        [
         "C1406",
         28.36,
         "Low Value"
        ],
        [
         "C1598",
         124553.36,
         "High Value"
        ],
        [
         "C1802",
         62352.72,
         "High Value"
        ],
        [
         "C1147",
         80117.52,
         "High Value"
        ],
        [
         "C1492",
         94285.43,
         "High Value"
        ],
        [
         "C1289",
         199.5,
         "Low Value"
        ],
        [
         "C1363",
         8.64,
         "Low Value"
        ],
        [
         "C1238",
         34627.71,
         "High Value"
        ],
        [
         "C1470",
         115.59,
         "Low Value"
        ],
        [
         "C1818",
         33181.36,
         "High Value"
        ],
        [
         "C1464",
         366.55,
         "Low Value"
        ],
        [
         "C1697",
         162.36,
         "Low Value"
        ],
        [
         "C1777",
         366.32,
         "Low Value"
        ],
        [
         "C1725",
         36892.68,
         "High Value"
        ],
        [
         "C1820",
         156.31,
         "Low Value"
        ],
        [
         "C1431",
         73.15,
         "Low Value"
        ],
        [
         "C1395",
         197.6,
         "Low Value"
        ],
        [
         "C1606",
         77.35,
         "Low Value"
        ],
        [
         "C1149",
         127.92,
         "Low Value"
        ],
        [
         "C1771",
         96.11,
         "Low Value"
        ],
        [
         "C1584",
         38.08,
         "Low Value"
        ],
        [
         "C1611",
         69.22,
         "Low Value"
        ],
        [
         "C1057",
         127.0,
         "Low Value"
        ],
        [
         "C1437",
         199.9,
         "Low Value"
        ],
        [
         "C1275",
         31.89,
         "Low Value"
        ],
        [
         "C1426",
         111.96,
         "Low Value"
        ],
        [
         "C1716",
         35.11,
         "Low Value"
        ],
        [
         "C1929",
         43.25,
         "Low Value"
        ],
        [
         "C1371",
         154.55,
         "Low Value"
        ],
        [
         "C1324",
         14785.05,
         "High Value"
        ],
        [
         "C1292",
         164.14,
         "Low Value"
        ],
        [
         "C1751",
         100.75,
         "Low Value"
        ],
        [
         "C1793",
         38.66,
         "Low Value"
        ],
        [
         "C1459",
         78.11,
         "Low Value"
        ],
        [
         "C1034",
         36.26,
         "Low Value"
        ],
        [
         "C1511",
         53.31,
         "Low Value"
        ],
        [
         "C1175",
         257.2,
         "Low Value"
        ],
        [
         "C1435",
         11.82,
         "Low Value"
        ],
        [
         "C1922",
         80.05,
         "Low Value"
        ],
        [
         "C1484",
         67714.42,
         "High Value"
        ],
        [
         "C1621",
         131.14,
         "Low Value"
        ],
        [
         "C1469",
         68.11,
         "Low Value"
        ],
        [
         "C1640",
         8.06,
         "Low Value"
        ],
        [
         "C1736",
         82.64,
         "Low Value"
        ],
        [
         "C1264",
         52279.98,
         "High Value"
        ],
        [
         "C1190",
         70.24,
         "Low Value"
        ],
        [
         "C1533",
         122.27,
         "Low Value"
        ],
        [
         "C1170",
         93.06,
         "Low Value"
        ],
        [
         "C1494",
         228.21,
         "Low Value"
        ],
        [
         "C1031",
         90851.77,
         "High Value"
        ],
        [
         "C1832",
         71.58,
         "Low Value"
        ],
        [
         "C1061",
         39.3,
         "Low Value"
        ],
        [
         "C1013",
         32.31,
         "Low Value"
        ],
        [
         "C1232",
         40761.16,
         "High Value"
        ],
        [
         "C1430",
         37593.73,
         "High Value"
        ],
        [
         "C1064",
         119.02,
         "Low Value"
        ],
        [
         "C1134",
         191.32,
         "Low Value"
        ],
        [
         "C1046",
         267.54,
         "Low Value"
        ],
        [
         "C1216",
         176.72,
         "Low Value"
        ],
        [
         "C1255",
         98.19,
         "Low Value"
        ],
        [
         "C1071",
         256.99,
         "Low Value"
        ],
        [
         "C1045",
         97.03,
         "Low Value"
        ],
        [
         "C1885",
         78.93,
         "Low Value"
        ],
        [
         "C1480",
         134.18,
         "Low Value"
        ],
        [
         "C1282",
         98.85,
         "Low Value"
        ],
        [
         "C1861",
         162.24,
         "Low Value"
        ],
        [
         "C1766",
         96.53,
         "Low Value"
        ],
        [
         "C1466",
         127.18,
         "Low Value"
        ],
        [
         "C1749",
         85.88,
         "Low Value"
        ],
        [
         "C1072",
         217.86,
         "Low Value"
        ],
        [
         "C1273",
         120.26,
         "Low Value"
        ],
        [
         "C1754",
         142.32,
         "Low Value"
        ],
        [
         "C1011",
         274.5,
         "Low Value"
        ],
        [
         "C1297",
         141.89,
         "Low Value"
        ],
        [
         "C1015",
         14.15,
         "Low Value"
        ],
        [
         "C1843",
         125.66,
         "Low Value"
        ],
        [
         "C1705",
         22.18,
         "Low Value"
        ],
        [
         "C1442",
         137.86,
         "Low Value"
        ],
        [
         "C1106",
         12241.63,
         "High Value"
        ],
        [
         "C1544",
         45.71,
         "Low Value"
        ],
        [
         "C1387",
         11478.7,
         "High Value"
        ],
        [
         "C1329",
         79.21,
         "Low Value"
        ],
        [
         "C1360",
         124.85,
         "Low Value"
        ],
        [
         "C1881",
         56.31,
         "Low Value"
        ],
        [
         "C1050",
         83.02,
         "Low Value"
        ],
        [
         "C1074",
         86.55,
         "Low Value"
        ],
        [
         "C1836",
         49.52,
         "Low Value"
        ],
        [
         "C1685",
         139.77,
         "Low Value"
        ],
        [
         "C1227",
         126.67,
         "Low Value"
        ],
        [
         "C1969",
         30.94,
         "Low Value"
        ],
        [
         "C1848",
         94.68,
         "Low Value"
        ],
        [
         "C1246",
         1.0,
         "Low Value"
        ],
        [
         "C1656",
         36.95,
         "Low Value"
        ],
        [
         "C1925",
         122.23,
         "Low Value"
        ],
        [
         "C1177",
         49308.01,
         "High Value"
        ],
        [
         "C1138",
         112.05,
         "Low Value"
        ],
        [
         "C1452",
         172.96,
         "Low Value"
        ],
        [
         "C1458",
         291.15,
         "Low Value"
        ],
        [
         "C1327",
         139.53,
         "Low Value"
        ],
        [
         "C1490",
         18.55,
         "Low Value"
        ],
        [
         "C1136",
         189.53,
         "Low Value"
        ],
        [
         "C1778",
         8.05,
         "Low Value"
        ],
        [
         "C1734",
         51.85,
         "Low Value"
        ],
        [
         "C1180",
         171.39,
         "Low Value"
        ],
        [
         "C1589",
         241.77,
         "Low Value"
        ],
        [
         "C1301",
         97.34,
         "Low Value"
        ],
        [
         "C1926",
         53.41,
         "Low Value"
        ],
        [
         "C1930",
         174.06,
         "Low Value"
        ],
        [
         "C1377",
         30464.42,
         "High Value"
        ],
        [
         "C1858",
         64.75,
         "Low Value"
        ],
        [
         "C1593",
         164.89,
         "Low Value"
        ],
        [
         "C1546",
         53.36,
         "Low Value"
        ],
        [
         "C1092",
         32.14,
         "Low Value"
        ],
        [
         "C1361",
         153.38,
         "Low Value"
        ],
        [
         "C1033",
         185.54,
         "Low Value"
        ],
        [
         "C1165",
         110.89,
         "Low Value"
        ],
        [
         "C1554",
         53080.38,
         "High Value"
        ],
        [
         "C1244",
         113.79,
         "Low Value"
        ],
        [
         "C1700",
         61.96,
         "Low Value"
        ],
        [
         "C1940",
         55.15,
         "Low Value"
        ],
        [
         "C1405",
         24.89,
         "Low Value"
        ],
        [
         "C1993",
         95.17,
         "Low Value"
        ],
        [
         "C1813",
         49.54,
         "Low Value"
        ],
        [
         "C1137",
         115.37,
         "Low Value"
        ],
        [
         "C1309",
         20.32,
         "Low Value"
        ],
        [
         "C1513",
         164.68,
         "Low Value"
        ],
        [
         "C1849",
         127.92,
         "Low Value"
        ],
        [
         "C1747",
         46.12,
         "Low Value"
        ],
        [
         "C1776",
         124.76,
         "Low Value"
        ],
        [
         "C1737",
         90405.56,
         "High Value"
        ],
        [
         "C1148",
         217.05,
         "Low Value"
        ],
        [
         "C1819",
         165.5,
         "Low Value"
        ],
        [
         "C1077",
         168.13,
         "Low Value"
        ],
        [
         "C1556",
         85152.44,
         "High Value"
        ],
        [
         "C1357",
         184.3,
         "Low Value"
        ],
        [
         "C1581",
         91.85,
         "Low Value"
        ],
        [
         "C1680",
         180.77,
         "Low Value"
        ],
        [
         "C1252",
         27499.49,
         "High Value"
        ],
        [
         "C1268",
         178.43,
         "Low Value"
        ],
        [
         "C1834",
         84.49,
         "Low Value"
        ],
        [
         "C1935",
         175.1,
         "Low Value"
        ],
        [
         "C1538",
         28519.44,
         "High Value"
        ],
        [
         "C1655",
         229.85,
         "Low Value"
        ],
        [
         "C1756",
         197.23,
         "Low Value"
        ],
        [
         "C1372",
         101.31,
         "Low Value"
        ],
        [
         "C1010",
         9.66,
         "Low Value"
        ],
        [
         "C1105",
         256.77,
         "Low Value"
        ],
        [
         "C1884",
         136.58,
         "Low Value"
        ],
        [
         "C1117",
         50.85,
         "Low Value"
        ],
        [
         "C1486",
         57.82,
         "Low Value"
        ],
        [
         "C1160",
         70.42,
         "Low Value"
        ],
        [
         "C1286",
         108.8,
         "Low Value"
        ],
        [
         "C1495",
         8.96,
         "Low Value"
        ],
        [
         "C1168",
         63898.47,
         "High Value"
        ],
        [
         "C1853",
         97.1,
         "Low Value"
        ],
        [
         "C1215",
         93113.96,
         "High Value"
        ],
        [
         "C1420",
         17103.35,
         "High Value"
        ],
        [
         "C1907",
         44.26,
         "Low Value"
        ],
        [
         "C1151",
         25145.5,
         "High Value"
        ],
        [
         "C1983",
         89159.05,
         "High Value"
        ],
        [
         "C1085",
         103.5,
         "Low Value"
        ],
        [
         "C1201",
         128545.48,
         "High Value"
        ],
        [
         "C1088",
         19471.9,
         "High Value"
        ],
        [
         "C1878",
         43.4,
         "Low Value"
        ],
        [
         "C1828",
         159.49,
         "Low Value"
        ],
        [
         "C1833",
         60.53,
         "Low Value"
        ],
        [
         "C1278",
         94.86,
         "Low Value"
        ],
        [
         "C1845",
         51.85,
         "Low Value"
        ],
        [
         "C1636",
         50103.38,
         "High Value"
        ],
        [
         "C1365",
         62078.17,
         "High Value"
        ],
        [
         "C1624",
         114.63,
         "Low Value"
        ],
        [
         "C1972",
         112.21,
         "Low Value"
        ],
        [
         "C1172",
         86259.08,
         "High Value"
        ],
        [
         "C1634",
         104.48,
         "Low Value"
        ],
        [
         "C1920",
         189.87,
         "Low Value"
        ],
        [
         "C1575",
         135.35,
         "Low Value"
        ],
        [
         "C1641",
         146.48,
         "Low Value"
        ],
        [
         "C1112",
         86.72,
         "Low Value"
        ],
        [
         "C1399",
         119278.29,
         "High Value"
        ],
        [
         "C1017",
         82350.26,
         "High Value"
        ],
        [
         "C1383",
         181.2,
         "Low Value"
        ],
        [
         "C1158",
         146.35,
         "Low Value"
        ],
        [
         "C1449",
         54.67,
         "Low Value"
        ],
        [
         "C1540",
         54004.06,
         "High Value"
        ],
        [
         "C1860",
         223.79,
         "Low Value"
        ],
        [
         "C1167",
         145.26,
         "Low Value"
        ],
        [
         "C1274",
         64.09,
         "Low Value"
        ],
        [
         "C1224",
         74.36,
         "Low Value"
        ],
        [
         "C1021",
         136.12,
         "Low Value"
        ],
        [
         "C1408",
         89.88,
         "Low Value"
        ],
        [
         "C1614",
         141333.93,
         "High Value"
        ],
        [
         "C1566",
         17.94,
         "Low Value"
        ],
        [
         "C1957",
         13.0,
         "Low Value"
        ],
        [
         "C1448",
         56.75,
         "Low Value"
        ],
        [
         "C1401",
         136.45,
         "Low Value"
        ],
        [
         "C1721",
         31.12,
         "Low Value"
        ],
        [
         "C1808",
         305.44,
         "Low Value"
        ],
        [
         "C1003",
         124.49,
         "Low Value"
        ],
        [
         "C1508",
         26.79,
         "Low Value"
        ],
        [
         "C1162",
         398.41,
         "Low Value"
        ],
        [
         "C1095",
         75.6,
         "Low Value"
        ],
        [
         "C1141",
         48.08,
         "Low Value"
        ],
        [
         "C1352",
         56.58,
         "Low Value"
        ],
        [
         "C1989",
         173.86,
         "Low Value"
        ],
        [
         "C1047",
         88.63,
         "Low Value"
        ],
        [
         "C1613",
         93.86,
         "Low Value"
        ],
        [
         "C1504",
         128.69,
         "Low Value"
        ],
        [
         "C1997",
         120.58,
         "Low Value"
        ],
        [
         "C1962",
         79.81,
         "Low Value"
        ],
        [
         "C1892",
         17843.49,
         "High Value"
        ],
        [
         "C1035",
         22.67,
         "Low Value"
        ],
        [
         "C1389",
         84108.64,
         "High Value"
        ],
        [
         "C1711",
         90571.45,
         "High Value"
        ],
        [
         "C1822",
         128.7,
         "Low Value"
        ],
        [
         "C1164",
         91.54,
         "Low Value"
        ],
        [
         "C1965",
         167.18,
         "Low Value"
        ],
        [
         "C1120",
         66323.81,
         "High Value"
        ],
        [
         "C1987",
         70.22,
         "Low Value"
        ],
        [
         "C1279",
         85.26,
         "Low Value"
        ],
        [
         "C1638",
         136.04,
         "Low Value"
        ],
        [
         "C1701",
         134.52,
         "Low Value"
        ],
        [
         "C1677",
         92.53,
         "Low Value"
        ],
        [
         "C1557",
         5.1,
         "Low Value"
        ],
        [
         "C1474",
         150.16,
         "Low Value"
        ],
        [
         "C1207",
         83.42,
         "Low Value"
        ],
        [
         "C1633",
         41.56,
         "Low Value"
        ],
        [
         "C1323",
         123.56,
         "Low Value"
        ],
        [
         "C1125",
         55.14,
         "Low Value"
        ],
        [
         "C1950",
         34.31,
         "Low Value"
        ],
        [
         "C1630",
         35.7,
         "Low Value"
        ],
        [
         "C1145",
         77.4,
         "Low Value"
        ],
        [
         "C1976",
         47.23,
         "Low Value"
        ],
        [
         "C1503",
         19.34,
         "Low Value"
        ],
        [
         "C1262",
         113.87,
         "Low Value"
        ],
        [
         "C1975",
         58.85,
         "Low Value"
        ],
        [
         "C1266",
         159.71,
         "Low Value"
        ],
        [
         "C1456",
         191.46,
         "Low Value"
        ],
        [
         "C1877",
         115.54,
         "Low Value"
        ],
        [
         "C1174",
         121.36,
         "Low Value"
        ],
        [
         "C1439",
         166.35,
         "Low Value"
        ],
        [
         "C1786",
         69.76,
         "Low Value"
        ],
        [
         "C1353",
         200.32,
         "Low Value"
        ],
        [
         "C1657",
         133.25,
         "Low Value"
        ],
        [
         "C1199",
         101.56,
         "Low Value"
        ],
        [
         "C1506",
         13.08,
         "Low Value"
        ],
        [
         "C1868",
         202.42,
         "Low Value"
        ],
        [
         "C1257",
         103.02,
         "Low Value"
        ],
        [
         "C1882",
         50.16,
         "Low Value"
        ],
        [
         "C1230",
         58.24,
         "Low Value"
        ],
        [
         "C1651",
         55.77,
         "Low Value"
        ],
        [
         "C1346",
         145.48,
         "Low Value"
        ],
        [
         "C1465",
         239.12,
         "Low Value"
        ],
        [
         "C1412",
         321.17,
         "Low Value"
        ],
        [
         "C1467",
         168.06,
         "Low Value"
        ],
        [
         "C1002",
         97105.79,
         "High Value"
        ],
        [
         "C1978",
         160.29,
         "Low Value"
        ],
        [
         "C1392",
         82.94,
         "Low Value"
        ],
        [
         "C1545",
         96.04,
         "Low Value"
        ],
        [
         "C1548",
         51.13,
         "Low Value"
        ],
        [
         "C1773",
         42.4,
         "Low Value"
        ],
        [
         "C1379",
         186.51,
         "Low Value"
        ],
        [
         "C1921",
         183.31,
         "Low Value"
        ],
        [
         "C1788",
         52937.83,
         "High Value"
        ],
        [
         "C1775",
         106.87,
         "Low Value"
        ],
        [
         "C1914",
         221.29,
         "Low Value"
        ],
        [
         "C1006",
         79.41,
         "Low Value"
        ],
        [
         "C1823",
         97.14,
         "Low Value"
        ],
        [
         "C1393",
         77.85,
         "Low Value"
        ],
        [
         "C1760",
         129.86,
         "Low Value"
        ],
        [
         "C1654",
         19025.52,
         "High Value"
        ],
        [
         "C1637",
         147659.07,
         "High Value"
        ],
        [
         "C1647",
         86773.68,
         "High Value"
        ],
        [
         "C1059",
         159.05,
         "Low Value"
        ],
        [
         "C1019",
         207.73,
         "Low Value"
        ],
        [
         "C1746",
         209.36,
         "Low Value"
        ],
        [
         "C1821",
         77.07,
         "Low Value"
        ],
        [
         "C1016",
         79096.81,
         "High Value"
        ],
        [
         "C1605",
         111.96,
         "Low Value"
        ],
        [
         "C1042",
         61.8,
         "Low Value"
        ],
        [
         "C1367",
         80.2,
         "Low Value"
        ],
        [
         "C1576",
         376.91,
         "Low Value"
        ],
        [
         "C1757",
         91.93,
         "Low Value"
        ],
        [
         "C1143",
         55.44,
         "Low Value"
        ],
        [
         "C1493",
         147.45,
         "Low Value"
        ],
        [
         "C1812",
         84.74,
         "Low Value"
        ],
        [
         "C1525",
         195.51,
         "Low Value"
        ],
        [
         "C1880",
         138.53,
         "Low Value"
        ],
        [
         "C1764",
         176.1,
         "Low Value"
        ],
        [
         "C1539",
         76.57,
         "Low Value"
        ],
        [
         "C1748",
         40.53,
         "Low Value"
        ],
        [
         "C1159",
         47.58,
         "Low Value"
        ],
        [
         "C1501",
         124.58,
         "Low Value"
        ],
        [
         "C1093",
         19821.34,
         "High Value"
        ],
        [
         "C1958",
         148.71,
         "Low Value"
        ],
        [
         "C1422",
         99.37,
         "Low Value"
        ],
        [
         "C1443",
         154.54,
         "Low Value"
        ],
        [
         "C1911",
         202.59,
         "Low Value"
        ],
        [
         "C1529",
         28.3,
         "Low Value"
        ],
        [
         "C1984",
         141.16,
         "Low Value"
        ],
        [
         "C1272",
         98.75,
         "Low Value"
        ],
        [
         "C1532",
         37.81,
         "Low Value"
        ],
        [
         "C1213",
         67.85,
         "Low Value"
        ],
        [
         "C1895",
         68.61,
         "Low Value"
        ],
        [
         "C1905",
         64.86,
         "Low Value"
        ],
        [
         "C1111",
         72.05,
         "Low Value"
        ],
        [
         "C1900",
         247.37,
         "Low Value"
        ],
        [
         "C1219",
         140.62,
         "Low Value"
        ],
        [
         "C1617",
         69.51,
         "Low Value"
        ],
        [
         "C1350",
         245.01,
         "Low Value"
        ],
        [
         "C1166",
         70.61,
         "Low Value"
        ],
        [
         "C1784",
         86610.89,
         "High Value"
        ],
        [
         "C1814",
         36.23,
         "Low Value"
        ],
        [
         "C1955",
         14.57,
         "Low Value"
        ],
        [
         "C1343",
         28.15,
         "Low Value"
        ],
        [
         "C1240",
         51.33,
         "Low Value"
        ],
        [
         "C1688",
         128.65,
         "Low Value"
        ],
        [
         "C1404",
         12.78,
         "Low Value"
        ],
        [
         "C1150",
         80.24,
         "Low Value"
        ],
        [
         "C1154",
         4.86,
         "Low Value"
        ],
        [
         "C1062",
         26.22,
         "Low Value"
        ],
        [
         "C1008",
         252.32,
         "Low Value"
        ],
        [
         "C1256",
         168.96,
         "Low Value"
        ],
        [
         "C1964",
         125.06,
         "Low Value"
        ],
        [
         "C1510",
         10.87,
         "Low Value"
        ],
        [
         "C1402",
         131.75,
         "Low Value"
        ],
        [
         "C1968",
         43.38,
         "Low Value"
        ],
        [
         "C1475",
         3.05,
         "Low Value"
        ],
        [
         "C1645",
         69.07,
         "Low Value"
        ],
        [
         "C1478",
         52452.62,
         "High Value"
        ],
        [
         "C1902",
         67.23,
         "Low Value"
        ],
        [
         "C1223",
         8.13,
         "Low Value"
        ],
        [
         "C1782",
         51.8,
         "Low Value"
        ],
        [
         "C1009",
         37611.42,
         "High Value"
        ],
        [
         "C1356",
         83.53,
         "Low Value"
        ],
        [
         "C1299",
         84.52,
         "Low Value"
        ],
        [
         "C1590",
         24.82,
         "Low Value"
        ],
        [
         "C1126",
         43384.85,
         "High Value"
        ],
        [
         "C1038",
         31.27,
         "Low Value"
        ],
        [
         "C1809",
         26.85,
         "Low Value"
        ],
        [
         "C1973",
         322.34,
         "Low Value"
        ],
        [
         "C1287",
         148.19,
         "Low Value"
        ],
        [
         "C1578",
         88.78,
         "Low Value"
        ],
        [
         "C1171",
         70547.08,
         "High Value"
        ],
        [
         "C1643",
         27.89,
         "Low Value"
        ],
        [
         "C1419",
         49.57,
         "Low Value"
        ],
        [
         "C1588",
         26.07,
         "Low Value"
        ],
        [
         "C1622",
         57.87,
         "Low Value"
        ],
        [
         "C1362",
         66.02,
         "Low Value"
        ],
        [
         "C1597",
         14.14,
         "Low Value"
        ],
        [
         "C1197",
         127.91,
         "Low Value"
        ],
        [
         "C1514",
         99465.43,
         "High Value"
        ],
        [
         "C1270",
         51.69,
         "Low Value"
        ],
        [
         "C1733",
         53.0,
         "Low Value"
        ],
        [
         "C1867",
         3.49,
         "Low Value"
        ],
        [
         "C1235",
         91.51,
         "Low Value"
        ],
        [
         "C1569",
         17.81,
         "Low Value"
        ],
        [
         "C1488",
         122.91,
         "Low Value"
        ],
        [
         "C1254",
         12.18,
         "Low Value"
        ],
        [
         "C1447",
         31.58,
         "Low Value"
        ],
        [
         "C1496",
         74.16,
         "Low Value"
        ],
        [
         "C1515",
         99.26,
         "Low Value"
        ],
        [
         "C1364",
         55.35,
         "Low Value"
        ],
        [
         "C1856",
         43.16,
         "Low Value"
        ],
        [
         "C1735",
         68.76,
         "Low Value"
        ],
        [
         "C1899",
         65.74,
         "Low Value"
        ],
        [
         "C1571",
         130.18,
         "Low Value"
        ],
        [
         "C1130",
         44.98,
         "Low Value"
        ],
        [
         "C1209",
         52.87,
         "Low Value"
        ],
        [
         "C1066",
         52.26,
         "Low Value"
        ],
        [
         "C1870",
         58.65,
         "Low Value"
        ],
        [
         "C1394",
         185.38,
         "Low Value"
        ],
        [
         "C1229",
         20.67,
         "Low Value"
        ],
        [
         "C1421",
         63603.93,
         "High Value"
        ],
        [
         "C1311",
         20.9,
         "Low Value"
        ],
        [
         "C1936",
         37.06,
         "Low Value"
        ],
        [
         "C1476",
         1.21,
         "Low Value"
        ],
        [
         "C1334",
         34.87,
         "Low Value"
        ],
        [
         "C1440",
         59.55,
         "Low Value"
        ],
        [
         "C1313",
         10.98,
         "Low Value"
        ],
        [
         "C1417",
         78.34,
         "Low Value"
        ],
        [
         "C1579",
         47.83,
         "Low Value"
        ],
        [
         "C1966",
         41.29,
         "Low Value"
        ],
        [
         "C1307",
         43.95,
         "Low Value"
        ],
        [
         "C1133",
         132.92,
         "Low Value"
        ],
        [
         "C1044",
         94379.52,
         "High Value"
        ],
        [
         "C1432",
         54.46,
         "Low Value"
        ],
        [
         "C1960",
         33.88,
         "Low Value"
        ],
        [
         "C1310",
         43.27,
         "Low Value"
        ],
        [
         "C1945",
         1.0,
         "Low Value"
        ],
        [
         "C1986",
         41.28,
         "Low Value"
        ],
        [
         "C1445",
         28356.01,
         "High Value"
        ],
        [
         "C1977",
         98557.41,
         "High Value"
        ],
        [
         "C1840",
         41986.56,
         "High Value"
        ],
        [
         "C1663",
         7.93,
         "Low Value"
        ],
        [
         "C1692",
         22.68,
         "Low Value"
        ],
        [
         "C1427",
         51.32,
         "Low Value"
        ],
        [
         "C1752",
         2.09,
         "Low Value"
        ],
        [
         "C1897",
         109.77,
         "Low Value"
        ],
        [
         "C1152",
         23.96,
         "Low Value"
        ],
        [
         "C1873",
         69.96,
         "Low Value"
        ],
        [
         "C1231",
         3.06,
         "Low Value"
        ],
        [
         "C1904",
         49.23,
         "Low Value"
        ],
        [
         "C1883",
         37.35,
         "Low Value"
        ],
        [
         "C1339",
         123.94,
         "Low Value"
        ],
        [
         "C1380",
         68.13,
         "Low Value"
        ],
        [
         "C1225",
         37.17,
         "Low Value"
        ],
        [
         "C1234",
         18.32,
         "Low Value"
        ],
        [
         "C1573",
         36.3,
         "Low Value"
        ],
        [
         "C1153",
         18.63,
         "Low Value"
        ],
        [
         "C1912",
         44.2,
         "Low Value"
        ],
        [
         "C1695",
         27.19,
         "Low Value"
        ],
        [
         "C1414",
         20.37,
         "Low Value"
        ],
        [
         "C1163",
         10.79,
         "Low Value"
        ]
       ],
       "datasetInfos": [],
       "dbfsResultPath": null,
       "isJsonSchema": true,
       "metadata": {},
       "overflow": false,
       "plotOptions": {
        "customPlotOptions": {},
        "displayType": "table",
        "pivotAggregation": null,
        "pivotColumns": null,
        "xColumns": null,
        "yColumns": null
       },
       "removedWidgets": [],
       "schema": [
        {
         "metadata": "{}",
         "name": "customer_id",
         "type": "\"string\""
        },
        {
         "metadata": "{}",
         "name": "total_amount",
         "type": "\"double\""
        },
        {
         "metadata": "{}",
         "name": "segment",
         "type": "\"string\""
        }
       ],
       "type": "table"
      }
     },
     "output_type": "display_data"
    }
   ],
   "source": [
    "from pyspark.sql import functions as F\n",
    "customer_segments_df = transaction_df.groupBy(\"customer_id\").agg(\n",
    "    F.round(F.sum(\"amount\"), 2).alias(\"total_amount\")\n",
    ").withColumn(\n",
    "    \"segment\",\n",
    "    F.expr(\"CASE WHEN total_amount <= 1000 THEN 'Low Value' \"\n",
    "           \"WHEN total_amount <= 5000 THEN 'Medium Value' \"\n",
    "           \"ELSE 'High Value' END\")\n",
    ")\n",
    "customer_segments_df.display()\n"
   ]
  },
  {
   "cell_type": "markdown",
   "metadata": {
    "application/vnd.databricks.v1+cell": {
     "cellMetadata": {},
     "inputWidgets": {},
     "nuid": "7acb298c-d8f9-4aa6-9bc1-d229502a981d",
     "showTitle": false,
     "title": ""
    }
   },
   "source": [
    "####Daily transaction volume"
   ]
  },
  {
   "cell_type": "code",
   "execution_count": 0,
   "metadata": {
    "application/vnd.databricks.v1+cell": {
     "cellMetadata": {
      "byteLimit": 2048000,
      "rowLimit": 10000
     },
     "inputWidgets": {},
     "nuid": "ddbcf262-f3ff-4adf-82da-fdfa7adb7c28",
     "showTitle": false,
     "title": ""
    }
   },
   "outputs": [
    {
     "output_type": "display_data",
     "data": {
      "text/html": [
       "<style scoped>\n",
       "  .table-result-container {\n",
       "    max-height: 300px;\n",
       "    overflow: auto;\n",
       "  }\n",
       "  table, th, td {\n",
       "    border: 1px solid black;\n",
       "    border-collapse: collapse;\n",
       "  }\n",
       "  th, td {\n",
       "    padding: 5px;\n",
       "  }\n",
       "  th {\n",
       "    text-align: left;\n",
       "  }\n",
       "</style><div class='table-result-container'><table class='table-result'><thead style='background-color: white'><tr><th>day</th><th>total_volume</th><th>transaction_count</th></tr></thead><tbody><tr><td>2023-01-05T00:00:00Z</td><td>144503.83695566654</td><td>45</td></tr><tr><td>2023-01-20T00:00:00Z</td><td>13928.789614200592</td><td>52</td></tr><tr><td>2023-01-08T00:00:00Z</td><td>179715.09124934673</td><td>49</td></tr><tr><td>2023-01-17T00:00:00Z</td><td>127313.40093874931</td><td>44</td></tr><tr><td>2023-01-26T00:00:00Z</td><td>32449.480460882187</td><td>48</td></tr><tr><td>2023-01-06T00:00:00Z</td><td>259853.8012394905</td><td>48</td></tr><tr><td>2023-01-23T00:00:00Z</td><td>300973.4696198702</td><td>47</td></tr><tr><td>2023-01-01T00:00:00Z</td><td>1410.8499903678894</td><td>47</td></tr><tr><td>2023-01-13T00:00:00Z</td><td>78897.4529747963</td><td>59</td></tr><tr><td>2023-01-22T00:00:00Z</td><td>135503.9815375805</td><td>50</td></tr><tr><td>2023-02-02T00:00:00Z</td><td>151777.23113906384</td><td>50</td></tr><tr><td>2023-01-21T00:00:00Z</td><td>53840.098598480225</td><td>53</td></tr><tr><td>2023-02-07T00:00:00Z</td><td>235160.2550765276</td><td>46</td></tr><tr><td>2023-01-27T00:00:00Z</td><td>1104.6799994707108</td><td>43</td></tr><tr><td>2023-01-02T00:00:00Z</td><td>126402.1315562725</td><td>55</td></tr><tr><td>2023-01-14T00:00:00Z</td><td>343532.3542929888</td><td>48</td></tr><tr><td>2023-01-24T00:00:00Z</td><td>1583.199993133545</td><td>49</td></tr><tr><td>2023-01-10T00:00:00Z</td><td>1445.5700067281723</td><td>47</td></tr><tr><td>2023-01-07T00:00:00Z</td><td>173113.99649095535</td><td>51</td></tr><tr><td>2023-01-18T00:00:00Z</td><td>155111.61217689514</td><td>50</td></tr><tr><td>2023-01-09T00:00:00Z</td><td>88164.7405807972</td><td>46</td></tr><tr><td>2023-01-11T00:00:00Z</td><td>151082.68960356712</td><td>55</td></tr><tr><td>2023-01-30T00:00:00Z</td><td>218724.59983205795</td><td>45</td></tr><tr><td>2023-01-15T00:00:00Z</td><td>96048.09123849869</td><td>50</td></tr><tr><td>2023-01-25T00:00:00Z</td><td>406946.9960900545</td><td>43</td></tr><tr><td>2023-01-19T00:00:00Z</td><td>198650.39578795433</td><td>43</td></tr><tr><td>2023-01-03T00:00:00Z</td><td>1793.5800024271011</td><td>46</td></tr><tr><td>2023-01-16T00:00:00Z</td><td>180188.61968898773</td><td>52</td></tr><tr><td>2023-01-29T00:00:00Z</td><td>140611.90968871117</td><td>56</td></tr><tr><td>2023-01-28T00:00:00Z</td><td>117604.85242974758</td><td>50</td></tr><tr><td>2023-02-05T00:00:00Z</td><td>145287.31968832016</td><td>47</td></tr><tr><td>2023-01-04T00:00:00Z</td><td>109244.31061780453</td><td>44</td></tr><tr><td>2023-02-01T00:00:00Z</td><td>1629.209997534752</td><td>49</td></tr><tr><td>2023-02-06T00:00:00Z</td><td>1985.8599885702133</td><td>50</td></tr><tr><td>2023-02-04T00:00:00Z</td><td>186462.24891519547</td><td>49</td></tr><tr><td>2023-01-12T00:00:00Z</td><td>182121.00875854492</td><td>50</td></tr><tr><td>2023-01-31T00:00:00Z</td><td>213271.71312975883</td><td>57</td></tr><tr><td>2023-02-03T00:00:00Z</td><td>189217.65391778946</td><td>42</td></tr><tr><td>2023-02-10T00:00:00Z</td><td>36228.339218616486</td><td>49</td></tr><tr><td>2023-02-09T00:00:00Z</td><td>96782.26327836514</td><td>45</td></tr><tr><td>2023-02-16T00:00:00Z</td><td>129916.15625166893</td><td>56</td></tr><tr><td>2023-02-14T00:00:00Z</td><td>88544.07281255722</td><td>49</td></tr><tr><td>2023-02-11T00:00:00Z</td><td>279077.10203528404</td><td>52</td></tr><tr><td>2023-02-15T00:00:00Z</td><td>24360.520230531693</td><td>50</td></tr><tr><td>2023-02-12T00:00:00Z</td><td>65096.66914343834</td><td>52</td></tr><tr><td>2023-02-13T00:00:00Z</td><td>114409.17718791962</td><td>47</td></tr><tr><td>2023-02-08T00:00:00Z</td><td>260424.88969373703</td><td>45</td></tr><tr><td>2023-02-22T00:00:00Z</td><td>190758.01563715935</td><td>52</td></tr><tr><td>2023-02-23T00:00:00Z</td><td>325669.20623385906</td><td>51</td></tr><tr><td>2023-02-18T00:00:00Z</td><td>105001.79218900204</td><td>51</td></tr><tr><td>2023-02-17T00:00:00Z</td><td>121011.29296827316</td><td>53</td></tr><tr><td>2023-02-19T00:00:00Z</td><td>41167.730164170265</td><td>57</td></tr><tr><td>2023-02-21T00:00:00Z</td><td>233815.58821034431</td><td>52</td></tr><tr><td>2023-02-20T00:00:00Z</td><td>172870.14407086372</td><td>45</td></tr><tr><td>2023-02-24T00:00:00Z</td><td>65202.58889532089</td><td>43</td></tr><tr><td>2023-03-01T00:00:00Z</td><td>89976.59968030453</td><td>47</td></tr><tr><td>2023-02-26T00:00:00Z</td><td>116801.36070132256</td><td>50</td></tr><tr><td>2023-03-02T00:00:00Z</td><td>267793.1615662575</td><td>51</td></tr><tr><td>2023-02-25T00:00:00Z</td><td>151352.04953479767</td><td>44</td></tr><tr><td>2023-02-27T00:00:00Z</td><td>139659.66938447952</td><td>49</td></tr><tr><td>2023-02-28T00:00:00Z</td><td>133008.36126613617</td><td>51</td></tr><tr><td>2023-03-03T00:00:00Z</td><td>139.75999879837036</td><td>4</td></tr></tbody></table></div>"
      ]
     },
     "metadata": {
      "application/vnd.databricks.v1+output": {
       "addedWidgets": {},
       "aggData": [],
       "aggError": "",
       "aggOverflow": false,
       "aggSchema": [],
       "aggSeriesLimitReached": false,
       "aggType": "",
       "arguments": {},
       "columnCustomDisplayInfos": {},
       "data": [
        [
         "2023-01-05T00:00:00Z",
         144503.83695566654,
         45
        ],
        [
         "2023-01-20T00:00:00Z",
         13928.789614200592,
         52
        ],
        [
         "2023-01-08T00:00:00Z",
         179715.09124934673,
         49
        ],
        [
         "2023-01-17T00:00:00Z",
         127313.40093874931,
         44
        ],
        [
         "2023-01-26T00:00:00Z",
         32449.480460882187,
         48
        ],
        [
         "2023-01-06T00:00:00Z",
         259853.8012394905,
         48
        ],
        [
         "2023-01-23T00:00:00Z",
         300973.4696198702,
         47
        ],
        [
         "2023-01-01T00:00:00Z",
         1410.8499903678894,
         47
        ],
        [
         "2023-01-13T00:00:00Z",
         78897.4529747963,
         59
        ],
        [
         "2023-01-22T00:00:00Z",
         135503.9815375805,
         50
        ],
        [
         "2023-02-02T00:00:00Z",
         151777.23113906384,
         50
        ],
        [
         "2023-01-21T00:00:00Z",
         53840.098598480225,
         53
        ],
        [
         "2023-02-07T00:00:00Z",
         235160.2550765276,
         46
        ],
        [
         "2023-01-27T00:00:00Z",
         1104.6799994707108,
         43
        ],
        [
         "2023-01-02T00:00:00Z",
         126402.1315562725,
         55
        ],
        [
         "2023-01-14T00:00:00Z",
         343532.3542929888,
         48
        ],
        [
         "2023-01-24T00:00:00Z",
         1583.199993133545,
         49
        ],
        [
         "2023-01-10T00:00:00Z",
         1445.5700067281723,
         47
        ],
        [
         "2023-01-07T00:00:00Z",
         173113.99649095535,
         51
        ],
        [
         "2023-01-18T00:00:00Z",
         155111.61217689514,
         50
        ],
        [
         "2023-01-09T00:00:00Z",
         88164.7405807972,
         46
        ],
        [
         "2023-01-11T00:00:00Z",
         151082.68960356712,
         55
        ],
        [
         "2023-01-30T00:00:00Z",
         218724.59983205795,
         45
        ],
        [
         "2023-01-15T00:00:00Z",
         96048.09123849869,
         50
        ],
        [
         "2023-01-25T00:00:00Z",
         406946.9960900545,
         43
        ],
        [
         "2023-01-19T00:00:00Z",
         198650.39578795433,
         43
        ],
        [
         "2023-01-03T00:00:00Z",
         1793.5800024271011,
         46
        ],
        [
         "2023-01-16T00:00:00Z",
         180188.61968898773,
         52
        ],
        [
         "2023-01-29T00:00:00Z",
         140611.90968871117,
         56
        ],
        [
         "2023-01-28T00:00:00Z",
         117604.85242974758,
         50
        ],
        [
         "2023-02-05T00:00:00Z",
         145287.31968832016,
         47
        ],
        [
         "2023-01-04T00:00:00Z",
         109244.31061780453,
         44
        ],
        [
         "2023-02-01T00:00:00Z",
         1629.209997534752,
         49
        ],
        [
         "2023-02-06T00:00:00Z",
         1985.8599885702133,
         50
        ],
        [
         "2023-02-04T00:00:00Z",
         186462.24891519547,
         49
        ],
        [
         "2023-01-12T00:00:00Z",
         182121.00875854492,
         50
        ],
        [
         "2023-01-31T00:00:00Z",
         213271.71312975883,
         57
        ],
        [
         "2023-02-03T00:00:00Z",
         189217.65391778946,
         42
        ],
        [
         "2023-02-10T00:00:00Z",
         36228.339218616486,
         49
        ],
        [
         "2023-02-09T00:00:00Z",
         96782.26327836514,
         45
        ],
        [
         "2023-02-16T00:00:00Z",
         129916.15625166893,
         56
        ],
        [
         "2023-02-14T00:00:00Z",
         88544.07281255722,
         49
        ],
        [
         "2023-02-11T00:00:00Z",
         279077.10203528404,
         52
        ],
        [
         "2023-02-15T00:00:00Z",
         24360.520230531693,
         50
        ],
        [
         "2023-02-12T00:00:00Z",
         65096.66914343834,
         52
        ],
        [
         "2023-02-13T00:00:00Z",
         114409.17718791962,
         47
        ],
        [
         "2023-02-08T00:00:00Z",
         260424.88969373703,
         45
        ],
        [
         "2023-02-22T00:00:00Z",
         190758.01563715935,
         52
        ],
        [
         "2023-02-23T00:00:00Z",
         325669.20623385906,
         51
        ],
        [
         "2023-02-18T00:00:00Z",
         105001.79218900204,
         51
        ],
        [
         "2023-02-17T00:00:00Z",
         121011.29296827316,
         53
        ],
        [
         "2023-02-19T00:00:00Z",
         41167.730164170265,
         57
        ],
        [
         "2023-02-21T00:00:00Z",
         233815.58821034431,
         52
        ],
        [
         "2023-02-20T00:00:00Z",
         172870.14407086372,
         45
        ],
        [
         "2023-02-24T00:00:00Z",
         65202.58889532089,
         43
        ],
        [
         "2023-03-01T00:00:00Z",
         89976.59968030453,
         47
        ],
        [
         "2023-02-26T00:00:00Z",
         116801.36070132256,
         50
        ],
        [
         "2023-03-02T00:00:00Z",
         267793.1615662575,
         51
        ],
        [
         "2023-02-25T00:00:00Z",
         151352.04953479767,
         44
        ],
        [
         "2023-02-27T00:00:00Z",
         139659.66938447952,
         49
        ],
        [
         "2023-02-28T00:00:00Z",
         133008.36126613617,
         51
        ],
        [
         "2023-03-03T00:00:00Z",
         139.75999879837036,
         4
        ]
       ],
       "datasetInfos": [],
       "dbfsResultPath": null,
       "isJsonSchema": true,
       "metadata": {},
       "overflow": false,
       "plotOptions": {
        "customPlotOptions": {},
        "displayType": "table",
        "pivotAggregation": null,
        "pivotColumns": null,
        "xColumns": null,
        "yColumns": null
       },
       "removedWidgets": [],
       "schema": [
        {
         "metadata": "{}",
         "name": "day",
         "type": "\"timestamp\""
        },
        {
         "metadata": "{}",
         "name": "total_volume",
         "type": "\"double\""
        },
        {
         "metadata": "{}",
         "name": "transaction_count",
         "type": "\"long\""
        }
       ],
       "type": "table"
      }
     },
     "output_type": "display_data"
    }
   ],
   "source": [
    "from pyspark.sql import functions as F\n",
    "\n",
    "\n",
    "daily_volume = transaction_df_cleaned.groupBy(F.date_trunc('day', 'timestamp').alias('day')).agg(\n",
    "    F.sum('amount').alias('total_volume'),\n",
    "    F.count('transaction_id').alias('transaction_count')\n",
    ")\n",
    "daily_volume.display()"
   ]
  },
  {
   "cell_type": "markdown",
   "metadata": {
    "application/vnd.databricks.v1+cell": {
     "cellMetadata": {},
     "inputWidgets": {},
     "nuid": "19554bcc-6bf3-4015-a9b1-4eb18dd1d020",
     "showTitle": false,
     "title": ""
    }
   },
   "source": [
    "### weekly transaction volume"
   ]
  },
  {
   "cell_type": "code",
   "execution_count": 0,
   "metadata": {
    "application/vnd.databricks.v1+cell": {
     "cellMetadata": {
      "byteLimit": 2048000,
      "rowLimit": 10000
     },
     "inputWidgets": {},
     "nuid": "533692f6-c92d-4f48-8af0-c40551bc4254",
     "showTitle": false,
     "title": ""
    }
   },
   "outputs": [
    {
     "output_type": "display_data",
     "data": {
      "text/html": [
       "<style scoped>\n",
       "  .table-result-container {\n",
       "    max-height: 300px;\n",
       "    overflow: auto;\n",
       "  }\n",
       "  table, th, td {\n",
       "    border: 1px solid black;\n",
       "    border-collapse: collapse;\n",
       "  }\n",
       "  th, td {\n",
       "    padding: 5px;\n",
       "  }\n",
       "  th {\n",
       "    text-align: left;\n",
       "  }\n",
       "</style><div class='table-result-container'><table class='table-result'><thead style='background-color: white'><tr><th>week</th><th>total_volume</th><th>transaction_count</th></tr></thead><tbody><tr><td>2023-01-23T00:00:00Z</td><td>1001274.5882818699</td><td>336</td></tr><tr><td>2023-01-02T00:00:00Z</td><td>994626.7481119633</td><td>338</td></tr><tr><td>2023-01-09T00:00:00Z</td><td>941291.9074559212</td><td>355</td></tr><tr><td>2023-01-30T00:00:00Z</td><td>1106369.9766197205</td><td>339</td></tr><tr><td>2022-12-26T00:00:00Z</td><td>1410.8499903678894</td><td>47</td></tr><tr><td>2023-01-16T00:00:00Z</td><td>864536.8983428478</td><td>344</td></tr><tr><td>2023-02-06T00:00:00Z</td><td>974755.3784345388</td><td>339</td></tr><tr><td>2023-02-13T00:00:00Z</td><td>624410.7418041229</td><td>363</td></tr><tr><td>2023-02-20T00:00:00Z</td><td>1256468.9532836676</td><td>337</td></tr><tr><td>2023-02-27T00:00:00Z</td><td>630577.5518959761</td><td>202</td></tr></tbody></table></div>"
      ]
     },
     "metadata": {
      "application/vnd.databricks.v1+output": {
       "addedWidgets": {},
       "aggData": [],
       "aggError": "",
       "aggOverflow": false,
       "aggSchema": [],
       "aggSeriesLimitReached": false,
       "aggType": "",
       "arguments": {},
       "columnCustomDisplayInfos": {},
       "data": [
        [
         "2023-01-23T00:00:00Z",
         1001274.5882818699,
         336
        ],
        [
         "2023-01-02T00:00:00Z",
         994626.7481119633,
         338
        ],
        [
         "2023-01-09T00:00:00Z",
         941291.9074559212,
         355
        ],
        [
         "2023-01-30T00:00:00Z",
         1106369.9766197205,
         339
        ],
        [
         "2022-12-26T00:00:00Z",
         1410.8499903678894,
         47
        ],
        [
         "2023-01-16T00:00:00Z",
         864536.8983428478,
         344
        ],
        [
         "2023-02-06T00:00:00Z",
         974755.3784345388,
         339
        ],
        [
         "2023-02-13T00:00:00Z",
         624410.7418041229,
         363
        ],
        [
         "2023-02-20T00:00:00Z",
         1256468.9532836676,
         337
        ],
        [
         "2023-02-27T00:00:00Z",
         630577.5518959761,
         202
        ]
       ],
       "datasetInfos": [],
       "dbfsResultPath": null,
       "isJsonSchema": true,
       "metadata": {},
       "overflow": false,
       "plotOptions": {
        "customPlotOptions": {},
        "displayType": "table",
        "pivotAggregation": null,
        "pivotColumns": null,
        "xColumns": null,
        "yColumns": null
       },
       "removedWidgets": [],
       "schema": [
        {
         "metadata": "{}",
         "name": "week",
         "type": "\"timestamp\""
        },
        {
         "metadata": "{}",
         "name": "total_volume",
         "type": "\"double\""
        },
        {
         "metadata": "{}",
         "name": "transaction_count",
         "type": "\"long\""
        }
       ],
       "type": "table"
      }
     },
     "output_type": "display_data"
    }
   ],
   "source": [
    "weekly_volume = transaction_df_cleaned.groupBy(F.date_trunc('week', 'timestamp').alias('week')).agg(\n",
    "    F.sum('amount').alias('total_volume'),\n",
    "    F.count('transaction_id').alias('transaction_count')\n",
    ")\n",
    "weekly_volume.display()"
   ]
  },
  {
   "cell_type": "markdown",
   "metadata": {
    "application/vnd.databricks.v1+cell": {
     "cellMetadata": {},
     "inputWidgets": {},
     "nuid": "3f9e1773-0eed-4377-b607-b8a9f74ea955",
     "showTitle": false,
     "title": ""
    }
   },
   "source": [
    "#### Monthly transaction volume"
   ]
  },
  {
   "cell_type": "code",
   "execution_count": 0,
   "metadata": {
    "application/vnd.databricks.v1+cell": {
     "cellMetadata": {
      "byteLimit": 2048000,
      "rowLimit": 10000
     },
     "inputWidgets": {},
     "nuid": "24c428c7-4407-4e0b-bf08-f9eab44a0359",
     "showTitle": false,
     "title": ""
    }
   },
   "outputs": [
    {
     "output_type": "display_data",
     "data": {
      "text/html": [
       "<style scoped>\n",
       "  .table-result-container {\n",
       "    max-height: 300px;\n",
       "    overflow: auto;\n",
       "  }\n",
       "  table, th, td {\n",
       "    border: 1px solid black;\n",
       "    border-collapse: collapse;\n",
       "  }\n",
       "  th, td {\n",
       "    padding: 5px;\n",
       "  }\n",
       "  th {\n",
       "    text-align: left;\n",
       "  }\n",
       "</style><div class='table-result-container'><table class='table-result'><thead style='background-color: white'><tr><th>month</th><th>total_volume</th><th>transaction_count</th></tr></thead><tbody><tr><td>2023-01-01T00:00:00Z</td><td>4235137.305144787</td><td>1522</td></tr><tr><td>2023-02-01T00:00:00Z</td><td>3802676.7678308487</td><td>1376</td></tr><tr><td>2023-03-01T00:00:00Z</td><td>357909.5212453604</td><td>102</td></tr></tbody></table></div>"
      ]
     },
     "metadata": {
      "application/vnd.databricks.v1+output": {
       "addedWidgets": {},
       "aggData": [],
       "aggError": "",
       "aggOverflow": false,
       "aggSchema": [],
       "aggSeriesLimitReached": false,
       "aggType": "",
       "arguments": {},
       "columnCustomDisplayInfos": {},
       "data": [
        [
         "2023-01-01T00:00:00Z",
         4235137.305144787,
         1522
        ],
        [
         "2023-02-01T00:00:00Z",
         3802676.7678308487,
         1376
        ],
        [
         "2023-03-01T00:00:00Z",
         357909.5212453604,
         102
        ]
       ],
       "datasetInfos": [],
       "dbfsResultPath": null,
       "isJsonSchema": true,
       "metadata": {},
       "overflow": false,
       "plotOptions": {
        "customPlotOptions": {},
        "displayType": "table",
        "pivotAggregation": null,
        "pivotColumns": null,
        "xColumns": null,
        "yColumns": null
       },
       "removedWidgets": [],
       "schema": [
        {
         "metadata": "{}",
         "name": "month",
         "type": "\"timestamp\""
        },
        {
         "metadata": "{}",
         "name": "total_volume",
         "type": "\"double\""
        },
        {
         "metadata": "{}",
         "name": "transaction_count",
         "type": "\"long\""
        }
       ],
       "type": "table"
      }
     },
     "output_type": "display_data"
    }
   ],
   "source": [
    "\n",
    "monthly_volume = transaction_df_cleaned.groupBy(F.date_trunc('month', 'timestamp').alias('month')).agg(\n",
    "    F.sum('amount').alias('total_volume'),\n",
    "    F.count('transaction_id').alias('transaction_count')\n",
    ")\n",
    "monthly_volume.display()"
   ]
  }
 ],
 "metadata": {
  "application/vnd.databricks.v1+notebook": {
   "dashboards": [],
   "environmentMetadata": null,
   "language": "python",
   "notebookMetadata": {
    "mostRecentlyExecutedCommandWithImplicitDF": {
     "commandId": 3488743950502578,
     "dataframes": [
      "_sqldf"
     ]
    },
    "pythonIndentUnit": 4
   },
   "notebookName": "Gold_layer",
   "widgets": {}
  }
 },
 "nbformat": 4,
 "nbformat_minor": 0
}
