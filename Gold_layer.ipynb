{
 "cells": [
  {
   "cell_type": "code",
   "execution_count": 0,
   "metadata": {
    "application/vnd.databricks.v1+cell": {
     "cellMetadata": {
      "byteLimit": 2048000,
      "implicitDf": true,
      "rowLimit": 10000
     },
     "inputWidgets": {},
     "nuid": "15fdf0bf-2d9e-48b5-9dd6-45390a3c99ec",
     "showTitle": false,
     "title": ""
    }
   },
   "outputs": [
    {
     "output_type": "display_data",
     "data": {
      "text/html": [
       "<style scoped>\n",
       "  .table-result-container {\n",
       "    max-height: 300px;\n",
       "    overflow: auto;\n",
       "  }\n",
       "  table, th, td {\n",
       "    border: 1px solid black;\n",
       "    border-collapse: collapse;\n",
       "  }\n",
       "  th, td {\n",
       "    padding: 5px;\n",
       "  }\n",
       "  th {\n",
       "    text-align: left;\n",
       "  }\n",
       "</style><div class='table-result-container'><table class='table-result'><thead style='background-color: white'><tr></tr></thead><tbody></tbody></table></div>"
      ]
     },
     "metadata": {
      "application/vnd.databricks.v1+output": {
       "addedWidgets": {},
       "aggData": [],
       "aggError": "",
       "aggOverflow": false,
       "aggSchema": [],
       "aggSeriesLimitReached": false,
       "aggType": "",
       "arguments": {},
       "columnCustomDisplayInfos": {},
       "data": [],
       "datasetInfos": [],
       "dbfsResultPath": null,
       "isJsonSchema": true,
       "metadata": {
        "dataframeName": null
       },
       "overflow": false,
       "plotOptions": {
        "customPlotOptions": {},
        "displayType": "table",
        "pivotAggregation": null,
        "pivotColumns": null,
        "xColumns": null,
        "yColumns": null
       },
       "removedWidgets": [],
       "schema": [],
       "type": "table"
      }
     },
     "output_type": "display_data"
    }
   ],
   "source": [
    "%sql\n",
    "Create schema gold;"
   ]
  },
  {
   "cell_type": "code",
   "execution_count": 0,
   "metadata": {
    "application/vnd.databricks.v1+cell": {
     "cellMetadata": {
      "byteLimit": 2048000,
      "implicitDf": true,
      "rowLimit": 10000
     },
     "inputWidgets": {},
     "nuid": "1cd6e209-d76f-44da-a078-358858167ac3",
     "showTitle": false,
     "title": ""
    }
   },
   "outputs": [
    {
     "output_type": "display_data",
     "data": {
      "text/html": [
       "<style scoped>\n",
       "  .table-result-container {\n",
       "    max-height: 300px;\n",
       "    overflow: auto;\n",
       "  }\n",
       "  table, th, td {\n",
       "    border: 1px solid black;\n",
       "    border-collapse: collapse;\n",
       "  }\n",
       "  th, td {\n",
       "    padding: 5px;\n",
       "  }\n",
       "  th {\n",
       "    text-align: left;\n",
       "  }\n",
       "</style><div class='table-result-container'><table class='table-result'><thead style='background-color: white'><tr></tr></thead><tbody></tbody></table></div>"
      ]
     },
     "metadata": {
      "application/vnd.databricks.v1+output": {
       "addedWidgets": {},
       "aggData": [],
       "aggError": "",
       "aggOverflow": false,
       "aggSchema": [],
       "aggSeriesLimitReached": false,
       "aggType": "",
       "arguments": {},
       "columnCustomDisplayInfos": {},
       "data": [],
       "datasetInfos": [],
       "dbfsResultPath": null,
       "isJsonSchema": true,
       "metadata": {
        "dataframeName": null
       },
       "overflow": false,
       "plotOptions": {
        "customPlotOptions": {},
        "displayType": "table",
        "pivotAggregation": null,
        "pivotColumns": null,
        "xColumns": null,
        "yColumns": null
       },
       "removedWidgets": [],
       "schema": [],
       "type": "table"
      }
     },
     "output_type": "display_data"
    }
   ],
   "source": [
    "%sql\n",
    "use schema gold;"
   ]
  },
  {
   "cell_type": "code",
   "execution_count": 0,
   "metadata": {
    "application/vnd.databricks.v1+cell": {
     "cellMetadata": {
      "byteLimit": 2048000,
      "rowLimit": 10000
     },
     "inputWidgets": {},
     "nuid": "496f1921-65c0-45e1-a725-fbbc0e85b7d0",
     "showTitle": false,
     "title": ""
    }
   },
   "outputs": [],
   "source": [
    "fraud_flag_df=spark.read.table(\"hive_metastore.silver.Fraud_Flag\");\n",
    "customer_segmentation_df=spark.read.table(\"hive_metastore.silver.Customer_segments\");\n",
    "transaction_df_cleaned=spark.read.table(\"hive_metastore.silver.cleaned_transaction\");\n",
    "customer_df_standardized=spark.read.table(\"hive_metastore.silver.cleaned_customer\");\n",
    "branch_df=spark.read.table(\"hive_metastore.silver.cleaned_branch\");"
   ]
  },
  {
   "cell_type": "code",
   "execution_count": 0,
   "metadata": {
    "application/vnd.databricks.v1+cell": {
     "cellMetadata": {
      "byteLimit": 2048000,
      "rowLimit": 10000
     },
     "inputWidgets": {},
     "nuid": "0ce6b4dc-3997-48f7-a9a8-d4753f0ec8f4",
     "showTitle": false,
     "title": ""
    }
   },
   "outputs": [
    {
     "output_type": "stream",
     "name": "stdout",
     "output_type": "stream",
     "text": [
      "+------------+-----+\n|segment_name|count|\n+------------+-----+\n|  High_Value|   13|\n|       Loyal|  581|\n| Credit_Risk|  933|\n|    New_User|   26|\n+------------+-----+\n\n"
     ]
    }
   ],
   "source": [
    "segment_distribution = customer_segmentation_df.groupBy(\"segment_name\").count()\n",
    "segment_distribution.show()\n"
   ]
  },
  {
   "cell_type": "code",
   "execution_count": 0,
   "metadata": {
    "application/vnd.databricks.v1+cell": {
     "cellMetadata": {
      "byteLimit": 2048000,
      "rowLimit": 10000
     },
     "inputWidgets": {},
     "nuid": "642019a0-ea58-45af-b7b4-fdcfa7a97114",
     "showTitle": false,
     "title": ""
    }
   },
   "outputs": [
    {
     "output_type": "stream",
     "name": "stdout",
     "output_type": "stream",
     "text": [
      "+------------+----------------+\n|segment_name|unique_customers|\n+------------+----------------+\n|  High_Value|              13|\n|       Loyal|             175|\n| Credit_Risk|             288|\n|    New_User|              10|\n+------------+----------------+\n\n"
     ]
    }
   ],
   "source": [
    "from pyspark.sql import functions as F\n",
    "unique_customers_per_segment = customer_segmentation_df.groupBy(\"segment_name\").agg(F.countDistinct(\"customer_id\").alias(\"unique_customers\"))\n",
    "unique_customers_per_segment.show()\n"
   ]
  },
  {
   "cell_type": "code",
   "execution_count": 0,
   "metadata": {
    "application/vnd.databricks.v1+cell": {
     "cellMetadata": {
      "byteLimit": 2048000,
      "rowLimit": 10000
     },
     "inputWidgets": {},
     "nuid": "737f138b-9a4f-4ae9-baa3-0313fdd5d9c6",
     "showTitle": false,
     "title": ""
    }
   },
   "outputs": [
    {
     "output_type": "stream",
     "name": "stdout",
     "output_type": "stream",
     "text": [
      "+------------------+\n|avg(segment_count)|\n+------------------+\n| 3.778588807785888|\n+------------------+\n\n"
     ]
    }
   ],
   "source": [
    "from pyspark.sql import functions as F\n",
    "avg_segments_per_customer = customer_segmentation_df.groupBy(\"customer_id\").agg(F.count(\"segment_name\").alias(\"segment_count\")).agg(F.avg(\"segment_count\"))\n",
    "avg_segments_per_customer.show()\n"
   ]
  },
  {
   "cell_type": "markdown",
   "metadata": {
    "application/vnd.databricks.v1+cell": {
     "cellMetadata": {},
     "inputWidgets": {},
     "nuid": "7acb298c-d8f9-4aa6-9bc1-d229502a981d",
     "showTitle": false,
     "title": ""
    }
   },
   "source": [
    "####Daily transaction volume"
   ]
  },
  {
   "cell_type": "code",
   "execution_count": 0,
   "metadata": {
    "application/vnd.databricks.v1+cell": {
     "cellMetadata": {
      "byteLimit": 2048000,
      "rowLimit": 10000
     },
     "inputWidgets": {},
     "nuid": "ddbcf262-f3ff-4adf-82da-fdfa7adb7c28",
     "showTitle": false,
     "title": ""
    }
   },
   "outputs": [
    {
     "output_type": "display_data",
     "data": {
      "text/html": [
       "<style scoped>\n",
       "  .table-result-container {\n",
       "    max-height: 300px;\n",
       "    overflow: auto;\n",
       "  }\n",
       "  table, th, td {\n",
       "    border: 1px solid black;\n",
       "    border-collapse: collapse;\n",
       "  }\n",
       "  th, td {\n",
       "    padding: 5px;\n",
       "  }\n",
       "  th {\n",
       "    text-align: left;\n",
       "  }\n",
       "</style><div class='table-result-container'><table class='table-result'><thead style='background-color: white'><tr><th>day</th><th>total_volume</th><th>transaction_count</th></tr></thead><tbody><tr><td>2023-01-05T00:00:00Z</td><td>144503.83695566654</td><td>45</td></tr><tr><td>2023-01-20T00:00:00Z</td><td>13928.789614200592</td><td>52</td></tr><tr><td>2023-01-08T00:00:00Z</td><td>179715.09124934673</td><td>49</td></tr><tr><td>2023-01-17T00:00:00Z</td><td>127313.40093874931</td><td>44</td></tr><tr><td>2023-01-26T00:00:00Z</td><td>32449.480460882187</td><td>48</td></tr><tr><td>2023-01-06T00:00:00Z</td><td>259853.8012394905</td><td>48</td></tr><tr><td>2023-01-23T00:00:00Z</td><td>300973.4696198702</td><td>47</td></tr><tr><td>2023-01-01T00:00:00Z</td><td>1410.8499903678894</td><td>47</td></tr><tr><td>2023-01-13T00:00:00Z</td><td>78897.4529747963</td><td>59</td></tr><tr><td>2023-01-22T00:00:00Z</td><td>135503.9815375805</td><td>50</td></tr><tr><td>2023-02-02T00:00:00Z</td><td>151777.23113906384</td><td>50</td></tr><tr><td>2023-01-21T00:00:00Z</td><td>53840.098598480225</td><td>53</td></tr><tr><td>2023-02-07T00:00:00Z</td><td>235160.2550765276</td><td>46</td></tr><tr><td>2023-01-27T00:00:00Z</td><td>1104.6799994707108</td><td>43</td></tr><tr><td>2023-01-02T00:00:00Z</td><td>126402.1315562725</td><td>55</td></tr><tr><td>2023-01-14T00:00:00Z</td><td>343532.3542929888</td><td>48</td></tr><tr><td>2023-01-24T00:00:00Z</td><td>1583.199993133545</td><td>49</td></tr><tr><td>2023-01-10T00:00:00Z</td><td>1445.5700067281723</td><td>47</td></tr><tr><td>2023-01-07T00:00:00Z</td><td>173113.99649095535</td><td>51</td></tr><tr><td>2023-01-18T00:00:00Z</td><td>155111.61217689514</td><td>50</td></tr><tr><td>2023-01-09T00:00:00Z</td><td>88164.7405807972</td><td>46</td></tr><tr><td>2023-01-11T00:00:00Z</td><td>151082.68960356712</td><td>55</td></tr><tr><td>2023-01-30T00:00:00Z</td><td>218724.59983205795</td><td>45</td></tr><tr><td>2023-01-15T00:00:00Z</td><td>96048.09123849869</td><td>50</td></tr><tr><td>2023-01-25T00:00:00Z</td><td>406946.9960900545</td><td>43</td></tr><tr><td>2023-01-19T00:00:00Z</td><td>198650.39578795433</td><td>43</td></tr><tr><td>2023-01-03T00:00:00Z</td><td>1793.5800024271011</td><td>46</td></tr><tr><td>2023-01-16T00:00:00Z</td><td>180188.61968898773</td><td>52</td></tr><tr><td>2023-01-29T00:00:00Z</td><td>140611.90968871117</td><td>56</td></tr><tr><td>2023-01-28T00:00:00Z</td><td>117604.85242974758</td><td>50</td></tr><tr><td>2023-02-05T00:00:00Z</td><td>145287.31968832016</td><td>47</td></tr><tr><td>2023-01-04T00:00:00Z</td><td>109244.31061780453</td><td>44</td></tr><tr><td>2023-02-01T00:00:00Z</td><td>1629.209997534752</td><td>49</td></tr><tr><td>2023-02-06T00:00:00Z</td><td>1985.8599885702133</td><td>50</td></tr><tr><td>2023-02-04T00:00:00Z</td><td>186462.24891519547</td><td>49</td></tr><tr><td>2023-01-12T00:00:00Z</td><td>182121.00875854492</td><td>50</td></tr><tr><td>2023-01-31T00:00:00Z</td><td>213271.71312975883</td><td>57</td></tr><tr><td>2023-02-03T00:00:00Z</td><td>189217.65391778946</td><td>42</td></tr><tr><td>2023-02-10T00:00:00Z</td><td>36228.339218616486</td><td>49</td></tr><tr><td>2023-02-09T00:00:00Z</td><td>96782.26327836514</td><td>45</td></tr><tr><td>2023-02-16T00:00:00Z</td><td>129916.15625166893</td><td>56</td></tr><tr><td>2023-02-14T00:00:00Z</td><td>88544.07281255722</td><td>49</td></tr><tr><td>2023-02-11T00:00:00Z</td><td>279077.10203528404</td><td>52</td></tr><tr><td>2023-02-15T00:00:00Z</td><td>24360.520230531693</td><td>50</td></tr><tr><td>2023-02-12T00:00:00Z</td><td>65096.66914343834</td><td>52</td></tr><tr><td>2023-02-13T00:00:00Z</td><td>114409.17718791962</td><td>47</td></tr><tr><td>2023-02-08T00:00:00Z</td><td>260424.88969373703</td><td>45</td></tr><tr><td>2023-02-22T00:00:00Z</td><td>190758.01563715935</td><td>52</td></tr><tr><td>2023-02-23T00:00:00Z</td><td>325669.20623385906</td><td>51</td></tr><tr><td>2023-02-18T00:00:00Z</td><td>105001.79218900204</td><td>51</td></tr><tr><td>2023-02-17T00:00:00Z</td><td>121011.29296827316</td><td>53</td></tr><tr><td>2023-02-19T00:00:00Z</td><td>41167.730164170265</td><td>57</td></tr><tr><td>2023-02-21T00:00:00Z</td><td>233815.58821034431</td><td>52</td></tr><tr><td>2023-02-20T00:00:00Z</td><td>172870.14407086372</td><td>45</td></tr><tr><td>2023-02-24T00:00:00Z</td><td>65202.58889532089</td><td>43</td></tr><tr><td>2023-03-01T00:00:00Z</td><td>89976.59968030453</td><td>47</td></tr><tr><td>2023-02-26T00:00:00Z</td><td>116801.36070132256</td><td>50</td></tr><tr><td>2023-03-02T00:00:00Z</td><td>267793.1615662575</td><td>51</td></tr><tr><td>2023-02-25T00:00:00Z</td><td>151352.04953479767</td><td>44</td></tr><tr><td>2023-02-27T00:00:00Z</td><td>139659.66938447952</td><td>49</td></tr><tr><td>2023-02-28T00:00:00Z</td><td>133008.36126613617</td><td>51</td></tr><tr><td>2023-03-03T00:00:00Z</td><td>139.75999879837036</td><td>4</td></tr></tbody></table></div>"
      ]
     },
     "metadata": {
      "application/vnd.databricks.v1+output": {
       "addedWidgets": {},
       "aggData": [],
       "aggError": "",
       "aggOverflow": false,
       "aggSchema": [],
       "aggSeriesLimitReached": false,
       "aggType": "",
       "arguments": {},
       "columnCustomDisplayInfos": {},
       "data": [
        [
         "2023-01-05T00:00:00Z",
         144503.83695566654,
         45
        ],
        [
         "2023-01-20T00:00:00Z",
         13928.789614200592,
         52
        ],
        [
         "2023-01-08T00:00:00Z",
         179715.09124934673,
         49
        ],
        [
         "2023-01-17T00:00:00Z",
         127313.40093874931,
         44
        ],
        [
         "2023-01-26T00:00:00Z",
         32449.480460882187,
         48
        ],
        [
         "2023-01-06T00:00:00Z",
         259853.8012394905,
         48
        ],
        [
         "2023-01-23T00:00:00Z",
         300973.4696198702,
         47
        ],
        [
         "2023-01-01T00:00:00Z",
         1410.8499903678894,
         47
        ],
        [
         "2023-01-13T00:00:00Z",
         78897.4529747963,
         59
        ],
        [
         "2023-01-22T00:00:00Z",
         135503.9815375805,
         50
        ],
        [
         "2023-02-02T00:00:00Z",
         151777.23113906384,
         50
        ],
        [
         "2023-01-21T00:00:00Z",
         53840.098598480225,
         53
        ],
        [
         "2023-02-07T00:00:00Z",
         235160.2550765276,
         46
        ],
        [
         "2023-01-27T00:00:00Z",
         1104.6799994707108,
         43
        ],
        [
         "2023-01-02T00:00:00Z",
         126402.1315562725,
         55
        ],
        [
         "2023-01-14T00:00:00Z",
         343532.3542929888,
         48
        ],
        [
         "2023-01-24T00:00:00Z",
         1583.199993133545,
         49
        ],
        [
         "2023-01-10T00:00:00Z",
         1445.5700067281723,
         47
        ],
        [
         "2023-01-07T00:00:00Z",
         173113.99649095535,
         51
        ],
        [
         "2023-01-18T00:00:00Z",
         155111.61217689514,
         50
        ],
        [
         "2023-01-09T00:00:00Z",
         88164.7405807972,
         46
        ],
        [
         "2023-01-11T00:00:00Z",
         151082.68960356712,
         55
        ],
        [
         "2023-01-30T00:00:00Z",
         218724.59983205795,
         45
        ],
        [
         "2023-01-15T00:00:00Z",
         96048.09123849869,
         50
        ],
        [
         "2023-01-25T00:00:00Z",
         406946.9960900545,
         43
        ],
        [
         "2023-01-19T00:00:00Z",
         198650.39578795433,
         43
        ],
        [
         "2023-01-03T00:00:00Z",
         1793.5800024271011,
         46
        ],
        [
         "2023-01-16T00:00:00Z",
         180188.61968898773,
         52
        ],
        [
         "2023-01-29T00:00:00Z",
         140611.90968871117,
         56
        ],
        [
         "2023-01-28T00:00:00Z",
         117604.85242974758,
         50
        ],
        [
         "2023-02-05T00:00:00Z",
         145287.31968832016,
         47
        ],
        [
         "2023-01-04T00:00:00Z",
         109244.31061780453,
         44
        ],
        [
         "2023-02-01T00:00:00Z",
         1629.209997534752,
         49
        ],
        [
         "2023-02-06T00:00:00Z",
         1985.8599885702133,
         50
        ],
        [
         "2023-02-04T00:00:00Z",
         186462.24891519547,
         49
        ],
        [
         "2023-01-12T00:00:00Z",
         182121.00875854492,
         50
        ],
        [
         "2023-01-31T00:00:00Z",
         213271.71312975883,
         57
        ],
        [
         "2023-02-03T00:00:00Z",
         189217.65391778946,
         42
        ],
        [
         "2023-02-10T00:00:00Z",
         36228.339218616486,
         49
        ],
        [
         "2023-02-09T00:00:00Z",
         96782.26327836514,
         45
        ],
        [
         "2023-02-16T00:00:00Z",
         129916.15625166893,
         56
        ],
        [
         "2023-02-14T00:00:00Z",
         88544.07281255722,
         49
        ],
        [
         "2023-02-11T00:00:00Z",
         279077.10203528404,
         52
        ],
        [
         "2023-02-15T00:00:00Z",
         24360.520230531693,
         50
        ],
        [
         "2023-02-12T00:00:00Z",
         65096.66914343834,
         52
        ],
        [
         "2023-02-13T00:00:00Z",
         114409.17718791962,
         47
        ],
        [
         "2023-02-08T00:00:00Z",
         260424.88969373703,
         45
        ],
        [
         "2023-02-22T00:00:00Z",
         190758.01563715935,
         52
        ],
        [
         "2023-02-23T00:00:00Z",
         325669.20623385906,
         51
        ],
        [
         "2023-02-18T00:00:00Z",
         105001.79218900204,
         51
        ],
        [
         "2023-02-17T00:00:00Z",
         121011.29296827316,
         53
        ],
        [
         "2023-02-19T00:00:00Z",
         41167.730164170265,
         57
        ],
        [
         "2023-02-21T00:00:00Z",
         233815.58821034431,
         52
        ],
        [
         "2023-02-20T00:00:00Z",
         172870.14407086372,
         45
        ],
        [
         "2023-02-24T00:00:00Z",
         65202.58889532089,
         43
        ],
        [
         "2023-03-01T00:00:00Z",
         89976.59968030453,
         47
        ],
        [
         "2023-02-26T00:00:00Z",
         116801.36070132256,
         50
        ],
        [
         "2023-03-02T00:00:00Z",
         267793.1615662575,
         51
        ],
        [
         "2023-02-25T00:00:00Z",
         151352.04953479767,
         44
        ],
        [
         "2023-02-27T00:00:00Z",
         139659.66938447952,
         49
        ],
        [
         "2023-02-28T00:00:00Z",
         133008.36126613617,
         51
        ],
        [
         "2023-03-03T00:00:00Z",
         139.75999879837036,
         4
        ]
       ],
       "datasetInfos": [],
       "dbfsResultPath": null,
       "isJsonSchema": true,
       "metadata": {},
       "overflow": false,
       "plotOptions": {
        "customPlotOptions": {},
        "displayType": "table",
        "pivotAggregation": null,
        "pivotColumns": null,
        "xColumns": null,
        "yColumns": null
       },
       "removedWidgets": [],
       "schema": [
        {
         "metadata": "{}",
         "name": "day",
         "type": "\"timestamp\""
        },
        {
         "metadata": "{}",
         "name": "total_volume",
         "type": "\"double\""
        },
        {
         "metadata": "{}",
         "name": "transaction_count",
         "type": "\"long\""
        }
       ],
       "type": "table"
      }
     },
     "output_type": "display_data"
    }
   ],
   "source": [
    "from pyspark.sql import functions as F\n",
    "\n",
    "\n",
    "daily_volume = transaction_df_cleaned.groupBy(F.date_trunc('day', 'timestamp').alias('day')).agg(\n",
    "    F.sum('amount').alias('total_volume'),\n",
    "    F.count('transaction_id').alias('transaction_count')\n",
    ")\n",
    "daily_volume.display()"
   ]
  },
  {
   "cell_type": "markdown",
   "metadata": {
    "application/vnd.databricks.v1+cell": {
     "cellMetadata": {},
     "inputWidgets": {},
     "nuid": "19554bcc-6bf3-4015-a9b1-4eb18dd1d020",
     "showTitle": false,
     "title": ""
    }
   },
   "source": [
    "### weekly transaction volume"
   ]
  },
  {
   "cell_type": "code",
   "execution_count": 0,
   "metadata": {
    "application/vnd.databricks.v1+cell": {
     "cellMetadata": {
      "byteLimit": 2048000,
      "rowLimit": 10000
     },
     "inputWidgets": {},
     "nuid": "533692f6-c92d-4f48-8af0-c40551bc4254",
     "showTitle": false,
     "title": ""
    }
   },
   "outputs": [
    {
     "output_type": "display_data",
     "data": {
      "text/html": [
       "<style scoped>\n",
       "  .table-result-container {\n",
       "    max-height: 300px;\n",
       "    overflow: auto;\n",
       "  }\n",
       "  table, th, td {\n",
       "    border: 1px solid black;\n",
       "    border-collapse: collapse;\n",
       "  }\n",
       "  th, td {\n",
       "    padding: 5px;\n",
       "  }\n",
       "  th {\n",
       "    text-align: left;\n",
       "  }\n",
       "</style><div class='table-result-container'><table class='table-result'><thead style='background-color: white'><tr><th>week</th><th>total_volume</th><th>transaction_count</th></tr></thead><tbody><tr><td>2023-01-23T00:00:00Z</td><td>1001274.5882818699</td><td>336</td></tr><tr><td>2023-01-02T00:00:00Z</td><td>994626.7481119633</td><td>338</td></tr><tr><td>2023-01-09T00:00:00Z</td><td>941291.9074559212</td><td>355</td></tr><tr><td>2023-01-30T00:00:00Z</td><td>1106369.9766197205</td><td>339</td></tr><tr><td>2022-12-26T00:00:00Z</td><td>1410.8499903678894</td><td>47</td></tr><tr><td>2023-01-16T00:00:00Z</td><td>864536.8983428478</td><td>344</td></tr><tr><td>2023-02-06T00:00:00Z</td><td>974755.3784345388</td><td>339</td></tr><tr><td>2023-02-13T00:00:00Z</td><td>624410.7418041229</td><td>363</td></tr><tr><td>2023-02-20T00:00:00Z</td><td>1256468.9532836676</td><td>337</td></tr><tr><td>2023-02-27T00:00:00Z</td><td>630577.5518959761</td><td>202</td></tr></tbody></table></div>"
      ]
     },
     "metadata": {
      "application/vnd.databricks.v1+output": {
       "addedWidgets": {},
       "aggData": [],
       "aggError": "",
       "aggOverflow": false,
       "aggSchema": [],
       "aggSeriesLimitReached": false,
       "aggType": "",
       "arguments": {},
       "columnCustomDisplayInfos": {},
       "data": [
        [
         "2023-01-23T00:00:00Z",
         1001274.5882818699,
         336
        ],
        [
         "2023-01-02T00:00:00Z",
         994626.7481119633,
         338
        ],
        [
         "2023-01-09T00:00:00Z",
         941291.9074559212,
         355
        ],
        [
         "2023-01-30T00:00:00Z",
         1106369.9766197205,
         339
        ],
        [
         "2022-12-26T00:00:00Z",
         1410.8499903678894,
         47
        ],
        [
         "2023-01-16T00:00:00Z",
         864536.8983428478,
         344
        ],
        [
         "2023-02-06T00:00:00Z",
         974755.3784345388,
         339
        ],
        [
         "2023-02-13T00:00:00Z",
         624410.7418041229,
         363
        ],
        [
         "2023-02-20T00:00:00Z",
         1256468.9532836676,
         337
        ],
        [
         "2023-02-27T00:00:00Z",
         630577.5518959761,
         202
        ]
       ],
       "datasetInfos": [],
       "dbfsResultPath": null,
       "isJsonSchema": true,
       "metadata": {},
       "overflow": false,
       "plotOptions": {
        "customPlotOptions": {},
        "displayType": "table",
        "pivotAggregation": null,
        "pivotColumns": null,
        "xColumns": null,
        "yColumns": null
       },
       "removedWidgets": [],
       "schema": [
        {
         "metadata": "{}",
         "name": "week",
         "type": "\"timestamp\""
        },
        {
         "metadata": "{}",
         "name": "total_volume",
         "type": "\"double\""
        },
        {
         "metadata": "{}",
         "name": "transaction_count",
         "type": "\"long\""
        }
       ],
       "type": "table"
      }
     },
     "output_type": "display_data"
    }
   ],
   "source": [
    "weekly_volume = transaction_df_cleaned.groupBy(F.date_trunc('week', 'timestamp').alias('week')).agg(\n",
    "    F.sum('amount').alias('total_volume'),\n",
    "    F.count('transaction_id').alias('transaction_count')\n",
    ")\n",
    "weekly_volume.display()"
   ]
  },
  {
   "cell_type": "markdown",
   "metadata": {
    "application/vnd.databricks.v1+cell": {
     "cellMetadata": {},
     "inputWidgets": {},
     "nuid": "3f9e1773-0eed-4377-b607-b8a9f74ea955",
     "showTitle": false,
     "title": ""
    }
   },
   "source": [
    "#### Monthly transaction volume"
   ]
  },
  {
   "cell_type": "code",
   "execution_count": 0,
   "metadata": {
    "application/vnd.databricks.v1+cell": {
     "cellMetadata": {
      "byteLimit": 2048000,
      "rowLimit": 10000
     },
     "inputWidgets": {},
     "nuid": "24c428c7-4407-4e0b-bf08-f9eab44a0359",
     "showTitle": false,
     "title": ""
    }
   },
   "outputs": [
    {
     "output_type": "display_data",
     "data": {
      "text/html": [
       "<style scoped>\n",
       "  .table-result-container {\n",
       "    max-height: 300px;\n",
       "    overflow: auto;\n",
       "  }\n",
       "  table, th, td {\n",
       "    border: 1px solid black;\n",
       "    border-collapse: collapse;\n",
       "  }\n",
       "  th, td {\n",
       "    padding: 5px;\n",
       "  }\n",
       "  th {\n",
       "    text-align: left;\n",
       "  }\n",
       "</style><div class='table-result-container'><table class='table-result'><thead style='background-color: white'><tr><th>month</th><th>total_volume</th><th>transaction_count</th></tr></thead><tbody><tr><td>2023-01-01T00:00:00Z</td><td>4235137.305144787</td><td>1522</td></tr><tr><td>2023-02-01T00:00:00Z</td><td>3802676.7678308487</td><td>1376</td></tr><tr><td>2023-03-01T00:00:00Z</td><td>357909.5212453604</td><td>102</td></tr></tbody></table></div>"
      ]
     },
     "metadata": {
      "application/vnd.databricks.v1+output": {
       "addedWidgets": {},
       "aggData": [],
       "aggError": "",
       "aggOverflow": false,
       "aggSchema": [],
       "aggSeriesLimitReached": false,
       "aggType": "",
       "arguments": {},
       "columnCustomDisplayInfos": {},
       "data": [
        [
         "2023-01-01T00:00:00Z",
         4235137.305144787,
         1522
        ],
        [
         "2023-02-01T00:00:00Z",
         3802676.7678308487,
         1376
        ],
        [
         "2023-03-01T00:00:00Z",
         357909.5212453604,
         102
        ]
       ],
       "datasetInfos": [],
       "dbfsResultPath": null,
       "isJsonSchema": true,
       "metadata": {},
       "overflow": false,
       "plotOptions": {
        "customPlotOptions": {},
        "displayType": "table",
        "pivotAggregation": null,
        "pivotColumns": null,
        "xColumns": null,
        "yColumns": null
       },
       "removedWidgets": [],
       "schema": [
        {
         "metadata": "{}",
         "name": "month",
         "type": "\"timestamp\""
        },
        {
         "metadata": "{}",
         "name": "total_volume",
         "type": "\"double\""
        },
        {
         "metadata": "{}",
         "name": "transaction_count",
         "type": "\"long\""
        }
       ],
       "type": "table"
      }
     },
     "output_type": "display_data"
    }
   ],
   "source": [
    "\n",
    "monthly_volume = transaction_df_cleaned.groupBy(F.date_trunc('month', 'timestamp').alias('month')).agg(\n",
    "    F.sum('amount').alias('total_volume'),\n",
    "    F.count('transaction_id').alias('transaction_count')\n",
    ")\n",
    "monthly_volume.display()"
   ]
  },
  {
   "cell_type": "markdown",
   "metadata": {
    "application/vnd.databricks.v1+cell": {
     "cellMetadata": {},
     "inputWidgets": {},
     "nuid": "fae5d530-3d49-496d-994c-280ee05e043d",
     "showTitle": false,
     "title": ""
    }
   },
   "source": [
    "### potential fraud detection"
   ]
  },
  {
   "cell_type": "code",
   "execution_count": 0,
   "metadata": {
    "application/vnd.databricks.v1+cell": {
     "cellMetadata": {
      "byteLimit": 2048000,
      "rowLimit": 10000
     },
     "inputWidgets": {},
     "nuid": "58c44023-2c84-45f3-b821-eabfa25e5311",
     "showTitle": false,
     "title": ""
    }
   },
   "outputs": [
    {
     "output_type": "display_data",
     "data": {
      "text/html": [
       "<style scoped>\n",
       "  .table-result-container {\n",
       "    max-height: 300px;\n",
       "    overflow: auto;\n",
       "  }\n",
       "  table, th, td {\n",
       "    border: 1px solid black;\n",
       "    border-collapse: collapse;\n",
       "  }\n",
       "  th, td {\n",
       "    padding: 5px;\n",
       "  }\n",
       "  th {\n",
       "    text-align: left;\n",
       "  }\n",
       "</style><div class='table-result-container'><table class='table-result'><thead style='background-color: white'><tr><th>transaction_id</th><th>customer_id</th><th>branch_id</th><th>channel</th><th>transaction_type</th><th>amount</th><th>currency</th><th>timestamp</th><th>status</th></tr></thead><tbody><tr><td>T6074</td><td>C1666</td><td>B0009</td><td>BRANCH</td><td>DEPOSIT</td><td>34251.96</td><td>USD</td><td>2023-01-22T19:12:00Z</td><td>completed</td></tr><tr><td>T6094</td><td>C1298</td><td>B0001</td><td>BRANCH</td><td>DEPOSIT</td><td>57377.81</td><td>USD</td><td>2023-01-23T07:07:00Z</td><td>pending</td></tr><tr><td>T6102</td><td>C1729</td><td>B0005</td><td>MOBILE</td><td>DEPOSIT</td><td>48323.58</td><td>USD</td><td>2023-01-23T10:30:00Z</td><td>pending</td></tr><tr><td>T6105</td><td>C1208</td><td>B0004</td><td>MOBILE</td><td>PAYMENT</td><td>85108.67</td><td>USD</td><td>2023-01-23T11:52:00Z</td><td>completed</td></tr><tr><td>T6113</td><td>C1654</td><td>B0008</td><td>WEB</td><td>WITHDRAWAL</td><td>18974.85</td><td>USD</td><td>2023-01-23T15:37:00Z</td><td>completed</td></tr><tr><td>T6122</td><td>C1151</td><td>B0007</td><td>MOBILE</td><td>PAYMENT</td><td>25094.43</td><td>USD</td><td>2023-01-23T19:17:00Z</td><td>completed</td></tr><tr><td>T6125</td><td>C1537</td><td>B0007</td><td>BRANCH</td><td>WITHDRAWAL</td><td>64663.26</td><td>USD</td><td>2023-01-23T20:55:00Z</td><td>completed</td></tr><tr><td>T5203</td><td>C1570</td><td>B0004</td><td>MOBILE</td><td>DEPOSIT</td><td>14327.18</td><td>USD</td><td>2023-01-05T06:06:00Z</td><td>completed</td></tr><tr><td>T5205</td><td>C1538</td><td>B0009</td><td>WEB</td><td>TRANSFER</td><td>28476.47</td><td>USD</td><td>2023-01-05T06:59:00Z</td><td>completed</td></tr><tr><td>T5207</td><td>C1806</td><td>B0006</td><td>MOBILE</td><td>DEPOSIT</td><td>69988.62</td><td>USD</td><td>2023-01-05T07:43:00Z</td><td>completed</td></tr><tr><td>T5236</td><td>C1865</td><td>B0001</td><td>MOBILE</td><td>TRANSFER</td><td>30149.11</td><td>USD</td><td>2023-01-05T23:36:00Z</td><td>completed</td></tr><tr><td>T5238</td><td>C1315</td><td>B0002</td><td>MOBILE</td><td>DEPOSIT</td><td>90559.31</td><td>USD</td><td>2023-01-06T00:22:00Z</td><td>completed</td></tr><tr><td>T5239</td><td>C1386</td><td>B0009</td><td>WEB</td><td>PAYMENT</td><td>57968.85</td><td>USD</td><td>2023-01-06T00:57:00Z</td><td>completed</td></tr><tr><td>T5247</td><td>C1534</td><td>B0003</td><td>BRANCH</td><td>TRANSFER</td><td>70515.9</td><td>USD</td><td>2023-01-06T04:49:00Z</td><td>completed</td></tr><tr><td>T5614</td><td>C1081</td><td>B0004</td><td>WEB</td><td>WITHDRAWAL</td><td>44116.01</td><td>USD</td><td>2023-01-13T14:08:00Z</td><td>completed</td></tr><tr><td>T5648</td><td>C1737</td><td>B0004</td><td>MOBILE</td><td>TRANSFER</td><td>90034.16</td><td>USD</td><td>2023-01-14T03:39:00Z</td><td>completed</td></tr><tr><td>T5902</td><td>C1810</td><td>B0003</td><td>MOBILE</td><td>TRANSFER</td><td>61189.89</td><td>USD</td><td>2023-01-19T09:47:00Z</td><td>completed</td></tr><tr><td>T5912</td><td>C1719</td><td>B0000</td><td>MOBILE</td><td>DEPOSIT</td><td>98815.05</td><td>USD</td><td>2023-01-19T15:49:00Z</td><td>completed</td></tr><tr><td>T5929</td><td>C1952</td><td>B0007</td><td>BRANCH</td><td>PAYMENT</td><td>11867.1</td><td>USD</td><td>2023-01-20T00:18:00Z</td><td>completed</td></tr><tr><td>T6606</td><td>C1702</td><td>B0008</td><td>MOBILE</td><td>TRANSFER</td><td>49877.57</td><td>USD</td><td>2023-02-02T18:15:00Z</td><td>completed</td></tr><tr><td>T6611</td><td>C1324</td><td>B0009</td><td>BRANCH</td><td>DEPOSIT</td><td>14654.69</td><td>USD</td><td>2023-02-02T19:28:00Z</td><td>completed</td></tr><tr><td>T6638</td><td>C1802</td><td>B0001</td><td>WEB</td><td>PAYMENT</td><td>62174.05</td><td>USD</td><td>2023-02-03T08:30:00Z</td><td>completed</td></tr><tr><td>T6180</td><td>C1481</td><td>B0001</td><td>BRANCH</td><td>WITHDRAWAL</td><td>94519.18</td><td>USD</td><td>2023-01-25T00:10:00Z</td><td>completed</td></tr><tr><td>T6183</td><td>C1097</td><td>B0000</td><td>MOBILE</td><td>DEPOSIT</td><td>66748.52</td><td>USD</td><td>2023-01-25T01:19:00Z</td><td>completed</td></tr><tr><td>T6186</td><td>C1489</td><td>B0003</td><td>MOBILE</td><td>DEPOSIT</td><td>66049.97</td><td>USD</td><td>2023-01-25T03:37:00Z</td><td>completed</td></tr><tr><td>T5555</td><td>C1857</td><td>B0005</td><td>BRANCH</td><td>TRANSFER</td><td>26704.25</td><td>USD</td><td>2023-01-12T09:43:00Z</td><td>completed</td></tr><tr><td>T5579</td><td>C1484</td><td>B0006</td><td>BRANCH</td><td>PAYMENT</td><td>67640.76</td><td>USD</td><td>2023-01-12T22:10:00Z</td><td>completed</td></tr><tr><td>T5587</td><td>C1818</td><td>B0007</td><td>MOBILE</td><td>WITHDRAWAL</td><td>32946.28</td><td>USD</td><td>2023-01-13T01:49:00Z</td><td>completed</td></tr><tr><td>T6319</td><td>C1635</td><td>B0009</td><td>WEB</td><td>DEPOSIT</td><td>11561.1</td><td>USD</td><td>2023-01-28T02:34:00Z</td><td>completed</td></tr><tr><td>T6326</td><td>C1325</td><td>B0005</td><td>WEB</td><td>DEPOSIT</td><td>104349.88</td><td>USD</td><td>2023-01-28T06:59:00Z</td><td>completed</td></tr><tr><td>T5656</td><td>C1065</td><td>B0009</td><td>BRANCH</td><td>WITHDRAWAL</td><td>44737.2</td><td>USD</td><td>2023-01-14T06:07:00Z</td><td>completed</td></tr><tr><td>T5665</td><td>C1411</td><td>B0007</td><td>MOBILE</td><td>WITHDRAWAL</td><td>28826.58</td><td>USD</td><td>2023-01-14T10:48:00Z</td><td>completed</td></tr><tr><td>T5666</td><td>C1232</td><td>B0008</td><td>MOBILE</td><td>WITHDRAWAL</td><td>40685.84</td><td>USD</td><td>2023-01-14T11:39:00Z</td><td>pending</td></tr><tr><td>T5669</td><td>C1110</td><td>B0006</td><td>ATM</td><td>WITHDRAWAL</td><td>50396.93</td><td>USD</td><td>2023-01-14T13:40:00Z</td><td>completed</td></tr><tr><td>T5684</td><td>C1554</td><td>B0004</td><td>ATM</td><td>DEPOSIT</td><td>52972.34</td><td>USD</td><td>2023-01-14T20:48:00Z</td><td>completed</td></tr><tr><td>T5687</td><td>C1118</td><td>B0008</td><td>ATM</td><td>PAYMENT</td><td>34412.86</td><td>USD</td><td>2023-01-14T22:36:00Z</td><td>completed</td></tr><tr><td>T6415</td><td>C1487</td><td>B0009</td><td>ATM</td><td>TRANSFER</td><td>66502.86</td><td>USD</td><td>2023-01-29T22:11:00Z</td><td>completed</td></tr><tr><td>T6435</td><td>C1068</td><td>B0008</td><td>ATM</td><td>TRANSFER</td><td>47967.51</td><td>USD</td><td>2023-01-30T10:13:00Z</td><td>completed</td></tr><tr><td>T6436</td><td>C1389</td><td>B0006</td><td>MOBILE</td><td>WITHDRAWAL</td><td>84026.12</td><td>USD</td><td>2023-01-30T10:33:00Z</td><td>pending</td></tr><tr><td>T5800</td><td>C1725</td><td>B0003</td><td>ATM</td><td>DEPOSIT</td><td>36866.43</td><td>USD</td><td>2023-01-17T05:07:00Z</td><td>completed</td></tr><tr><td>T5802</td><td>C1983</td><td>B0002</td><td>BRANCH</td><td>DEPOSIT</td><td>89148.78</td><td>USD</td><td>2023-01-17T06:31:00Z</td><td>completed</td></tr><tr><td>T5837</td><td>C1585</td><td>B0009</td><td>MOBILE</td><td>TRANSFER</td><td>31936.89</td><td>USD</td><td>2023-01-18T00:50:00Z</td><td>completed</td></tr><tr><td>T5860</td><td>C1784</td><td>B0008</td><td>BRANCH</td><td>DEPOSIT</td><td>86610.89</td><td>USD</td><td>2023-01-18T12:34:00Z</td><td>completed</td></tr><tr><td>T5880</td><td>C1238</td><td>B0000</td><td>WEB</td><td>WITHDRAWAL</td><td>34627.71</td><td>USD</td><td>2023-01-18T21:15:00Z</td><td>completed</td></tr><tr><td>T5893</td><td>C1430</td><td>B0009</td><td>BRANCH</td><td>DEPOSIT</td><td>37400.74</td><td>USD</td><td>2023-01-19T03:30:00Z</td><td>completed</td></tr><tr><td>T6201</td><td>C1485</td><td>B0003</td><td>MOBILE</td><td>DEPOSIT</td><td>76297.91</td><td>USD</td><td>2023-01-25T10:59:00Z</td><td>pending</td></tr><tr><td>T6208</td><td>C1614</td><td>B0002</td><td>MOBILE</td><td>PAYMENT</td><td>91948.08</td><td>USD</td><td>2023-01-25T15:05:00Z</td><td>completed</td></tr><tr><td>T6209</td><td>C1923</td><td>B0003</td><td>BRANCH</td><td>TRANSFER</td><td>10121.34</td><td>USD</td><td>2023-01-25T15:06:00Z</td><td>completed</td></tr><tr><td>T6227</td><td>C1093</td><td>B0002</td><td>MOBILE</td><td>WITHDRAWAL</td><td>19784.83</td><td>USD</td><td>2023-01-26T03:06:00Z</td><td>completed</td></tr><tr><td>T6451</td><td>C1410</td><td>B0006</td><td>WEB</td><td>TRANSFER</td><td>85289.71</td><td>USD</td><td>2023-01-30T17:00:00Z</td><td>completed</td></tr><tr><td>T6496</td><td>C1702</td><td>B0001</td><td>ATM</td><td>WITHDRAWAL</td><td>120589.25</td><td>USD</td><td>2023-01-31T14:08:00Z</td><td>completed</td></tr><tr><td>T5188</td><td>C1252</td><td>B0008</td><td>ATM</td><td>TRANSFER</td><td>27428.71</td><td>USD</td><td>2023-01-04T21:46:00Z</td><td>completed</td></tr><tr><td>T5190</td><td>C1147</td><td>B0003</td><td>MOBILE</td><td>PAYMENT</td><td>80113.43</td><td>USD</td><td>2023-01-04T23:08:00Z</td><td>completed</td></tr><tr><td>T5500</td><td>C1106</td><td>B0004</td><td>WEB</td><td>DEPOSIT</td><td>12084.33</td><td>USD</td><td>2023-01-11T12:10:00Z</td><td>completed</td></tr><tr><td>T5544</td><td>C1172</td><td>B0005</td><td>WEB</td><td>WITHDRAWAL</td><td>86209.46</td><td>USD</td><td>2023-01-12T05:07:00Z</td><td>completed</td></tr><tr><td>T5484</td><td>C1837</td><td>B0004</td><td>MOBILE</td><td>TRANSFER</td><td>83126.79</td><td>USD</td><td>2023-01-11T03:36:00Z</td><td>completed</td></tr><tr><td>T5490</td><td>C1952</td><td>B0003</td><td>MOBILE</td><td>DEPOSIT</td><td>53926.23</td><td>USD</td><td>2023-01-11T06:50:00Z</td><td>completed</td></tr><tr><td>T5362</td><td>C1390</td><td>B0001</td><td>WEB</td><td>DEPOSIT</td><td>87155.61</td><td>USD</td><td>2023-01-08T14:26:00Z</td><td>completed</td></tr><tr><td>T5379</td><td>C1031</td><td>B0006</td><td>MOBILE</td><td>DEPOSIT</td><td>90649.92</td><td>USD</td><td>2023-01-08T21:58:00Z</td><td>completed</td></tr><tr><td>T5394</td><td>C1304</td><td>B0009</td><td>ATM</td><td>DEPOSIT</td><td>71347.57</td><td>USD</td><td>2023-01-09T06:46:00Z</td><td>completed</td></tr><tr><td>T5406</td><td>C1596</td><td>B0001</td><td>BRANCH</td><td>DEPOSIT</td><td>15420.28</td><td>USD</td><td>2023-01-09T12:19:00Z</td><td>completed</td></tr><tr><td>T6381</td><td>C1704</td><td>B0000</td><td>ATM</td><td>TRANSFER</td><td>44859.8</td><td>USD</td><td>2023-01-29T07:57:00Z</td><td>completed</td></tr><tr><td>T6383</td><td>C1418</td><td>B0003</td><td>ATM</td><td>DEPOSIT</td><td>27645.27</td><td>USD</td><td>2023-01-29T08:55:00Z</td><td>completed</td></tr><tr><td>T6252</td><td>C1387</td><td>B0005</td><td>BRANCH</td><td>TRANSFER</td><td>11439.15</td><td>USD</td><td>2023-01-26T16:07:00Z</td><td>completed</td></tr><tr><td>T6510</td><td>C1711</td><td>B0002</td><td>BRANCH</td><td>WITHDRAWAL</td><td>90571.45</td><td>USD</td><td>2023-01-31T19:24:00Z</td><td>pending</td></tr><tr><td>T5726</td><td>C1492</td><td>B0000</td><td>MOBILE</td><td>PAYMENT</td><td>94278.03</td><td>USD</td><td>2023-01-15T16:00:00Z</td><td>completed</td></tr><tr><td>T5753</td><td>C1099</td><td>B0008</td><td>WEB</td><td>TRANSFER</td><td>62026.55</td><td>USD</td><td>2023-01-16T06:38:00Z</td><td>completed</td></tr><tr><td>T5773</td><td>C1018</td><td>B0002</td><td>MOBILE</td><td>TRANSFER</td><td>49939.93</td><td>USD</td><td>2023-01-16T15:37:00Z</td><td>completed</td></tr><tr><td>T5777</td><td>C1420</td><td>B0007</td><td>WEB</td><td>PAYMENT</td><td>17010.09</td><td>USD</td><td>2023-01-16T17:26:00Z</td><td>completed</td></tr><tr><td>T5785</td><td>C1909</td><td>B0005</td><td>WEB</td><td>TRANSFER</td><td>49538.11</td><td>USD</td><td>2023-01-16T21:43:00Z</td><td>completed</td></tr><tr><td>T5093</td><td>C1598</td><td>B0005</td><td>MOBILE</td><td>DEPOSIT</td><td>124454.6</td><td>USD</td><td>2023-01-02T20:31:00Z</td><td>completed</td></tr><tr><td>T5277</td><td>C1079</td><td>B0007</td><td>ATM</td><td>TRANSFER</td><td>39348.97</td><td>USD</td><td>2023-01-06T20:47:00Z</td><td>completed</td></tr><tr><td>T5287</td><td>C1156</td><td>B0009</td><td>WEB</td><td>PAYMENT</td><td>10635.92</td><td>USD</td><td>2023-01-07T01:03:00Z</td><td>completed</td></tr><tr><td>T5294</td><td>C1553</td><td>B0003</td><td>BRANCH</td><td>PAYMENT</td><td>69068.82</td><td>USD</td><td>2023-01-07T03:05:00Z</td><td>completed</td></tr><tr><td>T6572</td><td>C1120</td><td>B0006</td><td>BRANCH</td><td>WITHDRAWAL</td><td>66205.53</td><td>USD</td><td>2023-02-02T00:43:00Z</td><td>completed</td></tr><tr><td>T6592</td><td>C1088</td><td>B0006</td><td>WEB</td><td>WITHDRAWAL</td><td>19371.37</td><td>USD</td><td>2023-02-02T10:36:00Z</td><td>completed</td></tr><tr><td>T5334</td><td>C1242</td><td>B0003</td><td>ATM</td><td>TRANSFER</td><td>91620.16</td><td>USD</td><td>2023-01-07T23:19:00Z</td><td>completed</td></tr><tr><td>T6029</td><td>C1264</td><td>B0005</td><td>BRANCH</td><td>DEPOSIT</td><td>52240.31</td><td>USD</td><td>2023-01-21T21:56:00Z</td><td>completed</td></tr><tr><td>T6035</td><td>C1415</td><td>B0007</td><td>ATM</td><td>DEPOSIT</td><td>99168.39</td><td>USD</td><td>2023-01-22T00:48:00Z</td><td>completed</td></tr><tr><td>T6652</td><td>C1825</td><td>B0004</td><td>MOBILE</td><td>TRANSFER</td><td>43390.39</td><td>USD</td><td>2023-02-03T18:30:00Z</td><td>completed</td></tr><tr><td>T6657</td><td>C1017</td><td>B0009</td><td>BRANCH</td><td>TRANSFER</td><td>82256.56</td><td>USD</td><td>2023-02-03T21:07:00Z</td><td>pending</td></tr><tr><td>T6665</td><td>C1016</td><td>B0008</td><td>BRANCH</td><td>TRANSFER</td><td>79077.32</td><td>USD</td><td>2023-02-04T01:06:00Z</td><td>completed</td></tr><tr><td>T6675</td><td>C1102</td><td>B0009</td><td>WEB</td><td>PAYMENT</td><td>53058.72</td><td>USD</td><td>2023-02-04T06:44:00Z</td><td>completed</td></tr><tr><td>T6676</td><td>C1788</td><td>B0000</td><td>BRANCH</td><td>WITHDRAWAL</td><td>52851.59</td><td>USD</td><td>2023-02-04T07:26:00Z</td><td>completed</td></tr><tr><td>T6713</td><td>C1382</td><td>B0000</td><td>MOBILE</td><td>WITHDRAWAL</td><td>126743.93</td><td>USD</td><td>2023-02-05T00:43:00Z</td><td>completed</td></tr><tr><td>T6730</td><td>C1344</td><td>B0006</td><td>WEB</td><td>DEPOSIT</td><td>16911.25</td><td>USD</td><td>2023-02-05T07:00:00Z</td><td>completed</td></tr><tr><td>T6809</td><td>C1947</td><td>B0006</td><td>MOBILE</td><td>WITHDRAWAL</td><td>35155.16</td><td>USD</td><td>2023-02-07T00:20:00Z</td><td>completed</td></tr><tr><td>T6812</td><td>C1177</td><td>B0002</td><td>ATM</td><td>WITHDRAWAL</td><td>49051.8</td><td>USD</td><td>2023-02-07T01:13:00Z</td><td>completed</td></tr><tr><td>T6829</td><td>C1730</td><td>B0001</td><td>MOBILE</td><td>WITHDRAWAL</td><td>125253.77</td><td>USD</td><td>2023-02-07T11:49:00Z</td><td>completed</td></tr><tr><td>T6845</td><td>C1039</td><td>B0001</td><td>WEB</td><td>DEPOSIT</td><td>24051.22</td><td>USD</td><td>2023-02-07T19:47:00Z</td><td>completed</td></tr><tr><td>T6871</td><td>C1377</td><td>B0004</td><td>BRANCH</td><td>TRANSFER</td><td>30347.73</td><td>USD</td><td>2023-02-08T08:47:00Z</td><td>completed</td></tr><tr><td>T6885</td><td>C1514</td><td>B0009</td><td>WEB</td><td>WITHDRAWAL</td><td>99410.72</td><td>USD</td><td>2023-02-08T16:30:00Z</td><td>completed</td></tr><tr><td>T6888</td><td>C1707</td><td>B0004</td><td>BRANCH</td><td>PAYMENT</td><td>65390.17</td><td>USD</td><td>2023-02-08T17:21:00Z</td><td>completed</td></tr><tr><td>T6895</td><td>C1168</td><td>B0001</td><td>MOBILE</td><td>DEPOSIT</td><td>63865.31</td><td>USD</td><td>2023-02-08T21:16:00Z</td><td>completed</td></tr><tr><td>T6934</td><td>C1444</td><td>B0009</td><td>MOBILE</td><td>TRANSFER</td><td>51907.01</td><td>USD</td><td>2023-02-09T18:10:00Z</td><td>completed</td></tr><tr><td>T6939</td><td>C1126</td><td>B0009</td><td>MOBILE</td><td>PAYMENT</td><td>43354.1</td><td>USD</td><td>2023-02-09T21:13:00Z</td><td>completed</td></tr><tr><td>T6966</td><td>C1102</td><td>B0005</td><td>BRANCH</td><td>PAYMENT</td><td>34679.7</td><td>USD</td><td>2023-02-10T11:04:00Z</td><td>pending</td></tr><tr><td>T7001</td><td>C1118</td><td>B0006</td><td>WEB</td><td>WITHDRAWAL</td><td>78435.67</td><td>USD</td><td>2023-02-11T03:58:00Z</td><td>completed</td></tr><tr><td>T7007</td><td>C1531</td><td>B0000</td><td>BRANCH</td><td>DEPOSIT</td><td>53332.57</td><td>USD</td><td>2023-02-11T06:21:00Z</td><td>pending</td></tr><tr><td>T7008</td><td>C1347</td><td>B0006</td><td>MOBILE</td><td>PAYMENT</td><td>43902.13</td><td>USD</td><td>2023-02-11T06:30:00Z</td><td>completed</td></tr><tr><td>T7010</td><td>C1478</td><td>B0000</td><td>BRANCH</td><td>WITHDRAWAL</td><td>52394.12</td><td>USD</td><td>2023-02-11T07:11:00Z</td><td>pending</td></tr><tr><td>T7037</td><td>C1614</td><td>B0001</td><td>WEB</td><td>TRANSFER</td><td>49344.59</td><td>USD</td><td>2023-02-11T19:52:00Z</td><td>completed</td></tr><tr><td>T7078</td><td>C1009</td><td>B0002</td><td>ATM</td><td>PAYMENT</td><td>37506.43</td><td>USD</td><td>2023-02-12T15:27:00Z</td><td>completed</td></tr><tr><td>T7090</td><td>C1128</td><td>B0004</td><td>MOBILE</td><td>TRANSFER</td><td>25438.19</td><td>USD</td><td>2023-02-12T20:32:00Z</td><td>completed</td></tr><tr><td>T7113</td><td>C1171</td><td>B0000</td><td>MOBILE</td><td>WITHDRAWAL</td><td>70511.29</td><td>USD</td><td>2023-02-13T06:38:00Z</td><td>pending</td></tr><tr><td>T7131</td><td>C1037</td><td>B0004</td><td>ATM</td><td>WITHDRAWAL</td><td>42270.33</td><td>USD</td><td>2023-02-13T16:11:00Z</td><td>completed</td></tr><tr><td>T7145</td><td>C1647</td><td>B0002</td><td>WEB</td><td>DEPOSIT</td><td>86633.13</td><td>USD</td><td>2023-02-14T00:28:00Z</td><td>completed</td></tr><tr><td>T7200</td><td>C1024</td><td>B0005</td><td>ATM</td><td>DEPOSIT</td><td>22970.74</td><td>USD</td><td>2023-02-15T03:07:00Z</td><td>completed</td></tr><tr><td>T7263</td><td>C1201</td><td>B0002</td><td>ATM</td><td>WITHDRAWAL</td><td>128300.66</td><td>USD</td><td>2023-02-16T08:07:00Z</td><td>completed</td></tr><tr><td>T7313</td><td>C1560</td><td>B0008</td><td>WEB</td><td>TRANSFER</td><td>69234.88</td><td>USD</td><td>2023-02-17T06:39:00Z</td><td>pending</td></tr><tr><td>T7322</td><td>C1636</td><td>B0001</td><td>ATM</td><td>DEPOSIT</td><td>50037.16</td><td>USD</td><td>2023-02-17T10:21:00Z</td><td>completed</td></tr><tr><td>T7364</td><td>C1540</td><td>B0008</td><td>BRANCH</td><td>PAYMENT</td><td>53886.55</td><td>USD</td><td>2023-02-18T06:12:00Z</td><td>completed</td></tr><tr><td>T7383</td><td>C1637</td><td>B0005</td><td>ATM</td><td>DEPOSIT</td><td>49142.94</td><td>USD</td><td>2023-02-18T15:49:00Z</td><td>completed</td></tr><tr><td>T7424</td><td>C1123</td><td>B0001</td><td>WEB</td><td>WITHDRAWAL</td><td>39040.41</td><td>USD</td><td>2023-02-19T08:09:00Z</td><td>completed</td></tr><tr><td>T7479</td><td>C1044</td><td>B0000</td><td>BRANCH</td><td>TRANSFER</td><td>94379.52</td><td>USD</td><td>2023-02-20T09:26:00Z</td><td>completed</td></tr><tr><td>T7494</td><td>C1384</td><td>B0008</td><td>MOBILE</td><td>TRANSFER</td><td>76853.39</td><td>USD</td><td>2023-02-20T17:57:00Z</td><td>completed</td></tr><tr><td>T7509</td><td>C1977</td><td>B0002</td><td>BRANCH</td><td>WITHDRAWAL</td><td>98557.41</td><td>USD</td><td>2023-02-21T01:29:00Z</td><td>completed</td></tr><tr><td>T7523</td><td>C1429</td><td>B0003</td><td>MOBILE</td><td>TRANSFER</td><td>28424.47</td><td>USD</td><td>2023-02-21T08:27:00Z</td><td>completed</td></tr><tr><td>T7533</td><td>C1185</td><td>B0006</td><td>BRANCH</td><td>WITHDRAWAL</td><td>19981.39</td><td>USD</td><td>2023-02-21T12:25:00Z</td><td>pending</td></tr><tr><td>T7542</td><td>C1556</td><td>B0001</td><td>ATM</td><td>TRANSFER</td><td>85035.64</td><td>USD</td><td>2023-02-21T17:23:00Z</td><td>completed</td></tr><tr><td>T7569</td><td>C1591</td><td>B0001</td><td>MOBILE</td><td>TRANSFER</td><td>23583.18</td><td>USD</td><td>2023-02-22T04:47:00Z</td><td>completed</td></tr><tr><td>T7576</td><td>C1325</td><td>B0001</td><td>ATM</td><td>WITHDRAWAL</td><td>27152.68</td><td>USD</td><td>2023-02-22T07:32:00Z</td><td>completed</td></tr><tr><td>T7606</td><td>C1927</td><td>B0009</td><td>WEB</td><td>PAYMENT</td><td>57353.43</td><td>USD</td><td>2023-02-22T21:20:00Z</td><td>completed</td></tr><tr><td>T7609</td><td>C1801</td><td>B0004</td><td>MOBILE</td><td>PAYMENT</td><td>81016.23</td><td>USD</td><td>2023-02-22T23:28:00Z</td><td>completed</td></tr><tr><td>T7613</td><td>C1445</td><td>B0004</td><td>MOBILE</td><td>PAYMENT</td><td>28323.69</td><td>USD</td><td>2023-02-23T02:24:00Z</td><td>completed</td></tr><tr><td>T7621</td><td>C1637</td><td>B0004</td><td>WEB</td><td>TRANSFER</td><td>98428.74</td><td>USD</td><td>2023-02-23T05:15:00Z</td><td>completed</td></tr><tr><td>T7626</td><td>C1370</td><td>B0008</td><td>ATM</td><td>PAYMENT</td><td>31723.44</td><td>USD</td><td>2023-02-23T06:57:00Z</td><td>completed</td></tr><tr><td>T7628</td><td>C1610</td><td>B0000</td><td>ATM</td><td>DEPOSIT</td><td>109885.16</td><td>USD</td><td>2023-02-23T07:23:00Z</td><td>completed</td></tr><tr><td>T7660</td><td>C1399</td><td>B0009</td><td>MOBILE</td><td>TRANSFER</td><td>55608.63</td><td>USD</td><td>2023-02-23T23:39:00Z</td><td>completed</td></tr><tr><td>T7669</td><td>C1399</td><td>B0006</td><td>WEB</td><td>WITHDRAWAL</td><td>63665.63</td><td>USD</td><td>2023-02-24T05:42:00Z</td><td>completed</td></tr><tr><td>T7720</td><td>C1693</td><td>B0003</td><td>BRANCH</td><td>TRANSFER</td><td>107801.54</td><td>USD</td><td>2023-02-25T08:56:00Z</td><td>completed</td></tr><tr><td>T7741</td><td>C1840</td><td>B0008</td><td>BRANCH</td><td>DEPOSIT</td><td>41946.23</td><td>USD</td><td>2023-02-25T21:06:00Z</td><td>completed</td></tr><tr><td>T7763</td><td>C1365</td><td>B0007</td><td>BRANCH</td><td>PAYMENT</td><td>61969.17</td><td>USD</td><td>2023-02-26T08:02:00Z</td><td>completed</td></tr><tr><td>T7772</td><td>C1892</td><td>B0002</td><td>ATM</td><td>PAYMENT</td><td>17705.62</td><td>USD</td><td>2023-02-26T12:16:00Z</td><td>pending</td></tr><tr><td>T7776</td><td>C1040</td><td>B0005</td><td>ATM</td><td>TRANSFER</td><td>35525.93</td><td>USD</td><td>2023-02-26T13:18:00Z</td><td>completed</td></tr><tr><td>T7800</td><td>C1215</td><td>B0008</td><td>ATM</td><td>TRANSFER</td><td>93011.15</td><td>USD</td><td>2023-02-27T01:21:00Z</td><td>pending</td></tr><tr><td>T7805</td><td>C1728</td><td>B0004</td><td>MOBILE</td><td>PAYMENT</td><td>44780.46</td><td>USD</td><td>2023-02-27T02:45:00Z</td><td>completed</td></tr><tr><td>T7857</td><td>C1661</td><td>B0003</td><td>ATM</td><td>DEPOSIT</td><td>38155.86</td><td>USD</td><td>2023-02-28T05:06:00Z</td><td>completed</td></tr><tr><td>T7862</td><td>C1959</td><td>B0005</td><td>BRANCH</td><td>TRANSFER</td><td>92973.92</td><td>USD</td><td>2023-02-28T08:02:00Z</td><td>completed</td></tr><tr><td>T7898</td><td>C1585</td><td>B0002</td><td>ATM</td><td>WITHDRAWAL</td><td>88306.93</td><td>USD</td><td>2023-03-01T00:21:00Z</td><td>completed</td></tr><tr><td>T7953</td><td>C1002</td><td>B0003</td><td>BRANCH</td><td>DEPOSIT</td><td>97065.97</td><td>USD</td><td>2023-03-02T04:45:00Z</td><td>completed</td></tr><tr><td>T7965</td><td>C1649</td><td>B0005</td><td>ATM</td><td>TRANSFER</td><td>52709.78</td><td>USD</td><td>2023-03-02T10:03:00Z</td><td>completed</td></tr><tr><td>T7989</td><td>C1944</td><td>B0001</td><td>ATM</td><td>PAYMENT</td><td>52925.55</td><td>USD</td><td>2023-03-02T20:11:00Z</td><td>pending</td></tr><tr><td>T7995</td><td>C1421</td><td>B0001</td><td>BRANCH</td><td>WITHDRAWAL</td><td>63552.3</td><td>USD</td><td>2023-03-02T23:51:00Z</td><td>pending</td></tr></tbody></table></div>"
      ]
     },
     "metadata": {
      "application/vnd.databricks.v1+output": {
       "addedWidgets": {},
       "aggData": [],
       "aggError": "",
       "aggOverflow": false,
       "aggSchema": [],
       "aggSeriesLimitReached": false,
       "aggType": "",
       "arguments": {},
       "columnCustomDisplayInfos": {},
       "data": [
        [
         "T6074",
         "C1666",
         "B0009",
         "BRANCH",
         "DEPOSIT",
         34251.96,
         "USD",
         "2023-01-22T19:12:00Z",
         "completed"
        ],
        [
         "T6094",
         "C1298",
         "B0001",
         "BRANCH",
         "DEPOSIT",
         57377.81,
         "USD",
         "2023-01-23T07:07:00Z",
         "pending"
        ],
        [
         "T6102",
         "C1729",
         "B0005",
         "MOBILE",
         "DEPOSIT",
         48323.58,
         "USD",
         "2023-01-23T10:30:00Z",
         "pending"
        ],
        [
         "T6105",
         "C1208",
         "B0004",
         "MOBILE",
         "PAYMENT",
         85108.67,
         "USD",
         "2023-01-23T11:52:00Z",
         "completed"
        ],
        [
         "T6113",
         "C1654",
         "B0008",
         "WEB",
         "WITHDRAWAL",
         18974.85,
         "USD",
         "2023-01-23T15:37:00Z",
         "completed"
        ],
        [
         "T6122",
         "C1151",
         "B0007",
         "MOBILE",
         "PAYMENT",
         25094.43,
         "USD",
         "2023-01-23T19:17:00Z",
         "completed"
        ],
        [
         "T6125",
         "C1537",
         "B0007",
         "BRANCH",
         "WITHDRAWAL",
         64663.26,
         "USD",
         "2023-01-23T20:55:00Z",
         "completed"
        ],
        [
         "T5203",
         "C1570",
         "B0004",
         "MOBILE",
         "DEPOSIT",
         14327.18,
         "USD",
         "2023-01-05T06:06:00Z",
         "completed"
        ],
        [
         "T5205",
         "C1538",
         "B0009",
         "WEB",
         "TRANSFER",
         28476.47,
         "USD",
         "2023-01-05T06:59:00Z",
         "completed"
        ],
        [
         "T5207",
         "C1806",
         "B0006",
         "MOBILE",
         "DEPOSIT",
         69988.62,
         "USD",
         "2023-01-05T07:43:00Z",
         "completed"
        ],
        [
         "T5236",
         "C1865",
         "B0001",
         "MOBILE",
         "TRANSFER",
         30149.11,
         "USD",
         "2023-01-05T23:36:00Z",
         "completed"
        ],
        [
         "T5238",
         "C1315",
         "B0002",
         "MOBILE",
         "DEPOSIT",
         90559.31,
         "USD",
         "2023-01-06T00:22:00Z",
         "completed"
        ],
        [
         "T5239",
         "C1386",
         "B0009",
         "WEB",
         "PAYMENT",
         57968.85,
         "USD",
         "2023-01-06T00:57:00Z",
         "completed"
        ],
        [
         "T5247",
         "C1534",
         "B0003",
         "BRANCH",
         "TRANSFER",
         70515.9,
         "USD",
         "2023-01-06T04:49:00Z",
         "completed"
        ],
        [
         "T5614",
         "C1081",
         "B0004",
         "WEB",
         "WITHDRAWAL",
         44116.01,
         "USD",
         "2023-01-13T14:08:00Z",
         "completed"
        ],
        [
         "T5648",
         "C1737",
         "B0004",
         "MOBILE",
         "TRANSFER",
         90034.16,
         "USD",
         "2023-01-14T03:39:00Z",
         "completed"
        ],
        [
         "T5902",
         "C1810",
         "B0003",
         "MOBILE",
         "TRANSFER",
         61189.89,
         "USD",
         "2023-01-19T09:47:00Z",
         "completed"
        ],
        [
         "T5912",
         "C1719",
         "B0000",
         "MOBILE",
         "DEPOSIT",
         98815.05,
         "USD",
         "2023-01-19T15:49:00Z",
         "completed"
        ],
        [
         "T5929",
         "C1952",
         "B0007",
         "BRANCH",
         "PAYMENT",
         11867.1,
         "USD",
         "2023-01-20T00:18:00Z",
         "completed"
        ],
        [
         "T6606",
         "C1702",
         "B0008",
         "MOBILE",
         "TRANSFER",
         49877.57,
         "USD",
         "2023-02-02T18:15:00Z",
         "completed"
        ],
        [
         "T6611",
         "C1324",
         "B0009",
         "BRANCH",
         "DEPOSIT",
         14654.69,
         "USD",
         "2023-02-02T19:28:00Z",
         "completed"
        ],
        [
         "T6638",
         "C1802",
         "B0001",
         "WEB",
         "PAYMENT",
         62174.05,
         "USD",
         "2023-02-03T08:30:00Z",
         "completed"
        ],
        [
         "T6180",
         "C1481",
         "B0001",
         "BRANCH",
         "WITHDRAWAL",
         94519.18,
         "USD",
         "2023-01-25T00:10:00Z",
         "completed"
        ],
        [
         "T6183",
         "C1097",
         "B0000",
         "MOBILE",
         "DEPOSIT",
         66748.52,
         "USD",
         "2023-01-25T01:19:00Z",
         "completed"
        ],
        [
         "T6186",
         "C1489",
         "B0003",
         "MOBILE",
         "DEPOSIT",
         66049.97,
         "USD",
         "2023-01-25T03:37:00Z",
         "completed"
        ],
        [
         "T5555",
         "C1857",
         "B0005",
         "BRANCH",
         "TRANSFER",
         26704.25,
         "USD",
         "2023-01-12T09:43:00Z",
         "completed"
        ],
        [
         "T5579",
         "C1484",
         "B0006",
         "BRANCH",
         "PAYMENT",
         67640.76,
         "USD",
         "2023-01-12T22:10:00Z",
         "completed"
        ],
        [
         "T5587",
         "C1818",
         "B0007",
         "MOBILE",
         "WITHDRAWAL",
         32946.28,
         "USD",
         "2023-01-13T01:49:00Z",
         "completed"
        ],
        [
         "T6319",
         "C1635",
         "B0009",
         "WEB",
         "DEPOSIT",
         11561.1,
         "USD",
         "2023-01-28T02:34:00Z",
         "completed"
        ],
        [
         "T6326",
         "C1325",
         "B0005",
         "WEB",
         "DEPOSIT",
         104349.88,
         "USD",
         "2023-01-28T06:59:00Z",
         "completed"
        ],
        [
         "T5656",
         "C1065",
         "B0009",
         "BRANCH",
         "WITHDRAWAL",
         44737.2,
         "USD",
         "2023-01-14T06:07:00Z",
         "completed"
        ],
        [
         "T5665",
         "C1411",
         "B0007",
         "MOBILE",
         "WITHDRAWAL",
         28826.58,
         "USD",
         "2023-01-14T10:48:00Z",
         "completed"
        ],
        [
         "T5666",
         "C1232",
         "B0008",
         "MOBILE",
         "WITHDRAWAL",
         40685.84,
         "USD",
         "2023-01-14T11:39:00Z",
         "pending"
        ],
        [
         "T5669",
         "C1110",
         "B0006",
         "ATM",
         "WITHDRAWAL",
         50396.93,
         "USD",
         "2023-01-14T13:40:00Z",
         "completed"
        ],
        [
         "T5684",
         "C1554",
         "B0004",
         "ATM",
         "DEPOSIT",
         52972.34,
         "USD",
         "2023-01-14T20:48:00Z",
         "completed"
        ],
        [
         "T5687",
         "C1118",
         "B0008",
         "ATM",
         "PAYMENT",
         34412.86,
         "USD",
         "2023-01-14T22:36:00Z",
         "completed"
        ],
        [
         "T6415",
         "C1487",
         "B0009",
         "ATM",
         "TRANSFER",
         66502.86,
         "USD",
         "2023-01-29T22:11:00Z",
         "completed"
        ],
        [
         "T6435",
         "C1068",
         "B0008",
         "ATM",
         "TRANSFER",
         47967.51,
         "USD",
         "2023-01-30T10:13:00Z",
         "completed"
        ],
        [
         "T6436",
         "C1389",
         "B0006",
         "MOBILE",
         "WITHDRAWAL",
         84026.12,
         "USD",
         "2023-01-30T10:33:00Z",
         "pending"
        ],
        [
         "T5800",
         "C1725",
         "B0003",
         "ATM",
         "DEPOSIT",
         36866.43,
         "USD",
         "2023-01-17T05:07:00Z",
         "completed"
        ],
        [
         "T5802",
         "C1983",
         "B0002",
         "BRANCH",
         "DEPOSIT",
         89148.78,
         "USD",
         "2023-01-17T06:31:00Z",
         "completed"
        ],
        [
         "T5837",
         "C1585",
         "B0009",
         "MOBILE",
         "TRANSFER",
         31936.89,
         "USD",
         "2023-01-18T00:50:00Z",
         "completed"
        ],
        [
         "T5860",
         "C1784",
         "B0008",
         "BRANCH",
         "DEPOSIT",
         86610.89,
         "USD",
         "2023-01-18T12:34:00Z",
         "completed"
        ],
        [
         "T5880",
         "C1238",
         "B0000",
         "WEB",
         "WITHDRAWAL",
         34627.71,
         "USD",
         "2023-01-18T21:15:00Z",
         "completed"
        ],
        [
         "T5893",
         "C1430",
         "B0009",
         "BRANCH",
         "DEPOSIT",
         37400.74,
         "USD",
         "2023-01-19T03:30:00Z",
         "completed"
        ],
        [
         "T6201",
         "C1485",
         "B0003",
         "MOBILE",
         "DEPOSIT",
         76297.91,
         "USD",
         "2023-01-25T10:59:00Z",
         "pending"
        ],
        [
         "T6208",
         "C1614",
         "B0002",
         "MOBILE",
         "PAYMENT",
         91948.08,
         "USD",
         "2023-01-25T15:05:00Z",
         "completed"
        ],
        [
         "T6209",
         "C1923",
         "B0003",
         "BRANCH",
         "TRANSFER",
         10121.34,
         "USD",
         "2023-01-25T15:06:00Z",
         "completed"
        ],
        [
         "T6227",
         "C1093",
         "B0002",
         "MOBILE",
         "WITHDRAWAL",
         19784.83,
         "USD",
         "2023-01-26T03:06:00Z",
         "completed"
        ],
        [
         "T6451",
         "C1410",
         "B0006",
         "WEB",
         "TRANSFER",
         85289.71,
         "USD",
         "2023-01-30T17:00:00Z",
         "completed"
        ],
        [
         "T6496",
         "C1702",
         "B0001",
         "ATM",
         "WITHDRAWAL",
         120589.25,
         "USD",
         "2023-01-31T14:08:00Z",
         "completed"
        ],
        [
         "T5188",
         "C1252",
         "B0008",
         "ATM",
         "TRANSFER",
         27428.71,
         "USD",
         "2023-01-04T21:46:00Z",
         "completed"
        ],
        [
         "T5190",
         "C1147",
         "B0003",
         "MOBILE",
         "PAYMENT",
         80113.43,
         "USD",
         "2023-01-04T23:08:00Z",
         "completed"
        ],
        [
         "T5500",
         "C1106",
         "B0004",
         "WEB",
         "DEPOSIT",
         12084.33,
         "USD",
         "2023-01-11T12:10:00Z",
         "completed"
        ],
        [
         "T5544",
         "C1172",
         "B0005",
         "WEB",
         "WITHDRAWAL",
         86209.46,
         "USD",
         "2023-01-12T05:07:00Z",
         "completed"
        ],
        [
         "T5484",
         "C1837",
         "B0004",
         "MOBILE",
         "TRANSFER",
         83126.79,
         "USD",
         "2023-01-11T03:36:00Z",
         "completed"
        ],
        [
         "T5490",
         "C1952",
         "B0003",
         "MOBILE",
         "DEPOSIT",
         53926.23,
         "USD",
         "2023-01-11T06:50:00Z",
         "completed"
        ],
        [
         "T5362",
         "C1390",
         "B0001",
         "WEB",
         "DEPOSIT",
         87155.61,
         "USD",
         "2023-01-08T14:26:00Z",
         "completed"
        ],
        [
         "T5379",
         "C1031",
         "B0006",
         "MOBILE",
         "DEPOSIT",
         90649.92,
         "USD",
         "2023-01-08T21:58:00Z",
         "completed"
        ],
        [
         "T5394",
         "C1304",
         "B0009",
         "ATM",
         "DEPOSIT",
         71347.57,
         "USD",
         "2023-01-09T06:46:00Z",
         "completed"
        ],
        [
         "T5406",
         "C1596",
         "B0001",
         "BRANCH",
         "DEPOSIT",
         15420.28,
         "USD",
         "2023-01-09T12:19:00Z",
         "completed"
        ],
        [
         "T6381",
         "C1704",
         "B0000",
         "ATM",
         "TRANSFER",
         44859.8,
         "USD",
         "2023-01-29T07:57:00Z",
         "completed"
        ],
        [
         "T6383",
         "C1418",
         "B0003",
         "ATM",
         "DEPOSIT",
         27645.27,
         "USD",
         "2023-01-29T08:55:00Z",
         "completed"
        ],
        [
         "T6252",
         "C1387",
         "B0005",
         "BRANCH",
         "TRANSFER",
         11439.15,
         "USD",
         "2023-01-26T16:07:00Z",
         "completed"
        ],
        [
         "T6510",
         "C1711",
         "B0002",
         "BRANCH",
         "WITHDRAWAL",
         90571.45,
         "USD",
         "2023-01-31T19:24:00Z",
         "pending"
        ],
        [
         "T5726",
         "C1492",
         "B0000",
         "MOBILE",
         "PAYMENT",
         94278.03,
         "USD",
         "2023-01-15T16:00:00Z",
         "completed"
        ],
        [
         "T5753",
         "C1099",
         "B0008",
         "WEB",
         "TRANSFER",
         62026.55,
         "USD",
         "2023-01-16T06:38:00Z",
         "completed"
        ],
        [
         "T5773",
         "C1018",
         "B0002",
         "MOBILE",
         "TRANSFER",
         49939.93,
         "USD",
         "2023-01-16T15:37:00Z",
         "completed"
        ],
        [
         "T5777",
         "C1420",
         "B0007",
         "WEB",
         "PAYMENT",
         17010.09,
         "USD",
         "2023-01-16T17:26:00Z",
         "completed"
        ],
        [
         "T5785",
         "C1909",
         "B0005",
         "WEB",
         "TRANSFER",
         49538.11,
         "USD",
         "2023-01-16T21:43:00Z",
         "completed"
        ],
        [
         "T5093",
         "C1598",
         "B0005",
         "MOBILE",
         "DEPOSIT",
         124454.6,
         "USD",
         "2023-01-02T20:31:00Z",
         "completed"
        ],
        [
         "T5277",
         "C1079",
         "B0007",
         "ATM",
         "TRANSFER",
         39348.97,
         "USD",
         "2023-01-06T20:47:00Z",
         "completed"
        ],
        [
         "T5287",
         "C1156",
         "B0009",
         "WEB",
         "PAYMENT",
         10635.92,
         "USD",
         "2023-01-07T01:03:00Z",
         "completed"
        ],
        [
         "T5294",
         "C1553",
         "B0003",
         "BRANCH",
         "PAYMENT",
         69068.82,
         "USD",
         "2023-01-07T03:05:00Z",
         "completed"
        ],
        [
         "T6572",
         "C1120",
         "B0006",
         "BRANCH",
         "WITHDRAWAL",
         66205.53,
         "USD",
         "2023-02-02T00:43:00Z",
         "completed"
        ],
        [
         "T6592",
         "C1088",
         "B0006",
         "WEB",
         "WITHDRAWAL",
         19371.37,
         "USD",
         "2023-02-02T10:36:00Z",
         "completed"
        ],
        [
         "T5334",
         "C1242",
         "B0003",
         "ATM",
         "TRANSFER",
         91620.16,
         "USD",
         "2023-01-07T23:19:00Z",
         "completed"
        ],
        [
         "T6029",
         "C1264",
         "B0005",
         "BRANCH",
         "DEPOSIT",
         52240.31,
         "USD",
         "2023-01-21T21:56:00Z",
         "completed"
        ],
        [
         "T6035",
         "C1415",
         "B0007",
         "ATM",
         "DEPOSIT",
         99168.39,
         "USD",
         "2023-01-22T00:48:00Z",
         "completed"
        ],
        [
         "T6652",
         "C1825",
         "B0004",
         "MOBILE",
         "TRANSFER",
         43390.39,
         "USD",
         "2023-02-03T18:30:00Z",
         "completed"
        ],
        [
         "T6657",
         "C1017",
         "B0009",
         "BRANCH",
         "TRANSFER",
         82256.56,
         "USD",
         "2023-02-03T21:07:00Z",
         "pending"
        ],
        [
         "T6665",
         "C1016",
         "B0008",
         "BRANCH",
         "TRANSFER",
         79077.32,
         "USD",
         "2023-02-04T01:06:00Z",
         "completed"
        ],
        [
         "T6675",
         "C1102",
         "B0009",
         "WEB",
         "PAYMENT",
         53058.72,
         "USD",
         "2023-02-04T06:44:00Z",
         "completed"
        ],
        [
         "T6676",
         "C1788",
         "B0000",
         "BRANCH",
         "WITHDRAWAL",
         52851.59,
         "USD",
         "2023-02-04T07:26:00Z",
         "completed"
        ],
        [
         "T6713",
         "C1382",
         "B0000",
         "MOBILE",
         "WITHDRAWAL",
         126743.93,
         "USD",
         "2023-02-05T00:43:00Z",
         "completed"
        ],
        [
         "T6730",
         "C1344",
         "B0006",
         "WEB",
         "DEPOSIT",
         16911.25,
         "USD",
         "2023-02-05T07:00:00Z",
         "completed"
        ],
        [
         "T6809",
         "C1947",
         "B0006",
         "MOBILE",
         "WITHDRAWAL",
         35155.16,
         "USD",
         "2023-02-07T00:20:00Z",
         "completed"
        ],
        [
         "T6812",
         "C1177",
         "B0002",
         "ATM",
         "WITHDRAWAL",
         49051.8,
         "USD",
         "2023-02-07T01:13:00Z",
         "completed"
        ],
        [
         "T6829",
         "C1730",
         "B0001",
         "MOBILE",
         "WITHDRAWAL",
         125253.77,
         "USD",
         "2023-02-07T11:49:00Z",
         "completed"
        ],
        [
         "T6845",
         "C1039",
         "B0001",
         "WEB",
         "DEPOSIT",
         24051.22,
         "USD",
         "2023-02-07T19:47:00Z",
         "completed"
        ],
        [
         "T6871",
         "C1377",
         "B0004",
         "BRANCH",
         "TRANSFER",
         30347.73,
         "USD",
         "2023-02-08T08:47:00Z",
         "completed"
        ],
        [
         "T6885",
         "C1514",
         "B0009",
         "WEB",
         "WITHDRAWAL",
         99410.72,
         "USD",
         "2023-02-08T16:30:00Z",
         "completed"
        ],
        [
         "T6888",
         "C1707",
         "B0004",
         "BRANCH",
         "PAYMENT",
         65390.17,
         "USD",
         "2023-02-08T17:21:00Z",
         "completed"
        ],
        [
         "T6895",
         "C1168",
         "B0001",
         "MOBILE",
         "DEPOSIT",
         63865.31,
         "USD",
         "2023-02-08T21:16:00Z",
         "completed"
        ],
        [
         "T6934",
         "C1444",
         "B0009",
         "MOBILE",
         "TRANSFER",
         51907.01,
         "USD",
         "2023-02-09T18:10:00Z",
         "completed"
        ],
        [
         "T6939",
         "C1126",
         "B0009",
         "MOBILE",
         "PAYMENT",
         43354.1,
         "USD",
         "2023-02-09T21:13:00Z",
         "completed"
        ],
        [
         "T6966",
         "C1102",
         "B0005",
         "BRANCH",
         "PAYMENT",
         34679.7,
         "USD",
         "2023-02-10T11:04:00Z",
         "pending"
        ],
        [
         "T7001",
         "C1118",
         "B0006",
         "WEB",
         "WITHDRAWAL",
         78435.67,
         "USD",
         "2023-02-11T03:58:00Z",
         "completed"
        ],
        [
         "T7007",
         "C1531",
         "B0000",
         "BRANCH",
         "DEPOSIT",
         53332.57,
         "USD",
         "2023-02-11T06:21:00Z",
         "pending"
        ],
        [
         "T7008",
         "C1347",
         "B0006",
         "MOBILE",
         "PAYMENT",
         43902.13,
         "USD",
         "2023-02-11T06:30:00Z",
         "completed"
        ],
        [
         "T7010",
         "C1478",
         "B0000",
         "BRANCH",
         "WITHDRAWAL",
         52394.12,
         "USD",
         "2023-02-11T07:11:00Z",
         "pending"
        ],
        [
         "T7037",
         "C1614",
         "B0001",
         "WEB",
         "TRANSFER",
         49344.59,
         "USD",
         "2023-02-11T19:52:00Z",
         "completed"
        ],
        [
         "T7078",
         "C1009",
         "B0002",
         "ATM",
         "PAYMENT",
         37506.43,
         "USD",
         "2023-02-12T15:27:00Z",
         "completed"
        ],
        [
         "T7090",
         "C1128",
         "B0004",
         "MOBILE",
         "TRANSFER",
         25438.19,
         "USD",
         "2023-02-12T20:32:00Z",
         "completed"
        ],
        [
         "T7113",
         "C1171",
         "B0000",
         "MOBILE",
         "WITHDRAWAL",
         70511.29,
         "USD",
         "2023-02-13T06:38:00Z",
         "pending"
        ],
        [
         "T7131",
         "C1037",
         "B0004",
         "ATM",
         "WITHDRAWAL",
         42270.33,
         "USD",
         "2023-02-13T16:11:00Z",
         "completed"
        ],
        [
         "T7145",
         "C1647",
         "B0002",
         "WEB",
         "DEPOSIT",
         86633.13,
         "USD",
         "2023-02-14T00:28:00Z",
         "completed"
        ],
        [
         "T7200",
         "C1024",
         "B0005",
         "ATM",
         "DEPOSIT",
         22970.74,
         "USD",
         "2023-02-15T03:07:00Z",
         "completed"
        ],
        [
         "T7263",
         "C1201",
         "B0002",
         "ATM",
         "WITHDRAWAL",
         128300.66,
         "USD",
         "2023-02-16T08:07:00Z",
         "completed"
        ],
        [
         "T7313",
         "C1560",
         "B0008",
         "WEB",
         "TRANSFER",
         69234.88,
         "USD",
         "2023-02-17T06:39:00Z",
         "pending"
        ],
        [
         "T7322",
         "C1636",
         "B0001",
         "ATM",
         "DEPOSIT",
         50037.16,
         "USD",
         "2023-02-17T10:21:00Z",
         "completed"
        ],
        [
         "T7364",
         "C1540",
         "B0008",
         "BRANCH",
         "PAYMENT",
         53886.55,
         "USD",
         "2023-02-18T06:12:00Z",
         "completed"
        ],
        [
         "T7383",
         "C1637",
         "B0005",
         "ATM",
         "DEPOSIT",
         49142.94,
         "USD",
         "2023-02-18T15:49:00Z",
         "completed"
        ],
        [
         "T7424",
         "C1123",
         "B0001",
         "WEB",
         "WITHDRAWAL",
         39040.41,
         "USD",
         "2023-02-19T08:09:00Z",
         "completed"
        ],
        [
         "T7479",
         "C1044",
         "B0000",
         "BRANCH",
         "TRANSFER",
         94379.52,
         "USD",
         "2023-02-20T09:26:00Z",
         "completed"
        ],
        [
         "T7494",
         "C1384",
         "B0008",
         "MOBILE",
         "TRANSFER",
         76853.39,
         "USD",
         "2023-02-20T17:57:00Z",
         "completed"
        ],
        [
         "T7509",
         "C1977",
         "B0002",
         "BRANCH",
         "WITHDRAWAL",
         98557.41,
         "USD",
         "2023-02-21T01:29:00Z",
         "completed"
        ],
        [
         "T7523",
         "C1429",
         "B0003",
         "MOBILE",
         "TRANSFER",
         28424.47,
         "USD",
         "2023-02-21T08:27:00Z",
         "completed"
        ],
        [
         "T7533",
         "C1185",
         "B0006",
         "BRANCH",
         "WITHDRAWAL",
         19981.39,
         "USD",
         "2023-02-21T12:25:00Z",
         "pending"
        ],
        [
         "T7542",
         "C1556",
         "B0001",
         "ATM",
         "TRANSFER",
         85035.64,
         "USD",
         "2023-02-21T17:23:00Z",
         "completed"
        ],
        [
         "T7569",
         "C1591",
         "B0001",
         "MOBILE",
         "TRANSFER",
         23583.18,
         "USD",
         "2023-02-22T04:47:00Z",
         "completed"
        ],
        [
         "T7576",
         "C1325",
         "B0001",
         "ATM",
         "WITHDRAWAL",
         27152.68,
         "USD",
         "2023-02-22T07:32:00Z",
         "completed"
        ],
        [
         "T7606",
         "C1927",
         "B0009",
         "WEB",
         "PAYMENT",
         57353.43,
         "USD",
         "2023-02-22T21:20:00Z",
         "completed"
        ],
        [
         "T7609",
         "C1801",
         "B0004",
         "MOBILE",
         "PAYMENT",
         81016.23,
         "USD",
         "2023-02-22T23:28:00Z",
         "completed"
        ],
        [
         "T7613",
         "C1445",
         "B0004",
         "MOBILE",
         "PAYMENT",
         28323.69,
         "USD",
         "2023-02-23T02:24:00Z",
         "completed"
        ],
        [
         "T7621",
         "C1637",
         "B0004",
         "WEB",
         "TRANSFER",
         98428.74,
         "USD",
         "2023-02-23T05:15:00Z",
         "completed"
        ],
        [
         "T7626",
         "C1370",
         "B0008",
         "ATM",
         "PAYMENT",
         31723.44,
         "USD",
         "2023-02-23T06:57:00Z",
         "completed"
        ],
        [
         "T7628",
         "C1610",
         "B0000",
         "ATM",
         "DEPOSIT",
         109885.16,
         "USD",
         "2023-02-23T07:23:00Z",
         "completed"
        ],
        [
         "T7660",
         "C1399",
         "B0009",
         "MOBILE",
         "TRANSFER",
         55608.63,
         "USD",
         "2023-02-23T23:39:00Z",
         "completed"
        ],
        [
         "T7669",
         "C1399",
         "B0006",
         "WEB",
         "WITHDRAWAL",
         63665.63,
         "USD",
         "2023-02-24T05:42:00Z",
         "completed"
        ],
        [
         "T7720",
         "C1693",
         "B0003",
         "BRANCH",
         "TRANSFER",
         107801.54,
         "USD",
         "2023-02-25T08:56:00Z",
         "completed"
        ],
        [
         "T7741",
         "C1840",
         "B0008",
         "BRANCH",
         "DEPOSIT",
         41946.23,
         "USD",
         "2023-02-25T21:06:00Z",
         "completed"
        ],
        [
         "T7763",
         "C1365",
         "B0007",
         "BRANCH",
         "PAYMENT",
         61969.17,
         "USD",
         "2023-02-26T08:02:00Z",
         "completed"
        ],
        [
         "T7772",
         "C1892",
         "B0002",
         "ATM",
         "PAYMENT",
         17705.62,
         "USD",
         "2023-02-26T12:16:00Z",
         "pending"
        ],
        [
         "T7776",
         "C1040",
         "B0005",
         "ATM",
         "TRANSFER",
         35525.93,
         "USD",
         "2023-02-26T13:18:00Z",
         "completed"
        ],
        [
         "T7800",
         "C1215",
         "B0008",
         "ATM",
         "TRANSFER",
         93011.15,
         "USD",
         "2023-02-27T01:21:00Z",
         "pending"
        ],
        [
         "T7805",
         "C1728",
         "B0004",
         "MOBILE",
         "PAYMENT",
         44780.46,
         "USD",
         "2023-02-27T02:45:00Z",
         "completed"
        ],
        [
         "T7857",
         "C1661",
         "B0003",
         "ATM",
         "DEPOSIT",
         38155.86,
         "USD",
         "2023-02-28T05:06:00Z",
         "completed"
        ],
        [
         "T7862",
         "C1959",
         "B0005",
         "BRANCH",
         "TRANSFER",
         92973.92,
         "USD",
         "2023-02-28T08:02:00Z",
         "completed"
        ],
        [
         "T7898",
         "C1585",
         "B0002",
         "ATM",
         "WITHDRAWAL",
         88306.93,
         "USD",
         "2023-03-01T00:21:00Z",
         "completed"
        ],
        [
         "T7953",
         "C1002",
         "B0003",
         "BRANCH",
         "DEPOSIT",
         97065.97,
         "USD",
         "2023-03-02T04:45:00Z",
         "completed"
        ],
        [
         "T7965",
         "C1649",
         "B0005",
         "ATM",
         "TRANSFER",
         52709.78,
         "USD",
         "2023-03-02T10:03:00Z",
         "completed"
        ],
        [
         "T7989",
         "C1944",
         "B0001",
         "ATM",
         "PAYMENT",
         52925.55,
         "USD",
         "2023-03-02T20:11:00Z",
         "pending"
        ],
        [
         "T7995",
         "C1421",
         "B0001",
         "BRANCH",
         "WITHDRAWAL",
         63552.3,
         "USD",
         "2023-03-02T23:51:00Z",
         "pending"
        ]
       ],
       "datasetInfos": [],
       "dbfsResultPath": null,
       "isJsonSchema": true,
       "metadata": {},
       "overflow": false,
       "plotOptions": {
        "customPlotOptions": {},
        "displayType": "table",
        "pivotAggregation": null,
        "pivotColumns": null,
        "xColumns": null,
        "yColumns": null
       },
       "removedWidgets": [],
       "schema": [
        {
         "metadata": "{}",
         "name": "transaction_id",
         "type": "\"string\""
        },
        {
         "metadata": "{}",
         "name": "customer_id",
         "type": "\"string\""
        },
        {
         "metadata": "{}",
         "name": "branch_id",
         "type": "\"string\""
        },
        {
         "metadata": "{}",
         "name": "channel",
         "type": "\"string\""
        },
        {
         "metadata": "{}",
         "name": "transaction_type",
         "type": "\"string\""
        },
        {
         "metadata": "{}",
         "name": "amount",
         "type": "\"float\""
        },
        {
         "metadata": "{}",
         "name": "currency",
         "type": "\"string\""
        },
        {
         "metadata": "{}",
         "name": "timestamp",
         "type": "\"string\""
        },
        {
         "metadata": "{}",
         "name": "status",
         "type": "\"string\""
        }
       ],
       "type": "table"
      }
     },
     "output_type": "display_data"
    }
   ],
   "source": [
    "potential_fraud = transaction_df_cleaned.filter(F.col('amount') > 10000)\n",
    "potential_fraud.display()"
   ]
  },
  {
   "cell_type": "code",
   "execution_count": 0,
   "metadata": {
    "application/vnd.databricks.v1+cell": {
     "cellMetadata": {},
     "inputWidgets": {},
     "nuid": "4e4c2a85-8f46-4fd6-82f3-3eb4bbad393a",
     "showTitle": false,
     "title": ""
    }
   },
   "outputs": [],
   "source": []
  }
 ],
 "metadata": {
  "application/vnd.databricks.v1+notebook": {
   "dashboards": [],
   "environmentMetadata": null,
   "language": "python",
   "notebookMetadata": {
    "mostRecentlyExecutedCommandWithImplicitDF": {
     "commandId": 3488743950502578,
     "dataframes": [
      "_sqldf"
     ]
    },
    "pythonIndentUnit": 4
   },
   "notebookName": "Gold_layer",
   "widgets": {}
  }
 },
 "nbformat": 4,
 "nbformat_minor": 0
}
