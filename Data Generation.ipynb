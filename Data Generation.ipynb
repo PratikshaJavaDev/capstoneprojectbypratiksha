{
 "cells": [
  {
   "cell_type": "code",
   "execution_count": 0,
   "metadata": {
    "application/vnd.databricks.v1+cell": {
     "cellMetadata": {},
     "inputWidgets": {},
     "nuid": "393eeb45-ebd2-4567-a2e1-fc9a5715a738",
     "showTitle": false,
     "title": ""
    }
   },
   "outputs": [],
   "source": [
    "import pandas as pd\n",
    "import os\n",
    "import logging\n",
    "import time\n",
    "\n",
    "# Setup logging\n",
    "logging.basicConfig(level=logging.INFO, format='%(asctime)s - %(levelname)s - %(message)s')\n",
    "\n",
    "# Replace with your actual paths\n",
    "input_file_path = r\"C:\\Users\\pratikshars\\Desktop\\capstone\\Dataset\\transactions.csv\"\n",
    "batch_folder_path = r\"C:\\Users\\pratikshars\\Desktop\\capstone\\Dataset\\transactionsBatchFile\"\n",
    "\n",
    "# Read the entire dataset\n",
    "transactions_df = pd.read_csv(input_file_path)\n",
    "\n",
    "# Calculate the number of batches needed\n",
    "num_records = len(transactions_df)\n",
    "batch_size = 50\n",
    "num_batches = num_records // batch_size\n",
    "\n",
    "if not os.path.exists(batch_folder_path):\n",
    "    os.makedirs(batch_folder_path)\n",
    "\n",
    "try:\n",
    "    for batch_num in range(num_batches):\n",
    "        start_index = batch_num * batch_size\n",
    "        end_index = start_index + batch_size\n",
    "        batch_df = transactions_df.iloc[start_index:end_index]\n",
    "        \n",
    "        batch_file_path = os.path.join(batch_folder_path, f\"transactions_batch_{batch_num + 1}.csv\")\n",
    "        batch_df.to_csv(batch_file_path, index=False)\n",
    "        \n",
    "        logging.info(f\"Batch {batch_num + 1} saved to {batch_file_path}.\")\n",
    "\n",
    "        # Wait for 30 seconds before processing the next batch\n",
    "        time.sleep(30)\n",
    "\n",
    "except KeyboardInterrupt:\n",
    "    logging.info(\"Script interrupted by user. Exiting...\")\n",
    "except Exception as e:\n",
    "    logging.error(f\"An error occurred: {e}\")\n"
   ]
  }
 ],
 "metadata": {
  "application/vnd.databricks.v1+notebook": {
   "dashboards": [],
   "environmentMetadata": null,
   "language": "python",
   "notebookMetadata": {
    "pythonIndentUnit": 4
   },
   "notebookName": "Data Generation",
   "widgets": {}
  }
 },
 "nbformat": 4,
 "nbformat_minor": 0
}
